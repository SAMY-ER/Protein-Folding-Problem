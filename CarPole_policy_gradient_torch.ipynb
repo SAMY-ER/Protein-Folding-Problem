{
 "cells": [
  {
   "cell_type": "code",
   "execution_count": 1,
   "metadata": {
    "ExecuteTime": {
     "end_time": "2019-09-28T09:34:38.115344Z",
     "start_time": "2019-09-28T09:34:37.846886Z"
    }
   },
   "outputs": [],
   "source": [
    "import sys\n",
    "import torch  \n",
    "import gym\n",
    "import numpy as np  \n",
    "import torch.nn as nn\n",
    "import torch.optim as optim\n",
    "import torch.nn.functional as F\n",
    "from torch.autograd import Variable\n",
    "import matplotlib.pyplot as plt\n",
    "\n",
    "# Constants\n",
    "GAMMA = 0.9\n",
    "\n",
    "class PolicyNetwork(nn.Module):\n",
    "    def __init__(self, num_inputs, num_actions, hidden_size, learning_rate=3e-4):\n",
    "        super(PolicyNetwork, self).__init__()\n",
    "\n",
    "        self.num_actions = num_actions\n",
    "        self.linear1 = nn.Linear(num_inputs, hidden_size)\n",
    "        self.linear2 = nn.Linear(hidden_size, num_actions)\n",
    "        self.optimizer = optim.Adam(self.parameters(), lr=learning_rate)\n",
    "\n",
    "    def forward(self, state):\n",
    "        x = F.relu(self.linear1(state))\n",
    "        x = F.softmax(self.linear2(x), dim=1)\n",
    "        return x \n",
    "    \n",
    "    def get_action(self, state):\n",
    "        state = torch.from_numpy(state).float().unsqueeze(0)\n",
    "        probs = self.forward(Variable(state))\n",
    "        highest_prob_action = np.random.choice(self.num_actions, p=np.squeeze(probs.detach().numpy()))\n",
    "        log_prob = torch.log(probs.squeeze(0)[highest_prob_action])\n",
    "        return highest_prob_action, log_prob"
   ]
  },
  {
   "cell_type": "code",
   "execution_count": 3,
   "metadata": {
    "ExecuteTime": {
     "end_time": "2019-09-28T08:55:48.434068Z",
     "start_time": "2019-09-28T08:55:48.426748Z"
    }
   },
   "outputs": [],
   "source": [
    "def update_policy(policy_network, rewards, log_probs):\n",
    "    discounted_rewards = []\n",
    "\n",
    "    for t in range(len(rewards)):\n",
    "        Gt = 0 \n",
    "        pw = 0\n",
    "        for r in rewards[t:]:\n",
    "            Gt = Gt + GAMMA**pw * r\n",
    "            pw = pw + 1\n",
    "        discounted_rewards.append(Gt)\n",
    "        \n",
    "    discounted_rewards = torch.tensor(discounted_rewards)\n",
    "    discounted_rewards = (discounted_rewards - discounted_rewards.mean()) / (discounted_rewards.std() + 1e-9) # normalize discounted rewards\n",
    "\n",
    "    policy_gradient = []\n",
    "    for log_prob, Gt in zip(log_probs, discounted_rewards):\n",
    "        policy_gradient.append(-log_prob * Gt)\n",
    "    \n",
    "    policy_network.optimizer.zero_grad()\n",
    "    policy_gradient = torch.stack(policy_gradient).sum()\n",
    "    policy_gradient.backward()\n",
    "    policy_network.optimizer.step()"
   ]
  },
  {
   "cell_type": "code",
   "execution_count": 6,
   "metadata": {
    "ExecuteTime": {
     "end_time": "2019-09-28T09:02:38.297791Z",
     "start_time": "2019-09-28T09:02:38.287036Z"
    }
   },
   "outputs": [],
   "source": [
    "def main():\n",
    "    env = gym.make('CartPole-v0')\n",
    "    policy_net = PolicyNetwork(env.observation_space.shape[0], env.action_space.n, 128)\n",
    "    \n",
    "    max_episode_num = 5000\n",
    "    max_steps = 10000\n",
    "    numsteps = []\n",
    "    avg_numsteps = []\n",
    "    all_rewards = []\n",
    "\n",
    "    for episode in range(max_episode_num):\n",
    "        state = env.reset()\n",
    "        log_probs = []\n",
    "        rewards = []\n",
    "\n",
    "        for steps in range(max_steps):\n",
    "            env.render()\n",
    "            action, log_prob = policy_net.get_action(state)\n",
    "            new_state, reward, done, _ = env.step(action)\n",
    "            log_probs.append(log_prob)\n",
    "            rewards.append(reward)\n",
    "\n",
    "            if done:\n",
    "                update_policy(policy_net, rewards, log_probs)\n",
    "                numsteps.append(steps)\n",
    "                avg_numsteps.append(np.mean(numsteps[-10:]))\n",
    "                all_rewards.append(np.sum(rewards))\n",
    "                if episode % 1 == 0:\n",
    "                    sys.stdout.write(\"episode: {}, total reward: {}, average_reward: {}, length: {}\\n\".format(episode, np.round(np.sum(rewards), decimals = 3),  np.round(np.mean(all_rewards[-10:]), decimals = 3), steps))\n",
    "                break\n",
    "            \n",
    "            state = new_state\n",
    "        \n",
    "    plt.plot(numsteps)\n",
    "    plt.plot(avg_numsteps)\n",
    "    plt.xlabel('Episode')\n",
    "    plt.show()\n",
    "    \n",
    "    return policy_net, all_rewards"
   ]
  },
  {
   "cell_type": "code",
   "execution_count": 7,
   "metadata": {
    "ExecuteTime": {
     "end_time": "2019-09-28T09:16:35.907735Z",
     "start_time": "2019-09-28T09:02:47.649166Z"
    }
   },
   "outputs": [
    {
     "name": "stdout",
     "output_type": "stream",
     "text": [
      "episode: 0, total reward: 12.0, average_reward: 12.0, length: 11\n",
      "episode: 1, total reward: 24.0, average_reward: 18.0, length: 23\n",
      "episode: 2, total reward: 34.0, average_reward: 23.333, length: 33\n",
      "episode: 3, total reward: 39.0, average_reward: 27.25, length: 38\n",
      "episode: 4, total reward: 62.0, average_reward: 34.2, length: 61\n",
      "episode: 5, total reward: 12.0, average_reward: 30.5, length: 11\n",
      "episode: 6, total reward: 29.0, average_reward: 30.286, length: 28\n",
      "episode: 7, total reward: 18.0, average_reward: 28.75, length: 17\n",
      "episode: 8, total reward: 19.0, average_reward: 27.667, length: 18\n",
      "episode: 9, total reward: 18.0, average_reward: 26.7, length: 17\n",
      "episode: 10, total reward: 16.0, average_reward: 27.1, length: 15\n",
      "episode: 11, total reward: 39.0, average_reward: 28.6, length: 38\n",
      "episode: 12, total reward: 40.0, average_reward: 29.2, length: 39\n",
      "episode: 13, total reward: 18.0, average_reward: 27.1, length: 17\n",
      "episode: 14, total reward: 14.0, average_reward: 22.3, length: 13\n",
      "episode: 15, total reward: 17.0, average_reward: 22.8, length: 16\n",
      "episode: 16, total reward: 22.0, average_reward: 22.1, length: 21\n",
      "episode: 17, total reward: 18.0, average_reward: 22.1, length: 17\n",
      "episode: 18, total reward: 9.0, average_reward: 21.1, length: 8\n",
      "episode: 19, total reward: 18.0, average_reward: 21.1, length: 17\n",
      "episode: 20, total reward: 45.0, average_reward: 24.0, length: 44\n",
      "episode: 21, total reward: 33.0, average_reward: 23.4, length: 32\n",
      "episode: 22, total reward: 17.0, average_reward: 21.1, length: 16\n",
      "episode: 23, total reward: 22.0, average_reward: 21.5, length: 21\n",
      "episode: 24, total reward: 18.0, average_reward: 21.9, length: 17\n",
      "episode: 25, total reward: 10.0, average_reward: 21.2, length: 9\n",
      "episode: 26, total reward: 26.0, average_reward: 21.6, length: 25\n",
      "episode: 27, total reward: 48.0, average_reward: 24.6, length: 47\n",
      "episode: 28, total reward: 40.0, average_reward: 27.7, length: 39\n",
      "episode: 29, total reward: 13.0, average_reward: 27.2, length: 12\n",
      "episode: 30, total reward: 16.0, average_reward: 24.3, length: 15\n",
      "episode: 31, total reward: 37.0, average_reward: 24.7, length: 36\n",
      "episode: 32, total reward: 15.0, average_reward: 24.5, length: 14\n",
      "episode: 33, total reward: 16.0, average_reward: 23.9, length: 15\n",
      "episode: 34, total reward: 12.0, average_reward: 23.3, length: 11\n",
      "episode: 35, total reward: 52.0, average_reward: 27.5, length: 51\n",
      "episode: 36, total reward: 9.0, average_reward: 25.8, length: 8\n",
      "episode: 37, total reward: 14.0, average_reward: 22.4, length: 13\n",
      "episode: 38, total reward: 23.0, average_reward: 20.7, length: 22\n",
      "episode: 39, total reward: 10.0, average_reward: 20.4, length: 9\n",
      "episode: 40, total reward: 25.0, average_reward: 21.3, length: 24\n",
      "episode: 41, total reward: 40.0, average_reward: 21.6, length: 39\n",
      "episode: 42, total reward: 54.0, average_reward: 25.5, length: 53\n",
      "episode: 43, total reward: 25.0, average_reward: 26.4, length: 24\n",
      "episode: 44, total reward: 32.0, average_reward: 28.4, length: 31\n",
      "episode: 45, total reward: 15.0, average_reward: 24.7, length: 14\n",
      "episode: 46, total reward: 22.0, average_reward: 26.0, length: 21\n",
      "episode: 47, total reward: 72.0, average_reward: 31.8, length: 71\n",
      "episode: 48, total reward: 55.0, average_reward: 35.0, length: 54\n",
      "episode: 49, total reward: 10.0, average_reward: 35.0, length: 9\n",
      "episode: 50, total reward: 32.0, average_reward: 35.7, length: 31\n",
      "episode: 51, total reward: 28.0, average_reward: 34.5, length: 27\n",
      "episode: 52, total reward: 15.0, average_reward: 30.6, length: 14\n",
      "episode: 53, total reward: 17.0, average_reward: 29.8, length: 16\n",
      "episode: 54, total reward: 41.0, average_reward: 30.7, length: 40\n",
      "episode: 55, total reward: 42.0, average_reward: 33.4, length: 41\n",
      "episode: 56, total reward: 16.0, average_reward: 32.8, length: 15\n",
      "episode: 57, total reward: 27.0, average_reward: 28.3, length: 26\n",
      "episode: 58, total reward: 12.0, average_reward: 24.0, length: 11\n",
      "episode: 59, total reward: 13.0, average_reward: 24.3, length: 12\n",
      "episode: 60, total reward: 40.0, average_reward: 25.1, length: 39\n",
      "episode: 61, total reward: 33.0, average_reward: 25.6, length: 32\n",
      "episode: 62, total reward: 40.0, average_reward: 28.1, length: 39\n",
      "episode: 63, total reward: 19.0, average_reward: 28.3, length: 18\n",
      "episode: 64, total reward: 9.0, average_reward: 25.1, length: 8\n",
      "episode: 65, total reward: 21.0, average_reward: 23.0, length: 20\n",
      "episode: 66, total reward: 15.0, average_reward: 22.9, length: 14\n",
      "episode: 67, total reward: 14.0, average_reward: 21.6, length: 13\n",
      "episode: 68, total reward: 90.0, average_reward: 29.4, length: 89\n",
      "episode: 69, total reward: 26.0, average_reward: 30.7, length: 25\n",
      "episode: 70, total reward: 39.0, average_reward: 30.6, length: 38\n",
      "episode: 71, total reward: 31.0, average_reward: 30.4, length: 30\n",
      "episode: 72, total reward: 12.0, average_reward: 27.6, length: 11\n",
      "episode: 73, total reward: 39.0, average_reward: 29.6, length: 38\n",
      "episode: 74, total reward: 36.0, average_reward: 32.3, length: 35\n",
      "episode: 75, total reward: 20.0, average_reward: 32.2, length: 19\n",
      "episode: 76, total reward: 33.0, average_reward: 34.0, length: 32\n",
      "episode: 77, total reward: 11.0, average_reward: 33.7, length: 10\n",
      "episode: 78, total reward: 12.0, average_reward: 25.9, length: 11\n",
      "episode: 79, total reward: 34.0, average_reward: 26.7, length: 33\n",
      "episode: 80, total reward: 16.0, average_reward: 24.4, length: 15\n",
      "episode: 81, total reward: 10.0, average_reward: 22.3, length: 9\n",
      "episode: 82, total reward: 32.0, average_reward: 24.3, length: 31\n",
      "episode: 83, total reward: 22.0, average_reward: 22.6, length: 21\n",
      "episode: 84, total reward: 22.0, average_reward: 21.2, length: 21\n",
      "episode: 85, total reward: 17.0, average_reward: 20.9, length: 16\n",
      "episode: 86, total reward: 12.0, average_reward: 18.8, length: 11\n",
      "episode: 87, total reward: 17.0, average_reward: 19.4, length: 16\n",
      "episode: 88, total reward: 19.0, average_reward: 20.1, length: 18\n",
      "episode: 89, total reward: 102.0, average_reward: 26.9, length: 101\n",
      "episode: 90, total reward: 33.0, average_reward: 28.6, length: 32\n",
      "episode: 91, total reward: 13.0, average_reward: 28.9, length: 12\n",
      "episode: 92, total reward: 22.0, average_reward: 27.9, length: 21\n",
      "episode: 93, total reward: 49.0, average_reward: 30.6, length: 48\n",
      "episode: 94, total reward: 20.0, average_reward: 30.4, length: 19\n",
      "episode: 95, total reward: 19.0, average_reward: 30.6, length: 18\n",
      "episode: 96, total reward: 30.0, average_reward: 32.4, length: 29\n",
      "episode: 97, total reward: 12.0, average_reward: 31.9, length: 11\n",
      "episode: 98, total reward: 12.0, average_reward: 31.2, length: 11\n",
      "episode: 99, total reward: 31.0, average_reward: 24.1, length: 30\n",
      "episode: 100, total reward: 21.0, average_reward: 22.9, length: 20\n",
      "episode: 101, total reward: 13.0, average_reward: 22.9, length: 12\n",
      "episode: 102, total reward: 9.0, average_reward: 21.6, length: 8\n",
      "episode: 103, total reward: 14.0, average_reward: 18.1, length: 13\n",
      "episode: 104, total reward: 18.0, average_reward: 17.9, length: 17\n",
      "episode: 105, total reward: 19.0, average_reward: 17.9, length: 18\n",
      "episode: 106, total reward: 13.0, average_reward: 16.2, length: 12\n",
      "episode: 107, total reward: 22.0, average_reward: 17.2, length: 21\n",
      "episode: 108, total reward: 14.0, average_reward: 17.4, length: 13\n",
      "episode: 109, total reward: 18.0, average_reward: 16.1, length: 17\n",
      "episode: 110, total reward: 47.0, average_reward: 18.7, length: 46\n",
      "episode: 111, total reward: 14.0, average_reward: 18.8, length: 13\n",
      "episode: 112, total reward: 41.0, average_reward: 22.0, length: 40\n",
      "episode: 113, total reward: 17.0, average_reward: 22.3, length: 16\n",
      "episode: 114, total reward: 28.0, average_reward: 23.3, length: 27\n",
      "episode: 115, total reward: 16.0, average_reward: 23.0, length: 15\n",
      "episode: 116, total reward: 33.0, average_reward: 25.0, length: 32\n",
      "episode: 117, total reward: 41.0, average_reward: 26.9, length: 40\n",
      "episode: 118, total reward: 11.0, average_reward: 26.6, length: 10\n",
      "episode: 119, total reward: 10.0, average_reward: 25.8, length: 9\n",
      "episode: 120, total reward: 25.0, average_reward: 23.6, length: 24\n",
      "episode: 121, total reward: 37.0, average_reward: 25.9, length: 36\n",
      "episode: 122, total reward: 30.0, average_reward: 24.8, length: 29\n",
      "episode: 123, total reward: 16.0, average_reward: 24.7, length: 15\n"
     ]
    },
    {
     "name": "stdout",
     "output_type": "stream",
     "text": [
      "episode: 124, total reward: 63.0, average_reward: 28.2, length: 62\n",
      "episode: 125, total reward: 24.0, average_reward: 29.0, length: 23\n",
      "episode: 126, total reward: 16.0, average_reward: 27.3, length: 15\n",
      "episode: 127, total reward: 20.0, average_reward: 25.2, length: 19\n",
      "episode: 128, total reward: 26.0, average_reward: 26.7, length: 25\n",
      "episode: 129, total reward: 24.0, average_reward: 28.1, length: 23\n",
      "episode: 130, total reward: 37.0, average_reward: 29.3, length: 36\n",
      "episode: 131, total reward: 63.0, average_reward: 31.9, length: 62\n",
      "episode: 132, total reward: 18.0, average_reward: 30.7, length: 17\n",
      "episode: 133, total reward: 34.0, average_reward: 32.5, length: 33\n",
      "episode: 134, total reward: 34.0, average_reward: 29.6, length: 33\n",
      "episode: 135, total reward: 22.0, average_reward: 29.4, length: 21\n",
      "episode: 136, total reward: 33.0, average_reward: 31.1, length: 32\n",
      "episode: 137, total reward: 28.0, average_reward: 31.9, length: 27\n",
      "episode: 138, total reward: 46.0, average_reward: 33.9, length: 45\n",
      "episode: 139, total reward: 16.0, average_reward: 33.1, length: 15\n",
      "episode: 140, total reward: 13.0, average_reward: 30.7, length: 12\n",
      "episode: 141, total reward: 39.0, average_reward: 28.3, length: 38\n",
      "episode: 142, total reward: 21.0, average_reward: 28.6, length: 20\n",
      "episode: 143, total reward: 38.0, average_reward: 29.0, length: 37\n",
      "episode: 144, total reward: 67.0, average_reward: 32.3, length: 66\n",
      "episode: 145, total reward: 32.0, average_reward: 33.3, length: 31\n",
      "episode: 146, total reward: 12.0, average_reward: 31.2, length: 11\n",
      "episode: 147, total reward: 28.0, average_reward: 31.2, length: 27\n",
      "episode: 148, total reward: 17.0, average_reward: 28.3, length: 16\n",
      "episode: 149, total reward: 119.0, average_reward: 38.6, length: 118\n",
      "episode: 150, total reward: 61.0, average_reward: 43.4, length: 60\n",
      "episode: 151, total reward: 20.0, average_reward: 41.5, length: 19\n",
      "episode: 152, total reward: 22.0, average_reward: 41.6, length: 21\n",
      "episode: 153, total reward: 19.0, average_reward: 39.7, length: 18\n",
      "episode: 154, total reward: 79.0, average_reward: 40.9, length: 78\n",
      "episode: 155, total reward: 14.0, average_reward: 39.1, length: 13\n",
      "episode: 156, total reward: 38.0, average_reward: 41.7, length: 37\n",
      "episode: 157, total reward: 37.0, average_reward: 42.6, length: 36\n",
      "episode: 158, total reward: 14.0, average_reward: 42.3, length: 13\n",
      "episode: 159, total reward: 15.0, average_reward: 31.9, length: 14\n",
      "episode: 160, total reward: 13.0, average_reward: 27.1, length: 12\n",
      "episode: 161, total reward: 39.0, average_reward: 29.0, length: 38\n",
      "episode: 162, total reward: 61.0, average_reward: 32.9, length: 60\n",
      "episode: 163, total reward: 43.0, average_reward: 35.3, length: 42\n",
      "episode: 164, total reward: 35.0, average_reward: 30.9, length: 34\n",
      "episode: 165, total reward: 19.0, average_reward: 31.4, length: 18\n",
      "episode: 166, total reward: 37.0, average_reward: 31.3, length: 36\n",
      "episode: 167, total reward: 40.0, average_reward: 31.6, length: 39\n",
      "episode: 168, total reward: 18.0, average_reward: 32.0, length: 17\n",
      "episode: 169, total reward: 12.0, average_reward: 31.7, length: 11\n",
      "episode: 170, total reward: 16.0, average_reward: 32.0, length: 15\n",
      "episode: 171, total reward: 26.0, average_reward: 30.7, length: 25\n",
      "episode: 172, total reward: 17.0, average_reward: 26.3, length: 16\n",
      "episode: 173, total reward: 19.0, average_reward: 23.9, length: 18\n",
      "episode: 174, total reward: 46.0, average_reward: 25.0, length: 45\n",
      "episode: 175, total reward: 32.0, average_reward: 26.3, length: 31\n",
      "episode: 176, total reward: 18.0, average_reward: 24.4, length: 17\n",
      "episode: 177, total reward: 50.0, average_reward: 25.4, length: 49\n",
      "episode: 178, total reward: 14.0, average_reward: 25.0, length: 13\n",
      "episode: 179, total reward: 14.0, average_reward: 25.2, length: 13\n",
      "episode: 180, total reward: 16.0, average_reward: 25.2, length: 15\n",
      "episode: 181, total reward: 48.0, average_reward: 27.4, length: 47\n",
      "episode: 182, total reward: 22.0, average_reward: 27.9, length: 21\n",
      "episode: 183, total reward: 47.0, average_reward: 30.7, length: 46\n",
      "episode: 184, total reward: 27.0, average_reward: 28.8, length: 26\n",
      "episode: 185, total reward: 46.0, average_reward: 30.2, length: 45\n",
      "episode: 186, total reward: 16.0, average_reward: 30.0, length: 15\n",
      "episode: 187, total reward: 26.0, average_reward: 27.6, length: 25\n",
      "episode: 188, total reward: 28.0, average_reward: 29.0, length: 27\n",
      "episode: 189, total reward: 49.0, average_reward: 32.5, length: 48\n",
      "episode: 190, total reward: 24.0, average_reward: 33.3, length: 23\n",
      "episode: 191, total reward: 20.0, average_reward: 30.5, length: 19\n",
      "episode: 192, total reward: 24.0, average_reward: 30.7, length: 23\n",
      "episode: 193, total reward: 18.0, average_reward: 27.8, length: 17\n",
      "episode: 194, total reward: 30.0, average_reward: 28.1, length: 29\n",
      "episode: 195, total reward: 55.0, average_reward: 29.0, length: 54\n",
      "episode: 196, total reward: 22.0, average_reward: 29.6, length: 21\n",
      "episode: 197, total reward: 25.0, average_reward: 29.5, length: 24\n",
      "episode: 198, total reward: 47.0, average_reward: 31.4, length: 46\n",
      "episode: 199, total reward: 27.0, average_reward: 29.2, length: 26\n",
      "episode: 200, total reward: 17.0, average_reward: 28.5, length: 16\n",
      "episode: 201, total reward: 30.0, average_reward: 29.5, length: 29\n",
      "episode: 202, total reward: 18.0, average_reward: 28.9, length: 17\n",
      "episode: 203, total reward: 11.0, average_reward: 28.2, length: 10\n",
      "episode: 204, total reward: 76.0, average_reward: 32.8, length: 75\n",
      "episode: 205, total reward: 32.0, average_reward: 30.5, length: 31\n",
      "episode: 206, total reward: 60.0, average_reward: 34.3, length: 59\n",
      "episode: 207, total reward: 42.0, average_reward: 36.0, length: 41\n",
      "episode: 208, total reward: 42.0, average_reward: 35.5, length: 41\n",
      "episode: 209, total reward: 21.0, average_reward: 34.9, length: 20\n",
      "episode: 210, total reward: 34.0, average_reward: 36.6, length: 33\n",
      "episode: 211, total reward: 31.0, average_reward: 36.7, length: 30\n",
      "episode: 212, total reward: 21.0, average_reward: 37.0, length: 20\n",
      "episode: 213, total reward: 37.0, average_reward: 39.6, length: 36\n",
      "episode: 214, total reward: 17.0, average_reward: 33.7, length: 16\n",
      "episode: 215, total reward: 32.0, average_reward: 33.7, length: 31\n",
      "episode: 216, total reward: 45.0, average_reward: 32.2, length: 44\n",
      "episode: 217, total reward: 24.0, average_reward: 30.4, length: 23\n",
      "episode: 218, total reward: 32.0, average_reward: 29.4, length: 31\n",
      "episode: 219, total reward: 39.0, average_reward: 31.2, length: 38\n",
      "episode: 220, total reward: 42.0, average_reward: 32.0, length: 41\n",
      "episode: 221, total reward: 62.0, average_reward: 35.1, length: 61\n",
      "episode: 222, total reward: 21.0, average_reward: 35.1, length: 20\n",
      "episode: 223, total reward: 34.0, average_reward: 34.8, length: 33\n",
      "episode: 224, total reward: 24.0, average_reward: 35.5, length: 23\n",
      "episode: 225, total reward: 19.0, average_reward: 34.2, length: 18\n",
      "episode: 226, total reward: 18.0, average_reward: 31.5, length: 17\n",
      "episode: 227, total reward: 82.0, average_reward: 37.3, length: 81\n",
      "episode: 228, total reward: 81.0, average_reward: 42.2, length: 80\n",
      "episode: 229, total reward: 25.0, average_reward: 40.8, length: 24\n",
      "episode: 230, total reward: 22.0, average_reward: 38.8, length: 21\n",
      "episode: 231, total reward: 27.0, average_reward: 35.3, length: 26\n",
      "episode: 232, total reward: 13.0, average_reward: 34.5, length: 12\n",
      "episode: 233, total reward: 77.0, average_reward: 38.8, length: 76\n",
      "episode: 234, total reward: 52.0, average_reward: 41.6, length: 51\n",
      "episode: 235, total reward: 29.0, average_reward: 42.6, length: 28\n",
      "episode: 236, total reward: 25.0, average_reward: 43.3, length: 24\n",
      "episode: 237, total reward: 19.0, average_reward: 37.0, length: 18\n",
      "episode: 238, total reward: 39.0, average_reward: 32.8, length: 38\n",
      "episode: 239, total reward: 33.0, average_reward: 33.6, length: 32\n",
      "episode: 240, total reward: 32.0, average_reward: 34.6, length: 31\n",
      "episode: 241, total reward: 10.0, average_reward: 32.9, length: 9\n",
      "episode: 242, total reward: 20.0, average_reward: 33.6, length: 19\n",
      "episode: 243, total reward: 71.0, average_reward: 33.0, length: 70\n",
      "episode: 244, total reward: 24.0, average_reward: 30.2, length: 23\n",
      "episode: 245, total reward: 41.0, average_reward: 31.4, length: 40\n",
      "episode: 246, total reward: 28.0, average_reward: 31.7, length: 27\n",
      "episode: 247, total reward: 17.0, average_reward: 31.5, length: 16\n",
      "episode: 248, total reward: 17.0, average_reward: 29.3, length: 16\n",
      "episode: 249, total reward: 45.0, average_reward: 30.5, length: 44\n",
      "episode: 250, total reward: 58.0, average_reward: 33.1, length: 57\n"
     ]
    },
    {
     "name": "stdout",
     "output_type": "stream",
     "text": [
      "episode: 251, total reward: 21.0, average_reward: 34.2, length: 20\n",
      "episode: 252, total reward: 19.0, average_reward: 34.1, length: 18\n",
      "episode: 253, total reward: 15.0, average_reward: 28.5, length: 14\n",
      "episode: 254, total reward: 80.0, average_reward: 34.1, length: 79\n",
      "episode: 255, total reward: 16.0, average_reward: 31.6, length: 15\n",
      "episode: 256, total reward: 23.0, average_reward: 31.1, length: 22\n",
      "episode: 257, total reward: 64.0, average_reward: 35.8, length: 63\n",
      "episode: 258, total reward: 108.0, average_reward: 44.9, length: 107\n",
      "episode: 259, total reward: 64.0, average_reward: 46.8, length: 63\n",
      "episode: 260, total reward: 32.0, average_reward: 44.2, length: 31\n",
      "episode: 261, total reward: 61.0, average_reward: 48.2, length: 60\n",
      "episode: 262, total reward: 28.0, average_reward: 49.1, length: 27\n",
      "episode: 263, total reward: 67.0, average_reward: 54.3, length: 66\n",
      "episode: 264, total reward: 31.0, average_reward: 49.4, length: 30\n",
      "episode: 265, total reward: 27.0, average_reward: 50.5, length: 26\n",
      "episode: 266, total reward: 18.0, average_reward: 50.0, length: 17\n",
      "episode: 267, total reward: 81.0, average_reward: 51.7, length: 80\n",
      "episode: 268, total reward: 45.0, average_reward: 45.4, length: 44\n",
      "episode: 269, total reward: 55.0, average_reward: 44.5, length: 54\n",
      "episode: 270, total reward: 29.0, average_reward: 44.2, length: 28\n",
      "episode: 271, total reward: 51.0, average_reward: 43.2, length: 50\n",
      "episode: 272, total reward: 14.0, average_reward: 41.8, length: 13\n",
      "episode: 273, total reward: 18.0, average_reward: 36.9, length: 17\n",
      "episode: 274, total reward: 33.0, average_reward: 37.1, length: 32\n",
      "episode: 275, total reward: 78.0, average_reward: 42.2, length: 77\n",
      "episode: 276, total reward: 32.0, average_reward: 43.6, length: 31\n",
      "episode: 277, total reward: 32.0, average_reward: 38.7, length: 31\n",
      "episode: 278, total reward: 27.0, average_reward: 36.9, length: 26\n",
      "episode: 279, total reward: 47.0, average_reward: 36.1, length: 46\n",
      "episode: 280, total reward: 48.0, average_reward: 38.0, length: 47\n",
      "episode: 281, total reward: 13.0, average_reward: 34.2, length: 12\n",
      "episode: 282, total reward: 19.0, average_reward: 34.7, length: 18\n",
      "episode: 283, total reward: 91.0, average_reward: 42.0, length: 90\n",
      "episode: 284, total reward: 50.0, average_reward: 43.7, length: 49\n",
      "episode: 285, total reward: 20.0, average_reward: 37.9, length: 19\n",
      "episode: 286, total reward: 82.0, average_reward: 42.9, length: 81\n",
      "episode: 287, total reward: 79.0, average_reward: 47.6, length: 78\n",
      "episode: 288, total reward: 30.0, average_reward: 47.9, length: 29\n",
      "episode: 289, total reward: 49.0, average_reward: 48.1, length: 48\n",
      "episode: 290, total reward: 29.0, average_reward: 46.2, length: 28\n",
      "episode: 291, total reward: 61.0, average_reward: 51.0, length: 60\n",
      "episode: 292, total reward: 26.0, average_reward: 51.7, length: 25\n",
      "episode: 293, total reward: 35.0, average_reward: 46.1, length: 34\n",
      "episode: 294, total reward: 48.0, average_reward: 45.9, length: 47\n",
      "episode: 295, total reward: 48.0, average_reward: 48.7, length: 47\n",
      "episode: 296, total reward: 110.0, average_reward: 51.5, length: 109\n",
      "episode: 297, total reward: 14.0, average_reward: 45.0, length: 13\n",
      "episode: 298, total reward: 23.0, average_reward: 44.3, length: 22\n",
      "episode: 299, total reward: 65.0, average_reward: 45.9, length: 64\n",
      "episode: 300, total reward: 39.0, average_reward: 46.9, length: 38\n",
      "episode: 301, total reward: 47.0, average_reward: 45.5, length: 46\n",
      "episode: 302, total reward: 32.0, average_reward: 46.1, length: 31\n",
      "episode: 303, total reward: 34.0, average_reward: 46.0, length: 33\n",
      "episode: 304, total reward: 117.0, average_reward: 52.9, length: 116\n",
      "episode: 305, total reward: 19.0, average_reward: 50.0, length: 18\n",
      "episode: 306, total reward: 33.0, average_reward: 42.3, length: 32\n",
      "episode: 307, total reward: 76.0, average_reward: 48.5, length: 75\n",
      "episode: 308, total reward: 40.0, average_reward: 50.2, length: 39\n",
      "episode: 309, total reward: 32.0, average_reward: 46.9, length: 31\n",
      "episode: 310, total reward: 26.0, average_reward: 45.6, length: 25\n",
      "episode: 311, total reward: 87.0, average_reward: 49.6, length: 86\n",
      "episode: 312, total reward: 94.0, average_reward: 55.8, length: 93\n",
      "episode: 313, total reward: 83.0, average_reward: 60.7, length: 82\n",
      "episode: 314, total reward: 17.0, average_reward: 50.7, length: 16\n",
      "episode: 315, total reward: 63.0, average_reward: 55.1, length: 62\n",
      "episode: 316, total reward: 27.0, average_reward: 54.5, length: 26\n",
      "episode: 317, total reward: 98.0, average_reward: 56.7, length: 97\n",
      "episode: 318, total reward: 19.0, average_reward: 54.6, length: 18\n",
      "episode: 319, total reward: 121.0, average_reward: 63.5, length: 120\n",
      "episode: 320, total reward: 60.0, average_reward: 66.9, length: 59\n",
      "episode: 321, total reward: 26.0, average_reward: 60.8, length: 25\n",
      "episode: 322, total reward: 16.0, average_reward: 53.0, length: 15\n",
      "episode: 323, total reward: 21.0, average_reward: 46.8, length: 20\n",
      "episode: 324, total reward: 29.0, average_reward: 48.0, length: 28\n",
      "episode: 325, total reward: 31.0, average_reward: 44.8, length: 30\n",
      "episode: 326, total reward: 17.0, average_reward: 43.8, length: 16\n",
      "episode: 327, total reward: 17.0, average_reward: 35.7, length: 16\n",
      "episode: 328, total reward: 27.0, average_reward: 36.5, length: 26\n",
      "episode: 329, total reward: 67.0, average_reward: 31.1, length: 66\n",
      "episode: 330, total reward: 40.0, average_reward: 29.1, length: 39\n",
      "episode: 331, total reward: 81.0, average_reward: 34.6, length: 80\n",
      "episode: 332, total reward: 23.0, average_reward: 35.3, length: 22\n",
      "episode: 333, total reward: 67.0, average_reward: 39.9, length: 66\n",
      "episode: 334, total reward: 81.0, average_reward: 45.1, length: 80\n",
      "episode: 335, total reward: 46.0, average_reward: 46.6, length: 45\n",
      "episode: 336, total reward: 59.0, average_reward: 50.8, length: 58\n",
      "episode: 337, total reward: 79.0, average_reward: 57.0, length: 78\n",
      "episode: 338, total reward: 119.0, average_reward: 66.2, length: 118\n",
      "episode: 339, total reward: 43.0, average_reward: 63.8, length: 42\n",
      "episode: 340, total reward: 98.0, average_reward: 69.6, length: 97\n",
      "episode: 341, total reward: 31.0, average_reward: 64.6, length: 30\n",
      "episode: 342, total reward: 29.0, average_reward: 65.2, length: 28\n",
      "episode: 343, total reward: 26.0, average_reward: 61.1, length: 25\n",
      "episode: 344, total reward: 48.0, average_reward: 57.8, length: 47\n",
      "episode: 345, total reward: 12.0, average_reward: 54.4, length: 11\n",
      "episode: 346, total reward: 35.0, average_reward: 52.0, length: 34\n",
      "episode: 347, total reward: 15.0, average_reward: 45.6, length: 14\n",
      "episode: 348, total reward: 92.0, average_reward: 42.9, length: 91\n",
      "episode: 349, total reward: 27.0, average_reward: 41.3, length: 26\n",
      "episode: 350, total reward: 33.0, average_reward: 34.8, length: 32\n",
      "episode: 351, total reward: 45.0, average_reward: 36.2, length: 44\n",
      "episode: 352, total reward: 47.0, average_reward: 38.0, length: 46\n",
      "episode: 353, total reward: 27.0, average_reward: 38.1, length: 26\n",
      "episode: 354, total reward: 63.0, average_reward: 39.6, length: 62\n",
      "episode: 355, total reward: 70.0, average_reward: 45.4, length: 69\n",
      "episode: 356, total reward: 53.0, average_reward: 47.2, length: 52\n",
      "episode: 357, total reward: 92.0, average_reward: 54.9, length: 91\n",
      "episode: 358, total reward: 51.0, average_reward: 50.8, length: 50\n",
      "episode: 359, total reward: 33.0, average_reward: 51.4, length: 32\n",
      "episode: 360, total reward: 33.0, average_reward: 51.4, length: 32\n",
      "episode: 361, total reward: 142.0, average_reward: 61.1, length: 141\n",
      "episode: 362, total reward: 22.0, average_reward: 58.6, length: 21\n",
      "episode: 363, total reward: 39.0, average_reward: 59.8, length: 38\n",
      "episode: 364, total reward: 11.0, average_reward: 54.6, length: 10\n",
      "episode: 365, total reward: 59.0, average_reward: 53.5, length: 58\n",
      "episode: 366, total reward: 22.0, average_reward: 50.4, length: 21\n",
      "episode: 367, total reward: 33.0, average_reward: 44.5, length: 32\n",
      "episode: 368, total reward: 86.0, average_reward: 48.0, length: 85\n",
      "episode: 369, total reward: 27.0, average_reward: 47.4, length: 26\n",
      "episode: 370, total reward: 29.0, average_reward: 47.0, length: 28\n",
      "episode: 371, total reward: 18.0, average_reward: 34.6, length: 17\n",
      "episode: 372, total reward: 84.0, average_reward: 40.8, length: 83\n",
      "episode: 373, total reward: 27.0, average_reward: 39.6, length: 26\n",
      "episode: 374, total reward: 130.0, average_reward: 51.5, length: 129\n",
      "episode: 375, total reward: 49.0, average_reward: 50.5, length: 48\n",
      "episode: 376, total reward: 27.0, average_reward: 51.0, length: 26\n"
     ]
    },
    {
     "name": "stdout",
     "output_type": "stream",
     "text": [
      "episode: 377, total reward: 48.0, average_reward: 52.5, length: 47\n",
      "episode: 378, total reward: 44.0, average_reward: 48.3, length: 43\n",
      "episode: 379, total reward: 77.0, average_reward: 53.3, length: 76\n",
      "episode: 380, total reward: 29.0, average_reward: 53.3, length: 28\n",
      "episode: 381, total reward: 99.0, average_reward: 61.4, length: 98\n",
      "episode: 382, total reward: 151.0, average_reward: 68.1, length: 150\n",
      "episode: 383, total reward: 20.0, average_reward: 67.4, length: 19\n",
      "episode: 384, total reward: 62.0, average_reward: 60.6, length: 61\n",
      "episode: 385, total reward: 115.0, average_reward: 67.2, length: 114\n",
      "episode: 386, total reward: 31.0, average_reward: 67.6, length: 30\n",
      "episode: 387, total reward: 42.0, average_reward: 67.0, length: 41\n",
      "episode: 388, total reward: 91.0, average_reward: 71.7, length: 90\n",
      "episode: 389, total reward: 42.0, average_reward: 68.2, length: 41\n",
      "episode: 390, total reward: 60.0, average_reward: 71.3, length: 59\n",
      "episode: 391, total reward: 28.0, average_reward: 64.2, length: 27\n",
      "episode: 392, total reward: 17.0, average_reward: 50.8, length: 16\n",
      "episode: 393, total reward: 152.0, average_reward: 64.0, length: 151\n",
      "episode: 394, total reward: 15.0, average_reward: 59.3, length: 14\n",
      "episode: 395, total reward: 70.0, average_reward: 54.8, length: 69\n",
      "episode: 396, total reward: 32.0, average_reward: 54.9, length: 31\n",
      "episode: 397, total reward: 22.0, average_reward: 52.9, length: 21\n",
      "episode: 398, total reward: 21.0, average_reward: 45.9, length: 20\n",
      "episode: 399, total reward: 21.0, average_reward: 43.8, length: 20\n",
      "episode: 400, total reward: 53.0, average_reward: 43.1, length: 52\n",
      "episode: 401, total reward: 168.0, average_reward: 57.1, length: 167\n",
      "episode: 402, total reward: 26.0, average_reward: 58.0, length: 25\n",
      "episode: 403, total reward: 26.0, average_reward: 45.4, length: 25\n",
      "episode: 404, total reward: 114.0, average_reward: 55.3, length: 113\n",
      "episode: 405, total reward: 54.0, average_reward: 53.7, length: 53\n",
      "episode: 406, total reward: 164.0, average_reward: 66.9, length: 163\n",
      "episode: 407, total reward: 30.0, average_reward: 67.7, length: 29\n",
      "episode: 408, total reward: 94.0, average_reward: 75.0, length: 93\n",
      "episode: 409, total reward: 125.0, average_reward: 85.4, length: 124\n",
      "episode: 410, total reward: 79.0, average_reward: 88.0, length: 78\n",
      "episode: 411, total reward: 28.0, average_reward: 74.0, length: 27\n",
      "episode: 412, total reward: 110.0, average_reward: 82.4, length: 109\n",
      "episode: 413, total reward: 22.0, average_reward: 82.0, length: 21\n",
      "episode: 414, total reward: 34.0, average_reward: 74.0, length: 33\n",
      "episode: 415, total reward: 85.0, average_reward: 77.1, length: 84\n",
      "episode: 416, total reward: 31.0, average_reward: 63.8, length: 30\n",
      "episode: 417, total reward: 25.0, average_reward: 63.3, length: 24\n",
      "episode: 418, total reward: 143.0, average_reward: 68.2, length: 142\n",
      "episode: 419, total reward: 64.0, average_reward: 62.1, length: 63\n",
      "episode: 420, total reward: 99.0, average_reward: 64.1, length: 98\n",
      "episode: 421, total reward: 61.0, average_reward: 67.4, length: 60\n",
      "episode: 422, total reward: 72.0, average_reward: 63.6, length: 71\n",
      "episode: 423, total reward: 150.0, average_reward: 76.4, length: 149\n",
      "episode: 424, total reward: 71.0, average_reward: 80.1, length: 70\n",
      "episode: 425, total reward: 82.0, average_reward: 79.8, length: 81\n",
      "episode: 426, total reward: 20.0, average_reward: 78.7, length: 19\n",
      "episode: 427, total reward: 24.0, average_reward: 78.6, length: 23\n",
      "episode: 428, total reward: 51.0, average_reward: 69.4, length: 50\n",
      "episode: 429, total reward: 162.0, average_reward: 79.2, length: 161\n",
      "episode: 430, total reward: 141.0, average_reward: 83.4, length: 140\n",
      "episode: 431, total reward: 65.0, average_reward: 83.8, length: 64\n",
      "episode: 432, total reward: 110.0, average_reward: 87.6, length: 109\n",
      "episode: 433, total reward: 129.0, average_reward: 85.5, length: 128\n",
      "episode: 434, total reward: 61.0, average_reward: 84.5, length: 60\n",
      "episode: 435, total reward: 44.0, average_reward: 80.7, length: 43\n",
      "episode: 436, total reward: 75.0, average_reward: 86.2, length: 74\n",
      "episode: 437, total reward: 14.0, average_reward: 85.2, length: 13\n",
      "episode: 438, total reward: 200.0, average_reward: 100.1, length: 199\n",
      "episode: 439, total reward: 95.0, average_reward: 93.4, length: 94\n",
      "episode: 440, total reward: 42.0, average_reward: 83.5, length: 41\n",
      "episode: 441, total reward: 67.0, average_reward: 83.7, length: 66\n",
      "episode: 442, total reward: 114.0, average_reward: 84.1, length: 113\n",
      "episode: 443, total reward: 115.0, average_reward: 82.7, length: 114\n",
      "episode: 444, total reward: 107.0, average_reward: 87.3, length: 106\n",
      "episode: 445, total reward: 26.0, average_reward: 85.5, length: 25\n",
      "episode: 446, total reward: 60.0, average_reward: 84.0, length: 59\n",
      "episode: 447, total reward: 25.0, average_reward: 85.1, length: 24\n",
      "episode: 448, total reward: 44.0, average_reward: 69.5, length: 43\n",
      "episode: 449, total reward: 53.0, average_reward: 65.3, length: 52\n",
      "episode: 450, total reward: 13.0, average_reward: 62.4, length: 12\n",
      "episode: 451, total reward: 122.0, average_reward: 67.9, length: 121\n",
      "episode: 452, total reward: 95.0, average_reward: 66.0, length: 94\n",
      "episode: 453, total reward: 98.0, average_reward: 64.3, length: 97\n",
      "episode: 454, total reward: 90.0, average_reward: 62.6, length: 89\n",
      "episode: 455, total reward: 57.0, average_reward: 65.7, length: 56\n",
      "episode: 456, total reward: 137.0, average_reward: 73.4, length: 136\n",
      "episode: 457, total reward: 82.0, average_reward: 79.1, length: 81\n",
      "episode: 458, total reward: 125.0, average_reward: 87.2, length: 124\n",
      "episode: 459, total reward: 153.0, average_reward: 97.2, length: 152\n",
      "episode: 460, total reward: 122.0, average_reward: 108.1, length: 121\n",
      "episode: 461, total reward: 72.0, average_reward: 103.1, length: 71\n",
      "episode: 462, total reward: 43.0, average_reward: 97.9, length: 42\n",
      "episode: 463, total reward: 131.0, average_reward: 101.2, length: 130\n",
      "episode: 464, total reward: 79.0, average_reward: 100.1, length: 78\n",
      "episode: 465, total reward: 200.0, average_reward: 114.4, length: 199\n",
      "episode: 466, total reward: 39.0, average_reward: 104.6, length: 38\n",
      "episode: 467, total reward: 67.0, average_reward: 103.1, length: 66\n",
      "episode: 468, total reward: 88.0, average_reward: 99.4, length: 87\n",
      "episode: 469, total reward: 75.0, average_reward: 91.6, length: 74\n",
      "episode: 470, total reward: 30.0, average_reward: 82.4, length: 29\n",
      "episode: 471, total reward: 147.0, average_reward: 89.9, length: 146\n",
      "episode: 472, total reward: 46.0, average_reward: 90.2, length: 45\n",
      "episode: 473, total reward: 104.0, average_reward: 87.5, length: 103\n",
      "episode: 474, total reward: 141.0, average_reward: 93.7, length: 140\n",
      "episode: 475, total reward: 59.0, average_reward: 79.6, length: 58\n",
      "episode: 476, total reward: 16.0, average_reward: 77.3, length: 15\n",
      "episode: 477, total reward: 35.0, average_reward: 74.1, length: 34\n",
      "episode: 478, total reward: 123.0, average_reward: 77.6, length: 122\n",
      "episode: 479, total reward: 59.0, average_reward: 76.0, length: 58\n",
      "episode: 480, total reward: 68.0, average_reward: 79.8, length: 67\n",
      "episode: 481, total reward: 113.0, average_reward: 76.4, length: 112\n",
      "episode: 482, total reward: 79.0, average_reward: 79.7, length: 78\n",
      "episode: 483, total reward: 53.0, average_reward: 74.6, length: 52\n",
      "episode: 484, total reward: 138.0, average_reward: 74.3, length: 137\n",
      "episode: 485, total reward: 175.0, average_reward: 85.9, length: 174\n",
      "episode: 486, total reward: 31.0, average_reward: 87.4, length: 30\n",
      "episode: 487, total reward: 45.0, average_reward: 88.4, length: 44\n",
      "episode: 488, total reward: 73.0, average_reward: 83.4, length: 72\n",
      "episode: 489, total reward: 98.0, average_reward: 87.3, length: 97\n",
      "episode: 490, total reward: 33.0, average_reward: 83.8, length: 32\n",
      "episode: 491, total reward: 173.0, average_reward: 89.8, length: 172\n",
      "episode: 492, total reward: 68.0, average_reward: 88.7, length: 67\n",
      "episode: 493, total reward: 95.0, average_reward: 92.9, length: 94\n",
      "episode: 494, total reward: 199.0, average_reward: 99.0, length: 198\n",
      "episode: 495, total reward: 110.0, average_reward: 92.5, length: 109\n",
      "episode: 496, total reward: 164.0, average_reward: 105.8, length: 163\n",
      "episode: 497, total reward: 64.0, average_reward: 107.7, length: 63\n",
      "episode: 498, total reward: 21.0, average_reward: 102.5, length: 20\n"
     ]
    },
    {
     "name": "stdout",
     "output_type": "stream",
     "text": [
      "episode: 499, total reward: 139.0, average_reward: 106.6, length: 138\n",
      "episode: 500, total reward: 39.0, average_reward: 107.2, length: 38\n",
      "episode: 501, total reward: 160.0, average_reward: 105.9, length: 159\n",
      "episode: 502, total reward: 91.0, average_reward: 108.2, length: 90\n",
      "episode: 503, total reward: 177.0, average_reward: 116.4, length: 176\n",
      "episode: 504, total reward: 49.0, average_reward: 101.4, length: 48\n",
      "episode: 505, total reward: 56.0, average_reward: 96.0, length: 55\n",
      "episode: 506, total reward: 20.0, average_reward: 81.6, length: 19\n",
      "episode: 507, total reward: 170.0, average_reward: 92.2, length: 169\n",
      "episode: 508, total reward: 99.0, average_reward: 100.0, length: 98\n",
      "episode: 509, total reward: 82.0, average_reward: 94.3, length: 81\n",
      "episode: 510, total reward: 33.0, average_reward: 93.7, length: 32\n",
      "episode: 511, total reward: 159.0, average_reward: 93.6, length: 158\n",
      "episode: 512, total reward: 80.0, average_reward: 92.5, length: 79\n",
      "episode: 513, total reward: 78.0, average_reward: 82.6, length: 77\n",
      "episode: 514, total reward: 44.0, average_reward: 82.1, length: 43\n",
      "episode: 515, total reward: 186.0, average_reward: 95.1, length: 185\n",
      "episode: 516, total reward: 83.0, average_reward: 101.4, length: 82\n",
      "episode: 517, total reward: 124.0, average_reward: 96.8, length: 123\n",
      "episode: 518, total reward: 29.0, average_reward: 89.8, length: 28\n",
      "episode: 519, total reward: 37.0, average_reward: 85.3, length: 36\n",
      "episode: 520, total reward: 169.0, average_reward: 98.9, length: 168\n",
      "episode: 521, total reward: 167.0, average_reward: 99.7, length: 166\n",
      "episode: 522, total reward: 132.0, average_reward: 104.9, length: 131\n",
      "episode: 523, total reward: 64.0, average_reward: 103.5, length: 63\n",
      "episode: 524, total reward: 69.0, average_reward: 106.0, length: 68\n",
      "episode: 525, total reward: 36.0, average_reward: 91.0, length: 35\n",
      "episode: 526, total reward: 78.0, average_reward: 90.5, length: 77\n",
      "episode: 527, total reward: 138.0, average_reward: 91.9, length: 137\n",
      "episode: 528, total reward: 28.0, average_reward: 91.8, length: 27\n",
      "episode: 529, total reward: 16.0, average_reward: 89.7, length: 15\n",
      "episode: 530, total reward: 56.0, average_reward: 78.4, length: 55\n",
      "episode: 531, total reward: 45.0, average_reward: 66.2, length: 44\n",
      "episode: 532, total reward: 55.0, average_reward: 58.5, length: 54\n",
      "episode: 533, total reward: 24.0, average_reward: 54.5, length: 23\n",
      "episode: 534, total reward: 22.0, average_reward: 49.8, length: 21\n",
      "episode: 535, total reward: 25.0, average_reward: 48.7, length: 24\n",
      "episode: 536, total reward: 31.0, average_reward: 44.0, length: 30\n",
      "episode: 537, total reward: 23.0, average_reward: 32.5, length: 22\n",
      "episode: 538, total reward: 78.0, average_reward: 37.5, length: 77\n",
      "episode: 539, total reward: 22.0, average_reward: 38.1, length: 21\n",
      "episode: 540, total reward: 113.0, average_reward: 43.8, length: 112\n",
      "episode: 541, total reward: 117.0, average_reward: 51.0, length: 116\n",
      "episode: 542, total reward: 95.0, average_reward: 55.0, length: 94\n",
      "episode: 543, total reward: 96.0, average_reward: 62.2, length: 95\n",
      "episode: 544, total reward: 30.0, average_reward: 63.0, length: 29\n",
      "episode: 545, total reward: 118.0, average_reward: 72.3, length: 117\n",
      "episode: 546, total reward: 85.0, average_reward: 77.7, length: 84\n",
      "episode: 547, total reward: 70.0, average_reward: 82.4, length: 69\n",
      "episode: 548, total reward: 74.0, average_reward: 82.0, length: 73\n",
      "episode: 549, total reward: 31.0, average_reward: 82.9, length: 30\n",
      "episode: 550, total reward: 85.0, average_reward: 80.1, length: 84\n",
      "episode: 551, total reward: 28.0, average_reward: 71.2, length: 27\n",
      "episode: 552, total reward: 153.0, average_reward: 77.0, length: 152\n",
      "episode: 553, total reward: 30.0, average_reward: 70.4, length: 29\n",
      "episode: 554, total reward: 108.0, average_reward: 78.2, length: 107\n",
      "episode: 555, total reward: 40.0, average_reward: 70.4, length: 39\n",
      "episode: 556, total reward: 135.0, average_reward: 75.4, length: 134\n",
      "episode: 557, total reward: 40.0, average_reward: 72.4, length: 39\n",
      "episode: 558, total reward: 200.0, average_reward: 85.0, length: 199\n",
      "episode: 559, total reward: 179.0, average_reward: 99.8, length: 178\n",
      "episode: 560, total reward: 118.0, average_reward: 103.1, length: 117\n",
      "episode: 561, total reward: 125.0, average_reward: 112.8, length: 124\n",
      "episode: 562, total reward: 55.0, average_reward: 103.0, length: 54\n",
      "episode: 563, total reward: 56.0, average_reward: 105.6, length: 55\n",
      "episode: 564, total reward: 83.0, average_reward: 103.1, length: 82\n",
      "episode: 565, total reward: 110.0, average_reward: 110.1, length: 109\n",
      "episode: 566, total reward: 125.0, average_reward: 109.1, length: 124\n",
      "episode: 567, total reward: 151.0, average_reward: 120.2, length: 150\n",
      "episode: 568, total reward: 159.0, average_reward: 116.1, length: 158\n",
      "episode: 569, total reward: 179.0, average_reward: 116.1, length: 178\n",
      "episode: 570, total reward: 38.0, average_reward: 108.1, length: 37\n",
      "episode: 571, total reward: 200.0, average_reward: 115.6, length: 199\n",
      "episode: 572, total reward: 200.0, average_reward: 130.1, length: 199\n",
      "episode: 573, total reward: 200.0, average_reward: 144.5, length: 199\n",
      "episode: 574, total reward: 145.0, average_reward: 150.7, length: 144\n",
      "episode: 575, total reward: 182.0, average_reward: 157.9, length: 181\n",
      "episode: 576, total reward: 135.0, average_reward: 158.9, length: 134\n",
      "episode: 577, total reward: 129.0, average_reward: 156.7, length: 128\n",
      "episode: 578, total reward: 33.0, average_reward: 144.1, length: 32\n",
      "episode: 579, total reward: 49.0, average_reward: 131.1, length: 48\n",
      "episode: 580, total reward: 71.0, average_reward: 134.4, length: 70\n",
      "episode: 581, total reward: 133.0, average_reward: 127.7, length: 132\n",
      "episode: 582, total reward: 111.0, average_reward: 118.8, length: 110\n",
      "episode: 583, total reward: 86.0, average_reward: 107.4, length: 85\n",
      "episode: 584, total reward: 57.0, average_reward: 98.6, length: 56\n",
      "episode: 585, total reward: 50.0, average_reward: 85.4, length: 49\n",
      "episode: 586, total reward: 71.0, average_reward: 79.0, length: 70\n",
      "episode: 587, total reward: 98.0, average_reward: 75.9, length: 97\n",
      "episode: 588, total reward: 147.0, average_reward: 87.3, length: 146\n",
      "episode: 589, total reward: 128.0, average_reward: 95.2, length: 127\n",
      "episode: 590, total reward: 31.0, average_reward: 91.2, length: 30\n",
      "episode: 591, total reward: 73.0, average_reward: 85.2, length: 72\n",
      "episode: 592, total reward: 73.0, average_reward: 81.4, length: 72\n",
      "episode: 593, total reward: 193.0, average_reward: 92.1, length: 192\n",
      "episode: 594, total reward: 29.0, average_reward: 89.3, length: 28\n",
      "episode: 595, total reward: 98.0, average_reward: 94.1, length: 97\n",
      "episode: 596, total reward: 24.0, average_reward: 89.4, length: 23\n",
      "episode: 597, total reward: 112.0, average_reward: 90.8, length: 111\n",
      "episode: 598, total reward: 65.0, average_reward: 82.6, length: 64\n",
      "episode: 599, total reward: 117.0, average_reward: 81.5, length: 116\n",
      "episode: 600, total reward: 103.0, average_reward: 88.7, length: 102\n",
      "episode: 601, total reward: 108.0, average_reward: 92.2, length: 107\n",
      "episode: 602, total reward: 72.0, average_reward: 92.1, length: 71\n",
      "episode: 603, total reward: 63.0, average_reward: 79.1, length: 62\n",
      "episode: 604, total reward: 188.0, average_reward: 95.0, length: 187\n",
      "episode: 605, total reward: 127.0, average_reward: 97.9, length: 126\n",
      "episode: 606, total reward: 138.0, average_reward: 109.3, length: 137\n",
      "episode: 607, total reward: 200.0, average_reward: 118.1, length: 199\n",
      "episode: 608, total reward: 97.0, average_reward: 121.3, length: 96\n",
      "episode: 609, total reward: 200.0, average_reward: 129.6, length: 199\n",
      "episode: 610, total reward: 61.0, average_reward: 125.4, length: 60\n",
      "episode: 611, total reward: 125.0, average_reward: 127.1, length: 124\n",
      "episode: 612, total reward: 73.0, average_reward: 127.2, length: 72\n",
      "episode: 613, total reward: 157.0, average_reward: 136.6, length: 156\n",
      "episode: 614, total reward: 152.0, average_reward: 133.0, length: 151\n",
      "episode: 615, total reward: 25.0, average_reward: 122.8, length: 24\n",
      "episode: 616, total reward: 200.0, average_reward: 129.0, length: 199\n",
      "episode: 617, total reward: 131.0, average_reward: 122.1, length: 130\n",
      "episode: 618, total reward: 96.0, average_reward: 122.0, length: 95\n",
      "episode: 619, total reward: 74.0, average_reward: 109.4, length: 73\n",
      "episode: 620, total reward: 86.0, average_reward: 111.9, length: 85\n"
     ]
    },
    {
     "name": "stdout",
     "output_type": "stream",
     "text": [
      "episode: 621, total reward: 75.0, average_reward: 106.9, length: 74\n",
      "episode: 622, total reward: 128.0, average_reward: 112.4, length: 127\n",
      "episode: 623, total reward: 44.0, average_reward: 101.1, length: 43\n",
      "episode: 624, total reward: 71.0, average_reward: 93.0, length: 70\n",
      "episode: 625, total reward: 110.0, average_reward: 101.5, length: 109\n",
      "episode: 626, total reward: 28.0, average_reward: 84.3, length: 27\n",
      "episode: 627, total reward: 92.0, average_reward: 80.4, length: 91\n",
      "episode: 628, total reward: 39.0, average_reward: 74.7, length: 38\n",
      "episode: 629, total reward: 120.0, average_reward: 79.3, length: 119\n",
      "episode: 630, total reward: 121.0, average_reward: 82.8, length: 120\n",
      "episode: 631, total reward: 36.0, average_reward: 78.9, length: 35\n",
      "episode: 632, total reward: 199.0, average_reward: 86.0, length: 198\n",
      "episode: 633, total reward: 120.0, average_reward: 93.6, length: 119\n",
      "episode: 634, total reward: 73.0, average_reward: 93.8, length: 72\n",
      "episode: 635, total reward: 62.0, average_reward: 89.0, length: 61\n",
      "episode: 636, total reward: 182.0, average_reward: 104.4, length: 181\n",
      "episode: 637, total reward: 185.0, average_reward: 113.7, length: 184\n",
      "episode: 638, total reward: 17.0, average_reward: 111.5, length: 16\n",
      "episode: 639, total reward: 136.0, average_reward: 113.1, length: 135\n",
      "episode: 640, total reward: 88.0, average_reward: 109.8, length: 87\n",
      "episode: 641, total reward: 200.0, average_reward: 126.2, length: 199\n",
      "episode: 642, total reward: 112.0, average_reward: 117.5, length: 111\n",
      "episode: 643, total reward: 26.0, average_reward: 108.1, length: 25\n",
      "episode: 644, total reward: 28.0, average_reward: 103.6, length: 27\n",
      "episode: 645, total reward: 30.0, average_reward: 100.4, length: 29\n",
      "episode: 646, total reward: 51.0, average_reward: 87.3, length: 50\n",
      "episode: 647, total reward: 110.0, average_reward: 79.8, length: 109\n",
      "episode: 648, total reward: 117.0, average_reward: 89.8, length: 116\n",
      "episode: 649, total reward: 174.0, average_reward: 93.6, length: 173\n",
      "episode: 650, total reward: 156.0, average_reward: 100.4, length: 155\n",
      "episode: 651, total reward: 91.0, average_reward: 89.5, length: 90\n",
      "episode: 652, total reward: 144.0, average_reward: 92.7, length: 143\n",
      "episode: 653, total reward: 35.0, average_reward: 93.6, length: 34\n",
      "episode: 654, total reward: 156.0, average_reward: 106.4, length: 155\n",
      "episode: 655, total reward: 46.0, average_reward: 108.0, length: 45\n",
      "episode: 656, total reward: 200.0, average_reward: 122.9, length: 199\n",
      "episode: 657, total reward: 81.0, average_reward: 120.0, length: 80\n",
      "episode: 658, total reward: 87.0, average_reward: 117.0, length: 86\n",
      "episode: 659, total reward: 139.0, average_reward: 113.5, length: 138\n",
      "episode: 660, total reward: 113.0, average_reward: 109.2, length: 112\n",
      "episode: 661, total reward: 156.0, average_reward: 115.7, length: 155\n",
      "episode: 662, total reward: 143.0, average_reward: 115.6, length: 142\n",
      "episode: 663, total reward: 200.0, average_reward: 132.1, length: 199\n",
      "episode: 664, total reward: 200.0, average_reward: 136.5, length: 199\n",
      "episode: 665, total reward: 48.0, average_reward: 136.7, length: 47\n",
      "episode: 666, total reward: 192.0, average_reward: 135.9, length: 191\n",
      "episode: 667, total reward: 151.0, average_reward: 142.9, length: 150\n",
      "episode: 668, total reward: 129.0, average_reward: 147.1, length: 128\n",
      "episode: 669, total reward: 126.0, average_reward: 145.8, length: 125\n",
      "episode: 670, total reward: 179.0, average_reward: 152.4, length: 178\n",
      "episode: 671, total reward: 76.0, average_reward: 144.4, length: 75\n",
      "episode: 672, total reward: 200.0, average_reward: 150.1, length: 199\n",
      "episode: 673, total reward: 185.0, average_reward: 148.6, length: 184\n",
      "episode: 674, total reward: 118.0, average_reward: 140.4, length: 117\n",
      "episode: 675, total reward: 191.0, average_reward: 154.7, length: 190\n",
      "episode: 676, total reward: 31.0, average_reward: 138.6, length: 30\n",
      "episode: 677, total reward: 150.0, average_reward: 138.5, length: 149\n",
      "episode: 678, total reward: 69.0, average_reward: 132.5, length: 68\n",
      "episode: 679, total reward: 99.0, average_reward: 129.8, length: 98\n",
      "episode: 680, total reward: 116.0, average_reward: 123.5, length: 115\n",
      "episode: 681, total reward: 178.0, average_reward: 133.7, length: 177\n",
      "episode: 682, total reward: 76.0, average_reward: 121.3, length: 75\n",
      "episode: 683, total reward: 162.0, average_reward: 119.0, length: 161\n",
      "episode: 684, total reward: 144.0, average_reward: 121.6, length: 143\n",
      "episode: 685, total reward: 177.0, average_reward: 120.2, length: 176\n",
      "episode: 686, total reward: 200.0, average_reward: 137.1, length: 199\n",
      "episode: 687, total reward: 155.0, average_reward: 137.6, length: 154\n",
      "episode: 688, total reward: 200.0, average_reward: 150.7, length: 199\n",
      "episode: 689, total reward: 75.0, average_reward: 148.3, length: 74\n",
      "episode: 690, total reward: 167.0, average_reward: 153.4, length: 166\n",
      "episode: 691, total reward: 200.0, average_reward: 155.6, length: 199\n",
      "episode: 692, total reward: 24.0, average_reward: 150.4, length: 23\n",
      "episode: 693, total reward: 34.0, average_reward: 137.6, length: 33\n",
      "episode: 694, total reward: 200.0, average_reward: 143.2, length: 199\n",
      "episode: 695, total reward: 79.0, average_reward: 133.4, length: 78\n",
      "episode: 696, total reward: 61.0, average_reward: 119.5, length: 60\n",
      "episode: 697, total reward: 150.0, average_reward: 119.0, length: 149\n",
      "episode: 698, total reward: 131.0, average_reward: 112.1, length: 130\n",
      "episode: 699, total reward: 180.0, average_reward: 122.6, length: 179\n",
      "episode: 700, total reward: 137.0, average_reward: 119.6, length: 136\n",
      "episode: 701, total reward: 115.0, average_reward: 111.1, length: 114\n",
      "episode: 702, total reward: 200.0, average_reward: 128.7, length: 199\n",
      "episode: 703, total reward: 79.0, average_reward: 133.2, length: 78\n",
      "episode: 704, total reward: 200.0, average_reward: 133.2, length: 199\n",
      "episode: 705, total reward: 130.0, average_reward: 138.3, length: 129\n",
      "episode: 706, total reward: 193.0, average_reward: 151.5, length: 192\n",
      "episode: 707, total reward: 117.0, average_reward: 148.2, length: 116\n",
      "episode: 708, total reward: 171.0, average_reward: 152.2, length: 170\n",
      "episode: 709, total reward: 200.0, average_reward: 154.2, length: 199\n",
      "episode: 710, total reward: 200.0, average_reward: 160.5, length: 199\n",
      "episode: 711, total reward: 200.0, average_reward: 169.0, length: 199\n",
      "episode: 712, total reward: 131.0, average_reward: 162.1, length: 130\n",
      "episode: 713, total reward: 200.0, average_reward: 174.2, length: 199\n",
      "episode: 714, total reward: 175.0, average_reward: 171.7, length: 174\n",
      "episode: 715, total reward: 119.0, average_reward: 170.6, length: 118\n",
      "episode: 716, total reward: 154.0, average_reward: 166.7, length: 153\n",
      "episode: 717, total reward: 200.0, average_reward: 175.0, length: 199\n",
      "episode: 718, total reward: 200.0, average_reward: 177.9, length: 199\n",
      "episode: 719, total reward: 101.0, average_reward: 168.0, length: 100\n",
      "episode: 720, total reward: 173.0, average_reward: 165.3, length: 172\n",
      "episode: 721, total reward: 99.0, average_reward: 155.2, length: 98\n",
      "episode: 722, total reward: 200.0, average_reward: 162.1, length: 199\n",
      "episode: 723, total reward: 134.0, average_reward: 155.5, length: 133\n",
      "episode: 724, total reward: 119.0, average_reward: 149.9, length: 118\n",
      "episode: 725, total reward: 137.0, average_reward: 151.7, length: 136\n",
      "episode: 726, total reward: 148.0, average_reward: 151.1, length: 147\n",
      "episode: 727, total reward: 71.0, average_reward: 138.2, length: 70\n",
      "episode: 728, total reward: 86.0, average_reward: 126.8, length: 85\n",
      "episode: 729, total reward: 169.0, average_reward: 133.6, length: 168\n",
      "episode: 730, total reward: 194.0, average_reward: 135.7, length: 193\n",
      "episode: 731, total reward: 174.0, average_reward: 143.2, length: 173\n",
      "episode: 732, total reward: 148.0, average_reward: 138.0, length: 147\n",
      "episode: 733, total reward: 87.0, average_reward: 133.3, length: 86\n",
      "episode: 734, total reward: 114.0, average_reward: 132.8, length: 113\n",
      "episode: 735, total reward: 141.0, average_reward: 133.2, length: 140\n",
      "episode: 736, total reward: 121.0, average_reward: 130.5, length: 120\n",
      "episode: 737, total reward: 65.0, average_reward: 129.9, length: 64\n",
      "episode: 738, total reward: 43.0, average_reward: 125.6, length: 42\n",
      "episode: 739, total reward: 152.0, average_reward: 123.9, length: 151\n",
      "episode: 740, total reward: 141.0, average_reward: 118.6, length: 140\n",
      "episode: 741, total reward: 119.0, average_reward: 113.1, length: 118\n"
     ]
    },
    {
     "name": "stdout",
     "output_type": "stream",
     "text": [
      "episode: 742, total reward: 200.0, average_reward: 118.3, length: 199\n",
      "episode: 743, total reward: 147.0, average_reward: 124.3, length: 146\n",
      "episode: 744, total reward: 123.0, average_reward: 125.2, length: 122\n",
      "episode: 745, total reward: 110.0, average_reward: 122.1, length: 109\n",
      "episode: 746, total reward: 97.0, average_reward: 119.7, length: 96\n",
      "episode: 747, total reward: 139.0, average_reward: 127.1, length: 138\n",
      "episode: 748, total reward: 102.0, average_reward: 133.0, length: 101\n",
      "episode: 749, total reward: 197.0, average_reward: 137.5, length: 196\n",
      "episode: 750, total reward: 200.0, average_reward: 143.4, length: 199\n",
      "episode: 751, total reward: 200.0, average_reward: 151.5, length: 199\n",
      "episode: 752, total reward: 111.0, average_reward: 142.6, length: 110\n",
      "episode: 753, total reward: 171.0, average_reward: 145.0, length: 170\n",
      "episode: 754, total reward: 114.0, average_reward: 144.1, length: 113\n",
      "episode: 755, total reward: 152.0, average_reward: 148.3, length: 151\n",
      "episode: 756, total reward: 122.0, average_reward: 150.8, length: 121\n",
      "episode: 757, total reward: 106.0, average_reward: 147.5, length: 105\n",
      "episode: 758, total reward: 162.0, average_reward: 153.5, length: 161\n",
      "episode: 759, total reward: 145.0, average_reward: 148.3, length: 144\n",
      "episode: 760, total reward: 197.0, average_reward: 148.0, length: 196\n",
      "episode: 761, total reward: 139.0, average_reward: 141.9, length: 138\n",
      "episode: 762, total reward: 135.0, average_reward: 144.3, length: 134\n",
      "episode: 763, total reward: 58.0, average_reward: 133.0, length: 57\n",
      "episode: 764, total reward: 133.0, average_reward: 134.9, length: 132\n",
      "episode: 765, total reward: 40.0, average_reward: 123.7, length: 39\n",
      "episode: 766, total reward: 200.0, average_reward: 131.5, length: 199\n",
      "episode: 767, total reward: 132.0, average_reward: 134.1, length: 131\n",
      "episode: 768, total reward: 161.0, average_reward: 134.0, length: 160\n",
      "episode: 769, total reward: 152.0, average_reward: 134.7, length: 151\n",
      "episode: 770, total reward: 66.0, average_reward: 121.6, length: 65\n",
      "episode: 771, total reward: 33.0, average_reward: 111.0, length: 32\n",
      "episode: 772, total reward: 200.0, average_reward: 117.5, length: 199\n",
      "episode: 773, total reward: 21.0, average_reward: 113.8, length: 20\n",
      "episode: 774, total reward: 109.0, average_reward: 111.4, length: 108\n",
      "episode: 775, total reward: 110.0, average_reward: 118.4, length: 109\n",
      "episode: 776, total reward: 105.0, average_reward: 108.9, length: 104\n",
      "episode: 777, total reward: 152.0, average_reward: 110.9, length: 151\n",
      "episode: 778, total reward: 200.0, average_reward: 114.8, length: 199\n",
      "episode: 779, total reward: 159.0, average_reward: 115.5, length: 158\n",
      "episode: 780, total reward: 150.0, average_reward: 123.9, length: 149\n",
      "episode: 781, total reward: 110.0, average_reward: 131.6, length: 109\n",
      "episode: 782, total reward: 130.0, average_reward: 124.6, length: 129\n",
      "episode: 783, total reward: 200.0, average_reward: 142.5, length: 199\n",
      "episode: 784, total reward: 200.0, average_reward: 151.6, length: 199\n",
      "episode: 785, total reward: 137.0, average_reward: 154.3, length: 136\n",
      "episode: 786, total reward: 200.0, average_reward: 163.8, length: 199\n",
      "episode: 787, total reward: 196.0, average_reward: 168.2, length: 195\n",
      "episode: 788, total reward: 200.0, average_reward: 168.2, length: 199\n",
      "episode: 789, total reward: 103.0, average_reward: 162.6, length: 102\n",
      "episode: 790, total reward: 94.0, average_reward: 157.0, length: 93\n",
      "episode: 791, total reward: 186.0, average_reward: 164.6, length: 185\n",
      "episode: 792, total reward: 145.0, average_reward: 166.1, length: 144\n",
      "episode: 793, total reward: 101.0, average_reward: 156.2, length: 100\n",
      "episode: 794, total reward: 152.0, average_reward: 151.4, length: 151\n",
      "episode: 795, total reward: 185.0, average_reward: 156.2, length: 184\n",
      "episode: 796, total reward: 131.0, average_reward: 149.3, length: 130\n",
      "episode: 797, total reward: 177.0, average_reward: 147.4, length: 176\n",
      "episode: 798, total reward: 30.0, average_reward: 130.4, length: 29\n",
      "episode: 799, total reward: 200.0, average_reward: 140.1, length: 199\n",
      "episode: 800, total reward: 174.0, average_reward: 148.1, length: 173\n",
      "episode: 801, total reward: 199.0, average_reward: 149.4, length: 198\n",
      "episode: 802, total reward: 170.0, average_reward: 151.9, length: 169\n",
      "episode: 803, total reward: 169.0, average_reward: 158.7, length: 168\n",
      "episode: 804, total reward: 169.0, average_reward: 160.4, length: 168\n",
      "episode: 805, total reward: 200.0, average_reward: 161.9, length: 199\n",
      "episode: 806, total reward: 200.0, average_reward: 168.8, length: 199\n",
      "episode: 807, total reward: 200.0, average_reward: 171.1, length: 199\n",
      "episode: 808, total reward: 200.0, average_reward: 188.1, length: 199\n",
      "episode: 809, total reward: 186.0, average_reward: 186.7, length: 185\n",
      "episode: 810, total reward: 108.0, average_reward: 180.1, length: 107\n",
      "episode: 811, total reward: 168.0, average_reward: 177.0, length: 167\n",
      "episode: 812, total reward: 197.0, average_reward: 179.7, length: 196\n",
      "episode: 813, total reward: 43.0, average_reward: 167.1, length: 42\n",
      "episode: 814, total reward: 110.0, average_reward: 161.2, length: 109\n",
      "episode: 815, total reward: 140.0, average_reward: 155.2, length: 139\n",
      "episode: 816, total reward: 200.0, average_reward: 155.2, length: 199\n",
      "episode: 817, total reward: 200.0, average_reward: 155.2, length: 199\n",
      "episode: 818, total reward: 139.0, average_reward: 149.1, length: 138\n",
      "episode: 819, total reward: 200.0, average_reward: 150.5, length: 199\n",
      "episode: 820, total reward: 150.0, average_reward: 154.7, length: 149\n",
      "episode: 821, total reward: 151.0, average_reward: 153.0, length: 150\n",
      "episode: 822, total reward: 188.0, average_reward: 152.1, length: 187\n",
      "episode: 823, total reward: 151.0, average_reward: 162.9, length: 150\n",
      "episode: 824, total reward: 123.0, average_reward: 164.2, length: 122\n",
      "episode: 825, total reward: 200.0, average_reward: 170.2, length: 199\n",
      "episode: 826, total reward: 75.0, average_reward: 157.7, length: 74\n",
      "episode: 827, total reward: 181.0, average_reward: 155.8, length: 180\n",
      "episode: 828, total reward: 200.0, average_reward: 161.9, length: 199\n",
      "episode: 829, total reward: 200.0, average_reward: 161.9, length: 199\n",
      "episode: 830, total reward: 200.0, average_reward: 166.9, length: 199\n",
      "episode: 831, total reward: 200.0, average_reward: 171.8, length: 199\n",
      "episode: 832, total reward: 200.0, average_reward: 173.0, length: 199\n",
      "episode: 833, total reward: 89.0, average_reward: 166.8, length: 88\n",
      "episode: 834, total reward: 142.0, average_reward: 168.7, length: 141\n",
      "episode: 835, total reward: 158.0, average_reward: 164.5, length: 157\n",
      "episode: 836, total reward: 123.0, average_reward: 169.3, length: 122\n",
      "episode: 837, total reward: 199.0, average_reward: 171.1, length: 198\n",
      "episode: 838, total reward: 170.0, average_reward: 168.1, length: 169\n",
      "episode: 839, total reward: 200.0, average_reward: 168.1, length: 199\n",
      "episode: 840, total reward: 141.0, average_reward: 162.2, length: 140\n",
      "episode: 841, total reward: 141.0, average_reward: 156.3, length: 140\n",
      "episode: 842, total reward: 142.0, average_reward: 150.5, length: 141\n",
      "episode: 843, total reward: 200.0, average_reward: 161.6, length: 199\n",
      "episode: 844, total reward: 200.0, average_reward: 167.4, length: 199\n",
      "episode: 845, total reward: 150.0, average_reward: 166.6, length: 149\n",
      "episode: 846, total reward: 200.0, average_reward: 174.3, length: 199\n",
      "episode: 847, total reward: 101.0, average_reward: 164.5, length: 100\n",
      "episode: 848, total reward: 42.0, average_reward: 151.7, length: 41\n",
      "episode: 849, total reward: 143.0, average_reward: 146.0, length: 142\n",
      "episode: 850, total reward: 190.0, average_reward: 150.9, length: 189\n",
      "episode: 851, total reward: 110.0, average_reward: 147.8, length: 109\n",
      "episode: 852, total reward: 200.0, average_reward: 153.6, length: 199\n",
      "episode: 853, total reward: 160.0, average_reward: 149.6, length: 159\n",
      "episode: 854, total reward: 200.0, average_reward: 149.6, length: 199\n",
      "episode: 855, total reward: 200.0, average_reward: 154.6, length: 199\n",
      "episode: 856, total reward: 190.0, average_reward: 153.6, length: 189\n",
      "episode: 857, total reward: 137.0, average_reward: 157.2, length: 136\n",
      "episode: 858, total reward: 200.0, average_reward: 173.0, length: 199\n",
      "episode: 859, total reward: 133.0, average_reward: 172.0, length: 132\n"
     ]
    },
    {
     "name": "stdout",
     "output_type": "stream",
     "text": [
      "episode: 860, total reward: 200.0, average_reward: 173.0, length: 199\n",
      "episode: 861, total reward: 195.0, average_reward: 181.5, length: 194\n",
      "episode: 862, total reward: 200.0, average_reward: 181.5, length: 199\n",
      "episode: 863, total reward: 200.0, average_reward: 185.5, length: 199\n",
      "episode: 864, total reward: 134.0, average_reward: 178.9, length: 133\n",
      "episode: 865, total reward: 187.0, average_reward: 177.6, length: 186\n",
      "episode: 866, total reward: 200.0, average_reward: 178.6, length: 199\n",
      "episode: 867, total reward: 197.0, average_reward: 184.6, length: 196\n",
      "episode: 868, total reward: 86.0, average_reward: 173.2, length: 85\n",
      "episode: 869, total reward: 200.0, average_reward: 179.9, length: 199\n",
      "episode: 870, total reward: 156.0, average_reward: 175.5, length: 155\n",
      "episode: 871, total reward: 200.0, average_reward: 176.0, length: 199\n",
      "episode: 872, total reward: 172.0, average_reward: 173.2, length: 171\n",
      "episode: 873, total reward: 68.0, average_reward: 160.0, length: 67\n",
      "episode: 874, total reward: 127.0, average_reward: 159.3, length: 126\n",
      "episode: 875, total reward: 86.0, average_reward: 149.2, length: 85\n",
      "episode: 876, total reward: 169.0, average_reward: 146.1, length: 168\n",
      "episode: 877, total reward: 195.0, average_reward: 145.9, length: 194\n",
      "episode: 878, total reward: 200.0, average_reward: 157.3, length: 199\n",
      "episode: 879, total reward: 200.0, average_reward: 157.3, length: 199\n",
      "episode: 880, total reward: 62.0, average_reward: 147.9, length: 61\n",
      "episode: 881, total reward: 193.0, average_reward: 147.2, length: 192\n",
      "episode: 882, total reward: 200.0, average_reward: 150.0, length: 199\n",
      "episode: 883, total reward: 111.0, average_reward: 154.3, length: 110\n",
      "episode: 884, total reward: 198.0, average_reward: 161.4, length: 197\n",
      "episode: 885, total reward: 200.0, average_reward: 172.8, length: 199\n",
      "episode: 886, total reward: 144.0, average_reward: 170.3, length: 143\n",
      "episode: 887, total reward: 53.0, average_reward: 156.1, length: 52\n",
      "episode: 888, total reward: 200.0, average_reward: 156.1, length: 199\n",
      "episode: 889, total reward: 41.0, average_reward: 140.2, length: 40\n",
      "episode: 890, total reward: 200.0, average_reward: 154.0, length: 199\n",
      "episode: 891, total reward: 183.0, average_reward: 153.0, length: 182\n",
      "episode: 892, total reward: 146.0, average_reward: 147.6, length: 145\n",
      "episode: 893, total reward: 200.0, average_reward: 156.5, length: 199\n",
      "episode: 894, total reward: 192.0, average_reward: 155.9, length: 191\n",
      "episode: 895, total reward: 106.0, average_reward: 146.5, length: 105\n",
      "episode: 896, total reward: 112.0, average_reward: 143.3, length: 111\n",
      "episode: 897, total reward: 187.0, average_reward: 156.7, length: 186\n",
      "episode: 898, total reward: 125.0, average_reward: 149.2, length: 124\n",
      "episode: 899, total reward: 200.0, average_reward: 165.1, length: 199\n",
      "episode: 900, total reward: 65.0, average_reward: 151.6, length: 64\n",
      "episode: 901, total reward: 187.0, average_reward: 152.0, length: 186\n",
      "episode: 902, total reward: 178.0, average_reward: 155.2, length: 177\n",
      "episode: 903, total reward: 137.0, average_reward: 148.9, length: 136\n",
      "episode: 904, total reward: 200.0, average_reward: 149.7, length: 199\n",
      "episode: 905, total reward: 166.0, average_reward: 155.7, length: 165\n",
      "episode: 906, total reward: 200.0, average_reward: 164.5, length: 199\n",
      "episode: 907, total reward: 54.0, average_reward: 151.2, length: 53\n",
      "episode: 908, total reward: 153.0, average_reward: 154.0, length: 152\n",
      "episode: 909, total reward: 166.0, average_reward: 150.6, length: 165\n",
      "episode: 910, total reward: 119.0, average_reward: 156.0, length: 118\n",
      "episode: 911, total reward: 124.0, average_reward: 149.7, length: 123\n",
      "episode: 912, total reward: 32.0, average_reward: 135.1, length: 31\n",
      "episode: 913, total reward: 97.0, average_reward: 131.1, length: 96\n",
      "episode: 914, total reward: 155.0, average_reward: 126.6, length: 154\n",
      "episode: 915, total reward: 156.0, average_reward: 125.6, length: 155\n",
      "episode: 916, total reward: 200.0, average_reward: 125.6, length: 199\n",
      "episode: 917, total reward: 59.0, average_reward: 126.1, length: 58\n",
      "episode: 918, total reward: 191.0, average_reward: 129.9, length: 190\n",
      "episode: 919, total reward: 200.0, average_reward: 133.3, length: 199\n",
      "episode: 920, total reward: 200.0, average_reward: 141.4, length: 199\n",
      "episode: 921, total reward: 200.0, average_reward: 149.0, length: 199\n",
      "episode: 922, total reward: 200.0, average_reward: 165.8, length: 199\n",
      "episode: 923, total reward: 138.0, average_reward: 169.9, length: 137\n",
      "episode: 924, total reward: 184.0, average_reward: 172.8, length: 183\n",
      "episode: 925, total reward: 200.0, average_reward: 177.2, length: 199\n",
      "episode: 926, total reward: 200.0, average_reward: 177.2, length: 199\n",
      "episode: 927, total reward: 110.0, average_reward: 182.3, length: 109\n",
      "episode: 928, total reward: 32.0, average_reward: 166.4, length: 31\n",
      "episode: 929, total reward: 53.0, average_reward: 151.7, length: 52\n",
      "episode: 930, total reward: 196.0, average_reward: 151.3, length: 195\n",
      "episode: 931, total reward: 200.0, average_reward: 151.3, length: 199\n",
      "episode: 932, total reward: 84.0, average_reward: 139.7, length: 83\n",
      "episode: 933, total reward: 200.0, average_reward: 145.9, length: 199\n",
      "episode: 934, total reward: 158.0, average_reward: 143.3, length: 157\n",
      "episode: 935, total reward: 200.0, average_reward: 143.3, length: 199\n",
      "episode: 936, total reward: 66.0, average_reward: 129.9, length: 65\n",
      "episode: 937, total reward: 110.0, average_reward: 129.9, length: 109\n",
      "episode: 938, total reward: 200.0, average_reward: 146.7, length: 199\n",
      "episode: 939, total reward: 200.0, average_reward: 161.4, length: 199\n",
      "episode: 940, total reward: 200.0, average_reward: 161.8, length: 199\n",
      "episode: 941, total reward: 128.0, average_reward: 154.6, length: 127\n",
      "episode: 942, total reward: 166.0, average_reward: 162.8, length: 165\n",
      "episode: 943, total reward: 200.0, average_reward: 162.8, length: 199\n",
      "episode: 944, total reward: 136.0, average_reward: 160.6, length: 135\n",
      "episode: 945, total reward: 155.0, average_reward: 156.1, length: 154\n",
      "episode: 946, total reward: 200.0, average_reward: 169.5, length: 199\n",
      "episode: 947, total reward: 25.0, average_reward: 161.0, length: 24\n",
      "episode: 948, total reward: 26.0, average_reward: 143.6, length: 25\n",
      "episode: 949, total reward: 34.0, average_reward: 127.0, length: 33\n",
      "episode: 950, total reward: 172.0, average_reward: 124.2, length: 171\n",
      "episode: 951, total reward: 200.0, average_reward: 131.4, length: 199\n",
      "episode: 952, total reward: 105.0, average_reward: 125.3, length: 104\n",
      "episode: 953, total reward: 167.0, average_reward: 122.0, length: 166\n",
      "episode: 954, total reward: 168.0, average_reward: 125.2, length: 167\n",
      "episode: 955, total reward: 200.0, average_reward: 129.7, length: 199\n",
      "episode: 956, total reward: 200.0, average_reward: 129.7, length: 199\n",
      "episode: 957, total reward: 159.0, average_reward: 143.1, length: 158\n",
      "episode: 958, total reward: 55.0, average_reward: 146.0, length: 54\n",
      "episode: 959, total reward: 200.0, average_reward: 162.6, length: 199\n",
      "episode: 960, total reward: 200.0, average_reward: 165.4, length: 199\n",
      "episode: 961, total reward: 125.0, average_reward: 157.9, length: 124\n",
      "episode: 962, total reward: 172.0, average_reward: 164.6, length: 171\n",
      "episode: 963, total reward: 168.0, average_reward: 164.7, length: 167\n",
      "episode: 964, total reward: 200.0, average_reward: 167.9, length: 199\n",
      "episode: 965, total reward: 200.0, average_reward: 167.9, length: 199\n",
      "episode: 966, total reward: 175.0, average_reward: 165.4, length: 174\n",
      "episode: 967, total reward: 114.0, average_reward: 160.9, length: 113\n",
      "episode: 968, total reward: 200.0, average_reward: 175.4, length: 199\n",
      "episode: 969, total reward: 112.0, average_reward: 166.6, length: 111\n",
      "episode: 970, total reward: 200.0, average_reward: 166.6, length: 199\n",
      "episode: 971, total reward: 138.0, average_reward: 167.9, length: 137\n",
      "episode: 972, total reward: 123.0, average_reward: 163.0, length: 122\n",
      "episode: 973, total reward: 83.0, average_reward: 154.5, length: 82\n",
      "episode: 974, total reward: 200.0, average_reward: 154.5, length: 199\n",
      "episode: 975, total reward: 137.0, average_reward: 148.2, length: 136\n",
      "episode: 976, total reward: 46.0, average_reward: 135.3, length: 45\n",
      "episode: 977, total reward: 182.0, average_reward: 142.1, length: 181\n",
      "episode: 978, total reward: 200.0, average_reward: 142.1, length: 199\n"
     ]
    },
    {
     "name": "stdout",
     "output_type": "stream",
     "text": [
      "episode: 979, total reward: 200.0, average_reward: 150.9, length: 199\n",
      "episode: 980, total reward: 163.0, average_reward: 147.2, length: 162\n",
      "episode: 981, total reward: 106.0, average_reward: 144.0, length: 105\n",
      "episode: 982, total reward: 133.0, average_reward: 145.0, length: 132\n",
      "episode: 983, total reward: 200.0, average_reward: 156.7, length: 199\n",
      "episode: 984, total reward: 200.0, average_reward: 156.7, length: 199\n",
      "episode: 985, total reward: 113.0, average_reward: 154.3, length: 112\n",
      "episode: 986, total reward: 164.0, average_reward: 166.1, length: 163\n",
      "episode: 987, total reward: 125.0, average_reward: 160.4, length: 124\n",
      "episode: 988, total reward: 200.0, average_reward: 160.4, length: 199\n",
      "episode: 989, total reward: 200.0, average_reward: 160.4, length: 199\n",
      "episode: 990, total reward: 178.0, average_reward: 161.9, length: 177\n",
      "episode: 991, total reward: 200.0, average_reward: 171.3, length: 199\n",
      "episode: 992, total reward: 157.0, average_reward: 173.7, length: 156\n",
      "episode: 993, total reward: 200.0, average_reward: 173.7, length: 199\n",
      "episode: 994, total reward: 113.0, average_reward: 165.0, length: 112\n",
      "episode: 995, total reward: 200.0, average_reward: 173.7, length: 199\n",
      "episode: 996, total reward: 200.0, average_reward: 177.3, length: 199\n",
      "episode: 997, total reward: 200.0, average_reward: 184.8, length: 199\n",
      "episode: 998, total reward: 126.0, average_reward: 177.4, length: 125\n",
      "episode: 999, total reward: 200.0, average_reward: 177.4, length: 199\n",
      "episode: 1000, total reward: 105.0, average_reward: 170.1, length: 104\n",
      "episode: 1001, total reward: 135.0, average_reward: 163.6, length: 134\n",
      "episode: 1002, total reward: 200.0, average_reward: 167.9, length: 199\n",
      "episode: 1003, total reward: 200.0, average_reward: 167.9, length: 199\n",
      "episode: 1004, total reward: 172.0, average_reward: 173.8, length: 171\n",
      "episode: 1005, total reward: 200.0, average_reward: 173.8, length: 199\n",
      "episode: 1006, total reward: 200.0, average_reward: 173.8, length: 199\n",
      "episode: 1007, total reward: 180.0, average_reward: 171.8, length: 179\n",
      "episode: 1008, total reward: 200.0, average_reward: 179.2, length: 199\n",
      "episode: 1009, total reward: 161.0, average_reward: 175.3, length: 160\n",
      "episode: 1010, total reward: 200.0, average_reward: 184.8, length: 199\n",
      "episode: 1011, total reward: 200.0, average_reward: 191.3, length: 199\n",
      "episode: 1012, total reward: 200.0, average_reward: 191.3, length: 199\n",
      "episode: 1013, total reward: 200.0, average_reward: 191.3, length: 199\n",
      "episode: 1014, total reward: 180.0, average_reward: 192.1, length: 179\n",
      "episode: 1015, total reward: 123.0, average_reward: 184.4, length: 122\n",
      "episode: 1016, total reward: 200.0, average_reward: 184.4, length: 199\n",
      "episode: 1017, total reward: 123.0, average_reward: 178.7, length: 122\n",
      "episode: 1018, total reward: 158.0, average_reward: 174.5, length: 157\n",
      "episode: 1019, total reward: 71.0, average_reward: 165.5, length: 70\n",
      "episode: 1020, total reward: 200.0, average_reward: 165.5, length: 199\n",
      "episode: 1021, total reward: 180.0, average_reward: 163.5, length: 179\n",
      "episode: 1022, total reward: 200.0, average_reward: 163.5, length: 199\n",
      "episode: 1023, total reward: 194.0, average_reward: 162.9, length: 193\n",
      "episode: 1024, total reward: 200.0, average_reward: 164.9, length: 199\n",
      "episode: 1025, total reward: 187.0, average_reward: 171.3, length: 186\n",
      "episode: 1026, total reward: 138.0, average_reward: 165.1, length: 137\n",
      "episode: 1027, total reward: 198.0, average_reward: 172.6, length: 197\n",
      "episode: 1028, total reward: 56.0, average_reward: 162.4, length: 55\n",
      "episode: 1029, total reward: 161.0, average_reward: 171.4, length: 160\n",
      "episode: 1030, total reward: 200.0, average_reward: 171.4, length: 199\n",
      "episode: 1031, total reward: 108.0, average_reward: 164.2, length: 107\n",
      "episode: 1032, total reward: 200.0, average_reward: 164.2, length: 199\n",
      "episode: 1033, total reward: 125.0, average_reward: 157.3, length: 124\n",
      "episode: 1034, total reward: 200.0, average_reward: 157.3, length: 199\n",
      "episode: 1035, total reward: 200.0, average_reward: 158.6, length: 199\n",
      "episode: 1036, total reward: 200.0, average_reward: 164.8, length: 199\n",
      "episode: 1037, total reward: 196.0, average_reward: 164.6, length: 195\n",
      "episode: 1038, total reward: 118.0, average_reward: 170.8, length: 117\n",
      "episode: 1039, total reward: 111.0, average_reward: 165.8, length: 110\n",
      "episode: 1040, total reward: 200.0, average_reward: 165.8, length: 199\n",
      "episode: 1041, total reward: 101.0, average_reward: 165.1, length: 100\n",
      "episode: 1042, total reward: 200.0, average_reward: 165.1, length: 199\n",
      "episode: 1043, total reward: 103.0, average_reward: 162.9, length: 102\n",
      "episode: 1044, total reward: 200.0, average_reward: 162.9, length: 199\n",
      "episode: 1045, total reward: 200.0, average_reward: 162.9, length: 199\n",
      "episode: 1046, total reward: 200.0, average_reward: 162.9, length: 199\n",
      "episode: 1047, total reward: 200.0, average_reward: 163.3, length: 199\n",
      "episode: 1048, total reward: 200.0, average_reward: 171.5, length: 199\n",
      "episode: 1049, total reward: 189.0, average_reward: 179.3, length: 188\n",
      "episode: 1050, total reward: 200.0, average_reward: 179.3, length: 199\n",
      "episode: 1051, total reward: 200.0, average_reward: 189.2, length: 199\n",
      "episode: 1052, total reward: 200.0, average_reward: 189.2, length: 199\n",
      "episode: 1053, total reward: 188.0, average_reward: 197.7, length: 187\n",
      "episode: 1054, total reward: 107.0, average_reward: 188.4, length: 106\n",
      "episode: 1055, total reward: 200.0, average_reward: 188.4, length: 199\n",
      "episode: 1056, total reward: 51.0, average_reward: 173.5, length: 50\n",
      "episode: 1057, total reward: 152.0, average_reward: 168.7, length: 151\n",
      "episode: 1058, total reward: 152.0, average_reward: 163.9, length: 151\n",
      "episode: 1059, total reward: 200.0, average_reward: 165.0, length: 199\n",
      "episode: 1060, total reward: 200.0, average_reward: 165.0, length: 199\n",
      "episode: 1061, total reward: 200.0, average_reward: 165.0, length: 199\n",
      "episode: 1062, total reward: 195.0, average_reward: 164.5, length: 194\n",
      "episode: 1063, total reward: 178.0, average_reward: 163.5, length: 177\n",
      "episode: 1064, total reward: 179.0, average_reward: 170.7, length: 178\n",
      "episode: 1065, total reward: 200.0, average_reward: 170.7, length: 199\n",
      "episode: 1066, total reward: 200.0, average_reward: 185.6, length: 199\n",
      "episode: 1067, total reward: 200.0, average_reward: 190.4, length: 199\n",
      "episode: 1068, total reward: 167.0, average_reward: 191.9, length: 166\n",
      "episode: 1069, total reward: 200.0, average_reward: 191.9, length: 199\n",
      "episode: 1070, total reward: 200.0, average_reward: 191.9, length: 199\n",
      "episode: 1071, total reward: 108.0, average_reward: 182.7, length: 107\n",
      "episode: 1072, total reward: 151.0, average_reward: 178.3, length: 150\n",
      "episode: 1073, total reward: 173.0, average_reward: 177.8, length: 172\n",
      "episode: 1074, total reward: 200.0, average_reward: 179.9, length: 199\n",
      "episode: 1075, total reward: 200.0, average_reward: 179.9, length: 199\n",
      "episode: 1076, total reward: 128.0, average_reward: 172.7, length: 127\n",
      "episode: 1077, total reward: 109.0, average_reward: 163.6, length: 108\n",
      "episode: 1078, total reward: 175.0, average_reward: 164.4, length: 174\n",
      "episode: 1079, total reward: 200.0, average_reward: 164.4, length: 199\n",
      "episode: 1080, total reward: 151.0, average_reward: 159.5, length: 150\n",
      "episode: 1081, total reward: 56.0, average_reward: 154.3, length: 55\n",
      "episode: 1082, total reward: 162.0, average_reward: 155.4, length: 161\n",
      "episode: 1083, total reward: 171.0, average_reward: 155.2, length: 170\n",
      "episode: 1084, total reward: 160.0, average_reward: 151.2, length: 159\n",
      "episode: 1085, total reward: 200.0, average_reward: 151.2, length: 199\n",
      "episode: 1086, total reward: 154.0, average_reward: 153.8, length: 153\n",
      "episode: 1087, total reward: 175.0, average_reward: 160.4, length: 174\n",
      "episode: 1088, total reward: 200.0, average_reward: 162.9, length: 199\n",
      "episode: 1089, total reward: 122.0, average_reward: 155.1, length: 121\n",
      "episode: 1090, total reward: 192.0, average_reward: 159.2, length: 191\n",
      "episode: 1091, total reward: 60.0, average_reward: 159.6, length: 59\n",
      "episode: 1092, total reward: 200.0, average_reward: 163.4, length: 199\n",
      "episode: 1093, total reward: 200.0, average_reward: 166.3, length: 199\n",
      "episode: 1094, total reward: 200.0, average_reward: 170.3, length: 199\n",
      "episode: 1095, total reward: 200.0, average_reward: 170.3, length: 199\n",
      "episode: 1096, total reward: 53.0, average_reward: 160.2, length: 52\n"
     ]
    },
    {
     "name": "stdout",
     "output_type": "stream",
     "text": [
      "episode: 1097, total reward: 200.0, average_reward: 162.7, length: 199\n",
      "episode: 1098, total reward: 47.0, average_reward: 147.4, length: 46\n",
      "episode: 1099, total reward: 107.0, average_reward: 145.9, length: 106\n",
      "episode: 1100, total reward: 158.0, average_reward: 142.5, length: 157\n",
      "episode: 1101, total reward: 200.0, average_reward: 156.5, length: 199\n",
      "episode: 1102, total reward: 51.0, average_reward: 141.6, length: 50\n",
      "episode: 1103, total reward: 197.0, average_reward: 141.3, length: 196\n",
      "episode: 1104, total reward: 134.0, average_reward: 134.7, length: 133\n",
      "episode: 1105, total reward: 123.0, average_reward: 127.0, length: 122\n",
      "episode: 1106, total reward: 200.0, average_reward: 141.7, length: 199\n",
      "episode: 1107, total reward: 147.0, average_reward: 136.4, length: 146\n",
      "episode: 1108, total reward: 163.0, average_reward: 148.0, length: 162\n",
      "episode: 1109, total reward: 200.0, average_reward: 157.3, length: 199\n",
      "episode: 1110, total reward: 200.0, average_reward: 161.5, length: 199\n",
      "episode: 1111, total reward: 138.0, average_reward: 155.3, length: 137\n",
      "episode: 1112, total reward: 200.0, average_reward: 170.2, length: 199\n",
      "episode: 1113, total reward: 97.0, average_reward: 160.2, length: 96\n",
      "episode: 1114, total reward: 131.0, average_reward: 159.9, length: 130\n",
      "episode: 1115, total reward: 200.0, average_reward: 167.6, length: 199\n",
      "episode: 1116, total reward: 200.0, average_reward: 167.6, length: 199\n",
      "episode: 1117, total reward: 200.0, average_reward: 172.9, length: 199\n",
      "episode: 1118, total reward: 200.0, average_reward: 176.6, length: 199\n",
      "episode: 1119, total reward: 176.0, average_reward: 174.2, length: 175\n",
      "episode: 1120, total reward: 167.0, average_reward: 170.9, length: 166\n",
      "episode: 1121, total reward: 200.0, average_reward: 177.1, length: 199\n",
      "episode: 1122, total reward: 178.0, average_reward: 174.9, length: 177\n",
      "episode: 1123, total reward: 200.0, average_reward: 185.2, length: 199\n",
      "episode: 1124, total reward: 95.0, average_reward: 181.6, length: 94\n",
      "episode: 1125, total reward: 200.0, average_reward: 181.6, length: 199\n",
      "episode: 1126, total reward: 164.0, average_reward: 178.0, length: 163\n",
      "episode: 1127, total reward: 200.0, average_reward: 178.0, length: 199\n",
      "episode: 1128, total reward: 200.0, average_reward: 178.0, length: 199\n",
      "episode: 1129, total reward: 170.0, average_reward: 177.4, length: 169\n",
      "episode: 1130, total reward: 188.0, average_reward: 179.5, length: 187\n",
      "episode: 1131, total reward: 142.0, average_reward: 173.7, length: 141\n",
      "episode: 1132, total reward: 200.0, average_reward: 175.9, length: 199\n",
      "episode: 1133, total reward: 200.0, average_reward: 175.9, length: 199\n",
      "episode: 1134, total reward: 160.0, average_reward: 182.4, length: 159\n",
      "episode: 1135, total reward: 200.0, average_reward: 182.4, length: 199\n",
      "episode: 1136, total reward: 200.0, average_reward: 186.0, length: 199\n",
      "episode: 1137, total reward: 200.0, average_reward: 186.0, length: 199\n",
      "episode: 1138, total reward: 200.0, average_reward: 186.0, length: 199\n",
      "episode: 1139, total reward: 186.0, average_reward: 187.6, length: 185\n",
      "episode: 1140, total reward: 200.0, average_reward: 188.8, length: 199\n",
      "episode: 1141, total reward: 152.0, average_reward: 189.8, length: 151\n",
      "episode: 1142, total reward: 176.0, average_reward: 187.4, length: 175\n",
      "episode: 1143, total reward: 200.0, average_reward: 187.4, length: 199\n",
      "episode: 1144, total reward: 185.0, average_reward: 189.9, length: 184\n",
      "episode: 1145, total reward: 162.0, average_reward: 186.1, length: 161\n",
      "episode: 1146, total reward: 200.0, average_reward: 186.1, length: 199\n",
      "episode: 1147, total reward: 133.0, average_reward: 179.4, length: 132\n",
      "episode: 1148, total reward: 184.0, average_reward: 177.8, length: 183\n",
      "episode: 1149, total reward: 129.0, average_reward: 172.1, length: 128\n",
      "episode: 1150, total reward: 200.0, average_reward: 172.1, length: 199\n",
      "episode: 1151, total reward: 136.0, average_reward: 170.5, length: 135\n",
      "episode: 1152, total reward: 161.0, average_reward: 169.0, length: 160\n",
      "episode: 1153, total reward: 200.0, average_reward: 169.0, length: 199\n",
      "episode: 1154, total reward: 200.0, average_reward: 170.5, length: 199\n",
      "episode: 1155, total reward: 200.0, average_reward: 174.3, length: 199\n",
      "episode: 1156, total reward: 197.0, average_reward: 174.0, length: 196\n",
      "episode: 1157, total reward: 200.0, average_reward: 180.7, length: 199\n",
      "episode: 1158, total reward: 141.0, average_reward: 176.4, length: 140\n",
      "episode: 1159, total reward: 200.0, average_reward: 183.5, length: 199\n",
      "episode: 1160, total reward: 200.0, average_reward: 183.5, length: 199\n",
      "episode: 1161, total reward: 200.0, average_reward: 189.9, length: 199\n",
      "episode: 1162, total reward: 200.0, average_reward: 193.8, length: 199\n",
      "episode: 1163, total reward: 200.0, average_reward: 193.8, length: 199\n",
      "episode: 1164, total reward: 186.0, average_reward: 192.4, length: 185\n",
      "episode: 1165, total reward: 150.0, average_reward: 187.4, length: 149\n",
      "episode: 1166, total reward: 195.0, average_reward: 187.2, length: 194\n",
      "episode: 1167, total reward: 200.0, average_reward: 187.2, length: 199\n",
      "episode: 1168, total reward: 130.0, average_reward: 186.1, length: 129\n",
      "episode: 1169, total reward: 154.0, average_reward: 181.5, length: 153\n",
      "episode: 1170, total reward: 200.0, average_reward: 181.5, length: 199\n",
      "episode: 1171, total reward: 115.0, average_reward: 173.0, length: 114\n",
      "episode: 1172, total reward: 200.0, average_reward: 173.0, length: 199\n",
      "episode: 1173, total reward: 200.0, average_reward: 173.0, length: 199\n",
      "episode: 1174, total reward: 200.0, average_reward: 174.4, length: 199\n",
      "episode: 1175, total reward: 142.0, average_reward: 173.6, length: 141\n",
      "episode: 1176, total reward: 200.0, average_reward: 174.1, length: 199\n",
      "episode: 1177, total reward: 200.0, average_reward: 174.1, length: 199\n",
      "episode: 1178, total reward: 200.0, average_reward: 181.1, length: 199\n",
      "episode: 1179, total reward: 200.0, average_reward: 185.7, length: 199\n",
      "episode: 1180, total reward: 200.0, average_reward: 185.7, length: 199\n",
      "episode: 1181, total reward: 153.0, average_reward: 189.5, length: 152\n",
      "episode: 1182, total reward: 185.0, average_reward: 188.0, length: 184\n",
      "episode: 1183, total reward: 200.0, average_reward: 188.0, length: 199\n",
      "episode: 1184, total reward: 52.0, average_reward: 173.2, length: 51\n",
      "episode: 1185, total reward: 194.0, average_reward: 178.4, length: 193\n",
      "episode: 1186, total reward: 200.0, average_reward: 178.4, length: 199\n",
      "episode: 1187, total reward: 200.0, average_reward: 178.4, length: 199\n",
      "episode: 1188, total reward: 196.0, average_reward: 178.0, length: 195\n",
      "episode: 1189, total reward: 175.0, average_reward: 175.5, length: 174\n",
      "episode: 1190, total reward: 33.0, average_reward: 158.8, length: 32\n",
      "episode: 1191, total reward: 127.0, average_reward: 156.2, length: 126\n",
      "episode: 1192, total reward: 93.0, average_reward: 147.0, length: 92\n",
      "episode: 1193, total reward: 200.0, average_reward: 147.0, length: 199\n",
      "episode: 1194, total reward: 200.0, average_reward: 161.8, length: 199\n",
      "episode: 1195, total reward: 186.0, average_reward: 161.0, length: 185\n",
      "episode: 1196, total reward: 200.0, average_reward: 161.0, length: 199\n",
      "episode: 1197, total reward: 200.0, average_reward: 161.0, length: 199\n",
      "episode: 1198, total reward: 200.0, average_reward: 161.4, length: 199\n",
      "episode: 1199, total reward: 200.0, average_reward: 163.9, length: 199\n",
      "episode: 1200, total reward: 198.0, average_reward: 180.4, length: 197\n",
      "episode: 1201, total reward: 123.0, average_reward: 180.0, length: 122\n",
      "episode: 1202, total reward: 200.0, average_reward: 190.7, length: 199\n",
      "episode: 1203, total reward: 200.0, average_reward: 190.7, length: 199\n",
      "episode: 1204, total reward: 200.0, average_reward: 190.7, length: 199\n",
      "episode: 1205, total reward: 200.0, average_reward: 192.1, length: 199\n",
      "episode: 1206, total reward: 200.0, average_reward: 192.1, length: 199\n",
      "episode: 1207, total reward: 200.0, average_reward: 192.1, length: 199\n",
      "episode: 1208, total reward: 200.0, average_reward: 192.1, length: 199\n",
      "episode: 1209, total reward: 192.0, average_reward: 191.3, length: 191\n",
      "episode: 1210, total reward: 200.0, average_reward: 191.5, length: 199\n",
      "episode: 1211, total reward: 200.0, average_reward: 199.2, length: 199\n",
      "episode: 1212, total reward: 200.0, average_reward: 199.2, length: 199\n",
      "episode: 1213, total reward: 200.0, average_reward: 199.2, length: 199\n"
     ]
    },
    {
     "name": "stdout",
     "output_type": "stream",
     "text": [
      "episode: 1214, total reward: 132.0, average_reward: 192.4, length: 131\n",
      "episode: 1215, total reward: 200.0, average_reward: 192.4, length: 199\n",
      "episode: 1216, total reward: 160.0, average_reward: 188.4, length: 159\n",
      "episode: 1217, total reward: 166.0, average_reward: 185.0, length: 165\n",
      "episode: 1218, total reward: 200.0, average_reward: 185.0, length: 199\n",
      "episode: 1219, total reward: 136.0, average_reward: 179.4, length: 135\n",
      "episode: 1220, total reward: 133.0, average_reward: 172.7, length: 132\n",
      "episode: 1221, total reward: 200.0, average_reward: 172.7, length: 199\n",
      "episode: 1222, total reward: 200.0, average_reward: 172.7, length: 199\n",
      "episode: 1223, total reward: 200.0, average_reward: 172.7, length: 199\n",
      "episode: 1224, total reward: 200.0, average_reward: 179.5, length: 199\n",
      "episode: 1225, total reward: 165.0, average_reward: 176.0, length: 164\n",
      "episode: 1226, total reward: 200.0, average_reward: 180.0, length: 199\n",
      "episode: 1227, total reward: 178.0, average_reward: 181.2, length: 177\n",
      "episode: 1228, total reward: 200.0, average_reward: 181.2, length: 199\n",
      "episode: 1229, total reward: 200.0, average_reward: 187.6, length: 199\n",
      "episode: 1230, total reward: 160.0, average_reward: 190.3, length: 159\n",
      "episode: 1231, total reward: 200.0, average_reward: 190.3, length: 199\n",
      "episode: 1232, total reward: 169.0, average_reward: 187.2, length: 168\n",
      "episode: 1233, total reward: 108.0, average_reward: 178.0, length: 107\n",
      "episode: 1234, total reward: 179.0, average_reward: 175.9, length: 178\n",
      "episode: 1235, total reward: 200.0, average_reward: 179.4, length: 199\n",
      "episode: 1236, total reward: 200.0, average_reward: 179.4, length: 199\n",
      "episode: 1237, total reward: 200.0, average_reward: 181.6, length: 199\n",
      "episode: 1238, total reward: 200.0, average_reward: 181.6, length: 199\n",
      "episode: 1239, total reward: 200.0, average_reward: 181.6, length: 199\n",
      "episode: 1240, total reward: 196.0, average_reward: 185.2, length: 195\n",
      "episode: 1241, total reward: 200.0, average_reward: 185.2, length: 199\n",
      "episode: 1242, total reward: 174.0, average_reward: 185.7, length: 173\n",
      "episode: 1243, total reward: 200.0, average_reward: 194.9, length: 199\n",
      "episode: 1244, total reward: 75.0, average_reward: 184.5, length: 74\n",
      "episode: 1245, total reward: 199.0, average_reward: 184.4, length: 198\n",
      "episode: 1246, total reward: 200.0, average_reward: 184.4, length: 199\n",
      "episode: 1247, total reward: 200.0, average_reward: 184.4, length: 199\n",
      "episode: 1248, total reward: 200.0, average_reward: 184.4, length: 199\n",
      "episode: 1249, total reward: 200.0, average_reward: 184.4, length: 199\n",
      "episode: 1250, total reward: 200.0, average_reward: 184.8, length: 199\n",
      "episode: 1251, total reward: 200.0, average_reward: 184.8, length: 199\n",
      "episode: 1252, total reward: 200.0, average_reward: 187.4, length: 199\n",
      "episode: 1253, total reward: 200.0, average_reward: 187.4, length: 199\n",
      "episode: 1254, total reward: 200.0, average_reward: 199.9, length: 199\n",
      "episode: 1255, total reward: 200.0, average_reward: 200.0, length: 199\n",
      "episode: 1256, total reward: 143.0, average_reward: 194.3, length: 142\n",
      "episode: 1257, total reward: 200.0, average_reward: 194.3, length: 199\n",
      "episode: 1258, total reward: 200.0, average_reward: 194.3, length: 199\n",
      "episode: 1259, total reward: 166.0, average_reward: 190.9, length: 165\n",
      "episode: 1260, total reward: 200.0, average_reward: 190.9, length: 199\n",
      "episode: 1261, total reward: 113.0, average_reward: 182.2, length: 112\n",
      "episode: 1262, total reward: 200.0, average_reward: 182.2, length: 199\n",
      "episode: 1263, total reward: 180.0, average_reward: 180.2, length: 179\n",
      "episode: 1264, total reward: 179.0, average_reward: 178.1, length: 178\n",
      "episode: 1265, total reward: 200.0, average_reward: 178.1, length: 199\n",
      "episode: 1266, total reward: 200.0, average_reward: 183.8, length: 199\n",
      "episode: 1267, total reward: 200.0, average_reward: 183.8, length: 199\n",
      "episode: 1268, total reward: 200.0, average_reward: 183.8, length: 199\n",
      "episode: 1269, total reward: 200.0, average_reward: 187.2, length: 199\n",
      "episode: 1270, total reward: 200.0, average_reward: 187.2, length: 199\n",
      "episode: 1271, total reward: 200.0, average_reward: 195.9, length: 199\n",
      "episode: 1272, total reward: 200.0, average_reward: 195.9, length: 199\n",
      "episode: 1273, total reward: 200.0, average_reward: 197.9, length: 199\n",
      "episode: 1274, total reward: 183.0, average_reward: 198.3, length: 182\n",
      "episode: 1275, total reward: 172.0, average_reward: 195.5, length: 171\n",
      "episode: 1276, total reward: 153.0, average_reward: 190.8, length: 152\n",
      "episode: 1277, total reward: 200.0, average_reward: 190.8, length: 199\n",
      "episode: 1278, total reward: 200.0, average_reward: 190.8, length: 199\n",
      "episode: 1279, total reward: 200.0, average_reward: 190.8, length: 199\n",
      "episode: 1280, total reward: 188.0, average_reward: 189.6, length: 187\n",
      "episode: 1281, total reward: 176.0, average_reward: 187.2, length: 175\n",
      "episode: 1282, total reward: 200.0, average_reward: 187.2, length: 199\n",
      "episode: 1283, total reward: 200.0, average_reward: 187.2, length: 199\n",
      "episode: 1284, total reward: 191.0, average_reward: 188.0, length: 190\n",
      "episode: 1285, total reward: 200.0, average_reward: 190.8, length: 199\n",
      "episode: 1286, total reward: 200.0, average_reward: 195.5, length: 199\n",
      "episode: 1287, total reward: 131.0, average_reward: 188.6, length: 130\n",
      "episode: 1288, total reward: 200.0, average_reward: 188.6, length: 199\n",
      "episode: 1289, total reward: 200.0, average_reward: 188.6, length: 199\n",
      "episode: 1290, total reward: 173.0, average_reward: 187.1, length: 172\n",
      "episode: 1291, total reward: 200.0, average_reward: 189.5, length: 199\n",
      "episode: 1292, total reward: 118.0, average_reward: 181.3, length: 117\n",
      "episode: 1293, total reward: 128.0, average_reward: 174.1, length: 127\n",
      "episode: 1294, total reward: 125.0, average_reward: 167.5, length: 124\n",
      "episode: 1295, total reward: 171.0, average_reward: 164.6, length: 170\n",
      "episode: 1296, total reward: 200.0, average_reward: 164.6, length: 199\n",
      "episode: 1297, total reward: 186.0, average_reward: 170.1, length: 185\n",
      "episode: 1298, total reward: 108.0, average_reward: 160.9, length: 107\n",
      "episode: 1299, total reward: 200.0, average_reward: 160.9, length: 199\n",
      "episode: 1300, total reward: 200.0, average_reward: 163.6, length: 199\n",
      "episode: 1301, total reward: 200.0, average_reward: 163.6, length: 199\n",
      "episode: 1302, total reward: 200.0, average_reward: 171.8, length: 199\n",
      "episode: 1303, total reward: 178.0, average_reward: 176.8, length: 177\n",
      "episode: 1304, total reward: 113.0, average_reward: 175.6, length: 112\n",
      "episode: 1305, total reward: 200.0, average_reward: 178.5, length: 199\n",
      "episode: 1306, total reward: 200.0, average_reward: 178.5, length: 199\n",
      "episode: 1307, total reward: 200.0, average_reward: 179.9, length: 199\n",
      "episode: 1308, total reward: 176.0, average_reward: 186.7, length: 175\n",
      "episode: 1309, total reward: 198.0, average_reward: 186.5, length: 197\n",
      "episode: 1310, total reward: 200.0, average_reward: 186.5, length: 199\n",
      "episode: 1311, total reward: 200.0, average_reward: 186.5, length: 199\n",
      "episode: 1312, total reward: 128.0, average_reward: 179.3, length: 127\n",
      "episode: 1313, total reward: 200.0, average_reward: 181.5, length: 199\n",
      "episode: 1314, total reward: 191.0, average_reward: 189.3, length: 190\n",
      "episode: 1315, total reward: 200.0, average_reward: 189.3, length: 199\n",
      "episode: 1316, total reward: 110.0, average_reward: 180.3, length: 109\n",
      "episode: 1317, total reward: 148.0, average_reward: 175.1, length: 147\n",
      "episode: 1318, total reward: 138.0, average_reward: 171.3, length: 137\n",
      "episode: 1319, total reward: 200.0, average_reward: 171.5, length: 199\n",
      "episode: 1320, total reward: 170.0, average_reward: 168.5, length: 169\n",
      "episode: 1321, total reward: 200.0, average_reward: 168.5, length: 199\n",
      "episode: 1322, total reward: 200.0, average_reward: 175.7, length: 199\n",
      "episode: 1323, total reward: 176.0, average_reward: 173.3, length: 175\n",
      "episode: 1324, total reward: 200.0, average_reward: 174.2, length: 199\n",
      "episode: 1325, total reward: 144.0, average_reward: 168.6, length: 143\n",
      "episode: 1326, total reward: 200.0, average_reward: 177.6, length: 199\n",
      "episode: 1327, total reward: 199.0, average_reward: 182.7, length: 198\n",
      "episode: 1328, total reward: 200.0, average_reward: 188.9, length: 199\n",
      "episode: 1329, total reward: 188.0, average_reward: 187.7, length: 187\n"
     ]
    },
    {
     "name": "stdout",
     "output_type": "stream",
     "text": [
      "episode: 1330, total reward: 190.0, average_reward: 189.7, length: 189\n",
      "episode: 1331, total reward: 167.0, average_reward: 186.4, length: 166\n",
      "episode: 1332, total reward: 200.0, average_reward: 186.4, length: 199\n",
      "episode: 1333, total reward: 192.0, average_reward: 188.0, length: 191\n",
      "episode: 1334, total reward: 200.0, average_reward: 188.0, length: 199\n",
      "episode: 1335, total reward: 174.0, average_reward: 191.0, length: 173\n",
      "episode: 1336, total reward: 200.0, average_reward: 191.0, length: 199\n",
      "episode: 1337, total reward: 200.0, average_reward: 191.1, length: 199\n",
      "episode: 1338, total reward: 79.0, average_reward: 179.0, length: 78\n",
      "episode: 1339, total reward: 148.0, average_reward: 175.0, length: 147\n",
      "episode: 1340, total reward: 162.0, average_reward: 172.2, length: 161\n",
      "episode: 1341, total reward: 182.0, average_reward: 173.7, length: 181\n",
      "episode: 1342, total reward: 176.0, average_reward: 171.3, length: 175\n",
      "episode: 1343, total reward: 200.0, average_reward: 172.1, length: 199\n",
      "episode: 1344, total reward: 124.0, average_reward: 164.5, length: 123\n",
      "episode: 1345, total reward: 200.0, average_reward: 167.1, length: 199\n",
      "episode: 1346, total reward: 143.0, average_reward: 161.4, length: 142\n",
      "episode: 1347, total reward: 200.0, average_reward: 161.4, length: 199\n",
      "episode: 1348, total reward: 111.0, average_reward: 164.6, length: 110\n",
      "episode: 1349, total reward: 200.0, average_reward: 169.8, length: 199\n",
      "episode: 1350, total reward: 169.0, average_reward: 170.5, length: 168\n",
      "episode: 1351, total reward: 75.0, average_reward: 159.8, length: 74\n",
      "episode: 1352, total reward: 181.0, average_reward: 160.3, length: 180\n",
      "episode: 1353, total reward: 85.0, average_reward: 148.8, length: 84\n",
      "episode: 1354, total reward: 200.0, average_reward: 156.4, length: 199\n",
      "episode: 1355, total reward: 142.0, average_reward: 150.6, length: 141\n",
      "episode: 1356, total reward: 200.0, average_reward: 156.3, length: 199\n",
      "episode: 1357, total reward: 200.0, average_reward: 156.3, length: 199\n",
      "episode: 1358, total reward: 200.0, average_reward: 165.2, length: 199\n",
      "episode: 1359, total reward: 132.0, average_reward: 158.4, length: 131\n",
      "episode: 1360, total reward: 72.0, average_reward: 148.7, length: 71\n",
      "episode: 1361, total reward: 150.0, average_reward: 156.2, length: 149\n",
      "episode: 1362, total reward: 103.0, average_reward: 148.4, length: 102\n",
      "episode: 1363, total reward: 151.0, average_reward: 155.0, length: 150\n",
      "episode: 1364, total reward: 111.0, average_reward: 146.1, length: 110\n",
      "episode: 1365, total reward: 135.0, average_reward: 145.4, length: 134\n",
      "episode: 1366, total reward: 200.0, average_reward: 145.4, length: 199\n",
      "episode: 1367, total reward: 148.0, average_reward: 140.2, length: 147\n",
      "episode: 1368, total reward: 104.0, average_reward: 130.6, length: 103\n",
      "episode: 1369, total reward: 200.0, average_reward: 137.4, length: 199\n",
      "episode: 1370, total reward: 180.0, average_reward: 148.2, length: 179\n",
      "episode: 1371, total reward: 200.0, average_reward: 153.2, length: 199\n",
      "episode: 1372, total reward: 184.0, average_reward: 161.3, length: 183\n",
      "episode: 1373, total reward: 200.0, average_reward: 166.2, length: 199\n",
      "episode: 1374, total reward: 200.0, average_reward: 175.1, length: 199\n",
      "episode: 1375, total reward: 104.0, average_reward: 172.0, length: 103\n",
      "episode: 1376, total reward: 200.0, average_reward: 172.0, length: 199\n",
      "episode: 1377, total reward: 200.0, average_reward: 177.2, length: 199\n",
      "episode: 1378, total reward: 173.0, average_reward: 184.1, length: 172\n",
      "episode: 1379, total reward: 165.0, average_reward: 180.6, length: 164\n",
      "episode: 1380, total reward: 200.0, average_reward: 182.6, length: 199\n",
      "episode: 1381, total reward: 200.0, average_reward: 182.6, length: 199\n",
      "episode: 1382, total reward: 200.0, average_reward: 184.2, length: 199\n",
      "episode: 1383, total reward: 154.0, average_reward: 179.6, length: 153\n",
      "episode: 1384, total reward: 200.0, average_reward: 179.6, length: 199\n",
      "episode: 1385, total reward: 200.0, average_reward: 189.2, length: 199\n",
      "episode: 1386, total reward: 151.0, average_reward: 184.3, length: 150\n",
      "episode: 1387, total reward: 200.0, average_reward: 184.3, length: 199\n",
      "episode: 1388, total reward: 200.0, average_reward: 187.0, length: 199\n",
      "episode: 1389, total reward: 200.0, average_reward: 190.5, length: 199\n",
      "episode: 1390, total reward: 200.0, average_reward: 190.5, length: 199\n",
      "episode: 1391, total reward: 200.0, average_reward: 190.5, length: 199\n",
      "episode: 1392, total reward: 200.0, average_reward: 190.5, length: 199\n",
      "episode: 1393, total reward: 200.0, average_reward: 195.1, length: 199\n",
      "episode: 1394, total reward: 200.0, average_reward: 195.1, length: 199\n",
      "episode: 1395, total reward: 139.0, average_reward: 189.0, length: 138\n",
      "episode: 1396, total reward: 200.0, average_reward: 193.9, length: 199\n",
      "episode: 1397, total reward: 200.0, average_reward: 193.9, length: 199\n",
      "episode: 1398, total reward: 200.0, average_reward: 193.9, length: 199\n",
      "episode: 1399, total reward: 168.0, average_reward: 190.7, length: 167\n",
      "episode: 1400, total reward: 200.0, average_reward: 190.7, length: 199\n",
      "episode: 1401, total reward: 132.0, average_reward: 183.9, length: 131\n",
      "episode: 1402, total reward: 169.0, average_reward: 180.8, length: 168\n",
      "episode: 1403, total reward: 200.0, average_reward: 180.8, length: 199\n",
      "episode: 1404, total reward: 200.0, average_reward: 180.8, length: 199\n",
      "episode: 1405, total reward: 178.0, average_reward: 184.7, length: 177\n",
      "episode: 1406, total reward: 200.0, average_reward: 184.7, length: 199\n",
      "episode: 1407, total reward: 200.0, average_reward: 184.7, length: 199\n",
      "episode: 1408, total reward: 100.0, average_reward: 174.7, length: 99\n",
      "episode: 1409, total reward: 200.0, average_reward: 177.9, length: 199\n",
      "episode: 1410, total reward: 200.0, average_reward: 177.9, length: 199\n",
      "episode: 1411, total reward: 84.0, average_reward: 173.1, length: 83\n",
      "episode: 1412, total reward: 200.0, average_reward: 176.2, length: 199\n",
      "episode: 1413, total reward: 200.0, average_reward: 176.2, length: 199\n",
      "episode: 1414, total reward: 200.0, average_reward: 176.2, length: 199\n",
      "episode: 1415, total reward: 73.0, average_reward: 165.7, length: 72\n",
      "episode: 1416, total reward: 200.0, average_reward: 165.7, length: 199\n",
      "episode: 1417, total reward: 200.0, average_reward: 165.7, length: 199\n",
      "episode: 1418, total reward: 134.0, average_reward: 169.1, length: 133\n",
      "episode: 1419, total reward: 25.0, average_reward: 151.6, length: 24\n",
      "episode: 1420, total reward: 200.0, average_reward: 151.6, length: 199\n",
      "episode: 1421, total reward: 200.0, average_reward: 163.2, length: 199\n",
      "episode: 1422, total reward: 175.0, average_reward: 160.7, length: 174\n",
      "episode: 1423, total reward: 200.0, average_reward: 160.7, length: 199\n",
      "episode: 1424, total reward: 200.0, average_reward: 160.7, length: 199\n",
      "episode: 1425, total reward: 197.0, average_reward: 173.1, length: 196\n",
      "episode: 1426, total reward: 175.0, average_reward: 170.6, length: 174\n",
      "episode: 1427, total reward: 195.0, average_reward: 170.1, length: 194\n",
      "episode: 1428, total reward: 152.0, average_reward: 171.9, length: 151\n",
      "episode: 1429, total reward: 200.0, average_reward: 189.4, length: 199\n",
      "episode: 1430, total reward: 191.0, average_reward: 188.5, length: 190\n",
      "episode: 1431, total reward: 198.0, average_reward: 188.3, length: 197\n",
      "episode: 1432, total reward: 200.0, average_reward: 190.8, length: 199\n",
      "episode: 1433, total reward: 126.0, average_reward: 183.4, length: 125\n",
      "episode: 1434, total reward: 200.0, average_reward: 183.4, length: 199\n",
      "episode: 1435, total reward: 145.0, average_reward: 178.2, length: 144\n",
      "episode: 1436, total reward: 200.0, average_reward: 180.7, length: 199\n",
      "episode: 1437, total reward: 196.0, average_reward: 180.8, length: 195\n",
      "episode: 1438, total reward: 200.0, average_reward: 185.6, length: 199\n",
      "episode: 1439, total reward: 200.0, average_reward: 185.6, length: 199\n",
      "episode: 1440, total reward: 200.0, average_reward: 186.5, length: 199\n",
      "episode: 1441, total reward: 165.0, average_reward: 183.2, length: 164\n",
      "episode: 1442, total reward: 200.0, average_reward: 183.2, length: 199\n",
      "episode: 1443, total reward: 119.0, average_reward: 182.5, length: 118\n",
      "episode: 1444, total reward: 200.0, average_reward: 182.5, length: 199\n",
      "episode: 1445, total reward: 200.0, average_reward: 188.0, length: 199\n",
      "episode: 1446, total reward: 200.0, average_reward: 188.0, length: 199\n"
     ]
    },
    {
     "name": "stdout",
     "output_type": "stream",
     "text": [
      "episode: 1447, total reward: 200.0, average_reward: 188.4, length: 199\n",
      "episode: 1448, total reward: 200.0, average_reward: 188.4, length: 199\n",
      "episode: 1449, total reward: 200.0, average_reward: 188.4, length: 199\n",
      "episode: 1450, total reward: 200.0, average_reward: 188.4, length: 199\n",
      "episode: 1451, total reward: 200.0, average_reward: 191.9, length: 199\n",
      "episode: 1452, total reward: 200.0, average_reward: 191.9, length: 199\n",
      "episode: 1453, total reward: 199.0, average_reward: 199.9, length: 198\n",
      "episode: 1454, total reward: 141.0, average_reward: 194.0, length: 140\n",
      "episode: 1455, total reward: 188.0, average_reward: 192.8, length: 187\n",
      "episode: 1456, total reward: 44.0, average_reward: 177.2, length: 43\n",
      "episode: 1457, total reward: 200.0, average_reward: 177.2, length: 199\n",
      "episode: 1458, total reward: 200.0, average_reward: 177.2, length: 199\n",
      "episode: 1459, total reward: 197.0, average_reward: 176.9, length: 196\n",
      "episode: 1460, total reward: 200.0, average_reward: 176.9, length: 199\n",
      "episode: 1461, total reward: 186.0, average_reward: 175.5, length: 185\n",
      "episode: 1462, total reward: 200.0, average_reward: 175.5, length: 199\n",
      "episode: 1463, total reward: 200.0, average_reward: 175.6, length: 199\n",
      "episode: 1464, total reward: 200.0, average_reward: 181.5, length: 199\n",
      "episode: 1465, total reward: 200.0, average_reward: 182.7, length: 199\n",
      "episode: 1466, total reward: 200.0, average_reward: 198.3, length: 199\n",
      "episode: 1467, total reward: 182.0, average_reward: 196.5, length: 181\n",
      "episode: 1468, total reward: 200.0, average_reward: 196.5, length: 199\n",
      "episode: 1469, total reward: 176.0, average_reward: 194.4, length: 175\n",
      "episode: 1470, total reward: 195.0, average_reward: 193.9, length: 194\n",
      "episode: 1471, total reward: 200.0, average_reward: 195.3, length: 199\n",
      "episode: 1472, total reward: 182.0, average_reward: 193.5, length: 181\n",
      "episode: 1473, total reward: 200.0, average_reward: 193.5, length: 199\n",
      "episode: 1474, total reward: 171.0, average_reward: 190.6, length: 170\n",
      "episode: 1475, total reward: 200.0, average_reward: 190.6, length: 199\n",
      "episode: 1476, total reward: 200.0, average_reward: 190.6, length: 199\n",
      "episode: 1477, total reward: 200.0, average_reward: 192.4, length: 199\n",
      "episode: 1478, total reward: 200.0, average_reward: 192.4, length: 199\n",
      "episode: 1479, total reward: 200.0, average_reward: 194.8, length: 199\n",
      "episode: 1480, total reward: 107.0, average_reward: 186.0, length: 106\n",
      "episode: 1481, total reward: 116.0, average_reward: 177.6, length: 115\n",
      "episode: 1482, total reward: 200.0, average_reward: 179.4, length: 199\n",
      "episode: 1483, total reward: 200.0, average_reward: 179.4, length: 199\n",
      "episode: 1484, total reward: 200.0, average_reward: 182.3, length: 199\n",
      "episode: 1485, total reward: 200.0, average_reward: 182.3, length: 199\n",
      "episode: 1486, total reward: 110.0, average_reward: 173.3, length: 109\n",
      "episode: 1487, total reward: 200.0, average_reward: 173.3, length: 199\n",
      "episode: 1488, total reward: 200.0, average_reward: 173.3, length: 199\n",
      "episode: 1489, total reward: 200.0, average_reward: 173.3, length: 199\n",
      "episode: 1490, total reward: 200.0, average_reward: 182.6, length: 199\n",
      "episode: 1491, total reward: 172.0, average_reward: 188.2, length: 171\n",
      "episode: 1492, total reward: 200.0, average_reward: 188.2, length: 199\n",
      "episode: 1493, total reward: 192.0, average_reward: 187.4, length: 191\n",
      "episode: 1494, total reward: 168.0, average_reward: 184.2, length: 167\n",
      "episode: 1495, total reward: 147.0, average_reward: 178.9, length: 146\n",
      "episode: 1496, total reward: 200.0, average_reward: 187.9, length: 199\n",
      "episode: 1497, total reward: 200.0, average_reward: 187.9, length: 199\n",
      "episode: 1498, total reward: 200.0, average_reward: 187.9, length: 199\n",
      "episode: 1499, total reward: 200.0, average_reward: 187.9, length: 199\n",
      "episode: 1500, total reward: 194.0, average_reward: 187.3, length: 193\n",
      "episode: 1501, total reward: 200.0, average_reward: 190.1, length: 199\n",
      "episode: 1502, total reward: 139.0, average_reward: 184.0, length: 138\n",
      "episode: 1503, total reward: 200.0, average_reward: 184.8, length: 199\n",
      "episode: 1504, total reward: 200.0, average_reward: 188.0, length: 199\n",
      "episode: 1505, total reward: 197.0, average_reward: 193.0, length: 196\n",
      "episode: 1506, total reward: 200.0, average_reward: 193.0, length: 199\n",
      "episode: 1507, total reward: 200.0, average_reward: 193.0, length: 199\n",
      "episode: 1508, total reward: 200.0, average_reward: 193.0, length: 199\n",
      "episode: 1509, total reward: 200.0, average_reward: 193.0, length: 199\n",
      "episode: 1510, total reward: 200.0, average_reward: 193.6, length: 199\n",
      "episode: 1511, total reward: 200.0, average_reward: 193.6, length: 199\n",
      "episode: 1512, total reward: 186.0, average_reward: 198.3, length: 185\n",
      "episode: 1513, total reward: 200.0, average_reward: 198.3, length: 199\n",
      "episode: 1514, total reward: 200.0, average_reward: 198.3, length: 199\n",
      "episode: 1515, total reward: 200.0, average_reward: 198.6, length: 199\n",
      "episode: 1516, total reward: 200.0, average_reward: 198.6, length: 199\n",
      "episode: 1517, total reward: 200.0, average_reward: 198.6, length: 199\n",
      "episode: 1518, total reward: 200.0, average_reward: 198.6, length: 199\n",
      "episode: 1519, total reward: 200.0, average_reward: 198.6, length: 199\n",
      "episode: 1520, total reward: 200.0, average_reward: 198.6, length: 199\n",
      "episode: 1521, total reward: 200.0, average_reward: 198.6, length: 199\n",
      "episode: 1522, total reward: 187.0, average_reward: 198.7, length: 186\n",
      "episode: 1523, total reward: 200.0, average_reward: 198.7, length: 199\n",
      "episode: 1524, total reward: 200.0, average_reward: 198.7, length: 199\n",
      "episode: 1525, total reward: 200.0, average_reward: 198.7, length: 199\n",
      "episode: 1526, total reward: 200.0, average_reward: 198.7, length: 199\n",
      "episode: 1527, total reward: 167.0, average_reward: 195.4, length: 166\n",
      "episode: 1528, total reward: 200.0, average_reward: 195.4, length: 199\n",
      "episode: 1529, total reward: 200.0, average_reward: 195.4, length: 199\n",
      "episode: 1530, total reward: 200.0, average_reward: 195.4, length: 199\n",
      "episode: 1531, total reward: 200.0, average_reward: 195.4, length: 199\n",
      "episode: 1532, total reward: 192.0, average_reward: 195.9, length: 191\n",
      "episode: 1533, total reward: 200.0, average_reward: 195.9, length: 199\n",
      "episode: 1534, total reward: 200.0, average_reward: 195.9, length: 199\n",
      "episode: 1535, total reward: 200.0, average_reward: 195.9, length: 199\n",
      "episode: 1536, total reward: 200.0, average_reward: 195.9, length: 199\n",
      "episode: 1537, total reward: 200.0, average_reward: 199.2, length: 199\n",
      "episode: 1538, total reward: 190.0, average_reward: 198.2, length: 189\n",
      "episode: 1539, total reward: 188.0, average_reward: 197.0, length: 187\n",
      "episode: 1540, total reward: 126.0, average_reward: 189.6, length: 125\n",
      "episode: 1541, total reward: 157.0, average_reward: 185.3, length: 156\n",
      "episode: 1542, total reward: 200.0, average_reward: 186.1, length: 199\n",
      "episode: 1543, total reward: 200.0, average_reward: 186.1, length: 199\n",
      "episode: 1544, total reward: 200.0, average_reward: 186.1, length: 199\n",
      "episode: 1545, total reward: 200.0, average_reward: 186.1, length: 199\n",
      "episode: 1546, total reward: 175.0, average_reward: 183.6, length: 174\n",
      "episode: 1547, total reward: 200.0, average_reward: 183.6, length: 199\n",
      "episode: 1548, total reward: 200.0, average_reward: 184.6, length: 199\n",
      "episode: 1549, total reward: 147.0, average_reward: 180.5, length: 146\n",
      "episode: 1550, total reward: 200.0, average_reward: 187.9, length: 199\n",
      "episode: 1551, total reward: 200.0, average_reward: 192.2, length: 199\n",
      "episode: 1552, total reward: 200.0, average_reward: 192.2, length: 199\n",
      "episode: 1553, total reward: 200.0, average_reward: 192.2, length: 199\n",
      "episode: 1554, total reward: 200.0, average_reward: 192.2, length: 199\n",
      "episode: 1555, total reward: 200.0, average_reward: 192.2, length: 199\n",
      "episode: 1556, total reward: 200.0, average_reward: 194.7, length: 199\n",
      "episode: 1557, total reward: 165.0, average_reward: 191.2, length: 164\n",
      "episode: 1558, total reward: 200.0, average_reward: 191.2, length: 199\n",
      "episode: 1559, total reward: 200.0, average_reward: 196.5, length: 199\n",
      "episode: 1560, total reward: 169.0, average_reward: 193.4, length: 168\n",
      "episode: 1561, total reward: 189.0, average_reward: 192.3, length: 188\n",
      "episode: 1562, total reward: 200.0, average_reward: 192.3, length: 199\n"
     ]
    },
    {
     "name": "stdout",
     "output_type": "stream",
     "text": [
      "episode: 1563, total reward: 200.0, average_reward: 192.3, length: 199\n",
      "episode: 1564, total reward: 200.0, average_reward: 192.3, length: 199\n",
      "episode: 1565, total reward: 200.0, average_reward: 192.3, length: 199\n",
      "episode: 1566, total reward: 132.0, average_reward: 185.5, length: 131\n",
      "episode: 1567, total reward: 200.0, average_reward: 189.0, length: 199\n",
      "episode: 1568, total reward: 186.0, average_reward: 187.6, length: 185\n",
      "episode: 1569, total reward: 200.0, average_reward: 187.6, length: 199\n",
      "episode: 1570, total reward: 162.0, average_reward: 186.9, length: 161\n",
      "episode: 1571, total reward: 200.0, average_reward: 188.0, length: 199\n",
      "episode: 1572, total reward: 200.0, average_reward: 188.0, length: 199\n",
      "episode: 1573, total reward: 192.0, average_reward: 187.2, length: 191\n",
      "episode: 1574, total reward: 200.0, average_reward: 187.2, length: 199\n",
      "episode: 1575, total reward: 200.0, average_reward: 187.2, length: 199\n",
      "episode: 1576, total reward: 192.0, average_reward: 193.2, length: 191\n",
      "episode: 1577, total reward: 200.0, average_reward: 193.2, length: 199\n",
      "episode: 1578, total reward: 200.0, average_reward: 194.6, length: 199\n",
      "episode: 1579, total reward: 194.0, average_reward: 194.0, length: 193\n",
      "episode: 1580, total reward: 200.0, average_reward: 197.8, length: 199\n",
      "episode: 1581, total reward: 200.0, average_reward: 197.8, length: 199\n",
      "episode: 1582, total reward: 200.0, average_reward: 197.8, length: 199\n",
      "episode: 1583, total reward: 186.0, average_reward: 197.2, length: 185\n",
      "episode: 1584, total reward: 200.0, average_reward: 197.2, length: 199\n",
      "episode: 1585, total reward: 145.0, average_reward: 191.7, length: 144\n",
      "episode: 1586, total reward: 200.0, average_reward: 192.5, length: 199\n",
      "episode: 1587, total reward: 200.0, average_reward: 192.5, length: 199\n",
      "episode: 1588, total reward: 200.0, average_reward: 192.5, length: 199\n",
      "episode: 1589, total reward: 200.0, average_reward: 193.1, length: 199\n",
      "episode: 1590, total reward: 145.0, average_reward: 187.6, length: 144\n",
      "episode: 1591, total reward: 200.0, average_reward: 187.6, length: 199\n",
      "episode: 1592, total reward: 149.0, average_reward: 182.5, length: 148\n",
      "episode: 1593, total reward: 200.0, average_reward: 183.9, length: 199\n",
      "episode: 1594, total reward: 200.0, average_reward: 183.9, length: 199\n",
      "episode: 1595, total reward: 200.0, average_reward: 189.4, length: 199\n",
      "episode: 1596, total reward: 200.0, average_reward: 189.4, length: 199\n",
      "episode: 1597, total reward: 116.0, average_reward: 181.0, length: 115\n",
      "episode: 1598, total reward: 190.0, average_reward: 180.0, length: 189\n",
      "episode: 1599, total reward: 120.0, average_reward: 172.0, length: 119\n",
      "episode: 1600, total reward: 188.0, average_reward: 176.3, length: 187\n",
      "episode: 1601, total reward: 150.0, average_reward: 171.3, length: 149\n",
      "episode: 1602, total reward: 200.0, average_reward: 176.4, length: 199\n",
      "episode: 1603, total reward: 161.0, average_reward: 172.5, length: 160\n",
      "episode: 1604, total reward: 200.0, average_reward: 172.5, length: 199\n",
      "episode: 1605, total reward: 151.0, average_reward: 167.6, length: 150\n",
      "episode: 1606, total reward: 200.0, average_reward: 167.6, length: 199\n",
      "episode: 1607, total reward: 200.0, average_reward: 176.0, length: 199\n",
      "episode: 1608, total reward: 200.0, average_reward: 177.0, length: 199\n",
      "episode: 1609, total reward: 111.0, average_reward: 176.1, length: 110\n",
      "episode: 1610, total reward: 200.0, average_reward: 177.3, length: 199\n",
      "episode: 1611, total reward: 200.0, average_reward: 182.3, length: 199\n",
      "episode: 1612, total reward: 161.0, average_reward: 178.4, length: 160\n",
      "episode: 1613, total reward: 200.0, average_reward: 182.3, length: 199\n",
      "episode: 1614, total reward: 187.0, average_reward: 181.0, length: 186\n",
      "episode: 1615, total reward: 176.0, average_reward: 183.5, length: 175\n",
      "episode: 1616, total reward: 200.0, average_reward: 183.5, length: 199\n",
      "episode: 1617, total reward: 200.0, average_reward: 183.5, length: 199\n",
      "episode: 1618, total reward: 200.0, average_reward: 183.5, length: 199\n",
      "episode: 1619, total reward: 200.0, average_reward: 192.4, length: 199\n",
      "episode: 1620, total reward: 200.0, average_reward: 192.4, length: 199\n",
      "episode: 1621, total reward: 128.0, average_reward: 185.2, length: 127\n",
      "episode: 1622, total reward: 200.0, average_reward: 189.1, length: 199\n",
      "episode: 1623, total reward: 200.0, average_reward: 189.1, length: 199\n",
      "episode: 1624, total reward: 200.0, average_reward: 190.4, length: 199\n",
      "episode: 1625, total reward: 134.0, average_reward: 186.2, length: 133\n",
      "episode: 1626, total reward: 200.0, average_reward: 186.2, length: 199\n",
      "episode: 1627, total reward: 177.0, average_reward: 183.9, length: 176\n",
      "episode: 1628, total reward: 200.0, average_reward: 183.9, length: 199\n",
      "episode: 1629, total reward: 200.0, average_reward: 183.9, length: 199\n",
      "episode: 1630, total reward: 176.0, average_reward: 181.5, length: 175\n",
      "episode: 1631, total reward: 135.0, average_reward: 182.2, length: 134\n",
      "episode: 1632, total reward: 163.0, average_reward: 178.5, length: 162\n",
      "episode: 1633, total reward: 200.0, average_reward: 178.5, length: 199\n",
      "episode: 1634, total reward: 176.0, average_reward: 176.1, length: 175\n",
      "episode: 1635, total reward: 193.0, average_reward: 182.0, length: 192\n",
      "episode: 1636, total reward: 200.0, average_reward: 182.0, length: 199\n",
      "episode: 1637, total reward: 200.0, average_reward: 184.3, length: 199\n",
      "episode: 1638, total reward: 165.0, average_reward: 180.8, length: 164\n",
      "episode: 1639, total reward: 150.0, average_reward: 175.8, length: 149\n",
      "episode: 1640, total reward: 200.0, average_reward: 178.2, length: 199\n",
      "episode: 1641, total reward: 200.0, average_reward: 184.7, length: 199\n",
      "episode: 1642, total reward: 200.0, average_reward: 188.4, length: 199\n",
      "episode: 1643, total reward: 200.0, average_reward: 188.4, length: 199\n",
      "episode: 1644, total reward: 200.0, average_reward: 190.8, length: 199\n",
      "episode: 1645, total reward: 137.0, average_reward: 185.2, length: 136\n",
      "episode: 1646, total reward: 200.0, average_reward: 185.2, length: 199\n",
      "episode: 1647, total reward: 189.0, average_reward: 184.1, length: 188\n",
      "episode: 1648, total reward: 200.0, average_reward: 187.6, length: 199\n",
      "episode: 1649, total reward: 200.0, average_reward: 192.6, length: 199\n",
      "episode: 1650, total reward: 182.0, average_reward: 190.8, length: 181\n",
      "episode: 1651, total reward: 200.0, average_reward: 190.8, length: 199\n",
      "episode: 1652, total reward: 200.0, average_reward: 190.8, length: 199\n",
      "episode: 1653, total reward: 177.0, average_reward: 188.5, length: 176\n",
      "episode: 1654, total reward: 200.0, average_reward: 188.5, length: 199\n",
      "episode: 1655, total reward: 70.0, average_reward: 181.8, length: 69\n",
      "episode: 1656, total reward: 200.0, average_reward: 181.8, length: 199\n",
      "episode: 1657, total reward: 160.0, average_reward: 178.9, length: 159\n",
      "episode: 1658, total reward: 200.0, average_reward: 178.9, length: 199\n",
      "episode: 1659, total reward: 200.0, average_reward: 178.9, length: 199\n",
      "episode: 1660, total reward: 180.0, average_reward: 178.7, length: 179\n",
      "episode: 1661, total reward: 200.0, average_reward: 178.7, length: 199\n",
      "episode: 1662, total reward: 118.0, average_reward: 170.5, length: 117\n",
      "episode: 1663, total reward: 200.0, average_reward: 172.8, length: 199\n",
      "episode: 1664, total reward: 200.0, average_reward: 172.8, length: 199\n",
      "episode: 1665, total reward: 186.0, average_reward: 184.4, length: 185\n",
      "episode: 1666, total reward: 200.0, average_reward: 184.4, length: 199\n",
      "episode: 1667, total reward: 172.0, average_reward: 185.6, length: 171\n",
      "episode: 1668, total reward: 176.0, average_reward: 183.2, length: 175\n",
      "episode: 1669, total reward: 200.0, average_reward: 183.2, length: 199\n",
      "episode: 1670, total reward: 113.0, average_reward: 176.5, length: 112\n",
      "episode: 1671, total reward: 165.0, average_reward: 173.0, length: 164\n",
      "episode: 1672, total reward: 200.0, average_reward: 181.2, length: 199\n",
      "episode: 1673, total reward: 181.0, average_reward: 179.3, length: 180\n",
      "episode: 1674, total reward: 131.0, average_reward: 172.4, length: 130\n",
      "episode: 1675, total reward: 200.0, average_reward: 173.8, length: 199\n",
      "episode: 1676, total reward: 200.0, average_reward: 173.8, length: 199\n",
      "episode: 1677, total reward: 200.0, average_reward: 176.6, length: 199\n",
      "episode: 1678, total reward: 171.0, average_reward: 176.1, length: 170\n"
     ]
    },
    {
     "name": "stdout",
     "output_type": "stream",
     "text": [
      "episode: 1679, total reward: 180.0, average_reward: 174.1, length: 179\n",
      "episode: 1680, total reward: 90.0, average_reward: 171.8, length: 89\n",
      "episode: 1681, total reward: 200.0, average_reward: 175.3, length: 199\n",
      "episode: 1682, total reward: 139.0, average_reward: 169.2, length: 138\n",
      "episode: 1683, total reward: 200.0, average_reward: 171.1, length: 199\n",
      "episode: 1684, total reward: 170.0, average_reward: 175.0, length: 169\n",
      "episode: 1685, total reward: 148.0, average_reward: 169.8, length: 147\n",
      "episode: 1686, total reward: 200.0, average_reward: 169.8, length: 199\n",
      "episode: 1687, total reward: 191.0, average_reward: 168.9, length: 190\n",
      "episode: 1688, total reward: 200.0, average_reward: 171.8, length: 199\n",
      "episode: 1689, total reward: 200.0, average_reward: 173.8, length: 199\n",
      "episode: 1690, total reward: 128.0, average_reward: 177.6, length: 127\n",
      "episode: 1691, total reward: 124.0, average_reward: 170.0, length: 123\n",
      "episode: 1692, total reward: 200.0, average_reward: 176.1, length: 199\n",
      "episode: 1693, total reward: 200.0, average_reward: 176.1, length: 199\n",
      "episode: 1694, total reward: 200.0, average_reward: 179.1, length: 199\n",
      "episode: 1695, total reward: 156.0, average_reward: 179.9, length: 155\n",
      "episode: 1696, total reward: 200.0, average_reward: 179.9, length: 199\n",
      "episode: 1697, total reward: 200.0, average_reward: 180.8, length: 199\n",
      "episode: 1698, total reward: 200.0, average_reward: 180.8, length: 199\n",
      "episode: 1699, total reward: 200.0, average_reward: 180.8, length: 199\n",
      "episode: 1700, total reward: 180.0, average_reward: 186.0, length: 179\n",
      "episode: 1701, total reward: 29.0, average_reward: 176.5, length: 28\n",
      "episode: 1702, total reward: 200.0, average_reward: 176.5, length: 199\n",
      "episode: 1703, total reward: 128.0, average_reward: 169.3, length: 127\n",
      "episode: 1704, total reward: 200.0, average_reward: 169.3, length: 199\n",
      "episode: 1705, total reward: 200.0, average_reward: 173.7, length: 199\n",
      "episode: 1706, total reward: 200.0, average_reward: 173.7, length: 199\n",
      "episode: 1707, total reward: 200.0, average_reward: 173.7, length: 199\n",
      "episode: 1708, total reward: 200.0, average_reward: 173.7, length: 199\n",
      "episode: 1709, total reward: 200.0, average_reward: 173.7, length: 199\n",
      "episode: 1710, total reward: 200.0, average_reward: 175.7, length: 199\n",
      "episode: 1711, total reward: 164.0, average_reward: 189.2, length: 163\n",
      "episode: 1712, total reward: 200.0, average_reward: 189.2, length: 199\n",
      "episode: 1713, total reward: 166.0, average_reward: 193.0, length: 165\n",
      "episode: 1714, total reward: 200.0, average_reward: 193.0, length: 199\n",
      "episode: 1715, total reward: 200.0, average_reward: 193.0, length: 199\n",
      "episode: 1716, total reward: 200.0, average_reward: 193.0, length: 199\n",
      "episode: 1717, total reward: 53.0, average_reward: 178.3, length: 52\n",
      "episode: 1718, total reward: 200.0, average_reward: 178.3, length: 199\n",
      "episode: 1719, total reward: 200.0, average_reward: 178.3, length: 199\n",
      "episode: 1720, total reward: 200.0, average_reward: 178.3, length: 199\n",
      "episode: 1721, total reward: 200.0, average_reward: 181.9, length: 199\n",
      "episode: 1722, total reward: 200.0, average_reward: 181.9, length: 199\n",
      "episode: 1723, total reward: 182.0, average_reward: 183.5, length: 181\n",
      "episode: 1724, total reward: 200.0, average_reward: 183.5, length: 199\n",
      "episode: 1725, total reward: 181.0, average_reward: 181.6, length: 180\n",
      "episode: 1726, total reward: 200.0, average_reward: 181.6, length: 199\n",
      "episode: 1727, total reward: 192.0, average_reward: 195.5, length: 191\n",
      "episode: 1728, total reward: 160.0, average_reward: 191.5, length: 159\n",
      "episode: 1729, total reward: 200.0, average_reward: 191.5, length: 199\n",
      "episode: 1730, total reward: 200.0, average_reward: 191.5, length: 199\n",
      "episode: 1731, total reward: 200.0, average_reward: 191.5, length: 199\n",
      "episode: 1732, total reward: 151.0, average_reward: 186.6, length: 150\n",
      "episode: 1733, total reward: 200.0, average_reward: 188.4, length: 199\n",
      "episode: 1734, total reward: 200.0, average_reward: 188.4, length: 199\n",
      "episode: 1735, total reward: 200.0, average_reward: 190.3, length: 199\n",
      "episode: 1736, total reward: 200.0, average_reward: 190.3, length: 199\n",
      "episode: 1737, total reward: 200.0, average_reward: 191.1, length: 199\n",
      "episode: 1738, total reward: 164.0, average_reward: 191.5, length: 163\n",
      "episode: 1739, total reward: 175.0, average_reward: 189.0, length: 174\n",
      "episode: 1740, total reward: 200.0, average_reward: 189.0, length: 199\n",
      "episode: 1741, total reward: 200.0, average_reward: 189.0, length: 199\n",
      "episode: 1742, total reward: 200.0, average_reward: 193.9, length: 199\n",
      "episode: 1743, total reward: 200.0, average_reward: 193.9, length: 199\n",
      "episode: 1744, total reward: 133.0, average_reward: 187.2, length: 132\n",
      "episode: 1745, total reward: 100.0, average_reward: 177.2, length: 99\n",
      "episode: 1746, total reward: 181.0, average_reward: 175.3, length: 180\n",
      "episode: 1747, total reward: 135.0, average_reward: 168.8, length: 134\n",
      "episode: 1748, total reward: 200.0, average_reward: 172.4, length: 199\n",
      "episode: 1749, total reward: 130.0, average_reward: 167.9, length: 129\n",
      "episode: 1750, total reward: 200.0, average_reward: 167.9, length: 199\n",
      "episode: 1751, total reward: 136.0, average_reward: 161.5, length: 135\n",
      "episode: 1752, total reward: 200.0, average_reward: 161.5, length: 199\n",
      "episode: 1753, total reward: 200.0, average_reward: 161.5, length: 199\n",
      "episode: 1754, total reward: 146.0, average_reward: 162.8, length: 145\n",
      "episode: 1755, total reward: 200.0, average_reward: 172.8, length: 199\n",
      "episode: 1756, total reward: 150.0, average_reward: 169.7, length: 149\n",
      "episode: 1757, total reward: 200.0, average_reward: 176.2, length: 199\n",
      "episode: 1758, total reward: 176.0, average_reward: 173.8, length: 175\n",
      "episode: 1759, total reward: 200.0, average_reward: 180.8, length: 199\n",
      "episode: 1760, total reward: 160.0, average_reward: 176.8, length: 159\n",
      "episode: 1761, total reward: 197.0, average_reward: 182.9, length: 196\n",
      "episode: 1762, total reward: 200.0, average_reward: 182.9, length: 199\n",
      "episode: 1763, total reward: 127.0, average_reward: 175.6, length: 126\n",
      "episode: 1764, total reward: 200.0, average_reward: 181.0, length: 199\n",
      "episode: 1765, total reward: 200.0, average_reward: 181.0, length: 199\n",
      "episode: 1766, total reward: 200.0, average_reward: 186.0, length: 199\n",
      "episode: 1767, total reward: 195.0, average_reward: 185.5, length: 194\n",
      "episode: 1768, total reward: 200.0, average_reward: 187.9, length: 199\n",
      "episode: 1769, total reward: 200.0, average_reward: 187.9, length: 199\n",
      "episode: 1770, total reward: 199.0, average_reward: 191.8, length: 198\n",
      "episode: 1771, total reward: 200.0, average_reward: 192.1, length: 199\n",
      "episode: 1772, total reward: 179.0, average_reward: 190.0, length: 178\n",
      "episode: 1773, total reward: 200.0, average_reward: 197.3, length: 199\n",
      "episode: 1774, total reward: 200.0, average_reward: 197.3, length: 199\n",
      "episode: 1775, total reward: 191.0, average_reward: 196.4, length: 190\n",
      "episode: 1776, total reward: 200.0, average_reward: 196.4, length: 199\n",
      "episode: 1777, total reward: 200.0, average_reward: 196.9, length: 199\n",
      "episode: 1778, total reward: 200.0, average_reward: 196.9, length: 199\n",
      "episode: 1779, total reward: 200.0, average_reward: 196.9, length: 199\n",
      "episode: 1780, total reward: 200.0, average_reward: 197.0, length: 199\n",
      "episode: 1781, total reward: 149.0, average_reward: 191.9, length: 148\n",
      "episode: 1782, total reward: 200.0, average_reward: 194.0, length: 199\n",
      "episode: 1783, total reward: 200.0, average_reward: 194.0, length: 199\n",
      "episode: 1784, total reward: 200.0, average_reward: 194.0, length: 199\n",
      "episode: 1785, total reward: 160.0, average_reward: 190.9, length: 159\n",
      "episode: 1786, total reward: 200.0, average_reward: 190.9, length: 199\n",
      "episode: 1787, total reward: 200.0, average_reward: 190.9, length: 199\n",
      "episode: 1788, total reward: 135.0, average_reward: 184.4, length: 134\n",
      "episode: 1789, total reward: 200.0, average_reward: 184.4, length: 199\n",
      "episode: 1790, total reward: 200.0, average_reward: 184.4, length: 199\n",
      "episode: 1791, total reward: 138.0, average_reward: 183.3, length: 137\n",
      "episode: 1792, total reward: 106.0, average_reward: 173.9, length: 105\n",
      "episode: 1793, total reward: 200.0, average_reward: 173.9, length: 199\n",
      "episode: 1794, total reward: 200.0, average_reward: 173.9, length: 199\n"
     ]
    },
    {
     "name": "stdout",
     "output_type": "stream",
     "text": [
      "episode: 1795, total reward: 121.0, average_reward: 170.0, length: 120\n",
      "episode: 1796, total reward: 200.0, average_reward: 170.0, length: 199\n",
      "episode: 1797, total reward: 200.0, average_reward: 170.0, length: 199\n",
      "episode: 1798, total reward: 103.0, average_reward: 166.8, length: 102\n",
      "episode: 1799, total reward: 200.0, average_reward: 166.8, length: 199\n",
      "episode: 1800, total reward: 200.0, average_reward: 166.8, length: 199\n",
      "episode: 1801, total reward: 186.0, average_reward: 171.6, length: 185\n",
      "episode: 1802, total reward: 200.0, average_reward: 181.0, length: 199\n",
      "episode: 1803, total reward: 200.0, average_reward: 181.0, length: 199\n",
      "episode: 1804, total reward: 200.0, average_reward: 181.0, length: 199\n",
      "episode: 1805, total reward: 159.0, average_reward: 184.8, length: 158\n",
      "episode: 1806, total reward: 176.0, average_reward: 182.4, length: 175\n",
      "episode: 1807, total reward: 200.0, average_reward: 182.4, length: 199\n",
      "episode: 1808, total reward: 200.0, average_reward: 192.1, length: 199\n",
      "episode: 1809, total reward: 179.0, average_reward: 190.0, length: 178\n",
      "episode: 1810, total reward: 200.0, average_reward: 190.0, length: 199\n",
      "episode: 1811, total reward: 154.0, average_reward: 186.8, length: 153\n",
      "episode: 1812, total reward: 200.0, average_reward: 186.8, length: 199\n",
      "episode: 1813, total reward: 200.0, average_reward: 186.8, length: 199\n",
      "episode: 1814, total reward: 161.0, average_reward: 182.9, length: 160\n",
      "episode: 1815, total reward: 200.0, average_reward: 187.0, length: 199\n",
      "episode: 1816, total reward: 200.0, average_reward: 189.4, length: 199\n",
      "episode: 1817, total reward: 185.0, average_reward: 187.9, length: 184\n",
      "episode: 1818, total reward: 200.0, average_reward: 187.9, length: 199\n",
      "episode: 1819, total reward: 200.0, average_reward: 190.0, length: 199\n",
      "episode: 1820, total reward: 200.0, average_reward: 190.0, length: 199\n",
      "episode: 1821, total reward: 200.0, average_reward: 194.6, length: 199\n",
      "episode: 1822, total reward: 200.0, average_reward: 194.6, length: 199\n",
      "episode: 1823, total reward: 200.0, average_reward: 194.6, length: 199\n",
      "episode: 1824, total reward: 200.0, average_reward: 198.5, length: 199\n",
      "episode: 1825, total reward: 200.0, average_reward: 198.5, length: 199\n",
      "episode: 1826, total reward: 145.0, average_reward: 193.0, length: 144\n",
      "episode: 1827, total reward: 200.0, average_reward: 194.5, length: 199\n",
      "episode: 1828, total reward: 200.0, average_reward: 194.5, length: 199\n",
      "episode: 1829, total reward: 182.0, average_reward: 192.7, length: 181\n",
      "episode: 1830, total reward: 174.0, average_reward: 190.1, length: 173\n",
      "episode: 1831, total reward: 200.0, average_reward: 190.1, length: 199\n",
      "episode: 1832, total reward: 200.0, average_reward: 190.1, length: 199\n",
      "episode: 1833, total reward: 200.0, average_reward: 190.1, length: 199\n",
      "episode: 1834, total reward: 192.0, average_reward: 189.3, length: 191\n",
      "episode: 1835, total reward: 200.0, average_reward: 189.3, length: 199\n",
      "episode: 1836, total reward: 200.0, average_reward: 194.8, length: 199\n",
      "episode: 1837, total reward: 187.0, average_reward: 193.5, length: 186\n",
      "episode: 1838, total reward: 200.0, average_reward: 193.5, length: 199\n",
      "episode: 1839, total reward: 200.0, average_reward: 195.3, length: 199\n",
      "episode: 1840, total reward: 154.0, average_reward: 193.3, length: 153\n",
      "episode: 1841, total reward: 200.0, average_reward: 193.3, length: 199\n",
      "episode: 1842, total reward: 200.0, average_reward: 193.3, length: 199\n",
      "episode: 1843, total reward: 200.0, average_reward: 193.3, length: 199\n",
      "episode: 1844, total reward: 200.0, average_reward: 194.1, length: 199\n",
      "episode: 1845, total reward: 200.0, average_reward: 194.1, length: 199\n",
      "episode: 1846, total reward: 200.0, average_reward: 194.1, length: 199\n",
      "episode: 1847, total reward: 200.0, average_reward: 195.4, length: 199\n",
      "episode: 1848, total reward: 200.0, average_reward: 195.4, length: 199\n",
      "episode: 1849, total reward: 200.0, average_reward: 195.4, length: 199\n",
      "episode: 1850, total reward: 200.0, average_reward: 200.0, length: 199\n",
      "episode: 1851, total reward: 166.0, average_reward: 196.6, length: 165\n",
      "episode: 1852, total reward: 195.0, average_reward: 196.1, length: 194\n",
      "episode: 1853, total reward: 200.0, average_reward: 196.1, length: 199\n",
      "episode: 1854, total reward: 200.0, average_reward: 196.1, length: 199\n",
      "episode: 1855, total reward: 200.0, average_reward: 196.1, length: 199\n",
      "episode: 1856, total reward: 200.0, average_reward: 196.1, length: 199\n",
      "episode: 1857, total reward: 174.0, average_reward: 193.5, length: 173\n",
      "episode: 1858, total reward: 200.0, average_reward: 193.5, length: 199\n",
      "episode: 1859, total reward: 200.0, average_reward: 193.5, length: 199\n",
      "episode: 1860, total reward: 176.0, average_reward: 191.1, length: 175\n",
      "episode: 1861, total reward: 200.0, average_reward: 194.5, length: 199\n",
      "episode: 1862, total reward: 200.0, average_reward: 195.0, length: 199\n",
      "episode: 1863, total reward: 200.0, average_reward: 195.0, length: 199\n",
      "episode: 1864, total reward: 200.0, average_reward: 195.0, length: 199\n",
      "episode: 1865, total reward: 122.0, average_reward: 187.2, length: 121\n",
      "episode: 1866, total reward: 169.0, average_reward: 184.1, length: 168\n",
      "episode: 1867, total reward: 200.0, average_reward: 186.7, length: 199\n",
      "episode: 1868, total reward: 169.0, average_reward: 183.6, length: 168\n",
      "episode: 1869, total reward: 200.0, average_reward: 183.6, length: 199\n",
      "episode: 1870, total reward: 200.0, average_reward: 186.0, length: 199\n",
      "episode: 1871, total reward: 173.0, average_reward: 183.3, length: 172\n",
      "episode: 1872, total reward: 135.0, average_reward: 176.8, length: 134\n",
      "episode: 1873, total reward: 200.0, average_reward: 176.8, length: 199\n",
      "episode: 1874, total reward: 200.0, average_reward: 176.8, length: 199\n",
      "episode: 1875, total reward: 200.0, average_reward: 184.6, length: 199\n",
      "episode: 1876, total reward: 200.0, average_reward: 187.7, length: 199\n",
      "episode: 1877, total reward: 200.0, average_reward: 187.7, length: 199\n",
      "episode: 1878, total reward: 182.0, average_reward: 189.0, length: 181\n",
      "episode: 1879, total reward: 200.0, average_reward: 189.0, length: 199\n",
      "episode: 1880, total reward: 200.0, average_reward: 189.0, length: 199\n",
      "episode: 1881, total reward: 200.0, average_reward: 191.7, length: 199\n",
      "episode: 1882, total reward: 200.0, average_reward: 198.2, length: 199\n",
      "episode: 1883, total reward: 200.0, average_reward: 198.2, length: 199\n",
      "episode: 1884, total reward: 200.0, average_reward: 198.2, length: 199\n",
      "episode: 1885, total reward: 200.0, average_reward: 198.2, length: 199\n",
      "episode: 1886, total reward: 176.0, average_reward: 195.8, length: 175\n",
      "episode: 1887, total reward: 200.0, average_reward: 195.8, length: 199\n",
      "episode: 1888, total reward: 189.0, average_reward: 196.5, length: 188\n",
      "episode: 1889, total reward: 200.0, average_reward: 196.5, length: 199\n",
      "episode: 1890, total reward: 137.0, average_reward: 190.2, length: 136\n",
      "episode: 1891, total reward: 200.0, average_reward: 190.2, length: 199\n",
      "episode: 1892, total reward: 159.0, average_reward: 186.1, length: 158\n",
      "episode: 1893, total reward: 200.0, average_reward: 186.1, length: 199\n",
      "episode: 1894, total reward: 200.0, average_reward: 186.1, length: 199\n",
      "episode: 1895, total reward: 200.0, average_reward: 186.1, length: 199\n",
      "episode: 1896, total reward: 200.0, average_reward: 188.5, length: 199\n",
      "episode: 1897, total reward: 161.0, average_reward: 184.6, length: 160\n",
      "episode: 1898, total reward: 191.0, average_reward: 184.8, length: 190\n",
      "episode: 1899, total reward: 200.0, average_reward: 184.8, length: 199\n",
      "episode: 1900, total reward: 200.0, average_reward: 191.1, length: 199\n",
      "episode: 1901, total reward: 200.0, average_reward: 191.1, length: 199\n",
      "episode: 1902, total reward: 171.0, average_reward: 192.3, length: 170\n",
      "episode: 1903, total reward: 200.0, average_reward: 192.3, length: 199\n",
      "episode: 1904, total reward: 200.0, average_reward: 192.3, length: 199\n",
      "episode: 1905, total reward: 148.0, average_reward: 187.1, length: 147\n",
      "episode: 1906, total reward: 85.0, average_reward: 175.6, length: 84\n",
      "episode: 1907, total reward: 200.0, average_reward: 179.5, length: 199\n",
      "episode: 1908, total reward: 200.0, average_reward: 180.4, length: 199\n",
      "episode: 1909, total reward: 200.0, average_reward: 180.4, length: 199\n",
      "episode: 1910, total reward: 200.0, average_reward: 180.4, length: 199\n"
     ]
    },
    {
     "name": "stdout",
     "output_type": "stream",
     "text": [
      "episode: 1911, total reward: 157.0, average_reward: 176.1, length: 156\n",
      "episode: 1912, total reward: 200.0, average_reward: 179.0, length: 199\n",
      "episode: 1913, total reward: 200.0, average_reward: 179.0, length: 199\n",
      "episode: 1914, total reward: 148.0, average_reward: 173.8, length: 147\n",
      "episode: 1915, total reward: 187.0, average_reward: 177.7, length: 186\n",
      "episode: 1916, total reward: 200.0, average_reward: 189.2, length: 199\n",
      "episode: 1917, total reward: 200.0, average_reward: 189.2, length: 199\n",
      "episode: 1918, total reward: 186.0, average_reward: 187.8, length: 185\n",
      "episode: 1919, total reward: 200.0, average_reward: 187.8, length: 199\n",
      "episode: 1920, total reward: 200.0, average_reward: 187.8, length: 199\n",
      "episode: 1921, total reward: 200.0, average_reward: 192.1, length: 199\n",
      "episode: 1922, total reward: 200.0, average_reward: 192.1, length: 199\n",
      "episode: 1923, total reward: 150.0, average_reward: 187.1, length: 149\n",
      "episode: 1924, total reward: 200.0, average_reward: 192.3, length: 199\n",
      "episode: 1925, total reward: 176.0, average_reward: 191.2, length: 175\n",
      "episode: 1926, total reward: 200.0, average_reward: 191.2, length: 199\n",
      "episode: 1927, total reward: 200.0, average_reward: 191.2, length: 199\n",
      "episode: 1928, total reward: 170.0, average_reward: 189.6, length: 169\n",
      "episode: 1929, total reward: 191.0, average_reward: 188.7, length: 190\n",
      "episode: 1930, total reward: 200.0, average_reward: 188.7, length: 199\n",
      "episode: 1931, total reward: 108.0, average_reward: 179.5, length: 107\n",
      "episode: 1932, total reward: 44.0, average_reward: 163.9, length: 43\n",
      "episode: 1933, total reward: 135.0, average_reward: 162.4, length: 134\n",
      "episode: 1934, total reward: 133.0, average_reward: 155.7, length: 132\n",
      "episode: 1935, total reward: 200.0, average_reward: 158.1, length: 199\n",
      "episode: 1936, total reward: 200.0, average_reward: 158.1, length: 199\n",
      "episode: 1937, total reward: 200.0, average_reward: 158.1, length: 199\n",
      "episode: 1938, total reward: 200.0, average_reward: 161.1, length: 199\n",
      "episode: 1939, total reward: 200.0, average_reward: 162.0, length: 199\n",
      "episode: 1940, total reward: 190.0, average_reward: 161.0, length: 189\n",
      "episode: 1941, total reward: 200.0, average_reward: 170.2, length: 199\n",
      "episode: 1942, total reward: 177.0, average_reward: 183.5, length: 176\n",
      "episode: 1943, total reward: 200.0, average_reward: 190.0, length: 199\n",
      "episode: 1944, total reward: 200.0, average_reward: 196.7, length: 199\n",
      "episode: 1945, total reward: 183.0, average_reward: 195.0, length: 182\n",
      "episode: 1946, total reward: 200.0, average_reward: 195.0, length: 199\n",
      "episode: 1947, total reward: 200.0, average_reward: 195.0, length: 199\n",
      "episode: 1948, total reward: 160.0, average_reward: 191.0, length: 159\n",
      "episode: 1949, total reward: 200.0, average_reward: 191.0, length: 199\n",
      "episode: 1950, total reward: 147.0, average_reward: 186.7, length: 146\n",
      "episode: 1951, total reward: 200.0, average_reward: 186.7, length: 199\n",
      "episode: 1952, total reward: 167.0, average_reward: 185.7, length: 166\n",
      "episode: 1953, total reward: 190.0, average_reward: 184.7, length: 189\n",
      "episode: 1954, total reward: 126.0, average_reward: 177.3, length: 125\n",
      "episode: 1955, total reward: 158.0, average_reward: 174.8, length: 157\n",
      "episode: 1956, total reward: 200.0, average_reward: 174.8, length: 199\n",
      "episode: 1957, total reward: 148.0, average_reward: 169.6, length: 147\n",
      "episode: 1958, total reward: 151.0, average_reward: 168.7, length: 150\n",
      "episode: 1959, total reward: 176.0, average_reward: 166.3, length: 175\n",
      "episode: 1960, total reward: 163.0, average_reward: 167.9, length: 162\n",
      "episode: 1961, total reward: 200.0, average_reward: 167.9, length: 199\n",
      "episode: 1962, total reward: 100.0, average_reward: 161.2, length: 99\n",
      "episode: 1963, total reward: 200.0, average_reward: 162.2, length: 199\n",
      "episode: 1964, total reward: 200.0, average_reward: 169.6, length: 199\n",
      "episode: 1965, total reward: 200.0, average_reward: 173.8, length: 199\n",
      "episode: 1966, total reward: 179.0, average_reward: 171.7, length: 178\n",
      "episode: 1967, total reward: 200.0, average_reward: 176.9, length: 199\n",
      "episode: 1968, total reward: 188.0, average_reward: 180.6, length: 187\n",
      "episode: 1969, total reward: 181.0, average_reward: 181.1, length: 180\n",
      "episode: 1970, total reward: 128.0, average_reward: 177.6, length: 127\n",
      "episode: 1971, total reward: 71.0, average_reward: 164.7, length: 70\n",
      "episode: 1972, total reward: 200.0, average_reward: 174.7, length: 199\n",
      "episode: 1973, total reward: 168.0, average_reward: 171.5, length: 167\n",
      "episode: 1974, total reward: 177.0, average_reward: 169.2, length: 176\n",
      "episode: 1975, total reward: 200.0, average_reward: 169.2, length: 199\n",
      "episode: 1976, total reward: 200.0, average_reward: 171.3, length: 199\n",
      "episode: 1977, total reward: 182.0, average_reward: 169.5, length: 181\n",
      "episode: 1978, total reward: 200.0, average_reward: 170.7, length: 199\n",
      "episode: 1979, total reward: 185.0, average_reward: 171.1, length: 184\n",
      "episode: 1980, total reward: 164.0, average_reward: 174.7, length: 163\n",
      "episode: 1981, total reward: 200.0, average_reward: 187.6, length: 199\n",
      "episode: 1982, total reward: 200.0, average_reward: 187.6, length: 199\n",
      "episode: 1983, total reward: 188.0, average_reward: 189.6, length: 187\n",
      "episode: 1984, total reward: 200.0, average_reward: 191.9, length: 199\n",
      "episode: 1985, total reward: 126.0, average_reward: 184.5, length: 125\n",
      "episode: 1986, total reward: 200.0, average_reward: 184.5, length: 199\n",
      "episode: 1987, total reward: 171.0, average_reward: 183.4, length: 170\n",
      "episode: 1988, total reward: 200.0, average_reward: 183.4, length: 199\n",
      "episode: 1989, total reward: 142.0, average_reward: 179.1, length: 141\n",
      "episode: 1990, total reward: 200.0, average_reward: 182.7, length: 199\n",
      "episode: 1991, total reward: 155.0, average_reward: 178.2, length: 154\n",
      "episode: 1992, total reward: 200.0, average_reward: 178.2, length: 199\n",
      "episode: 1993, total reward: 191.0, average_reward: 178.5, length: 190\n",
      "episode: 1994, total reward: 200.0, average_reward: 178.5, length: 199\n",
      "episode: 1995, total reward: 200.0, average_reward: 185.9, length: 199\n",
      "episode: 1996, total reward: 200.0, average_reward: 185.9, length: 199\n",
      "episode: 1997, total reward: 137.0, average_reward: 182.5, length: 136\n",
      "episode: 1998, total reward: 158.0, average_reward: 178.3, length: 157\n",
      "episode: 1999, total reward: 200.0, average_reward: 184.1, length: 199\n",
      "episode: 2000, total reward: 186.0, average_reward: 182.7, length: 185\n",
      "episode: 2001, total reward: 200.0, average_reward: 187.2, length: 199\n",
      "episode: 2002, total reward: 158.0, average_reward: 183.0, length: 157\n",
      "episode: 2003, total reward: 115.0, average_reward: 175.4, length: 114\n",
      "episode: 2004, total reward: 200.0, average_reward: 175.4, length: 199\n",
      "episode: 2005, total reward: 200.0, average_reward: 175.4, length: 199\n",
      "episode: 2006, total reward: 200.0, average_reward: 175.4, length: 199\n",
      "episode: 2007, total reward: 200.0, average_reward: 181.7, length: 199\n",
      "episode: 2008, total reward: 200.0, average_reward: 185.9, length: 199\n",
      "episode: 2009, total reward: 200.0, average_reward: 185.9, length: 199\n",
      "episode: 2010, total reward: 200.0, average_reward: 187.3, length: 199\n",
      "episode: 2011, total reward: 200.0, average_reward: 187.3, length: 199\n",
      "episode: 2012, total reward: 142.0, average_reward: 185.7, length: 141\n",
      "episode: 2013, total reward: 184.0, average_reward: 192.6, length: 183\n",
      "episode: 2014, total reward: 187.0, average_reward: 191.3, length: 186\n",
      "episode: 2015, total reward: 178.0, average_reward: 189.1, length: 177\n",
      "episode: 2016, total reward: 155.0, average_reward: 184.6, length: 154\n",
      "episode: 2017, total reward: 200.0, average_reward: 184.6, length: 199\n",
      "episode: 2018, total reward: 200.0, average_reward: 184.6, length: 199\n",
      "episode: 2019, total reward: 136.0, average_reward: 178.2, length: 135\n",
      "episode: 2020, total reward: 200.0, average_reward: 178.2, length: 199\n",
      "episode: 2021, total reward: 135.0, average_reward: 171.7, length: 134\n",
      "episode: 2022, total reward: 196.0, average_reward: 177.1, length: 195\n",
      "episode: 2023, total reward: 144.0, average_reward: 173.1, length: 143\n",
      "episode: 2024, total reward: 200.0, average_reward: 174.4, length: 199\n",
      "episode: 2025, total reward: 200.0, average_reward: 176.6, length: 199\n",
      "episode: 2026, total reward: 200.0, average_reward: 181.1, length: 199\n"
     ]
    },
    {
     "name": "stdout",
     "output_type": "stream",
     "text": [
      "episode: 2027, total reward: 200.0, average_reward: 181.1, length: 199\n",
      "episode: 2028, total reward: 200.0, average_reward: 181.1, length: 199\n",
      "episode: 2029, total reward: 182.0, average_reward: 185.7, length: 181\n",
      "episode: 2030, total reward: 200.0, average_reward: 185.7, length: 199\n",
      "episode: 2031, total reward: 200.0, average_reward: 192.2, length: 199\n",
      "episode: 2032, total reward: 200.0, average_reward: 192.6, length: 199\n",
      "episode: 2033, total reward: 200.0, average_reward: 198.2, length: 199\n",
      "episode: 2034, total reward: 200.0, average_reward: 198.2, length: 199\n",
      "episode: 2035, total reward: 191.0, average_reward: 197.3, length: 190\n",
      "episode: 2036, total reward: 200.0, average_reward: 197.3, length: 199\n",
      "episode: 2037, total reward: 200.0, average_reward: 197.3, length: 199\n",
      "episode: 2038, total reward: 154.0, average_reward: 192.7, length: 153\n",
      "episode: 2039, total reward: 200.0, average_reward: 194.5, length: 199\n",
      "episode: 2040, total reward: 200.0, average_reward: 194.5, length: 199\n",
      "episode: 2041, total reward: 190.0, average_reward: 193.5, length: 189\n",
      "episode: 2042, total reward: 200.0, average_reward: 193.5, length: 199\n",
      "episode: 2043, total reward: 164.0, average_reward: 189.9, length: 163\n",
      "episode: 2044, total reward: 147.0, average_reward: 184.6, length: 146\n",
      "episode: 2045, total reward: 200.0, average_reward: 185.5, length: 199\n",
      "episode: 2046, total reward: 200.0, average_reward: 185.5, length: 199\n",
      "episode: 2047, total reward: 200.0, average_reward: 185.5, length: 199\n",
      "episode: 2048, total reward: 200.0, average_reward: 190.1, length: 199\n",
      "episode: 2049, total reward: 200.0, average_reward: 190.1, length: 199\n",
      "episode: 2050, total reward: 200.0, average_reward: 190.1, length: 199\n",
      "episode: 2051, total reward: 200.0, average_reward: 191.1, length: 199\n",
      "episode: 2052, total reward: 182.0, average_reward: 189.3, length: 181\n",
      "episode: 2053, total reward: 200.0, average_reward: 192.9, length: 199\n",
      "episode: 2054, total reward: 200.0, average_reward: 198.2, length: 199\n",
      "episode: 2055, total reward: 200.0, average_reward: 198.2, length: 199\n",
      "episode: 2056, total reward: 200.0, average_reward: 198.2, length: 199\n",
      "episode: 2057, total reward: 200.0, average_reward: 198.2, length: 199\n",
      "episode: 2058, total reward: 200.0, average_reward: 198.2, length: 199\n",
      "episode: 2059, total reward: 175.0, average_reward: 195.7, length: 174\n",
      "episode: 2060, total reward: 200.0, average_reward: 195.7, length: 199\n",
      "episode: 2061, total reward: 200.0, average_reward: 195.7, length: 199\n",
      "episode: 2062, total reward: 200.0, average_reward: 197.5, length: 199\n",
      "episode: 2063, total reward: 200.0, average_reward: 197.5, length: 199\n",
      "episode: 2064, total reward: 200.0, average_reward: 197.5, length: 199\n",
      "episode: 2065, total reward: 132.0, average_reward: 190.7, length: 131\n",
      "episode: 2066, total reward: 177.0, average_reward: 188.4, length: 176\n",
      "episode: 2067, total reward: 200.0, average_reward: 188.4, length: 199\n",
      "episode: 2068, total reward: 200.0, average_reward: 188.4, length: 199\n",
      "episode: 2069, total reward: 200.0, average_reward: 190.9, length: 199\n",
      "episode: 2070, total reward: 172.0, average_reward: 188.1, length: 171\n",
      "episode: 2071, total reward: 200.0, average_reward: 188.1, length: 199\n",
      "episode: 2072, total reward: 157.0, average_reward: 183.8, length: 156\n",
      "episode: 2073, total reward: 200.0, average_reward: 183.8, length: 199\n",
      "episode: 2074, total reward: 200.0, average_reward: 183.8, length: 199\n",
      "episode: 2075, total reward: 200.0, average_reward: 190.6, length: 199\n",
      "episode: 2076, total reward: 200.0, average_reward: 192.9, length: 199\n",
      "episode: 2077, total reward: 163.0, average_reward: 189.2, length: 162\n",
      "episode: 2078, total reward: 200.0, average_reward: 189.2, length: 199\n",
      "episode: 2079, total reward: 200.0, average_reward: 189.2, length: 199\n",
      "episode: 2080, total reward: 200.0, average_reward: 192.0, length: 199\n",
      "episode: 2081, total reward: 200.0, average_reward: 192.0, length: 199\n",
      "episode: 2082, total reward: 200.0, average_reward: 196.3, length: 199\n",
      "episode: 2083, total reward: 200.0, average_reward: 196.3, length: 199\n",
      "episode: 2084, total reward: 185.0, average_reward: 194.8, length: 184\n",
      "episode: 2085, total reward: 200.0, average_reward: 194.8, length: 199\n",
      "episode: 2086, total reward: 200.0, average_reward: 194.8, length: 199\n",
      "episode: 2087, total reward: 200.0, average_reward: 198.5, length: 199\n",
      "episode: 2088, total reward: 200.0, average_reward: 198.5, length: 199\n",
      "episode: 2089, total reward: 200.0, average_reward: 198.5, length: 199\n",
      "episode: 2090, total reward: 200.0, average_reward: 198.5, length: 199\n",
      "episode: 2091, total reward: 200.0, average_reward: 198.5, length: 199\n",
      "episode: 2092, total reward: 200.0, average_reward: 198.5, length: 199\n",
      "episode: 2093, total reward: 200.0, average_reward: 198.5, length: 199\n",
      "episode: 2094, total reward: 200.0, average_reward: 200.0, length: 199\n",
      "episode: 2095, total reward: 148.0, average_reward: 194.8, length: 147\n",
      "episode: 2096, total reward: 200.0, average_reward: 194.8, length: 199\n",
      "episode: 2097, total reward: 200.0, average_reward: 194.8, length: 199\n",
      "episode: 2098, total reward: 200.0, average_reward: 194.8, length: 199\n",
      "episode: 2099, total reward: 200.0, average_reward: 194.8, length: 199\n",
      "episode: 2100, total reward: 200.0, average_reward: 194.8, length: 199\n",
      "episode: 2101, total reward: 200.0, average_reward: 194.8, length: 199\n",
      "episode: 2102, total reward: 200.0, average_reward: 194.8, length: 199\n",
      "episode: 2103, total reward: 200.0, average_reward: 194.8, length: 199\n",
      "episode: 2104, total reward: 200.0, average_reward: 194.8, length: 199\n",
      "episode: 2105, total reward: 173.0, average_reward: 197.3, length: 172\n",
      "episode: 2106, total reward: 200.0, average_reward: 197.3, length: 199\n",
      "episode: 2107, total reward: 186.0, average_reward: 195.9, length: 185\n",
      "episode: 2108, total reward: 200.0, average_reward: 195.9, length: 199\n",
      "episode: 2109, total reward: 200.0, average_reward: 195.9, length: 199\n",
      "episode: 2110, total reward: 200.0, average_reward: 195.9, length: 199\n",
      "episode: 2111, total reward: 200.0, average_reward: 195.9, length: 199\n",
      "episode: 2112, total reward: 200.0, average_reward: 195.9, length: 199\n",
      "episode: 2113, total reward: 200.0, average_reward: 195.9, length: 199\n",
      "episode: 2114, total reward: 199.0, average_reward: 195.8, length: 198\n",
      "episode: 2115, total reward: 200.0, average_reward: 198.5, length: 199\n",
      "episode: 2116, total reward: 141.0, average_reward: 192.6, length: 140\n",
      "episode: 2117, total reward: 200.0, average_reward: 194.0, length: 199\n",
      "episode: 2118, total reward: 200.0, average_reward: 194.0, length: 199\n",
      "episode: 2119, total reward: 200.0, average_reward: 194.0, length: 199\n",
      "episode: 2120, total reward: 200.0, average_reward: 194.0, length: 199\n",
      "episode: 2121, total reward: 200.0, average_reward: 194.0, length: 199\n",
      "episode: 2122, total reward: 184.0, average_reward: 192.4, length: 183\n",
      "episode: 2123, total reward: 200.0, average_reward: 192.4, length: 199\n",
      "episode: 2124, total reward: 200.0, average_reward: 192.5, length: 199\n",
      "episode: 2125, total reward: 200.0, average_reward: 192.5, length: 199\n",
      "episode: 2126, total reward: 200.0, average_reward: 198.4, length: 199\n",
      "episode: 2127, total reward: 200.0, average_reward: 198.4, length: 199\n",
      "episode: 2128, total reward: 200.0, average_reward: 198.4, length: 199\n",
      "episode: 2129, total reward: 200.0, average_reward: 198.4, length: 199\n",
      "episode: 2130, total reward: 200.0, average_reward: 198.4, length: 199\n",
      "episode: 2131, total reward: 200.0, average_reward: 198.4, length: 199\n",
      "episode: 2132, total reward: 200.0, average_reward: 200.0, length: 199\n",
      "episode: 2133, total reward: 200.0, average_reward: 200.0, length: 199\n",
      "episode: 2134, total reward: 200.0, average_reward: 200.0, length: 199\n",
      "episode: 2135, total reward: 200.0, average_reward: 200.0, length: 199\n",
      "episode: 2136, total reward: 200.0, average_reward: 200.0, length: 199\n",
      "episode: 2137, total reward: 200.0, average_reward: 200.0, length: 199\n",
      "episode: 2138, total reward: 200.0, average_reward: 200.0, length: 199\n",
      "episode: 2139, total reward: 200.0, average_reward: 200.0, length: 199\n",
      "episode: 2140, total reward: 200.0, average_reward: 200.0, length: 199\n",
      "episode: 2141, total reward: 200.0, average_reward: 200.0, length: 199\n",
      "episode: 2142, total reward: 200.0, average_reward: 200.0, length: 199\n"
     ]
    },
    {
     "name": "stdout",
     "output_type": "stream",
     "text": [
      "episode: 2143, total reward: 200.0, average_reward: 200.0, length: 199\n",
      "episode: 2144, total reward: 200.0, average_reward: 200.0, length: 199\n",
      "episode: 2145, total reward: 145.0, average_reward: 194.5, length: 144\n",
      "episode: 2146, total reward: 200.0, average_reward: 194.5, length: 199\n",
      "episode: 2147, total reward: 200.0, average_reward: 194.5, length: 199\n",
      "episode: 2148, total reward: 200.0, average_reward: 194.5, length: 199\n",
      "episode: 2149, total reward: 200.0, average_reward: 194.5, length: 199\n",
      "episode: 2150, total reward: 200.0, average_reward: 194.5, length: 199\n",
      "episode: 2151, total reward: 200.0, average_reward: 194.5, length: 199\n",
      "episode: 2152, total reward: 200.0, average_reward: 194.5, length: 199\n",
      "episode: 2153, total reward: 199.0, average_reward: 194.4, length: 198\n",
      "episode: 2154, total reward: 200.0, average_reward: 194.4, length: 199\n",
      "episode: 2155, total reward: 183.0, average_reward: 198.2, length: 182\n",
      "episode: 2156, total reward: 200.0, average_reward: 198.2, length: 199\n",
      "episode: 2157, total reward: 200.0, average_reward: 198.2, length: 199\n",
      "episode: 2158, total reward: 200.0, average_reward: 198.2, length: 199\n",
      "episode: 2159, total reward: 190.0, average_reward: 197.2, length: 189\n",
      "episode: 2160, total reward: 90.0, average_reward: 186.2, length: 89\n",
      "episode: 2161, total reward: 200.0, average_reward: 186.2, length: 199\n",
      "episode: 2162, total reward: 200.0, average_reward: 186.2, length: 199\n",
      "episode: 2163, total reward: 200.0, average_reward: 186.3, length: 199\n",
      "episode: 2164, total reward: 200.0, average_reward: 186.3, length: 199\n",
      "episode: 2165, total reward: 200.0, average_reward: 188.0, length: 199\n",
      "episode: 2166, total reward: 191.0, average_reward: 187.1, length: 190\n",
      "episode: 2167, total reward: 200.0, average_reward: 187.1, length: 199\n",
      "episode: 2168, total reward: 156.0, average_reward: 182.7, length: 155\n",
      "episode: 2169, total reward: 200.0, average_reward: 183.7, length: 199\n",
      "episode: 2170, total reward: 200.0, average_reward: 194.7, length: 199\n",
      "episode: 2171, total reward: 200.0, average_reward: 194.7, length: 199\n",
      "episode: 2172, total reward: 200.0, average_reward: 194.7, length: 199\n",
      "episode: 2173, total reward: 194.0, average_reward: 194.1, length: 193\n",
      "episode: 2174, total reward: 200.0, average_reward: 194.1, length: 199\n",
      "episode: 2175, total reward: 162.0, average_reward: 190.3, length: 161\n",
      "episode: 2176, total reward: 200.0, average_reward: 191.2, length: 199\n",
      "episode: 2177, total reward: 200.0, average_reward: 191.2, length: 199\n",
      "episode: 2178, total reward: 200.0, average_reward: 195.6, length: 199\n",
      "episode: 2179, total reward: 200.0, average_reward: 195.6, length: 199\n",
      "episode: 2180, total reward: 200.0, average_reward: 195.6, length: 199\n",
      "episode: 2181, total reward: 170.0, average_reward: 192.6, length: 169\n",
      "episode: 2182, total reward: 200.0, average_reward: 192.6, length: 199\n",
      "episode: 2183, total reward: 200.0, average_reward: 193.2, length: 199\n",
      "episode: 2184, total reward: 200.0, average_reward: 193.2, length: 199\n",
      "episode: 2185, total reward: 200.0, average_reward: 197.0, length: 199\n",
      "episode: 2186, total reward: 200.0, average_reward: 197.0, length: 199\n",
      "episode: 2187, total reward: 179.0, average_reward: 194.9, length: 178\n",
      "episode: 2188, total reward: 200.0, average_reward: 194.9, length: 199\n",
      "episode: 2189, total reward: 200.0, average_reward: 194.9, length: 199\n",
      "episode: 2190, total reward: 200.0, average_reward: 194.9, length: 199\n",
      "episode: 2191, total reward: 200.0, average_reward: 197.9, length: 199\n",
      "episode: 2192, total reward: 200.0, average_reward: 197.9, length: 199\n",
      "episode: 2193, total reward: 200.0, average_reward: 197.9, length: 199\n",
      "episode: 2194, total reward: 200.0, average_reward: 197.9, length: 199\n",
      "episode: 2195, total reward: 200.0, average_reward: 197.9, length: 199\n",
      "episode: 2196, total reward: 200.0, average_reward: 197.9, length: 199\n",
      "episode: 2197, total reward: 166.0, average_reward: 196.6, length: 165\n",
      "episode: 2198, total reward: 200.0, average_reward: 196.6, length: 199\n",
      "episode: 2199, total reward: 200.0, average_reward: 196.6, length: 199\n",
      "episode: 2200, total reward: 200.0, average_reward: 196.6, length: 199\n",
      "episode: 2201, total reward: 200.0, average_reward: 196.6, length: 199\n",
      "episode: 2202, total reward: 200.0, average_reward: 196.6, length: 199\n",
      "episode: 2203, total reward: 200.0, average_reward: 196.6, length: 199\n",
      "episode: 2204, total reward: 200.0, average_reward: 196.6, length: 199\n",
      "episode: 2205, total reward: 164.0, average_reward: 193.0, length: 163\n",
      "episode: 2206, total reward: 200.0, average_reward: 193.0, length: 199\n",
      "episode: 2207, total reward: 200.0, average_reward: 196.4, length: 199\n",
      "episode: 2208, total reward: 153.0, average_reward: 191.7, length: 152\n",
      "episode: 2209, total reward: 200.0, average_reward: 191.7, length: 199\n",
      "episode: 2210, total reward: 200.0, average_reward: 191.7, length: 199\n",
      "episode: 2211, total reward: 193.0, average_reward: 191.0, length: 192\n",
      "episode: 2212, total reward: 200.0, average_reward: 191.0, length: 199\n",
      "episode: 2213, total reward: 200.0, average_reward: 191.0, length: 199\n",
      "episode: 2214, total reward: 200.0, average_reward: 191.0, length: 199\n",
      "episode: 2215, total reward: 200.0, average_reward: 194.6, length: 199\n",
      "episode: 2216, total reward: 167.0, average_reward: 191.3, length: 166\n",
      "episode: 2217, total reward: 200.0, average_reward: 191.3, length: 199\n",
      "episode: 2218, total reward: 200.0, average_reward: 196.0, length: 199\n",
      "episode: 2219, total reward: 200.0, average_reward: 196.0, length: 199\n",
      "episode: 2220, total reward: 195.0, average_reward: 195.5, length: 194\n",
      "episode: 2221, total reward: 168.0, average_reward: 193.0, length: 167\n",
      "episode: 2222, total reward: 116.0, average_reward: 184.6, length: 115\n",
      "episode: 2223, total reward: 200.0, average_reward: 184.6, length: 199\n",
      "episode: 2224, total reward: 200.0, average_reward: 184.6, length: 199\n",
      "episode: 2225, total reward: 197.0, average_reward: 184.3, length: 196\n",
      "episode: 2226, total reward: 171.0, average_reward: 184.7, length: 170\n",
      "episode: 2227, total reward: 200.0, average_reward: 184.7, length: 199\n",
      "episode: 2228, total reward: 200.0, average_reward: 184.7, length: 199\n",
      "episode: 2229, total reward: 200.0, average_reward: 184.7, length: 199\n",
      "episode: 2230, total reward: 173.0, average_reward: 182.5, length: 172\n",
      "episode: 2231, total reward: 200.0, average_reward: 185.7, length: 199\n",
      "episode: 2232, total reward: 200.0, average_reward: 194.1, length: 199\n",
      "episode: 2233, total reward: 200.0, average_reward: 194.1, length: 199\n",
      "episode: 2234, total reward: 200.0, average_reward: 194.1, length: 199\n",
      "episode: 2235, total reward: 200.0, average_reward: 194.4, length: 199\n",
      "episode: 2236, total reward: 200.0, average_reward: 197.3, length: 199\n",
      "episode: 2237, total reward: 200.0, average_reward: 197.3, length: 199\n",
      "episode: 2238, total reward: 200.0, average_reward: 197.3, length: 199\n",
      "episode: 2239, total reward: 180.0, average_reward: 195.3, length: 179\n",
      "episode: 2240, total reward: 200.0, average_reward: 198.0, length: 199\n",
      "episode: 2241, total reward: 200.0, average_reward: 198.0, length: 199\n",
      "episode: 2242, total reward: 200.0, average_reward: 198.0, length: 199\n",
      "episode: 2243, total reward: 200.0, average_reward: 198.0, length: 199\n",
      "episode: 2244, total reward: 200.0, average_reward: 198.0, length: 199\n",
      "episode: 2245, total reward: 200.0, average_reward: 198.0, length: 199\n",
      "episode: 2246, total reward: 200.0, average_reward: 198.0, length: 199\n",
      "episode: 2247, total reward: 200.0, average_reward: 198.0, length: 199\n",
      "episode: 2248, total reward: 200.0, average_reward: 198.0, length: 199\n",
      "episode: 2249, total reward: 191.0, average_reward: 199.1, length: 190\n",
      "episode: 2250, total reward: 200.0, average_reward: 199.1, length: 199\n",
      "episode: 2251, total reward: 184.0, average_reward: 197.5, length: 183\n",
      "episode: 2252, total reward: 200.0, average_reward: 197.5, length: 199\n",
      "episode: 2253, total reward: 200.0, average_reward: 197.5, length: 199\n",
      "episode: 2254, total reward: 200.0, average_reward: 197.5, length: 199\n",
      "episode: 2255, total reward: 200.0, average_reward: 197.5, length: 199\n",
      "episode: 2256, total reward: 200.0, average_reward: 197.5, length: 199\n",
      "episode: 2257, total reward: 200.0, average_reward: 197.5, length: 199\n",
      "episode: 2258, total reward: 191.0, average_reward: 196.6, length: 190\n",
      "episode: 2259, total reward: 200.0, average_reward: 197.5, length: 199\n"
     ]
    },
    {
     "name": "stdout",
     "output_type": "stream",
     "text": [
      "episode: 2260, total reward: 200.0, average_reward: 197.5, length: 199\n",
      "episode: 2261, total reward: 200.0, average_reward: 199.1, length: 199\n",
      "episode: 2262, total reward: 200.0, average_reward: 199.1, length: 199\n",
      "episode: 2263, total reward: 171.0, average_reward: 196.2, length: 170\n",
      "episode: 2264, total reward: 200.0, average_reward: 196.2, length: 199\n",
      "episode: 2265, total reward: 200.0, average_reward: 196.2, length: 199\n",
      "episode: 2266, total reward: 200.0, average_reward: 196.2, length: 199\n",
      "episode: 2267, total reward: 200.0, average_reward: 196.2, length: 199\n",
      "episode: 2268, total reward: 200.0, average_reward: 197.1, length: 199\n",
      "episode: 2269, total reward: 176.0, average_reward: 194.7, length: 175\n",
      "episode: 2270, total reward: 200.0, average_reward: 194.7, length: 199\n",
      "episode: 2271, total reward: 200.0, average_reward: 194.7, length: 199\n",
      "episode: 2272, total reward: 200.0, average_reward: 194.7, length: 199\n",
      "episode: 2273, total reward: 145.0, average_reward: 192.1, length: 144\n",
      "episode: 2274, total reward: 176.0, average_reward: 189.7, length: 175\n",
      "episode: 2275, total reward: 200.0, average_reward: 189.7, length: 199\n",
      "episode: 2276, total reward: 200.0, average_reward: 189.7, length: 199\n",
      "episode: 2277, total reward: 200.0, average_reward: 189.7, length: 199\n",
      "episode: 2278, total reward: 200.0, average_reward: 189.7, length: 199\n",
      "episode: 2279, total reward: 200.0, average_reward: 192.1, length: 199\n",
      "episode: 2280, total reward: 200.0, average_reward: 192.1, length: 199\n",
      "episode: 2281, total reward: 200.0, average_reward: 192.1, length: 199\n",
      "episode: 2282, total reward: 197.0, average_reward: 191.8, length: 196\n",
      "episode: 2283, total reward: 147.0, average_reward: 192.0, length: 146\n",
      "episode: 2284, total reward: 200.0, average_reward: 194.4, length: 199\n",
      "episode: 2285, total reward: 200.0, average_reward: 194.4, length: 199\n",
      "episode: 2286, total reward: 178.0, average_reward: 192.2, length: 177\n",
      "episode: 2287, total reward: 200.0, average_reward: 192.2, length: 199\n",
      "episode: 2288, total reward: 200.0, average_reward: 192.2, length: 199\n",
      "episode: 2289, total reward: 153.0, average_reward: 187.5, length: 152\n",
      "episode: 2290, total reward: 200.0, average_reward: 187.5, length: 199\n",
      "episode: 2291, total reward: 189.0, average_reward: 186.4, length: 188\n",
      "episode: 2292, total reward: 200.0, average_reward: 186.7, length: 199\n",
      "episode: 2293, total reward: 200.0, average_reward: 192.0, length: 199\n",
      "episode: 2294, total reward: 200.0, average_reward: 192.0, length: 199\n",
      "episode: 2295, total reward: 200.0, average_reward: 192.0, length: 199\n",
      "episode: 2296, total reward: 200.0, average_reward: 194.2, length: 199\n",
      "episode: 2297, total reward: 183.0, average_reward: 192.5, length: 182\n",
      "episode: 2298, total reward: 177.0, average_reward: 190.2, length: 176\n",
      "episode: 2299, total reward: 177.0, average_reward: 192.6, length: 176\n",
      "episode: 2300, total reward: 200.0, average_reward: 192.6, length: 199\n",
      "episode: 2301, total reward: 184.0, average_reward: 192.1, length: 183\n",
      "episode: 2302, total reward: 200.0, average_reward: 192.1, length: 199\n",
      "episode: 2303, total reward: 200.0, average_reward: 192.1, length: 199\n",
      "episode: 2304, total reward: 200.0, average_reward: 192.1, length: 199\n",
      "episode: 2305, total reward: 200.0, average_reward: 192.1, length: 199\n",
      "episode: 2306, total reward: 200.0, average_reward: 192.1, length: 199\n",
      "episode: 2307, total reward: 200.0, average_reward: 193.8, length: 199\n",
      "episode: 2308, total reward: 185.0, average_reward: 194.6, length: 184\n",
      "episode: 2309, total reward: 139.0, average_reward: 190.8, length: 138\n",
      "episode: 2310, total reward: 200.0, average_reward: 190.8, length: 199\n",
      "episode: 2311, total reward: 136.0, average_reward: 186.0, length: 135\n",
      "episode: 2312, total reward: 185.0, average_reward: 184.5, length: 184\n",
      "episode: 2313, total reward: 200.0, average_reward: 184.5, length: 199\n",
      "episode: 2314, total reward: 200.0, average_reward: 184.5, length: 199\n",
      "episode: 2315, total reward: 200.0, average_reward: 184.5, length: 199\n",
      "episode: 2316, total reward: 177.0, average_reward: 182.2, length: 176\n",
      "episode: 2317, total reward: 200.0, average_reward: 182.2, length: 199\n",
      "episode: 2318, total reward: 200.0, average_reward: 183.7, length: 199\n",
      "episode: 2319, total reward: 200.0, average_reward: 189.8, length: 199\n",
      "episode: 2320, total reward: 200.0, average_reward: 189.8, length: 199\n",
      "episode: 2321, total reward: 200.0, average_reward: 196.2, length: 199\n",
      "episode: 2322, total reward: 200.0, average_reward: 197.7, length: 199\n",
      "episode: 2323, total reward: 200.0, average_reward: 197.7, length: 199\n",
      "episode: 2324, total reward: 200.0, average_reward: 197.7, length: 199\n",
      "episode: 2325, total reward: 163.0, average_reward: 194.0, length: 162\n",
      "episode: 2326, total reward: 200.0, average_reward: 196.3, length: 199\n",
      "episode: 2327, total reward: 200.0, average_reward: 196.3, length: 199\n",
      "episode: 2328, total reward: 144.0, average_reward: 190.7, length: 143\n",
      "episode: 2329, total reward: 200.0, average_reward: 190.7, length: 199\n",
      "episode: 2330, total reward: 190.0, average_reward: 189.7, length: 189\n",
      "episode: 2331, total reward: 200.0, average_reward: 189.7, length: 199\n",
      "episode: 2332, total reward: 200.0, average_reward: 189.7, length: 199\n",
      "episode: 2333, total reward: 159.0, average_reward: 185.6, length: 158\n",
      "episode: 2334, total reward: 153.0, average_reward: 180.9, length: 152\n",
      "episode: 2335, total reward: 187.0, average_reward: 183.3, length: 186\n",
      "episode: 2336, total reward: 200.0, average_reward: 183.3, length: 199\n",
      "episode: 2337, total reward: 200.0, average_reward: 183.3, length: 199\n",
      "episode: 2338, total reward: 200.0, average_reward: 188.9, length: 199\n",
      "episode: 2339, total reward: 200.0, average_reward: 188.9, length: 199\n",
      "episode: 2340, total reward: 200.0, average_reward: 189.9, length: 199\n",
      "episode: 2341, total reward: 200.0, average_reward: 189.9, length: 199\n",
      "episode: 2342, total reward: 200.0, average_reward: 189.9, length: 199\n",
      "episode: 2343, total reward: 200.0, average_reward: 194.0, length: 199\n",
      "episode: 2344, total reward: 161.0, average_reward: 194.8, length: 160\n",
      "episode: 2345, total reward: 167.0, average_reward: 192.8, length: 166\n",
      "episode: 2346, total reward: 105.0, average_reward: 183.3, length: 104\n",
      "episode: 2347, total reward: 200.0, average_reward: 183.3, length: 199\n",
      "episode: 2348, total reward: 200.0, average_reward: 183.3, length: 199\n",
      "episode: 2349, total reward: 196.0, average_reward: 182.9, length: 195\n",
      "episode: 2350, total reward: 200.0, average_reward: 182.9, length: 199\n",
      "episode: 2351, total reward: 106.0, average_reward: 173.5, length: 105\n",
      "episode: 2352, total reward: 200.0, average_reward: 173.5, length: 199\n",
      "episode: 2353, total reward: 200.0, average_reward: 173.5, length: 199\n",
      "episode: 2354, total reward: 120.0, average_reward: 169.4, length: 119\n",
      "episode: 2355, total reward: 200.0, average_reward: 172.7, length: 199\n",
      "episode: 2356, total reward: 177.0, average_reward: 179.9, length: 176\n",
      "episode: 2357, total reward: 200.0, average_reward: 179.9, length: 199\n",
      "episode: 2358, total reward: 200.0, average_reward: 179.9, length: 199\n",
      "episode: 2359, total reward: 194.0, average_reward: 179.7, length: 193\n",
      "episode: 2360, total reward: 200.0, average_reward: 179.7, length: 199\n",
      "episode: 2361, total reward: 200.0, average_reward: 189.1, length: 199\n",
      "episode: 2362, total reward: 196.0, average_reward: 188.7, length: 195\n",
      "episode: 2363, total reward: 163.0, average_reward: 185.0, length: 162\n",
      "episode: 2364, total reward: 200.0, average_reward: 193.0, length: 199\n",
      "episode: 2365, total reward: 200.0, average_reward: 193.0, length: 199\n",
      "episode: 2366, total reward: 200.0, average_reward: 195.3, length: 199\n",
      "episode: 2367, total reward: 200.0, average_reward: 195.3, length: 199\n",
      "episode: 2368, total reward: 62.0, average_reward: 181.5, length: 61\n",
      "episode: 2369, total reward: 171.0, average_reward: 179.2, length: 170\n",
      "episode: 2370, total reward: 200.0, average_reward: 179.2, length: 199\n",
      "episode: 2371, total reward: 200.0, average_reward: 179.2, length: 199\n",
      "episode: 2372, total reward: 200.0, average_reward: 179.6, length: 199\n",
      "episode: 2373, total reward: 200.0, average_reward: 183.3, length: 199\n",
      "episode: 2374, total reward: 118.0, average_reward: 175.1, length: 117\n",
      "episode: 2375, total reward: 146.0, average_reward: 169.7, length: 145\n"
     ]
    },
    {
     "name": "stdout",
     "output_type": "stream",
     "text": [
      "episode: 2376, total reward: 200.0, average_reward: 169.7, length: 199\n",
      "episode: 2377, total reward: 200.0, average_reward: 169.7, length: 199\n",
      "episode: 2378, total reward: 128.0, average_reward: 176.3, length: 127\n",
      "episode: 2379, total reward: 200.0, average_reward: 179.2, length: 199\n",
      "episode: 2380, total reward: 200.0, average_reward: 179.2, length: 199\n",
      "episode: 2381, total reward: 200.0, average_reward: 179.2, length: 199\n",
      "episode: 2382, total reward: 200.0, average_reward: 179.2, length: 199\n",
      "episode: 2383, total reward: 200.0, average_reward: 179.2, length: 199\n",
      "episode: 2384, total reward: 200.0, average_reward: 187.4, length: 199\n",
      "episode: 2385, total reward: 184.0, average_reward: 191.2, length: 183\n",
      "episode: 2386, total reward: 200.0, average_reward: 191.2, length: 199\n",
      "episode: 2387, total reward: 189.0, average_reward: 190.1, length: 188\n",
      "episode: 2388, total reward: 138.0, average_reward: 191.1, length: 137\n",
      "episode: 2389, total reward: 200.0, average_reward: 191.1, length: 199\n",
      "episode: 2390, total reward: 155.0, average_reward: 186.6, length: 154\n",
      "episode: 2391, total reward: 139.0, average_reward: 180.5, length: 138\n",
      "episode: 2392, total reward: 137.0, average_reward: 174.2, length: 136\n",
      "episode: 2393, total reward: 200.0, average_reward: 174.2, length: 199\n",
      "episode: 2394, total reward: 173.0, average_reward: 171.5, length: 172\n",
      "episode: 2395, total reward: 168.0, average_reward: 169.9, length: 167\n",
      "episode: 2396, total reward: 195.0, average_reward: 169.4, length: 194\n",
      "episode: 2397, total reward: 152.0, average_reward: 165.7, length: 151\n",
      "episode: 2398, total reward: 144.0, average_reward: 166.3, length: 143\n",
      "episode: 2399, total reward: 160.0, average_reward: 162.3, length: 159\n",
      "episode: 2400, total reward: 146.0, average_reward: 161.4, length: 145\n",
      "episode: 2401, total reward: 165.0, average_reward: 164.0, length: 164\n",
      "episode: 2402, total reward: 188.0, average_reward: 169.1, length: 187\n",
      "episode: 2403, total reward: 200.0, average_reward: 169.1, length: 199\n",
      "episode: 2404, total reward: 148.0, average_reward: 166.6, length: 147\n",
      "episode: 2405, total reward: 144.0, average_reward: 164.2, length: 143\n",
      "episode: 2406, total reward: 160.0, average_reward: 160.7, length: 159\n",
      "episode: 2407, total reward: 176.0, average_reward: 163.1, length: 175\n",
      "episode: 2408, total reward: 147.0, average_reward: 163.4, length: 146\n",
      "episode: 2409, total reward: 200.0, average_reward: 167.4, length: 199\n",
      "episode: 2410, total reward: 200.0, average_reward: 172.8, length: 199\n",
      "episode: 2411, total reward: 200.0, average_reward: 176.3, length: 199\n",
      "episode: 2412, total reward: 200.0, average_reward: 177.5, length: 199\n",
      "episode: 2413, total reward: 188.0, average_reward: 176.3, length: 187\n",
      "episode: 2414, total reward: 200.0, average_reward: 181.5, length: 199\n",
      "episode: 2415, total reward: 200.0, average_reward: 187.1, length: 199\n",
      "episode: 2416, total reward: 200.0, average_reward: 191.1, length: 199\n",
      "episode: 2417, total reward: 200.0, average_reward: 193.5, length: 199\n",
      "episode: 2418, total reward: 145.0, average_reward: 193.3, length: 144\n",
      "episode: 2419, total reward: 138.0, average_reward: 187.1, length: 137\n",
      "episode: 2420, total reward: 200.0, average_reward: 187.1, length: 199\n",
      "episode: 2421, total reward: 156.0, average_reward: 182.7, length: 155\n",
      "episode: 2422, total reward: 132.0, average_reward: 175.9, length: 131\n",
      "episode: 2423, total reward: 154.0, average_reward: 172.5, length: 153\n",
      "episode: 2424, total reward: 200.0, average_reward: 172.5, length: 199\n",
      "episode: 2425, total reward: 182.0, average_reward: 170.7, length: 181\n",
      "episode: 2426, total reward: 200.0, average_reward: 170.7, length: 199\n",
      "episode: 2427, total reward: 156.0, average_reward: 166.3, length: 155\n",
      "episode: 2428, total reward: 200.0, average_reward: 171.8, length: 199\n",
      "episode: 2429, total reward: 153.0, average_reward: 173.3, length: 152\n",
      "episode: 2430, total reward: 200.0, average_reward: 173.3, length: 199\n",
      "episode: 2431, total reward: 118.0, average_reward: 169.5, length: 117\n",
      "episode: 2432, total reward: 136.0, average_reward: 169.9, length: 135\n",
      "episode: 2433, total reward: 170.0, average_reward: 171.5, length: 169\n",
      "episode: 2434, total reward: 200.0, average_reward: 171.5, length: 199\n",
      "episode: 2435, total reward: 149.0, average_reward: 168.2, length: 148\n",
      "episode: 2436, total reward: 200.0, average_reward: 168.2, length: 199\n",
      "episode: 2437, total reward: 179.0, average_reward: 170.5, length: 178\n",
      "episode: 2438, total reward: 187.0, average_reward: 169.2, length: 186\n",
      "episode: 2439, total reward: 166.0, average_reward: 170.5, length: 165\n",
      "episode: 2440, total reward: 200.0, average_reward: 170.5, length: 199\n",
      "episode: 2441, total reward: 200.0, average_reward: 178.7, length: 199\n",
      "episode: 2442, total reward: 108.0, average_reward: 175.9, length: 107\n",
      "episode: 2443, total reward: 200.0, average_reward: 178.9, length: 199\n",
      "episode: 2444, total reward: 200.0, average_reward: 178.9, length: 199\n",
      "episode: 2445, total reward: 186.0, average_reward: 182.6, length: 185\n",
      "episode: 2446, total reward: 200.0, average_reward: 182.6, length: 199\n",
      "episode: 2447, total reward: 138.0, average_reward: 178.5, length: 137\n",
      "episode: 2448, total reward: 200.0, average_reward: 179.8, length: 199\n",
      "episode: 2449, total reward: 134.0, average_reward: 176.6, length: 133\n",
      "episode: 2450, total reward: 192.0, average_reward: 175.8, length: 191\n",
      "episode: 2451, total reward: 200.0, average_reward: 175.8, length: 199\n",
      "episode: 2452, total reward: 178.0, average_reward: 182.8, length: 177\n",
      "episode: 2453, total reward: 200.0, average_reward: 182.8, length: 199\n",
      "episode: 2454, total reward: 148.0, average_reward: 177.6, length: 147\n",
      "episode: 2455, total reward: 200.0, average_reward: 179.0, length: 199\n",
      "episode: 2456, total reward: 126.0, average_reward: 171.6, length: 125\n",
      "episode: 2457, total reward: 200.0, average_reward: 177.8, length: 199\n",
      "episode: 2458, total reward: 200.0, average_reward: 177.8, length: 199\n",
      "episode: 2459, total reward: 200.0, average_reward: 184.4, length: 199\n",
      "episode: 2460, total reward: 200.0, average_reward: 185.2, length: 199\n",
      "episode: 2461, total reward: 200.0, average_reward: 185.2, length: 199\n",
      "episode: 2462, total reward: 200.0, average_reward: 187.4, length: 199\n",
      "episode: 2463, total reward: 127.0, average_reward: 180.1, length: 126\n",
      "episode: 2464, total reward: 200.0, average_reward: 185.3, length: 199\n",
      "episode: 2465, total reward: 200.0, average_reward: 185.3, length: 199\n",
      "episode: 2466, total reward: 200.0, average_reward: 192.7, length: 199\n",
      "episode: 2467, total reward: 200.0, average_reward: 192.7, length: 199\n",
      "episode: 2468, total reward: 200.0, average_reward: 192.7, length: 199\n",
      "episode: 2469, total reward: 150.0, average_reward: 187.7, length: 149\n",
      "episode: 2470, total reward: 158.0, average_reward: 183.5, length: 157\n",
      "episode: 2471, total reward: 200.0, average_reward: 183.5, length: 199\n",
      "episode: 2472, total reward: 200.0, average_reward: 183.5, length: 199\n",
      "episode: 2473, total reward: 200.0, average_reward: 190.8, length: 199\n",
      "episode: 2474, total reward: 200.0, average_reward: 190.8, length: 199\n",
      "episode: 2475, total reward: 200.0, average_reward: 190.8, length: 199\n",
      "episode: 2476, total reward: 158.0, average_reward: 186.6, length: 157\n",
      "episode: 2477, total reward: 200.0, average_reward: 186.6, length: 199\n",
      "episode: 2478, total reward: 200.0, average_reward: 186.6, length: 199\n",
      "episode: 2479, total reward: 181.0, average_reward: 189.7, length: 180\n",
      "episode: 2480, total reward: 200.0, average_reward: 193.9, length: 199\n",
      "episode: 2481, total reward: 200.0, average_reward: 193.9, length: 199\n",
      "episode: 2482, total reward: 175.0, average_reward: 191.4, length: 174\n",
      "episode: 2483, total reward: 200.0, average_reward: 191.4, length: 199\n",
      "episode: 2484, total reward: 195.0, average_reward: 190.9, length: 194\n",
      "episode: 2485, total reward: 116.0, average_reward: 182.5, length: 115\n",
      "episode: 2486, total reward: 175.0, average_reward: 184.2, length: 174\n",
      "episode: 2487, total reward: 200.0, average_reward: 184.2, length: 199\n",
      "episode: 2488, total reward: 200.0, average_reward: 184.2, length: 199\n",
      "episode: 2489, total reward: 200.0, average_reward: 186.1, length: 199\n",
      "episode: 2490, total reward: 200.0, average_reward: 186.1, length: 199\n",
      "episode: 2491, total reward: 200.0, average_reward: 186.1, length: 199\n"
     ]
    },
    {
     "name": "stdout",
     "output_type": "stream",
     "text": [
      "episode: 2492, total reward: 200.0, average_reward: 188.6, length: 199\n",
      "episode: 2493, total reward: 134.0, average_reward: 182.0, length: 133\n",
      "episode: 2494, total reward: 200.0, average_reward: 182.5, length: 199\n",
      "episode: 2495, total reward: 200.0, average_reward: 190.9, length: 199\n",
      "episode: 2496, total reward: 200.0, average_reward: 193.4, length: 199\n",
      "episode: 2497, total reward: 200.0, average_reward: 193.4, length: 199\n",
      "episode: 2498, total reward: 200.0, average_reward: 193.4, length: 199\n",
      "episode: 2499, total reward: 200.0, average_reward: 193.4, length: 199\n",
      "episode: 2500, total reward: 200.0, average_reward: 193.4, length: 199\n",
      "episode: 2501, total reward: 200.0, average_reward: 193.4, length: 199\n",
      "episode: 2502, total reward: 186.0, average_reward: 192.0, length: 185\n",
      "episode: 2503, total reward: 200.0, average_reward: 198.6, length: 199\n",
      "episode: 2504, total reward: 55.0, average_reward: 184.1, length: 54\n",
      "episode: 2505, total reward: 194.0, average_reward: 183.5, length: 193\n",
      "episode: 2506, total reward: 200.0, average_reward: 183.5, length: 199\n",
      "episode: 2507, total reward: 200.0, average_reward: 183.5, length: 199\n",
      "episode: 2508, total reward: 141.0, average_reward: 177.6, length: 140\n",
      "episode: 2509, total reward: 200.0, average_reward: 177.6, length: 199\n",
      "episode: 2510, total reward: 200.0, average_reward: 177.6, length: 199\n",
      "episode: 2511, total reward: 152.0, average_reward: 172.8, length: 151\n",
      "episode: 2512, total reward: 200.0, average_reward: 174.2, length: 199\n",
      "episode: 2513, total reward: 200.0, average_reward: 174.2, length: 199\n",
      "episode: 2514, total reward: 200.0, average_reward: 188.7, length: 199\n",
      "episode: 2515, total reward: 200.0, average_reward: 189.3, length: 199\n",
      "episode: 2516, total reward: 200.0, average_reward: 189.3, length: 199\n",
      "episode: 2517, total reward: 198.0, average_reward: 189.1, length: 197\n",
      "episode: 2518, total reward: 200.0, average_reward: 195.0, length: 199\n",
      "episode: 2519, total reward: 190.0, average_reward: 194.0, length: 189\n",
      "episode: 2520, total reward: 200.0, average_reward: 194.0, length: 199\n",
      "episode: 2521, total reward: 200.0, average_reward: 198.8, length: 199\n",
      "episode: 2522, total reward: 200.0, average_reward: 198.8, length: 199\n",
      "episode: 2523, total reward: 200.0, average_reward: 198.8, length: 199\n",
      "episode: 2524, total reward: 185.0, average_reward: 197.3, length: 184\n",
      "episode: 2525, total reward: 72.0, average_reward: 184.5, length: 71\n",
      "episode: 2526, total reward: 167.0, average_reward: 181.2, length: 166\n",
      "episode: 2527, total reward: 200.0, average_reward: 181.4, length: 199\n",
      "episode: 2528, total reward: 155.0, average_reward: 176.9, length: 154\n",
      "episode: 2529, total reward: 177.0, average_reward: 175.6, length: 176\n",
      "episode: 2530, total reward: 200.0, average_reward: 175.6, length: 199\n",
      "episode: 2531, total reward: 200.0, average_reward: 175.6, length: 199\n",
      "episode: 2532, total reward: 164.0, average_reward: 172.0, length: 163\n",
      "episode: 2533, total reward: 200.0, average_reward: 172.0, length: 199\n",
      "episode: 2534, total reward: 200.0, average_reward: 173.5, length: 199\n",
      "episode: 2535, total reward: 200.0, average_reward: 186.3, length: 199\n",
      "episode: 2536, total reward: 200.0, average_reward: 189.6, length: 199\n",
      "episode: 2537, total reward: 199.0, average_reward: 189.5, length: 198\n",
      "episode: 2538, total reward: 200.0, average_reward: 194.0, length: 199\n",
      "episode: 2539, total reward: 200.0, average_reward: 196.3, length: 199\n",
      "episode: 2540, total reward: 156.0, average_reward: 191.9, length: 155\n",
      "episode: 2541, total reward: 200.0, average_reward: 191.9, length: 199\n",
      "episode: 2542, total reward: 154.0, average_reward: 190.9, length: 153\n",
      "episode: 2543, total reward: 200.0, average_reward: 190.9, length: 199\n",
      "episode: 2544, total reward: 200.0, average_reward: 190.9, length: 199\n",
      "episode: 2545, total reward: 200.0, average_reward: 190.9, length: 199\n",
      "episode: 2546, total reward: 200.0, average_reward: 190.9, length: 199\n",
      "episode: 2547, total reward: 200.0, average_reward: 191.0, length: 199\n",
      "episode: 2548, total reward: 200.0, average_reward: 191.0, length: 199\n",
      "episode: 2549, total reward: 180.0, average_reward: 189.0, length: 179\n",
      "episode: 2550, total reward: 158.0, average_reward: 189.2, length: 157\n",
      "episode: 2551, total reward: 200.0, average_reward: 189.2, length: 199\n",
      "episode: 2552, total reward: 181.0, average_reward: 191.9, length: 180\n",
      "episode: 2553, total reward: 194.0, average_reward: 191.3, length: 193\n",
      "episode: 2554, total reward: 200.0, average_reward: 191.3, length: 199\n",
      "episode: 2555, total reward: 200.0, average_reward: 191.3, length: 199\n",
      "episode: 2556, total reward: 200.0, average_reward: 191.3, length: 199\n",
      "episode: 2557, total reward: 200.0, average_reward: 191.3, length: 199\n",
      "episode: 2558, total reward: 200.0, average_reward: 191.3, length: 199\n",
      "episode: 2559, total reward: 200.0, average_reward: 193.3, length: 199\n",
      "episode: 2560, total reward: 200.0, average_reward: 197.5, length: 199\n",
      "episode: 2561, total reward: 200.0, average_reward: 197.5, length: 199\n",
      "episode: 2562, total reward: 119.0, average_reward: 191.3, length: 118\n",
      "episode: 2563, total reward: 200.0, average_reward: 191.9, length: 199\n",
      "episode: 2564, total reward: 200.0, average_reward: 191.9, length: 199\n",
      "episode: 2565, total reward: 189.0, average_reward: 190.8, length: 188\n",
      "episode: 2566, total reward: 200.0, average_reward: 190.8, length: 199\n",
      "episode: 2567, total reward: 200.0, average_reward: 190.8, length: 199\n",
      "episode: 2568, total reward: 200.0, average_reward: 190.8, length: 199\n",
      "episode: 2569, total reward: 200.0, average_reward: 190.8, length: 199\n",
      "episode: 2570, total reward: 200.0, average_reward: 190.8, length: 199\n",
      "episode: 2571, total reward: 148.0, average_reward: 185.6, length: 147\n",
      "episode: 2572, total reward: 200.0, average_reward: 193.7, length: 199\n",
      "episode: 2573, total reward: 200.0, average_reward: 193.7, length: 199\n",
      "episode: 2574, total reward: 200.0, average_reward: 193.7, length: 199\n",
      "episode: 2575, total reward: 175.0, average_reward: 192.3, length: 174\n",
      "episode: 2576, total reward: 200.0, average_reward: 192.3, length: 199\n",
      "episode: 2577, total reward: 200.0, average_reward: 192.3, length: 199\n",
      "episode: 2578, total reward: 200.0, average_reward: 192.3, length: 199\n",
      "episode: 2579, total reward: 169.0, average_reward: 189.2, length: 168\n",
      "episode: 2580, total reward: 200.0, average_reward: 189.2, length: 199\n",
      "episode: 2581, total reward: 200.0, average_reward: 194.4, length: 199\n",
      "episode: 2582, total reward: 200.0, average_reward: 194.4, length: 199\n",
      "episode: 2583, total reward: 200.0, average_reward: 194.4, length: 199\n",
      "episode: 2584, total reward: 183.0, average_reward: 192.7, length: 182\n",
      "episode: 2585, total reward: 176.0, average_reward: 192.8, length: 175\n",
      "episode: 2586, total reward: 200.0, average_reward: 192.8, length: 199\n",
      "episode: 2587, total reward: 171.0, average_reward: 189.9, length: 170\n",
      "episode: 2588, total reward: 200.0, average_reward: 189.9, length: 199\n",
      "episode: 2589, total reward: 200.0, average_reward: 193.0, length: 199\n",
      "episode: 2590, total reward: 200.0, average_reward: 193.0, length: 199\n",
      "episode: 2591, total reward: 200.0, average_reward: 193.0, length: 199\n",
      "episode: 2592, total reward: 193.0, average_reward: 192.3, length: 192\n",
      "episode: 2593, total reward: 200.0, average_reward: 192.3, length: 199\n",
      "episode: 2594, total reward: 160.0, average_reward: 190.0, length: 159\n",
      "episode: 2595, total reward: 200.0, average_reward: 192.4, length: 199\n",
      "episode: 2596, total reward: 200.0, average_reward: 192.4, length: 199\n",
      "episode: 2597, total reward: 169.0, average_reward: 192.2, length: 168\n",
      "episode: 2598, total reward: 200.0, average_reward: 192.2, length: 199\n",
      "episode: 2599, total reward: 200.0, average_reward: 192.2, length: 199\n",
      "episode: 2600, total reward: 173.0, average_reward: 189.5, length: 172\n",
      "episode: 2601, total reward: 173.0, average_reward: 186.8, length: 172\n",
      "episode: 2602, total reward: 165.0, average_reward: 184.0, length: 164\n",
      "episode: 2603, total reward: 167.0, average_reward: 180.7, length: 166\n",
      "episode: 2604, total reward: 112.0, average_reward: 175.9, length: 111\n",
      "episode: 2605, total reward: 184.0, average_reward: 174.3, length: 183\n",
      "episode: 2606, total reward: 200.0, average_reward: 174.3, length: 199\n",
      "episode: 2607, total reward: 200.0, average_reward: 177.4, length: 199\n"
     ]
    },
    {
     "name": "stdout",
     "output_type": "stream",
     "text": [
      "episode: 2608, total reward: 200.0, average_reward: 177.4, length: 199\n",
      "episode: 2609, total reward: 185.0, average_reward: 175.9, length: 184\n",
      "episode: 2610, total reward: 200.0, average_reward: 178.6, length: 199\n",
      "episode: 2611, total reward: 200.0, average_reward: 181.3, length: 199\n",
      "episode: 2612, total reward: 200.0, average_reward: 184.8, length: 199\n",
      "episode: 2613, total reward: 200.0, average_reward: 188.1, length: 199\n",
      "episode: 2614, total reward: 156.0, average_reward: 192.5, length: 155\n",
      "episode: 2615, total reward: 200.0, average_reward: 194.1, length: 199\n",
      "episode: 2616, total reward: 179.0, average_reward: 192.0, length: 178\n",
      "episode: 2617, total reward: 200.0, average_reward: 192.0, length: 199\n",
      "episode: 2618, total reward: 173.0, average_reward: 189.3, length: 172\n",
      "episode: 2619, total reward: 200.0, average_reward: 190.8, length: 199\n",
      "episode: 2620, total reward: 200.0, average_reward: 190.8, length: 199\n",
      "episode: 2621, total reward: 143.0, average_reward: 185.1, length: 142\n",
      "episode: 2622, total reward: 200.0, average_reward: 185.1, length: 199\n",
      "episode: 2623, total reward: 200.0, average_reward: 185.1, length: 199\n",
      "episode: 2624, total reward: 200.0, average_reward: 189.5, length: 199\n",
      "episode: 2625, total reward: 139.0, average_reward: 183.4, length: 138\n",
      "episode: 2626, total reward: 185.0, average_reward: 184.0, length: 184\n",
      "episode: 2627, total reward: 159.0, average_reward: 179.9, length: 158\n",
      "episode: 2628, total reward: 182.0, average_reward: 180.8, length: 181\n",
      "episode: 2629, total reward: 136.0, average_reward: 174.4, length: 135\n",
      "episode: 2630, total reward: 200.0, average_reward: 174.4, length: 199\n",
      "episode: 2631, total reward: 200.0, average_reward: 180.1, length: 199\n",
      "episode: 2632, total reward: 200.0, average_reward: 180.1, length: 199\n",
      "episode: 2633, total reward: 141.0, average_reward: 174.2, length: 140\n",
      "episode: 2634, total reward: 200.0, average_reward: 174.2, length: 199\n",
      "episode: 2635, total reward: 184.0, average_reward: 178.7, length: 183\n",
      "episode: 2636, total reward: 200.0, average_reward: 180.2, length: 199\n",
      "episode: 2637, total reward: 200.0, average_reward: 184.3, length: 199\n",
      "episode: 2638, total reward: 200.0, average_reward: 186.1, length: 199\n",
      "episode: 2639, total reward: 165.0, average_reward: 189.0, length: 164\n",
      "episode: 2640, total reward: 184.0, average_reward: 187.4, length: 183\n",
      "episode: 2641, total reward: 200.0, average_reward: 187.4, length: 199\n",
      "episode: 2642, total reward: 195.0, average_reward: 186.9, length: 194\n",
      "episode: 2643, total reward: 186.0, average_reward: 191.4, length: 185\n",
      "episode: 2644, total reward: 200.0, average_reward: 191.4, length: 199\n",
      "episode: 2645, total reward: 200.0, average_reward: 193.0, length: 199\n",
      "episode: 2646, total reward: 153.0, average_reward: 188.3, length: 152\n",
      "episode: 2647, total reward: 200.0, average_reward: 188.3, length: 199\n",
      "episode: 2648, total reward: 200.0, average_reward: 188.3, length: 199\n",
      "episode: 2649, total reward: 179.0, average_reward: 189.7, length: 178\n",
      "episode: 2650, total reward: 136.0, average_reward: 184.9, length: 135\n",
      "episode: 2651, total reward: 200.0, average_reward: 184.9, length: 199\n",
      "episode: 2652, total reward: 200.0, average_reward: 185.4, length: 199\n",
      "episode: 2653, total reward: 137.0, average_reward: 180.5, length: 136\n",
      "episode: 2654, total reward: 200.0, average_reward: 180.5, length: 199\n",
      "episode: 2655, total reward: 200.0, average_reward: 180.5, length: 199\n",
      "episode: 2656, total reward: 200.0, average_reward: 185.2, length: 199\n",
      "episode: 2657, total reward: 191.0, average_reward: 184.3, length: 190\n",
      "episode: 2658, total reward: 200.0, average_reward: 184.3, length: 199\n",
      "episode: 2659, total reward: 155.0, average_reward: 181.9, length: 154\n",
      "episode: 2660, total reward: 200.0, average_reward: 188.3, length: 199\n",
      "episode: 2661, total reward: 200.0, average_reward: 188.3, length: 199\n",
      "episode: 2662, total reward: 147.0, average_reward: 183.0, length: 146\n",
      "episode: 2663, total reward: 200.0, average_reward: 189.3, length: 199\n",
      "episode: 2664, total reward: 200.0, average_reward: 189.3, length: 199\n",
      "episode: 2665, total reward: 200.0, average_reward: 189.3, length: 199\n",
      "episode: 2666, total reward: 200.0, average_reward: 189.3, length: 199\n",
      "episode: 2667, total reward: 131.0, average_reward: 183.3, length: 130\n",
      "episode: 2668, total reward: 175.0, average_reward: 180.8, length: 174\n",
      "episode: 2669, total reward: 200.0, average_reward: 185.3, length: 199\n",
      "episode: 2670, total reward: 200.0, average_reward: 185.3, length: 199\n",
      "episode: 2671, total reward: 162.0, average_reward: 181.5, length: 161\n",
      "episode: 2672, total reward: 155.0, average_reward: 182.3, length: 154\n",
      "episode: 2673, total reward: 200.0, average_reward: 182.3, length: 199\n",
      "episode: 2674, total reward: 200.0, average_reward: 182.3, length: 199\n",
      "episode: 2675, total reward: 156.0, average_reward: 177.9, length: 155\n",
      "episode: 2676, total reward: 200.0, average_reward: 177.9, length: 199\n",
      "episode: 2677, total reward: 200.0, average_reward: 184.8, length: 199\n",
      "episode: 2678, total reward: 115.0, average_reward: 178.8, length: 114\n",
      "episode: 2679, total reward: 143.0, average_reward: 173.1, length: 142\n",
      "episode: 2680, total reward: 200.0, average_reward: 173.1, length: 199\n",
      "episode: 2681, total reward: 200.0, average_reward: 176.9, length: 199\n",
      "episode: 2682, total reward: 152.0, average_reward: 176.6, length: 151\n",
      "episode: 2683, total reward: 200.0, average_reward: 176.6, length: 199\n",
      "episode: 2684, total reward: 171.0, average_reward: 173.7, length: 170\n",
      "episode: 2685, total reward: 137.0, average_reward: 171.8, length: 136\n",
      "episode: 2686, total reward: 200.0, average_reward: 171.8, length: 199\n",
      "episode: 2687, total reward: 200.0, average_reward: 171.8, length: 199\n",
      "episode: 2688, total reward: 200.0, average_reward: 180.3, length: 199\n",
      "episode: 2689, total reward: 200.0, average_reward: 186.0, length: 199\n",
      "episode: 2690, total reward: 200.0, average_reward: 186.0, length: 199\n",
      "episode: 2691, total reward: 165.0, average_reward: 182.5, length: 164\n",
      "episode: 2692, total reward: 200.0, average_reward: 187.3, length: 199\n",
      "episode: 2693, total reward: 200.0, average_reward: 187.3, length: 199\n",
      "episode: 2694, total reward: 200.0, average_reward: 190.2, length: 199\n",
      "episode: 2695, total reward: 116.0, average_reward: 188.1, length: 115\n",
      "episode: 2696, total reward: 200.0, average_reward: 188.1, length: 199\n",
      "episode: 2697, total reward: 160.0, average_reward: 184.1, length: 159\n",
      "episode: 2698, total reward: 200.0, average_reward: 184.1, length: 199\n",
      "episode: 2699, total reward: 200.0, average_reward: 184.1, length: 199\n",
      "episode: 2700, total reward: 152.0, average_reward: 179.3, length: 151\n",
      "episode: 2701, total reward: 177.0, average_reward: 180.5, length: 176\n",
      "episode: 2702, total reward: 200.0, average_reward: 180.5, length: 199\n",
      "episode: 2703, total reward: 193.0, average_reward: 179.8, length: 192\n",
      "episode: 2704, total reward: 200.0, average_reward: 179.8, length: 199\n",
      "episode: 2705, total reward: 200.0, average_reward: 188.2, length: 199\n",
      "episode: 2706, total reward: 123.0, average_reward: 180.5, length: 122\n",
      "episode: 2707, total reward: 142.0, average_reward: 178.7, length: 141\n",
      "episode: 2708, total reward: 148.0, average_reward: 173.5, length: 147\n",
      "episode: 2709, total reward: 200.0, average_reward: 173.5, length: 199\n",
      "episode: 2710, total reward: 200.0, average_reward: 178.3, length: 199\n",
      "episode: 2711, total reward: 200.0, average_reward: 180.6, length: 199\n",
      "episode: 2712, total reward: 200.0, average_reward: 180.6, length: 199\n",
      "episode: 2713, total reward: 184.0, average_reward: 179.7, length: 183\n",
      "episode: 2714, total reward: 200.0, average_reward: 179.7, length: 199\n",
      "episode: 2715, total reward: 200.0, average_reward: 179.7, length: 199\n",
      "episode: 2716, total reward: 131.0, average_reward: 180.5, length: 130\n",
      "episode: 2717, total reward: 200.0, average_reward: 186.3, length: 199\n",
      "episode: 2718, total reward: 154.0, average_reward: 186.9, length: 153\n",
      "episode: 2719, total reward: 200.0, average_reward: 186.9, length: 199\n",
      "episode: 2720, total reward: 139.0, average_reward: 180.8, length: 138\n",
      "episode: 2721, total reward: 120.0, average_reward: 172.8, length: 119\n",
      "episode: 2722, total reward: 200.0, average_reward: 172.8, length: 199\n",
      "episode: 2723, total reward: 200.0, average_reward: 174.4, length: 199\n"
     ]
    },
    {
     "name": "stdout",
     "output_type": "stream",
     "text": [
      "episode: 2724, total reward: 200.0, average_reward: 174.4, length: 199\n",
      "episode: 2725, total reward: 200.0, average_reward: 174.4, length: 199\n",
      "episode: 2726, total reward: 200.0, average_reward: 181.3, length: 199\n",
      "episode: 2727, total reward: 196.0, average_reward: 180.9, length: 195\n",
      "episode: 2728, total reward: 153.0, average_reward: 180.8, length: 152\n",
      "episode: 2729, total reward: 200.0, average_reward: 180.8, length: 199\n",
      "episode: 2730, total reward: 200.0, average_reward: 186.9, length: 199\n",
      "episode: 2731, total reward: 176.0, average_reward: 192.5, length: 175\n",
      "episode: 2732, total reward: 200.0, average_reward: 192.5, length: 199\n",
      "episode: 2733, total reward: 200.0, average_reward: 192.5, length: 199\n",
      "episode: 2734, total reward: 200.0, average_reward: 192.5, length: 199\n",
      "episode: 2735, total reward: 200.0, average_reward: 192.5, length: 199\n",
      "episode: 2736, total reward: 200.0, average_reward: 192.5, length: 199\n",
      "episode: 2737, total reward: 200.0, average_reward: 192.9, length: 199\n",
      "episode: 2738, total reward: 200.0, average_reward: 197.6, length: 199\n",
      "episode: 2739, total reward: 200.0, average_reward: 197.6, length: 199\n",
      "episode: 2740, total reward: 200.0, average_reward: 197.6, length: 199\n",
      "episode: 2741, total reward: 200.0, average_reward: 200.0, length: 199\n",
      "episode: 2742, total reward: 200.0, average_reward: 200.0, length: 199\n",
      "episode: 2743, total reward: 200.0, average_reward: 200.0, length: 199\n",
      "episode: 2744, total reward: 200.0, average_reward: 200.0, length: 199\n",
      "episode: 2745, total reward: 200.0, average_reward: 200.0, length: 199\n",
      "episode: 2746, total reward: 200.0, average_reward: 200.0, length: 199\n",
      "episode: 2747, total reward: 200.0, average_reward: 200.0, length: 199\n",
      "episode: 2748, total reward: 200.0, average_reward: 200.0, length: 199\n",
      "episode: 2749, total reward: 200.0, average_reward: 200.0, length: 199\n",
      "episode: 2750, total reward: 187.0, average_reward: 198.7, length: 186\n",
      "episode: 2751, total reward: 200.0, average_reward: 198.7, length: 199\n",
      "episode: 2752, total reward: 200.0, average_reward: 198.7, length: 199\n",
      "episode: 2753, total reward: 200.0, average_reward: 198.7, length: 199\n",
      "episode: 2754, total reward: 200.0, average_reward: 198.7, length: 199\n",
      "episode: 2755, total reward: 200.0, average_reward: 198.7, length: 199\n",
      "episode: 2756, total reward: 200.0, average_reward: 198.7, length: 199\n",
      "episode: 2757, total reward: 200.0, average_reward: 198.7, length: 199\n",
      "episode: 2758, total reward: 200.0, average_reward: 198.7, length: 199\n",
      "episode: 2759, total reward: 200.0, average_reward: 198.7, length: 199\n",
      "episode: 2760, total reward: 200.0, average_reward: 200.0, length: 199\n",
      "episode: 2761, total reward: 110.0, average_reward: 191.0, length: 109\n",
      "episode: 2762, total reward: 200.0, average_reward: 191.0, length: 199\n",
      "episode: 2763, total reward: 200.0, average_reward: 191.0, length: 199\n",
      "episode: 2764, total reward: 135.0, average_reward: 184.5, length: 134\n",
      "episode: 2765, total reward: 200.0, average_reward: 184.5, length: 199\n",
      "episode: 2766, total reward: 200.0, average_reward: 184.5, length: 199\n",
      "episode: 2767, total reward: 200.0, average_reward: 184.5, length: 199\n",
      "episode: 2768, total reward: 200.0, average_reward: 184.5, length: 199\n",
      "episode: 2769, total reward: 200.0, average_reward: 184.5, length: 199\n",
      "episode: 2770, total reward: 200.0, average_reward: 184.5, length: 199\n",
      "episode: 2771, total reward: 200.0, average_reward: 193.5, length: 199\n",
      "episode: 2772, total reward: 200.0, average_reward: 193.5, length: 199\n",
      "episode: 2773, total reward: 188.0, average_reward: 192.3, length: 187\n",
      "episode: 2774, total reward: 200.0, average_reward: 198.8, length: 199\n",
      "episode: 2775, total reward: 200.0, average_reward: 198.8, length: 199\n",
      "episode: 2776, total reward: 200.0, average_reward: 198.8, length: 199\n",
      "episode: 2777, total reward: 200.0, average_reward: 198.8, length: 199\n",
      "episode: 2778, total reward: 200.0, average_reward: 198.8, length: 199\n",
      "episode: 2779, total reward: 200.0, average_reward: 198.8, length: 199\n",
      "episode: 2780, total reward: 198.0, average_reward: 198.6, length: 197\n",
      "episode: 2781, total reward: 177.0, average_reward: 196.3, length: 176\n",
      "episode: 2782, total reward: 142.0, average_reward: 190.5, length: 141\n",
      "episode: 2783, total reward: 152.0, average_reward: 186.9, length: 151\n",
      "episode: 2784, total reward: 200.0, average_reward: 186.9, length: 199\n",
      "episode: 2785, total reward: 200.0, average_reward: 186.9, length: 199\n",
      "episode: 2786, total reward: 200.0, average_reward: 186.9, length: 199\n",
      "episode: 2787, total reward: 200.0, average_reward: 186.9, length: 199\n",
      "episode: 2788, total reward: 200.0, average_reward: 186.9, length: 199\n",
      "episode: 2789, total reward: 198.0, average_reward: 186.7, length: 197\n",
      "episode: 2790, total reward: 200.0, average_reward: 186.9, length: 199\n",
      "episode: 2791, total reward: 155.0, average_reward: 184.7, length: 154\n",
      "episode: 2792, total reward: 200.0, average_reward: 190.5, length: 199\n",
      "episode: 2793, total reward: 200.0, average_reward: 195.3, length: 199\n",
      "episode: 2794, total reward: 200.0, average_reward: 195.3, length: 199\n",
      "episode: 2795, total reward: 200.0, average_reward: 195.3, length: 199\n",
      "episode: 2796, total reward: 156.0, average_reward: 190.9, length: 155\n",
      "episode: 2797, total reward: 200.0, average_reward: 190.9, length: 199\n",
      "episode: 2798, total reward: 200.0, average_reward: 190.9, length: 199\n",
      "episode: 2799, total reward: 200.0, average_reward: 191.1, length: 199\n",
      "episode: 2800, total reward: 200.0, average_reward: 191.1, length: 199\n",
      "episode: 2801, total reward: 200.0, average_reward: 195.6, length: 199\n",
      "episode: 2802, total reward: 200.0, average_reward: 195.6, length: 199\n",
      "episode: 2803, total reward: 200.0, average_reward: 195.6, length: 199\n",
      "episode: 2804, total reward: 200.0, average_reward: 195.6, length: 199\n",
      "episode: 2805, total reward: 200.0, average_reward: 195.6, length: 199\n",
      "episode: 2806, total reward: 200.0, average_reward: 200.0, length: 199\n",
      "episode: 2807, total reward: 200.0, average_reward: 200.0, length: 199\n",
      "episode: 2808, total reward: 200.0, average_reward: 200.0, length: 199\n",
      "episode: 2809, total reward: 200.0, average_reward: 200.0, length: 199\n",
      "episode: 2810, total reward: 200.0, average_reward: 200.0, length: 199\n",
      "episode: 2811, total reward: 200.0, average_reward: 200.0, length: 199\n",
      "episode: 2812, total reward: 200.0, average_reward: 200.0, length: 199\n",
      "episode: 2813, total reward: 200.0, average_reward: 200.0, length: 199\n",
      "episode: 2814, total reward: 200.0, average_reward: 200.0, length: 199\n",
      "episode: 2815, total reward: 200.0, average_reward: 200.0, length: 199\n",
      "episode: 2816, total reward: 200.0, average_reward: 200.0, length: 199\n",
      "episode: 2817, total reward: 200.0, average_reward: 200.0, length: 199\n",
      "episode: 2818, total reward: 200.0, average_reward: 200.0, length: 199\n",
      "episode: 2819, total reward: 200.0, average_reward: 200.0, length: 199\n",
      "episode: 2820, total reward: 200.0, average_reward: 200.0, length: 199\n",
      "episode: 2821, total reward: 200.0, average_reward: 200.0, length: 199\n",
      "episode: 2822, total reward: 200.0, average_reward: 200.0, length: 199\n",
      "episode: 2823, total reward: 200.0, average_reward: 200.0, length: 199\n",
      "episode: 2824, total reward: 200.0, average_reward: 200.0, length: 199\n",
      "episode: 2825, total reward: 200.0, average_reward: 200.0, length: 199\n",
      "episode: 2826, total reward: 200.0, average_reward: 200.0, length: 199\n",
      "episode: 2827, total reward: 200.0, average_reward: 200.0, length: 199\n",
      "episode: 2828, total reward: 200.0, average_reward: 200.0, length: 199\n",
      "episode: 2829, total reward: 200.0, average_reward: 200.0, length: 199\n",
      "episode: 2830, total reward: 200.0, average_reward: 200.0, length: 199\n",
      "episode: 2831, total reward: 194.0, average_reward: 199.4, length: 193\n",
      "episode: 2832, total reward: 198.0, average_reward: 199.2, length: 197\n",
      "episode: 2833, total reward: 200.0, average_reward: 199.2, length: 199\n",
      "episode: 2834, total reward: 200.0, average_reward: 199.2, length: 199\n",
      "episode: 2835, total reward: 200.0, average_reward: 199.2, length: 199\n",
      "episode: 2836, total reward: 200.0, average_reward: 199.2, length: 199\n",
      "episode: 2837, total reward: 200.0, average_reward: 199.2, length: 199\n",
      "episode: 2838, total reward: 200.0, average_reward: 199.2, length: 199\n",
      "episode: 2839, total reward: 179.0, average_reward: 197.1, length: 178\n",
      "episode: 2840, total reward: 200.0, average_reward: 197.1, length: 199\n"
     ]
    },
    {
     "name": "stdout",
     "output_type": "stream",
     "text": [
      "episode: 2841, total reward: 200.0, average_reward: 197.7, length: 199\n",
      "episode: 2842, total reward: 200.0, average_reward: 197.9, length: 199\n",
      "episode: 2843, total reward: 159.0, average_reward: 193.8, length: 158\n",
      "episode: 2844, total reward: 200.0, average_reward: 193.8, length: 199\n",
      "episode: 2845, total reward: 200.0, average_reward: 193.8, length: 199\n",
      "episode: 2846, total reward: 200.0, average_reward: 193.8, length: 199\n",
      "episode: 2847, total reward: 200.0, average_reward: 193.8, length: 199\n",
      "episode: 2848, total reward: 200.0, average_reward: 193.8, length: 199\n",
      "episode: 2849, total reward: 158.0, average_reward: 191.7, length: 157\n",
      "episode: 2850, total reward: 200.0, average_reward: 191.7, length: 199\n",
      "episode: 2851, total reward: 191.0, average_reward: 190.8, length: 190\n",
      "episode: 2852, total reward: 200.0, average_reward: 190.8, length: 199\n",
      "episode: 2853, total reward: 200.0, average_reward: 194.9, length: 199\n",
      "episode: 2854, total reward: 89.0, average_reward: 183.8, length: 88\n",
      "episode: 2855, total reward: 200.0, average_reward: 183.8, length: 199\n",
      "episode: 2856, total reward: 200.0, average_reward: 183.8, length: 199\n",
      "episode: 2857, total reward: 200.0, average_reward: 183.8, length: 199\n",
      "episode: 2858, total reward: 200.0, average_reward: 183.8, length: 199\n",
      "episode: 2859, total reward: 200.0, average_reward: 188.0, length: 199\n",
      "episode: 2860, total reward: 162.0, average_reward: 184.2, length: 161\n",
      "episode: 2861, total reward: 200.0, average_reward: 185.1, length: 199\n",
      "episode: 2862, total reward: 200.0, average_reward: 185.1, length: 199\n",
      "episode: 2863, total reward: 200.0, average_reward: 185.1, length: 199\n",
      "episode: 2864, total reward: 200.0, average_reward: 196.2, length: 199\n",
      "episode: 2865, total reward: 200.0, average_reward: 196.2, length: 199\n",
      "episode: 2866, total reward: 200.0, average_reward: 196.2, length: 199\n",
      "episode: 2867, total reward: 200.0, average_reward: 196.2, length: 199\n",
      "episode: 2868, total reward: 200.0, average_reward: 196.2, length: 199\n",
      "episode: 2869, total reward: 200.0, average_reward: 196.2, length: 199\n",
      "episode: 2870, total reward: 200.0, average_reward: 200.0, length: 199\n",
      "episode: 2871, total reward: 200.0, average_reward: 200.0, length: 199\n",
      "episode: 2872, total reward: 200.0, average_reward: 200.0, length: 199\n",
      "episode: 2873, total reward: 200.0, average_reward: 200.0, length: 199\n",
      "episode: 2874, total reward: 147.0, average_reward: 194.7, length: 146\n",
      "episode: 2875, total reward: 200.0, average_reward: 194.7, length: 199\n",
      "episode: 2876, total reward: 200.0, average_reward: 194.7, length: 199\n",
      "episode: 2877, total reward: 200.0, average_reward: 194.7, length: 199\n",
      "episode: 2878, total reward: 200.0, average_reward: 194.7, length: 199\n",
      "episode: 2879, total reward: 200.0, average_reward: 194.7, length: 199\n",
      "episode: 2880, total reward: 200.0, average_reward: 194.7, length: 199\n",
      "episode: 2881, total reward: 200.0, average_reward: 194.7, length: 199\n",
      "episode: 2882, total reward: 200.0, average_reward: 194.7, length: 199\n",
      "episode: 2883, total reward: 200.0, average_reward: 194.7, length: 199\n",
      "episode: 2884, total reward: 200.0, average_reward: 200.0, length: 199\n",
      "episode: 2885, total reward: 200.0, average_reward: 200.0, length: 199\n",
      "episode: 2886, total reward: 132.0, average_reward: 193.2, length: 131\n",
      "episode: 2887, total reward: 200.0, average_reward: 193.2, length: 199\n",
      "episode: 2888, total reward: 200.0, average_reward: 193.2, length: 199\n",
      "episode: 2889, total reward: 200.0, average_reward: 193.2, length: 199\n",
      "episode: 2890, total reward: 200.0, average_reward: 193.2, length: 199\n",
      "episode: 2891, total reward: 200.0, average_reward: 193.2, length: 199\n",
      "episode: 2892, total reward: 193.0, average_reward: 192.5, length: 192\n",
      "episode: 2893, total reward: 200.0, average_reward: 192.5, length: 199\n",
      "episode: 2894, total reward: 200.0, average_reward: 192.5, length: 199\n",
      "episode: 2895, total reward: 200.0, average_reward: 192.5, length: 199\n",
      "episode: 2896, total reward: 200.0, average_reward: 199.3, length: 199\n",
      "episode: 2897, total reward: 200.0, average_reward: 199.3, length: 199\n",
      "episode: 2898, total reward: 155.0, average_reward: 194.8, length: 154\n",
      "episode: 2899, total reward: 200.0, average_reward: 194.8, length: 199\n",
      "episode: 2900, total reward: 200.0, average_reward: 194.8, length: 199\n",
      "episode: 2901, total reward: 200.0, average_reward: 194.8, length: 199\n",
      "episode: 2902, total reward: 200.0, average_reward: 195.5, length: 199\n",
      "episode: 2903, total reward: 200.0, average_reward: 195.5, length: 199\n",
      "episode: 2904, total reward: 193.0, average_reward: 194.8, length: 192\n",
      "episode: 2905, total reward: 200.0, average_reward: 194.8, length: 199\n",
      "episode: 2906, total reward: 200.0, average_reward: 194.8, length: 199\n",
      "episode: 2907, total reward: 200.0, average_reward: 194.8, length: 199\n",
      "episode: 2908, total reward: 200.0, average_reward: 199.3, length: 199\n",
      "episode: 2909, total reward: 200.0, average_reward: 199.3, length: 199\n",
      "episode: 2910, total reward: 188.0, average_reward: 198.1, length: 187\n",
      "episode: 2911, total reward: 184.0, average_reward: 196.5, length: 183\n",
      "episode: 2912, total reward: 200.0, average_reward: 196.5, length: 199\n",
      "episode: 2913, total reward: 179.0, average_reward: 194.4, length: 178\n",
      "episode: 2914, total reward: 200.0, average_reward: 195.1, length: 199\n",
      "episode: 2915, total reward: 200.0, average_reward: 195.1, length: 199\n",
      "episode: 2916, total reward: 200.0, average_reward: 195.1, length: 199\n",
      "episode: 2917, total reward: 200.0, average_reward: 195.1, length: 199\n",
      "episode: 2918, total reward: 200.0, average_reward: 195.1, length: 199\n",
      "episode: 2919, total reward: 200.0, average_reward: 195.1, length: 199\n",
      "episode: 2920, total reward: 200.0, average_reward: 196.3, length: 199\n",
      "episode: 2921, total reward: 200.0, average_reward: 197.9, length: 199\n",
      "episode: 2922, total reward: 200.0, average_reward: 197.9, length: 199\n",
      "episode: 2923, total reward: 200.0, average_reward: 200.0, length: 199\n",
      "episode: 2924, total reward: 200.0, average_reward: 200.0, length: 199\n",
      "episode: 2925, total reward: 131.0, average_reward: 193.1, length: 130\n",
      "episode: 2926, total reward: 200.0, average_reward: 193.1, length: 199\n",
      "episode: 2927, total reward: 200.0, average_reward: 193.1, length: 199\n",
      "episode: 2928, total reward: 179.0, average_reward: 191.0, length: 178\n",
      "episode: 2929, total reward: 200.0, average_reward: 191.0, length: 199\n",
      "episode: 2930, total reward: 200.0, average_reward: 191.0, length: 199\n",
      "episode: 2931, total reward: 191.0, average_reward: 190.1, length: 190\n",
      "episode: 2932, total reward: 200.0, average_reward: 190.1, length: 199\n",
      "episode: 2933, total reward: 162.0, average_reward: 186.3, length: 161\n",
      "episode: 2934, total reward: 200.0, average_reward: 186.3, length: 199\n",
      "episode: 2935, total reward: 200.0, average_reward: 193.2, length: 199\n",
      "episode: 2936, total reward: 200.0, average_reward: 193.2, length: 199\n",
      "episode: 2937, total reward: 200.0, average_reward: 193.2, length: 199\n",
      "episode: 2938, total reward: 200.0, average_reward: 195.3, length: 199\n",
      "episode: 2939, total reward: 200.0, average_reward: 195.3, length: 199\n",
      "episode: 2940, total reward: 169.0, average_reward: 192.2, length: 168\n",
      "episode: 2941, total reward: 151.0, average_reward: 188.2, length: 150\n",
      "episode: 2942, total reward: 200.0, average_reward: 188.2, length: 199\n",
      "episode: 2943, total reward: 200.0, average_reward: 192.0, length: 199\n",
      "episode: 2944, total reward: 140.0, average_reward: 186.0, length: 139\n",
      "episode: 2945, total reward: 200.0, average_reward: 186.0, length: 199\n",
      "episode: 2946, total reward: 122.0, average_reward: 178.2, length: 121\n",
      "episode: 2947, total reward: 160.0, average_reward: 174.2, length: 159\n",
      "episode: 2948, total reward: 200.0, average_reward: 174.2, length: 199\n",
      "episode: 2949, total reward: 200.0, average_reward: 174.2, length: 199\n",
      "episode: 2950, total reward: 155.0, average_reward: 172.8, length: 154\n",
      "episode: 2951, total reward: 200.0, average_reward: 177.7, length: 199\n",
      "episode: 2952, total reward: 200.0, average_reward: 177.7, length: 199\n",
      "episode: 2953, total reward: 200.0, average_reward: 177.7, length: 199\n",
      "episode: 2954, total reward: 200.0, average_reward: 183.7, length: 199\n",
      "episode: 2955, total reward: 179.0, average_reward: 181.6, length: 178\n",
      "episode: 2956, total reward: 200.0, average_reward: 189.4, length: 199\n"
     ]
    },
    {
     "name": "stdout",
     "output_type": "stream",
     "text": [
      "episode: 2957, total reward: 200.0, average_reward: 193.4, length: 199\n",
      "episode: 2958, total reward: 196.0, average_reward: 193.0, length: 195\n",
      "episode: 2959, total reward: 200.0, average_reward: 193.0, length: 199\n",
      "episode: 2960, total reward: 200.0, average_reward: 197.5, length: 199\n",
      "episode: 2961, total reward: 200.0, average_reward: 197.5, length: 199\n",
      "episode: 2962, total reward: 200.0, average_reward: 197.5, length: 199\n",
      "episode: 2963, total reward: 200.0, average_reward: 197.5, length: 199\n",
      "episode: 2964, total reward: 200.0, average_reward: 197.5, length: 199\n",
      "episode: 2965, total reward: 200.0, average_reward: 199.6, length: 199\n",
      "episode: 2966, total reward: 200.0, average_reward: 199.6, length: 199\n",
      "episode: 2967, total reward: 200.0, average_reward: 199.6, length: 199\n",
      "episode: 2968, total reward: 200.0, average_reward: 200.0, length: 199\n",
      "episode: 2969, total reward: 200.0, average_reward: 200.0, length: 199\n",
      "episode: 2970, total reward: 200.0, average_reward: 200.0, length: 199\n",
      "episode: 2971, total reward: 200.0, average_reward: 200.0, length: 199\n",
      "episode: 2972, total reward: 200.0, average_reward: 200.0, length: 199\n",
      "episode: 2973, total reward: 200.0, average_reward: 200.0, length: 199\n",
      "episode: 2974, total reward: 200.0, average_reward: 200.0, length: 199\n",
      "episode: 2975, total reward: 200.0, average_reward: 200.0, length: 199\n",
      "episode: 2976, total reward: 195.0, average_reward: 199.5, length: 194\n",
      "episode: 2977, total reward: 200.0, average_reward: 199.5, length: 199\n",
      "episode: 2978, total reward: 200.0, average_reward: 199.5, length: 199\n",
      "episode: 2979, total reward: 198.0, average_reward: 199.3, length: 197\n",
      "episode: 2980, total reward: 185.0, average_reward: 197.8, length: 184\n",
      "episode: 2981, total reward: 200.0, average_reward: 197.8, length: 199\n",
      "episode: 2982, total reward: 200.0, average_reward: 197.8, length: 199\n",
      "episode: 2983, total reward: 200.0, average_reward: 197.8, length: 199\n",
      "episode: 2984, total reward: 200.0, average_reward: 197.8, length: 199\n",
      "episode: 2985, total reward: 200.0, average_reward: 197.8, length: 199\n",
      "episode: 2986, total reward: 200.0, average_reward: 198.3, length: 199\n",
      "episode: 2987, total reward: 200.0, average_reward: 198.3, length: 199\n",
      "episode: 2988, total reward: 200.0, average_reward: 198.3, length: 199\n",
      "episode: 2989, total reward: 182.0, average_reward: 196.7, length: 181\n",
      "episode: 2990, total reward: 200.0, average_reward: 198.2, length: 199\n",
      "episode: 2991, total reward: 200.0, average_reward: 198.2, length: 199\n",
      "episode: 2992, total reward: 200.0, average_reward: 198.2, length: 199\n",
      "episode: 2993, total reward: 200.0, average_reward: 198.2, length: 199\n",
      "episode: 2994, total reward: 200.0, average_reward: 198.2, length: 199\n",
      "episode: 2995, total reward: 200.0, average_reward: 198.2, length: 199\n",
      "episode: 2996, total reward: 200.0, average_reward: 198.2, length: 199\n",
      "episode: 2997, total reward: 175.0, average_reward: 195.7, length: 174\n",
      "episode: 2998, total reward: 200.0, average_reward: 195.7, length: 199\n",
      "episode: 2999, total reward: 200.0, average_reward: 197.5, length: 199\n",
      "episode: 3000, total reward: 145.0, average_reward: 192.0, length: 144\n",
      "episode: 3001, total reward: 200.0, average_reward: 192.0, length: 199\n",
      "episode: 3002, total reward: 200.0, average_reward: 192.0, length: 199\n",
      "episode: 3003, total reward: 200.0, average_reward: 192.0, length: 199\n",
      "episode: 3004, total reward: 200.0, average_reward: 192.0, length: 199\n",
      "episode: 3005, total reward: 162.0, average_reward: 188.2, length: 161\n",
      "episode: 3006, total reward: 200.0, average_reward: 188.2, length: 199\n",
      "episode: 3007, total reward: 200.0, average_reward: 190.7, length: 199\n",
      "episode: 3008, total reward: 200.0, average_reward: 190.7, length: 199\n",
      "episode: 3009, total reward: 185.0, average_reward: 189.2, length: 184\n",
      "episode: 3010, total reward: 200.0, average_reward: 194.7, length: 199\n",
      "episode: 3011, total reward: 200.0, average_reward: 194.7, length: 199\n",
      "episode: 3012, total reward: 200.0, average_reward: 194.7, length: 199\n",
      "episode: 3013, total reward: 200.0, average_reward: 194.7, length: 199\n",
      "episode: 3014, total reward: 183.0, average_reward: 193.0, length: 182\n",
      "episode: 3015, total reward: 177.0, average_reward: 194.5, length: 176\n",
      "episode: 3016, total reward: 174.0, average_reward: 191.9, length: 173\n",
      "episode: 3017, total reward: 200.0, average_reward: 191.9, length: 199\n",
      "episode: 3018, total reward: 174.0, average_reward: 189.3, length: 173\n",
      "episode: 3019, total reward: 200.0, average_reward: 190.8, length: 199\n",
      "episode: 3020, total reward: 200.0, average_reward: 190.8, length: 199\n",
      "episode: 3021, total reward: 200.0, average_reward: 190.8, length: 199\n",
      "episode: 3022, total reward: 200.0, average_reward: 190.8, length: 199\n",
      "episode: 3023, total reward: 127.0, average_reward: 183.5, length: 126\n",
      "episode: 3024, total reward: 200.0, average_reward: 185.2, length: 199\n",
      "episode: 3025, total reward: 200.0, average_reward: 187.5, length: 199\n",
      "episode: 3026, total reward: 200.0, average_reward: 190.1, length: 199\n",
      "episode: 3027, total reward: 183.0, average_reward: 188.4, length: 182\n",
      "episode: 3028, total reward: 142.0, average_reward: 185.2, length: 141\n",
      "episode: 3029, total reward: 200.0, average_reward: 185.2, length: 199\n",
      "episode: 3030, total reward: 200.0, average_reward: 185.2, length: 199\n",
      "episode: 3031, total reward: 200.0, average_reward: 185.2, length: 199\n",
      "episode: 3032, total reward: 200.0, average_reward: 185.2, length: 199\n",
      "episode: 3033, total reward: 200.0, average_reward: 192.5, length: 199\n",
      "episode: 3034, total reward: 170.0, average_reward: 189.5, length: 169\n",
      "episode: 3035, total reward: 200.0, average_reward: 189.5, length: 199\n",
      "episode: 3036, total reward: 200.0, average_reward: 189.5, length: 199\n",
      "episode: 3037, total reward: 146.0, average_reward: 185.8, length: 145\n",
      "episode: 3038, total reward: 200.0, average_reward: 191.6, length: 199\n",
      "episode: 3039, total reward: 186.0, average_reward: 190.2, length: 185\n",
      "episode: 3040, total reward: 200.0, average_reward: 190.2, length: 199\n",
      "episode: 3041, total reward: 200.0, average_reward: 190.2, length: 199\n",
      "episode: 3042, total reward: 176.0, average_reward: 187.8, length: 175\n",
      "episode: 3043, total reward: 200.0, average_reward: 187.8, length: 199\n",
      "episode: 3044, total reward: 148.0, average_reward: 185.6, length: 147\n",
      "episode: 3045, total reward: 181.0, average_reward: 183.7, length: 180\n",
      "episode: 3046, total reward: 162.0, average_reward: 179.9, length: 161\n",
      "episode: 3047, total reward: 200.0, average_reward: 185.3, length: 199\n",
      "episode: 3048, total reward: 200.0, average_reward: 185.3, length: 199\n",
      "episode: 3049, total reward: 200.0, average_reward: 186.7, length: 199\n",
      "episode: 3050, total reward: 200.0, average_reward: 186.7, length: 199\n",
      "episode: 3051, total reward: 200.0, average_reward: 186.7, length: 199\n",
      "episode: 3052, total reward: 172.0, average_reward: 186.3, length: 171\n",
      "episode: 3053, total reward: 200.0, average_reward: 186.3, length: 199\n",
      "episode: 3054, total reward: 200.0, average_reward: 191.5, length: 199\n",
      "episode: 3055, total reward: 200.0, average_reward: 193.4, length: 199\n",
      "episode: 3056, total reward: 165.0, average_reward: 193.7, length: 164\n",
      "episode: 3057, total reward: 200.0, average_reward: 193.7, length: 199\n",
      "episode: 3058, total reward: 200.0, average_reward: 193.7, length: 199\n",
      "episode: 3059, total reward: 169.0, average_reward: 190.6, length: 168\n",
      "episode: 3060, total reward: 200.0, average_reward: 190.6, length: 199\n",
      "episode: 3061, total reward: 200.0, average_reward: 190.6, length: 199\n",
      "episode: 3062, total reward: 200.0, average_reward: 193.4, length: 199\n",
      "episode: 3063, total reward: 165.0, average_reward: 189.9, length: 164\n",
      "episode: 3064, total reward: 168.0, average_reward: 186.7, length: 167\n",
      "episode: 3065, total reward: 200.0, average_reward: 186.7, length: 199\n",
      "episode: 3066, total reward: 200.0, average_reward: 190.2, length: 199\n",
      "episode: 3067, total reward: 200.0, average_reward: 190.2, length: 199\n",
      "episode: 3068, total reward: 166.0, average_reward: 186.8, length: 165\n",
      "episode: 3069, total reward: 77.0, average_reward: 177.6, length: 76\n",
      "episode: 3070, total reward: 126.0, average_reward: 170.2, length: 125\n",
      "episode: 3071, total reward: 179.0, average_reward: 168.1, length: 178\n",
      "episode: 3072, total reward: 200.0, average_reward: 168.1, length: 199\n"
     ]
    },
    {
     "name": "stdout",
     "output_type": "stream",
     "text": [
      "episode: 3073, total reward: 109.0, average_reward: 162.5, length: 108\n",
      "episode: 3074, total reward: 200.0, average_reward: 165.7, length: 199\n",
      "episode: 3075, total reward: 174.0, average_reward: 163.1, length: 173\n",
      "episode: 3076, total reward: 200.0, average_reward: 163.1, length: 199\n",
      "episode: 3077, total reward: 157.0, average_reward: 158.8, length: 156\n",
      "episode: 3078, total reward: 186.0, average_reward: 160.8, length: 185\n",
      "episode: 3079, total reward: 178.0, average_reward: 170.9, length: 177\n",
      "episode: 3080, total reward: 106.0, average_reward: 168.9, length: 105\n",
      "episode: 3081, total reward: 196.0, average_reward: 170.6, length: 195\n",
      "episode: 3082, total reward: 200.0, average_reward: 170.6, length: 199\n",
      "episode: 3083, total reward: 156.0, average_reward: 175.3, length: 155\n",
      "episode: 3084, total reward: 200.0, average_reward: 175.3, length: 199\n",
      "episode: 3085, total reward: 141.0, average_reward: 172.0, length: 140\n",
      "episode: 3086, total reward: 200.0, average_reward: 172.0, length: 199\n",
      "episode: 3087, total reward: 200.0, average_reward: 176.3, length: 199\n",
      "episode: 3088, total reward: 139.0, average_reward: 171.6, length: 138\n",
      "episode: 3089, total reward: 151.0, average_reward: 168.9, length: 150\n",
      "episode: 3090, total reward: 137.0, average_reward: 172.0, length: 136\n",
      "episode: 3091, total reward: 172.0, average_reward: 169.6, length: 171\n",
      "episode: 3092, total reward: 195.0, average_reward: 169.1, length: 194\n",
      "episode: 3093, total reward: 134.0, average_reward: 166.9, length: 133\n",
      "episode: 3094, total reward: 178.0, average_reward: 164.7, length: 177\n",
      "episode: 3095, total reward: 123.0, average_reward: 162.9, length: 122\n",
      "episode: 3096, total reward: 163.0, average_reward: 159.2, length: 162\n",
      "episode: 3097, total reward: 200.0, average_reward: 159.2, length: 199\n",
      "episode: 3098, total reward: 193.0, average_reward: 164.6, length: 192\n",
      "episode: 3099, total reward: 148.0, average_reward: 164.3, length: 147\n",
      "episode: 3100, total reward: 200.0, average_reward: 170.6, length: 199\n",
      "episode: 3101, total reward: 142.0, average_reward: 167.6, length: 141\n",
      "episode: 3102, total reward: 161.0, average_reward: 164.2, length: 160\n",
      "episode: 3103, total reward: 200.0, average_reward: 170.8, length: 199\n",
      "episode: 3104, total reward: 200.0, average_reward: 173.0, length: 199\n",
      "episode: 3105, total reward: 200.0, average_reward: 180.7, length: 199\n",
      "episode: 3106, total reward: 200.0, average_reward: 184.4, length: 199\n",
      "episode: 3107, total reward: 121.0, average_reward: 176.5, length: 120\n",
      "episode: 3108, total reward: 165.0, average_reward: 173.7, length: 164\n",
      "episode: 3109, total reward: 146.0, average_reward: 173.5, length: 145\n",
      "episode: 3110, total reward: 147.0, average_reward: 168.2, length: 146\n",
      "episode: 3111, total reward: 200.0, average_reward: 174.0, length: 199\n",
      "episode: 3112, total reward: 200.0, average_reward: 177.9, length: 199\n",
      "episode: 3113, total reward: 147.0, average_reward: 172.6, length: 146\n",
      "episode: 3114, total reward: 200.0, average_reward: 172.6, length: 199\n",
      "episode: 3115, total reward: 200.0, average_reward: 172.6, length: 199\n",
      "episode: 3116, total reward: 200.0, average_reward: 172.6, length: 199\n",
      "episode: 3117, total reward: 119.0, average_reward: 172.4, length: 118\n",
      "episode: 3118, total reward: 163.0, average_reward: 172.2, length: 162\n",
      "episode: 3119, total reward: 200.0, average_reward: 177.6, length: 199\n",
      "episode: 3120, total reward: 142.0, average_reward: 177.1, length: 141\n",
      "episode: 3121, total reward: 200.0, average_reward: 177.1, length: 199\n",
      "episode: 3122, total reward: 200.0, average_reward: 177.1, length: 199\n",
      "episode: 3123, total reward: 200.0, average_reward: 182.4, length: 199\n",
      "episode: 3124, total reward: 146.0, average_reward: 177.0, length: 145\n",
      "episode: 3125, total reward: 200.0, average_reward: 177.0, length: 199\n",
      "episode: 3126, total reward: 146.0, average_reward: 171.6, length: 145\n",
      "episode: 3127, total reward: 182.0, average_reward: 177.9, length: 181\n",
      "episode: 3128, total reward: 178.0, average_reward: 179.4, length: 177\n",
      "episode: 3129, total reward: 124.0, average_reward: 171.8, length: 123\n",
      "episode: 3130, total reward: 200.0, average_reward: 177.6, length: 199\n",
      "episode: 3131, total reward: 200.0, average_reward: 177.6, length: 199\n",
      "episode: 3132, total reward: 183.0, average_reward: 175.9, length: 182\n",
      "episode: 3133, total reward: 131.0, average_reward: 169.0, length: 130\n",
      "episode: 3134, total reward: 198.0, average_reward: 174.2, length: 197\n",
      "episode: 3135, total reward: 200.0, average_reward: 174.2, length: 199\n",
      "episode: 3136, total reward: 200.0, average_reward: 179.6, length: 199\n",
      "episode: 3137, total reward: 200.0, average_reward: 181.4, length: 199\n",
      "episode: 3138, total reward: 200.0, average_reward: 183.6, length: 199\n",
      "episode: 3139, total reward: 158.0, average_reward: 187.0, length: 157\n",
      "episode: 3140, total reward: 116.0, average_reward: 178.6, length: 115\n",
      "episode: 3141, total reward: 200.0, average_reward: 178.6, length: 199\n",
      "episode: 3142, total reward: 181.0, average_reward: 178.4, length: 180\n",
      "episode: 3143, total reward: 200.0, average_reward: 185.3, length: 199\n",
      "episode: 3144, total reward: 200.0, average_reward: 185.5, length: 199\n",
      "episode: 3145, total reward: 152.0, average_reward: 180.7, length: 151\n",
      "episode: 3146, total reward: 144.0, average_reward: 175.1, length: 143\n",
      "episode: 3147, total reward: 200.0, average_reward: 175.1, length: 199\n",
      "episode: 3148, total reward: 151.0, average_reward: 170.2, length: 150\n",
      "episode: 3149, total reward: 118.0, average_reward: 166.2, length: 117\n",
      "episode: 3150, total reward: 144.0, average_reward: 169.0, length: 143\n",
      "episode: 3151, total reward: 168.0, average_reward: 165.8, length: 167\n",
      "episode: 3152, total reward: 156.0, average_reward: 163.3, length: 155\n",
      "episode: 3153, total reward: 162.0, average_reward: 159.5, length: 161\n",
      "episode: 3154, total reward: 139.0, average_reward: 153.4, length: 138\n",
      "episode: 3155, total reward: 200.0, average_reward: 158.2, length: 199\n",
      "episode: 3156, total reward: 138.0, average_reward: 157.6, length: 137\n",
      "episode: 3157, total reward: 200.0, average_reward: 157.6, length: 199\n",
      "episode: 3158, total reward: 149.0, average_reward: 157.4, length: 148\n",
      "episode: 3159, total reward: 176.0, average_reward: 163.2, length: 175\n",
      "episode: 3160, total reward: 193.0, average_reward: 168.1, length: 192\n",
      "episode: 3161, total reward: 171.0, average_reward: 168.4, length: 170\n",
      "episode: 3162, total reward: 200.0, average_reward: 172.8, length: 199\n",
      "episode: 3163, total reward: 144.0, average_reward: 171.0, length: 143\n",
      "episode: 3164, total reward: 186.0, average_reward: 175.7, length: 185\n",
      "episode: 3165, total reward: 192.0, average_reward: 174.9, length: 191\n",
      "episode: 3166, total reward: 200.0, average_reward: 181.1, length: 199\n",
      "episode: 3167, total reward: 200.0, average_reward: 181.1, length: 199\n",
      "episode: 3168, total reward: 151.0, average_reward: 181.3, length: 150\n",
      "episode: 3169, total reward: 200.0, average_reward: 183.7, length: 199\n",
      "episode: 3170, total reward: 149.0, average_reward: 179.3, length: 148\n",
      "episode: 3171, total reward: 200.0, average_reward: 182.2, length: 199\n",
      "episode: 3172, total reward: 200.0, average_reward: 182.2, length: 199\n",
      "episode: 3173, total reward: 169.0, average_reward: 184.7, length: 168\n",
      "episode: 3174, total reward: 149.0, average_reward: 181.0, length: 148\n",
      "episode: 3175, total reward: 200.0, average_reward: 181.8, length: 199\n",
      "episode: 3176, total reward: 196.0, average_reward: 181.4, length: 195\n",
      "episode: 3177, total reward: 176.0, average_reward: 179.0, length: 175\n",
      "episode: 3178, total reward: 135.0, average_reward: 177.4, length: 134\n",
      "episode: 3179, total reward: 124.0, average_reward: 169.8, length: 123\n",
      "episode: 3180, total reward: 200.0, average_reward: 174.9, length: 199\n",
      "episode: 3181, total reward: 200.0, average_reward: 174.9, length: 199\n",
      "episode: 3182, total reward: 173.0, average_reward: 172.2, length: 172\n",
      "episode: 3183, total reward: 194.0, average_reward: 174.7, length: 193\n",
      "episode: 3184, total reward: 200.0, average_reward: 179.8, length: 199\n",
      "episode: 3185, total reward: 200.0, average_reward: 179.8, length: 199\n",
      "episode: 3186, total reward: 200.0, average_reward: 180.2, length: 199\n",
      "episode: 3187, total reward: 112.0, average_reward: 173.8, length: 111\n",
      "episode: 3188, total reward: 165.0, average_reward: 176.8, length: 164\n",
      "episode: 3189, total reward: 200.0, average_reward: 184.4, length: 199\n"
     ]
    },
    {
     "name": "stdout",
     "output_type": "stream",
     "text": [
      "episode: 3190, total reward: 200.0, average_reward: 184.4, length: 199\n",
      "episode: 3191, total reward: 200.0, average_reward: 184.4, length: 199\n",
      "episode: 3192, total reward: 200.0, average_reward: 187.1, length: 199\n",
      "episode: 3193, total reward: 200.0, average_reward: 187.7, length: 199\n",
      "episode: 3194, total reward: 200.0, average_reward: 187.7, length: 199\n",
      "episode: 3195, total reward: 200.0, average_reward: 187.7, length: 199\n",
      "episode: 3196, total reward: 195.0, average_reward: 187.2, length: 194\n",
      "episode: 3197, total reward: 200.0, average_reward: 196.0, length: 199\n",
      "episode: 3198, total reward: 142.0, average_reward: 193.7, length: 141\n",
      "episode: 3199, total reward: 177.0, average_reward: 191.4, length: 176\n",
      "episode: 3200, total reward: 200.0, average_reward: 191.4, length: 199\n",
      "episode: 3201, total reward: 200.0, average_reward: 191.4, length: 199\n",
      "episode: 3202, total reward: 200.0, average_reward: 191.4, length: 199\n",
      "episode: 3203, total reward: 166.0, average_reward: 188.0, length: 165\n",
      "episode: 3204, total reward: 200.0, average_reward: 188.0, length: 199\n",
      "episode: 3205, total reward: 200.0, average_reward: 188.0, length: 199\n",
      "episode: 3206, total reward: 200.0, average_reward: 188.5, length: 199\n",
      "episode: 3207, total reward: 200.0, average_reward: 188.5, length: 199\n",
      "episode: 3208, total reward: 200.0, average_reward: 194.3, length: 199\n",
      "episode: 3209, total reward: 200.0, average_reward: 196.6, length: 199\n",
      "episode: 3210, total reward: 136.0, average_reward: 190.2, length: 135\n",
      "episode: 3211, total reward: 200.0, average_reward: 190.2, length: 199\n",
      "episode: 3212, total reward: 200.0, average_reward: 190.2, length: 199\n",
      "episode: 3213, total reward: 200.0, average_reward: 193.6, length: 199\n",
      "episode: 3214, total reward: 200.0, average_reward: 193.6, length: 199\n",
      "episode: 3215, total reward: 195.0, average_reward: 193.1, length: 194\n",
      "episode: 3216, total reward: 200.0, average_reward: 193.1, length: 199\n",
      "episode: 3217, total reward: 132.0, average_reward: 186.3, length: 131\n",
      "episode: 3218, total reward: 200.0, average_reward: 186.3, length: 199\n",
      "episode: 3219, total reward: 141.0, average_reward: 180.4, length: 140\n",
      "episode: 3220, total reward: 200.0, average_reward: 186.8, length: 199\n",
      "episode: 3221, total reward: 200.0, average_reward: 186.8, length: 199\n",
      "episode: 3222, total reward: 197.0, average_reward: 186.5, length: 196\n",
      "episode: 3223, total reward: 200.0, average_reward: 186.5, length: 199\n",
      "episode: 3224, total reward: 177.0, average_reward: 184.2, length: 176\n",
      "episode: 3225, total reward: 200.0, average_reward: 184.7, length: 199\n",
      "episode: 3226, total reward: 200.0, average_reward: 184.7, length: 199\n",
      "episode: 3227, total reward: 200.0, average_reward: 191.5, length: 199\n",
      "episode: 3228, total reward: 190.0, average_reward: 190.5, length: 189\n",
      "episode: 3229, total reward: 200.0, average_reward: 196.4, length: 199\n",
      "episode: 3230, total reward: 173.0, average_reward: 193.7, length: 172\n",
      "episode: 3231, total reward: 170.0, average_reward: 190.7, length: 169\n",
      "episode: 3232, total reward: 200.0, average_reward: 191.0, length: 199\n",
      "episode: 3233, total reward: 200.0, average_reward: 191.0, length: 199\n",
      "episode: 3234, total reward: 200.0, average_reward: 193.3, length: 199\n",
      "episode: 3235, total reward: 196.0, average_reward: 192.9, length: 195\n",
      "episode: 3236, total reward: 162.0, average_reward: 189.1, length: 161\n",
      "episode: 3237, total reward: 200.0, average_reward: 189.1, length: 199\n",
      "episode: 3238, total reward: 195.0, average_reward: 189.6, length: 194\n",
      "episode: 3239, total reward: 192.0, average_reward: 188.8, length: 191\n",
      "episode: 3240, total reward: 177.0, average_reward: 189.2, length: 176\n",
      "episode: 3241, total reward: 193.0, average_reward: 191.5, length: 192\n",
      "episode: 3242, total reward: 200.0, average_reward: 191.5, length: 199\n",
      "episode: 3243, total reward: 200.0, average_reward: 191.5, length: 199\n",
      "episode: 3244, total reward: 200.0, average_reward: 191.5, length: 199\n",
      "episode: 3245, total reward: 199.0, average_reward: 191.8, length: 198\n",
      "episode: 3246, total reward: 200.0, average_reward: 195.6, length: 199\n",
      "episode: 3247, total reward: 170.0, average_reward: 192.6, length: 169\n",
      "episode: 3248, total reward: 190.0, average_reward: 192.1, length: 189\n",
      "episode: 3249, total reward: 187.0, average_reward: 191.6, length: 186\n",
      "episode: 3250, total reward: 200.0, average_reward: 193.9, length: 199\n",
      "episode: 3251, total reward: 175.0, average_reward: 192.1, length: 174\n",
      "episode: 3252, total reward: 200.0, average_reward: 192.1, length: 199\n",
      "episode: 3253, total reward: 200.0, average_reward: 192.1, length: 199\n",
      "episode: 3254, total reward: 182.0, average_reward: 190.3, length: 181\n",
      "episode: 3255, total reward: 189.0, average_reward: 189.3, length: 188\n",
      "episode: 3256, total reward: 200.0, average_reward: 189.3, length: 199\n",
      "episode: 3257, total reward: 169.0, average_reward: 189.2, length: 168\n",
      "episode: 3258, total reward: 169.0, average_reward: 187.1, length: 168\n",
      "episode: 3259, total reward: 137.0, average_reward: 182.1, length: 136\n",
      "episode: 3260, total reward: 141.0, average_reward: 176.2, length: 140\n",
      "episode: 3261, total reward: 200.0, average_reward: 178.7, length: 199\n",
      "episode: 3262, total reward: 187.0, average_reward: 177.4, length: 186\n",
      "episode: 3263, total reward: 200.0, average_reward: 177.4, length: 199\n",
      "episode: 3264, total reward: 200.0, average_reward: 179.2, length: 199\n",
      "episode: 3265, total reward: 200.0, average_reward: 180.3, length: 199\n",
      "episode: 3266, total reward: 200.0, average_reward: 180.3, length: 199\n",
      "episode: 3267, total reward: 162.0, average_reward: 179.6, length: 161\n",
      "episode: 3268, total reward: 63.0, average_reward: 169.0, length: 62\n",
      "episode: 3269, total reward: 200.0, average_reward: 175.3, length: 199\n",
      "episode: 3270, total reward: 157.0, average_reward: 176.9, length: 156\n",
      "episode: 3271, total reward: 200.0, average_reward: 176.9, length: 199\n",
      "episode: 3272, total reward: 200.0, average_reward: 178.2, length: 199\n",
      "episode: 3273, total reward: 200.0, average_reward: 178.2, length: 199\n",
      "episode: 3274, total reward: 200.0, average_reward: 178.2, length: 199\n",
      "episode: 3275, total reward: 200.0, average_reward: 178.2, length: 199\n",
      "episode: 3276, total reward: 200.0, average_reward: 178.2, length: 199\n",
      "episode: 3277, total reward: 200.0, average_reward: 182.0, length: 199\n",
      "episode: 3278, total reward: 200.0, average_reward: 195.7, length: 199\n",
      "episode: 3279, total reward: 200.0, average_reward: 195.7, length: 199\n",
      "episode: 3280, total reward: 200.0, average_reward: 200.0, length: 199\n",
      "episode: 3281, total reward: 200.0, average_reward: 200.0, length: 199\n",
      "episode: 3282, total reward: 200.0, average_reward: 200.0, length: 199\n",
      "episode: 3283, total reward: 200.0, average_reward: 200.0, length: 199\n",
      "episode: 3284, total reward: 200.0, average_reward: 200.0, length: 199\n",
      "episode: 3285, total reward: 200.0, average_reward: 200.0, length: 199\n",
      "episode: 3286, total reward: 200.0, average_reward: 200.0, length: 199\n",
      "episode: 3287, total reward: 200.0, average_reward: 200.0, length: 199\n",
      "episode: 3288, total reward: 200.0, average_reward: 200.0, length: 199\n",
      "episode: 3289, total reward: 152.0, average_reward: 195.2, length: 151\n",
      "episode: 3290, total reward: 113.0, average_reward: 186.5, length: 112\n",
      "episode: 3291, total reward: 200.0, average_reward: 186.5, length: 199\n",
      "episode: 3292, total reward: 200.0, average_reward: 186.5, length: 199\n",
      "episode: 3293, total reward: 150.0, average_reward: 181.5, length: 149\n",
      "episode: 3294, total reward: 200.0, average_reward: 181.5, length: 199\n",
      "episode: 3295, total reward: 200.0, average_reward: 181.5, length: 199\n",
      "episode: 3296, total reward: 200.0, average_reward: 181.5, length: 199\n",
      "episode: 3297, total reward: 114.0, average_reward: 172.9, length: 113\n",
      "episode: 3298, total reward: 152.0, average_reward: 168.1, length: 151\n",
      "episode: 3299, total reward: 200.0, average_reward: 172.9, length: 199\n",
      "episode: 3300, total reward: 143.0, average_reward: 175.9, length: 142\n",
      "episode: 3301, total reward: 187.0, average_reward: 174.6, length: 186\n",
      "episode: 3302, total reward: 200.0, average_reward: 174.6, length: 199\n",
      "episode: 3303, total reward: 200.0, average_reward: 179.6, length: 199\n",
      "episode: 3304, total reward: 200.0, average_reward: 179.6, length: 199\n",
      "episode: 3305, total reward: 200.0, average_reward: 179.6, length: 199\n"
     ]
    },
    {
     "name": "stdout",
     "output_type": "stream",
     "text": [
      "episode: 3306, total reward: 200.0, average_reward: 179.6, length: 199\n",
      "episode: 3307, total reward: 200.0, average_reward: 188.2, length: 199\n",
      "episode: 3308, total reward: 200.0, average_reward: 193.0, length: 199\n",
      "episode: 3309, total reward: 200.0, average_reward: 193.0, length: 199\n",
      "episode: 3310, total reward: 200.0, average_reward: 198.7, length: 199\n",
      "episode: 3311, total reward: 200.0, average_reward: 200.0, length: 199\n",
      "episode: 3312, total reward: 172.0, average_reward: 197.2, length: 171\n",
      "episode: 3313, total reward: 200.0, average_reward: 197.2, length: 199\n",
      "episode: 3314, total reward: 200.0, average_reward: 197.2, length: 199\n",
      "episode: 3315, total reward: 200.0, average_reward: 197.2, length: 199\n",
      "episode: 3316, total reward: 200.0, average_reward: 197.2, length: 199\n",
      "episode: 3317, total reward: 200.0, average_reward: 197.2, length: 199\n",
      "episode: 3318, total reward: 200.0, average_reward: 197.2, length: 199\n",
      "episode: 3319, total reward: 200.0, average_reward: 197.2, length: 199\n",
      "episode: 3320, total reward: 198.0, average_reward: 197.0, length: 197\n",
      "episode: 3321, total reward: 200.0, average_reward: 197.0, length: 199\n",
      "episode: 3322, total reward: 200.0, average_reward: 199.8, length: 199\n",
      "episode: 3323, total reward: 200.0, average_reward: 199.8, length: 199\n",
      "episode: 3324, total reward: 200.0, average_reward: 199.8, length: 199\n",
      "episode: 3325, total reward: 200.0, average_reward: 199.8, length: 199\n",
      "episode: 3326, total reward: 200.0, average_reward: 199.8, length: 199\n",
      "episode: 3327, total reward: 200.0, average_reward: 199.8, length: 199\n",
      "episode: 3328, total reward: 200.0, average_reward: 199.8, length: 199\n",
      "episode: 3329, total reward: 200.0, average_reward: 199.8, length: 199\n",
      "episode: 3330, total reward: 200.0, average_reward: 200.0, length: 199\n",
      "episode: 3331, total reward: 200.0, average_reward: 200.0, length: 199\n",
      "episode: 3332, total reward: 139.0, average_reward: 193.9, length: 138\n",
      "episode: 3333, total reward: 200.0, average_reward: 193.9, length: 199\n",
      "episode: 3334, total reward: 200.0, average_reward: 193.9, length: 199\n",
      "episode: 3335, total reward: 200.0, average_reward: 193.9, length: 199\n",
      "episode: 3336, total reward: 200.0, average_reward: 193.9, length: 199\n",
      "episode: 3337, total reward: 200.0, average_reward: 193.9, length: 199\n",
      "episode: 3338, total reward: 200.0, average_reward: 193.9, length: 199\n",
      "episode: 3339, total reward: 200.0, average_reward: 193.9, length: 199\n",
      "episode: 3340, total reward: 200.0, average_reward: 193.9, length: 199\n",
      "episode: 3341, total reward: 171.0, average_reward: 191.0, length: 170\n",
      "episode: 3342, total reward: 200.0, average_reward: 197.1, length: 199\n",
      "episode: 3343, total reward: 200.0, average_reward: 197.1, length: 199\n",
      "episode: 3344, total reward: 200.0, average_reward: 197.1, length: 199\n",
      "episode: 3345, total reward: 143.0, average_reward: 191.4, length: 142\n",
      "episode: 3346, total reward: 200.0, average_reward: 191.4, length: 199\n",
      "episode: 3347, total reward: 200.0, average_reward: 191.4, length: 199\n",
      "episode: 3348, total reward: 200.0, average_reward: 191.4, length: 199\n",
      "episode: 3349, total reward: 200.0, average_reward: 191.4, length: 199\n",
      "episode: 3350, total reward: 200.0, average_reward: 191.4, length: 199\n",
      "episode: 3351, total reward: 200.0, average_reward: 194.3, length: 199\n",
      "episode: 3352, total reward: 200.0, average_reward: 194.3, length: 199\n",
      "episode: 3353, total reward: 200.0, average_reward: 194.3, length: 199\n",
      "episode: 3354, total reward: 200.0, average_reward: 194.3, length: 199\n",
      "episode: 3355, total reward: 200.0, average_reward: 200.0, length: 199\n",
      "episode: 3356, total reward: 200.0, average_reward: 200.0, length: 199\n",
      "episode: 3357, total reward: 200.0, average_reward: 200.0, length: 199\n",
      "episode: 3358, total reward: 200.0, average_reward: 200.0, length: 199\n",
      "episode: 3359, total reward: 200.0, average_reward: 200.0, length: 199\n",
      "episode: 3360, total reward: 179.0, average_reward: 197.9, length: 178\n",
      "episode: 3361, total reward: 200.0, average_reward: 197.9, length: 199\n",
      "episode: 3362, total reward: 200.0, average_reward: 197.9, length: 199\n",
      "episode: 3363, total reward: 200.0, average_reward: 197.9, length: 199\n",
      "episode: 3364, total reward: 200.0, average_reward: 197.9, length: 199\n",
      "episode: 3365, total reward: 200.0, average_reward: 197.9, length: 199\n",
      "episode: 3366, total reward: 200.0, average_reward: 197.9, length: 199\n",
      "episode: 3367, total reward: 200.0, average_reward: 197.9, length: 199\n",
      "episode: 3368, total reward: 200.0, average_reward: 197.9, length: 199\n",
      "episode: 3369, total reward: 200.0, average_reward: 197.9, length: 199\n",
      "episode: 3370, total reward: 200.0, average_reward: 200.0, length: 199\n",
      "episode: 3371, total reward: 200.0, average_reward: 200.0, length: 199\n",
      "episode: 3372, total reward: 200.0, average_reward: 200.0, length: 199\n",
      "episode: 3373, total reward: 200.0, average_reward: 200.0, length: 199\n",
      "episode: 3374, total reward: 200.0, average_reward: 200.0, length: 199\n",
      "episode: 3375, total reward: 200.0, average_reward: 200.0, length: 199\n",
      "episode: 3376, total reward: 200.0, average_reward: 200.0, length: 199\n",
      "episode: 3377, total reward: 200.0, average_reward: 200.0, length: 199\n",
      "episode: 3378, total reward: 200.0, average_reward: 200.0, length: 199\n",
      "episode: 3379, total reward: 200.0, average_reward: 200.0, length: 199\n",
      "episode: 3380, total reward: 200.0, average_reward: 200.0, length: 199\n",
      "episode: 3381, total reward: 200.0, average_reward: 200.0, length: 199\n",
      "episode: 3382, total reward: 200.0, average_reward: 200.0, length: 199\n",
      "episode: 3383, total reward: 200.0, average_reward: 200.0, length: 199\n",
      "episode: 3384, total reward: 200.0, average_reward: 200.0, length: 199\n",
      "episode: 3385, total reward: 200.0, average_reward: 200.0, length: 199\n",
      "episode: 3386, total reward: 200.0, average_reward: 200.0, length: 199\n",
      "episode: 3387, total reward: 200.0, average_reward: 200.0, length: 199\n",
      "episode: 3388, total reward: 200.0, average_reward: 200.0, length: 199\n",
      "episode: 3389, total reward: 200.0, average_reward: 200.0, length: 199\n",
      "episode: 3390, total reward: 200.0, average_reward: 200.0, length: 199\n",
      "episode: 3391, total reward: 200.0, average_reward: 200.0, length: 199\n",
      "episode: 3392, total reward: 200.0, average_reward: 200.0, length: 199\n",
      "episode: 3393, total reward: 200.0, average_reward: 200.0, length: 199\n",
      "episode: 3394, total reward: 200.0, average_reward: 200.0, length: 199\n",
      "episode: 3395, total reward: 200.0, average_reward: 200.0, length: 199\n",
      "episode: 3396, total reward: 200.0, average_reward: 200.0, length: 199\n",
      "episode: 3397, total reward: 200.0, average_reward: 200.0, length: 199\n",
      "episode: 3398, total reward: 200.0, average_reward: 200.0, length: 199\n",
      "episode: 3399, total reward: 200.0, average_reward: 200.0, length: 199\n",
      "episode: 3400, total reward: 200.0, average_reward: 200.0, length: 199\n",
      "episode: 3401, total reward: 200.0, average_reward: 200.0, length: 199\n",
      "episode: 3402, total reward: 200.0, average_reward: 200.0, length: 199\n",
      "episode: 3403, total reward: 200.0, average_reward: 200.0, length: 199\n",
      "episode: 3404, total reward: 200.0, average_reward: 200.0, length: 199\n",
      "episode: 3405, total reward: 200.0, average_reward: 200.0, length: 199\n",
      "episode: 3406, total reward: 200.0, average_reward: 200.0, length: 199\n",
      "episode: 3407, total reward: 200.0, average_reward: 200.0, length: 199\n",
      "episode: 3408, total reward: 200.0, average_reward: 200.0, length: 199\n",
      "episode: 3409, total reward: 200.0, average_reward: 200.0, length: 199\n",
      "episode: 3410, total reward: 200.0, average_reward: 200.0, length: 199\n",
      "episode: 3411, total reward: 200.0, average_reward: 200.0, length: 199\n",
      "episode: 3412, total reward: 200.0, average_reward: 200.0, length: 199\n",
      "episode: 3413, total reward: 200.0, average_reward: 200.0, length: 199\n",
      "episode: 3414, total reward: 200.0, average_reward: 200.0, length: 199\n",
      "episode: 3415, total reward: 200.0, average_reward: 200.0, length: 199\n",
      "episode: 3416, total reward: 163.0, average_reward: 196.3, length: 162\n",
      "episode: 3417, total reward: 200.0, average_reward: 196.3, length: 199\n",
      "episode: 3418, total reward: 200.0, average_reward: 196.3, length: 199\n",
      "episode: 3419, total reward: 200.0, average_reward: 196.3, length: 199\n",
      "episode: 3420, total reward: 200.0, average_reward: 196.3, length: 199\n",
      "episode: 3421, total reward: 200.0, average_reward: 196.3, length: 199\n",
      "episode: 3422, total reward: 200.0, average_reward: 196.3, length: 199\n"
     ]
    },
    {
     "name": "stdout",
     "output_type": "stream",
     "text": [
      "episode: 3423, total reward: 200.0, average_reward: 196.3, length: 199\n",
      "episode: 3424, total reward: 200.0, average_reward: 196.3, length: 199\n",
      "episode: 3425, total reward: 200.0, average_reward: 196.3, length: 199\n",
      "episode: 3426, total reward: 200.0, average_reward: 200.0, length: 199\n",
      "episode: 3427, total reward: 200.0, average_reward: 200.0, length: 199\n",
      "episode: 3428, total reward: 200.0, average_reward: 200.0, length: 199\n",
      "episode: 3429, total reward: 200.0, average_reward: 200.0, length: 199\n",
      "episode: 3430, total reward: 200.0, average_reward: 200.0, length: 199\n",
      "episode: 3431, total reward: 200.0, average_reward: 200.0, length: 199\n",
      "episode: 3432, total reward: 200.0, average_reward: 200.0, length: 199\n",
      "episode: 3433, total reward: 200.0, average_reward: 200.0, length: 199\n",
      "episode: 3434, total reward: 200.0, average_reward: 200.0, length: 199\n",
      "episode: 3435, total reward: 200.0, average_reward: 200.0, length: 199\n",
      "episode: 3436, total reward: 200.0, average_reward: 200.0, length: 199\n",
      "episode: 3437, total reward: 161.0, average_reward: 196.1, length: 160\n",
      "episode: 3438, total reward: 200.0, average_reward: 196.1, length: 199\n",
      "episode: 3439, total reward: 200.0, average_reward: 196.1, length: 199\n",
      "episode: 3440, total reward: 200.0, average_reward: 196.1, length: 199\n",
      "episode: 3441, total reward: 200.0, average_reward: 196.1, length: 199\n",
      "episode: 3442, total reward: 200.0, average_reward: 196.1, length: 199\n",
      "episode: 3443, total reward: 200.0, average_reward: 196.1, length: 199\n",
      "episode: 3444, total reward: 200.0, average_reward: 196.1, length: 199\n",
      "episode: 3445, total reward: 200.0, average_reward: 196.1, length: 199\n",
      "episode: 3446, total reward: 200.0, average_reward: 196.1, length: 199\n",
      "episode: 3447, total reward: 200.0, average_reward: 200.0, length: 199\n",
      "episode: 3448, total reward: 200.0, average_reward: 200.0, length: 199\n",
      "episode: 3449, total reward: 200.0, average_reward: 200.0, length: 199\n",
      "episode: 3450, total reward: 200.0, average_reward: 200.0, length: 199\n",
      "episode: 3451, total reward: 200.0, average_reward: 200.0, length: 199\n",
      "episode: 3452, total reward: 167.0, average_reward: 196.7, length: 166\n",
      "episode: 3453, total reward: 200.0, average_reward: 196.7, length: 199\n",
      "episode: 3454, total reward: 200.0, average_reward: 196.7, length: 199\n",
      "episode: 3455, total reward: 200.0, average_reward: 196.7, length: 199\n",
      "episode: 3456, total reward: 200.0, average_reward: 196.7, length: 199\n",
      "episode: 3457, total reward: 200.0, average_reward: 196.7, length: 199\n",
      "episode: 3458, total reward: 200.0, average_reward: 196.7, length: 199\n",
      "episode: 3459, total reward: 200.0, average_reward: 196.7, length: 199\n",
      "episode: 3460, total reward: 200.0, average_reward: 196.7, length: 199\n",
      "episode: 3461, total reward: 200.0, average_reward: 196.7, length: 199\n",
      "episode: 3462, total reward: 200.0, average_reward: 200.0, length: 199\n",
      "episode: 3463, total reward: 200.0, average_reward: 200.0, length: 199\n",
      "episode: 3464, total reward: 200.0, average_reward: 200.0, length: 199\n",
      "episode: 3465, total reward: 200.0, average_reward: 200.0, length: 199\n",
      "episode: 3466, total reward: 200.0, average_reward: 200.0, length: 199\n",
      "episode: 3467, total reward: 200.0, average_reward: 200.0, length: 199\n",
      "episode: 3468, total reward: 200.0, average_reward: 200.0, length: 199\n",
      "episode: 3469, total reward: 200.0, average_reward: 200.0, length: 199\n",
      "episode: 3470, total reward: 200.0, average_reward: 200.0, length: 199\n",
      "episode: 3471, total reward: 200.0, average_reward: 200.0, length: 199\n",
      "episode: 3472, total reward: 200.0, average_reward: 200.0, length: 199\n",
      "episode: 3473, total reward: 200.0, average_reward: 200.0, length: 199\n",
      "episode: 3474, total reward: 200.0, average_reward: 200.0, length: 199\n",
      "episode: 3475, total reward: 200.0, average_reward: 200.0, length: 199\n",
      "episode: 3476, total reward: 200.0, average_reward: 200.0, length: 199\n",
      "episode: 3477, total reward: 200.0, average_reward: 200.0, length: 199\n",
      "episode: 3478, total reward: 200.0, average_reward: 200.0, length: 199\n",
      "episode: 3479, total reward: 200.0, average_reward: 200.0, length: 199\n",
      "episode: 3480, total reward: 200.0, average_reward: 200.0, length: 199\n",
      "episode: 3481, total reward: 200.0, average_reward: 200.0, length: 199\n",
      "episode: 3482, total reward: 200.0, average_reward: 200.0, length: 199\n",
      "episode: 3483, total reward: 200.0, average_reward: 200.0, length: 199\n",
      "episode: 3484, total reward: 200.0, average_reward: 200.0, length: 199\n",
      "episode: 3485, total reward: 191.0, average_reward: 199.1, length: 190\n",
      "episode: 3486, total reward: 200.0, average_reward: 199.1, length: 199\n",
      "episode: 3487, total reward: 200.0, average_reward: 199.1, length: 199\n",
      "episode: 3488, total reward: 200.0, average_reward: 199.1, length: 199\n",
      "episode: 3489, total reward: 151.0, average_reward: 194.2, length: 150\n",
      "episode: 3490, total reward: 200.0, average_reward: 194.2, length: 199\n",
      "episode: 3491, total reward: 200.0, average_reward: 194.2, length: 199\n",
      "episode: 3492, total reward: 200.0, average_reward: 194.2, length: 199\n",
      "episode: 3493, total reward: 200.0, average_reward: 194.2, length: 199\n",
      "episode: 3494, total reward: 200.0, average_reward: 194.2, length: 199\n",
      "episode: 3495, total reward: 200.0, average_reward: 195.1, length: 199\n",
      "episode: 3496, total reward: 200.0, average_reward: 195.1, length: 199\n",
      "episode: 3497, total reward: 200.0, average_reward: 195.1, length: 199\n",
      "episode: 3498, total reward: 200.0, average_reward: 195.1, length: 199\n",
      "episode: 3499, total reward: 194.0, average_reward: 199.4, length: 193\n",
      "episode: 3500, total reward: 200.0, average_reward: 199.4, length: 199\n",
      "episode: 3501, total reward: 200.0, average_reward: 199.4, length: 199\n",
      "episode: 3502, total reward: 200.0, average_reward: 199.4, length: 199\n",
      "episode: 3503, total reward: 200.0, average_reward: 199.4, length: 199\n",
      "episode: 3504, total reward: 200.0, average_reward: 199.4, length: 199\n",
      "episode: 3505, total reward: 200.0, average_reward: 199.4, length: 199\n",
      "episode: 3506, total reward: 200.0, average_reward: 199.4, length: 199\n",
      "episode: 3507, total reward: 187.0, average_reward: 198.1, length: 186\n",
      "episode: 3508, total reward: 169.0, average_reward: 195.0, length: 168\n",
      "episode: 3509, total reward: 200.0, average_reward: 195.6, length: 199\n",
      "episode: 3510, total reward: 169.0, average_reward: 192.5, length: 168\n",
      "episode: 3511, total reward: 200.0, average_reward: 192.5, length: 199\n",
      "episode: 3512, total reward: 200.0, average_reward: 192.5, length: 199\n",
      "episode: 3513, total reward: 200.0, average_reward: 192.5, length: 199\n",
      "episode: 3514, total reward: 200.0, average_reward: 192.5, length: 199\n",
      "episode: 3515, total reward: 200.0, average_reward: 192.5, length: 199\n",
      "episode: 3516, total reward: 175.0, average_reward: 190.0, length: 174\n",
      "episode: 3517, total reward: 200.0, average_reward: 191.3, length: 199\n",
      "episode: 3518, total reward: 200.0, average_reward: 194.4, length: 199\n",
      "episode: 3519, total reward: 200.0, average_reward: 194.4, length: 199\n",
      "episode: 3520, total reward: 200.0, average_reward: 197.5, length: 199\n",
      "episode: 3521, total reward: 200.0, average_reward: 197.5, length: 199\n",
      "episode: 3522, total reward: 200.0, average_reward: 197.5, length: 199\n",
      "episode: 3523, total reward: 200.0, average_reward: 197.5, length: 199\n",
      "episode: 3524, total reward: 200.0, average_reward: 197.5, length: 199\n",
      "episode: 3525, total reward: 200.0, average_reward: 197.5, length: 199\n",
      "episode: 3526, total reward: 148.0, average_reward: 194.8, length: 147\n",
      "episode: 3527, total reward: 200.0, average_reward: 194.8, length: 199\n",
      "episode: 3528, total reward: 200.0, average_reward: 194.8, length: 199\n",
      "episode: 3529, total reward: 200.0, average_reward: 194.8, length: 199\n",
      "episode: 3530, total reward: 200.0, average_reward: 194.8, length: 199\n",
      "episode: 3531, total reward: 200.0, average_reward: 194.8, length: 199\n",
      "episode: 3532, total reward: 200.0, average_reward: 194.8, length: 199\n",
      "episode: 3533, total reward: 200.0, average_reward: 194.8, length: 199\n",
      "episode: 3534, total reward: 194.0, average_reward: 194.2, length: 193\n",
      "episode: 3535, total reward: 200.0, average_reward: 194.2, length: 199\n",
      "episode: 3536, total reward: 200.0, average_reward: 199.4, length: 199\n",
      "episode: 3537, total reward: 77.0, average_reward: 187.1, length: 76\n",
      "episode: 3538, total reward: 200.0, average_reward: 187.1, length: 199\n",
      "episode: 3539, total reward: 200.0, average_reward: 187.1, length: 199\n"
     ]
    },
    {
     "name": "stdout",
     "output_type": "stream",
     "text": [
      "episode: 3540, total reward: 200.0, average_reward: 187.1, length: 199\n",
      "episode: 3541, total reward: 190.0, average_reward: 186.1, length: 189\n",
      "episode: 3542, total reward: 200.0, average_reward: 186.1, length: 199\n",
      "episode: 3543, total reward: 200.0, average_reward: 186.1, length: 199\n",
      "episode: 3544, total reward: 200.0, average_reward: 186.7, length: 199\n",
      "episode: 3545, total reward: 132.0, average_reward: 179.9, length: 131\n",
      "episode: 3546, total reward: 180.0, average_reward: 177.9, length: 179\n",
      "episode: 3547, total reward: 189.0, average_reward: 189.1, length: 188\n",
      "episode: 3548, total reward: 200.0, average_reward: 189.1, length: 199\n",
      "episode: 3549, total reward: 200.0, average_reward: 189.1, length: 199\n",
      "episode: 3550, total reward: 200.0, average_reward: 189.1, length: 199\n",
      "episode: 3551, total reward: 200.0, average_reward: 190.1, length: 199\n",
      "episode: 3552, total reward: 142.0, average_reward: 184.3, length: 141\n",
      "episode: 3553, total reward: 88.0, average_reward: 173.1, length: 87\n",
      "episode: 3554, total reward: 200.0, average_reward: 173.1, length: 199\n",
      "episode: 3555, total reward: 186.0, average_reward: 178.5, length: 185\n",
      "episode: 3556, total reward: 150.0, average_reward: 175.5, length: 149\n",
      "episode: 3557, total reward: 200.0, average_reward: 176.6, length: 199\n",
      "episode: 3558, total reward: 200.0, average_reward: 176.6, length: 199\n",
      "episode: 3559, total reward: 200.0, average_reward: 176.6, length: 199\n",
      "episode: 3560, total reward: 172.0, average_reward: 173.8, length: 171\n",
      "episode: 3561, total reward: 200.0, average_reward: 173.8, length: 199\n",
      "episode: 3562, total reward: 125.0, average_reward: 172.1, length: 124\n",
      "episode: 3563, total reward: 200.0, average_reward: 183.3, length: 199\n",
      "episode: 3564, total reward: 170.0, average_reward: 180.3, length: 169\n",
      "episode: 3565, total reward: 200.0, average_reward: 181.7, length: 199\n",
      "episode: 3566, total reward: 200.0, average_reward: 186.7, length: 199\n",
      "episode: 3567, total reward: 200.0, average_reward: 186.7, length: 199\n",
      "episode: 3568, total reward: 200.0, average_reward: 186.7, length: 199\n",
      "episode: 3569, total reward: 200.0, average_reward: 186.7, length: 199\n",
      "episode: 3570, total reward: 200.0, average_reward: 189.5, length: 199\n",
      "episode: 3571, total reward: 153.0, average_reward: 184.8, length: 152\n",
      "episode: 3572, total reward: 200.0, average_reward: 192.3, length: 199\n",
      "episode: 3573, total reward: 200.0, average_reward: 192.3, length: 199\n",
      "episode: 3574, total reward: 165.0, average_reward: 191.8, length: 164\n",
      "episode: 3575, total reward: 200.0, average_reward: 191.8, length: 199\n",
      "episode: 3576, total reward: 200.0, average_reward: 191.8, length: 199\n",
      "episode: 3577, total reward: 200.0, average_reward: 191.8, length: 199\n",
      "episode: 3578, total reward: 200.0, average_reward: 191.8, length: 199\n",
      "episode: 3579, total reward: 200.0, average_reward: 191.8, length: 199\n",
      "episode: 3580, total reward: 200.0, average_reward: 191.8, length: 199\n",
      "episode: 3581, total reward: 200.0, average_reward: 196.5, length: 199\n",
      "episode: 3582, total reward: 200.0, average_reward: 196.5, length: 199\n",
      "episode: 3583, total reward: 200.0, average_reward: 196.5, length: 199\n",
      "episode: 3584, total reward: 200.0, average_reward: 200.0, length: 199\n",
      "episode: 3585, total reward: 200.0, average_reward: 200.0, length: 199\n",
      "episode: 3586, total reward: 200.0, average_reward: 200.0, length: 199\n",
      "episode: 3587, total reward: 200.0, average_reward: 200.0, length: 199\n",
      "episode: 3588, total reward: 200.0, average_reward: 200.0, length: 199\n",
      "episode: 3589, total reward: 200.0, average_reward: 200.0, length: 199\n",
      "episode: 3590, total reward: 200.0, average_reward: 200.0, length: 199\n",
      "episode: 3591, total reward: 200.0, average_reward: 200.0, length: 199\n",
      "episode: 3592, total reward: 200.0, average_reward: 200.0, length: 199\n",
      "episode: 3593, total reward: 200.0, average_reward: 200.0, length: 199\n",
      "episode: 3594, total reward: 200.0, average_reward: 200.0, length: 199\n",
      "episode: 3595, total reward: 200.0, average_reward: 200.0, length: 199\n",
      "episode: 3596, total reward: 142.0, average_reward: 194.2, length: 141\n",
      "episode: 3597, total reward: 200.0, average_reward: 194.2, length: 199\n",
      "episode: 3598, total reward: 200.0, average_reward: 194.2, length: 199\n",
      "episode: 3599, total reward: 200.0, average_reward: 194.2, length: 199\n",
      "episode: 3600, total reward: 200.0, average_reward: 194.2, length: 199\n",
      "episode: 3601, total reward: 200.0, average_reward: 194.2, length: 199\n",
      "episode: 3602, total reward: 200.0, average_reward: 194.2, length: 199\n",
      "episode: 3603, total reward: 200.0, average_reward: 194.2, length: 199\n",
      "episode: 3604, total reward: 200.0, average_reward: 194.2, length: 199\n",
      "episode: 3605, total reward: 200.0, average_reward: 194.2, length: 199\n",
      "episode: 3606, total reward: 200.0, average_reward: 200.0, length: 199\n",
      "episode: 3607, total reward: 200.0, average_reward: 200.0, length: 199\n",
      "episode: 3608, total reward: 200.0, average_reward: 200.0, length: 199\n",
      "episode: 3609, total reward: 200.0, average_reward: 200.0, length: 199\n",
      "episode: 3610, total reward: 200.0, average_reward: 200.0, length: 199\n",
      "episode: 3611, total reward: 200.0, average_reward: 200.0, length: 199\n",
      "episode: 3612, total reward: 200.0, average_reward: 200.0, length: 199\n",
      "episode: 3613, total reward: 200.0, average_reward: 200.0, length: 199\n",
      "episode: 3614, total reward: 200.0, average_reward: 200.0, length: 199\n",
      "episode: 3615, total reward: 200.0, average_reward: 200.0, length: 199\n",
      "episode: 3616, total reward: 200.0, average_reward: 200.0, length: 199\n",
      "episode: 3617, total reward: 200.0, average_reward: 200.0, length: 199\n",
      "episode: 3618, total reward: 200.0, average_reward: 200.0, length: 199\n",
      "episode: 3619, total reward: 172.0, average_reward: 197.2, length: 171\n",
      "episode: 3620, total reward: 200.0, average_reward: 197.2, length: 199\n",
      "episode: 3621, total reward: 200.0, average_reward: 197.2, length: 199\n",
      "episode: 3622, total reward: 200.0, average_reward: 197.2, length: 199\n",
      "episode: 3623, total reward: 200.0, average_reward: 197.2, length: 199\n",
      "episode: 3624, total reward: 200.0, average_reward: 197.2, length: 199\n",
      "episode: 3625, total reward: 200.0, average_reward: 197.2, length: 199\n",
      "episode: 3626, total reward: 200.0, average_reward: 197.2, length: 199\n",
      "episode: 3627, total reward: 200.0, average_reward: 197.2, length: 199\n",
      "episode: 3628, total reward: 200.0, average_reward: 197.2, length: 199\n",
      "episode: 3629, total reward: 200.0, average_reward: 200.0, length: 199\n",
      "episode: 3630, total reward: 200.0, average_reward: 200.0, length: 199\n",
      "episode: 3631, total reward: 200.0, average_reward: 200.0, length: 199\n",
      "episode: 3632, total reward: 200.0, average_reward: 200.0, length: 199\n",
      "episode: 3633, total reward: 200.0, average_reward: 200.0, length: 199\n",
      "episode: 3634, total reward: 200.0, average_reward: 200.0, length: 199\n",
      "episode: 3635, total reward: 200.0, average_reward: 200.0, length: 199\n",
      "episode: 3636, total reward: 200.0, average_reward: 200.0, length: 199\n",
      "episode: 3637, total reward: 148.0, average_reward: 194.8, length: 147\n",
      "episode: 3638, total reward: 200.0, average_reward: 194.8, length: 199\n",
      "episode: 3639, total reward: 200.0, average_reward: 194.8, length: 199\n",
      "episode: 3640, total reward: 200.0, average_reward: 194.8, length: 199\n",
      "episode: 3641, total reward: 200.0, average_reward: 194.8, length: 199\n",
      "episode: 3642, total reward: 200.0, average_reward: 194.8, length: 199\n",
      "episode: 3643, total reward: 200.0, average_reward: 194.8, length: 199\n",
      "episode: 3644, total reward: 200.0, average_reward: 194.8, length: 199\n",
      "episode: 3645, total reward: 200.0, average_reward: 194.8, length: 199\n",
      "episode: 3646, total reward: 200.0, average_reward: 194.8, length: 199\n",
      "episode: 3647, total reward: 200.0, average_reward: 200.0, length: 199\n",
      "episode: 3648, total reward: 200.0, average_reward: 200.0, length: 199\n",
      "episode: 3649, total reward: 200.0, average_reward: 200.0, length: 199\n",
      "episode: 3650, total reward: 200.0, average_reward: 200.0, length: 199\n",
      "episode: 3651, total reward: 200.0, average_reward: 200.0, length: 199\n",
      "episode: 3652, total reward: 200.0, average_reward: 200.0, length: 199\n",
      "episode: 3653, total reward: 200.0, average_reward: 200.0, length: 199\n",
      "episode: 3654, total reward: 200.0, average_reward: 200.0, length: 199\n",
      "episode: 3655, total reward: 200.0, average_reward: 200.0, length: 199\n",
      "episode: 3656, total reward: 200.0, average_reward: 200.0, length: 199\n"
     ]
    },
    {
     "name": "stdout",
     "output_type": "stream",
     "text": [
      "episode: 3657, total reward: 200.0, average_reward: 200.0, length: 199\n",
      "episode: 3658, total reward: 200.0, average_reward: 200.0, length: 199\n",
      "episode: 3659, total reward: 200.0, average_reward: 200.0, length: 199\n",
      "episode: 3660, total reward: 200.0, average_reward: 200.0, length: 199\n",
      "episode: 3661, total reward: 200.0, average_reward: 200.0, length: 199\n",
      "episode: 3662, total reward: 200.0, average_reward: 200.0, length: 199\n",
      "episode: 3663, total reward: 200.0, average_reward: 200.0, length: 199\n",
      "episode: 3664, total reward: 200.0, average_reward: 200.0, length: 199\n",
      "episode: 3665, total reward: 200.0, average_reward: 200.0, length: 199\n",
      "episode: 3666, total reward: 200.0, average_reward: 200.0, length: 199\n",
      "episode: 3667, total reward: 200.0, average_reward: 200.0, length: 199\n",
      "episode: 3668, total reward: 200.0, average_reward: 200.0, length: 199\n",
      "episode: 3669, total reward: 200.0, average_reward: 200.0, length: 199\n",
      "episode: 3670, total reward: 200.0, average_reward: 200.0, length: 199\n",
      "episode: 3671, total reward: 200.0, average_reward: 200.0, length: 199\n",
      "episode: 3672, total reward: 200.0, average_reward: 200.0, length: 199\n",
      "episode: 3673, total reward: 200.0, average_reward: 200.0, length: 199\n",
      "episode: 3674, total reward: 200.0, average_reward: 200.0, length: 199\n",
      "episode: 3675, total reward: 200.0, average_reward: 200.0, length: 199\n",
      "episode: 3676, total reward: 200.0, average_reward: 200.0, length: 199\n",
      "episode: 3677, total reward: 200.0, average_reward: 200.0, length: 199\n",
      "episode: 3678, total reward: 200.0, average_reward: 200.0, length: 199\n",
      "episode: 3679, total reward: 200.0, average_reward: 200.0, length: 199\n",
      "episode: 3680, total reward: 200.0, average_reward: 200.0, length: 199\n",
      "episode: 3681, total reward: 200.0, average_reward: 200.0, length: 199\n",
      "episode: 3682, total reward: 200.0, average_reward: 200.0, length: 199\n",
      "episode: 3683, total reward: 200.0, average_reward: 200.0, length: 199\n",
      "episode: 3684, total reward: 200.0, average_reward: 200.0, length: 199\n",
      "episode: 3685, total reward: 200.0, average_reward: 200.0, length: 199\n",
      "episode: 3686, total reward: 200.0, average_reward: 200.0, length: 199\n",
      "episode: 3687, total reward: 200.0, average_reward: 200.0, length: 199\n",
      "episode: 3688, total reward: 200.0, average_reward: 200.0, length: 199\n",
      "episode: 3689, total reward: 200.0, average_reward: 200.0, length: 199\n",
      "episode: 3690, total reward: 200.0, average_reward: 200.0, length: 199\n",
      "episode: 3691, total reward: 200.0, average_reward: 200.0, length: 199\n",
      "episode: 3692, total reward: 193.0, average_reward: 199.3, length: 192\n",
      "episode: 3693, total reward: 200.0, average_reward: 199.3, length: 199\n",
      "episode: 3694, total reward: 200.0, average_reward: 199.3, length: 199\n",
      "episode: 3695, total reward: 200.0, average_reward: 199.3, length: 199\n",
      "episode: 3696, total reward: 200.0, average_reward: 199.3, length: 199\n",
      "episode: 3697, total reward: 200.0, average_reward: 199.3, length: 199\n",
      "episode: 3698, total reward: 200.0, average_reward: 199.3, length: 199\n",
      "episode: 3699, total reward: 197.0, average_reward: 199.0, length: 196\n",
      "episode: 3700, total reward: 200.0, average_reward: 199.0, length: 199\n",
      "episode: 3701, total reward: 200.0, average_reward: 199.0, length: 199\n",
      "episode: 3702, total reward: 200.0, average_reward: 199.7, length: 199\n",
      "episode: 3703, total reward: 200.0, average_reward: 199.7, length: 199\n",
      "episode: 3704, total reward: 200.0, average_reward: 199.7, length: 199\n",
      "episode: 3705, total reward: 200.0, average_reward: 199.7, length: 199\n",
      "episode: 3706, total reward: 200.0, average_reward: 199.7, length: 199\n",
      "episode: 3707, total reward: 200.0, average_reward: 199.7, length: 199\n",
      "episode: 3708, total reward: 200.0, average_reward: 199.7, length: 199\n",
      "episode: 3709, total reward: 200.0, average_reward: 200.0, length: 199\n",
      "episode: 3710, total reward: 200.0, average_reward: 200.0, length: 199\n",
      "episode: 3711, total reward: 200.0, average_reward: 200.0, length: 199\n",
      "episode: 3712, total reward: 200.0, average_reward: 200.0, length: 199\n",
      "episode: 3713, total reward: 200.0, average_reward: 200.0, length: 199\n",
      "episode: 3714, total reward: 200.0, average_reward: 200.0, length: 199\n",
      "episode: 3715, total reward: 200.0, average_reward: 200.0, length: 199\n",
      "episode: 3716, total reward: 200.0, average_reward: 200.0, length: 199\n",
      "episode: 3717, total reward: 200.0, average_reward: 200.0, length: 199\n",
      "episode: 3718, total reward: 200.0, average_reward: 200.0, length: 199\n",
      "episode: 3719, total reward: 200.0, average_reward: 200.0, length: 199\n",
      "episode: 3720, total reward: 200.0, average_reward: 200.0, length: 199\n",
      "episode: 3721, total reward: 200.0, average_reward: 200.0, length: 199\n",
      "episode: 3722, total reward: 200.0, average_reward: 200.0, length: 199\n",
      "episode: 3723, total reward: 200.0, average_reward: 200.0, length: 199\n",
      "episode: 3724, total reward: 200.0, average_reward: 200.0, length: 199\n",
      "episode: 3725, total reward: 200.0, average_reward: 200.0, length: 199\n",
      "episode: 3726, total reward: 200.0, average_reward: 200.0, length: 199\n",
      "episode: 3727, total reward: 200.0, average_reward: 200.0, length: 199\n",
      "episode: 3728, total reward: 200.0, average_reward: 200.0, length: 199\n",
      "episode: 3729, total reward: 200.0, average_reward: 200.0, length: 199\n",
      "episode: 3730, total reward: 200.0, average_reward: 200.0, length: 199\n",
      "episode: 3731, total reward: 200.0, average_reward: 200.0, length: 199\n",
      "episode: 3732, total reward: 200.0, average_reward: 200.0, length: 199\n",
      "episode: 3733, total reward: 200.0, average_reward: 200.0, length: 199\n",
      "episode: 3734, total reward: 200.0, average_reward: 200.0, length: 199\n",
      "episode: 3735, total reward: 200.0, average_reward: 200.0, length: 199\n",
      "episode: 3736, total reward: 200.0, average_reward: 200.0, length: 199\n",
      "episode: 3737, total reward: 200.0, average_reward: 200.0, length: 199\n",
      "episode: 3738, total reward: 200.0, average_reward: 200.0, length: 199\n",
      "episode: 3739, total reward: 200.0, average_reward: 200.0, length: 199\n",
      "episode: 3740, total reward: 200.0, average_reward: 200.0, length: 199\n",
      "episode: 3741, total reward: 200.0, average_reward: 200.0, length: 199\n",
      "episode: 3742, total reward: 200.0, average_reward: 200.0, length: 199\n",
      "episode: 3743, total reward: 200.0, average_reward: 200.0, length: 199\n",
      "episode: 3744, total reward: 200.0, average_reward: 200.0, length: 199\n",
      "episode: 3745, total reward: 190.0, average_reward: 199.0, length: 189\n",
      "episode: 3746, total reward: 200.0, average_reward: 199.0, length: 199\n",
      "episode: 3747, total reward: 200.0, average_reward: 199.0, length: 199\n",
      "episode: 3748, total reward: 200.0, average_reward: 199.0, length: 199\n",
      "episode: 3749, total reward: 169.0, average_reward: 195.9, length: 168\n",
      "episode: 3750, total reward: 200.0, average_reward: 195.9, length: 199\n",
      "episode: 3751, total reward: 200.0, average_reward: 195.9, length: 199\n",
      "episode: 3752, total reward: 200.0, average_reward: 195.9, length: 199\n",
      "episode: 3753, total reward: 144.0, average_reward: 190.3, length: 143\n",
      "episode: 3754, total reward: 200.0, average_reward: 190.3, length: 199\n",
      "episode: 3755, total reward: 200.0, average_reward: 191.3, length: 199\n",
      "episode: 3756, total reward: 200.0, average_reward: 191.3, length: 199\n",
      "episode: 3757, total reward: 200.0, average_reward: 191.3, length: 199\n",
      "episode: 3758, total reward: 200.0, average_reward: 191.3, length: 199\n",
      "episode: 3759, total reward: 200.0, average_reward: 194.4, length: 199\n",
      "episode: 3760, total reward: 200.0, average_reward: 194.4, length: 199\n",
      "episode: 3761, total reward: 200.0, average_reward: 194.4, length: 199\n",
      "episode: 3762, total reward: 200.0, average_reward: 194.4, length: 199\n",
      "episode: 3763, total reward: 200.0, average_reward: 200.0, length: 199\n",
      "episode: 3764, total reward: 200.0, average_reward: 200.0, length: 199\n",
      "episode: 3765, total reward: 200.0, average_reward: 200.0, length: 199\n",
      "episode: 3766, total reward: 200.0, average_reward: 200.0, length: 199\n",
      "episode: 3767, total reward: 200.0, average_reward: 200.0, length: 199\n",
      "episode: 3768, total reward: 200.0, average_reward: 200.0, length: 199\n",
      "episode: 3769, total reward: 200.0, average_reward: 200.0, length: 199\n",
      "episode: 3770, total reward: 200.0, average_reward: 200.0, length: 199\n",
      "episode: 3771, total reward: 200.0, average_reward: 200.0, length: 199\n",
      "episode: 3772, total reward: 200.0, average_reward: 200.0, length: 199\n"
     ]
    },
    {
     "name": "stdout",
     "output_type": "stream",
     "text": [
      "episode: 3773, total reward: 200.0, average_reward: 200.0, length: 199\n",
      "episode: 3774, total reward: 200.0, average_reward: 200.0, length: 199\n",
      "episode: 3775, total reward: 200.0, average_reward: 200.0, length: 199\n",
      "episode: 3776, total reward: 200.0, average_reward: 200.0, length: 199\n",
      "episode: 3777, total reward: 200.0, average_reward: 200.0, length: 199\n",
      "episode: 3778, total reward: 200.0, average_reward: 200.0, length: 199\n",
      "episode: 3779, total reward: 200.0, average_reward: 200.0, length: 199\n",
      "episode: 3780, total reward: 200.0, average_reward: 200.0, length: 199\n",
      "episode: 3781, total reward: 200.0, average_reward: 200.0, length: 199\n",
      "episode: 3782, total reward: 200.0, average_reward: 200.0, length: 199\n",
      "episode: 3783, total reward: 200.0, average_reward: 200.0, length: 199\n",
      "episode: 3784, total reward: 200.0, average_reward: 200.0, length: 199\n",
      "episode: 3785, total reward: 200.0, average_reward: 200.0, length: 199\n",
      "episode: 3786, total reward: 200.0, average_reward: 200.0, length: 199\n",
      "episode: 3787, total reward: 200.0, average_reward: 200.0, length: 199\n",
      "episode: 3788, total reward: 200.0, average_reward: 200.0, length: 199\n",
      "episode: 3789, total reward: 200.0, average_reward: 200.0, length: 199\n",
      "episode: 3790, total reward: 200.0, average_reward: 200.0, length: 199\n",
      "episode: 3791, total reward: 200.0, average_reward: 200.0, length: 199\n",
      "episode: 3792, total reward: 200.0, average_reward: 200.0, length: 199\n",
      "episode: 3793, total reward: 109.0, average_reward: 190.9, length: 108\n",
      "episode: 3794, total reward: 200.0, average_reward: 190.9, length: 199\n",
      "episode: 3795, total reward: 200.0, average_reward: 190.9, length: 199\n",
      "episode: 3796, total reward: 200.0, average_reward: 190.9, length: 199\n",
      "episode: 3797, total reward: 200.0, average_reward: 190.9, length: 199\n",
      "episode: 3798, total reward: 200.0, average_reward: 190.9, length: 199\n",
      "episode: 3799, total reward: 200.0, average_reward: 190.9, length: 199\n",
      "episode: 3800, total reward: 200.0, average_reward: 190.9, length: 199\n",
      "episode: 3801, total reward: 200.0, average_reward: 190.9, length: 199\n",
      "episode: 3802, total reward: 200.0, average_reward: 190.9, length: 199\n",
      "episode: 3803, total reward: 200.0, average_reward: 200.0, length: 199\n",
      "episode: 3804, total reward: 200.0, average_reward: 200.0, length: 199\n",
      "episode: 3805, total reward: 200.0, average_reward: 200.0, length: 199\n",
      "episode: 3806, total reward: 86.0, average_reward: 188.6, length: 85\n",
      "episode: 3807, total reward: 200.0, average_reward: 188.6, length: 199\n",
      "episode: 3808, total reward: 200.0, average_reward: 188.6, length: 199\n",
      "episode: 3809, total reward: 200.0, average_reward: 188.6, length: 199\n",
      "episode: 3810, total reward: 190.0, average_reward: 187.6, length: 189\n",
      "episode: 3811, total reward: 200.0, average_reward: 187.6, length: 199\n",
      "episode: 3812, total reward: 200.0, average_reward: 187.6, length: 199\n",
      "episode: 3813, total reward: 200.0, average_reward: 187.6, length: 199\n",
      "episode: 3814, total reward: 200.0, average_reward: 187.6, length: 199\n",
      "episode: 3815, total reward: 200.0, average_reward: 187.6, length: 199\n",
      "episode: 3816, total reward: 200.0, average_reward: 199.0, length: 199\n",
      "episode: 3817, total reward: 200.0, average_reward: 199.0, length: 199\n",
      "episode: 3818, total reward: 200.0, average_reward: 199.0, length: 199\n",
      "episode: 3819, total reward: 200.0, average_reward: 199.0, length: 199\n",
      "episode: 3820, total reward: 200.0, average_reward: 200.0, length: 199\n",
      "episode: 3821, total reward: 200.0, average_reward: 200.0, length: 199\n",
      "episode: 3822, total reward: 200.0, average_reward: 200.0, length: 199\n",
      "episode: 3823, total reward: 200.0, average_reward: 200.0, length: 199\n",
      "episode: 3824, total reward: 168.0, average_reward: 196.8, length: 167\n",
      "episode: 3825, total reward: 200.0, average_reward: 196.8, length: 199\n",
      "episode: 3826, total reward: 200.0, average_reward: 196.8, length: 199\n",
      "episode: 3827, total reward: 200.0, average_reward: 196.8, length: 199\n",
      "episode: 3828, total reward: 200.0, average_reward: 196.8, length: 199\n",
      "episode: 3829, total reward: 200.0, average_reward: 196.8, length: 199\n",
      "episode: 3830, total reward: 200.0, average_reward: 196.8, length: 199\n",
      "episode: 3831, total reward: 200.0, average_reward: 196.8, length: 199\n",
      "episode: 3832, total reward: 200.0, average_reward: 196.8, length: 199\n",
      "episode: 3833, total reward: 200.0, average_reward: 196.8, length: 199\n",
      "episode: 3834, total reward: 200.0, average_reward: 200.0, length: 199\n",
      "episode: 3835, total reward: 200.0, average_reward: 200.0, length: 199\n",
      "episode: 3836, total reward: 200.0, average_reward: 200.0, length: 199\n",
      "episode: 3837, total reward: 200.0, average_reward: 200.0, length: 199\n",
      "episode: 3838, total reward: 200.0, average_reward: 200.0, length: 199\n",
      "episode: 3839, total reward: 200.0, average_reward: 200.0, length: 199\n",
      "episode: 3840, total reward: 200.0, average_reward: 200.0, length: 199\n",
      "episode: 3841, total reward: 200.0, average_reward: 200.0, length: 199\n",
      "episode: 3842, total reward: 200.0, average_reward: 200.0, length: 199\n",
      "episode: 3843, total reward: 90.0, average_reward: 189.0, length: 89\n",
      "episode: 3844, total reward: 162.0, average_reward: 185.2, length: 161\n",
      "episode: 3845, total reward: 200.0, average_reward: 185.2, length: 199\n",
      "episode: 3846, total reward: 200.0, average_reward: 185.2, length: 199\n",
      "episode: 3847, total reward: 200.0, average_reward: 185.2, length: 199\n",
      "episode: 3848, total reward: 200.0, average_reward: 185.2, length: 199\n",
      "episode: 3849, total reward: 200.0, average_reward: 185.2, length: 199\n",
      "episode: 3850, total reward: 200.0, average_reward: 185.2, length: 199\n",
      "episode: 3851, total reward: 200.0, average_reward: 185.2, length: 199\n",
      "episode: 3852, total reward: 200.0, average_reward: 185.2, length: 199\n",
      "episode: 3853, total reward: 200.0, average_reward: 196.2, length: 199\n",
      "episode: 3854, total reward: 200.0, average_reward: 200.0, length: 199\n",
      "episode: 3855, total reward: 200.0, average_reward: 200.0, length: 199\n",
      "episode: 3856, total reward: 200.0, average_reward: 200.0, length: 199\n",
      "episode: 3857, total reward: 200.0, average_reward: 200.0, length: 199\n",
      "episode: 3858, total reward: 200.0, average_reward: 200.0, length: 199\n",
      "episode: 3859, total reward: 200.0, average_reward: 200.0, length: 199\n",
      "episode: 3860, total reward: 200.0, average_reward: 200.0, length: 199\n",
      "episode: 3861, total reward: 200.0, average_reward: 200.0, length: 199\n",
      "episode: 3862, total reward: 200.0, average_reward: 200.0, length: 199\n",
      "episode: 3863, total reward: 200.0, average_reward: 200.0, length: 199\n",
      "episode: 3864, total reward: 200.0, average_reward: 200.0, length: 199\n",
      "episode: 3865, total reward: 200.0, average_reward: 200.0, length: 199\n",
      "episode: 3866, total reward: 200.0, average_reward: 200.0, length: 199\n",
      "episode: 3867, total reward: 200.0, average_reward: 200.0, length: 199\n",
      "episode: 3868, total reward: 200.0, average_reward: 200.0, length: 199\n",
      "episode: 3869, total reward: 107.0, average_reward: 190.7, length: 106\n",
      "episode: 3870, total reward: 200.0, average_reward: 190.7, length: 199\n",
      "episode: 3871, total reward: 200.0, average_reward: 190.7, length: 199\n",
      "episode: 3872, total reward: 200.0, average_reward: 190.7, length: 199\n",
      "episode: 3873, total reward: 200.0, average_reward: 190.7, length: 199\n",
      "episode: 3874, total reward: 200.0, average_reward: 190.7, length: 199\n",
      "episode: 3875, total reward: 182.0, average_reward: 188.9, length: 181\n",
      "episode: 3876, total reward: 200.0, average_reward: 188.9, length: 199\n",
      "episode: 3877, total reward: 200.0, average_reward: 188.9, length: 199\n",
      "episode: 3878, total reward: 200.0, average_reward: 188.9, length: 199\n",
      "episode: 3879, total reward: 115.0, average_reward: 189.7, length: 114\n",
      "episode: 3880, total reward: 200.0, average_reward: 189.7, length: 199\n",
      "episode: 3881, total reward: 200.0, average_reward: 189.7, length: 199\n",
      "episode: 3882, total reward: 200.0, average_reward: 189.7, length: 199\n",
      "episode: 3883, total reward: 200.0, average_reward: 189.7, length: 199\n",
      "episode: 3884, total reward: 200.0, average_reward: 189.7, length: 199\n",
      "episode: 3885, total reward: 200.0, average_reward: 191.5, length: 199\n",
      "episode: 3886, total reward: 200.0, average_reward: 191.5, length: 199\n",
      "episode: 3887, total reward: 200.0, average_reward: 191.5, length: 199\n",
      "episode: 3888, total reward: 200.0, average_reward: 191.5, length: 199\n",
      "episode: 3889, total reward: 200.0, average_reward: 200.0, length: 199\n"
     ]
    },
    {
     "name": "stdout",
     "output_type": "stream",
     "text": [
      "episode: 3890, total reward: 200.0, average_reward: 200.0, length: 199\n",
      "episode: 3891, total reward: 200.0, average_reward: 200.0, length: 199\n",
      "episode: 3892, total reward: 200.0, average_reward: 200.0, length: 199\n",
      "episode: 3893, total reward: 200.0, average_reward: 200.0, length: 199\n",
      "episode: 3894, total reward: 200.0, average_reward: 200.0, length: 199\n",
      "episode: 3895, total reward: 200.0, average_reward: 200.0, length: 199\n",
      "episode: 3896, total reward: 200.0, average_reward: 200.0, length: 199\n",
      "episode: 3897, total reward: 200.0, average_reward: 200.0, length: 199\n",
      "episode: 3898, total reward: 200.0, average_reward: 200.0, length: 199\n",
      "episode: 3899, total reward: 200.0, average_reward: 200.0, length: 199\n",
      "episode: 3900, total reward: 200.0, average_reward: 200.0, length: 199\n",
      "episode: 3901, total reward: 200.0, average_reward: 200.0, length: 199\n",
      "episode: 3902, total reward: 200.0, average_reward: 200.0, length: 199\n",
      "episode: 3903, total reward: 200.0, average_reward: 200.0, length: 199\n",
      "episode: 3904, total reward: 200.0, average_reward: 200.0, length: 199\n",
      "episode: 3905, total reward: 200.0, average_reward: 200.0, length: 199\n",
      "episode: 3906, total reward: 200.0, average_reward: 200.0, length: 199\n",
      "episode: 3907, total reward: 200.0, average_reward: 200.0, length: 199\n",
      "episode: 3908, total reward: 200.0, average_reward: 200.0, length: 199\n",
      "episode: 3909, total reward: 200.0, average_reward: 200.0, length: 199\n",
      "episode: 3910, total reward: 200.0, average_reward: 200.0, length: 199\n",
      "episode: 3911, total reward: 200.0, average_reward: 200.0, length: 199\n",
      "episode: 3912, total reward: 200.0, average_reward: 200.0, length: 199\n",
      "episode: 3913, total reward: 200.0, average_reward: 200.0, length: 199\n",
      "episode: 3914, total reward: 200.0, average_reward: 200.0, length: 199\n",
      "episode: 3915, total reward: 200.0, average_reward: 200.0, length: 199\n",
      "episode: 3916, total reward: 200.0, average_reward: 200.0, length: 199\n",
      "episode: 3917, total reward: 200.0, average_reward: 200.0, length: 199\n",
      "episode: 3918, total reward: 200.0, average_reward: 200.0, length: 199\n",
      "episode: 3919, total reward: 200.0, average_reward: 200.0, length: 199\n",
      "episode: 3920, total reward: 200.0, average_reward: 200.0, length: 199\n",
      "episode: 3921, total reward: 200.0, average_reward: 200.0, length: 199\n",
      "episode: 3922, total reward: 200.0, average_reward: 200.0, length: 199\n",
      "episode: 3923, total reward: 200.0, average_reward: 200.0, length: 199\n",
      "episode: 3924, total reward: 200.0, average_reward: 200.0, length: 199\n",
      "episode: 3925, total reward: 200.0, average_reward: 200.0, length: 199\n",
      "episode: 3926, total reward: 200.0, average_reward: 200.0, length: 199\n",
      "episode: 3927, total reward: 200.0, average_reward: 200.0, length: 199\n",
      "episode: 3928, total reward: 200.0, average_reward: 200.0, length: 199\n",
      "episode: 3929, total reward: 200.0, average_reward: 200.0, length: 199\n",
      "episode: 3930, total reward: 200.0, average_reward: 200.0, length: 199\n",
      "episode: 3931, total reward: 200.0, average_reward: 200.0, length: 199\n",
      "episode: 3932, total reward: 200.0, average_reward: 200.0, length: 199\n",
      "episode: 3933, total reward: 200.0, average_reward: 200.0, length: 199\n",
      "episode: 3934, total reward: 200.0, average_reward: 200.0, length: 199\n",
      "episode: 3935, total reward: 200.0, average_reward: 200.0, length: 199\n",
      "episode: 3936, total reward: 200.0, average_reward: 200.0, length: 199\n",
      "episode: 3937, total reward: 200.0, average_reward: 200.0, length: 199\n",
      "episode: 3938, total reward: 200.0, average_reward: 200.0, length: 199\n",
      "episode: 3939, total reward: 200.0, average_reward: 200.0, length: 199\n",
      "episode: 3940, total reward: 200.0, average_reward: 200.0, length: 199\n",
      "episode: 3941, total reward: 164.0, average_reward: 196.4, length: 163\n",
      "episode: 3942, total reward: 200.0, average_reward: 196.4, length: 199\n",
      "episode: 3943, total reward: 200.0, average_reward: 196.4, length: 199\n",
      "episode: 3944, total reward: 200.0, average_reward: 196.4, length: 199\n",
      "episode: 3945, total reward: 200.0, average_reward: 196.4, length: 199\n",
      "episode: 3946, total reward: 200.0, average_reward: 196.4, length: 199\n",
      "episode: 3947, total reward: 200.0, average_reward: 196.4, length: 199\n",
      "episode: 3948, total reward: 200.0, average_reward: 196.4, length: 199\n",
      "episode: 3949, total reward: 200.0, average_reward: 196.4, length: 199\n",
      "episode: 3950, total reward: 200.0, average_reward: 196.4, length: 199\n",
      "episode: 3951, total reward: 200.0, average_reward: 200.0, length: 199\n",
      "episode: 3952, total reward: 200.0, average_reward: 200.0, length: 199\n",
      "episode: 3953, total reward: 200.0, average_reward: 200.0, length: 199\n",
      "episode: 3954, total reward: 200.0, average_reward: 200.0, length: 199\n",
      "episode: 3955, total reward: 200.0, average_reward: 200.0, length: 199\n",
      "episode: 3956, total reward: 200.0, average_reward: 200.0, length: 199\n",
      "episode: 3957, total reward: 200.0, average_reward: 200.0, length: 199\n",
      "episode: 3958, total reward: 200.0, average_reward: 200.0, length: 199\n",
      "episode: 3959, total reward: 200.0, average_reward: 200.0, length: 199\n",
      "episode: 3960, total reward: 200.0, average_reward: 200.0, length: 199\n",
      "episode: 3961, total reward: 200.0, average_reward: 200.0, length: 199\n",
      "episode: 3962, total reward: 200.0, average_reward: 200.0, length: 199\n",
      "episode: 3963, total reward: 200.0, average_reward: 200.0, length: 199\n",
      "episode: 3964, total reward: 200.0, average_reward: 200.0, length: 199\n",
      "episode: 3965, total reward: 200.0, average_reward: 200.0, length: 199\n",
      "episode: 3966, total reward: 200.0, average_reward: 200.0, length: 199\n",
      "episode: 3967, total reward: 200.0, average_reward: 200.0, length: 199\n",
      "episode: 3968, total reward: 200.0, average_reward: 200.0, length: 199\n",
      "episode: 3969, total reward: 200.0, average_reward: 200.0, length: 199\n",
      "episode: 3970, total reward: 200.0, average_reward: 200.0, length: 199\n",
      "episode: 3971, total reward: 200.0, average_reward: 200.0, length: 199\n",
      "episode: 3972, total reward: 200.0, average_reward: 200.0, length: 199\n",
      "episode: 3973, total reward: 200.0, average_reward: 200.0, length: 199\n",
      "episode: 3974, total reward: 200.0, average_reward: 200.0, length: 199\n",
      "episode: 3975, total reward: 200.0, average_reward: 200.0, length: 199\n",
      "episode: 3976, total reward: 200.0, average_reward: 200.0, length: 199\n",
      "episode: 3977, total reward: 200.0, average_reward: 200.0, length: 199\n",
      "episode: 3978, total reward: 200.0, average_reward: 200.0, length: 199\n",
      "episode: 3979, total reward: 200.0, average_reward: 200.0, length: 199\n",
      "episode: 3980, total reward: 200.0, average_reward: 200.0, length: 199\n",
      "episode: 3981, total reward: 71.0, average_reward: 187.1, length: 70\n",
      "episode: 3982, total reward: 200.0, average_reward: 187.1, length: 199\n",
      "episode: 3983, total reward: 200.0, average_reward: 187.1, length: 199\n",
      "episode: 3984, total reward: 200.0, average_reward: 187.1, length: 199\n",
      "episode: 3985, total reward: 200.0, average_reward: 187.1, length: 199\n",
      "episode: 3986, total reward: 200.0, average_reward: 187.1, length: 199\n",
      "episode: 3987, total reward: 200.0, average_reward: 187.1, length: 199\n",
      "episode: 3988, total reward: 200.0, average_reward: 187.1, length: 199\n",
      "episode: 3989, total reward: 200.0, average_reward: 187.1, length: 199\n",
      "episode: 3990, total reward: 200.0, average_reward: 187.1, length: 199\n",
      "episode: 3991, total reward: 200.0, average_reward: 200.0, length: 199\n",
      "episode: 3992, total reward: 200.0, average_reward: 200.0, length: 199\n",
      "episode: 3993, total reward: 200.0, average_reward: 200.0, length: 199\n",
      "episode: 3994, total reward: 200.0, average_reward: 200.0, length: 199\n",
      "episode: 3995, total reward: 200.0, average_reward: 200.0, length: 199\n",
      "episode: 3996, total reward: 200.0, average_reward: 200.0, length: 199\n",
      "episode: 3997, total reward: 200.0, average_reward: 200.0, length: 199\n",
      "episode: 3998, total reward: 200.0, average_reward: 200.0, length: 199\n",
      "episode: 3999, total reward: 200.0, average_reward: 200.0, length: 199\n",
      "episode: 4000, total reward: 200.0, average_reward: 200.0, length: 199\n",
      "episode: 4001, total reward: 200.0, average_reward: 200.0, length: 199\n",
      "episode: 4002, total reward: 200.0, average_reward: 200.0, length: 199\n",
      "episode: 4003, total reward: 171.0, average_reward: 197.1, length: 170\n",
      "episode: 4004, total reward: 200.0, average_reward: 197.1, length: 199\n",
      "episode: 4005, total reward: 200.0, average_reward: 197.1, length: 199\n",
      "episode: 4006, total reward: 200.0, average_reward: 197.1, length: 199\n"
     ]
    },
    {
     "name": "stdout",
     "output_type": "stream",
     "text": [
      "episode: 4007, total reward: 200.0, average_reward: 197.1, length: 199\n",
      "episode: 4008, total reward: 172.0, average_reward: 194.3, length: 171\n",
      "episode: 4009, total reward: 200.0, average_reward: 194.3, length: 199\n",
      "episode: 4010, total reward: 200.0, average_reward: 194.3, length: 199\n",
      "episode: 4011, total reward: 200.0, average_reward: 194.3, length: 199\n",
      "episode: 4012, total reward: 200.0, average_reward: 194.3, length: 199\n",
      "episode: 4013, total reward: 200.0, average_reward: 197.2, length: 199\n",
      "episode: 4014, total reward: 200.0, average_reward: 197.2, length: 199\n",
      "episode: 4015, total reward: 200.0, average_reward: 197.2, length: 199\n",
      "episode: 4016, total reward: 200.0, average_reward: 197.2, length: 199\n",
      "episode: 4017, total reward: 200.0, average_reward: 197.2, length: 199\n",
      "episode: 4018, total reward: 200.0, average_reward: 200.0, length: 199\n",
      "episode: 4019, total reward: 200.0, average_reward: 200.0, length: 199\n",
      "episode: 4020, total reward: 200.0, average_reward: 200.0, length: 199\n",
      "episode: 4021, total reward: 200.0, average_reward: 200.0, length: 199\n",
      "episode: 4022, total reward: 200.0, average_reward: 200.0, length: 199\n",
      "episode: 4023, total reward: 200.0, average_reward: 200.0, length: 199\n",
      "episode: 4024, total reward: 171.0, average_reward: 197.1, length: 170\n",
      "episode: 4025, total reward: 200.0, average_reward: 197.1, length: 199\n",
      "episode: 4026, total reward: 138.0, average_reward: 190.9, length: 137\n",
      "episode: 4027, total reward: 200.0, average_reward: 190.9, length: 199\n",
      "episode: 4028, total reward: 200.0, average_reward: 190.9, length: 199\n",
      "episode: 4029, total reward: 200.0, average_reward: 190.9, length: 199\n",
      "episode: 4030, total reward: 200.0, average_reward: 190.9, length: 199\n",
      "episode: 4031, total reward: 200.0, average_reward: 190.9, length: 199\n",
      "episode: 4032, total reward: 130.0, average_reward: 183.9, length: 129\n",
      "episode: 4033, total reward: 200.0, average_reward: 183.9, length: 199\n",
      "episode: 4034, total reward: 195.0, average_reward: 186.3, length: 194\n",
      "episode: 4035, total reward: 200.0, average_reward: 186.3, length: 199\n",
      "episode: 4036, total reward: 200.0, average_reward: 192.5, length: 199\n",
      "episode: 4037, total reward: 200.0, average_reward: 192.5, length: 199\n",
      "episode: 4038, total reward: 200.0, average_reward: 192.5, length: 199\n",
      "episode: 4039, total reward: 200.0, average_reward: 192.5, length: 199\n",
      "episode: 4040, total reward: 200.0, average_reward: 192.5, length: 199\n",
      "episode: 4041, total reward: 200.0, average_reward: 192.5, length: 199\n",
      "episode: 4042, total reward: 195.0, average_reward: 199.0, length: 194\n",
      "episode: 4043, total reward: 200.0, average_reward: 199.0, length: 199\n",
      "episode: 4044, total reward: 200.0, average_reward: 199.5, length: 199\n",
      "episode: 4045, total reward: 172.0, average_reward: 196.7, length: 171\n",
      "episode: 4046, total reward: 195.0, average_reward: 196.2, length: 194\n",
      "episode: 4047, total reward: 200.0, average_reward: 196.2, length: 199\n",
      "episode: 4048, total reward: 200.0, average_reward: 196.2, length: 199\n",
      "episode: 4049, total reward: 200.0, average_reward: 196.2, length: 199\n",
      "episode: 4050, total reward: 190.0, average_reward: 195.2, length: 189\n",
      "episode: 4051, total reward: 190.0, average_reward: 194.2, length: 189\n",
      "episode: 4052, total reward: 164.0, average_reward: 191.1, length: 163\n",
      "episode: 4053, total reward: 200.0, average_reward: 191.1, length: 199\n",
      "episode: 4054, total reward: 80.0, average_reward: 179.1, length: 79\n",
      "episode: 4055, total reward: 200.0, average_reward: 181.9, length: 199\n",
      "episode: 4056, total reward: 200.0, average_reward: 182.4, length: 199\n",
      "episode: 4057, total reward: 200.0, average_reward: 182.4, length: 199\n",
      "episode: 4058, total reward: 200.0, average_reward: 182.4, length: 199\n",
      "episode: 4059, total reward: 200.0, average_reward: 182.4, length: 199\n",
      "episode: 4060, total reward: 200.0, average_reward: 183.4, length: 199\n",
      "episode: 4061, total reward: 200.0, average_reward: 184.4, length: 199\n",
      "episode: 4062, total reward: 200.0, average_reward: 188.0, length: 199\n",
      "episode: 4063, total reward: 200.0, average_reward: 188.0, length: 199\n",
      "episode: 4064, total reward: 200.0, average_reward: 200.0, length: 199\n",
      "episode: 4065, total reward: 200.0, average_reward: 200.0, length: 199\n",
      "episode: 4066, total reward: 200.0, average_reward: 200.0, length: 199\n",
      "episode: 4067, total reward: 162.0, average_reward: 196.2, length: 161\n",
      "episode: 4068, total reward: 200.0, average_reward: 196.2, length: 199\n",
      "episode: 4069, total reward: 175.0, average_reward: 193.7, length: 174\n",
      "episode: 4070, total reward: 200.0, average_reward: 193.7, length: 199\n",
      "episode: 4071, total reward: 200.0, average_reward: 193.7, length: 199\n",
      "episode: 4072, total reward: 200.0, average_reward: 193.7, length: 199\n",
      "episode: 4073, total reward: 200.0, average_reward: 193.7, length: 199\n",
      "episode: 4074, total reward: 200.0, average_reward: 193.7, length: 199\n",
      "episode: 4075, total reward: 137.0, average_reward: 187.4, length: 136\n",
      "episode: 4076, total reward: 200.0, average_reward: 187.4, length: 199\n",
      "episode: 4077, total reward: 122.0, average_reward: 183.4, length: 121\n",
      "episode: 4078, total reward: 72.0, average_reward: 170.6, length: 71\n",
      "episode: 4079, total reward: 200.0, average_reward: 173.1, length: 199\n",
      "episode: 4080, total reward: 200.0, average_reward: 173.1, length: 199\n",
      "episode: 4081, total reward: 200.0, average_reward: 173.1, length: 199\n",
      "episode: 4082, total reward: 200.0, average_reward: 173.1, length: 199\n",
      "episode: 4083, total reward: 200.0, average_reward: 173.1, length: 199\n",
      "episode: 4084, total reward: 200.0, average_reward: 173.1, length: 199\n",
      "episode: 4085, total reward: 200.0, average_reward: 179.4, length: 199\n",
      "episode: 4086, total reward: 140.0, average_reward: 173.4, length: 139\n",
      "episode: 4087, total reward: 200.0, average_reward: 181.2, length: 199\n",
      "episode: 4088, total reward: 200.0, average_reward: 194.0, length: 199\n",
      "episode: 4089, total reward: 168.0, average_reward: 190.8, length: 167\n",
      "episode: 4090, total reward: 164.0, average_reward: 187.2, length: 163\n",
      "episode: 4091, total reward: 200.0, average_reward: 187.2, length: 199\n",
      "episode: 4092, total reward: 200.0, average_reward: 187.2, length: 199\n",
      "episode: 4093, total reward: 151.0, average_reward: 182.3, length: 150\n",
      "episode: 4094, total reward: 200.0, average_reward: 182.3, length: 199\n",
      "episode: 4095, total reward: 149.0, average_reward: 177.2, length: 148\n",
      "episode: 4096, total reward: 119.0, average_reward: 175.1, length: 118\n",
      "episode: 4097, total reward: 200.0, average_reward: 175.1, length: 199\n",
      "episode: 4098, total reward: 200.0, average_reward: 175.1, length: 199\n",
      "episode: 4099, total reward: 168.0, average_reward: 175.1, length: 167\n",
      "episode: 4100, total reward: 200.0, average_reward: 178.7, length: 199\n",
      "episode: 4101, total reward: 167.0, average_reward: 175.4, length: 166\n",
      "episode: 4102, total reward: 200.0, average_reward: 175.4, length: 199\n",
      "episode: 4103, total reward: 159.0, average_reward: 176.2, length: 158\n",
      "episode: 4104, total reward: 200.0, average_reward: 176.2, length: 199\n",
      "episode: 4105, total reward: 189.0, average_reward: 180.2, length: 188\n",
      "episode: 4106, total reward: 157.0, average_reward: 184.0, length: 156\n",
      "episode: 4107, total reward: 200.0, average_reward: 184.0, length: 199\n",
      "episode: 4108, total reward: 145.0, average_reward: 178.5, length: 144\n",
      "episode: 4109, total reward: 183.0, average_reward: 180.0, length: 182\n",
      "episode: 4110, total reward: 200.0, average_reward: 180.0, length: 199\n",
      "episode: 4111, total reward: 200.0, average_reward: 183.3, length: 199\n",
      "episode: 4112, total reward: 200.0, average_reward: 183.3, length: 199\n",
      "episode: 4113, total reward: 200.0, average_reward: 187.4, length: 199\n",
      "episode: 4114, total reward: 200.0, average_reward: 187.4, length: 199\n",
      "episode: 4115, total reward: 149.0, average_reward: 183.4, length: 148\n",
      "episode: 4116, total reward: 200.0, average_reward: 187.7, length: 199\n",
      "episode: 4117, total reward: 200.0, average_reward: 187.7, length: 199\n",
      "episode: 4118, total reward: 200.0, average_reward: 193.2, length: 199\n",
      "episode: 4119, total reward: 197.0, average_reward: 194.6, length: 196\n",
      "episode: 4120, total reward: 173.0, average_reward: 191.9, length: 172\n",
      "episode: 4121, total reward: 167.0, average_reward: 188.6, length: 166\n",
      "episode: 4122, total reward: 200.0, average_reward: 188.6, length: 199\n"
     ]
    },
    {
     "name": "stdout",
     "output_type": "stream",
     "text": [
      "episode: 4123, total reward: 200.0, average_reward: 188.6, length: 199\n",
      "episode: 4124, total reward: 200.0, average_reward: 188.6, length: 199\n",
      "episode: 4125, total reward: 200.0, average_reward: 193.7, length: 199\n",
      "episode: 4126, total reward: 200.0, average_reward: 193.7, length: 199\n",
      "episode: 4127, total reward: 200.0, average_reward: 193.7, length: 199\n",
      "episode: 4128, total reward: 147.0, average_reward: 188.4, length: 146\n",
      "episode: 4129, total reward: 135.0, average_reward: 182.2, length: 134\n",
      "episode: 4130, total reward: 200.0, average_reward: 184.9, length: 199\n",
      "episode: 4131, total reward: 200.0, average_reward: 188.2, length: 199\n",
      "episode: 4132, total reward: 181.0, average_reward: 186.3, length: 180\n",
      "episode: 4133, total reward: 195.0, average_reward: 185.8, length: 194\n",
      "episode: 4134, total reward: 150.0, average_reward: 180.8, length: 149\n",
      "episode: 4135, total reward: 189.0, average_reward: 179.7, length: 188\n",
      "episode: 4136, total reward: 200.0, average_reward: 179.7, length: 199\n",
      "episode: 4137, total reward: 200.0, average_reward: 179.7, length: 199\n",
      "episode: 4138, total reward: 200.0, average_reward: 185.0, length: 199\n",
      "episode: 4139, total reward: 138.0, average_reward: 185.3, length: 137\n",
      "episode: 4140, total reward: 178.0, average_reward: 183.1, length: 177\n",
      "episode: 4141, total reward: 200.0, average_reward: 183.1, length: 199\n",
      "episode: 4142, total reward: 200.0, average_reward: 185.0, length: 199\n",
      "episode: 4143, total reward: 152.0, average_reward: 180.7, length: 151\n",
      "episode: 4144, total reward: 180.0, average_reward: 183.7, length: 179\n",
      "episode: 4145, total reward: 171.0, average_reward: 181.9, length: 170\n",
      "episode: 4146, total reward: 187.0, average_reward: 180.6, length: 186\n",
      "episode: 4147, total reward: 184.0, average_reward: 179.0, length: 183\n",
      "episode: 4148, total reward: 194.0, average_reward: 178.4, length: 193\n",
      "episode: 4149, total reward: 31.0, average_reward: 167.7, length: 30\n",
      "episode: 4150, total reward: 175.0, average_reward: 167.4, length: 174\n",
      "episode: 4151, total reward: 146.0, average_reward: 162.0, length: 145\n",
      "episode: 4152, total reward: 185.0, average_reward: 160.5, length: 184\n",
      "episode: 4153, total reward: 200.0, average_reward: 165.3, length: 199\n",
      "episode: 4154, total reward: 164.0, average_reward: 163.7, length: 163\n",
      "episode: 4155, total reward: 118.0, average_reward: 158.4, length: 117\n",
      "episode: 4156, total reward: 200.0, average_reward: 159.7, length: 199\n",
      "episode: 4157, total reward: 178.0, average_reward: 159.1, length: 177\n",
      "episode: 4158, total reward: 170.0, average_reward: 156.7, length: 169\n",
      "episode: 4159, total reward: 200.0, average_reward: 173.6, length: 199\n",
      "episode: 4160, total reward: 200.0, average_reward: 176.1, length: 199\n",
      "episode: 4161, total reward: 200.0, average_reward: 181.5, length: 199\n",
      "episode: 4162, total reward: 187.0, average_reward: 181.7, length: 186\n",
      "episode: 4163, total reward: 200.0, average_reward: 181.7, length: 199\n",
      "episode: 4164, total reward: 200.0, average_reward: 185.3, length: 199\n",
      "episode: 4165, total reward: 200.0, average_reward: 193.5, length: 199\n",
      "episode: 4166, total reward: 200.0, average_reward: 193.5, length: 199\n",
      "episode: 4167, total reward: 200.0, average_reward: 195.7, length: 199\n",
      "episode: 4168, total reward: 200.0, average_reward: 198.7, length: 199\n",
      "episode: 4169, total reward: 200.0, average_reward: 198.7, length: 199\n",
      "episode: 4170, total reward: 200.0, average_reward: 198.7, length: 199\n",
      "episode: 4171, total reward: 200.0, average_reward: 198.7, length: 199\n",
      "episode: 4172, total reward: 200.0, average_reward: 200.0, length: 199\n",
      "episode: 4173, total reward: 200.0, average_reward: 200.0, length: 199\n",
      "episode: 4174, total reward: 200.0, average_reward: 200.0, length: 199\n",
      "episode: 4175, total reward: 200.0, average_reward: 200.0, length: 199\n",
      "episode: 4176, total reward: 56.0, average_reward: 185.6, length: 55\n",
      "episode: 4177, total reward: 200.0, average_reward: 185.6, length: 199\n",
      "episode: 4178, total reward: 192.0, average_reward: 184.8, length: 191\n",
      "episode: 4179, total reward: 200.0, average_reward: 184.8, length: 199\n",
      "episode: 4180, total reward: 162.0, average_reward: 181.0, length: 161\n",
      "episode: 4181, total reward: 200.0, average_reward: 181.0, length: 199\n",
      "episode: 4182, total reward: 200.0, average_reward: 181.0, length: 199\n",
      "episode: 4183, total reward: 200.0, average_reward: 181.0, length: 199\n",
      "episode: 4184, total reward: 200.0, average_reward: 181.0, length: 199\n",
      "episode: 4185, total reward: 200.0, average_reward: 181.0, length: 199\n",
      "episode: 4186, total reward: 200.0, average_reward: 195.4, length: 199\n",
      "episode: 4187, total reward: 168.0, average_reward: 192.2, length: 167\n",
      "episode: 4188, total reward: 59.0, average_reward: 178.9, length: 58\n",
      "episode: 4189, total reward: 184.0, average_reward: 177.3, length: 183\n",
      "episode: 4190, total reward: 200.0, average_reward: 181.1, length: 199\n",
      "episode: 4191, total reward: 200.0, average_reward: 181.1, length: 199\n",
      "episode: 4192, total reward: 200.0, average_reward: 181.1, length: 199\n",
      "episode: 4193, total reward: 200.0, average_reward: 181.1, length: 199\n",
      "episode: 4194, total reward: 200.0, average_reward: 181.1, length: 199\n",
      "episode: 4195, total reward: 196.0, average_reward: 180.7, length: 195\n",
      "episode: 4196, total reward: 200.0, average_reward: 180.7, length: 199\n",
      "episode: 4197, total reward: 200.0, average_reward: 183.9, length: 199\n",
      "episode: 4198, total reward: 200.0, average_reward: 198.0, length: 199\n",
      "episode: 4199, total reward: 200.0, average_reward: 199.6, length: 199\n",
      "episode: 4200, total reward: 200.0, average_reward: 199.6, length: 199\n",
      "episode: 4201, total reward: 200.0, average_reward: 199.6, length: 199\n",
      "episode: 4202, total reward: 200.0, average_reward: 199.6, length: 199\n",
      "episode: 4203, total reward: 146.0, average_reward: 194.2, length: 145\n",
      "episode: 4204, total reward: 200.0, average_reward: 194.2, length: 199\n",
      "episode: 4205, total reward: 200.0, average_reward: 194.6, length: 199\n",
      "episode: 4206, total reward: 200.0, average_reward: 194.6, length: 199\n",
      "episode: 4207, total reward: 200.0, average_reward: 194.6, length: 199\n",
      "episode: 4208, total reward: 200.0, average_reward: 194.6, length: 199\n",
      "episode: 4209, total reward: 200.0, average_reward: 194.6, length: 199\n",
      "episode: 4210, total reward: 200.0, average_reward: 194.6, length: 199\n",
      "episode: 4211, total reward: 200.0, average_reward: 194.6, length: 199\n",
      "episode: 4212, total reward: 200.0, average_reward: 194.6, length: 199\n",
      "episode: 4213, total reward: 200.0, average_reward: 200.0, length: 199\n",
      "episode: 4214, total reward: 160.0, average_reward: 196.0, length: 159\n",
      "episode: 4215, total reward: 200.0, average_reward: 196.0, length: 199\n",
      "episode: 4216, total reward: 200.0, average_reward: 196.0, length: 199\n",
      "episode: 4217, total reward: 153.0, average_reward: 191.3, length: 152\n",
      "episode: 4218, total reward: 200.0, average_reward: 191.3, length: 199\n",
      "episode: 4219, total reward: 200.0, average_reward: 191.3, length: 199\n",
      "episode: 4220, total reward: 168.0, average_reward: 188.1, length: 167\n",
      "episode: 4221, total reward: 188.0, average_reward: 186.9, length: 187\n",
      "episode: 4222, total reward: 86.0, average_reward: 175.5, length: 85\n",
      "episode: 4223, total reward: 174.0, average_reward: 172.9, length: 173\n",
      "episode: 4224, total reward: 171.0, average_reward: 174.0, length: 170\n",
      "episode: 4225, total reward: 200.0, average_reward: 174.0, length: 199\n",
      "episode: 4226, total reward: 172.0, average_reward: 171.2, length: 171\n",
      "episode: 4227, total reward: 200.0, average_reward: 175.9, length: 199\n",
      "episode: 4228, total reward: 166.0, average_reward: 172.5, length: 165\n",
      "episode: 4229, total reward: 139.0, average_reward: 166.4, length: 138\n",
      "episode: 4230, total reward: 200.0, average_reward: 169.6, length: 199\n",
      "episode: 4231, total reward: 200.0, average_reward: 170.8, length: 199\n",
      "episode: 4232, total reward: 200.0, average_reward: 182.2, length: 199\n",
      "episode: 4233, total reward: 200.0, average_reward: 184.8, length: 199\n",
      "episode: 4234, total reward: 199.0, average_reward: 187.6, length: 198\n",
      "episode: 4235, total reward: 200.0, average_reward: 187.6, length: 199\n",
      "episode: 4236, total reward: 200.0, average_reward: 190.4, length: 199\n",
      "episode: 4237, total reward: 200.0, average_reward: 190.4, length: 199\n",
      "episode: 4238, total reward: 128.0, average_reward: 186.6, length: 127\n"
     ]
    },
    {
     "name": "stdout",
     "output_type": "stream",
     "text": [
      "episode: 4239, total reward: 200.0, average_reward: 192.7, length: 199\n",
      "episode: 4240, total reward: 199.0, average_reward: 192.6, length: 198\n",
      "episode: 4241, total reward: 172.0, average_reward: 189.8, length: 171\n",
      "episode: 4242, total reward: 199.0, average_reward: 189.7, length: 198\n",
      "episode: 4243, total reward: 200.0, average_reward: 189.7, length: 199\n",
      "episode: 4244, total reward: 195.0, average_reward: 189.3, length: 194\n",
      "episode: 4245, total reward: 200.0, average_reward: 189.3, length: 199\n",
      "episode: 4246, total reward: 200.0, average_reward: 189.3, length: 199\n",
      "episode: 4247, total reward: 200.0, average_reward: 189.3, length: 199\n",
      "episode: 4248, total reward: 200.0, average_reward: 196.5, length: 199\n",
      "episode: 4249, total reward: 98.0, average_reward: 186.3, length: 97\n",
      "episode: 4250, total reward: 200.0, average_reward: 186.4, length: 199\n",
      "episode: 4251, total reward: 200.0, average_reward: 189.2, length: 199\n",
      "episode: 4252, total reward: 128.0, average_reward: 182.1, length: 127\n",
      "episode: 4253, total reward: 198.0, average_reward: 181.9, length: 197\n",
      "episode: 4254, total reward: 200.0, average_reward: 182.4, length: 199\n",
      "episode: 4255, total reward: 194.0, average_reward: 181.8, length: 193\n",
      "episode: 4256, total reward: 200.0, average_reward: 181.8, length: 199\n",
      "episode: 4257, total reward: 166.0, average_reward: 178.4, length: 165\n",
      "episode: 4258, total reward: 200.0, average_reward: 178.4, length: 199\n",
      "episode: 4259, total reward: 200.0, average_reward: 188.6, length: 199\n",
      "episode: 4260, total reward: 200.0, average_reward: 188.6, length: 199\n",
      "episode: 4261, total reward: 200.0, average_reward: 188.6, length: 199\n",
      "episode: 4262, total reward: 200.0, average_reward: 195.8, length: 199\n",
      "episode: 4263, total reward: 200.0, average_reward: 196.0, length: 199\n",
      "episode: 4264, total reward: 177.0, average_reward: 193.7, length: 176\n",
      "episode: 4265, total reward: 200.0, average_reward: 194.3, length: 199\n",
      "episode: 4266, total reward: 200.0, average_reward: 194.3, length: 199\n",
      "episode: 4267, total reward: 200.0, average_reward: 197.7, length: 199\n",
      "episode: 4268, total reward: 200.0, average_reward: 197.7, length: 199\n",
      "episode: 4269, total reward: 180.0, average_reward: 195.7, length: 179\n",
      "episode: 4270, total reward: 200.0, average_reward: 195.7, length: 199\n",
      "episode: 4271, total reward: 200.0, average_reward: 195.7, length: 199\n",
      "episode: 4272, total reward: 200.0, average_reward: 195.7, length: 199\n",
      "episode: 4273, total reward: 200.0, average_reward: 195.7, length: 199\n",
      "episode: 4274, total reward: 200.0, average_reward: 198.0, length: 199\n",
      "episode: 4275, total reward: 200.0, average_reward: 198.0, length: 199\n",
      "episode: 4276, total reward: 200.0, average_reward: 198.0, length: 199\n",
      "episode: 4277, total reward: 200.0, average_reward: 198.0, length: 199\n",
      "episode: 4278, total reward: 200.0, average_reward: 198.0, length: 199\n",
      "episode: 4279, total reward: 200.0, average_reward: 200.0, length: 199\n",
      "episode: 4280, total reward: 171.0, average_reward: 197.1, length: 170\n",
      "episode: 4281, total reward: 149.0, average_reward: 192.0, length: 148\n",
      "episode: 4282, total reward: 200.0, average_reward: 192.0, length: 199\n",
      "episode: 4283, total reward: 200.0, average_reward: 192.0, length: 199\n",
      "episode: 4284, total reward: 200.0, average_reward: 192.0, length: 199\n",
      "episode: 4285, total reward: 200.0, average_reward: 192.0, length: 199\n",
      "episode: 4286, total reward: 200.0, average_reward: 192.0, length: 199\n",
      "episode: 4287, total reward: 200.0, average_reward: 192.0, length: 199\n",
      "episode: 4288, total reward: 200.0, average_reward: 192.0, length: 199\n",
      "episode: 4289, total reward: 200.0, average_reward: 192.0, length: 199\n",
      "episode: 4290, total reward: 200.0, average_reward: 194.9, length: 199\n",
      "episode: 4291, total reward: 200.0, average_reward: 200.0, length: 199\n",
      "episode: 4292, total reward: 200.0, average_reward: 200.0, length: 199\n",
      "episode: 4293, total reward: 200.0, average_reward: 200.0, length: 199\n",
      "episode: 4294, total reward: 200.0, average_reward: 200.0, length: 199\n",
      "episode: 4295, total reward: 112.0, average_reward: 191.2, length: 111\n",
      "episode: 4296, total reward: 200.0, average_reward: 191.2, length: 199\n",
      "episode: 4297, total reward: 200.0, average_reward: 191.2, length: 199\n",
      "episode: 4298, total reward: 193.0, average_reward: 190.5, length: 192\n",
      "episode: 4299, total reward: 200.0, average_reward: 190.5, length: 199\n",
      "episode: 4300, total reward: 186.0, average_reward: 189.1, length: 185\n",
      "episode: 4301, total reward: 200.0, average_reward: 189.1, length: 199\n",
      "episode: 4302, total reward: 200.0, average_reward: 189.1, length: 199\n",
      "episode: 4303, total reward: 200.0, average_reward: 189.1, length: 199\n",
      "episode: 4304, total reward: 200.0, average_reward: 189.1, length: 199\n",
      "episode: 4305, total reward: 192.0, average_reward: 197.1, length: 191\n",
      "episode: 4306, total reward: 200.0, average_reward: 197.1, length: 199\n",
      "episode: 4307, total reward: 200.0, average_reward: 197.1, length: 199\n",
      "episode: 4308, total reward: 200.0, average_reward: 197.8, length: 199\n",
      "episode: 4309, total reward: 200.0, average_reward: 197.8, length: 199\n",
      "episode: 4310, total reward: 200.0, average_reward: 199.2, length: 199\n",
      "episode: 4311, total reward: 200.0, average_reward: 199.2, length: 199\n",
      "episode: 4312, total reward: 200.0, average_reward: 199.2, length: 199\n",
      "episode: 4313, total reward: 189.0, average_reward: 198.1, length: 188\n",
      "episode: 4314, total reward: 200.0, average_reward: 198.1, length: 199\n",
      "episode: 4315, total reward: 200.0, average_reward: 198.9, length: 199\n",
      "episode: 4316, total reward: 200.0, average_reward: 198.9, length: 199\n",
      "episode: 4317, total reward: 200.0, average_reward: 198.9, length: 199\n",
      "episode: 4318, total reward: 200.0, average_reward: 198.9, length: 199\n",
      "episode: 4319, total reward: 200.0, average_reward: 198.9, length: 199\n",
      "episode: 4320, total reward: 200.0, average_reward: 198.9, length: 199\n",
      "episode: 4321, total reward: 200.0, average_reward: 198.9, length: 199\n",
      "episode: 4322, total reward: 200.0, average_reward: 198.9, length: 199\n",
      "episode: 4323, total reward: 200.0, average_reward: 200.0, length: 199\n",
      "episode: 4324, total reward: 200.0, average_reward: 200.0, length: 199\n",
      "episode: 4325, total reward: 156.0, average_reward: 195.6, length: 155\n",
      "episode: 4326, total reward: 200.0, average_reward: 195.6, length: 199\n",
      "episode: 4327, total reward: 200.0, average_reward: 195.6, length: 199\n",
      "episode: 4328, total reward: 200.0, average_reward: 195.6, length: 199\n",
      "episode: 4329, total reward: 187.0, average_reward: 194.3, length: 186\n",
      "episode: 4330, total reward: 200.0, average_reward: 194.3, length: 199\n",
      "episode: 4331, total reward: 200.0, average_reward: 194.3, length: 199\n",
      "episode: 4332, total reward: 200.0, average_reward: 194.3, length: 199\n",
      "episode: 4333, total reward: 200.0, average_reward: 194.3, length: 199\n",
      "episode: 4334, total reward: 200.0, average_reward: 194.3, length: 199\n",
      "episode: 4335, total reward: 200.0, average_reward: 198.7, length: 199\n",
      "episode: 4336, total reward: 200.0, average_reward: 198.7, length: 199\n",
      "episode: 4337, total reward: 180.0, average_reward: 196.7, length: 179\n",
      "episode: 4338, total reward: 187.0, average_reward: 195.4, length: 186\n",
      "episode: 4339, total reward: 200.0, average_reward: 196.7, length: 199\n",
      "episode: 4340, total reward: 200.0, average_reward: 196.7, length: 199\n",
      "episode: 4341, total reward: 200.0, average_reward: 196.7, length: 199\n",
      "episode: 4342, total reward: 200.0, average_reward: 196.7, length: 199\n",
      "episode: 4343, total reward: 200.0, average_reward: 196.7, length: 199\n",
      "episode: 4344, total reward: 200.0, average_reward: 196.7, length: 199\n",
      "episode: 4345, total reward: 200.0, average_reward: 196.7, length: 199\n",
      "episode: 4346, total reward: 200.0, average_reward: 196.7, length: 199\n",
      "episode: 4347, total reward: 200.0, average_reward: 198.7, length: 199\n",
      "episode: 4348, total reward: 152.0, average_reward: 195.2, length: 151\n",
      "episode: 4349, total reward: 200.0, average_reward: 195.2, length: 199\n",
      "episode: 4350, total reward: 200.0, average_reward: 195.2, length: 199\n",
      "episode: 4351, total reward: 128.0, average_reward: 188.0, length: 127\n",
      "episode: 4352, total reward: 200.0, average_reward: 188.0, length: 199\n",
      "episode: 4353, total reward: 200.0, average_reward: 188.0, length: 199\n",
      "episode: 4354, total reward: 200.0, average_reward: 188.0, length: 199\n"
     ]
    },
    {
     "name": "stdout",
     "output_type": "stream",
     "text": [
      "episode: 4355, total reward: 200.0, average_reward: 188.0, length: 199\n",
      "episode: 4356, total reward: 200.0, average_reward: 188.0, length: 199\n",
      "episode: 4357, total reward: 200.0, average_reward: 188.0, length: 199\n",
      "episode: 4358, total reward: 200.0, average_reward: 192.8, length: 199\n",
      "episode: 4359, total reward: 200.0, average_reward: 192.8, length: 199\n",
      "episode: 4360, total reward: 200.0, average_reward: 192.8, length: 199\n",
      "episode: 4361, total reward: 200.0, average_reward: 200.0, length: 199\n",
      "episode: 4362, total reward: 200.0, average_reward: 200.0, length: 199\n",
      "episode: 4363, total reward: 200.0, average_reward: 200.0, length: 199\n",
      "episode: 4364, total reward: 200.0, average_reward: 200.0, length: 199\n",
      "episode: 4365, total reward: 200.0, average_reward: 200.0, length: 199\n",
      "episode: 4366, total reward: 200.0, average_reward: 200.0, length: 199\n",
      "episode: 4367, total reward: 200.0, average_reward: 200.0, length: 199\n",
      "episode: 4368, total reward: 200.0, average_reward: 200.0, length: 199\n",
      "episode: 4369, total reward: 200.0, average_reward: 200.0, length: 199\n",
      "episode: 4370, total reward: 200.0, average_reward: 200.0, length: 199\n",
      "episode: 4371, total reward: 200.0, average_reward: 200.0, length: 199\n",
      "episode: 4372, total reward: 200.0, average_reward: 200.0, length: 199\n",
      "episode: 4373, total reward: 200.0, average_reward: 200.0, length: 199\n",
      "episode: 4374, total reward: 200.0, average_reward: 200.0, length: 199\n",
      "episode: 4375, total reward: 165.0, average_reward: 196.5, length: 164\n",
      "episode: 4376, total reward: 200.0, average_reward: 196.5, length: 199\n",
      "episode: 4377, total reward: 200.0, average_reward: 196.5, length: 199\n",
      "episode: 4378, total reward: 200.0, average_reward: 196.5, length: 199\n",
      "episode: 4379, total reward: 200.0, average_reward: 196.5, length: 199\n",
      "episode: 4380, total reward: 200.0, average_reward: 196.5, length: 199\n",
      "episode: 4381, total reward: 200.0, average_reward: 196.5, length: 199\n",
      "episode: 4382, total reward: 200.0, average_reward: 196.5, length: 199\n",
      "episode: 4383, total reward: 200.0, average_reward: 196.5, length: 199\n",
      "episode: 4384, total reward: 200.0, average_reward: 196.5, length: 199\n",
      "episode: 4385, total reward: 200.0, average_reward: 200.0, length: 199\n",
      "episode: 4386, total reward: 200.0, average_reward: 200.0, length: 199\n",
      "episode: 4387, total reward: 200.0, average_reward: 200.0, length: 199\n",
      "episode: 4388, total reward: 200.0, average_reward: 200.0, length: 199\n",
      "episode: 4389, total reward: 200.0, average_reward: 200.0, length: 199\n",
      "episode: 4390, total reward: 200.0, average_reward: 200.0, length: 199\n",
      "episode: 4391, total reward: 200.0, average_reward: 200.0, length: 199\n",
      "episode: 4392, total reward: 169.0, average_reward: 196.9, length: 168\n",
      "episode: 4393, total reward: 179.0, average_reward: 194.8, length: 178\n",
      "episode: 4394, total reward: 200.0, average_reward: 194.8, length: 199\n",
      "episode: 4395, total reward: 200.0, average_reward: 194.8, length: 199\n",
      "episode: 4396, total reward: 200.0, average_reward: 194.8, length: 199\n",
      "episode: 4397, total reward: 200.0, average_reward: 194.8, length: 199\n",
      "episode: 4398, total reward: 188.0, average_reward: 193.6, length: 187\n",
      "episode: 4399, total reward: 200.0, average_reward: 193.6, length: 199\n",
      "episode: 4400, total reward: 200.0, average_reward: 193.6, length: 199\n",
      "episode: 4401, total reward: 200.0, average_reward: 193.6, length: 199\n",
      "episode: 4402, total reward: 200.0, average_reward: 196.7, length: 199\n",
      "episode: 4403, total reward: 200.0, average_reward: 198.8, length: 199\n",
      "episode: 4404, total reward: 200.0, average_reward: 198.8, length: 199\n",
      "episode: 4405, total reward: 200.0, average_reward: 198.8, length: 199\n",
      "episode: 4406, total reward: 200.0, average_reward: 198.8, length: 199\n",
      "episode: 4407, total reward: 200.0, average_reward: 198.8, length: 199\n",
      "episode: 4408, total reward: 200.0, average_reward: 200.0, length: 199\n",
      "episode: 4409, total reward: 200.0, average_reward: 200.0, length: 199\n",
      "episode: 4410, total reward: 200.0, average_reward: 200.0, length: 199\n",
      "episode: 4411, total reward: 200.0, average_reward: 200.0, length: 199\n",
      "episode: 4412, total reward: 200.0, average_reward: 200.0, length: 199\n",
      "episode: 4413, total reward: 200.0, average_reward: 200.0, length: 199\n",
      "episode: 4414, total reward: 200.0, average_reward: 200.0, length: 199\n",
      "episode: 4415, total reward: 200.0, average_reward: 200.0, length: 199\n",
      "episode: 4416, total reward: 200.0, average_reward: 200.0, length: 199\n",
      "episode: 4417, total reward: 200.0, average_reward: 200.0, length: 199\n",
      "episode: 4418, total reward: 200.0, average_reward: 200.0, length: 199\n",
      "episode: 4419, total reward: 200.0, average_reward: 200.0, length: 199\n",
      "episode: 4420, total reward: 200.0, average_reward: 200.0, length: 199\n",
      "episode: 4421, total reward: 200.0, average_reward: 200.0, length: 199\n",
      "episode: 4422, total reward: 200.0, average_reward: 200.0, length: 199\n",
      "episode: 4423, total reward: 200.0, average_reward: 200.0, length: 199\n",
      "episode: 4424, total reward: 200.0, average_reward: 200.0, length: 199\n",
      "episode: 4425, total reward: 200.0, average_reward: 200.0, length: 199\n",
      "episode: 4426, total reward: 200.0, average_reward: 200.0, length: 199\n",
      "episode: 4427, total reward: 200.0, average_reward: 200.0, length: 199\n",
      "episode: 4428, total reward: 200.0, average_reward: 200.0, length: 199\n",
      "episode: 4429, total reward: 200.0, average_reward: 200.0, length: 199\n",
      "episode: 4430, total reward: 200.0, average_reward: 200.0, length: 199\n",
      "episode: 4431, total reward: 200.0, average_reward: 200.0, length: 199\n",
      "episode: 4432, total reward: 200.0, average_reward: 200.0, length: 199\n",
      "episode: 4433, total reward: 200.0, average_reward: 200.0, length: 199\n",
      "episode: 4434, total reward: 200.0, average_reward: 200.0, length: 199\n",
      "episode: 4435, total reward: 200.0, average_reward: 200.0, length: 199\n",
      "episode: 4436, total reward: 200.0, average_reward: 200.0, length: 199\n",
      "episode: 4437, total reward: 200.0, average_reward: 200.0, length: 199\n",
      "episode: 4438, total reward: 200.0, average_reward: 200.0, length: 199\n",
      "episode: 4439, total reward: 200.0, average_reward: 200.0, length: 199\n",
      "episode: 4440, total reward: 200.0, average_reward: 200.0, length: 199\n",
      "episode: 4441, total reward: 200.0, average_reward: 200.0, length: 199\n",
      "episode: 4442, total reward: 200.0, average_reward: 200.0, length: 199\n",
      "episode: 4443, total reward: 200.0, average_reward: 200.0, length: 199\n",
      "episode: 4444, total reward: 200.0, average_reward: 200.0, length: 199\n",
      "episode: 4445, total reward: 200.0, average_reward: 200.0, length: 199\n",
      "episode: 4446, total reward: 200.0, average_reward: 200.0, length: 199\n",
      "episode: 4447, total reward: 200.0, average_reward: 200.0, length: 199\n",
      "episode: 4448, total reward: 200.0, average_reward: 200.0, length: 199\n",
      "episode: 4449, total reward: 200.0, average_reward: 200.0, length: 199\n",
      "episode: 4450, total reward: 200.0, average_reward: 200.0, length: 199\n",
      "episode: 4451, total reward: 200.0, average_reward: 200.0, length: 199\n",
      "episode: 4452, total reward: 200.0, average_reward: 200.0, length: 199\n",
      "episode: 4453, total reward: 200.0, average_reward: 200.0, length: 199\n",
      "episode: 4454, total reward: 200.0, average_reward: 200.0, length: 199\n",
      "episode: 4455, total reward: 200.0, average_reward: 200.0, length: 199\n",
      "episode: 4456, total reward: 200.0, average_reward: 200.0, length: 199\n",
      "episode: 4457, total reward: 200.0, average_reward: 200.0, length: 199\n",
      "episode: 4458, total reward: 200.0, average_reward: 200.0, length: 199\n",
      "episode: 4459, total reward: 200.0, average_reward: 200.0, length: 199\n",
      "episode: 4460, total reward: 200.0, average_reward: 200.0, length: 199\n",
      "episode: 4461, total reward: 200.0, average_reward: 200.0, length: 199\n",
      "episode: 4462, total reward: 200.0, average_reward: 200.0, length: 199\n",
      "episode: 4463, total reward: 200.0, average_reward: 200.0, length: 199\n",
      "episode: 4464, total reward: 200.0, average_reward: 200.0, length: 199\n",
      "episode: 4465, total reward: 200.0, average_reward: 200.0, length: 199\n",
      "episode: 4466, total reward: 200.0, average_reward: 200.0, length: 199\n",
      "episode: 4467, total reward: 200.0, average_reward: 200.0, length: 199\n",
      "episode: 4468, total reward: 200.0, average_reward: 200.0, length: 199\n",
      "episode: 4469, total reward: 200.0, average_reward: 200.0, length: 199\n",
      "episode: 4470, total reward: 200.0, average_reward: 200.0, length: 199\n"
     ]
    },
    {
     "name": "stdout",
     "output_type": "stream",
     "text": [
      "episode: 4471, total reward: 200.0, average_reward: 200.0, length: 199\n",
      "episode: 4472, total reward: 200.0, average_reward: 200.0, length: 199\n",
      "episode: 4473, total reward: 200.0, average_reward: 200.0, length: 199\n",
      "episode: 4474, total reward: 200.0, average_reward: 200.0, length: 199\n",
      "episode: 4475, total reward: 200.0, average_reward: 200.0, length: 199\n",
      "episode: 4476, total reward: 200.0, average_reward: 200.0, length: 199\n",
      "episode: 4477, total reward: 200.0, average_reward: 200.0, length: 199\n",
      "episode: 4478, total reward: 200.0, average_reward: 200.0, length: 199\n",
      "episode: 4479, total reward: 200.0, average_reward: 200.0, length: 199\n",
      "episode: 4480, total reward: 200.0, average_reward: 200.0, length: 199\n",
      "episode: 4481, total reward: 200.0, average_reward: 200.0, length: 199\n",
      "episode: 4482, total reward: 200.0, average_reward: 200.0, length: 199\n",
      "episode: 4483, total reward: 148.0, average_reward: 194.8, length: 147\n",
      "episode: 4484, total reward: 199.0, average_reward: 194.7, length: 198\n",
      "episode: 4485, total reward: 200.0, average_reward: 194.7, length: 199\n",
      "episode: 4486, total reward: 159.0, average_reward: 190.6, length: 158\n",
      "episode: 4487, total reward: 200.0, average_reward: 190.6, length: 199\n",
      "episode: 4488, total reward: 200.0, average_reward: 190.6, length: 199\n",
      "episode: 4489, total reward: 200.0, average_reward: 190.6, length: 199\n",
      "episode: 4490, total reward: 200.0, average_reward: 190.6, length: 199\n",
      "episode: 4491, total reward: 200.0, average_reward: 190.6, length: 199\n",
      "episode: 4492, total reward: 200.0, average_reward: 190.6, length: 199\n",
      "episode: 4493, total reward: 200.0, average_reward: 195.8, length: 199\n",
      "episode: 4494, total reward: 200.0, average_reward: 195.9, length: 199\n",
      "episode: 4495, total reward: 195.0, average_reward: 195.4, length: 194\n",
      "episode: 4496, total reward: 200.0, average_reward: 199.5, length: 199\n",
      "episode: 4497, total reward: 200.0, average_reward: 199.5, length: 199\n",
      "episode: 4498, total reward: 200.0, average_reward: 199.5, length: 199\n",
      "episode: 4499, total reward: 200.0, average_reward: 199.5, length: 199\n",
      "episode: 4500, total reward: 200.0, average_reward: 199.5, length: 199\n",
      "episode: 4501, total reward: 200.0, average_reward: 199.5, length: 199\n",
      "episode: 4502, total reward: 200.0, average_reward: 199.5, length: 199\n",
      "episode: 4503, total reward: 200.0, average_reward: 199.5, length: 199\n",
      "episode: 4504, total reward: 200.0, average_reward: 199.5, length: 199\n",
      "episode: 4505, total reward: 200.0, average_reward: 200.0, length: 199\n",
      "episode: 4506, total reward: 200.0, average_reward: 200.0, length: 199\n",
      "episode: 4507, total reward: 200.0, average_reward: 200.0, length: 199\n",
      "episode: 4508, total reward: 200.0, average_reward: 200.0, length: 199\n",
      "episode: 4509, total reward: 200.0, average_reward: 200.0, length: 199\n",
      "episode: 4510, total reward: 200.0, average_reward: 200.0, length: 199\n",
      "episode: 4511, total reward: 200.0, average_reward: 200.0, length: 199\n",
      "episode: 4512, total reward: 200.0, average_reward: 200.0, length: 199\n",
      "episode: 4513, total reward: 200.0, average_reward: 200.0, length: 199\n",
      "episode: 4514, total reward: 200.0, average_reward: 200.0, length: 199\n",
      "episode: 4515, total reward: 200.0, average_reward: 200.0, length: 199\n",
      "episode: 4516, total reward: 200.0, average_reward: 200.0, length: 199\n",
      "episode: 4517, total reward: 200.0, average_reward: 200.0, length: 199\n",
      "episode: 4518, total reward: 200.0, average_reward: 200.0, length: 199\n",
      "episode: 4519, total reward: 200.0, average_reward: 200.0, length: 199\n",
      "episode: 4520, total reward: 200.0, average_reward: 200.0, length: 199\n",
      "episode: 4521, total reward: 200.0, average_reward: 200.0, length: 199\n",
      "episode: 4522, total reward: 199.0, average_reward: 199.9, length: 198\n",
      "episode: 4523, total reward: 200.0, average_reward: 199.9, length: 199\n",
      "episode: 4524, total reward: 200.0, average_reward: 199.9, length: 199\n",
      "episode: 4525, total reward: 200.0, average_reward: 199.9, length: 199\n",
      "episode: 4526, total reward: 200.0, average_reward: 199.9, length: 199\n",
      "episode: 4527, total reward: 200.0, average_reward: 199.9, length: 199\n",
      "episode: 4528, total reward: 200.0, average_reward: 199.9, length: 199\n",
      "episode: 4529, total reward: 200.0, average_reward: 199.9, length: 199\n",
      "episode: 4530, total reward: 200.0, average_reward: 199.9, length: 199\n",
      "episode: 4531, total reward: 200.0, average_reward: 199.9, length: 199\n",
      "episode: 4532, total reward: 200.0, average_reward: 200.0, length: 199\n",
      "episode: 4533, total reward: 200.0, average_reward: 200.0, length: 199\n",
      "episode: 4534, total reward: 200.0, average_reward: 200.0, length: 199\n",
      "episode: 4535, total reward: 200.0, average_reward: 200.0, length: 199\n",
      "episode: 4536, total reward: 200.0, average_reward: 200.0, length: 199\n",
      "episode: 4537, total reward: 200.0, average_reward: 200.0, length: 199\n",
      "episode: 4538, total reward: 200.0, average_reward: 200.0, length: 199\n",
      "episode: 4539, total reward: 200.0, average_reward: 200.0, length: 199\n",
      "episode: 4540, total reward: 200.0, average_reward: 200.0, length: 199\n",
      "episode: 4541, total reward: 200.0, average_reward: 200.0, length: 199\n",
      "episode: 4542, total reward: 200.0, average_reward: 200.0, length: 199\n",
      "episode: 4543, total reward: 200.0, average_reward: 200.0, length: 199\n",
      "episode: 4544, total reward: 200.0, average_reward: 200.0, length: 199\n",
      "episode: 4545, total reward: 200.0, average_reward: 200.0, length: 199\n",
      "episode: 4546, total reward: 200.0, average_reward: 200.0, length: 199\n",
      "episode: 4547, total reward: 200.0, average_reward: 200.0, length: 199\n",
      "episode: 4548, total reward: 200.0, average_reward: 200.0, length: 199\n",
      "episode: 4549, total reward: 200.0, average_reward: 200.0, length: 199\n",
      "episode: 4550, total reward: 200.0, average_reward: 200.0, length: 199\n",
      "episode: 4551, total reward: 200.0, average_reward: 200.0, length: 199\n",
      "episode: 4552, total reward: 200.0, average_reward: 200.0, length: 199\n",
      "episode: 4553, total reward: 200.0, average_reward: 200.0, length: 199\n",
      "episode: 4554, total reward: 163.0, average_reward: 196.3, length: 162\n",
      "episode: 4555, total reward: 200.0, average_reward: 196.3, length: 199\n",
      "episode: 4556, total reward: 200.0, average_reward: 196.3, length: 199\n",
      "episode: 4557, total reward: 200.0, average_reward: 196.3, length: 199\n",
      "episode: 4558, total reward: 200.0, average_reward: 196.3, length: 199\n",
      "episode: 4559, total reward: 200.0, average_reward: 196.3, length: 199\n",
      "episode: 4560, total reward: 200.0, average_reward: 196.3, length: 199\n",
      "episode: 4561, total reward: 200.0, average_reward: 196.3, length: 199\n",
      "episode: 4562, total reward: 200.0, average_reward: 196.3, length: 199\n",
      "episode: 4563, total reward: 200.0, average_reward: 196.3, length: 199\n",
      "episode: 4564, total reward: 200.0, average_reward: 200.0, length: 199\n",
      "episode: 4565, total reward: 200.0, average_reward: 200.0, length: 199\n",
      "episode: 4566, total reward: 200.0, average_reward: 200.0, length: 199\n",
      "episode: 4567, total reward: 200.0, average_reward: 200.0, length: 199\n",
      "episode: 4568, total reward: 200.0, average_reward: 200.0, length: 199\n",
      "episode: 4569, total reward: 200.0, average_reward: 200.0, length: 199\n",
      "episode: 4570, total reward: 200.0, average_reward: 200.0, length: 199\n",
      "episode: 4571, total reward: 200.0, average_reward: 200.0, length: 199\n",
      "episode: 4572, total reward: 200.0, average_reward: 200.0, length: 199\n",
      "episode: 4573, total reward: 200.0, average_reward: 200.0, length: 199\n",
      "episode: 4574, total reward: 200.0, average_reward: 200.0, length: 199\n",
      "episode: 4575, total reward: 200.0, average_reward: 200.0, length: 199\n",
      "episode: 4576, total reward: 171.0, average_reward: 197.1, length: 170\n",
      "episode: 4577, total reward: 200.0, average_reward: 197.1, length: 199\n",
      "episode: 4578, total reward: 200.0, average_reward: 197.1, length: 199\n",
      "episode: 4579, total reward: 200.0, average_reward: 197.1, length: 199\n",
      "episode: 4580, total reward: 200.0, average_reward: 197.1, length: 199\n",
      "episode: 4581, total reward: 200.0, average_reward: 197.1, length: 199\n",
      "episode: 4582, total reward: 200.0, average_reward: 197.1, length: 199\n",
      "episode: 4583, total reward: 200.0, average_reward: 197.1, length: 199\n",
      "episode: 4584, total reward: 200.0, average_reward: 197.1, length: 199\n",
      "episode: 4585, total reward: 200.0, average_reward: 197.1, length: 199\n",
      "episode: 4586, total reward: 200.0, average_reward: 200.0, length: 199\n",
      "episode: 4587, total reward: 200.0, average_reward: 200.0, length: 199\n"
     ]
    },
    {
     "name": "stdout",
     "output_type": "stream",
     "text": [
      "episode: 4588, total reward: 200.0, average_reward: 200.0, length: 199\n",
      "episode: 4589, total reward: 200.0, average_reward: 200.0, length: 199\n",
      "episode: 4590, total reward: 200.0, average_reward: 200.0, length: 199\n",
      "episode: 4591, total reward: 200.0, average_reward: 200.0, length: 199\n",
      "episode: 4592, total reward: 200.0, average_reward: 200.0, length: 199\n",
      "episode: 4593, total reward: 200.0, average_reward: 200.0, length: 199\n",
      "episode: 4594, total reward: 200.0, average_reward: 200.0, length: 199\n",
      "episode: 4595, total reward: 200.0, average_reward: 200.0, length: 199\n",
      "episode: 4596, total reward: 183.0, average_reward: 198.3, length: 182\n",
      "episode: 4597, total reward: 137.0, average_reward: 192.0, length: 136\n",
      "episode: 4598, total reward: 200.0, average_reward: 192.0, length: 199\n",
      "episode: 4599, total reward: 200.0, average_reward: 192.0, length: 199\n",
      "episode: 4600, total reward: 200.0, average_reward: 192.0, length: 199\n",
      "episode: 4601, total reward: 200.0, average_reward: 192.0, length: 199\n",
      "episode: 4602, total reward: 200.0, average_reward: 192.0, length: 199\n",
      "episode: 4603, total reward: 143.0, average_reward: 186.3, length: 142\n",
      "episode: 4604, total reward: 200.0, average_reward: 186.3, length: 199\n",
      "episode: 4605, total reward: 200.0, average_reward: 186.3, length: 199\n",
      "episode: 4606, total reward: 200.0, average_reward: 188.0, length: 199\n",
      "episode: 4607, total reward: 200.0, average_reward: 194.3, length: 199\n",
      "episode: 4608, total reward: 200.0, average_reward: 194.3, length: 199\n",
      "episode: 4609, total reward: 182.0, average_reward: 192.5, length: 181\n",
      "episode: 4610, total reward: 200.0, average_reward: 192.5, length: 199\n",
      "episode: 4611, total reward: 200.0, average_reward: 192.5, length: 199\n",
      "episode: 4612, total reward: 112.0, average_reward: 183.7, length: 111\n",
      "episode: 4613, total reward: 200.0, average_reward: 189.4, length: 199\n",
      "episode: 4614, total reward: 200.0, average_reward: 189.4, length: 199\n",
      "episode: 4615, total reward: 200.0, average_reward: 189.4, length: 199\n",
      "episode: 4616, total reward: 200.0, average_reward: 189.4, length: 199\n",
      "episode: 4617, total reward: 200.0, average_reward: 189.4, length: 199\n",
      "episode: 4618, total reward: 200.0, average_reward: 189.4, length: 199\n",
      "episode: 4619, total reward: 200.0, average_reward: 191.2, length: 199\n",
      "episode: 4620, total reward: 200.0, average_reward: 191.2, length: 199\n",
      "episode: 4621, total reward: 200.0, average_reward: 191.2, length: 199\n",
      "episode: 4622, total reward: 172.0, average_reward: 197.2, length: 171\n",
      "episode: 4623, total reward: 200.0, average_reward: 197.2, length: 199\n",
      "episode: 4624, total reward: 200.0, average_reward: 197.2, length: 199\n",
      "episode: 4625, total reward: 200.0, average_reward: 197.2, length: 199\n",
      "episode: 4626, total reward: 187.0, average_reward: 195.9, length: 186\n",
      "episode: 4627, total reward: 200.0, average_reward: 195.9, length: 199\n",
      "episode: 4628, total reward: 200.0, average_reward: 195.9, length: 199\n",
      "episode: 4629, total reward: 134.0, average_reward: 189.3, length: 133\n",
      "episode: 4630, total reward: 200.0, average_reward: 189.3, length: 199\n",
      "episode: 4631, total reward: 200.0, average_reward: 189.3, length: 199\n",
      "episode: 4632, total reward: 200.0, average_reward: 192.1, length: 199\n",
      "episode: 4633, total reward: 200.0, average_reward: 192.1, length: 199\n",
      "episode: 4634, total reward: 200.0, average_reward: 192.1, length: 199\n",
      "episode: 4635, total reward: 200.0, average_reward: 192.1, length: 199\n",
      "episode: 4636, total reward: 200.0, average_reward: 193.4, length: 199\n",
      "episode: 4637, total reward: 200.0, average_reward: 193.4, length: 199\n",
      "episode: 4638, total reward: 200.0, average_reward: 193.4, length: 199\n",
      "episode: 4639, total reward: 200.0, average_reward: 200.0, length: 199\n",
      "episode: 4640, total reward: 200.0, average_reward: 200.0, length: 199\n",
      "episode: 4641, total reward: 200.0, average_reward: 200.0, length: 199\n",
      "episode: 4642, total reward: 200.0, average_reward: 200.0, length: 199\n",
      "episode: 4643, total reward: 200.0, average_reward: 200.0, length: 199\n",
      "episode: 4644, total reward: 195.0, average_reward: 199.5, length: 194\n",
      "episode: 4645, total reward: 200.0, average_reward: 199.5, length: 199\n",
      "episode: 4646, total reward: 174.0, average_reward: 196.9, length: 173\n",
      "episode: 4647, total reward: 200.0, average_reward: 196.9, length: 199\n",
      "episode: 4648, total reward: 200.0, average_reward: 196.9, length: 199\n",
      "episode: 4649, total reward: 200.0, average_reward: 196.9, length: 199\n",
      "episode: 4650, total reward: 200.0, average_reward: 196.9, length: 199\n",
      "episode: 4651, total reward: 200.0, average_reward: 196.9, length: 199\n",
      "episode: 4652, total reward: 200.0, average_reward: 196.9, length: 199\n",
      "episode: 4653, total reward: 200.0, average_reward: 196.9, length: 199\n",
      "episode: 4654, total reward: 200.0, average_reward: 197.4, length: 199\n",
      "episode: 4655, total reward: 151.0, average_reward: 192.5, length: 150\n",
      "episode: 4656, total reward: 200.0, average_reward: 195.1, length: 199\n",
      "episode: 4657, total reward: 200.0, average_reward: 195.1, length: 199\n",
      "episode: 4658, total reward: 155.0, average_reward: 190.6, length: 154\n",
      "episode: 4659, total reward: 200.0, average_reward: 190.6, length: 199\n",
      "episode: 4660, total reward: 200.0, average_reward: 190.6, length: 199\n",
      "episode: 4661, total reward: 200.0, average_reward: 190.6, length: 199\n",
      "episode: 4662, total reward: 200.0, average_reward: 190.6, length: 199\n",
      "episode: 4663, total reward: 200.0, average_reward: 190.6, length: 199\n",
      "episode: 4664, total reward: 200.0, average_reward: 190.6, length: 199\n",
      "episode: 4665, total reward: 200.0, average_reward: 195.5, length: 199\n",
      "episode: 4666, total reward: 200.0, average_reward: 195.5, length: 199\n",
      "episode: 4667, total reward: 200.0, average_reward: 195.5, length: 199\n",
      "episode: 4668, total reward: 140.0, average_reward: 194.0, length: 139\n",
      "episode: 4669, total reward: 200.0, average_reward: 194.0, length: 199\n",
      "episode: 4670, total reward: 72.0, average_reward: 181.2, length: 71\n",
      "episode: 4671, total reward: 200.0, average_reward: 181.2, length: 199\n",
      "episode: 4672, total reward: 200.0, average_reward: 181.2, length: 199\n",
      "episode: 4673, total reward: 200.0, average_reward: 181.2, length: 199\n",
      "episode: 4674, total reward: 200.0, average_reward: 181.2, length: 199\n",
      "episode: 4675, total reward: 200.0, average_reward: 181.2, length: 199\n",
      "episode: 4676, total reward: 200.0, average_reward: 181.2, length: 199\n",
      "episode: 4677, total reward: 200.0, average_reward: 181.2, length: 199\n",
      "episode: 4678, total reward: 200.0, average_reward: 187.2, length: 199\n",
      "episode: 4679, total reward: 200.0, average_reward: 187.2, length: 199\n",
      "episode: 4680, total reward: 200.0, average_reward: 200.0, length: 199\n",
      "episode: 4681, total reward: 200.0, average_reward: 200.0, length: 199\n",
      "episode: 4682, total reward: 200.0, average_reward: 200.0, length: 199\n",
      "episode: 4683, total reward: 200.0, average_reward: 200.0, length: 199\n",
      "episode: 4684, total reward: 200.0, average_reward: 200.0, length: 199\n",
      "episode: 4685, total reward: 200.0, average_reward: 200.0, length: 199\n",
      "episode: 4686, total reward: 200.0, average_reward: 200.0, length: 199\n",
      "episode: 4687, total reward: 200.0, average_reward: 200.0, length: 199\n",
      "episode: 4688, total reward: 200.0, average_reward: 200.0, length: 199\n",
      "episode: 4689, total reward: 200.0, average_reward: 200.0, length: 199\n",
      "episode: 4690, total reward: 200.0, average_reward: 200.0, length: 199\n",
      "episode: 4691, total reward: 200.0, average_reward: 200.0, length: 199\n",
      "episode: 4692, total reward: 200.0, average_reward: 200.0, length: 199\n",
      "episode: 4693, total reward: 200.0, average_reward: 200.0, length: 199\n",
      "episode: 4694, total reward: 200.0, average_reward: 200.0, length: 199\n",
      "episode: 4695, total reward: 200.0, average_reward: 200.0, length: 199\n",
      "episode: 4696, total reward: 200.0, average_reward: 200.0, length: 199\n",
      "episode: 4697, total reward: 200.0, average_reward: 200.0, length: 199\n",
      "episode: 4698, total reward: 200.0, average_reward: 200.0, length: 199\n",
      "episode: 4699, total reward: 200.0, average_reward: 200.0, length: 199\n",
      "episode: 4700, total reward: 200.0, average_reward: 200.0, length: 199\n",
      "episode: 4701, total reward: 200.0, average_reward: 200.0, length: 199\n",
      "episode: 4702, total reward: 200.0, average_reward: 200.0, length: 199\n",
      "episode: 4703, total reward: 200.0, average_reward: 200.0, length: 199\n"
     ]
    },
    {
     "name": "stdout",
     "output_type": "stream",
     "text": [
      "episode: 4704, total reward: 200.0, average_reward: 200.0, length: 199\n",
      "episode: 4705, total reward: 200.0, average_reward: 200.0, length: 199\n",
      "episode: 4706, total reward: 200.0, average_reward: 200.0, length: 199\n",
      "episode: 4707, total reward: 200.0, average_reward: 200.0, length: 199\n",
      "episode: 4708, total reward: 200.0, average_reward: 200.0, length: 199\n",
      "episode: 4709, total reward: 200.0, average_reward: 200.0, length: 199\n",
      "episode: 4710, total reward: 198.0, average_reward: 199.8, length: 197\n",
      "episode: 4711, total reward: 200.0, average_reward: 199.8, length: 199\n",
      "episode: 4712, total reward: 200.0, average_reward: 199.8, length: 199\n",
      "episode: 4713, total reward: 200.0, average_reward: 199.8, length: 199\n",
      "episode: 4714, total reward: 200.0, average_reward: 199.8, length: 199\n",
      "episode: 4715, total reward: 200.0, average_reward: 199.8, length: 199\n",
      "episode: 4716, total reward: 200.0, average_reward: 199.8, length: 199\n",
      "episode: 4717, total reward: 200.0, average_reward: 199.8, length: 199\n",
      "episode: 4718, total reward: 166.0, average_reward: 196.4, length: 165\n",
      "episode: 4719, total reward: 200.0, average_reward: 196.4, length: 199\n",
      "episode: 4720, total reward: 200.0, average_reward: 196.6, length: 199\n",
      "episode: 4721, total reward: 200.0, average_reward: 196.6, length: 199\n",
      "episode: 4722, total reward: 200.0, average_reward: 196.6, length: 199\n",
      "episode: 4723, total reward: 200.0, average_reward: 196.6, length: 199\n",
      "episode: 4724, total reward: 200.0, average_reward: 196.6, length: 199\n",
      "episode: 4725, total reward: 200.0, average_reward: 196.6, length: 199\n",
      "episode: 4726, total reward: 200.0, average_reward: 196.6, length: 199\n",
      "episode: 4727, total reward: 200.0, average_reward: 196.6, length: 199\n",
      "episode: 4728, total reward: 200.0, average_reward: 200.0, length: 199\n",
      "episode: 4729, total reward: 200.0, average_reward: 200.0, length: 199\n",
      "episode: 4730, total reward: 200.0, average_reward: 200.0, length: 199\n",
      "episode: 4731, total reward: 200.0, average_reward: 200.0, length: 199\n",
      "episode: 4732, total reward: 200.0, average_reward: 200.0, length: 199\n",
      "episode: 4733, total reward: 200.0, average_reward: 200.0, length: 199\n",
      "episode: 4734, total reward: 200.0, average_reward: 200.0, length: 199\n",
      "episode: 4735, total reward: 200.0, average_reward: 200.0, length: 199\n",
      "episode: 4736, total reward: 200.0, average_reward: 200.0, length: 199\n",
      "episode: 4737, total reward: 200.0, average_reward: 200.0, length: 199\n",
      "episode: 4738, total reward: 200.0, average_reward: 200.0, length: 199\n",
      "episode: 4739, total reward: 200.0, average_reward: 200.0, length: 199\n",
      "episode: 4740, total reward: 200.0, average_reward: 200.0, length: 199\n",
      "episode: 4741, total reward: 200.0, average_reward: 200.0, length: 199\n",
      "episode: 4742, total reward: 200.0, average_reward: 200.0, length: 199\n",
      "episode: 4743, total reward: 200.0, average_reward: 200.0, length: 199\n",
      "episode: 4744, total reward: 200.0, average_reward: 200.0, length: 199\n",
      "episode: 4745, total reward: 200.0, average_reward: 200.0, length: 199\n",
      "episode: 4746, total reward: 101.0, average_reward: 190.1, length: 100\n",
      "episode: 4747, total reward: 200.0, average_reward: 190.1, length: 199\n",
      "episode: 4748, total reward: 200.0, average_reward: 190.1, length: 199\n",
      "episode: 4749, total reward: 200.0, average_reward: 190.1, length: 199\n",
      "episode: 4750, total reward: 200.0, average_reward: 190.1, length: 199\n",
      "episode: 4751, total reward: 200.0, average_reward: 190.1, length: 199\n",
      "episode: 4752, total reward: 200.0, average_reward: 190.1, length: 199\n",
      "episode: 4753, total reward: 200.0, average_reward: 190.1, length: 199\n",
      "episode: 4754, total reward: 200.0, average_reward: 190.1, length: 199\n",
      "episode: 4755, total reward: 200.0, average_reward: 190.1, length: 199\n",
      "episode: 4756, total reward: 200.0, average_reward: 200.0, length: 199\n",
      "episode: 4757, total reward: 200.0, average_reward: 200.0, length: 199\n",
      "episode: 4758, total reward: 200.0, average_reward: 200.0, length: 199\n",
      "episode: 4759, total reward: 200.0, average_reward: 200.0, length: 199\n",
      "episode: 4760, total reward: 200.0, average_reward: 200.0, length: 199\n",
      "episode: 4761, total reward: 200.0, average_reward: 200.0, length: 199\n",
      "episode: 4762, total reward: 200.0, average_reward: 200.0, length: 199\n",
      "episode: 4763, total reward: 165.0, average_reward: 196.5, length: 164\n",
      "episode: 4764, total reward: 200.0, average_reward: 196.5, length: 199\n",
      "episode: 4765, total reward: 200.0, average_reward: 196.5, length: 199\n",
      "episode: 4766, total reward: 200.0, average_reward: 196.5, length: 199\n",
      "episode: 4767, total reward: 200.0, average_reward: 196.5, length: 199\n",
      "episode: 4768, total reward: 200.0, average_reward: 196.5, length: 199\n",
      "episode: 4769, total reward: 200.0, average_reward: 196.5, length: 199\n",
      "episode: 4770, total reward: 200.0, average_reward: 196.5, length: 199\n",
      "episode: 4771, total reward: 200.0, average_reward: 196.5, length: 199\n",
      "episode: 4772, total reward: 200.0, average_reward: 196.5, length: 199\n",
      "episode: 4773, total reward: 200.0, average_reward: 200.0, length: 199\n",
      "episode: 4774, total reward: 200.0, average_reward: 200.0, length: 199\n",
      "episode: 4775, total reward: 200.0, average_reward: 200.0, length: 199\n",
      "episode: 4776, total reward: 200.0, average_reward: 200.0, length: 199\n",
      "episode: 4777, total reward: 200.0, average_reward: 200.0, length: 199\n",
      "episode: 4778, total reward: 177.0, average_reward: 197.7, length: 176\n",
      "episode: 4779, total reward: 200.0, average_reward: 197.7, length: 199\n",
      "episode: 4780, total reward: 200.0, average_reward: 197.7, length: 199\n",
      "episode: 4781, total reward: 200.0, average_reward: 197.7, length: 199\n",
      "episode: 4782, total reward: 200.0, average_reward: 197.7, length: 199\n",
      "episode: 4783, total reward: 200.0, average_reward: 197.7, length: 199\n",
      "episode: 4784, total reward: 182.0, average_reward: 195.9, length: 181\n",
      "episode: 4785, total reward: 200.0, average_reward: 195.9, length: 199\n",
      "episode: 4786, total reward: 200.0, average_reward: 195.9, length: 199\n",
      "episode: 4787, total reward: 200.0, average_reward: 195.9, length: 199\n",
      "episode: 4788, total reward: 200.0, average_reward: 198.2, length: 199\n",
      "episode: 4789, total reward: 200.0, average_reward: 198.2, length: 199\n",
      "episode: 4790, total reward: 200.0, average_reward: 198.2, length: 199\n",
      "episode: 4791, total reward: 200.0, average_reward: 198.2, length: 199\n",
      "episode: 4792, total reward: 200.0, average_reward: 198.2, length: 199\n",
      "episode: 4793, total reward: 200.0, average_reward: 198.2, length: 199\n",
      "episode: 4794, total reward: 200.0, average_reward: 200.0, length: 199\n",
      "episode: 4795, total reward: 200.0, average_reward: 200.0, length: 199\n",
      "episode: 4796, total reward: 200.0, average_reward: 200.0, length: 199\n",
      "episode: 4797, total reward: 200.0, average_reward: 200.0, length: 199\n",
      "episode: 4798, total reward: 200.0, average_reward: 200.0, length: 199\n",
      "episode: 4799, total reward: 200.0, average_reward: 200.0, length: 199\n",
      "episode: 4800, total reward: 200.0, average_reward: 200.0, length: 199\n",
      "episode: 4801, total reward: 200.0, average_reward: 200.0, length: 199\n",
      "episode: 4802, total reward: 200.0, average_reward: 200.0, length: 199\n",
      "episode: 4803, total reward: 200.0, average_reward: 200.0, length: 199\n",
      "episode: 4804, total reward: 200.0, average_reward: 200.0, length: 199\n",
      "episode: 4805, total reward: 200.0, average_reward: 200.0, length: 199\n",
      "episode: 4806, total reward: 200.0, average_reward: 200.0, length: 199\n",
      "episode: 4807, total reward: 200.0, average_reward: 200.0, length: 199\n",
      "episode: 4808, total reward: 200.0, average_reward: 200.0, length: 199\n",
      "episode: 4809, total reward: 200.0, average_reward: 200.0, length: 199\n",
      "episode: 4810, total reward: 200.0, average_reward: 200.0, length: 199\n",
      "episode: 4811, total reward: 200.0, average_reward: 200.0, length: 199\n",
      "episode: 4812, total reward: 200.0, average_reward: 200.0, length: 199\n",
      "episode: 4813, total reward: 200.0, average_reward: 200.0, length: 199\n",
      "episode: 4814, total reward: 200.0, average_reward: 200.0, length: 199\n",
      "episode: 4815, total reward: 200.0, average_reward: 200.0, length: 199\n",
      "episode: 4816, total reward: 200.0, average_reward: 200.0, length: 199\n",
      "episode: 4817, total reward: 200.0, average_reward: 200.0, length: 199\n",
      "episode: 4818, total reward: 200.0, average_reward: 200.0, length: 199\n",
      "episode: 4819, total reward: 200.0, average_reward: 200.0, length: 199\n",
      "episode: 4820, total reward: 200.0, average_reward: 200.0, length: 199\n"
     ]
    },
    {
     "name": "stdout",
     "output_type": "stream",
     "text": [
      "episode: 4821, total reward: 200.0, average_reward: 200.0, length: 199\n",
      "episode: 4822, total reward: 200.0, average_reward: 200.0, length: 199\n",
      "episode: 4823, total reward: 200.0, average_reward: 200.0, length: 199\n",
      "episode: 4824, total reward: 200.0, average_reward: 200.0, length: 199\n",
      "episode: 4825, total reward: 200.0, average_reward: 200.0, length: 199\n",
      "episode: 4826, total reward: 200.0, average_reward: 200.0, length: 199\n",
      "episode: 4827, total reward: 186.0, average_reward: 198.6, length: 185\n",
      "episode: 4828, total reward: 200.0, average_reward: 198.6, length: 199\n",
      "episode: 4829, total reward: 200.0, average_reward: 198.6, length: 199\n",
      "episode: 4830, total reward: 200.0, average_reward: 198.6, length: 199\n",
      "episode: 4831, total reward: 200.0, average_reward: 198.6, length: 199\n",
      "episode: 4832, total reward: 200.0, average_reward: 198.6, length: 199\n",
      "episode: 4833, total reward: 200.0, average_reward: 198.6, length: 199\n",
      "episode: 4834, total reward: 200.0, average_reward: 198.6, length: 199\n",
      "episode: 4835, total reward: 200.0, average_reward: 198.6, length: 199\n",
      "episode: 4836, total reward: 200.0, average_reward: 198.6, length: 199\n",
      "episode: 4837, total reward: 200.0, average_reward: 200.0, length: 199\n",
      "episode: 4838, total reward: 200.0, average_reward: 200.0, length: 199\n",
      "episode: 4839, total reward: 200.0, average_reward: 200.0, length: 199\n",
      "episode: 4840, total reward: 200.0, average_reward: 200.0, length: 199\n",
      "episode: 4841, total reward: 200.0, average_reward: 200.0, length: 199\n",
      "episode: 4842, total reward: 200.0, average_reward: 200.0, length: 199\n",
      "episode: 4843, total reward: 200.0, average_reward: 200.0, length: 199\n",
      "episode: 4844, total reward: 200.0, average_reward: 200.0, length: 199\n",
      "episode: 4845, total reward: 200.0, average_reward: 200.0, length: 199\n",
      "episode: 4846, total reward: 200.0, average_reward: 200.0, length: 199\n",
      "episode: 4847, total reward: 200.0, average_reward: 200.0, length: 199\n",
      "episode: 4848, total reward: 200.0, average_reward: 200.0, length: 199\n",
      "episode: 4849, total reward: 200.0, average_reward: 200.0, length: 199\n",
      "episode: 4850, total reward: 200.0, average_reward: 200.0, length: 199\n",
      "episode: 4851, total reward: 200.0, average_reward: 200.0, length: 199\n",
      "episode: 4852, total reward: 200.0, average_reward: 200.0, length: 199\n",
      "episode: 4853, total reward: 200.0, average_reward: 200.0, length: 199\n",
      "episode: 4854, total reward: 200.0, average_reward: 200.0, length: 199\n",
      "episode: 4855, total reward: 200.0, average_reward: 200.0, length: 199\n",
      "episode: 4856, total reward: 200.0, average_reward: 200.0, length: 199\n",
      "episode: 4857, total reward: 200.0, average_reward: 200.0, length: 199\n",
      "episode: 4858, total reward: 200.0, average_reward: 200.0, length: 199\n",
      "episode: 4859, total reward: 200.0, average_reward: 200.0, length: 199\n",
      "episode: 4860, total reward: 200.0, average_reward: 200.0, length: 199\n",
      "episode: 4861, total reward: 200.0, average_reward: 200.0, length: 199\n",
      "episode: 4862, total reward: 200.0, average_reward: 200.0, length: 199\n",
      "episode: 4863, total reward: 200.0, average_reward: 200.0, length: 199\n",
      "episode: 4864, total reward: 200.0, average_reward: 200.0, length: 199\n",
      "episode: 4865, total reward: 200.0, average_reward: 200.0, length: 199\n",
      "episode: 4866, total reward: 200.0, average_reward: 200.0, length: 199\n",
      "episode: 4867, total reward: 200.0, average_reward: 200.0, length: 199\n",
      "episode: 4868, total reward: 200.0, average_reward: 200.0, length: 199\n",
      "episode: 4869, total reward: 200.0, average_reward: 200.0, length: 199\n",
      "episode: 4870, total reward: 200.0, average_reward: 200.0, length: 199\n",
      "episode: 4871, total reward: 200.0, average_reward: 200.0, length: 199\n",
      "episode: 4872, total reward: 200.0, average_reward: 200.0, length: 199\n",
      "episode: 4873, total reward: 200.0, average_reward: 200.0, length: 199\n",
      "episode: 4874, total reward: 200.0, average_reward: 200.0, length: 199\n",
      "episode: 4875, total reward: 200.0, average_reward: 200.0, length: 199\n",
      "episode: 4876, total reward: 200.0, average_reward: 200.0, length: 199\n",
      "episode: 4877, total reward: 200.0, average_reward: 200.0, length: 199\n",
      "episode: 4878, total reward: 200.0, average_reward: 200.0, length: 199\n",
      "episode: 4879, total reward: 200.0, average_reward: 200.0, length: 199\n",
      "episode: 4880, total reward: 200.0, average_reward: 200.0, length: 199\n",
      "episode: 4881, total reward: 200.0, average_reward: 200.0, length: 199\n",
      "episode: 4882, total reward: 200.0, average_reward: 200.0, length: 199\n",
      "episode: 4883, total reward: 200.0, average_reward: 200.0, length: 199\n",
      "episode: 4884, total reward: 200.0, average_reward: 200.0, length: 199\n",
      "episode: 4885, total reward: 200.0, average_reward: 200.0, length: 199\n",
      "episode: 4886, total reward: 200.0, average_reward: 200.0, length: 199\n",
      "episode: 4887, total reward: 200.0, average_reward: 200.0, length: 199\n",
      "episode: 4888, total reward: 200.0, average_reward: 200.0, length: 199\n",
      "episode: 4889, total reward: 200.0, average_reward: 200.0, length: 199\n",
      "episode: 4890, total reward: 200.0, average_reward: 200.0, length: 199\n",
      "episode: 4891, total reward: 200.0, average_reward: 200.0, length: 199\n",
      "episode: 4892, total reward: 200.0, average_reward: 200.0, length: 199\n",
      "episode: 4893, total reward: 200.0, average_reward: 200.0, length: 199\n",
      "episode: 4894, total reward: 200.0, average_reward: 200.0, length: 199\n",
      "episode: 4895, total reward: 200.0, average_reward: 200.0, length: 199\n",
      "episode: 4896, total reward: 200.0, average_reward: 200.0, length: 199\n",
      "episode: 4897, total reward: 200.0, average_reward: 200.0, length: 199\n",
      "episode: 4898, total reward: 200.0, average_reward: 200.0, length: 199\n",
      "episode: 4899, total reward: 200.0, average_reward: 200.0, length: 199\n",
      "episode: 4900, total reward: 200.0, average_reward: 200.0, length: 199\n",
      "episode: 4901, total reward: 200.0, average_reward: 200.0, length: 199\n",
      "episode: 4902, total reward: 200.0, average_reward: 200.0, length: 199\n",
      "episode: 4903, total reward: 200.0, average_reward: 200.0, length: 199\n",
      "episode: 4904, total reward: 200.0, average_reward: 200.0, length: 199\n",
      "episode: 4905, total reward: 200.0, average_reward: 200.0, length: 199\n",
      "episode: 4906, total reward: 200.0, average_reward: 200.0, length: 199\n",
      "episode: 4907, total reward: 200.0, average_reward: 200.0, length: 199\n",
      "episode: 4908, total reward: 200.0, average_reward: 200.0, length: 199\n",
      "episode: 4909, total reward: 200.0, average_reward: 200.0, length: 199\n",
      "episode: 4910, total reward: 200.0, average_reward: 200.0, length: 199\n",
      "episode: 4911, total reward: 200.0, average_reward: 200.0, length: 199\n",
      "episode: 4912, total reward: 200.0, average_reward: 200.0, length: 199\n",
      "episode: 4913, total reward: 200.0, average_reward: 200.0, length: 199\n",
      "episode: 4914, total reward: 200.0, average_reward: 200.0, length: 199\n",
      "episode: 4915, total reward: 200.0, average_reward: 200.0, length: 199\n",
      "episode: 4916, total reward: 200.0, average_reward: 200.0, length: 199\n",
      "episode: 4917, total reward: 200.0, average_reward: 200.0, length: 199\n",
      "episode: 4918, total reward: 200.0, average_reward: 200.0, length: 199\n",
      "episode: 4919, total reward: 200.0, average_reward: 200.0, length: 199\n",
      "episode: 4920, total reward: 164.0, average_reward: 196.4, length: 163\n",
      "episode: 4921, total reward: 200.0, average_reward: 196.4, length: 199\n",
      "episode: 4922, total reward: 200.0, average_reward: 196.4, length: 199\n",
      "episode: 4923, total reward: 200.0, average_reward: 196.4, length: 199\n",
      "episode: 4924, total reward: 200.0, average_reward: 196.4, length: 199\n",
      "episode: 4925, total reward: 200.0, average_reward: 196.4, length: 199\n",
      "episode: 4926, total reward: 200.0, average_reward: 196.4, length: 199\n",
      "episode: 4927, total reward: 200.0, average_reward: 196.4, length: 199\n",
      "episode: 4928, total reward: 200.0, average_reward: 196.4, length: 199\n",
      "episode: 4929, total reward: 200.0, average_reward: 196.4, length: 199\n",
      "episode: 4930, total reward: 200.0, average_reward: 200.0, length: 199\n",
      "episode: 4931, total reward: 200.0, average_reward: 200.0, length: 199\n",
      "episode: 4932, total reward: 200.0, average_reward: 200.0, length: 199\n",
      "episode: 4933, total reward: 200.0, average_reward: 200.0, length: 199\n",
      "episode: 4934, total reward: 200.0, average_reward: 200.0, length: 199\n",
      "episode: 4935, total reward: 200.0, average_reward: 200.0, length: 199\n",
      "episode: 4936, total reward: 200.0, average_reward: 200.0, length: 199\n"
     ]
    },
    {
     "name": "stdout",
     "output_type": "stream",
     "text": [
      "episode: 4937, total reward: 200.0, average_reward: 200.0, length: 199\n",
      "episode: 4938, total reward: 200.0, average_reward: 200.0, length: 199\n",
      "episode: 4939, total reward: 200.0, average_reward: 200.0, length: 199\n",
      "episode: 4940, total reward: 200.0, average_reward: 200.0, length: 199\n",
      "episode: 4941, total reward: 200.0, average_reward: 200.0, length: 199\n",
      "episode: 4942, total reward: 200.0, average_reward: 200.0, length: 199\n",
      "episode: 4943, total reward: 200.0, average_reward: 200.0, length: 199\n",
      "episode: 4944, total reward: 200.0, average_reward: 200.0, length: 199\n",
      "episode: 4945, total reward: 200.0, average_reward: 200.0, length: 199\n",
      "episode: 4946, total reward: 200.0, average_reward: 200.0, length: 199\n",
      "episode: 4947, total reward: 200.0, average_reward: 200.0, length: 199\n",
      "episode: 4948, total reward: 200.0, average_reward: 200.0, length: 199\n",
      "episode: 4949, total reward: 200.0, average_reward: 200.0, length: 199\n",
      "episode: 4950, total reward: 166.0, average_reward: 196.6, length: 165\n",
      "episode: 4951, total reward: 200.0, average_reward: 196.6, length: 199\n",
      "episode: 4952, total reward: 200.0, average_reward: 196.6, length: 199\n",
      "episode: 4953, total reward: 200.0, average_reward: 196.6, length: 199\n",
      "episode: 4954, total reward: 200.0, average_reward: 196.6, length: 199\n",
      "episode: 4955, total reward: 109.0, average_reward: 187.5, length: 108\n",
      "episode: 4956, total reward: 200.0, average_reward: 187.5, length: 199\n",
      "episode: 4957, total reward: 200.0, average_reward: 187.5, length: 199\n",
      "episode: 4958, total reward: 200.0, average_reward: 187.5, length: 199\n",
      "episode: 4959, total reward: 200.0, average_reward: 187.5, length: 199\n",
      "episode: 4960, total reward: 200.0, average_reward: 190.9, length: 199\n",
      "episode: 4961, total reward: 200.0, average_reward: 190.9, length: 199\n",
      "episode: 4962, total reward: 200.0, average_reward: 190.9, length: 199\n",
      "episode: 4963, total reward: 200.0, average_reward: 190.9, length: 199\n",
      "episode: 4964, total reward: 200.0, average_reward: 190.9, length: 199\n",
      "episode: 4965, total reward: 177.0, average_reward: 197.7, length: 176\n",
      "episode: 4966, total reward: 200.0, average_reward: 197.7, length: 199\n",
      "episode: 4967, total reward: 200.0, average_reward: 197.7, length: 199\n",
      "episode: 4968, total reward: 200.0, average_reward: 197.7, length: 199\n",
      "episode: 4969, total reward: 200.0, average_reward: 197.7, length: 199\n",
      "episode: 4970, total reward: 200.0, average_reward: 197.7, length: 199\n",
      "episode: 4971, total reward: 187.0, average_reward: 196.4, length: 186\n",
      "episode: 4972, total reward: 200.0, average_reward: 196.4, length: 199\n",
      "episode: 4973, total reward: 200.0, average_reward: 196.4, length: 199\n",
      "episode: 4974, total reward: 200.0, average_reward: 196.4, length: 199\n",
      "episode: 4975, total reward: 200.0, average_reward: 198.7, length: 199\n",
      "episode: 4976, total reward: 200.0, average_reward: 198.7, length: 199\n",
      "episode: 4977, total reward: 200.0, average_reward: 198.7, length: 199\n",
      "episode: 4978, total reward: 200.0, average_reward: 198.7, length: 199\n",
      "episode: 4979, total reward: 200.0, average_reward: 198.7, length: 199\n",
      "episode: 4980, total reward: 200.0, average_reward: 198.7, length: 199\n",
      "episode: 4981, total reward: 200.0, average_reward: 200.0, length: 199\n",
      "episode: 4982, total reward: 200.0, average_reward: 200.0, length: 199\n",
      "episode: 4983, total reward: 200.0, average_reward: 200.0, length: 199\n",
      "episode: 4984, total reward: 147.0, average_reward: 194.7, length: 146\n",
      "episode: 4985, total reward: 200.0, average_reward: 194.7, length: 199\n",
      "episode: 4986, total reward: 200.0, average_reward: 194.7, length: 199\n",
      "episode: 4987, total reward: 200.0, average_reward: 194.7, length: 199\n",
      "episode: 4988, total reward: 200.0, average_reward: 194.7, length: 199\n",
      "episode: 4989, total reward: 200.0, average_reward: 194.7, length: 199\n",
      "episode: 4990, total reward: 200.0, average_reward: 194.7, length: 199\n",
      "episode: 4991, total reward: 200.0, average_reward: 194.7, length: 199\n",
      "episode: 4992, total reward: 200.0, average_reward: 194.7, length: 199\n",
      "episode: 4993, total reward: 200.0, average_reward: 194.7, length: 199\n",
      "episode: 4994, total reward: 175.0, average_reward: 197.5, length: 174\n",
      "episode: 4995, total reward: 200.0, average_reward: 197.5, length: 199\n",
      "episode: 4996, total reward: 200.0, average_reward: 197.5, length: 199\n",
      "episode: 4997, total reward: 200.0, average_reward: 197.5, length: 199\n",
      "episode: 4998, total reward: 189.0, average_reward: 196.4, length: 188\n",
      "episode: 4999, total reward: 200.0, average_reward: 196.4, length: 199\n"
     ]
    },
    {
     "data": {
      "image/png": "[encoded data removed]",
      "text/plain": [
       "<Figure size 432x288 with 1 Axes>"
      ]
     },
     "metadata": {
      "image/png": {
       "height": 263,
       "width": 377
      },
      "needs_background": "light"
     },
     "output_type": "display_data"
    }
   ],
   "source": [
    "net, rewards = main()"
   ]
  },
  {
   "cell_type": "code",
   "execution_count": null,
   "metadata": {},
   "outputs": [],
   "source": []
  },
  {
   "cell_type": "code",
   "execution_count": 2,
   "metadata": {
    "ExecuteTime": {
     "end_time": "2019-09-28T09:36:01.465429Z",
     "start_time": "2019-09-28T09:35:23.144107Z"
    }
   },
   "outputs": [
    {
     "data": {
      "text/plain": [
       "True"
      ]
     },
     "execution_count": 2,
     "metadata": {},
     "output_type": "execute_result"
    },
    {
     "data": {
      "text/plain": [
       "True"
      ]
     },
     "execution_count": 2,
     "metadata": {},
     "output_type": "execute_result"
    },
    {
     "data": {
      "text/plain": [
       "True"
      ]
     },
     "execution_count": 2,
     "metadata": {},
     "output_type": "execute_result"
    },
    {
     "data": {
      "text/plain": [
       "True"
      ]
     },
     "execution_count": 2,
     "metadata": {},
     "output_type": "execute_result"
    },
    {
     "data": {
      "text/plain": [
       "True"
      ]
     },
     "execution_count": 2,
     "metadata": {},
     "output_type": "execute_result"
    },
    {
     "data": {
      "text/plain": [
       "True"
      ]
     },
     "execution_count": 2,
     "metadata": {},
     "output_type": "execute_result"
    },
    {
     "data": {
      "text/plain": [
       "True"
      ]
     },
     "execution_count": 2,
     "metadata": {},
     "output_type": "execute_result"
    },
    {
     "data": {
      "text/plain": [
       "True"
      ]
     },
     "execution_count": 2,
     "metadata": {},
     "output_type": "execute_result"
    },
    {
     "data": {
      "text/plain": [
       "True"
      ]
     },
     "execution_count": 2,
     "metadata": {},
     "output_type": "execute_result"
    },
    {
     "data": {
      "text/plain": [
       "True"
      ]
     },
     "execution_count": 2,
     "metadata": {},
     "output_type": "execute_result"
    },
    {
     "data": {
      "text/plain": [
       "True"
      ]
     },
     "execution_count": 2,
     "metadata": {},
     "output_type": "execute_result"
    },
    {
     "data": {
      "text/plain": [
       "True"
      ]
     },
     "execution_count": 2,
     "metadata": {},
     "output_type": "execute_result"
    },
    {
     "data": {
      "text/plain": [
       "True"
      ]
     },
     "execution_count": 2,
     "metadata": {},
     "output_type": "execute_result"
    },
    {
     "data": {
      "text/plain": [
       "True"
      ]
     },
     "execution_count": 2,
     "metadata": {},
     "output_type": "execute_result"
    },
    {
     "name": "stdout",
     "output_type": "stream",
     "text": [
      "Done\n"
     ]
    },
    {
     "data": {
      "text/plain": [
       "True"
      ]
     },
     "execution_count": 2,
     "metadata": {},
     "output_type": "execute_result"
    },
    {
     "data": {
      "text/plain": [
       "True"
      ]
     },
     "execution_count": 2,
     "metadata": {},
     "output_type": "execute_result"
    },
    {
     "data": {
      "text/plain": [
       "True"
      ]
     },
     "execution_count": 2,
     "metadata": {},
     "output_type": "execute_result"
    },
    {
     "data": {
      "text/plain": [
       "True"
      ]
     },
     "execution_count": 2,
     "metadata": {},
     "output_type": "execute_result"
    },
    {
     "data": {
      "text/plain": [
       "True"
      ]
     },
     "execution_count": 2,
     "metadata": {},
     "output_type": "execute_result"
    },
    {
     "data": {
      "text/plain": [
       "True"
      ]
     },
     "execution_count": 2,
     "metadata": {},
     "output_type": "execute_result"
    },
    {
     "data": {
      "text/plain": [
       "True"
      ]
     },
     "execution_count": 2,
     "metadata": {},
     "output_type": "execute_result"
    },
    {
     "data": {
      "text/plain": [
       "True"
      ]
     },
     "execution_count": 2,
     "metadata": {},
     "output_type": "execute_result"
    },
    {
     "data": {
      "text/plain": [
       "True"
      ]
     },
     "execution_count": 2,
     "metadata": {},
     "output_type": "execute_result"
    },
    {
     "data": {
      "text/plain": [
       "True"
      ]
     },
     "execution_count": 2,
     "metadata": {},
     "output_type": "execute_result"
    },
    {
     "data": {
      "text/plain": [
       "True"
      ]
     },
     "execution_count": 2,
     "metadata": {},
     "output_type": "execute_result"
    },
    {
     "data": {
      "text/plain": [
       "True"
      ]
     },
     "execution_count": 2,
     "metadata": {},
     "output_type": "execute_result"
    },
    {
     "data": {
      "text/plain": [
       "True"
      ]
     },
     "execution_count": 2,
     "metadata": {},
     "output_type": "execute_result"
    },
    {
     "data": {
      "text/plain": [
       "True"
      ]
     },
     "execution_count": 2,
     "metadata": {},
     "output_type": "execute_result"
    },
    {
     "data": {
      "text/plain": [
       "True"
      ]
     },
     "execution_count": 2,
     "metadata": {},
     "output_type": "execute_result"
    },
    {
     "data": {
      "text/plain": [
       "True"
      ]
     },
     "execution_count": 2,
     "metadata": {},
     "output_type": "execute_result"
    },
    {
     "data": {
      "text/plain": [
       "True"
      ]
     },
     "execution_count": 2,
     "metadata": {},
     "output_type": "execute_result"
    },
    {
     "data": {
      "text/plain": [
       "True"
      ]
     },
     "execution_count": 2,
     "metadata": {},
     "output_type": "execute_result"
    },
    {
     "data": {
      "text/plain": [
       "True"
      ]
     },
     "execution_count": 2,
     "metadata": {},
     "output_type": "execute_result"
    },
    {
     "data": {
      "text/plain": [
       "True"
      ]
     },
     "execution_count": 2,
     "metadata": {},
     "output_type": "execute_result"
    },
    {
     "data": {
      "text/plain": [
       "True"
      ]
     },
     "execution_count": 2,
     "metadata": {},
     "output_type": "execute_result"
    },
    {
     "name": "stdout",
     "output_type": "stream",
     "text": [
      "Done\n"
     ]
    },
    {
     "data": {
      "text/plain": [
       "True"
      ]
     },
     "execution_count": 2,
     "metadata": {},
     "output_type": "execute_result"
    },
    {
     "data": {
      "text/plain": [
       "True"
      ]
     },
     "execution_count": 2,
     "metadata": {},
     "output_type": "execute_result"
    },
    {
     "data": {
      "text/plain": [
       "True"
      ]
     },
     "execution_count": 2,
     "metadata": {},
     "output_type": "execute_result"
    },
    {
     "data": {
      "text/plain": [
       "True"
      ]
     },
     "execution_count": 2,
     "metadata": {},
     "output_type": "execute_result"
    },
    {
     "data": {
      "text/plain": [
       "True"
      ]
     },
     "execution_count": 2,
     "metadata": {},
     "output_type": "execute_result"
    },
    {
     "data": {
      "text/plain": [
       "True"
      ]
     },
     "execution_count": 2,
     "metadata": {},
     "output_type": "execute_result"
    },
    {
     "data": {
      "text/plain": [
       "True"
      ]
     },
     "execution_count": 2,
     "metadata": {},
     "output_type": "execute_result"
    },
    {
     "data": {
      "text/plain": [
       "True"
      ]
     },
     "execution_count": 2,
     "metadata": {},
     "output_type": "execute_result"
    },
    {
     "data": {
      "text/plain": [
       "True"
      ]
     },
     "execution_count": 2,
     "metadata": {},
     "output_type": "execute_result"
    },
    {
     "data": {
      "text/plain": [
       "True"
      ]
     },
     "execution_count": 2,
     "metadata": {},
     "output_type": "execute_result"
    },
    {
     "data": {
      "text/plain": [
       "True"
      ]
     },
     "execution_count": 2,
     "metadata": {},
     "output_type": "execute_result"
    },
    {
     "data": {
      "text/plain": [
       "True"
      ]
     },
     "execution_count": 2,
     "metadata": {},
     "output_type": "execute_result"
    },
    {
     "data": {
      "text/plain": [
       "True"
      ]
     },
     "execution_count": 2,
     "metadata": {},
     "output_type": "execute_result"
    },
    {
     "data": {
      "text/plain": [
       "True"
      ]
     },
     "execution_count": 2,
     "metadata": {},
     "output_type": "execute_result"
    },
    {
     "data": {
      "text/plain": [
       "True"
      ]
     },
     "execution_count": 2,
     "metadata": {},
     "output_type": "execute_result"
    },
    {
     "data": {
      "text/plain": [
       "True"
      ]
     },
     "execution_count": 2,
     "metadata": {},
     "output_type": "execute_result"
    },
    {
     "data": {
      "text/plain": [
       "True"
      ]
     },
     "execution_count": 2,
     "metadata": {},
     "output_type": "execute_result"
    },
    {
     "data": {
      "text/plain": [
       "True"
      ]
     },
     "execution_count": 2,
     "metadata": {},
     "output_type": "execute_result"
    },
    {
     "data": {
      "text/plain": [
       "True"
      ]
     },
     "execution_count": 2,
     "metadata": {},
     "output_type": "execute_result"
    },
    {
     "data": {
      "text/plain": [
       "True"
      ]
     },
     "execution_count": 2,
     "metadata": {},
     "output_type": "execute_result"
    },
    {
     "data": {
      "text/plain": [
       "True"
      ]
     },
     "execution_count": 2,
     "metadata": {},
     "output_type": "execute_result"
    },
    {
     "data": {
      "text/plain": [
       "True"
      ]
     },
     "execution_count": 2,
     "metadata": {},
     "output_type": "execute_result"
    },
    {
     "name": "stdout",
     "output_type": "stream",
     "text": [
      "Done\n"
     ]
    },
    {
     "data": {
      "text/plain": [
       "True"
      ]
     },
     "execution_count": 2,
     "metadata": {},
     "output_type": "execute_result"
    },
    {
     "data": {
      "text/plain": [
       "True"
      ]
     },
     "execution_count": 2,
     "metadata": {},
     "output_type": "execute_result"
    },
    {
     "data": {
      "text/plain": [
       "True"
      ]
     },
     "execution_count": 2,
     "metadata": {},
     "output_type": "execute_result"
    },
    {
     "data": {
      "text/plain": [
       "True"
      ]
     },
     "execution_count": 2,
     "metadata": {},
     "output_type": "execute_result"
    },
    {
     "data": {
      "text/plain": [
       "True"
      ]
     },
     "execution_count": 2,
     "metadata": {},
     "output_type": "execute_result"
    },
    {
     "data": {
      "text/plain": [
       "True"
      ]
     },
     "execution_count": 2,
     "metadata": {},
     "output_type": "execute_result"
    },
    {
     "data": {
      "text/plain": [
       "True"
      ]
     },
     "execution_count": 2,
     "metadata": {},
     "output_type": "execute_result"
    },
    {
     "data": {
      "text/plain": [
       "True"
      ]
     },
     "execution_count": 2,
     "metadata": {},
     "output_type": "execute_result"
    },
    {
     "data": {
      "text/plain": [
       "True"
      ]
     },
     "execution_count": 2,
     "metadata": {},
     "output_type": "execute_result"
    },
    {
     "data": {
      "text/plain": [
       "True"
      ]
     },
     "execution_count": 2,
     "metadata": {},
     "output_type": "execute_result"
    },
    {
     "data": {
      "text/plain": [
       "True"
      ]
     },
     "execution_count": 2,
     "metadata": {},
     "output_type": "execute_result"
    },
    {
     "name": "stdout",
     "output_type": "stream",
     "text": [
      "Done\n"
     ]
    },
    {
     "data": {
      "text/plain": [
       "True"
      ]
     },
     "execution_count": 2,
     "metadata": {},
     "output_type": "execute_result"
    },
    {
     "data": {
      "text/plain": [
       "True"
      ]
     },
     "execution_count": 2,
     "metadata": {},
     "output_type": "execute_result"
    },
    {
     "data": {
      "text/plain": [
       "True"
      ]
     },
     "execution_count": 2,
     "metadata": {},
     "output_type": "execute_result"
    },
    {
     "data": {
      "text/plain": [
       "True"
      ]
     },
     "execution_count": 2,
     "metadata": {},
     "output_type": "execute_result"
    },
    {
     "data": {
      "text/plain": [
       "True"
      ]
     },
     "execution_count": 2,
     "metadata": {},
     "output_type": "execute_result"
    },
    {
     "data": {
      "text/plain": [
       "True"
      ]
     },
     "execution_count": 2,
     "metadata": {},
     "output_type": "execute_result"
    },
    {
     "data": {
      "text/plain": [
       "True"
      ]
     },
     "execution_count": 2,
     "metadata": {},
     "output_type": "execute_result"
    },
    {
     "data": {
      "text/plain": [
       "True"
      ]
     },
     "execution_count": 2,
     "metadata": {},
     "output_type": "execute_result"
    },
    {
     "data": {
      "text/plain": [
       "True"
      ]
     },
     "execution_count": 2,
     "metadata": {},
     "output_type": "execute_result"
    },
    {
     "data": {
      "text/plain": [
       "True"
      ]
     },
     "execution_count": 2,
     "metadata": {},
     "output_type": "execute_result"
    },
    {
     "data": {
      "text/plain": [
       "True"
      ]
     },
     "execution_count": 2,
     "metadata": {},
     "output_type": "execute_result"
    },
    {
     "data": {
      "text/plain": [
       "True"
      ]
     },
     "execution_count": 2,
     "metadata": {},
     "output_type": "execute_result"
    },
    {
     "data": {
      "text/plain": [
       "True"
      ]
     },
     "execution_count": 2,
     "metadata": {},
     "output_type": "execute_result"
    },
    {
     "data": {
      "text/plain": [
       "True"
      ]
     },
     "execution_count": 2,
     "metadata": {},
     "output_type": "execute_result"
    },
    {
     "data": {
      "text/plain": [
       "True"
      ]
     },
     "execution_count": 2,
     "metadata": {},
     "output_type": "execute_result"
    },
    {
     "data": {
      "text/plain": [
       "True"
      ]
     },
     "execution_count": 2,
     "metadata": {},
     "output_type": "execute_result"
    },
    {
     "data": {
      "text/plain": [
       "True"
      ]
     },
     "execution_count": 2,
     "metadata": {},
     "output_type": "execute_result"
    },
    {
     "data": {
      "text/plain": [
       "True"
      ]
     },
     "execution_count": 2,
     "metadata": {},
     "output_type": "execute_result"
    },
    {
     "data": {
      "text/plain": [
       "True"
      ]
     },
     "execution_count": 2,
     "metadata": {},
     "output_type": "execute_result"
    },
    {
     "data": {
      "text/plain": [
       "True"
      ]
     },
     "execution_count": 2,
     "metadata": {},
     "output_type": "execute_result"
    },
    {
     "data": {
      "text/plain": [
       "True"
      ]
     },
     "execution_count": 2,
     "metadata": {},
     "output_type": "execute_result"
    },
    {
     "data": {
      "text/plain": [
       "True"
      ]
     },
     "execution_count": 2,
     "metadata": {},
     "output_type": "execute_result"
    },
    {
     "data": {
      "text/plain": [
       "True"
      ]
     },
     "execution_count": 2,
     "metadata": {},
     "output_type": "execute_result"
    },
    {
     "data": {
      "text/plain": [
       "True"
      ]
     },
     "execution_count": 2,
     "metadata": {},
     "output_type": "execute_result"
    },
    {
     "data": {
      "text/plain": [
       "True"
      ]
     },
     "execution_count": 2,
     "metadata": {},
     "output_type": "execute_result"
    },
    {
     "data": {
      "text/plain": [
       "True"
      ]
     },
     "execution_count": 2,
     "metadata": {},
     "output_type": "execute_result"
    },
    {
     "data": {
      "text/plain": [
       "True"
      ]
     },
     "execution_count": 2,
     "metadata": {},
     "output_type": "execute_result"
    },
    {
     "data": {
      "text/plain": [
       "True"
      ]
     },
     "execution_count": 2,
     "metadata": {},
     "output_type": "execute_result"
    },
    {
     "data": {
      "text/plain": [
       "True"
      ]
     },
     "execution_count": 2,
     "metadata": {},
     "output_type": "execute_result"
    },
    {
     "data": {
      "text/plain": [
       "True"
      ]
     },
     "execution_count": 2,
     "metadata": {},
     "output_type": "execute_result"
    },
    {
     "data": {
      "text/plain": [
       "True"
      ]
     },
     "execution_count": 2,
     "metadata": {},
     "output_type": "execute_result"
    },
    {
     "data": {
      "text/plain": [
       "True"
      ]
     },
     "execution_count": 2,
     "metadata": {},
     "output_type": "execute_result"
    },
    {
     "data": {
      "text/plain": [
       "True"
      ]
     },
     "execution_count": 2,
     "metadata": {},
     "output_type": "execute_result"
    },
    {
     "data": {
      "text/plain": [
       "True"
      ]
     },
     "execution_count": 2,
     "metadata": {},
     "output_type": "execute_result"
    },
    {
     "name": "stdout",
     "output_type": "stream",
     "text": [
      "Done\n"
     ]
    },
    {
     "data": {
      "text/plain": [
       "True"
      ]
     },
     "execution_count": 2,
     "metadata": {},
     "output_type": "execute_result"
    },
    {
     "data": {
      "text/plain": [
       "True"
      ]
     },
     "execution_count": 2,
     "metadata": {},
     "output_type": "execute_result"
    },
    {
     "data": {
      "text/plain": [
       "True"
      ]
     },
     "execution_count": 2,
     "metadata": {},
     "output_type": "execute_result"
    },
    {
     "data": {
      "text/plain": [
       "True"
      ]
     },
     "execution_count": 2,
     "metadata": {},
     "output_type": "execute_result"
    },
    {
     "data": {
      "text/plain": [
       "True"
      ]
     },
     "execution_count": 2,
     "metadata": {},
     "output_type": "execute_result"
    },
    {
     "data": {
      "text/plain": [
       "True"
      ]
     },
     "execution_count": 2,
     "metadata": {},
     "output_type": "execute_result"
    },
    {
     "data": {
      "text/plain": [
       "True"
      ]
     },
     "execution_count": 2,
     "metadata": {},
     "output_type": "execute_result"
    },
    {
     "data": {
      "text/plain": [
       "True"
      ]
     },
     "execution_count": 2,
     "metadata": {},
     "output_type": "execute_result"
    },
    {
     "data": {
      "text/plain": [
       "True"
      ]
     },
     "execution_count": 2,
     "metadata": {},
     "output_type": "execute_result"
    },
    {
     "data": {
      "text/plain": [
       "True"
      ]
     },
     "execution_count": 2,
     "metadata": {},
     "output_type": "execute_result"
    },
    {
     "data": {
      "text/plain": [
       "True"
      ]
     },
     "execution_count": 2,
     "metadata": {},
     "output_type": "execute_result"
    },
    {
     "data": {
      "text/plain": [
       "True"
      ]
     },
     "execution_count": 2,
     "metadata": {},
     "output_type": "execute_result"
    },
    {
     "data": {
      "text/plain": [
       "True"
      ]
     },
     "execution_count": 2,
     "metadata": {},
     "output_type": "execute_result"
    },
    {
     "data": {
      "text/plain": [
       "True"
      ]
     },
     "execution_count": 2,
     "metadata": {},
     "output_type": "execute_result"
    },
    {
     "data": {
      "text/plain": [
       "True"
      ]
     },
     "execution_count": 2,
     "metadata": {},
     "output_type": "execute_result"
    },
    {
     "data": {
      "text/plain": [
       "True"
      ]
     },
     "execution_count": 2,
     "metadata": {},
     "output_type": "execute_result"
    },
    {
     "data": {
      "text/plain": [
       "True"
      ]
     },
     "execution_count": 2,
     "metadata": {},
     "output_type": "execute_result"
    },
    {
     "data": {
      "text/plain": [
       "True"
      ]
     },
     "execution_count": 2,
     "metadata": {},
     "output_type": "execute_result"
    },
    {
     "data": {
      "text/plain": [
       "True"
      ]
     },
     "execution_count": 2,
     "metadata": {},
     "output_type": "execute_result"
    },
    {
     "data": {
      "text/plain": [
       "True"
      ]
     },
     "execution_count": 2,
     "metadata": {},
     "output_type": "execute_result"
    },
    {
     "data": {
      "text/plain": [
       "True"
      ]
     },
     "execution_count": 2,
     "metadata": {},
     "output_type": "execute_result"
    },
    {
     "data": {
      "text/plain": [
       "True"
      ]
     },
     "execution_count": 2,
     "metadata": {},
     "output_type": "execute_result"
    },
    {
     "data": {
      "text/plain": [
       "True"
      ]
     },
     "execution_count": 2,
     "metadata": {},
     "output_type": "execute_result"
    },
    {
     "name": "stdout",
     "output_type": "stream",
     "text": [
      "Done\n"
     ]
    },
    {
     "data": {
      "text/plain": [
       "True"
      ]
     },
     "execution_count": 2,
     "metadata": {},
     "output_type": "execute_result"
    },
    {
     "data": {
      "text/plain": [
       "True"
      ]
     },
     "execution_count": 2,
     "metadata": {},
     "output_type": "execute_result"
    },
    {
     "data": {
      "text/plain": [
       "True"
      ]
     },
     "execution_count": 2,
     "metadata": {},
     "output_type": "execute_result"
    },
    {
     "data": {
      "text/plain": [
       "True"
      ]
     },
     "execution_count": 2,
     "metadata": {},
     "output_type": "execute_result"
    },
    {
     "data": {
      "text/plain": [
       "True"
      ]
     },
     "execution_count": 2,
     "metadata": {},
     "output_type": "execute_result"
    },
    {
     "data": {
      "text/plain": [
       "True"
      ]
     },
     "execution_count": 2,
     "metadata": {},
     "output_type": "execute_result"
    },
    {
     "data": {
      "text/plain": [
       "True"
      ]
     },
     "execution_count": 2,
     "metadata": {},
     "output_type": "execute_result"
    },
    {
     "data": {
      "text/plain": [
       "True"
      ]
     },
     "execution_count": 2,
     "metadata": {},
     "output_type": "execute_result"
    },
    {
     "data": {
      "text/plain": [
       "True"
      ]
     },
     "execution_count": 2,
     "metadata": {},
     "output_type": "execute_result"
    },
    {
     "data": {
      "text/plain": [
       "True"
      ]
     },
     "execution_count": 2,
     "metadata": {},
     "output_type": "execute_result"
    },
    {
     "data": {
      "text/plain": [
       "True"
      ]
     },
     "execution_count": 2,
     "metadata": {},
     "output_type": "execute_result"
    },
    {
     "data": {
      "text/plain": [
       "True"
      ]
     },
     "execution_count": 2,
     "metadata": {},
     "output_type": "execute_result"
    },
    {
     "data": {
      "text/plain": [
       "True"
      ]
     },
     "execution_count": 2,
     "metadata": {},
     "output_type": "execute_result"
    },
    {
     "data": {
      "text/plain": [
       "True"
      ]
     },
     "execution_count": 2,
     "metadata": {},
     "output_type": "execute_result"
    },
    {
     "data": {
      "text/plain": [
       "True"
      ]
     },
     "execution_count": 2,
     "metadata": {},
     "output_type": "execute_result"
    },
    {
     "data": {
      "text/plain": [
       "True"
      ]
     },
     "execution_count": 2,
     "metadata": {},
     "output_type": "execute_result"
    },
    {
     "data": {
      "text/plain": [
       "True"
      ]
     },
     "execution_count": 2,
     "metadata": {},
     "output_type": "execute_result"
    },
    {
     "data": {
      "text/plain": [
       "True"
      ]
     },
     "execution_count": 2,
     "metadata": {},
     "output_type": "execute_result"
    },
    {
     "data": {
      "text/plain": [
       "True"
      ]
     },
     "execution_count": 2,
     "metadata": {},
     "output_type": "execute_result"
    },
    {
     "data": {
      "text/plain": [
       "True"
      ]
     },
     "execution_count": 2,
     "metadata": {},
     "output_type": "execute_result"
    },
    {
     "data": {
      "text/plain": [
       "True"
      ]
     },
     "execution_count": 2,
     "metadata": {},
     "output_type": "execute_result"
    },
    {
     "data": {
      "text/plain": [
       "True"
      ]
     },
     "execution_count": 2,
     "metadata": {},
     "output_type": "execute_result"
    },
    {
     "name": "stdout",
     "output_type": "stream",
     "text": [
      "Done\n"
     ]
    },
    {
     "data": {
      "text/plain": [
       "True"
      ]
     },
     "execution_count": 2,
     "metadata": {},
     "output_type": "execute_result"
    },
    {
     "data": {
      "text/plain": [
       "True"
      ]
     },
     "execution_count": 2,
     "metadata": {},
     "output_type": "execute_result"
    },
    {
     "data": {
      "text/plain": [
       "True"
      ]
     },
     "execution_count": 2,
     "metadata": {},
     "output_type": "execute_result"
    },
    {
     "data": {
      "text/plain": [
       "True"
      ]
     },
     "execution_count": 2,
     "metadata": {},
     "output_type": "execute_result"
    },
    {
     "data": {
      "text/plain": [
       "True"
      ]
     },
     "execution_count": 2,
     "metadata": {},
     "output_type": "execute_result"
    },
    {
     "data": {
      "text/plain": [
       "True"
      ]
     },
     "execution_count": 2,
     "metadata": {},
     "output_type": "execute_result"
    },
    {
     "data": {
      "text/plain": [
       "True"
      ]
     },
     "execution_count": 2,
     "metadata": {},
     "output_type": "execute_result"
    },
    {
     "data": {
      "text/plain": [
       "True"
      ]
     },
     "execution_count": 2,
     "metadata": {},
     "output_type": "execute_result"
    },
    {
     "data": {
      "text/plain": [
       "True"
      ]
     },
     "execution_count": 2,
     "metadata": {},
     "output_type": "execute_result"
    },
    {
     "data": {
      "text/plain": [
       "True"
      ]
     },
     "execution_count": 2,
     "metadata": {},
     "output_type": "execute_result"
    },
    {
     "data": {
      "text/plain": [
       "True"
      ]
     },
     "execution_count": 2,
     "metadata": {},
     "output_type": "execute_result"
    },
    {
     "data": {
      "text/plain": [
       "True"
      ]
     },
     "execution_count": 2,
     "metadata": {},
     "output_type": "execute_result"
    },
    {
     "data": {
      "text/plain": [
       "True"
      ]
     },
     "execution_count": 2,
     "metadata": {},
     "output_type": "execute_result"
    },
    {
     "data": {
      "text/plain": [
       "True"
      ]
     },
     "execution_count": 2,
     "metadata": {},
     "output_type": "execute_result"
    },
    {
     "data": {
      "text/plain": [
       "True"
      ]
     },
     "execution_count": 2,
     "metadata": {},
     "output_type": "execute_result"
    },
    {
     "data": {
      "text/plain": [
       "True"
      ]
     },
     "execution_count": 2,
     "metadata": {},
     "output_type": "execute_result"
    },
    {
     "data": {
      "text/plain": [
       "True"
      ]
     },
     "execution_count": 2,
     "metadata": {},
     "output_type": "execute_result"
    },
    {
     "data": {
      "text/plain": [
       "True"
      ]
     },
     "execution_count": 2,
     "metadata": {},
     "output_type": "execute_result"
    },
    {
     "data": {
      "text/plain": [
       "True"
      ]
     },
     "execution_count": 2,
     "metadata": {},
     "output_type": "execute_result"
    },
    {
     "name": "stdout",
     "output_type": "stream",
     "text": [
      "Done\n"
     ]
    },
    {
     "data": {
      "text/plain": [
       "True"
      ]
     },
     "execution_count": 2,
     "metadata": {},
     "output_type": "execute_result"
    },
    {
     "data": {
      "text/plain": [
       "True"
      ]
     },
     "execution_count": 2,
     "metadata": {},
     "output_type": "execute_result"
    },
    {
     "data": {
      "text/plain": [
       "True"
      ]
     },
     "execution_count": 2,
     "metadata": {},
     "output_type": "execute_result"
    },
    {
     "data": {
      "text/plain": [
       "True"
      ]
     },
     "execution_count": 2,
     "metadata": {},
     "output_type": "execute_result"
    },
    {
     "data": {
      "text/plain": [
       "True"
      ]
     },
     "execution_count": 2,
     "metadata": {},
     "output_type": "execute_result"
    },
    {
     "data": {
      "text/plain": [
       "True"
      ]
     },
     "execution_count": 2,
     "metadata": {},
     "output_type": "execute_result"
    },
    {
     "data": {
      "text/plain": [
       "True"
      ]
     },
     "execution_count": 2,
     "metadata": {},
     "output_type": "execute_result"
    },
    {
     "data": {
      "text/plain": [
       "True"
      ]
     },
     "execution_count": 2,
     "metadata": {},
     "output_type": "execute_result"
    },
    {
     "data": {
      "text/plain": [
       "True"
      ]
     },
     "execution_count": 2,
     "metadata": {},
     "output_type": "execute_result"
    },
    {
     "data": {
      "text/plain": [
       "True"
      ]
     },
     "execution_count": 2,
     "metadata": {},
     "output_type": "execute_result"
    },
    {
     "data": {
      "text/plain": [
       "True"
      ]
     },
     "execution_count": 2,
     "metadata": {},
     "output_type": "execute_result"
    },
    {
     "data": {
      "text/plain": [
       "True"
      ]
     },
     "execution_count": 2,
     "metadata": {},
     "output_type": "execute_result"
    },
    {
     "name": "stdout",
     "output_type": "stream",
     "text": [
      "Done\n"
     ]
    },
    {
     "data": {
      "text/plain": [
       "True"
      ]
     },
     "execution_count": 2,
     "metadata": {},
     "output_type": "execute_result"
    },
    {
     "data": {
      "text/plain": [
       "True"
      ]
     },
     "execution_count": 2,
     "metadata": {},
     "output_type": "execute_result"
    },
    {
     "data": {
      "text/plain": [
       "True"
      ]
     },
     "execution_count": 2,
     "metadata": {},
     "output_type": "execute_result"
    },
    {
     "data": {
      "text/plain": [
       "True"
      ]
     },
     "execution_count": 2,
     "metadata": {},
     "output_type": "execute_result"
    },
    {
     "data": {
      "text/plain": [
       "True"
      ]
     },
     "execution_count": 2,
     "metadata": {},
     "output_type": "execute_result"
    },
    {
     "data": {
      "text/plain": [
       "True"
      ]
     },
     "execution_count": 2,
     "metadata": {},
     "output_type": "execute_result"
    },
    {
     "data": {
      "text/plain": [
       "True"
      ]
     },
     "execution_count": 2,
     "metadata": {},
     "output_type": "execute_result"
    },
    {
     "data": {
      "text/plain": [
       "True"
      ]
     },
     "execution_count": 2,
     "metadata": {},
     "output_type": "execute_result"
    },
    {
     "data": {
      "text/plain": [
       "True"
      ]
     },
     "execution_count": 2,
     "metadata": {},
     "output_type": "execute_result"
    },
    {
     "data": {
      "text/plain": [
       "True"
      ]
     },
     "execution_count": 2,
     "metadata": {},
     "output_type": "execute_result"
    },
    {
     "data": {
      "text/plain": [
       "True"
      ]
     },
     "execution_count": 2,
     "metadata": {},
     "output_type": "execute_result"
    },
    {
     "data": {
      "text/plain": [
       "True"
      ]
     },
     "execution_count": 2,
     "metadata": {},
     "output_type": "execute_result"
    },
    {
     "data": {
      "text/plain": [
       "True"
      ]
     },
     "execution_count": 2,
     "metadata": {},
     "output_type": "execute_result"
    },
    {
     "data": {
      "text/plain": [
       "True"
      ]
     },
     "execution_count": 2,
     "metadata": {},
     "output_type": "execute_result"
    },
    {
     "data": {
      "text/plain": [
       "True"
      ]
     },
     "execution_count": 2,
     "metadata": {},
     "output_type": "execute_result"
    },
    {
     "data": {
      "text/plain": [
       "True"
      ]
     },
     "execution_count": 2,
     "metadata": {},
     "output_type": "execute_result"
    },
    {
     "data": {
      "text/plain": [
       "True"
      ]
     },
     "execution_count": 2,
     "metadata": {},
     "output_type": "execute_result"
    },
    {
     "data": {
      "text/plain": [
       "True"
      ]
     },
     "execution_count": 2,
     "metadata": {},
     "output_type": "execute_result"
    },
    {
     "data": {
      "text/plain": [
       "True"
      ]
     },
     "execution_count": 2,
     "metadata": {},
     "output_type": "execute_result"
    },
    {
     "data": {
      "text/plain": [
       "True"
      ]
     },
     "execution_count": 2,
     "metadata": {},
     "output_type": "execute_result"
    },
    {
     "data": {
      "text/plain": [
       "True"
      ]
     },
     "execution_count": 2,
     "metadata": {},
     "output_type": "execute_result"
    },
    {
     "data": {
      "text/plain": [
       "True"
      ]
     },
     "execution_count": 2,
     "metadata": {},
     "output_type": "execute_result"
    },
    {
     "data": {
      "text/plain": [
       "True"
      ]
     },
     "execution_count": 2,
     "metadata": {},
     "output_type": "execute_result"
    },
    {
     "data": {
      "text/plain": [
       "True"
      ]
     },
     "execution_count": 2,
     "metadata": {},
     "output_type": "execute_result"
    },
    {
     "data": {
      "text/plain": [
       "True"
      ]
     },
     "execution_count": 2,
     "metadata": {},
     "output_type": "execute_result"
    },
    {
     "data": {
      "text/plain": [
       "True"
      ]
     },
     "execution_count": 2,
     "metadata": {},
     "output_type": "execute_result"
    },
    {
     "name": "stdout",
     "output_type": "stream",
     "text": [
      "Done\n"
     ]
    },
    {
     "data": {
      "text/plain": [
       "True"
      ]
     },
     "execution_count": 2,
     "metadata": {},
     "output_type": "execute_result"
    },
    {
     "data": {
      "text/plain": [
       "True"
      ]
     },
     "execution_count": 2,
     "metadata": {},
     "output_type": "execute_result"
    },
    {
     "data": {
      "text/plain": [
       "True"
      ]
     },
     "execution_count": 2,
     "metadata": {},
     "output_type": "execute_result"
    },
    {
     "data": {
      "text/plain": [
       "True"
      ]
     },
     "execution_count": 2,
     "metadata": {},
     "output_type": "execute_result"
    },
    {
     "data": {
      "text/plain": [
       "True"
      ]
     },
     "execution_count": 2,
     "metadata": {},
     "output_type": "execute_result"
    },
    {
     "data": {
      "text/plain": [
       "True"
      ]
     },
     "execution_count": 2,
     "metadata": {},
     "output_type": "execute_result"
    },
    {
     "data": {
      "text/plain": [
       "True"
      ]
     },
     "execution_count": 2,
     "metadata": {},
     "output_type": "execute_result"
    },
    {
     "data": {
      "text/plain": [
       "True"
      ]
     },
     "execution_count": 2,
     "metadata": {},
     "output_type": "execute_result"
    },
    {
     "data": {
      "text/plain": [
       "True"
      ]
     },
     "execution_count": 2,
     "metadata": {},
     "output_type": "execute_result"
    },
    {
     "data": {
      "text/plain": [
       "True"
      ]
     },
     "execution_count": 2,
     "metadata": {},
     "output_type": "execute_result"
    },
    {
     "data": {
      "text/plain": [
       "True"
      ]
     },
     "execution_count": 2,
     "metadata": {},
     "output_type": "execute_result"
    },
    {
     "data": {
      "text/plain": [
       "True"
      ]
     },
     "execution_count": 2,
     "metadata": {},
     "output_type": "execute_result"
    },
    {
     "name": "stdout",
     "output_type": "stream",
     "text": [
      "Done\n"
     ]
    },
    {
     "data": {
      "text/plain": [
       "True"
      ]
     },
     "execution_count": 2,
     "metadata": {},
     "output_type": "execute_result"
    },
    {
     "data": {
      "text/plain": [
       "True"
      ]
     },
     "execution_count": 2,
     "metadata": {},
     "output_type": "execute_result"
    },
    {
     "data": {
      "text/plain": [
       "True"
      ]
     },
     "execution_count": 2,
     "metadata": {},
     "output_type": "execute_result"
    },
    {
     "data": {
      "text/plain": [
       "True"
      ]
     },
     "execution_count": 2,
     "metadata": {},
     "output_type": "execute_result"
    },
    {
     "data": {
      "text/plain": [
       "True"
      ]
     },
     "execution_count": 2,
     "metadata": {},
     "output_type": "execute_result"
    },
    {
     "data": {
      "text/plain": [
       "True"
      ]
     },
     "execution_count": 2,
     "metadata": {},
     "output_type": "execute_result"
    },
    {
     "data": {
      "text/plain": [
       "True"
      ]
     },
     "execution_count": 2,
     "metadata": {},
     "output_type": "execute_result"
    },
    {
     "data": {
      "text/plain": [
       "True"
      ]
     },
     "execution_count": 2,
     "metadata": {},
     "output_type": "execute_result"
    },
    {
     "data": {
      "text/plain": [
       "True"
      ]
     },
     "execution_count": 2,
     "metadata": {},
     "output_type": "execute_result"
    },
    {
     "data": {
      "text/plain": [
       "True"
      ]
     },
     "execution_count": 2,
     "metadata": {},
     "output_type": "execute_result"
    },
    {
     "data": {
      "text/plain": [
       "True"
      ]
     },
     "execution_count": 2,
     "metadata": {},
     "output_type": "execute_result"
    },
    {
     "data": {
      "text/plain": [
       "True"
      ]
     },
     "execution_count": 2,
     "metadata": {},
     "output_type": "execute_result"
    },
    {
     "name": "stdout",
     "output_type": "stream",
     "text": [
      "Done\n"
     ]
    },
    {
     "data": {
      "text/plain": [
       "True"
      ]
     },
     "execution_count": 2,
     "metadata": {},
     "output_type": "execute_result"
    },
    {
     "data": {
      "text/plain": [
       "True"
      ]
     },
     "execution_count": 2,
     "metadata": {},
     "output_type": "execute_result"
    },
    {
     "data": {
      "text/plain": [
       "True"
      ]
     },
     "execution_count": 2,
     "metadata": {},
     "output_type": "execute_result"
    },
    {
     "data": {
      "text/plain": [
       "True"
      ]
     },
     "execution_count": 2,
     "metadata": {},
     "output_type": "execute_result"
    },
    {
     "data": {
      "text/plain": [
       "True"
      ]
     },
     "execution_count": 2,
     "metadata": {},
     "output_type": "execute_result"
    },
    {
     "data": {
      "text/plain": [
       "True"
      ]
     },
     "execution_count": 2,
     "metadata": {},
     "output_type": "execute_result"
    },
    {
     "data": {
      "text/plain": [
       "True"
      ]
     },
     "execution_count": 2,
     "metadata": {},
     "output_type": "execute_result"
    },
    {
     "data": {
      "text/plain": [
       "True"
      ]
     },
     "execution_count": 2,
     "metadata": {},
     "output_type": "execute_result"
    },
    {
     "data": {
      "text/plain": [
       "True"
      ]
     },
     "execution_count": 2,
     "metadata": {},
     "output_type": "execute_result"
    },
    {
     "data": {
      "text/plain": [
       "True"
      ]
     },
     "execution_count": 2,
     "metadata": {},
     "output_type": "execute_result"
    },
    {
     "data": {
      "text/plain": [
       "True"
      ]
     },
     "execution_count": 2,
     "metadata": {},
     "output_type": "execute_result"
    },
    {
     "data": {
      "text/plain": [
       "True"
      ]
     },
     "execution_count": 2,
     "metadata": {},
     "output_type": "execute_result"
    },
    {
     "data": {
      "text/plain": [
       "True"
      ]
     },
     "execution_count": 2,
     "metadata": {},
     "output_type": "execute_result"
    },
    {
     "data": {
      "text/plain": [
       "True"
      ]
     },
     "execution_count": 2,
     "metadata": {},
     "output_type": "execute_result"
    },
    {
     "data": {
      "text/plain": [
       "True"
      ]
     },
     "execution_count": 2,
     "metadata": {},
     "output_type": "execute_result"
    },
    {
     "data": {
      "text/plain": [
       "True"
      ]
     },
     "execution_count": 2,
     "metadata": {},
     "output_type": "execute_result"
    },
    {
     "data": {
      "text/plain": [
       "True"
      ]
     },
     "execution_count": 2,
     "metadata": {},
     "output_type": "execute_result"
    },
    {
     "data": {
      "text/plain": [
       "True"
      ]
     },
     "execution_count": 2,
     "metadata": {},
     "output_type": "execute_result"
    },
    {
     "data": {
      "text/plain": [
       "True"
      ]
     },
     "execution_count": 2,
     "metadata": {},
     "output_type": "execute_result"
    },
    {
     "data": {
      "text/plain": [
       "True"
      ]
     },
     "execution_count": 2,
     "metadata": {},
     "output_type": "execute_result"
    },
    {
     "data": {
      "text/plain": [
       "True"
      ]
     },
     "execution_count": 2,
     "metadata": {},
     "output_type": "execute_result"
    },
    {
     "data": {
      "text/plain": [
       "True"
      ]
     },
     "execution_count": 2,
     "metadata": {},
     "output_type": "execute_result"
    },
    {
     "data": {
      "text/plain": [
       "True"
      ]
     },
     "execution_count": 2,
     "metadata": {},
     "output_type": "execute_result"
    },
    {
     "data": {
      "text/plain": [
       "True"
      ]
     },
     "execution_count": 2,
     "metadata": {},
     "output_type": "execute_result"
    },
    {
     "data": {
      "text/plain": [
       "True"
      ]
     },
     "execution_count": 2,
     "metadata": {},
     "output_type": "execute_result"
    },
    {
     "data": {
      "text/plain": [
       "True"
      ]
     },
     "execution_count": 2,
     "metadata": {},
     "output_type": "execute_result"
    },
    {
     "data": {
      "text/plain": [
       "True"
      ]
     },
     "execution_count": 2,
     "metadata": {},
     "output_type": "execute_result"
    },
    {
     "data": {
      "text/plain": [
       "True"
      ]
     },
     "execution_count": 2,
     "metadata": {},
     "output_type": "execute_result"
    },
    {
     "data": {
      "text/plain": [
       "True"
      ]
     },
     "execution_count": 2,
     "metadata": {},
     "output_type": "execute_result"
    },
    {
     "data": {
      "text/plain": [
       "True"
      ]
     },
     "execution_count": 2,
     "metadata": {},
     "output_type": "execute_result"
    },
    {
     "data": {
      "text/plain": [
       "True"
      ]
     },
     "execution_count": 2,
     "metadata": {},
     "output_type": "execute_result"
    },
    {
     "data": {
      "text/plain": [
       "True"
      ]
     },
     "execution_count": 2,
     "metadata": {},
     "output_type": "execute_result"
    },
    {
     "data": {
      "text/plain": [
       "True"
      ]
     },
     "execution_count": 2,
     "metadata": {},
     "output_type": "execute_result"
    },
    {
     "data": {
      "text/plain": [
       "True"
      ]
     },
     "execution_count": 2,
     "metadata": {},
     "output_type": "execute_result"
    },
    {
     "data": {
      "text/plain": [
       "True"
      ]
     },
     "execution_count": 2,
     "metadata": {},
     "output_type": "execute_result"
    },
    {
     "data": {
      "text/plain": [
       "True"
      ]
     },
     "execution_count": 2,
     "metadata": {},
     "output_type": "execute_result"
    },
    {
     "data": {
      "text/plain": [
       "True"
      ]
     },
     "execution_count": 2,
     "metadata": {},
     "output_type": "execute_result"
    },
    {
     "data": {
      "text/plain": [
       "True"
      ]
     },
     "execution_count": 2,
     "metadata": {},
     "output_type": "execute_result"
    },
    {
     "name": "stdout",
     "output_type": "stream",
     "text": [
      "Done\n"
     ]
    },
    {
     "data": {
      "text/plain": [
       "True"
      ]
     },
     "execution_count": 2,
     "metadata": {},
     "output_type": "execute_result"
    },
    {
     "data": {
      "text/plain": [
       "True"
      ]
     },
     "execution_count": 2,
     "metadata": {},
     "output_type": "execute_result"
    },
    {
     "data": {
      "text/plain": [
       "True"
      ]
     },
     "execution_count": 2,
     "metadata": {},
     "output_type": "execute_result"
    },
    {
     "data": {
      "text/plain": [
       "True"
      ]
     },
     "execution_count": 2,
     "metadata": {},
     "output_type": "execute_result"
    },
    {
     "data": {
      "text/plain": [
       "True"
      ]
     },
     "execution_count": 2,
     "metadata": {},
     "output_type": "execute_result"
    },
    {
     "data": {
      "text/plain": [
       "True"
      ]
     },
     "execution_count": 2,
     "metadata": {},
     "output_type": "execute_result"
    },
    {
     "data": {
      "text/plain": [
       "True"
      ]
     },
     "execution_count": 2,
     "metadata": {},
     "output_type": "execute_result"
    },
    {
     "data": {
      "text/plain": [
       "True"
      ]
     },
     "execution_count": 2,
     "metadata": {},
     "output_type": "execute_result"
    },
    {
     "data": {
      "text/plain": [
       "True"
      ]
     },
     "execution_count": 2,
     "metadata": {},
     "output_type": "execute_result"
    },
    {
     "data": {
      "text/plain": [
       "True"
      ]
     },
     "execution_count": 2,
     "metadata": {},
     "output_type": "execute_result"
    },
    {
     "data": {
      "text/plain": [
       "True"
      ]
     },
     "execution_count": 2,
     "metadata": {},
     "output_type": "execute_result"
    },
    {
     "data": {
      "text/plain": [
       "True"
      ]
     },
     "execution_count": 2,
     "metadata": {},
     "output_type": "execute_result"
    },
    {
     "data": {
      "text/plain": [
       "True"
      ]
     },
     "execution_count": 2,
     "metadata": {},
     "output_type": "execute_result"
    },
    {
     "data": {
      "text/plain": [
       "True"
      ]
     },
     "execution_count": 2,
     "metadata": {},
     "output_type": "execute_result"
    },
    {
     "name": "stdout",
     "output_type": "stream",
     "text": [
      "Done\n"
     ]
    },
    {
     "data": {
      "text/plain": [
       "True"
      ]
     },
     "execution_count": 2,
     "metadata": {},
     "output_type": "execute_result"
    },
    {
     "data": {
      "text/plain": [
       "True"
      ]
     },
     "execution_count": 2,
     "metadata": {},
     "output_type": "execute_result"
    },
    {
     "data": {
      "text/plain": [
       "True"
      ]
     },
     "execution_count": 2,
     "metadata": {},
     "output_type": "execute_result"
    },
    {
     "data": {
      "text/plain": [
       "True"
      ]
     },
     "execution_count": 2,
     "metadata": {},
     "output_type": "execute_result"
    },
    {
     "data": {
      "text/plain": [
       "True"
      ]
     },
     "execution_count": 2,
     "metadata": {},
     "output_type": "execute_result"
    },
    {
     "data": {
      "text/plain": [
       "True"
      ]
     },
     "execution_count": 2,
     "metadata": {},
     "output_type": "execute_result"
    },
    {
     "data": {
      "text/plain": [
       "True"
      ]
     },
     "execution_count": 2,
     "metadata": {},
     "output_type": "execute_result"
    },
    {
     "data": {
      "text/plain": [
       "True"
      ]
     },
     "execution_count": 2,
     "metadata": {},
     "output_type": "execute_result"
    },
    {
     "data": {
      "text/plain": [
       "True"
      ]
     },
     "execution_count": 2,
     "metadata": {},
     "output_type": "execute_result"
    },
    {
     "data": {
      "text/plain": [
       "True"
      ]
     },
     "execution_count": 2,
     "metadata": {},
     "output_type": "execute_result"
    },
    {
     "data": {
      "text/plain": [
       "True"
      ]
     },
     "execution_count": 2,
     "metadata": {},
     "output_type": "execute_result"
    },
    {
     "data": {
      "text/plain": [
       "True"
      ]
     },
     "execution_count": 2,
     "metadata": {},
     "output_type": "execute_result"
    },
    {
     "data": {
      "text/plain": [
       "True"
      ]
     },
     "execution_count": 2,
     "metadata": {},
     "output_type": "execute_result"
    },
    {
     "name": "stdout",
     "output_type": "stream",
     "text": [
      "Done\n"
     ]
    },
    {
     "data": {
      "text/plain": [
       "True"
      ]
     },
     "execution_count": 2,
     "metadata": {},
     "output_type": "execute_result"
    },
    {
     "data": {
      "text/plain": [
       "True"
      ]
     },
     "execution_count": 2,
     "metadata": {},
     "output_type": "execute_result"
    },
    {
     "data": {
      "text/plain": [
       "True"
      ]
     },
     "execution_count": 2,
     "metadata": {},
     "output_type": "execute_result"
    },
    {
     "data": {
      "text/plain": [
       "True"
      ]
     },
     "execution_count": 2,
     "metadata": {},
     "output_type": "execute_result"
    },
    {
     "data": {
      "text/plain": [
       "True"
      ]
     },
     "execution_count": 2,
     "metadata": {},
     "output_type": "execute_result"
    },
    {
     "data": {
      "text/plain": [
       "True"
      ]
     },
     "execution_count": 2,
     "metadata": {},
     "output_type": "execute_result"
    },
    {
     "data": {
      "text/plain": [
       "True"
      ]
     },
     "execution_count": 2,
     "metadata": {},
     "output_type": "execute_result"
    },
    {
     "data": {
      "text/plain": [
       "True"
      ]
     },
     "execution_count": 2,
     "metadata": {},
     "output_type": "execute_result"
    },
    {
     "data": {
      "text/plain": [
       "True"
      ]
     },
     "execution_count": 2,
     "metadata": {},
     "output_type": "execute_result"
    },
    {
     "data": {
      "text/plain": [
       "True"
      ]
     },
     "execution_count": 2,
     "metadata": {},
     "output_type": "execute_result"
    },
    {
     "data": {
      "text/plain": [
       "True"
      ]
     },
     "execution_count": 2,
     "metadata": {},
     "output_type": "execute_result"
    },
    {
     "data": {
      "text/plain": [
       "True"
      ]
     },
     "execution_count": 2,
     "metadata": {},
     "output_type": "execute_result"
    },
    {
     "data": {
      "text/plain": [
       "True"
      ]
     },
     "execution_count": 2,
     "metadata": {},
     "output_type": "execute_result"
    },
    {
     "data": {
      "text/plain": [
       "True"
      ]
     },
     "execution_count": 2,
     "metadata": {},
     "output_type": "execute_result"
    },
    {
     "data": {
      "text/plain": [
       "True"
      ]
     },
     "execution_count": 2,
     "metadata": {},
     "output_type": "execute_result"
    },
    {
     "name": "stdout",
     "output_type": "stream",
     "text": [
      "Done\n"
     ]
    },
    {
     "data": {
      "text/plain": [
       "True"
      ]
     },
     "execution_count": 2,
     "metadata": {},
     "output_type": "execute_result"
    },
    {
     "data": {
      "text/plain": [
       "True"
      ]
     },
     "execution_count": 2,
     "metadata": {},
     "output_type": "execute_result"
    },
    {
     "data": {
      "text/plain": [
       "True"
      ]
     },
     "execution_count": 2,
     "metadata": {},
     "output_type": "execute_result"
    },
    {
     "data": {
      "text/plain": [
       "True"
      ]
     },
     "execution_count": 2,
     "metadata": {},
     "output_type": "execute_result"
    },
    {
     "data": {
      "text/plain": [
       "True"
      ]
     },
     "execution_count": 2,
     "metadata": {},
     "output_type": "execute_result"
    },
    {
     "data": {
      "text/plain": [
       "True"
      ]
     },
     "execution_count": 2,
     "metadata": {},
     "output_type": "execute_result"
    },
    {
     "data": {
      "text/plain": [
       "True"
      ]
     },
     "execution_count": 2,
     "metadata": {},
     "output_type": "execute_result"
    },
    {
     "data": {
      "text/plain": [
       "True"
      ]
     },
     "execution_count": 2,
     "metadata": {},
     "output_type": "execute_result"
    },
    {
     "data": {
      "text/plain": [
       "True"
      ]
     },
     "execution_count": 2,
     "metadata": {},
     "output_type": "execute_result"
    },
    {
     "data": {
      "text/plain": [
       "True"
      ]
     },
     "execution_count": 2,
     "metadata": {},
     "output_type": "execute_result"
    },
    {
     "data": {
      "text/plain": [
       "True"
      ]
     },
     "execution_count": 2,
     "metadata": {},
     "output_type": "execute_result"
    },
    {
     "data": {
      "text/plain": [
       "True"
      ]
     },
     "execution_count": 2,
     "metadata": {},
     "output_type": "execute_result"
    },
    {
     "data": {
      "text/plain": [
       "True"
      ]
     },
     "execution_count": 2,
     "metadata": {},
     "output_type": "execute_result"
    },
    {
     "data": {
      "text/plain": [
       "True"
      ]
     },
     "execution_count": 2,
     "metadata": {},
     "output_type": "execute_result"
    },
    {
     "data": {
      "text/plain": [
       "True"
      ]
     },
     "execution_count": 2,
     "metadata": {},
     "output_type": "execute_result"
    },
    {
     "data": {
      "text/plain": [
       "True"
      ]
     },
     "execution_count": 2,
     "metadata": {},
     "output_type": "execute_result"
    },
    {
     "data": {
      "text/plain": [
       "True"
      ]
     },
     "execution_count": 2,
     "metadata": {},
     "output_type": "execute_result"
    },
    {
     "data": {
      "text/plain": [
       "True"
      ]
     },
     "execution_count": 2,
     "metadata": {},
     "output_type": "execute_result"
    },
    {
     "data": {
      "text/plain": [
       "True"
      ]
     },
     "execution_count": 2,
     "metadata": {},
     "output_type": "execute_result"
    },
    {
     "name": "stdout",
     "output_type": "stream",
     "text": [
      "Done\n"
     ]
    },
    {
     "data": {
      "text/plain": [
       "True"
      ]
     },
     "execution_count": 2,
     "metadata": {},
     "output_type": "execute_result"
    },
    {
     "data": {
      "text/plain": [
       "True"
      ]
     },
     "execution_count": 2,
     "metadata": {},
     "output_type": "execute_result"
    },
    {
     "data": {
      "text/plain": [
       "True"
      ]
     },
     "execution_count": 2,
     "metadata": {},
     "output_type": "execute_result"
    },
    {
     "data": {
      "text/plain": [
       "True"
      ]
     },
     "execution_count": 2,
     "metadata": {},
     "output_type": "execute_result"
    },
    {
     "data": {
      "text/plain": [
       "True"
      ]
     },
     "execution_count": 2,
     "metadata": {},
     "output_type": "execute_result"
    },
    {
     "data": {
      "text/plain": [
       "True"
      ]
     },
     "execution_count": 2,
     "metadata": {},
     "output_type": "execute_result"
    },
    {
     "data": {
      "text/plain": [
       "True"
      ]
     },
     "execution_count": 2,
     "metadata": {},
     "output_type": "execute_result"
    },
    {
     "data": {
      "text/plain": [
       "True"
      ]
     },
     "execution_count": 2,
     "metadata": {},
     "output_type": "execute_result"
    },
    {
     "data": {
      "text/plain": [
       "True"
      ]
     },
     "execution_count": 2,
     "metadata": {},
     "output_type": "execute_result"
    },
    {
     "data": {
      "text/plain": [
       "True"
      ]
     },
     "execution_count": 2,
     "metadata": {},
     "output_type": "execute_result"
    },
    {
     "data": {
      "text/plain": [
       "True"
      ]
     },
     "execution_count": 2,
     "metadata": {},
     "output_type": "execute_result"
    },
    {
     "data": {
      "text/plain": [
       "True"
      ]
     },
     "execution_count": 2,
     "metadata": {},
     "output_type": "execute_result"
    },
    {
     "data": {
      "text/plain": [
       "True"
      ]
     },
     "execution_count": 2,
     "metadata": {},
     "output_type": "execute_result"
    },
    {
     "data": {
      "text/plain": [
       "True"
      ]
     },
     "execution_count": 2,
     "metadata": {},
     "output_type": "execute_result"
    },
    {
     "name": "stdout",
     "output_type": "stream",
     "text": [
      "Done\n"
     ]
    },
    {
     "data": {
      "text/plain": [
       "True"
      ]
     },
     "execution_count": 2,
     "metadata": {},
     "output_type": "execute_result"
    },
    {
     "data": {
      "text/plain": [
       "True"
      ]
     },
     "execution_count": 2,
     "metadata": {},
     "output_type": "execute_result"
    },
    {
     "data": {
      "text/plain": [
       "True"
      ]
     },
     "execution_count": 2,
     "metadata": {},
     "output_type": "execute_result"
    },
    {
     "data": {
      "text/plain": [
       "True"
      ]
     },
     "execution_count": 2,
     "metadata": {},
     "output_type": "execute_result"
    },
    {
     "data": {
      "text/plain": [
       "True"
      ]
     },
     "execution_count": 2,
     "metadata": {},
     "output_type": "execute_result"
    },
    {
     "data": {
      "text/plain": [
       "True"
      ]
     },
     "execution_count": 2,
     "metadata": {},
     "output_type": "execute_result"
    },
    {
     "data": {
      "text/plain": [
       "True"
      ]
     },
     "execution_count": 2,
     "metadata": {},
     "output_type": "execute_result"
    },
    {
     "data": {
      "text/plain": [
       "True"
      ]
     },
     "execution_count": 2,
     "metadata": {},
     "output_type": "execute_result"
    },
    {
     "data": {
      "text/plain": [
       "True"
      ]
     },
     "execution_count": 2,
     "metadata": {},
     "output_type": "execute_result"
    },
    {
     "data": {
      "text/plain": [
       "True"
      ]
     },
     "execution_count": 2,
     "metadata": {},
     "output_type": "execute_result"
    },
    {
     "data": {
      "text/plain": [
       "True"
      ]
     },
     "execution_count": 2,
     "metadata": {},
     "output_type": "execute_result"
    },
    {
     "data": {
      "text/plain": [
       "True"
      ]
     },
     "execution_count": 2,
     "metadata": {},
     "output_type": "execute_result"
    },
    {
     "data": {
      "text/plain": [
       "True"
      ]
     },
     "execution_count": 2,
     "metadata": {},
     "output_type": "execute_result"
    },
    {
     "data": {
      "text/plain": [
       "True"
      ]
     },
     "execution_count": 2,
     "metadata": {},
     "output_type": "execute_result"
    },
    {
     "data": {
      "text/plain": [
       "True"
      ]
     },
     "execution_count": 2,
     "metadata": {},
     "output_type": "execute_result"
    },
    {
     "data": {
      "text/plain": [
       "True"
      ]
     },
     "execution_count": 2,
     "metadata": {},
     "output_type": "execute_result"
    },
    {
     "data": {
      "text/plain": [
       "True"
      ]
     },
     "execution_count": 2,
     "metadata": {},
     "output_type": "execute_result"
    },
    {
     "data": {
      "text/plain": [
       "True"
      ]
     },
     "execution_count": 2,
     "metadata": {},
     "output_type": "execute_result"
    },
    {
     "name": "stdout",
     "output_type": "stream",
     "text": [
      "Done\n"
     ]
    },
    {
     "data": {
      "text/plain": [
       "True"
      ]
     },
     "execution_count": 2,
     "metadata": {},
     "output_type": "execute_result"
    },
    {
     "data": {
      "text/plain": [
       "True"
      ]
     },
     "execution_count": 2,
     "metadata": {},
     "output_type": "execute_result"
    },
    {
     "data": {
      "text/plain": [
       "True"
      ]
     },
     "execution_count": 2,
     "metadata": {},
     "output_type": "execute_result"
    },
    {
     "data": {
      "text/plain": [
       "True"
      ]
     },
     "execution_count": 2,
     "metadata": {},
     "output_type": "execute_result"
    },
    {
     "data": {
      "text/plain": [
       "True"
      ]
     },
     "execution_count": 2,
     "metadata": {},
     "output_type": "execute_result"
    },
    {
     "data": {
      "text/plain": [
       "True"
      ]
     },
     "execution_count": 2,
     "metadata": {},
     "output_type": "execute_result"
    },
    {
     "data": {
      "text/plain": [
       "True"
      ]
     },
     "execution_count": 2,
     "metadata": {},
     "output_type": "execute_result"
    },
    {
     "data": {
      "text/plain": [
       "True"
      ]
     },
     "execution_count": 2,
     "metadata": {},
     "output_type": "execute_result"
    },
    {
     "data": {
      "text/plain": [
       "True"
      ]
     },
     "execution_count": 2,
     "metadata": {},
     "output_type": "execute_result"
    },
    {
     "data": {
      "text/plain": [
       "True"
      ]
     },
     "execution_count": 2,
     "metadata": {},
     "output_type": "execute_result"
    },
    {
     "data": {
      "text/plain": [
       "True"
      ]
     },
     "execution_count": 2,
     "metadata": {},
     "output_type": "execute_result"
    },
    {
     "data": {
      "text/plain": [
       "True"
      ]
     },
     "execution_count": 2,
     "metadata": {},
     "output_type": "execute_result"
    },
    {
     "data": {
      "text/plain": [
       "True"
      ]
     },
     "execution_count": 2,
     "metadata": {},
     "output_type": "execute_result"
    },
    {
     "data": {
      "text/plain": [
       "True"
      ]
     },
     "execution_count": 2,
     "metadata": {},
     "output_type": "execute_result"
    },
    {
     "data": {
      "text/plain": [
       "True"
      ]
     },
     "execution_count": 2,
     "metadata": {},
     "output_type": "execute_result"
    },
    {
     "data": {
      "text/plain": [
       "True"
      ]
     },
     "execution_count": 2,
     "metadata": {},
     "output_type": "execute_result"
    },
    {
     "name": "stdout",
     "output_type": "stream",
     "text": [
      "Done\n"
     ]
    },
    {
     "data": {
      "text/plain": [
       "True"
      ]
     },
     "execution_count": 2,
     "metadata": {},
     "output_type": "execute_result"
    },
    {
     "data": {
      "text/plain": [
       "True"
      ]
     },
     "execution_count": 2,
     "metadata": {},
     "output_type": "execute_result"
    },
    {
     "data": {
      "text/plain": [
       "True"
      ]
     },
     "execution_count": 2,
     "metadata": {},
     "output_type": "execute_result"
    },
    {
     "data": {
      "text/plain": [
       "True"
      ]
     },
     "execution_count": 2,
     "metadata": {},
     "output_type": "execute_result"
    },
    {
     "data": {
      "text/plain": [
       "True"
      ]
     },
     "execution_count": 2,
     "metadata": {},
     "output_type": "execute_result"
    },
    {
     "data": {
      "text/plain": [
       "True"
      ]
     },
     "execution_count": 2,
     "metadata": {},
     "output_type": "execute_result"
    },
    {
     "data": {
      "text/plain": [
       "True"
      ]
     },
     "execution_count": 2,
     "metadata": {},
     "output_type": "execute_result"
    },
    {
     "data": {
      "text/plain": [
       "True"
      ]
     },
     "execution_count": 2,
     "metadata": {},
     "output_type": "execute_result"
    },
    {
     "data": {
      "text/plain": [
       "True"
      ]
     },
     "execution_count": 2,
     "metadata": {},
     "output_type": "execute_result"
    },
    {
     "data": {
      "text/plain": [
       "True"
      ]
     },
     "execution_count": 2,
     "metadata": {},
     "output_type": "execute_result"
    },
    {
     "data": {
      "text/plain": [
       "True"
      ]
     },
     "execution_count": 2,
     "metadata": {},
     "output_type": "execute_result"
    },
    {
     "data": {
      "text/plain": [
       "True"
      ]
     },
     "execution_count": 2,
     "metadata": {},
     "output_type": "execute_result"
    },
    {
     "data": {
      "text/plain": [
       "True"
      ]
     },
     "execution_count": 2,
     "metadata": {},
     "output_type": "execute_result"
    },
    {
     "data": {
      "text/plain": [
       "True"
      ]
     },
     "execution_count": 2,
     "metadata": {},
     "output_type": "execute_result"
    },
    {
     "data": {
      "text/plain": [
       "True"
      ]
     },
     "execution_count": 2,
     "metadata": {},
     "output_type": "execute_result"
    },
    {
     "data": {
      "text/plain": [
       "True"
      ]
     },
     "execution_count": 2,
     "metadata": {},
     "output_type": "execute_result"
    },
    {
     "data": {
      "text/plain": [
       "True"
      ]
     },
     "execution_count": 2,
     "metadata": {},
     "output_type": "execute_result"
    },
    {
     "data": {
      "text/plain": [
       "True"
      ]
     },
     "execution_count": 2,
     "metadata": {},
     "output_type": "execute_result"
    },
    {
     "data": {
      "text/plain": [
       "True"
      ]
     },
     "execution_count": 2,
     "metadata": {},
     "output_type": "execute_result"
    },
    {
     "data": {
      "text/plain": [
       "True"
      ]
     },
     "execution_count": 2,
     "metadata": {},
     "output_type": "execute_result"
    },
    {
     "data": {
      "text/plain": [
       "True"
      ]
     },
     "execution_count": 2,
     "metadata": {},
     "output_type": "execute_result"
    },
    {
     "data": {
      "text/plain": [
       "True"
      ]
     },
     "execution_count": 2,
     "metadata": {},
     "output_type": "execute_result"
    },
    {
     "data": {
      "text/plain": [
       "True"
      ]
     },
     "execution_count": 2,
     "metadata": {},
     "output_type": "execute_result"
    },
    {
     "data": {
      "text/plain": [
       "True"
      ]
     },
     "execution_count": 2,
     "metadata": {},
     "output_type": "execute_result"
    },
    {
     "data": {
      "text/plain": [
       "True"
      ]
     },
     "execution_count": 2,
     "metadata": {},
     "output_type": "execute_result"
    },
    {
     "data": {
      "text/plain": [
       "True"
      ]
     },
     "execution_count": 2,
     "metadata": {},
     "output_type": "execute_result"
    },
    {
     "data": {
      "text/plain": [
       "True"
      ]
     },
     "execution_count": 2,
     "metadata": {},
     "output_type": "execute_result"
    },
    {
     "data": {
      "text/plain": [
       "True"
      ]
     },
     "execution_count": 2,
     "metadata": {},
     "output_type": "execute_result"
    },
    {
     "data": {
      "text/plain": [
       "True"
      ]
     },
     "execution_count": 2,
     "metadata": {},
     "output_type": "execute_result"
    },
    {
     "data": {
      "text/plain": [
       "True"
      ]
     },
     "execution_count": 2,
     "metadata": {},
     "output_type": "execute_result"
    },
    {
     "data": {
      "text/plain": [
       "True"
      ]
     },
     "execution_count": 2,
     "metadata": {},
     "output_type": "execute_result"
    },
    {
     "data": {
      "text/plain": [
       "True"
      ]
     },
     "execution_count": 2,
     "metadata": {},
     "output_type": "execute_result"
    },
    {
     "data": {
      "text/plain": [
       "True"
      ]
     },
     "execution_count": 2,
     "metadata": {},
     "output_type": "execute_result"
    },
    {
     "name": "stdout",
     "output_type": "stream",
     "text": [
      "Done\n"
     ]
    },
    {
     "data": {
      "text/plain": [
       "True"
      ]
     },
     "execution_count": 2,
     "metadata": {},
     "output_type": "execute_result"
    },
    {
     "data": {
      "text/plain": [
       "True"
      ]
     },
     "execution_count": 2,
     "metadata": {},
     "output_type": "execute_result"
    },
    {
     "data": {
      "text/plain": [
       "True"
      ]
     },
     "execution_count": 2,
     "metadata": {},
     "output_type": "execute_result"
    },
    {
     "data": {
      "text/plain": [
       "True"
      ]
     },
     "execution_count": 2,
     "metadata": {},
     "output_type": "execute_result"
    },
    {
     "data": {
      "text/plain": [
       "True"
      ]
     },
     "execution_count": 2,
     "metadata": {},
     "output_type": "execute_result"
    },
    {
     "data": {
      "text/plain": [
       "True"
      ]
     },
     "execution_count": 2,
     "metadata": {},
     "output_type": "execute_result"
    },
    {
     "data": {
      "text/plain": [
       "True"
      ]
     },
     "execution_count": 2,
     "metadata": {},
     "output_type": "execute_result"
    },
    {
     "data": {
      "text/plain": [
       "True"
      ]
     },
     "execution_count": 2,
     "metadata": {},
     "output_type": "execute_result"
    },
    {
     "data": {
      "text/plain": [
       "True"
      ]
     },
     "execution_count": 2,
     "metadata": {},
     "output_type": "execute_result"
    },
    {
     "data": {
      "text/plain": [
       "True"
      ]
     },
     "execution_count": 2,
     "metadata": {},
     "output_type": "execute_result"
    },
    {
     "data": {
      "text/plain": [
       "True"
      ]
     },
     "execution_count": 2,
     "metadata": {},
     "output_type": "execute_result"
    },
    {
     "data": {
      "text/plain": [
       "True"
      ]
     },
     "execution_count": 2,
     "metadata": {},
     "output_type": "execute_result"
    },
    {
     "data": {
      "text/plain": [
       "True"
      ]
     },
     "execution_count": 2,
     "metadata": {},
     "output_type": "execute_result"
    },
    {
     "data": {
      "text/plain": [
       "True"
      ]
     },
     "execution_count": 2,
     "metadata": {},
     "output_type": "execute_result"
    },
    {
     "data": {
      "text/plain": [
       "True"
      ]
     },
     "execution_count": 2,
     "metadata": {},
     "output_type": "execute_result"
    },
    {
     "data": {
      "text/plain": [
       "True"
      ]
     },
     "execution_count": 2,
     "metadata": {},
     "output_type": "execute_result"
    },
    {
     "name": "stdout",
     "output_type": "stream",
     "text": [
      "Done\n"
     ]
    },
    {
     "data": {
      "text/plain": [
       "True"
      ]
     },
     "execution_count": 2,
     "metadata": {},
     "output_type": "execute_result"
    },
    {
     "data": {
      "text/plain": [
       "True"
      ]
     },
     "execution_count": 2,
     "metadata": {},
     "output_type": "execute_result"
    },
    {
     "data": {
      "text/plain": [
       "True"
      ]
     },
     "execution_count": 2,
     "metadata": {},
     "output_type": "execute_result"
    },
    {
     "data": {
      "text/plain": [
       "True"
      ]
     },
     "execution_count": 2,
     "metadata": {},
     "output_type": "execute_result"
    },
    {
     "data": {
      "text/plain": [
       "True"
      ]
     },
     "execution_count": 2,
     "metadata": {},
     "output_type": "execute_result"
    },
    {
     "data": {
      "text/plain": [
       "True"
      ]
     },
     "execution_count": 2,
     "metadata": {},
     "output_type": "execute_result"
    },
    {
     "data": {
      "text/plain": [
       "True"
      ]
     },
     "execution_count": 2,
     "metadata": {},
     "output_type": "execute_result"
    },
    {
     "data": {
      "text/plain": [
       "True"
      ]
     },
     "execution_count": 2,
     "metadata": {},
     "output_type": "execute_result"
    },
    {
     "data": {
      "text/plain": [
       "True"
      ]
     },
     "execution_count": 2,
     "metadata": {},
     "output_type": "execute_result"
    },
    {
     "data": {
      "text/plain": [
       "True"
      ]
     },
     "execution_count": 2,
     "metadata": {},
     "output_type": "execute_result"
    },
    {
     "data": {
      "text/plain": [
       "True"
      ]
     },
     "execution_count": 2,
     "metadata": {},
     "output_type": "execute_result"
    },
    {
     "data": {
      "text/plain": [
       "True"
      ]
     },
     "execution_count": 2,
     "metadata": {},
     "output_type": "execute_result"
    },
    {
     "data": {
      "text/plain": [
       "True"
      ]
     },
     "execution_count": 2,
     "metadata": {},
     "output_type": "execute_result"
    },
    {
     "data": {
      "text/plain": [
       "True"
      ]
     },
     "execution_count": 2,
     "metadata": {},
     "output_type": "execute_result"
    },
    {
     "data": {
      "text/plain": [
       "True"
      ]
     },
     "execution_count": 2,
     "metadata": {},
     "output_type": "execute_result"
    },
    {
     "data": {
      "text/plain": [
       "True"
      ]
     },
     "execution_count": 2,
     "metadata": {},
     "output_type": "execute_result"
    },
    {
     "data": {
      "text/plain": [
       "True"
      ]
     },
     "execution_count": 2,
     "metadata": {},
     "output_type": "execute_result"
    },
    {
     "data": {
      "text/plain": [
       "True"
      ]
     },
     "execution_count": 2,
     "metadata": {},
     "output_type": "execute_result"
    },
    {
     "data": {
      "text/plain": [
       "True"
      ]
     },
     "execution_count": 2,
     "metadata": {},
     "output_type": "execute_result"
    },
    {
     "data": {
      "text/plain": [
       "True"
      ]
     },
     "execution_count": 2,
     "metadata": {},
     "output_type": "execute_result"
    },
    {
     "data": {
      "text/plain": [
       "True"
      ]
     },
     "execution_count": 2,
     "metadata": {},
     "output_type": "execute_result"
    },
    {
     "data": {
      "text/plain": [
       "True"
      ]
     },
     "execution_count": 2,
     "metadata": {},
     "output_type": "execute_result"
    },
    {
     "data": {
      "text/plain": [
       "True"
      ]
     },
     "execution_count": 2,
     "metadata": {},
     "output_type": "execute_result"
    },
    {
     "data": {
      "text/plain": [
       "True"
      ]
     },
     "execution_count": 2,
     "metadata": {},
     "output_type": "execute_result"
    },
    {
     "data": {
      "text/plain": [
       "True"
      ]
     },
     "execution_count": 2,
     "metadata": {},
     "output_type": "execute_result"
    },
    {
     "data": {
      "text/plain": [
       "True"
      ]
     },
     "execution_count": 2,
     "metadata": {},
     "output_type": "execute_result"
    },
    {
     "data": {
      "text/plain": [
       "True"
      ]
     },
     "execution_count": 2,
     "metadata": {},
     "output_type": "execute_result"
    },
    {
     "name": "stdout",
     "output_type": "stream",
     "text": [
      "Done\n"
     ]
    },
    {
     "data": {
      "text/plain": [
       "True"
      ]
     },
     "execution_count": 2,
     "metadata": {},
     "output_type": "execute_result"
    },
    {
     "data": {
      "text/plain": [
       "True"
      ]
     },
     "execution_count": 2,
     "metadata": {},
     "output_type": "execute_result"
    },
    {
     "data": {
      "text/plain": [
       "True"
      ]
     },
     "execution_count": 2,
     "metadata": {},
     "output_type": "execute_result"
    },
    {
     "data": {
      "text/plain": [
       "True"
      ]
     },
     "execution_count": 2,
     "metadata": {},
     "output_type": "execute_result"
    },
    {
     "data": {
      "text/plain": [
       "True"
      ]
     },
     "execution_count": 2,
     "metadata": {},
     "output_type": "execute_result"
    },
    {
     "data": {
      "text/plain": [
       "True"
      ]
     },
     "execution_count": 2,
     "metadata": {},
     "output_type": "execute_result"
    },
    {
     "data": {
      "text/plain": [
       "True"
      ]
     },
     "execution_count": 2,
     "metadata": {},
     "output_type": "execute_result"
    },
    {
     "data": {
      "text/plain": [
       "True"
      ]
     },
     "execution_count": 2,
     "metadata": {},
     "output_type": "execute_result"
    },
    {
     "data": {
      "text/plain": [
       "True"
      ]
     },
     "execution_count": 2,
     "metadata": {},
     "output_type": "execute_result"
    },
    {
     "data": {
      "text/plain": [
       "True"
      ]
     },
     "execution_count": 2,
     "metadata": {},
     "output_type": "execute_result"
    },
    {
     "data": {
      "text/plain": [
       "True"
      ]
     },
     "execution_count": 2,
     "metadata": {},
     "output_type": "execute_result"
    },
    {
     "data": {
      "text/plain": [
       "True"
      ]
     },
     "execution_count": 2,
     "metadata": {},
     "output_type": "execute_result"
    },
    {
     "data": {
      "text/plain": [
       "True"
      ]
     },
     "execution_count": 2,
     "metadata": {},
     "output_type": "execute_result"
    },
    {
     "data": {
      "text/plain": [
       "True"
      ]
     },
     "execution_count": 2,
     "metadata": {},
     "output_type": "execute_result"
    },
    {
     "data": {
      "text/plain": [
       "True"
      ]
     },
     "execution_count": 2,
     "metadata": {},
     "output_type": "execute_result"
    },
    {
     "data": {
      "text/plain": [
       "True"
      ]
     },
     "execution_count": 2,
     "metadata": {},
     "output_type": "execute_result"
    },
    {
     "data": {
      "text/plain": [
       "True"
      ]
     },
     "execution_count": 2,
     "metadata": {},
     "output_type": "execute_result"
    },
    {
     "data": {
      "text/plain": [
       "True"
      ]
     },
     "execution_count": 2,
     "metadata": {},
     "output_type": "execute_result"
    },
    {
     "data": {
      "text/plain": [
       "True"
      ]
     },
     "execution_count": 2,
     "metadata": {},
     "output_type": "execute_result"
    },
    {
     "data": {
      "text/plain": [
       "True"
      ]
     },
     "execution_count": 2,
     "metadata": {},
     "output_type": "execute_result"
    },
    {
     "data": {
      "text/plain": [
       "True"
      ]
     },
     "execution_count": 2,
     "metadata": {},
     "output_type": "execute_result"
    },
    {
     "data": {
      "text/plain": [
       "True"
      ]
     },
     "execution_count": 2,
     "metadata": {},
     "output_type": "execute_result"
    },
    {
     "data": {
      "text/plain": [
       "True"
      ]
     },
     "execution_count": 2,
     "metadata": {},
     "output_type": "execute_result"
    },
    {
     "name": "stdout",
     "output_type": "stream",
     "text": [
      "Done\n"
     ]
    },
    {
     "data": {
      "text/plain": [
       "True"
      ]
     },
     "execution_count": 2,
     "metadata": {},
     "output_type": "execute_result"
    },
    {
     "data": {
      "text/plain": [
       "True"
      ]
     },
     "execution_count": 2,
     "metadata": {},
     "output_type": "execute_result"
    },
    {
     "data": {
      "text/plain": [
       "True"
      ]
     },
     "execution_count": 2,
     "metadata": {},
     "output_type": "execute_result"
    },
    {
     "data": {
      "text/plain": [
       "True"
      ]
     },
     "execution_count": 2,
     "metadata": {},
     "output_type": "execute_result"
    },
    {
     "data": {
      "text/plain": [
       "True"
      ]
     },
     "execution_count": 2,
     "metadata": {},
     "output_type": "execute_result"
    },
    {
     "data": {
      "text/plain": [
       "True"
      ]
     },
     "execution_count": 2,
     "metadata": {},
     "output_type": "execute_result"
    },
    {
     "data": {
      "text/plain": [
       "True"
      ]
     },
     "execution_count": 2,
     "metadata": {},
     "output_type": "execute_result"
    },
    {
     "data": {
      "text/plain": [
       "True"
      ]
     },
     "execution_count": 2,
     "metadata": {},
     "output_type": "execute_result"
    },
    {
     "data": {
      "text/plain": [
       "True"
      ]
     },
     "execution_count": 2,
     "metadata": {},
     "output_type": "execute_result"
    },
    {
     "data": {
      "text/plain": [
       "True"
      ]
     },
     "execution_count": 2,
     "metadata": {},
     "output_type": "execute_result"
    },
    {
     "data": {
      "text/plain": [
       "True"
      ]
     },
     "execution_count": 2,
     "metadata": {},
     "output_type": "execute_result"
    },
    {
     "data": {
      "text/plain": [
       "True"
      ]
     },
     "execution_count": 2,
     "metadata": {},
     "output_type": "execute_result"
    },
    {
     "data": {
      "text/plain": [
       "True"
      ]
     },
     "execution_count": 2,
     "metadata": {},
     "output_type": "execute_result"
    },
    {
     "data": {
      "text/plain": [
       "True"
      ]
     },
     "execution_count": 2,
     "metadata": {},
     "output_type": "execute_result"
    },
    {
     "data": {
      "text/plain": [
       "True"
      ]
     },
     "execution_count": 2,
     "metadata": {},
     "output_type": "execute_result"
    },
    {
     "data": {
      "text/plain": [
       "True"
      ]
     },
     "execution_count": 2,
     "metadata": {},
     "output_type": "execute_result"
    },
    {
     "data": {
      "text/plain": [
       "True"
      ]
     },
     "execution_count": 2,
     "metadata": {},
     "output_type": "execute_result"
    },
    {
     "data": {
      "text/plain": [
       "True"
      ]
     },
     "execution_count": 2,
     "metadata": {},
     "output_type": "execute_result"
    },
    {
     "data": {
      "text/plain": [
       "True"
      ]
     },
     "execution_count": 2,
     "metadata": {},
     "output_type": "execute_result"
    },
    {
     "data": {
      "text/plain": [
       "True"
      ]
     },
     "execution_count": 2,
     "metadata": {},
     "output_type": "execute_result"
    },
    {
     "data": {
      "text/plain": [
       "True"
      ]
     },
     "execution_count": 2,
     "metadata": {},
     "output_type": "execute_result"
    },
    {
     "data": {
      "text/plain": [
       "True"
      ]
     },
     "execution_count": 2,
     "metadata": {},
     "output_type": "execute_result"
    },
    {
     "data": {
      "text/plain": [
       "True"
      ]
     },
     "execution_count": 2,
     "metadata": {},
     "output_type": "execute_result"
    },
    {
     "data": {
      "text/plain": [
       "True"
      ]
     },
     "execution_count": 2,
     "metadata": {},
     "output_type": "execute_result"
    },
    {
     "data": {
      "text/plain": [
       "True"
      ]
     },
     "execution_count": 2,
     "metadata": {},
     "output_type": "execute_result"
    },
    {
     "name": "stdout",
     "output_type": "stream",
     "text": [
      "Done\n"
     ]
    },
    {
     "data": {
      "text/plain": [
       "True"
      ]
     },
     "execution_count": 2,
     "metadata": {},
     "output_type": "execute_result"
    },
    {
     "data": {
      "text/plain": [
       "True"
      ]
     },
     "execution_count": 2,
     "metadata": {},
     "output_type": "execute_result"
    },
    {
     "data": {
      "text/plain": [
       "True"
      ]
     },
     "execution_count": 2,
     "metadata": {},
     "output_type": "execute_result"
    },
    {
     "data": {
      "text/plain": [
       "True"
      ]
     },
     "execution_count": 2,
     "metadata": {},
     "output_type": "execute_result"
    },
    {
     "data": {
      "text/plain": [
       "True"
      ]
     },
     "execution_count": 2,
     "metadata": {},
     "output_type": "execute_result"
    },
    {
     "data": {
      "text/plain": [
       "True"
      ]
     },
     "execution_count": 2,
     "metadata": {},
     "output_type": "execute_result"
    },
    {
     "data": {
      "text/plain": [
       "True"
      ]
     },
     "execution_count": 2,
     "metadata": {},
     "output_type": "execute_result"
    },
    {
     "data": {
      "text/plain": [
       "True"
      ]
     },
     "execution_count": 2,
     "metadata": {},
     "output_type": "execute_result"
    },
    {
     "data": {
      "text/plain": [
       "True"
      ]
     },
     "execution_count": 2,
     "metadata": {},
     "output_type": "execute_result"
    },
    {
     "data": {
      "text/plain": [
       "True"
      ]
     },
     "execution_count": 2,
     "metadata": {},
     "output_type": "execute_result"
    },
    {
     "data": {
      "text/plain": [
       "True"
      ]
     },
     "execution_count": 2,
     "metadata": {},
     "output_type": "execute_result"
    },
    {
     "data": {
      "text/plain": [
       "True"
      ]
     },
     "execution_count": 2,
     "metadata": {},
     "output_type": "execute_result"
    },
    {
     "data": {
      "text/plain": [
       "True"
      ]
     },
     "execution_count": 2,
     "metadata": {},
     "output_type": "execute_result"
    },
    {
     "data": {
      "text/plain": [
       "True"
      ]
     },
     "execution_count": 2,
     "metadata": {},
     "output_type": "execute_result"
    },
    {
     "data": {
      "text/plain": [
       "True"
      ]
     },
     "execution_count": 2,
     "metadata": {},
     "output_type": "execute_result"
    },
    {
     "data": {
      "text/plain": [
       "True"
      ]
     },
     "execution_count": 2,
     "metadata": {},
     "output_type": "execute_result"
    },
    {
     "data": {
      "text/plain": [
       "True"
      ]
     },
     "execution_count": 2,
     "metadata": {},
     "output_type": "execute_result"
    },
    {
     "data": {
      "text/plain": [
       "True"
      ]
     },
     "execution_count": 2,
     "metadata": {},
     "output_type": "execute_result"
    },
    {
     "data": {
      "text/plain": [
       "True"
      ]
     },
     "execution_count": 2,
     "metadata": {},
     "output_type": "execute_result"
    },
    {
     "data": {
      "text/plain": [
       "True"
      ]
     },
     "execution_count": 2,
     "metadata": {},
     "output_type": "execute_result"
    },
    {
     "data": {
      "text/plain": [
       "True"
      ]
     },
     "execution_count": 2,
     "metadata": {},
     "output_type": "execute_result"
    },
    {
     "data": {
      "text/plain": [
       "True"
      ]
     },
     "execution_count": 2,
     "metadata": {},
     "output_type": "execute_result"
    },
    {
     "data": {
      "text/plain": [
       "True"
      ]
     },
     "execution_count": 2,
     "metadata": {},
     "output_type": "execute_result"
    },
    {
     "data": {
      "text/plain": [
       "True"
      ]
     },
     "execution_count": 2,
     "metadata": {},
     "output_type": "execute_result"
    },
    {
     "data": {
      "text/plain": [
       "True"
      ]
     },
     "execution_count": 2,
     "metadata": {},
     "output_type": "execute_result"
    },
    {
     "data": {
      "text/plain": [
       "True"
      ]
     },
     "execution_count": 2,
     "metadata": {},
     "output_type": "execute_result"
    },
    {
     "data": {
      "text/plain": [
       "True"
      ]
     },
     "execution_count": 2,
     "metadata": {},
     "output_type": "execute_result"
    },
    {
     "data": {
      "text/plain": [
       "True"
      ]
     },
     "execution_count": 2,
     "metadata": {},
     "output_type": "execute_result"
    },
    {
     "data": {
      "text/plain": [
       "True"
      ]
     },
     "execution_count": 2,
     "metadata": {},
     "output_type": "execute_result"
    },
    {
     "data": {
      "text/plain": [
       "True"
      ]
     },
     "execution_count": 2,
     "metadata": {},
     "output_type": "execute_result"
    },
    {
     "name": "stdout",
     "output_type": "stream",
     "text": [
      "Done\n"
     ]
    },
    {
     "data": {
      "text/plain": [
       "True"
      ]
     },
     "execution_count": 2,
     "metadata": {},
     "output_type": "execute_result"
    },
    {
     "data": {
      "text/plain": [
       "True"
      ]
     },
     "execution_count": 2,
     "metadata": {},
     "output_type": "execute_result"
    },
    {
     "data": {
      "text/plain": [
       "True"
      ]
     },
     "execution_count": 2,
     "metadata": {},
     "output_type": "execute_result"
    },
    {
     "data": {
      "text/plain": [
       "True"
      ]
     },
     "execution_count": 2,
     "metadata": {},
     "output_type": "execute_result"
    },
    {
     "data": {
      "text/plain": [
       "True"
      ]
     },
     "execution_count": 2,
     "metadata": {},
     "output_type": "execute_result"
    },
    {
     "data": {
      "text/plain": [
       "True"
      ]
     },
     "execution_count": 2,
     "metadata": {},
     "output_type": "execute_result"
    },
    {
     "data": {
      "text/plain": [
       "True"
      ]
     },
     "execution_count": 2,
     "metadata": {},
     "output_type": "execute_result"
    },
    {
     "data": {
      "text/plain": [
       "True"
      ]
     },
     "execution_count": 2,
     "metadata": {},
     "output_type": "execute_result"
    },
    {
     "data": {
      "text/plain": [
       "True"
      ]
     },
     "execution_count": 2,
     "metadata": {},
     "output_type": "execute_result"
    },
    {
     "data": {
      "text/plain": [
       "True"
      ]
     },
     "execution_count": 2,
     "metadata": {},
     "output_type": "execute_result"
    },
    {
     "data": {
      "text/plain": [
       "True"
      ]
     },
     "execution_count": 2,
     "metadata": {},
     "output_type": "execute_result"
    },
    {
     "data": {
      "text/plain": [
       "True"
      ]
     },
     "execution_count": 2,
     "metadata": {},
     "output_type": "execute_result"
    },
    {
     "data": {
      "text/plain": [
       "True"
      ]
     },
     "execution_count": 2,
     "metadata": {},
     "output_type": "execute_result"
    },
    {
     "data": {
      "text/plain": [
       "True"
      ]
     },
     "execution_count": 2,
     "metadata": {},
     "output_type": "execute_result"
    },
    {
     "data": {
      "text/plain": [
       "True"
      ]
     },
     "execution_count": 2,
     "metadata": {},
     "output_type": "execute_result"
    },
    {
     "data": {
      "text/plain": [
       "True"
      ]
     },
     "execution_count": 2,
     "metadata": {},
     "output_type": "execute_result"
    },
    {
     "data": {
      "text/plain": [
       "True"
      ]
     },
     "execution_count": 2,
     "metadata": {},
     "output_type": "execute_result"
    },
    {
     "data": {
      "text/plain": [
       "True"
      ]
     },
     "execution_count": 2,
     "metadata": {},
     "output_type": "execute_result"
    },
    {
     "name": "stdout",
     "output_type": "stream",
     "text": [
      "Done\n"
     ]
    },
    {
     "data": {
      "text/plain": [
       "True"
      ]
     },
     "execution_count": 2,
     "metadata": {},
     "output_type": "execute_result"
    },
    {
     "data": {
      "text/plain": [
       "True"
      ]
     },
     "execution_count": 2,
     "metadata": {},
     "output_type": "execute_result"
    },
    {
     "data": {
      "text/plain": [
       "True"
      ]
     },
     "execution_count": 2,
     "metadata": {},
     "output_type": "execute_result"
    },
    {
     "data": {
      "text/plain": [
       "True"
      ]
     },
     "execution_count": 2,
     "metadata": {},
     "output_type": "execute_result"
    },
    {
     "data": {
      "text/plain": [
       "True"
      ]
     },
     "execution_count": 2,
     "metadata": {},
     "output_type": "execute_result"
    },
    {
     "data": {
      "text/plain": [
       "True"
      ]
     },
     "execution_count": 2,
     "metadata": {},
     "output_type": "execute_result"
    },
    {
     "data": {
      "text/plain": [
       "True"
      ]
     },
     "execution_count": 2,
     "metadata": {},
     "output_type": "execute_result"
    },
    {
     "data": {
      "text/plain": [
       "True"
      ]
     },
     "execution_count": 2,
     "metadata": {},
     "output_type": "execute_result"
    },
    {
     "data": {
      "text/plain": [
       "True"
      ]
     },
     "execution_count": 2,
     "metadata": {},
     "output_type": "execute_result"
    },
    {
     "data": {
      "text/plain": [
       "True"
      ]
     },
     "execution_count": 2,
     "metadata": {},
     "output_type": "execute_result"
    },
    {
     "data": {
      "text/plain": [
       "True"
      ]
     },
     "execution_count": 2,
     "metadata": {},
     "output_type": "execute_result"
    },
    {
     "data": {
      "text/plain": [
       "True"
      ]
     },
     "execution_count": 2,
     "metadata": {},
     "output_type": "execute_result"
    },
    {
     "data": {
      "text/plain": [
       "True"
      ]
     },
     "execution_count": 2,
     "metadata": {},
     "output_type": "execute_result"
    },
    {
     "name": "stdout",
     "output_type": "stream",
     "text": [
      "Done\n"
     ]
    },
    {
     "data": {
      "text/plain": [
       "True"
      ]
     },
     "execution_count": 2,
     "metadata": {},
     "output_type": "execute_result"
    },
    {
     "data": {
      "text/plain": [
       "True"
      ]
     },
     "execution_count": 2,
     "metadata": {},
     "output_type": "execute_result"
    },
    {
     "data": {
      "text/plain": [
       "True"
      ]
     },
     "execution_count": 2,
     "metadata": {},
     "output_type": "execute_result"
    },
    {
     "data": {
      "text/plain": [
       "True"
      ]
     },
     "execution_count": 2,
     "metadata": {},
     "output_type": "execute_result"
    },
    {
     "data": {
      "text/plain": [
       "True"
      ]
     },
     "execution_count": 2,
     "metadata": {},
     "output_type": "execute_result"
    },
    {
     "data": {
      "text/plain": [
       "True"
      ]
     },
     "execution_count": 2,
     "metadata": {},
     "output_type": "execute_result"
    },
    {
     "data": {
      "text/plain": [
       "True"
      ]
     },
     "execution_count": 2,
     "metadata": {},
     "output_type": "execute_result"
    },
    {
     "data": {
      "text/plain": [
       "True"
      ]
     },
     "execution_count": 2,
     "metadata": {},
     "output_type": "execute_result"
    },
    {
     "data": {
      "text/plain": [
       "True"
      ]
     },
     "execution_count": 2,
     "metadata": {},
     "output_type": "execute_result"
    },
    {
     "data": {
      "text/plain": [
       "True"
      ]
     },
     "execution_count": 2,
     "metadata": {},
     "output_type": "execute_result"
    },
    {
     "data": {
      "text/plain": [
       "True"
      ]
     },
     "execution_count": 2,
     "metadata": {},
     "output_type": "execute_result"
    },
    {
     "data": {
      "text/plain": [
       "True"
      ]
     },
     "execution_count": 2,
     "metadata": {},
     "output_type": "execute_result"
    },
    {
     "data": {
      "text/plain": [
       "True"
      ]
     },
     "execution_count": 2,
     "metadata": {},
     "output_type": "execute_result"
    },
    {
     "data": {
      "text/plain": [
       "True"
      ]
     },
     "execution_count": 2,
     "metadata": {},
     "output_type": "execute_result"
    },
    {
     "data": {
      "text/plain": [
       "True"
      ]
     },
     "execution_count": 2,
     "metadata": {},
     "output_type": "execute_result"
    },
    {
     "data": {
      "text/plain": [
       "True"
      ]
     },
     "execution_count": 2,
     "metadata": {},
     "output_type": "execute_result"
    },
    {
     "data": {
      "text/plain": [
       "True"
      ]
     },
     "execution_count": 2,
     "metadata": {},
     "output_type": "execute_result"
    },
    {
     "data": {
      "text/plain": [
       "True"
      ]
     },
     "execution_count": 2,
     "metadata": {},
     "output_type": "execute_result"
    },
    {
     "data": {
      "text/plain": [
       "True"
      ]
     },
     "execution_count": 2,
     "metadata": {},
     "output_type": "execute_result"
    },
    {
     "data": {
      "text/plain": [
       "True"
      ]
     },
     "execution_count": 2,
     "metadata": {},
     "output_type": "execute_result"
    },
    {
     "data": {
      "text/plain": [
       "True"
      ]
     },
     "execution_count": 2,
     "metadata": {},
     "output_type": "execute_result"
    },
    {
     "data": {
      "text/plain": [
       "True"
      ]
     },
     "execution_count": 2,
     "metadata": {},
     "output_type": "execute_result"
    },
    {
     "data": {
      "text/plain": [
       "True"
      ]
     },
     "execution_count": 2,
     "metadata": {},
     "output_type": "execute_result"
    },
    {
     "data": {
      "text/plain": [
       "True"
      ]
     },
     "execution_count": 2,
     "metadata": {},
     "output_type": "execute_result"
    },
    {
     "data": {
      "text/plain": [
       "True"
      ]
     },
     "execution_count": 2,
     "metadata": {},
     "output_type": "execute_result"
    },
    {
     "data": {
      "text/plain": [
       "True"
      ]
     },
     "execution_count": 2,
     "metadata": {},
     "output_type": "execute_result"
    },
    {
     "data": {
      "text/plain": [
       "True"
      ]
     },
     "execution_count": 2,
     "metadata": {},
     "output_type": "execute_result"
    },
    {
     "data": {
      "text/plain": [
       "True"
      ]
     },
     "execution_count": 2,
     "metadata": {},
     "output_type": "execute_result"
    },
    {
     "name": "stdout",
     "output_type": "stream",
     "text": [
      "Done\n"
     ]
    },
    {
     "data": {
      "text/plain": [
       "True"
      ]
     },
     "execution_count": 2,
     "metadata": {},
     "output_type": "execute_result"
    },
    {
     "data": {
      "text/plain": [
       "True"
      ]
     },
     "execution_count": 2,
     "metadata": {},
     "output_type": "execute_result"
    },
    {
     "data": {
      "text/plain": [
       "True"
      ]
     },
     "execution_count": 2,
     "metadata": {},
     "output_type": "execute_result"
    },
    {
     "data": {
      "text/plain": [
       "True"
      ]
     },
     "execution_count": 2,
     "metadata": {},
     "output_type": "execute_result"
    },
    {
     "data": {
      "text/plain": [
       "True"
      ]
     },
     "execution_count": 2,
     "metadata": {},
     "output_type": "execute_result"
    },
    {
     "data": {
      "text/plain": [
       "True"
      ]
     },
     "execution_count": 2,
     "metadata": {},
     "output_type": "execute_result"
    },
    {
     "data": {
      "text/plain": [
       "True"
      ]
     },
     "execution_count": 2,
     "metadata": {},
     "output_type": "execute_result"
    },
    {
     "data": {
      "text/plain": [
       "True"
      ]
     },
     "execution_count": 2,
     "metadata": {},
     "output_type": "execute_result"
    },
    {
     "data": {
      "text/plain": [
       "True"
      ]
     },
     "execution_count": 2,
     "metadata": {},
     "output_type": "execute_result"
    },
    {
     "data": {
      "text/plain": [
       "True"
      ]
     },
     "execution_count": 2,
     "metadata": {},
     "output_type": "execute_result"
    },
    {
     "data": {
      "text/plain": [
       "True"
      ]
     },
     "execution_count": 2,
     "metadata": {},
     "output_type": "execute_result"
    },
    {
     "data": {
      "text/plain": [
       "True"
      ]
     },
     "execution_count": 2,
     "metadata": {},
     "output_type": "execute_result"
    },
    {
     "data": {
      "text/plain": [
       "True"
      ]
     },
     "execution_count": 2,
     "metadata": {},
     "output_type": "execute_result"
    },
    {
     "data": {
      "text/plain": [
       "True"
      ]
     },
     "execution_count": 2,
     "metadata": {},
     "output_type": "execute_result"
    },
    {
     "data": {
      "text/plain": [
       "True"
      ]
     },
     "execution_count": 2,
     "metadata": {},
     "output_type": "execute_result"
    },
    {
     "data": {
      "text/plain": [
       "True"
      ]
     },
     "execution_count": 2,
     "metadata": {},
     "output_type": "execute_result"
    },
    {
     "data": {
      "text/plain": [
       "True"
      ]
     },
     "execution_count": 2,
     "metadata": {},
     "output_type": "execute_result"
    },
    {
     "data": {
      "text/plain": [
       "True"
      ]
     },
     "execution_count": 2,
     "metadata": {},
     "output_type": "execute_result"
    },
    {
     "name": "stdout",
     "output_type": "stream",
     "text": [
      "Done\n"
     ]
    },
    {
     "data": {
      "text/plain": [
       "True"
      ]
     },
     "execution_count": 2,
     "metadata": {},
     "output_type": "execute_result"
    },
    {
     "data": {
      "text/plain": [
       "True"
      ]
     },
     "execution_count": 2,
     "metadata": {},
     "output_type": "execute_result"
    },
    {
     "data": {
      "text/plain": [
       "True"
      ]
     },
     "execution_count": 2,
     "metadata": {},
     "output_type": "execute_result"
    },
    {
     "data": {
      "text/plain": [
       "True"
      ]
     },
     "execution_count": 2,
     "metadata": {},
     "output_type": "execute_result"
    },
    {
     "data": {
      "text/plain": [
       "True"
      ]
     },
     "execution_count": 2,
     "metadata": {},
     "output_type": "execute_result"
    },
    {
     "data": {
      "text/plain": [
       "True"
      ]
     },
     "execution_count": 2,
     "metadata": {},
     "output_type": "execute_result"
    },
    {
     "data": {
      "text/plain": [
       "True"
      ]
     },
     "execution_count": 2,
     "metadata": {},
     "output_type": "execute_result"
    },
    {
     "data": {
      "text/plain": [
       "True"
      ]
     },
     "execution_count": 2,
     "metadata": {},
     "output_type": "execute_result"
    },
    {
     "data": {
      "text/plain": [
       "True"
      ]
     },
     "execution_count": 2,
     "metadata": {},
     "output_type": "execute_result"
    },
    {
     "data": {
      "text/plain": [
       "True"
      ]
     },
     "execution_count": 2,
     "metadata": {},
     "output_type": "execute_result"
    },
    {
     "data": {
      "text/plain": [
       "True"
      ]
     },
     "execution_count": 2,
     "metadata": {},
     "output_type": "execute_result"
    },
    {
     "data": {
      "text/plain": [
       "True"
      ]
     },
     "execution_count": 2,
     "metadata": {},
     "output_type": "execute_result"
    },
    {
     "data": {
      "text/plain": [
       "True"
      ]
     },
     "execution_count": 2,
     "metadata": {},
     "output_type": "execute_result"
    },
    {
     "data": {
      "text/plain": [
       "True"
      ]
     },
     "execution_count": 2,
     "metadata": {},
     "output_type": "execute_result"
    },
    {
     "data": {
      "text/plain": [
       "True"
      ]
     },
     "execution_count": 2,
     "metadata": {},
     "output_type": "execute_result"
    },
    {
     "data": {
      "text/plain": [
       "True"
      ]
     },
     "execution_count": 2,
     "metadata": {},
     "output_type": "execute_result"
    },
    {
     "data": {
      "text/plain": [
       "True"
      ]
     },
     "execution_count": 2,
     "metadata": {},
     "output_type": "execute_result"
    },
    {
     "data": {
      "text/plain": [
       "True"
      ]
     },
     "execution_count": 2,
     "metadata": {},
     "output_type": "execute_result"
    },
    {
     "data": {
      "text/plain": [
       "True"
      ]
     },
     "execution_count": 2,
     "metadata": {},
     "output_type": "execute_result"
    },
    {
     "data": {
      "text/plain": [
       "True"
      ]
     },
     "execution_count": 2,
     "metadata": {},
     "output_type": "execute_result"
    },
    {
     "data": {
      "text/plain": [
       "True"
      ]
     },
     "execution_count": 2,
     "metadata": {},
     "output_type": "execute_result"
    },
    {
     "data": {
      "text/plain": [
       "True"
      ]
     },
     "execution_count": 2,
     "metadata": {},
     "output_type": "execute_result"
    },
    {
     "data": {
      "text/plain": [
       "True"
      ]
     },
     "execution_count": 2,
     "metadata": {},
     "output_type": "execute_result"
    },
    {
     "data": {
      "text/plain": [
       "True"
      ]
     },
     "execution_count": 2,
     "metadata": {},
     "output_type": "execute_result"
    },
    {
     "data": {
      "text/plain": [
       "True"
      ]
     },
     "execution_count": 2,
     "metadata": {},
     "output_type": "execute_result"
    },
    {
     "data": {
      "text/plain": [
       "True"
      ]
     },
     "execution_count": 2,
     "metadata": {},
     "output_type": "execute_result"
    },
    {
     "data": {
      "text/plain": [
       "True"
      ]
     },
     "execution_count": 2,
     "metadata": {},
     "output_type": "execute_result"
    },
    {
     "data": {
      "text/plain": [
       "True"
      ]
     },
     "execution_count": 2,
     "metadata": {},
     "output_type": "execute_result"
    },
    {
     "data": {
      "text/plain": [
       "True"
      ]
     },
     "execution_count": 2,
     "metadata": {},
     "output_type": "execute_result"
    },
    {
     "data": {
      "text/plain": [
       "True"
      ]
     },
     "execution_count": 2,
     "metadata": {},
     "output_type": "execute_result"
    },
    {
     "data": {
      "text/plain": [
       "True"
      ]
     },
     "execution_count": 2,
     "metadata": {},
     "output_type": "execute_result"
    },
    {
     "name": "stdout",
     "output_type": "stream",
     "text": [
      "Done\n"
     ]
    },
    {
     "data": {
      "text/plain": [
       "True"
      ]
     },
     "execution_count": 2,
     "metadata": {},
     "output_type": "execute_result"
    },
    {
     "data": {
      "text/plain": [
       "True"
      ]
     },
     "execution_count": 2,
     "metadata": {},
     "output_type": "execute_result"
    },
    {
     "data": {
      "text/plain": [
       "True"
      ]
     },
     "execution_count": 2,
     "metadata": {},
     "output_type": "execute_result"
    },
    {
     "data": {
      "text/plain": [
       "True"
      ]
     },
     "execution_count": 2,
     "metadata": {},
     "output_type": "execute_result"
    },
    {
     "data": {
      "text/plain": [
       "True"
      ]
     },
     "execution_count": 2,
     "metadata": {},
     "output_type": "execute_result"
    },
    {
     "data": {
      "text/plain": [
       "True"
      ]
     },
     "execution_count": 2,
     "metadata": {},
     "output_type": "execute_result"
    },
    {
     "data": {
      "text/plain": [
       "True"
      ]
     },
     "execution_count": 2,
     "metadata": {},
     "output_type": "execute_result"
    },
    {
     "data": {
      "text/plain": [
       "True"
      ]
     },
     "execution_count": 2,
     "metadata": {},
     "output_type": "execute_result"
    },
    {
     "data": {
      "text/plain": [
       "True"
      ]
     },
     "execution_count": 2,
     "metadata": {},
     "output_type": "execute_result"
    },
    {
     "data": {
      "text/plain": [
       "True"
      ]
     },
     "execution_count": 2,
     "metadata": {},
     "output_type": "execute_result"
    },
    {
     "data": {
      "text/plain": [
       "True"
      ]
     },
     "execution_count": 2,
     "metadata": {},
     "output_type": "execute_result"
    },
    {
     "data": {
      "text/plain": [
       "True"
      ]
     },
     "execution_count": 2,
     "metadata": {},
     "output_type": "execute_result"
    },
    {
     "data": {
      "text/plain": [
       "True"
      ]
     },
     "execution_count": 2,
     "metadata": {},
     "output_type": "execute_result"
    },
    {
     "data": {
      "text/plain": [
       "True"
      ]
     },
     "execution_count": 2,
     "metadata": {},
     "output_type": "execute_result"
    },
    {
     "data": {
      "text/plain": [
       "True"
      ]
     },
     "execution_count": 2,
     "metadata": {},
     "output_type": "execute_result"
    },
    {
     "data": {
      "text/plain": [
       "True"
      ]
     },
     "execution_count": 2,
     "metadata": {},
     "output_type": "execute_result"
    },
    {
     "data": {
      "text/plain": [
       "True"
      ]
     },
     "execution_count": 2,
     "metadata": {},
     "output_type": "execute_result"
    },
    {
     "data": {
      "text/plain": [
       "True"
      ]
     },
     "execution_count": 2,
     "metadata": {},
     "output_type": "execute_result"
    },
    {
     "data": {
      "text/plain": [
       "True"
      ]
     },
     "execution_count": 2,
     "metadata": {},
     "output_type": "execute_result"
    },
    {
     "data": {
      "text/plain": [
       "True"
      ]
     },
     "execution_count": 2,
     "metadata": {},
     "output_type": "execute_result"
    },
    {
     "data": {
      "text/plain": [
       "True"
      ]
     },
     "execution_count": 2,
     "metadata": {},
     "output_type": "execute_result"
    },
    {
     "data": {
      "text/plain": [
       "True"
      ]
     },
     "execution_count": 2,
     "metadata": {},
     "output_type": "execute_result"
    },
    {
     "name": "stdout",
     "output_type": "stream",
     "text": [
      "Done\n"
     ]
    },
    {
     "data": {
      "text/plain": [
       "True"
      ]
     },
     "execution_count": 2,
     "metadata": {},
     "output_type": "execute_result"
    },
    {
     "data": {
      "text/plain": [
       "True"
      ]
     },
     "execution_count": 2,
     "metadata": {},
     "output_type": "execute_result"
    },
    {
     "data": {
      "text/plain": [
       "True"
      ]
     },
     "execution_count": 2,
     "metadata": {},
     "output_type": "execute_result"
    },
    {
     "data": {
      "text/plain": [
       "True"
      ]
     },
     "execution_count": 2,
     "metadata": {},
     "output_type": "execute_result"
    },
    {
     "data": {
      "text/plain": [
       "True"
      ]
     },
     "execution_count": 2,
     "metadata": {},
     "output_type": "execute_result"
    },
    {
     "data": {
      "text/plain": [
       "True"
      ]
     },
     "execution_count": 2,
     "metadata": {},
     "output_type": "execute_result"
    },
    {
     "data": {
      "text/plain": [
       "True"
      ]
     },
     "execution_count": 2,
     "metadata": {},
     "output_type": "execute_result"
    },
    {
     "data": {
      "text/plain": [
       "True"
      ]
     },
     "execution_count": 2,
     "metadata": {},
     "output_type": "execute_result"
    },
    {
     "data": {
      "text/plain": [
       "True"
      ]
     },
     "execution_count": 2,
     "metadata": {},
     "output_type": "execute_result"
    },
    {
     "data": {
      "text/plain": [
       "True"
      ]
     },
     "execution_count": 2,
     "metadata": {},
     "output_type": "execute_result"
    },
    {
     "data": {
      "text/plain": [
       "True"
      ]
     },
     "execution_count": 2,
     "metadata": {},
     "output_type": "execute_result"
    },
    {
     "data": {
      "text/plain": [
       "True"
      ]
     },
     "execution_count": 2,
     "metadata": {},
     "output_type": "execute_result"
    },
    {
     "data": {
      "text/plain": [
       "True"
      ]
     },
     "execution_count": 2,
     "metadata": {},
     "output_type": "execute_result"
    },
    {
     "data": {
      "text/plain": [
       "True"
      ]
     },
     "execution_count": 2,
     "metadata": {},
     "output_type": "execute_result"
    },
    {
     "data": {
      "text/plain": [
       "True"
      ]
     },
     "execution_count": 2,
     "metadata": {},
     "output_type": "execute_result"
    },
    {
     "data": {
      "text/plain": [
       "True"
      ]
     },
     "execution_count": 2,
     "metadata": {},
     "output_type": "execute_result"
    },
    {
     "data": {
      "text/plain": [
       "True"
      ]
     },
     "execution_count": 2,
     "metadata": {},
     "output_type": "execute_result"
    },
    {
     "data": {
      "text/plain": [
       "True"
      ]
     },
     "execution_count": 2,
     "metadata": {},
     "output_type": "execute_result"
    },
    {
     "data": {
      "text/plain": [
       "True"
      ]
     },
     "execution_count": 2,
     "metadata": {},
     "output_type": "execute_result"
    },
    {
     "data": {
      "text/plain": [
       "True"
      ]
     },
     "execution_count": 2,
     "metadata": {},
     "output_type": "execute_result"
    },
    {
     "data": {
      "text/plain": [
       "True"
      ]
     },
     "execution_count": 2,
     "metadata": {},
     "output_type": "execute_result"
    },
    {
     "data": {
      "text/plain": [
       "True"
      ]
     },
     "execution_count": 2,
     "metadata": {},
     "output_type": "execute_result"
    },
    {
     "data": {
      "text/plain": [
       "True"
      ]
     },
     "execution_count": 2,
     "metadata": {},
     "output_type": "execute_result"
    },
    {
     "data": {
      "text/plain": [
       "True"
      ]
     },
     "execution_count": 2,
     "metadata": {},
     "output_type": "execute_result"
    },
    {
     "data": {
      "text/plain": [
       "True"
      ]
     },
     "execution_count": 2,
     "metadata": {},
     "output_type": "execute_result"
    },
    {
     "data": {
      "text/plain": [
       "True"
      ]
     },
     "execution_count": 2,
     "metadata": {},
     "output_type": "execute_result"
    },
    {
     "data": {
      "text/plain": [
       "True"
      ]
     },
     "execution_count": 2,
     "metadata": {},
     "output_type": "execute_result"
    },
    {
     "data": {
      "text/plain": [
       "True"
      ]
     },
     "execution_count": 2,
     "metadata": {},
     "output_type": "execute_result"
    },
    {
     "data": {
      "text/plain": [
       "True"
      ]
     },
     "execution_count": 2,
     "metadata": {},
     "output_type": "execute_result"
    },
    {
     "data": {
      "text/plain": [
       "True"
      ]
     },
     "execution_count": 2,
     "metadata": {},
     "output_type": "execute_result"
    },
    {
     "data": {
      "text/plain": [
       "True"
      ]
     },
     "execution_count": 2,
     "metadata": {},
     "output_type": "execute_result"
    },
    {
     "data": {
      "text/plain": [
       "True"
      ]
     },
     "execution_count": 2,
     "metadata": {},
     "output_type": "execute_result"
    },
    {
     "data": {
      "text/plain": [
       "True"
      ]
     },
     "execution_count": 2,
     "metadata": {},
     "output_type": "execute_result"
    },
    {
     "data": {
      "text/plain": [
       "True"
      ]
     },
     "execution_count": 2,
     "metadata": {},
     "output_type": "execute_result"
    },
    {
     "data": {
      "text/plain": [
       "True"
      ]
     },
     "execution_count": 2,
     "metadata": {},
     "output_type": "execute_result"
    },
    {
     "name": "stdout",
     "output_type": "stream",
     "text": [
      "Done\n"
     ]
    },
    {
     "data": {
      "text/plain": [
       "True"
      ]
     },
     "execution_count": 2,
     "metadata": {},
     "output_type": "execute_result"
    },
    {
     "data": {
      "text/plain": [
       "True"
      ]
     },
     "execution_count": 2,
     "metadata": {},
     "output_type": "execute_result"
    },
    {
     "data": {
      "text/plain": [
       "True"
      ]
     },
     "execution_count": 2,
     "metadata": {},
     "output_type": "execute_result"
    },
    {
     "data": {
      "text/plain": [
       "True"
      ]
     },
     "execution_count": 2,
     "metadata": {},
     "output_type": "execute_result"
    },
    {
     "data": {
      "text/plain": [
       "True"
      ]
     },
     "execution_count": 2,
     "metadata": {},
     "output_type": "execute_result"
    },
    {
     "data": {
      "text/plain": [
       "True"
      ]
     },
     "execution_count": 2,
     "metadata": {},
     "output_type": "execute_result"
    },
    {
     "data": {
      "text/plain": [
       "True"
      ]
     },
     "execution_count": 2,
     "metadata": {},
     "output_type": "execute_result"
    },
    {
     "data": {
      "text/plain": [
       "True"
      ]
     },
     "execution_count": 2,
     "metadata": {},
     "output_type": "execute_result"
    },
    {
     "data": {
      "text/plain": [
       "True"
      ]
     },
     "execution_count": 2,
     "metadata": {},
     "output_type": "execute_result"
    },
    {
     "data": {
      "text/plain": [
       "True"
      ]
     },
     "execution_count": 2,
     "metadata": {},
     "output_type": "execute_result"
    },
    {
     "data": {
      "text/plain": [
       "True"
      ]
     },
     "execution_count": 2,
     "metadata": {},
     "output_type": "execute_result"
    },
    {
     "name": "stdout",
     "output_type": "stream",
     "text": [
      "Done\n"
     ]
    },
    {
     "data": {
      "text/plain": [
       "True"
      ]
     },
     "execution_count": 2,
     "metadata": {},
     "output_type": "execute_result"
    },
    {
     "data": {
      "text/plain": [
       "True"
      ]
     },
     "execution_count": 2,
     "metadata": {},
     "output_type": "execute_result"
    },
    {
     "data": {
      "text/plain": [
       "True"
      ]
     },
     "execution_count": 2,
     "metadata": {},
     "output_type": "execute_result"
    },
    {
     "data": {
      "text/plain": [
       "True"
      ]
     },
     "execution_count": 2,
     "metadata": {},
     "output_type": "execute_result"
    },
    {
     "data": {
      "text/plain": [
       "True"
      ]
     },
     "execution_count": 2,
     "metadata": {},
     "output_type": "execute_result"
    },
    {
     "data": {
      "text/plain": [
       "True"
      ]
     },
     "execution_count": 2,
     "metadata": {},
     "output_type": "execute_result"
    },
    {
     "data": {
      "text/plain": [
       "True"
      ]
     },
     "execution_count": 2,
     "metadata": {},
     "output_type": "execute_result"
    },
    {
     "data": {
      "text/plain": [
       "True"
      ]
     },
     "execution_count": 2,
     "metadata": {},
     "output_type": "execute_result"
    },
    {
     "data": {
      "text/plain": [
       "True"
      ]
     },
     "execution_count": 2,
     "metadata": {},
     "output_type": "execute_result"
    },
    {
     "data": {
      "text/plain": [
       "True"
      ]
     },
     "execution_count": 2,
     "metadata": {},
     "output_type": "execute_result"
    },
    {
     "data": {
      "text/plain": [
       "True"
      ]
     },
     "execution_count": 2,
     "metadata": {},
     "output_type": "execute_result"
    },
    {
     "data": {
      "text/plain": [
       "True"
      ]
     },
     "execution_count": 2,
     "metadata": {},
     "output_type": "execute_result"
    },
    {
     "data": {
      "text/plain": [
       "True"
      ]
     },
     "execution_count": 2,
     "metadata": {},
     "output_type": "execute_result"
    },
    {
     "data": {
      "text/plain": [
       "True"
      ]
     },
     "execution_count": 2,
     "metadata": {},
     "output_type": "execute_result"
    },
    {
     "data": {
      "text/plain": [
       "True"
      ]
     },
     "execution_count": 2,
     "metadata": {},
     "output_type": "execute_result"
    },
    {
     "data": {
      "text/plain": [
       "True"
      ]
     },
     "execution_count": 2,
     "metadata": {},
     "output_type": "execute_result"
    },
    {
     "data": {
      "text/plain": [
       "True"
      ]
     },
     "execution_count": 2,
     "metadata": {},
     "output_type": "execute_result"
    },
    {
     "name": "stdout",
     "output_type": "stream",
     "text": [
      "Done\n"
     ]
    },
    {
     "data": {
      "text/plain": [
       "True"
      ]
     },
     "execution_count": 2,
     "metadata": {},
     "output_type": "execute_result"
    },
    {
     "data": {
      "text/plain": [
       "True"
      ]
     },
     "execution_count": 2,
     "metadata": {},
     "output_type": "execute_result"
    },
    {
     "data": {
      "text/plain": [
       "True"
      ]
     },
     "execution_count": 2,
     "metadata": {},
     "output_type": "execute_result"
    },
    {
     "data": {
      "text/plain": [
       "True"
      ]
     },
     "execution_count": 2,
     "metadata": {},
     "output_type": "execute_result"
    },
    {
     "data": {
      "text/plain": [
       "True"
      ]
     },
     "execution_count": 2,
     "metadata": {},
     "output_type": "execute_result"
    },
    {
     "data": {
      "text/plain": [
       "True"
      ]
     },
     "execution_count": 2,
     "metadata": {},
     "output_type": "execute_result"
    },
    {
     "data": {
      "text/plain": [
       "True"
      ]
     },
     "execution_count": 2,
     "metadata": {},
     "output_type": "execute_result"
    },
    {
     "data": {
      "text/plain": [
       "True"
      ]
     },
     "execution_count": 2,
     "metadata": {},
     "output_type": "execute_result"
    },
    {
     "data": {
      "text/plain": [
       "True"
      ]
     },
     "execution_count": 2,
     "metadata": {},
     "output_type": "execute_result"
    },
    {
     "data": {
      "text/plain": [
       "True"
      ]
     },
     "execution_count": 2,
     "metadata": {},
     "output_type": "execute_result"
    },
    {
     "data": {
      "text/plain": [
       "True"
      ]
     },
     "execution_count": 2,
     "metadata": {},
     "output_type": "execute_result"
    },
    {
     "data": {
      "text/plain": [
       "True"
      ]
     },
     "execution_count": 2,
     "metadata": {},
     "output_type": "execute_result"
    },
    {
     "data": {
      "text/plain": [
       "True"
      ]
     },
     "execution_count": 2,
     "metadata": {},
     "output_type": "execute_result"
    },
    {
     "data": {
      "text/plain": [
       "True"
      ]
     },
     "execution_count": 2,
     "metadata": {},
     "output_type": "execute_result"
    },
    {
     "data": {
      "text/plain": [
       "True"
      ]
     },
     "execution_count": 2,
     "metadata": {},
     "output_type": "execute_result"
    },
    {
     "data": {
      "text/plain": [
       "True"
      ]
     },
     "execution_count": 2,
     "metadata": {},
     "output_type": "execute_result"
    },
    {
     "data": {
      "text/plain": [
       "True"
      ]
     },
     "execution_count": 2,
     "metadata": {},
     "output_type": "execute_result"
    },
    {
     "name": "stdout",
     "output_type": "stream",
     "text": [
      "Done\n"
     ]
    },
    {
     "data": {
      "text/plain": [
       "True"
      ]
     },
     "execution_count": 2,
     "metadata": {},
     "output_type": "execute_result"
    },
    {
     "data": {
      "text/plain": [
       "True"
      ]
     },
     "execution_count": 2,
     "metadata": {},
     "output_type": "execute_result"
    },
    {
     "data": {
      "text/plain": [
       "True"
      ]
     },
     "execution_count": 2,
     "metadata": {},
     "output_type": "execute_result"
    },
    {
     "data": {
      "text/plain": [
       "True"
      ]
     },
     "execution_count": 2,
     "metadata": {},
     "output_type": "execute_result"
    },
    {
     "data": {
      "text/plain": [
       "True"
      ]
     },
     "execution_count": 2,
     "metadata": {},
     "output_type": "execute_result"
    },
    {
     "data": {
      "text/plain": [
       "True"
      ]
     },
     "execution_count": 2,
     "metadata": {},
     "output_type": "execute_result"
    },
    {
     "data": {
      "text/plain": [
       "True"
      ]
     },
     "execution_count": 2,
     "metadata": {},
     "output_type": "execute_result"
    },
    {
     "data": {
      "text/plain": [
       "True"
      ]
     },
     "execution_count": 2,
     "metadata": {},
     "output_type": "execute_result"
    },
    {
     "data": {
      "text/plain": [
       "True"
      ]
     },
     "execution_count": 2,
     "metadata": {},
     "output_type": "execute_result"
    },
    {
     "data": {
      "text/plain": [
       "True"
      ]
     },
     "execution_count": 2,
     "metadata": {},
     "output_type": "execute_result"
    },
    {
     "data": {
      "text/plain": [
       "True"
      ]
     },
     "execution_count": 2,
     "metadata": {},
     "output_type": "execute_result"
    },
    {
     "data": {
      "text/plain": [
       "True"
      ]
     },
     "execution_count": 2,
     "metadata": {},
     "output_type": "execute_result"
    },
    {
     "name": "stdout",
     "output_type": "stream",
     "text": [
      "Done\n"
     ]
    },
    {
     "data": {
      "text/plain": [
       "True"
      ]
     },
     "execution_count": 2,
     "metadata": {},
     "output_type": "execute_result"
    },
    {
     "data": {
      "text/plain": [
       "True"
      ]
     },
     "execution_count": 2,
     "metadata": {},
     "output_type": "execute_result"
    },
    {
     "data": {
      "text/plain": [
       "True"
      ]
     },
     "execution_count": 2,
     "metadata": {},
     "output_type": "execute_result"
    },
    {
     "data": {
      "text/plain": [
       "True"
      ]
     },
     "execution_count": 2,
     "metadata": {},
     "output_type": "execute_result"
    },
    {
     "data": {
      "text/plain": [
       "True"
      ]
     },
     "execution_count": 2,
     "metadata": {},
     "output_type": "execute_result"
    },
    {
     "data": {
      "text/plain": [
       "True"
      ]
     },
     "execution_count": 2,
     "metadata": {},
     "output_type": "execute_result"
    },
    {
     "data": {
      "text/plain": [
       "True"
      ]
     },
     "execution_count": 2,
     "metadata": {},
     "output_type": "execute_result"
    },
    {
     "data": {
      "text/plain": [
       "True"
      ]
     },
     "execution_count": 2,
     "metadata": {},
     "output_type": "execute_result"
    },
    {
     "data": {
      "text/plain": [
       "True"
      ]
     },
     "execution_count": 2,
     "metadata": {},
     "output_type": "execute_result"
    },
    {
     "data": {
      "text/plain": [
       "True"
      ]
     },
     "execution_count": 2,
     "metadata": {},
     "output_type": "execute_result"
    },
    {
     "data": {
      "text/plain": [
       "True"
      ]
     },
     "execution_count": 2,
     "metadata": {},
     "output_type": "execute_result"
    },
    {
     "data": {
      "text/plain": [
       "True"
      ]
     },
     "execution_count": 2,
     "metadata": {},
     "output_type": "execute_result"
    },
    {
     "data": {
      "text/plain": [
       "True"
      ]
     },
     "execution_count": 2,
     "metadata": {},
     "output_type": "execute_result"
    },
    {
     "data": {
      "text/plain": [
       "True"
      ]
     },
     "execution_count": 2,
     "metadata": {},
     "output_type": "execute_result"
    },
    {
     "data": {
      "text/plain": [
       "True"
      ]
     },
     "execution_count": 2,
     "metadata": {},
     "output_type": "execute_result"
    },
    {
     "data": {
      "text/plain": [
       "True"
      ]
     },
     "execution_count": 2,
     "metadata": {},
     "output_type": "execute_result"
    },
    {
     "data": {
      "text/plain": [
       "True"
      ]
     },
     "execution_count": 2,
     "metadata": {},
     "output_type": "execute_result"
    },
    {
     "data": {
      "text/plain": [
       "True"
      ]
     },
     "execution_count": 2,
     "metadata": {},
     "output_type": "execute_result"
    },
    {
     "data": {
      "text/plain": [
       "True"
      ]
     },
     "execution_count": 2,
     "metadata": {},
     "output_type": "execute_result"
    },
    {
     "data": {
      "text/plain": [
       "True"
      ]
     },
     "execution_count": 2,
     "metadata": {},
     "output_type": "execute_result"
    },
    {
     "data": {
      "text/plain": [
       "True"
      ]
     },
     "execution_count": 2,
     "metadata": {},
     "output_type": "execute_result"
    },
    {
     "data": {
      "text/plain": [
       "True"
      ]
     },
     "execution_count": 2,
     "metadata": {},
     "output_type": "execute_result"
    },
    {
     "data": {
      "text/plain": [
       "True"
      ]
     },
     "execution_count": 2,
     "metadata": {},
     "output_type": "execute_result"
    },
    {
     "data": {
      "text/plain": [
       "True"
      ]
     },
     "execution_count": 2,
     "metadata": {},
     "output_type": "execute_result"
    },
    {
     "data": {
      "text/plain": [
       "True"
      ]
     },
     "execution_count": 2,
     "metadata": {},
     "output_type": "execute_result"
    },
    {
     "data": {
      "text/plain": [
       "True"
      ]
     },
     "execution_count": 2,
     "metadata": {},
     "output_type": "execute_result"
    },
    {
     "data": {
      "text/plain": [
       "True"
      ]
     },
     "execution_count": 2,
     "metadata": {},
     "output_type": "execute_result"
    },
    {
     "data": {
      "text/plain": [
       "True"
      ]
     },
     "execution_count": 2,
     "metadata": {},
     "output_type": "execute_result"
    },
    {
     "name": "stdout",
     "output_type": "stream",
     "text": [
      "Done\n"
     ]
    },
    {
     "data": {
      "text/plain": [
       "True"
      ]
     },
     "execution_count": 2,
     "metadata": {},
     "output_type": "execute_result"
    },
    {
     "data": {
      "text/plain": [
       "True"
      ]
     },
     "execution_count": 2,
     "metadata": {},
     "output_type": "execute_result"
    },
    {
     "data": {
      "text/plain": [
       "True"
      ]
     },
     "execution_count": 2,
     "metadata": {},
     "output_type": "execute_result"
    },
    {
     "data": {
      "text/plain": [
       "True"
      ]
     },
     "execution_count": 2,
     "metadata": {},
     "output_type": "execute_result"
    },
    {
     "data": {
      "text/plain": [
       "True"
      ]
     },
     "execution_count": 2,
     "metadata": {},
     "output_type": "execute_result"
    },
    {
     "data": {
      "text/plain": [
       "True"
      ]
     },
     "execution_count": 2,
     "metadata": {},
     "output_type": "execute_result"
    },
    {
     "data": {
      "text/plain": [
       "True"
      ]
     },
     "execution_count": 2,
     "metadata": {},
     "output_type": "execute_result"
    },
    {
     "data": {
      "text/plain": [
       "True"
      ]
     },
     "execution_count": 2,
     "metadata": {},
     "output_type": "execute_result"
    },
    {
     "data": {
      "text/plain": [
       "True"
      ]
     },
     "execution_count": 2,
     "metadata": {},
     "output_type": "execute_result"
    },
    {
     "data": {
      "text/plain": [
       "True"
      ]
     },
     "execution_count": 2,
     "metadata": {},
     "output_type": "execute_result"
    },
    {
     "data": {
      "text/plain": [
       "True"
      ]
     },
     "execution_count": 2,
     "metadata": {},
     "output_type": "execute_result"
    },
    {
     "name": "stdout",
     "output_type": "stream",
     "text": [
      "Done\n"
     ]
    },
    {
     "data": {
      "text/plain": [
       "True"
      ]
     },
     "execution_count": 2,
     "metadata": {},
     "output_type": "execute_result"
    },
    {
     "data": {
      "text/plain": [
       "True"
      ]
     },
     "execution_count": 2,
     "metadata": {},
     "output_type": "execute_result"
    },
    {
     "data": {
      "text/plain": [
       "True"
      ]
     },
     "execution_count": 2,
     "metadata": {},
     "output_type": "execute_result"
    },
    {
     "data": {
      "text/plain": [
       "True"
      ]
     },
     "execution_count": 2,
     "metadata": {},
     "output_type": "execute_result"
    },
    {
     "data": {
      "text/plain": [
       "True"
      ]
     },
     "execution_count": 2,
     "metadata": {},
     "output_type": "execute_result"
    },
    {
     "data": {
      "text/plain": [
       "True"
      ]
     },
     "execution_count": 2,
     "metadata": {},
     "output_type": "execute_result"
    },
    {
     "data": {
      "text/plain": [
       "True"
      ]
     },
     "execution_count": 2,
     "metadata": {},
     "output_type": "execute_result"
    },
    {
     "data": {
      "text/plain": [
       "True"
      ]
     },
     "execution_count": 2,
     "metadata": {},
     "output_type": "execute_result"
    },
    {
     "data": {
      "text/plain": [
       "True"
      ]
     },
     "execution_count": 2,
     "metadata": {},
     "output_type": "execute_result"
    },
    {
     "data": {
      "text/plain": [
       "True"
      ]
     },
     "execution_count": 2,
     "metadata": {},
     "output_type": "execute_result"
    },
    {
     "data": {
      "text/plain": [
       "True"
      ]
     },
     "execution_count": 2,
     "metadata": {},
     "output_type": "execute_result"
    },
    {
     "data": {
      "text/plain": [
       "True"
      ]
     },
     "execution_count": 2,
     "metadata": {},
     "output_type": "execute_result"
    },
    {
     "data": {
      "text/plain": [
       "True"
      ]
     },
     "execution_count": 2,
     "metadata": {},
     "output_type": "execute_result"
    },
    {
     "data": {
      "text/plain": [
       "True"
      ]
     },
     "execution_count": 2,
     "metadata": {},
     "output_type": "execute_result"
    },
    {
     "data": {
      "text/plain": [
       "True"
      ]
     },
     "execution_count": 2,
     "metadata": {},
     "output_type": "execute_result"
    },
    {
     "data": {
      "text/plain": [
       "True"
      ]
     },
     "execution_count": 2,
     "metadata": {},
     "output_type": "execute_result"
    },
    {
     "data": {
      "text/plain": [
       "True"
      ]
     },
     "execution_count": 2,
     "metadata": {},
     "output_type": "execute_result"
    },
    {
     "data": {
      "text/plain": [
       "True"
      ]
     },
     "execution_count": 2,
     "metadata": {},
     "output_type": "execute_result"
    },
    {
     "data": {
      "text/plain": [
       "True"
      ]
     },
     "execution_count": 2,
     "metadata": {},
     "output_type": "execute_result"
    },
    {
     "data": {
      "text/plain": [
       "True"
      ]
     },
     "execution_count": 2,
     "metadata": {},
     "output_type": "execute_result"
    },
    {
     "data": {
      "text/plain": [
       "True"
      ]
     },
     "execution_count": 2,
     "metadata": {},
     "output_type": "execute_result"
    },
    {
     "data": {
      "text/plain": [
       "True"
      ]
     },
     "execution_count": 2,
     "metadata": {},
     "output_type": "execute_result"
    },
    {
     "data": {
      "text/plain": [
       "True"
      ]
     },
     "execution_count": 2,
     "metadata": {},
     "output_type": "execute_result"
    },
    {
     "name": "stdout",
     "output_type": "stream",
     "text": [
      "Done\n"
     ]
    },
    {
     "data": {
      "text/plain": [
       "True"
      ]
     },
     "execution_count": 2,
     "metadata": {},
     "output_type": "execute_result"
    },
    {
     "data": {
      "text/plain": [
       "True"
      ]
     },
     "execution_count": 2,
     "metadata": {},
     "output_type": "execute_result"
    },
    {
     "data": {
      "text/plain": [
       "True"
      ]
     },
     "execution_count": 2,
     "metadata": {},
     "output_type": "execute_result"
    },
    {
     "data": {
      "text/plain": [
       "True"
      ]
     },
     "execution_count": 2,
     "metadata": {},
     "output_type": "execute_result"
    },
    {
     "data": {
      "text/plain": [
       "True"
      ]
     },
     "execution_count": 2,
     "metadata": {},
     "output_type": "execute_result"
    },
    {
     "data": {
      "text/plain": [
       "True"
      ]
     },
     "execution_count": 2,
     "metadata": {},
     "output_type": "execute_result"
    },
    {
     "data": {
      "text/plain": [
       "True"
      ]
     },
     "execution_count": 2,
     "metadata": {},
     "output_type": "execute_result"
    },
    {
     "data": {
      "text/plain": [
       "True"
      ]
     },
     "execution_count": 2,
     "metadata": {},
     "output_type": "execute_result"
    },
    {
     "data": {
      "text/plain": [
       "True"
      ]
     },
     "execution_count": 2,
     "metadata": {},
     "output_type": "execute_result"
    },
    {
     "data": {
      "text/plain": [
       "True"
      ]
     },
     "execution_count": 2,
     "metadata": {},
     "output_type": "execute_result"
    },
    {
     "data": {
      "text/plain": [
       "True"
      ]
     },
     "execution_count": 2,
     "metadata": {},
     "output_type": "execute_result"
    },
    {
     "data": {
      "text/plain": [
       "True"
      ]
     },
     "execution_count": 2,
     "metadata": {},
     "output_type": "execute_result"
    },
    {
     "data": {
      "text/plain": [
       "True"
      ]
     },
     "execution_count": 2,
     "metadata": {},
     "output_type": "execute_result"
    },
    {
     "data": {
      "text/plain": [
       "True"
      ]
     },
     "execution_count": 2,
     "metadata": {},
     "output_type": "execute_result"
    },
    {
     "data": {
      "text/plain": [
       "True"
      ]
     },
     "execution_count": 2,
     "metadata": {},
     "output_type": "execute_result"
    },
    {
     "data": {
      "text/plain": [
       "True"
      ]
     },
     "execution_count": 2,
     "metadata": {},
     "output_type": "execute_result"
    },
    {
     "data": {
      "text/plain": [
       "True"
      ]
     },
     "execution_count": 2,
     "metadata": {},
     "output_type": "execute_result"
    },
    {
     "data": {
      "text/plain": [
       "True"
      ]
     },
     "execution_count": 2,
     "metadata": {},
     "output_type": "execute_result"
    },
    {
     "data": {
      "text/plain": [
       "True"
      ]
     },
     "execution_count": 2,
     "metadata": {},
     "output_type": "execute_result"
    },
    {
     "data": {
      "text/plain": [
       "True"
      ]
     },
     "execution_count": 2,
     "metadata": {},
     "output_type": "execute_result"
    },
    {
     "data": {
      "text/plain": [
       "True"
      ]
     },
     "execution_count": 2,
     "metadata": {},
     "output_type": "execute_result"
    },
    {
     "data": {
      "text/plain": [
       "True"
      ]
     },
     "execution_count": 2,
     "metadata": {},
     "output_type": "execute_result"
    },
    {
     "data": {
      "text/plain": [
       "True"
      ]
     },
     "execution_count": 2,
     "metadata": {},
     "output_type": "execute_result"
    },
    {
     "data": {
      "text/plain": [
       "True"
      ]
     },
     "execution_count": 2,
     "metadata": {},
     "output_type": "execute_result"
    },
    {
     "data": {
      "text/plain": [
       "True"
      ]
     },
     "execution_count": 2,
     "metadata": {},
     "output_type": "execute_result"
    },
    {
     "data": {
      "text/plain": [
       "True"
      ]
     },
     "execution_count": 2,
     "metadata": {},
     "output_type": "execute_result"
    },
    {
     "data": {
      "text/plain": [
       "True"
      ]
     },
     "execution_count": 2,
     "metadata": {},
     "output_type": "execute_result"
    },
    {
     "data": {
      "text/plain": [
       "True"
      ]
     },
     "execution_count": 2,
     "metadata": {},
     "output_type": "execute_result"
    },
    {
     "data": {
      "text/plain": [
       "True"
      ]
     },
     "execution_count": 2,
     "metadata": {},
     "output_type": "execute_result"
    },
    {
     "data": {
      "text/plain": [
       "True"
      ]
     },
     "execution_count": 2,
     "metadata": {},
     "output_type": "execute_result"
    },
    {
     "data": {
      "text/plain": [
       "True"
      ]
     },
     "execution_count": 2,
     "metadata": {},
     "output_type": "execute_result"
    },
    {
     "data": {
      "text/plain": [
       "True"
      ]
     },
     "execution_count": 2,
     "metadata": {},
     "output_type": "execute_result"
    },
    {
     "data": {
      "text/plain": [
       "True"
      ]
     },
     "execution_count": 2,
     "metadata": {},
     "output_type": "execute_result"
    },
    {
     "data": {
      "text/plain": [
       "True"
      ]
     },
     "execution_count": 2,
     "metadata": {},
     "output_type": "execute_result"
    },
    {
     "data": {
      "text/plain": [
       "True"
      ]
     },
     "execution_count": 2,
     "metadata": {},
     "output_type": "execute_result"
    },
    {
     "data": {
      "text/plain": [
       "True"
      ]
     },
     "execution_count": 2,
     "metadata": {},
     "output_type": "execute_result"
    },
    {
     "data": {
      "text/plain": [
       "True"
      ]
     },
     "execution_count": 2,
     "metadata": {},
     "output_type": "execute_result"
    },
    {
     "data": {
      "text/plain": [
       "True"
      ]
     },
     "execution_count": 2,
     "metadata": {},
     "output_type": "execute_result"
    },
    {
     "data": {
      "text/plain": [
       "True"
      ]
     },
     "execution_count": 2,
     "metadata": {},
     "output_type": "execute_result"
    },
    {
     "data": {
      "text/plain": [
       "True"
      ]
     },
     "execution_count": 2,
     "metadata": {},
     "output_type": "execute_result"
    },
    {
     "name": "stdout",
     "output_type": "stream",
     "text": [
      "Done\n"
     ]
    },
    {
     "data": {
      "text/plain": [
       "True"
      ]
     },
     "execution_count": 2,
     "metadata": {},
     "output_type": "execute_result"
    },
    {
     "data": {
      "text/plain": [
       "True"
      ]
     },
     "execution_count": 2,
     "metadata": {},
     "output_type": "execute_result"
    },
    {
     "data": {
      "text/plain": [
       "True"
      ]
     },
     "execution_count": 2,
     "metadata": {},
     "output_type": "execute_result"
    },
    {
     "data": {
      "text/plain": [
       "True"
      ]
     },
     "execution_count": 2,
     "metadata": {},
     "output_type": "execute_result"
    },
    {
     "data": {
      "text/plain": [
       "True"
      ]
     },
     "execution_count": 2,
     "metadata": {},
     "output_type": "execute_result"
    },
    {
     "data": {
      "text/plain": [
       "True"
      ]
     },
     "execution_count": 2,
     "metadata": {},
     "output_type": "execute_result"
    },
    {
     "data": {
      "text/plain": [
       "True"
      ]
     },
     "execution_count": 2,
     "metadata": {},
     "output_type": "execute_result"
    },
    {
     "data": {
      "text/plain": [
       "True"
      ]
     },
     "execution_count": 2,
     "metadata": {},
     "output_type": "execute_result"
    },
    {
     "data": {
      "text/plain": [
       "True"
      ]
     },
     "execution_count": 2,
     "metadata": {},
     "output_type": "execute_result"
    },
    {
     "data": {
      "text/plain": [
       "True"
      ]
     },
     "execution_count": 2,
     "metadata": {},
     "output_type": "execute_result"
    },
    {
     "data": {
      "text/plain": [
       "True"
      ]
     },
     "execution_count": 2,
     "metadata": {},
     "output_type": "execute_result"
    },
    {
     "data": {
      "text/plain": [
       "True"
      ]
     },
     "execution_count": 2,
     "metadata": {},
     "output_type": "execute_result"
    },
    {
     "data": {
      "text/plain": [
       "True"
      ]
     },
     "execution_count": 2,
     "metadata": {},
     "output_type": "execute_result"
    },
    {
     "data": {
      "text/plain": [
       "True"
      ]
     },
     "execution_count": 2,
     "metadata": {},
     "output_type": "execute_result"
    },
    {
     "data": {
      "text/plain": [
       "True"
      ]
     },
     "execution_count": 2,
     "metadata": {},
     "output_type": "execute_result"
    },
    {
     "data": {
      "text/plain": [
       "True"
      ]
     },
     "execution_count": 2,
     "metadata": {},
     "output_type": "execute_result"
    },
    {
     "data": {
      "text/plain": [
       "True"
      ]
     },
     "execution_count": 2,
     "metadata": {},
     "output_type": "execute_result"
    },
    {
     "name": "stdout",
     "output_type": "stream",
     "text": [
      "Done\n"
     ]
    },
    {
     "data": {
      "text/plain": [
       "True"
      ]
     },
     "execution_count": 2,
     "metadata": {},
     "output_type": "execute_result"
    },
    {
     "data": {
      "text/plain": [
       "True"
      ]
     },
     "execution_count": 2,
     "metadata": {},
     "output_type": "execute_result"
    },
    {
     "data": {
      "text/plain": [
       "True"
      ]
     },
     "execution_count": 2,
     "metadata": {},
     "output_type": "execute_result"
    },
    {
     "data": {
      "text/plain": [
       "True"
      ]
     },
     "execution_count": 2,
     "metadata": {},
     "output_type": "execute_result"
    },
    {
     "data": {
      "text/plain": [
       "True"
      ]
     },
     "execution_count": 2,
     "metadata": {},
     "output_type": "execute_result"
    },
    {
     "data": {
      "text/plain": [
       "True"
      ]
     },
     "execution_count": 2,
     "metadata": {},
     "output_type": "execute_result"
    },
    {
     "data": {
      "text/plain": [
       "True"
      ]
     },
     "execution_count": 2,
     "metadata": {},
     "output_type": "execute_result"
    },
    {
     "data": {
      "text/plain": [
       "True"
      ]
     },
     "execution_count": 2,
     "metadata": {},
     "output_type": "execute_result"
    },
    {
     "data": {
      "text/plain": [
       "True"
      ]
     },
     "execution_count": 2,
     "metadata": {},
     "output_type": "execute_result"
    },
    {
     "data": {
      "text/plain": [
       "True"
      ]
     },
     "execution_count": 2,
     "metadata": {},
     "output_type": "execute_result"
    },
    {
     "data": {
      "text/plain": [
       "True"
      ]
     },
     "execution_count": 2,
     "metadata": {},
     "output_type": "execute_result"
    },
    {
     "data": {
      "text/plain": [
       "True"
      ]
     },
     "execution_count": 2,
     "metadata": {},
     "output_type": "execute_result"
    },
    {
     "data": {
      "text/plain": [
       "True"
      ]
     },
     "execution_count": 2,
     "metadata": {},
     "output_type": "execute_result"
    },
    {
     "data": {
      "text/plain": [
       "True"
      ]
     },
     "execution_count": 2,
     "metadata": {},
     "output_type": "execute_result"
    },
    {
     "data": {
      "text/plain": [
       "True"
      ]
     },
     "execution_count": 2,
     "metadata": {},
     "output_type": "execute_result"
    },
    {
     "data": {
      "text/plain": [
       "True"
      ]
     },
     "execution_count": 2,
     "metadata": {},
     "output_type": "execute_result"
    },
    {
     "data": {
      "text/plain": [
       "True"
      ]
     },
     "execution_count": 2,
     "metadata": {},
     "output_type": "execute_result"
    },
    {
     "data": {
      "text/plain": [
       "True"
      ]
     },
     "execution_count": 2,
     "metadata": {},
     "output_type": "execute_result"
    },
    {
     "data": {
      "text/plain": [
       "True"
      ]
     },
     "execution_count": 2,
     "metadata": {},
     "output_type": "execute_result"
    },
    {
     "data": {
      "text/plain": [
       "True"
      ]
     },
     "execution_count": 2,
     "metadata": {},
     "output_type": "execute_result"
    },
    {
     "data": {
      "text/plain": [
       "True"
      ]
     },
     "execution_count": 2,
     "metadata": {},
     "output_type": "execute_result"
    },
    {
     "data": {
      "text/plain": [
       "True"
      ]
     },
     "execution_count": 2,
     "metadata": {},
     "output_type": "execute_result"
    },
    {
     "data": {
      "text/plain": [
       "True"
      ]
     },
     "execution_count": 2,
     "metadata": {},
     "output_type": "execute_result"
    },
    {
     "data": {
      "text/plain": [
       "True"
      ]
     },
     "execution_count": 2,
     "metadata": {},
     "output_type": "execute_result"
    },
    {
     "data": {
      "text/plain": [
       "True"
      ]
     },
     "execution_count": 2,
     "metadata": {},
     "output_type": "execute_result"
    },
    {
     "name": "stdout",
     "output_type": "stream",
     "text": [
      "Done\n"
     ]
    },
    {
     "data": {
      "text/plain": [
       "True"
      ]
     },
     "execution_count": 2,
     "metadata": {},
     "output_type": "execute_result"
    },
    {
     "data": {
      "text/plain": [
       "True"
      ]
     },
     "execution_count": 2,
     "metadata": {},
     "output_type": "execute_result"
    },
    {
     "data": {
      "text/plain": [
       "True"
      ]
     },
     "execution_count": 2,
     "metadata": {},
     "output_type": "execute_result"
    },
    {
     "data": {
      "text/plain": [
       "True"
      ]
     },
     "execution_count": 2,
     "metadata": {},
     "output_type": "execute_result"
    },
    {
     "data": {
      "text/plain": [
       "True"
      ]
     },
     "execution_count": 2,
     "metadata": {},
     "output_type": "execute_result"
    },
    {
     "data": {
      "text/plain": [
       "True"
      ]
     },
     "execution_count": 2,
     "metadata": {},
     "output_type": "execute_result"
    },
    {
     "data": {
      "text/plain": [
       "True"
      ]
     },
     "execution_count": 2,
     "metadata": {},
     "output_type": "execute_result"
    },
    {
     "data": {
      "text/plain": [
       "True"
      ]
     },
     "execution_count": 2,
     "metadata": {},
     "output_type": "execute_result"
    },
    {
     "data": {
      "text/plain": [
       "True"
      ]
     },
     "execution_count": 2,
     "metadata": {},
     "output_type": "execute_result"
    },
    {
     "data": {
      "text/plain": [
       "True"
      ]
     },
     "execution_count": 2,
     "metadata": {},
     "output_type": "execute_result"
    },
    {
     "data": {
      "text/plain": [
       "True"
      ]
     },
     "execution_count": 2,
     "metadata": {},
     "output_type": "execute_result"
    },
    {
     "data": {
      "text/plain": [
       "True"
      ]
     },
     "execution_count": 2,
     "metadata": {},
     "output_type": "execute_result"
    },
    {
     "data": {
      "text/plain": [
       "True"
      ]
     },
     "execution_count": 2,
     "metadata": {},
     "output_type": "execute_result"
    },
    {
     "data": {
      "text/plain": [
       "True"
      ]
     },
     "execution_count": 2,
     "metadata": {},
     "output_type": "execute_result"
    },
    {
     "data": {
      "text/plain": [
       "True"
      ]
     },
     "execution_count": 2,
     "metadata": {},
     "output_type": "execute_result"
    },
    {
     "data": {
      "text/plain": [
       "True"
      ]
     },
     "execution_count": 2,
     "metadata": {},
     "output_type": "execute_result"
    },
    {
     "data": {
      "text/plain": [
       "True"
      ]
     },
     "execution_count": 2,
     "metadata": {},
     "output_type": "execute_result"
    },
    {
     "data": {
      "text/plain": [
       "True"
      ]
     },
     "execution_count": 2,
     "metadata": {},
     "output_type": "execute_result"
    },
    {
     "data": {
      "text/plain": [
       "True"
      ]
     },
     "execution_count": 2,
     "metadata": {},
     "output_type": "execute_result"
    },
    {
     "data": {
      "text/plain": [
       "True"
      ]
     },
     "execution_count": 2,
     "metadata": {},
     "output_type": "execute_result"
    },
    {
     "data": {
      "text/plain": [
       "True"
      ]
     },
     "execution_count": 2,
     "metadata": {},
     "output_type": "execute_result"
    },
    {
     "data": {
      "text/plain": [
       "True"
      ]
     },
     "execution_count": 2,
     "metadata": {},
     "output_type": "execute_result"
    },
    {
     "data": {
      "text/plain": [
       "True"
      ]
     },
     "execution_count": 2,
     "metadata": {},
     "output_type": "execute_result"
    },
    {
     "data": {
      "text/plain": [
       "True"
      ]
     },
     "execution_count": 2,
     "metadata": {},
     "output_type": "execute_result"
    },
    {
     "data": {
      "text/plain": [
       "True"
      ]
     },
     "execution_count": 2,
     "metadata": {},
     "output_type": "execute_result"
    },
    {
     "data": {
      "text/plain": [
       "True"
      ]
     },
     "execution_count": 2,
     "metadata": {},
     "output_type": "execute_result"
    },
    {
     "data": {
      "text/plain": [
       "True"
      ]
     },
     "execution_count": 2,
     "metadata": {},
     "output_type": "execute_result"
    },
    {
     "data": {
      "text/plain": [
       "True"
      ]
     },
     "execution_count": 2,
     "metadata": {},
     "output_type": "execute_result"
    },
    {
     "data": {
      "text/plain": [
       "True"
      ]
     },
     "execution_count": 2,
     "metadata": {},
     "output_type": "execute_result"
    },
    {
     "data": {
      "text/plain": [
       "True"
      ]
     },
     "execution_count": 2,
     "metadata": {},
     "output_type": "execute_result"
    },
    {
     "data": {
      "text/plain": [
       "True"
      ]
     },
     "execution_count": 2,
     "metadata": {},
     "output_type": "execute_result"
    },
    {
     "data": {
      "text/plain": [
       "True"
      ]
     },
     "execution_count": 2,
     "metadata": {},
     "output_type": "execute_result"
    },
    {
     "data": {
      "text/plain": [
       "True"
      ]
     },
     "execution_count": 2,
     "metadata": {},
     "output_type": "execute_result"
    },
    {
     "data": {
      "text/plain": [
       "True"
      ]
     },
     "execution_count": 2,
     "metadata": {},
     "output_type": "execute_result"
    },
    {
     "name": "stdout",
     "output_type": "stream",
     "text": [
      "Done\n"
     ]
    },
    {
     "data": {
      "text/plain": [
       "True"
      ]
     },
     "execution_count": 2,
     "metadata": {},
     "output_type": "execute_result"
    },
    {
     "data": {
      "text/plain": [
       "True"
      ]
     },
     "execution_count": 2,
     "metadata": {},
     "output_type": "execute_result"
    },
    {
     "data": {
      "text/plain": [
       "True"
      ]
     },
     "execution_count": 2,
     "metadata": {},
     "output_type": "execute_result"
    },
    {
     "data": {
      "text/plain": [
       "True"
      ]
     },
     "execution_count": 2,
     "metadata": {},
     "output_type": "execute_result"
    },
    {
     "data": {
      "text/plain": [
       "True"
      ]
     },
     "execution_count": 2,
     "metadata": {},
     "output_type": "execute_result"
    },
    {
     "data": {
      "text/plain": [
       "True"
      ]
     },
     "execution_count": 2,
     "metadata": {},
     "output_type": "execute_result"
    },
    {
     "data": {
      "text/plain": [
       "True"
      ]
     },
     "execution_count": 2,
     "metadata": {},
     "output_type": "execute_result"
    },
    {
     "data": {
      "text/plain": [
       "True"
      ]
     },
     "execution_count": 2,
     "metadata": {},
     "output_type": "execute_result"
    },
    {
     "data": {
      "text/plain": [
       "True"
      ]
     },
     "execution_count": 2,
     "metadata": {},
     "output_type": "execute_result"
    },
    {
     "data": {
      "text/plain": [
       "True"
      ]
     },
     "execution_count": 2,
     "metadata": {},
     "output_type": "execute_result"
    },
    {
     "data": {
      "text/plain": [
       "True"
      ]
     },
     "execution_count": 2,
     "metadata": {},
     "output_type": "execute_result"
    },
    {
     "data": {
      "text/plain": [
       "True"
      ]
     },
     "execution_count": 2,
     "metadata": {},
     "output_type": "execute_result"
    },
    {
     "data": {
      "text/plain": [
       "True"
      ]
     },
     "execution_count": 2,
     "metadata": {},
     "output_type": "execute_result"
    },
    {
     "data": {
      "text/plain": [
       "True"
      ]
     },
     "execution_count": 2,
     "metadata": {},
     "output_type": "execute_result"
    },
    {
     "data": {
      "text/plain": [
       "True"
      ]
     },
     "execution_count": 2,
     "metadata": {},
     "output_type": "execute_result"
    },
    {
     "data": {
      "text/plain": [
       "True"
      ]
     },
     "execution_count": 2,
     "metadata": {},
     "output_type": "execute_result"
    },
    {
     "data": {
      "text/plain": [
       "True"
      ]
     },
     "execution_count": 2,
     "metadata": {},
     "output_type": "execute_result"
    },
    {
     "data": {
      "text/plain": [
       "True"
      ]
     },
     "execution_count": 2,
     "metadata": {},
     "output_type": "execute_result"
    },
    {
     "data": {
      "text/plain": [
       "True"
      ]
     },
     "execution_count": 2,
     "metadata": {},
     "output_type": "execute_result"
    },
    {
     "data": {
      "text/plain": [
       "True"
      ]
     },
     "execution_count": 2,
     "metadata": {},
     "output_type": "execute_result"
    },
    {
     "data": {
      "text/plain": [
       "True"
      ]
     },
     "execution_count": 2,
     "metadata": {},
     "output_type": "execute_result"
    },
    {
     "data": {
      "text/plain": [
       "True"
      ]
     },
     "execution_count": 2,
     "metadata": {},
     "output_type": "execute_result"
    },
    {
     "data": {
      "text/plain": [
       "True"
      ]
     },
     "execution_count": 2,
     "metadata": {},
     "output_type": "execute_result"
    },
    {
     "data": {
      "text/plain": [
       "True"
      ]
     },
     "execution_count": 2,
     "metadata": {},
     "output_type": "execute_result"
    },
    {
     "data": {
      "text/plain": [
       "True"
      ]
     },
     "execution_count": 2,
     "metadata": {},
     "output_type": "execute_result"
    },
    {
     "data": {
      "text/plain": [
       "True"
      ]
     },
     "execution_count": 2,
     "metadata": {},
     "output_type": "execute_result"
    },
    {
     "data": {
      "text/plain": [
       "True"
      ]
     },
     "execution_count": 2,
     "metadata": {},
     "output_type": "execute_result"
    },
    {
     "data": {
      "text/plain": [
       "True"
      ]
     },
     "execution_count": 2,
     "metadata": {},
     "output_type": "execute_result"
    },
    {
     "data": {
      "text/plain": [
       "True"
      ]
     },
     "execution_count": 2,
     "metadata": {},
     "output_type": "execute_result"
    },
    {
     "data": {
      "text/plain": [
       "True"
      ]
     },
     "execution_count": 2,
     "metadata": {},
     "output_type": "execute_result"
    },
    {
     "data": {
      "text/plain": [
       "True"
      ]
     },
     "execution_count": 2,
     "metadata": {},
     "output_type": "execute_result"
    },
    {
     "name": "stdout",
     "output_type": "stream",
     "text": [
      "Done\n"
     ]
    },
    {
     "data": {
      "text/plain": [
       "True"
      ]
     },
     "execution_count": 2,
     "metadata": {},
     "output_type": "execute_result"
    },
    {
     "data": {
      "text/plain": [
       "True"
      ]
     },
     "execution_count": 2,
     "metadata": {},
     "output_type": "execute_result"
    },
    {
     "data": {
      "text/plain": [
       "True"
      ]
     },
     "execution_count": 2,
     "metadata": {},
     "output_type": "execute_result"
    },
    {
     "data": {
      "text/plain": [
       "True"
      ]
     },
     "execution_count": 2,
     "metadata": {},
     "output_type": "execute_result"
    },
    {
     "data": {
      "text/plain": [
       "True"
      ]
     },
     "execution_count": 2,
     "metadata": {},
     "output_type": "execute_result"
    },
    {
     "data": {
      "text/plain": [
       "True"
      ]
     },
     "execution_count": 2,
     "metadata": {},
     "output_type": "execute_result"
    },
    {
     "data": {
      "text/plain": [
       "True"
      ]
     },
     "execution_count": 2,
     "metadata": {},
     "output_type": "execute_result"
    },
    {
     "data": {
      "text/plain": [
       "True"
      ]
     },
     "execution_count": 2,
     "metadata": {},
     "output_type": "execute_result"
    },
    {
     "data": {
      "text/plain": [
       "True"
      ]
     },
     "execution_count": 2,
     "metadata": {},
     "output_type": "execute_result"
    },
    {
     "data": {
      "text/plain": [
       "True"
      ]
     },
     "execution_count": 2,
     "metadata": {},
     "output_type": "execute_result"
    },
    {
     "data": {
      "text/plain": [
       "True"
      ]
     },
     "execution_count": 2,
     "metadata": {},
     "output_type": "execute_result"
    },
    {
     "data": {
      "text/plain": [
       "True"
      ]
     },
     "execution_count": 2,
     "metadata": {},
     "output_type": "execute_result"
    },
    {
     "data": {
      "text/plain": [
       "True"
      ]
     },
     "execution_count": 2,
     "metadata": {},
     "output_type": "execute_result"
    },
    {
     "data": {
      "text/plain": [
       "True"
      ]
     },
     "execution_count": 2,
     "metadata": {},
     "output_type": "execute_result"
    },
    {
     "data": {
      "text/plain": [
       "True"
      ]
     },
     "execution_count": 2,
     "metadata": {},
     "output_type": "execute_result"
    },
    {
     "data": {
      "text/plain": [
       "True"
      ]
     },
     "execution_count": 2,
     "metadata": {},
     "output_type": "execute_result"
    },
    {
     "data": {
      "text/plain": [
       "True"
      ]
     },
     "execution_count": 2,
     "metadata": {},
     "output_type": "execute_result"
    },
    {
     "data": {
      "text/plain": [
       "True"
      ]
     },
     "execution_count": 2,
     "metadata": {},
     "output_type": "execute_result"
    },
    {
     "data": {
      "text/plain": [
       "True"
      ]
     },
     "execution_count": 2,
     "metadata": {},
     "output_type": "execute_result"
    },
    {
     "data": {
      "text/plain": [
       "True"
      ]
     },
     "execution_count": 2,
     "metadata": {},
     "output_type": "execute_result"
    },
    {
     "data": {
      "text/plain": [
       "True"
      ]
     },
     "execution_count": 2,
     "metadata": {},
     "output_type": "execute_result"
    },
    {
     "data": {
      "text/plain": [
       "True"
      ]
     },
     "execution_count": 2,
     "metadata": {},
     "output_type": "execute_result"
    },
    {
     "data": {
      "text/plain": [
       "True"
      ]
     },
     "execution_count": 2,
     "metadata": {},
     "output_type": "execute_result"
    },
    {
     "data": {
      "text/plain": [
       "True"
      ]
     },
     "execution_count": 2,
     "metadata": {},
     "output_type": "execute_result"
    },
    {
     "data": {
      "text/plain": [
       "True"
      ]
     },
     "execution_count": 2,
     "metadata": {},
     "output_type": "execute_result"
    },
    {
     "name": "stdout",
     "output_type": "stream",
     "text": [
      "Done\n"
     ]
    },
    {
     "data": {
      "text/plain": [
       "True"
      ]
     },
     "execution_count": 2,
     "metadata": {},
     "output_type": "execute_result"
    },
    {
     "data": {
      "text/plain": [
       "True"
      ]
     },
     "execution_count": 2,
     "metadata": {},
     "output_type": "execute_result"
    },
    {
     "data": {
      "text/plain": [
       "True"
      ]
     },
     "execution_count": 2,
     "metadata": {},
     "output_type": "execute_result"
    },
    {
     "data": {
      "text/plain": [
       "True"
      ]
     },
     "execution_count": 2,
     "metadata": {},
     "output_type": "execute_result"
    },
    {
     "data": {
      "text/plain": [
       "True"
      ]
     },
     "execution_count": 2,
     "metadata": {},
     "output_type": "execute_result"
    },
    {
     "data": {
      "text/plain": [
       "True"
      ]
     },
     "execution_count": 2,
     "metadata": {},
     "output_type": "execute_result"
    },
    {
     "data": {
      "text/plain": [
       "True"
      ]
     },
     "execution_count": 2,
     "metadata": {},
     "output_type": "execute_result"
    },
    {
     "data": {
      "text/plain": [
       "True"
      ]
     },
     "execution_count": 2,
     "metadata": {},
     "output_type": "execute_result"
    },
    {
     "data": {
      "text/plain": [
       "True"
      ]
     },
     "execution_count": 2,
     "metadata": {},
     "output_type": "execute_result"
    },
    {
     "data": {
      "text/plain": [
       "True"
      ]
     },
     "execution_count": 2,
     "metadata": {},
     "output_type": "execute_result"
    },
    {
     "data": {
      "text/plain": [
       "True"
      ]
     },
     "execution_count": 2,
     "metadata": {},
     "output_type": "execute_result"
    },
    {
     "data": {
      "text/plain": [
       "True"
      ]
     },
     "execution_count": 2,
     "metadata": {},
     "output_type": "execute_result"
    },
    {
     "data": {
      "text/plain": [
       "True"
      ]
     },
     "execution_count": 2,
     "metadata": {},
     "output_type": "execute_result"
    },
    {
     "name": "stdout",
     "output_type": "stream",
     "text": [
      "Done\n"
     ]
    },
    {
     "data": {
      "text/plain": [
       "True"
      ]
     },
     "execution_count": 2,
     "metadata": {},
     "output_type": "execute_result"
    },
    {
     "data": {
      "text/plain": [
       "True"
      ]
     },
     "execution_count": 2,
     "metadata": {},
     "output_type": "execute_result"
    },
    {
     "data": {
      "text/plain": [
       "True"
      ]
     },
     "execution_count": 2,
     "metadata": {},
     "output_type": "execute_result"
    },
    {
     "data": {
      "text/plain": [
       "True"
      ]
     },
     "execution_count": 2,
     "metadata": {},
     "output_type": "execute_result"
    },
    {
     "data": {
      "text/plain": [
       "True"
      ]
     },
     "execution_count": 2,
     "metadata": {},
     "output_type": "execute_result"
    },
    {
     "data": {
      "text/plain": [
       "True"
      ]
     },
     "execution_count": 2,
     "metadata": {},
     "output_type": "execute_result"
    },
    {
     "data": {
      "text/plain": [
       "True"
      ]
     },
     "execution_count": 2,
     "metadata": {},
     "output_type": "execute_result"
    },
    {
     "data": {
      "text/plain": [
       "True"
      ]
     },
     "execution_count": 2,
     "metadata": {},
     "output_type": "execute_result"
    },
    {
     "data": {
      "text/plain": [
       "True"
      ]
     },
     "execution_count": 2,
     "metadata": {},
     "output_type": "execute_result"
    },
    {
     "data": {
      "text/plain": [
       "True"
      ]
     },
     "execution_count": 2,
     "metadata": {},
     "output_type": "execute_result"
    },
    {
     "data": {
      "text/plain": [
       "True"
      ]
     },
     "execution_count": 2,
     "metadata": {},
     "output_type": "execute_result"
    },
    {
     "data": {
      "text/plain": [
       "True"
      ]
     },
     "execution_count": 2,
     "metadata": {},
     "output_type": "execute_result"
    },
    {
     "data": {
      "text/plain": [
       "True"
      ]
     },
     "execution_count": 2,
     "metadata": {},
     "output_type": "execute_result"
    },
    {
     "data": {
      "text/plain": [
       "True"
      ]
     },
     "execution_count": 2,
     "metadata": {},
     "output_type": "execute_result"
    },
    {
     "data": {
      "text/plain": [
       "True"
      ]
     },
     "execution_count": 2,
     "metadata": {},
     "output_type": "execute_result"
    },
    {
     "data": {
      "text/plain": [
       "True"
      ]
     },
     "execution_count": 2,
     "metadata": {},
     "output_type": "execute_result"
    },
    {
     "data": {
      "text/plain": [
       "True"
      ]
     },
     "execution_count": 2,
     "metadata": {},
     "output_type": "execute_result"
    },
    {
     "name": "stdout",
     "output_type": "stream",
     "text": [
      "Done\n"
     ]
    },
    {
     "data": {
      "text/plain": [
       "True"
      ]
     },
     "execution_count": 2,
     "metadata": {},
     "output_type": "execute_result"
    },
    {
     "data": {
      "text/plain": [
       "True"
      ]
     },
     "execution_count": 2,
     "metadata": {},
     "output_type": "execute_result"
    },
    {
     "data": {
      "text/plain": [
       "True"
      ]
     },
     "execution_count": 2,
     "metadata": {},
     "output_type": "execute_result"
    },
    {
     "data": {
      "text/plain": [
       "True"
      ]
     },
     "execution_count": 2,
     "metadata": {},
     "output_type": "execute_result"
    },
    {
     "data": {
      "text/plain": [
       "True"
      ]
     },
     "execution_count": 2,
     "metadata": {},
     "output_type": "execute_result"
    },
    {
     "data": {
      "text/plain": [
       "True"
      ]
     },
     "execution_count": 2,
     "metadata": {},
     "output_type": "execute_result"
    },
    {
     "data": {
      "text/plain": [
       "True"
      ]
     },
     "execution_count": 2,
     "metadata": {},
     "output_type": "execute_result"
    },
    {
     "data": {
      "text/plain": [
       "True"
      ]
     },
     "execution_count": 2,
     "metadata": {},
     "output_type": "execute_result"
    },
    {
     "data": {
      "text/plain": [
       "True"
      ]
     },
     "execution_count": 2,
     "metadata": {},
     "output_type": "execute_result"
    },
    {
     "data": {
      "text/plain": [
       "True"
      ]
     },
     "execution_count": 2,
     "metadata": {},
     "output_type": "execute_result"
    },
    {
     "data": {
      "text/plain": [
       "True"
      ]
     },
     "execution_count": 2,
     "metadata": {},
     "output_type": "execute_result"
    },
    {
     "data": {
      "text/plain": [
       "True"
      ]
     },
     "execution_count": 2,
     "metadata": {},
     "output_type": "execute_result"
    },
    {
     "name": "stdout",
     "output_type": "stream",
     "text": [
      "Done\n"
     ]
    },
    {
     "data": {
      "text/plain": [
       "True"
      ]
     },
     "execution_count": 2,
     "metadata": {},
     "output_type": "execute_result"
    },
    {
     "data": {
      "text/plain": [
       "True"
      ]
     },
     "execution_count": 2,
     "metadata": {},
     "output_type": "execute_result"
    },
    {
     "data": {
      "text/plain": [
       "True"
      ]
     },
     "execution_count": 2,
     "metadata": {},
     "output_type": "execute_result"
    },
    {
     "data": {
      "text/plain": [
       "True"
      ]
     },
     "execution_count": 2,
     "metadata": {},
     "output_type": "execute_result"
    },
    {
     "data": {
      "text/plain": [
       "True"
      ]
     },
     "execution_count": 2,
     "metadata": {},
     "output_type": "execute_result"
    },
    {
     "data": {
      "text/plain": [
       "True"
      ]
     },
     "execution_count": 2,
     "metadata": {},
     "output_type": "execute_result"
    },
    {
     "data": {
      "text/plain": [
       "True"
      ]
     },
     "execution_count": 2,
     "metadata": {},
     "output_type": "execute_result"
    },
    {
     "data": {
      "text/plain": [
       "True"
      ]
     },
     "execution_count": 2,
     "metadata": {},
     "output_type": "execute_result"
    },
    {
     "data": {
      "text/plain": [
       "True"
      ]
     },
     "execution_count": 2,
     "metadata": {},
     "output_type": "execute_result"
    },
    {
     "data": {
      "text/plain": [
       "True"
      ]
     },
     "execution_count": 2,
     "metadata": {},
     "output_type": "execute_result"
    },
    {
     "data": {
      "text/plain": [
       "True"
      ]
     },
     "execution_count": 2,
     "metadata": {},
     "output_type": "execute_result"
    },
    {
     "name": "stdout",
     "output_type": "stream",
     "text": [
      "Done\n"
     ]
    },
    {
     "data": {
      "text/plain": [
       "True"
      ]
     },
     "execution_count": 2,
     "metadata": {},
     "output_type": "execute_result"
    },
    {
     "data": {
      "text/plain": [
       "True"
      ]
     },
     "execution_count": 2,
     "metadata": {},
     "output_type": "execute_result"
    },
    {
     "data": {
      "text/plain": [
       "True"
      ]
     },
     "execution_count": 2,
     "metadata": {},
     "output_type": "execute_result"
    },
    {
     "data": {
      "text/plain": [
       "True"
      ]
     },
     "execution_count": 2,
     "metadata": {},
     "output_type": "execute_result"
    },
    {
     "data": {
      "text/plain": [
       "True"
      ]
     },
     "execution_count": 2,
     "metadata": {},
     "output_type": "execute_result"
    },
    {
     "data": {
      "text/plain": [
       "True"
      ]
     },
     "execution_count": 2,
     "metadata": {},
     "output_type": "execute_result"
    },
    {
     "data": {
      "text/plain": [
       "True"
      ]
     },
     "execution_count": 2,
     "metadata": {},
     "output_type": "execute_result"
    },
    {
     "data": {
      "text/plain": [
       "True"
      ]
     },
     "execution_count": 2,
     "metadata": {},
     "output_type": "execute_result"
    },
    {
     "data": {
      "text/plain": [
       "True"
      ]
     },
     "execution_count": 2,
     "metadata": {},
     "output_type": "execute_result"
    },
    {
     "data": {
      "text/plain": [
       "True"
      ]
     },
     "execution_count": 2,
     "metadata": {},
     "output_type": "execute_result"
    },
    {
     "name": "stdout",
     "output_type": "stream",
     "text": [
      "Done\n"
     ]
    },
    {
     "data": {
      "text/plain": [
       "True"
      ]
     },
     "execution_count": 2,
     "metadata": {},
     "output_type": "execute_result"
    },
    {
     "data": {
      "text/plain": [
       "True"
      ]
     },
     "execution_count": 2,
     "metadata": {},
     "output_type": "execute_result"
    },
    {
     "data": {
      "text/plain": [
       "True"
      ]
     },
     "execution_count": 2,
     "metadata": {},
     "output_type": "execute_result"
    },
    {
     "data": {
      "text/plain": [
       "True"
      ]
     },
     "execution_count": 2,
     "metadata": {},
     "output_type": "execute_result"
    },
    {
     "data": {
      "text/plain": [
       "True"
      ]
     },
     "execution_count": 2,
     "metadata": {},
     "output_type": "execute_result"
    },
    {
     "data": {
      "text/plain": [
       "True"
      ]
     },
     "execution_count": 2,
     "metadata": {},
     "output_type": "execute_result"
    },
    {
     "data": {
      "text/plain": [
       "True"
      ]
     },
     "execution_count": 2,
     "metadata": {},
     "output_type": "execute_result"
    },
    {
     "data": {
      "text/plain": [
       "True"
      ]
     },
     "execution_count": 2,
     "metadata": {},
     "output_type": "execute_result"
    },
    {
     "data": {
      "text/plain": [
       "True"
      ]
     },
     "execution_count": 2,
     "metadata": {},
     "output_type": "execute_result"
    },
    {
     "data": {
      "text/plain": [
       "True"
      ]
     },
     "execution_count": 2,
     "metadata": {},
     "output_type": "execute_result"
    },
    {
     "data": {
      "text/plain": [
       "True"
      ]
     },
     "execution_count": 2,
     "metadata": {},
     "output_type": "execute_result"
    },
    {
     "data": {
      "text/plain": [
       "True"
      ]
     },
     "execution_count": 2,
     "metadata": {},
     "output_type": "execute_result"
    },
    {
     "data": {
      "text/plain": [
       "True"
      ]
     },
     "execution_count": 2,
     "metadata": {},
     "output_type": "execute_result"
    },
    {
     "data": {
      "text/plain": [
       "True"
      ]
     },
     "execution_count": 2,
     "metadata": {},
     "output_type": "execute_result"
    },
    {
     "data": {
      "text/plain": [
       "True"
      ]
     },
     "execution_count": 2,
     "metadata": {},
     "output_type": "execute_result"
    },
    {
     "data": {
      "text/plain": [
       "True"
      ]
     },
     "execution_count": 2,
     "metadata": {},
     "output_type": "execute_result"
    },
    {
     "data": {
      "text/plain": [
       "True"
      ]
     },
     "execution_count": 2,
     "metadata": {},
     "output_type": "execute_result"
    },
    {
     "data": {
      "text/plain": [
       "True"
      ]
     },
     "execution_count": 2,
     "metadata": {},
     "output_type": "execute_result"
    },
    {
     "data": {
      "text/plain": [
       "True"
      ]
     },
     "execution_count": 2,
     "metadata": {},
     "output_type": "execute_result"
    },
    {
     "data": {
      "text/plain": [
       "True"
      ]
     },
     "execution_count": 2,
     "metadata": {},
     "output_type": "execute_result"
    },
    {
     "data": {
      "text/plain": [
       "True"
      ]
     },
     "execution_count": 2,
     "metadata": {},
     "output_type": "execute_result"
    },
    {
     "data": {
      "text/plain": [
       "True"
      ]
     },
     "execution_count": 2,
     "metadata": {},
     "output_type": "execute_result"
    },
    {
     "data": {
      "text/plain": [
       "True"
      ]
     },
     "execution_count": 2,
     "metadata": {},
     "output_type": "execute_result"
    },
    {
     "data": {
      "text/plain": [
       "True"
      ]
     },
     "execution_count": 2,
     "metadata": {},
     "output_type": "execute_result"
    },
    {
     "data": {
      "text/plain": [
       "True"
      ]
     },
     "execution_count": 2,
     "metadata": {},
     "output_type": "execute_result"
    },
    {
     "data": {
      "text/plain": [
       "True"
      ]
     },
     "execution_count": 2,
     "metadata": {},
     "output_type": "execute_result"
    },
    {
     "data": {
      "text/plain": [
       "True"
      ]
     },
     "execution_count": 2,
     "metadata": {},
     "output_type": "execute_result"
    },
    {
     "name": "stdout",
     "output_type": "stream",
     "text": [
      "Done\n"
     ]
    },
    {
     "data": {
      "text/plain": [
       "True"
      ]
     },
     "execution_count": 2,
     "metadata": {},
     "output_type": "execute_result"
    },
    {
     "data": {
      "text/plain": [
       "True"
      ]
     },
     "execution_count": 2,
     "metadata": {},
     "output_type": "execute_result"
    },
    {
     "data": {
      "text/plain": [
       "True"
      ]
     },
     "execution_count": 2,
     "metadata": {},
     "output_type": "execute_result"
    },
    {
     "data": {
      "text/plain": [
       "True"
      ]
     },
     "execution_count": 2,
     "metadata": {},
     "output_type": "execute_result"
    },
    {
     "data": {
      "text/plain": [
       "True"
      ]
     },
     "execution_count": 2,
     "metadata": {},
     "output_type": "execute_result"
    },
    {
     "data": {
      "text/plain": [
       "True"
      ]
     },
     "execution_count": 2,
     "metadata": {},
     "output_type": "execute_result"
    },
    {
     "data": {
      "text/plain": [
       "True"
      ]
     },
     "execution_count": 2,
     "metadata": {},
     "output_type": "execute_result"
    },
    {
     "data": {
      "text/plain": [
       "True"
      ]
     },
     "execution_count": 2,
     "metadata": {},
     "output_type": "execute_result"
    },
    {
     "data": {
      "text/plain": [
       "True"
      ]
     },
     "execution_count": 2,
     "metadata": {},
     "output_type": "execute_result"
    },
    {
     "data": {
      "text/plain": [
       "True"
      ]
     },
     "execution_count": 2,
     "metadata": {},
     "output_type": "execute_result"
    },
    {
     "data": {
      "text/plain": [
       "True"
      ]
     },
     "execution_count": 2,
     "metadata": {},
     "output_type": "execute_result"
    },
    {
     "data": {
      "text/plain": [
       "True"
      ]
     },
     "execution_count": 2,
     "metadata": {},
     "output_type": "execute_result"
    },
    {
     "data": {
      "text/plain": [
       "True"
      ]
     },
     "execution_count": 2,
     "metadata": {},
     "output_type": "execute_result"
    },
    {
     "data": {
      "text/plain": [
       "True"
      ]
     },
     "execution_count": 2,
     "metadata": {},
     "output_type": "execute_result"
    },
    {
     "data": {
      "text/plain": [
       "True"
      ]
     },
     "execution_count": 2,
     "metadata": {},
     "output_type": "execute_result"
    },
    {
     "name": "stdout",
     "output_type": "stream",
     "text": [
      "Done\n"
     ]
    },
    {
     "data": {
      "text/plain": [
       "True"
      ]
     },
     "execution_count": 2,
     "metadata": {},
     "output_type": "execute_result"
    },
    {
     "data": {
      "text/plain": [
       "True"
      ]
     },
     "execution_count": 2,
     "metadata": {},
     "output_type": "execute_result"
    },
    {
     "data": {
      "text/plain": [
       "True"
      ]
     },
     "execution_count": 2,
     "metadata": {},
     "output_type": "execute_result"
    },
    {
     "data": {
      "text/plain": [
       "True"
      ]
     },
     "execution_count": 2,
     "metadata": {},
     "output_type": "execute_result"
    },
    {
     "data": {
      "text/plain": [
       "True"
      ]
     },
     "execution_count": 2,
     "metadata": {},
     "output_type": "execute_result"
    },
    {
     "data": {
      "text/plain": [
       "True"
      ]
     },
     "execution_count": 2,
     "metadata": {},
     "output_type": "execute_result"
    },
    {
     "data": {
      "text/plain": [
       "True"
      ]
     },
     "execution_count": 2,
     "metadata": {},
     "output_type": "execute_result"
    },
    {
     "data": {
      "text/plain": [
       "True"
      ]
     },
     "execution_count": 2,
     "metadata": {},
     "output_type": "execute_result"
    },
    {
     "data": {
      "text/plain": [
       "True"
      ]
     },
     "execution_count": 2,
     "metadata": {},
     "output_type": "execute_result"
    },
    {
     "data": {
      "text/plain": [
       "True"
      ]
     },
     "execution_count": 2,
     "metadata": {},
     "output_type": "execute_result"
    },
    {
     "data": {
      "text/plain": [
       "True"
      ]
     },
     "execution_count": 2,
     "metadata": {},
     "output_type": "execute_result"
    },
    {
     "data": {
      "text/plain": [
       "True"
      ]
     },
     "execution_count": 2,
     "metadata": {},
     "output_type": "execute_result"
    },
    {
     "data": {
      "text/plain": [
       "True"
      ]
     },
     "execution_count": 2,
     "metadata": {},
     "output_type": "execute_result"
    },
    {
     "data": {
      "text/plain": [
       "True"
      ]
     },
     "execution_count": 2,
     "metadata": {},
     "output_type": "execute_result"
    },
    {
     "data": {
      "text/plain": [
       "True"
      ]
     },
     "execution_count": 2,
     "metadata": {},
     "output_type": "execute_result"
    },
    {
     "data": {
      "text/plain": [
       "True"
      ]
     },
     "execution_count": 2,
     "metadata": {},
     "output_type": "execute_result"
    },
    {
     "data": {
      "text/plain": [
       "True"
      ]
     },
     "execution_count": 2,
     "metadata": {},
     "output_type": "execute_result"
    },
    {
     "data": {
      "text/plain": [
       "True"
      ]
     },
     "execution_count": 2,
     "metadata": {},
     "output_type": "execute_result"
    },
    {
     "data": {
      "text/plain": [
       "True"
      ]
     },
     "execution_count": 2,
     "metadata": {},
     "output_type": "execute_result"
    },
    {
     "data": {
      "text/plain": [
       "True"
      ]
     },
     "execution_count": 2,
     "metadata": {},
     "output_type": "execute_result"
    },
    {
     "data": {
      "text/plain": [
       "True"
      ]
     },
     "execution_count": 2,
     "metadata": {},
     "output_type": "execute_result"
    },
    {
     "data": {
      "text/plain": [
       "True"
      ]
     },
     "execution_count": 2,
     "metadata": {},
     "output_type": "execute_result"
    },
    {
     "data": {
      "text/plain": [
       "True"
      ]
     },
     "execution_count": 2,
     "metadata": {},
     "output_type": "execute_result"
    },
    {
     "data": {
      "text/plain": [
       "True"
      ]
     },
     "execution_count": 2,
     "metadata": {},
     "output_type": "execute_result"
    },
    {
     "data": {
      "text/plain": [
       "True"
      ]
     },
     "execution_count": 2,
     "metadata": {},
     "output_type": "execute_result"
    },
    {
     "name": "stdout",
     "output_type": "stream",
     "text": [
      "Done\n"
     ]
    },
    {
     "data": {
      "text/plain": [
       "True"
      ]
     },
     "execution_count": 2,
     "metadata": {},
     "output_type": "execute_result"
    },
    {
     "data": {
      "text/plain": [
       "True"
      ]
     },
     "execution_count": 2,
     "metadata": {},
     "output_type": "execute_result"
    },
    {
     "data": {
      "text/plain": [
       "True"
      ]
     },
     "execution_count": 2,
     "metadata": {},
     "output_type": "execute_result"
    },
    {
     "data": {
      "text/plain": [
       "True"
      ]
     },
     "execution_count": 2,
     "metadata": {},
     "output_type": "execute_result"
    },
    {
     "data": {
      "text/plain": [
       "True"
      ]
     },
     "execution_count": 2,
     "metadata": {},
     "output_type": "execute_result"
    },
    {
     "data": {
      "text/plain": [
       "True"
      ]
     },
     "execution_count": 2,
     "metadata": {},
     "output_type": "execute_result"
    },
    {
     "data": {
      "text/plain": [
       "True"
      ]
     },
     "execution_count": 2,
     "metadata": {},
     "output_type": "execute_result"
    },
    {
     "data": {
      "text/plain": [
       "True"
      ]
     },
     "execution_count": 2,
     "metadata": {},
     "output_type": "execute_result"
    },
    {
     "data": {
      "text/plain": [
       "True"
      ]
     },
     "execution_count": 2,
     "metadata": {},
     "output_type": "execute_result"
    },
    {
     "data": {
      "text/plain": [
       "True"
      ]
     },
     "execution_count": 2,
     "metadata": {},
     "output_type": "execute_result"
    },
    {
     "data": {
      "text/plain": [
       "True"
      ]
     },
     "execution_count": 2,
     "metadata": {},
     "output_type": "execute_result"
    },
    {
     "data": {
      "text/plain": [
       "True"
      ]
     },
     "execution_count": 2,
     "metadata": {},
     "output_type": "execute_result"
    },
    {
     "data": {
      "text/plain": [
       "True"
      ]
     },
     "execution_count": 2,
     "metadata": {},
     "output_type": "execute_result"
    },
    {
     "name": "stdout",
     "output_type": "stream",
     "text": [
      "Done\n"
     ]
    },
    {
     "data": {
      "text/plain": [
       "True"
      ]
     },
     "execution_count": 2,
     "metadata": {},
     "output_type": "execute_result"
    },
    {
     "data": {
      "text/plain": [
       "True"
      ]
     },
     "execution_count": 2,
     "metadata": {},
     "output_type": "execute_result"
    },
    {
     "data": {
      "text/plain": [
       "True"
      ]
     },
     "execution_count": 2,
     "metadata": {},
     "output_type": "execute_result"
    },
    {
     "data": {
      "text/plain": [
       "True"
      ]
     },
     "execution_count": 2,
     "metadata": {},
     "output_type": "execute_result"
    },
    {
     "data": {
      "text/plain": [
       "True"
      ]
     },
     "execution_count": 2,
     "metadata": {},
     "output_type": "execute_result"
    },
    {
     "data": {
      "text/plain": [
       "True"
      ]
     },
     "execution_count": 2,
     "metadata": {},
     "output_type": "execute_result"
    },
    {
     "data": {
      "text/plain": [
       "True"
      ]
     },
     "execution_count": 2,
     "metadata": {},
     "output_type": "execute_result"
    },
    {
     "data": {
      "text/plain": [
       "True"
      ]
     },
     "execution_count": 2,
     "metadata": {},
     "output_type": "execute_result"
    },
    {
     "data": {
      "text/plain": [
       "True"
      ]
     },
     "execution_count": 2,
     "metadata": {},
     "output_type": "execute_result"
    },
    {
     "data": {
      "text/plain": [
       "True"
      ]
     },
     "execution_count": 2,
     "metadata": {},
     "output_type": "execute_result"
    },
    {
     "data": {
      "text/plain": [
       "True"
      ]
     },
     "execution_count": 2,
     "metadata": {},
     "output_type": "execute_result"
    },
    {
     "data": {
      "text/plain": [
       "True"
      ]
     },
     "execution_count": 2,
     "metadata": {},
     "output_type": "execute_result"
    },
    {
     "data": {
      "text/plain": [
       "True"
      ]
     },
     "execution_count": 2,
     "metadata": {},
     "output_type": "execute_result"
    },
    {
     "data": {
      "text/plain": [
       "True"
      ]
     },
     "execution_count": 2,
     "metadata": {},
     "output_type": "execute_result"
    },
    {
     "data": {
      "text/plain": [
       "True"
      ]
     },
     "execution_count": 2,
     "metadata": {},
     "output_type": "execute_result"
    },
    {
     "data": {
      "text/plain": [
       "True"
      ]
     },
     "execution_count": 2,
     "metadata": {},
     "output_type": "execute_result"
    },
    {
     "data": {
      "text/plain": [
       "True"
      ]
     },
     "execution_count": 2,
     "metadata": {},
     "output_type": "execute_result"
    },
    {
     "name": "stdout",
     "output_type": "stream",
     "text": [
      "Done\n"
     ]
    },
    {
     "data": {
      "text/plain": [
       "True"
      ]
     },
     "execution_count": 2,
     "metadata": {},
     "output_type": "execute_result"
    },
    {
     "data": {
      "text/plain": [
       "True"
      ]
     },
     "execution_count": 2,
     "metadata": {},
     "output_type": "execute_result"
    },
    {
     "data": {
      "text/plain": [
       "True"
      ]
     },
     "execution_count": 2,
     "metadata": {},
     "output_type": "execute_result"
    },
    {
     "data": {
      "text/plain": [
       "True"
      ]
     },
     "execution_count": 2,
     "metadata": {},
     "output_type": "execute_result"
    },
    {
     "data": {
      "text/plain": [
       "True"
      ]
     },
     "execution_count": 2,
     "metadata": {},
     "output_type": "execute_result"
    },
    {
     "data": {
      "text/plain": [
       "True"
      ]
     },
     "execution_count": 2,
     "metadata": {},
     "output_type": "execute_result"
    },
    {
     "data": {
      "text/plain": [
       "True"
      ]
     },
     "execution_count": 2,
     "metadata": {},
     "output_type": "execute_result"
    },
    {
     "data": {
      "text/plain": [
       "True"
      ]
     },
     "execution_count": 2,
     "metadata": {},
     "output_type": "execute_result"
    },
    {
     "data": {
      "text/plain": [
       "True"
      ]
     },
     "execution_count": 2,
     "metadata": {},
     "output_type": "execute_result"
    },
    {
     "data": {
      "text/plain": [
       "True"
      ]
     },
     "execution_count": 2,
     "metadata": {},
     "output_type": "execute_result"
    },
    {
     "data": {
      "text/plain": [
       "True"
      ]
     },
     "execution_count": 2,
     "metadata": {},
     "output_type": "execute_result"
    },
    {
     "data": {
      "text/plain": [
       "True"
      ]
     },
     "execution_count": 2,
     "metadata": {},
     "output_type": "execute_result"
    },
    {
     "data": {
      "text/plain": [
       "True"
      ]
     },
     "execution_count": 2,
     "metadata": {},
     "output_type": "execute_result"
    },
    {
     "data": {
      "text/plain": [
       "True"
      ]
     },
     "execution_count": 2,
     "metadata": {},
     "output_type": "execute_result"
    },
    {
     "data": {
      "text/plain": [
       "True"
      ]
     },
     "execution_count": 2,
     "metadata": {},
     "output_type": "execute_result"
    },
    {
     "name": "stdout",
     "output_type": "stream",
     "text": [
      "Done\n"
     ]
    },
    {
     "data": {
      "text/plain": [
       "True"
      ]
     },
     "execution_count": 2,
     "metadata": {},
     "output_type": "execute_result"
    },
    {
     "data": {
      "text/plain": [
       "True"
      ]
     },
     "execution_count": 2,
     "metadata": {},
     "output_type": "execute_result"
    },
    {
     "data": {
      "text/plain": [
       "True"
      ]
     },
     "execution_count": 2,
     "metadata": {},
     "output_type": "execute_result"
    },
    {
     "data": {
      "text/plain": [
       "True"
      ]
     },
     "execution_count": 2,
     "metadata": {},
     "output_type": "execute_result"
    },
    {
     "data": {
      "text/plain": [
       "True"
      ]
     },
     "execution_count": 2,
     "metadata": {},
     "output_type": "execute_result"
    },
    {
     "data": {
      "text/plain": [
       "True"
      ]
     },
     "execution_count": 2,
     "metadata": {},
     "output_type": "execute_result"
    },
    {
     "data": {
      "text/plain": [
       "True"
      ]
     },
     "execution_count": 2,
     "metadata": {},
     "output_type": "execute_result"
    },
    {
     "data": {
      "text/plain": [
       "True"
      ]
     },
     "execution_count": 2,
     "metadata": {},
     "output_type": "execute_result"
    },
    {
     "data": {
      "text/plain": [
       "True"
      ]
     },
     "execution_count": 2,
     "metadata": {},
     "output_type": "execute_result"
    },
    {
     "data": {
      "text/plain": [
       "True"
      ]
     },
     "execution_count": 2,
     "metadata": {},
     "output_type": "execute_result"
    },
    {
     "data": {
      "text/plain": [
       "True"
      ]
     },
     "execution_count": 2,
     "metadata": {},
     "output_type": "execute_result"
    },
    {
     "data": {
      "text/plain": [
       "True"
      ]
     },
     "execution_count": 2,
     "metadata": {},
     "output_type": "execute_result"
    },
    {
     "data": {
      "text/plain": [
       "True"
      ]
     },
     "execution_count": 2,
     "metadata": {},
     "output_type": "execute_result"
    },
    {
     "data": {
      "text/plain": [
       "True"
      ]
     },
     "execution_count": 2,
     "metadata": {},
     "output_type": "execute_result"
    },
    {
     "data": {
      "text/plain": [
       "True"
      ]
     },
     "execution_count": 2,
     "metadata": {},
     "output_type": "execute_result"
    },
    {
     "data": {
      "text/plain": [
       "True"
      ]
     },
     "execution_count": 2,
     "metadata": {},
     "output_type": "execute_result"
    },
    {
     "data": {
      "text/plain": [
       "True"
      ]
     },
     "execution_count": 2,
     "metadata": {},
     "output_type": "execute_result"
    },
    {
     "data": {
      "text/plain": [
       "True"
      ]
     },
     "execution_count": 2,
     "metadata": {},
     "output_type": "execute_result"
    },
    {
     "data": {
      "text/plain": [
       "True"
      ]
     },
     "execution_count": 2,
     "metadata": {},
     "output_type": "execute_result"
    },
    {
     "data": {
      "text/plain": [
       "True"
      ]
     },
     "execution_count": 2,
     "metadata": {},
     "output_type": "execute_result"
    },
    {
     "data": {
      "text/plain": [
       "True"
      ]
     },
     "execution_count": 2,
     "metadata": {},
     "output_type": "execute_result"
    },
    {
     "data": {
      "text/plain": [
       "True"
      ]
     },
     "execution_count": 2,
     "metadata": {},
     "output_type": "execute_result"
    },
    {
     "data": {
      "text/plain": [
       "True"
      ]
     },
     "execution_count": 2,
     "metadata": {},
     "output_type": "execute_result"
    },
    {
     "data": {
      "text/plain": [
       "True"
      ]
     },
     "execution_count": 2,
     "metadata": {},
     "output_type": "execute_result"
    },
    {
     "data": {
      "text/plain": [
       "True"
      ]
     },
     "execution_count": 2,
     "metadata": {},
     "output_type": "execute_result"
    },
    {
     "data": {
      "text/plain": [
       "True"
      ]
     },
     "execution_count": 2,
     "metadata": {},
     "output_type": "execute_result"
    },
    {
     "data": {
      "text/plain": [
       "True"
      ]
     },
     "execution_count": 2,
     "metadata": {},
     "output_type": "execute_result"
    },
    {
     "data": {
      "text/plain": [
       "True"
      ]
     },
     "execution_count": 2,
     "metadata": {},
     "output_type": "execute_result"
    },
    {
     "data": {
      "text/plain": [
       "True"
      ]
     },
     "execution_count": 2,
     "metadata": {},
     "output_type": "execute_result"
    },
    {
     "data": {
      "text/plain": [
       "True"
      ]
     },
     "execution_count": 2,
     "metadata": {},
     "output_type": "execute_result"
    },
    {
     "data": {
      "text/plain": [
       "True"
      ]
     },
     "execution_count": 2,
     "metadata": {},
     "output_type": "execute_result"
    },
    {
     "data": {
      "text/plain": [
       "True"
      ]
     },
     "execution_count": 2,
     "metadata": {},
     "output_type": "execute_result"
    },
    {
     "data": {
      "text/plain": [
       "True"
      ]
     },
     "execution_count": 2,
     "metadata": {},
     "output_type": "execute_result"
    },
    {
     "data": {
      "text/plain": [
       "True"
      ]
     },
     "execution_count": 2,
     "metadata": {},
     "output_type": "execute_result"
    },
    {
     "data": {
      "text/plain": [
       "True"
      ]
     },
     "execution_count": 2,
     "metadata": {},
     "output_type": "execute_result"
    },
    {
     "data": {
      "text/plain": [
       "True"
      ]
     },
     "execution_count": 2,
     "metadata": {},
     "output_type": "execute_result"
    },
    {
     "data": {
      "text/plain": [
       "True"
      ]
     },
     "execution_count": 2,
     "metadata": {},
     "output_type": "execute_result"
    },
    {
     "data": {
      "text/plain": [
       "True"
      ]
     },
     "execution_count": 2,
     "metadata": {},
     "output_type": "execute_result"
    },
    {
     "data": {
      "text/plain": [
       "True"
      ]
     },
     "execution_count": 2,
     "metadata": {},
     "output_type": "execute_result"
    },
    {
     "data": {
      "text/plain": [
       "True"
      ]
     },
     "execution_count": 2,
     "metadata": {},
     "output_type": "execute_result"
    },
    {
     "data": {
      "text/plain": [
       "True"
      ]
     },
     "execution_count": 2,
     "metadata": {},
     "output_type": "execute_result"
    },
    {
     "data": {
      "text/plain": [
       "True"
      ]
     },
     "execution_count": 2,
     "metadata": {},
     "output_type": "execute_result"
    },
    {
     "data": {
      "text/plain": [
       "True"
      ]
     },
     "execution_count": 2,
     "metadata": {},
     "output_type": "execute_result"
    },
    {
     "data": {
      "text/plain": [
       "True"
      ]
     },
     "execution_count": 2,
     "metadata": {},
     "output_type": "execute_result"
    },
    {
     "data": {
      "text/plain": [
       "True"
      ]
     },
     "execution_count": 2,
     "metadata": {},
     "output_type": "execute_result"
    },
    {
     "data": {
      "text/plain": [
       "True"
      ]
     },
     "execution_count": 2,
     "metadata": {},
     "output_type": "execute_result"
    },
    {
     "data": {
      "text/plain": [
       "True"
      ]
     },
     "execution_count": 2,
     "metadata": {},
     "output_type": "execute_result"
    },
    {
     "data": {
      "text/plain": [
       "True"
      ]
     },
     "execution_count": 2,
     "metadata": {},
     "output_type": "execute_result"
    },
    {
     "data": {
      "text/plain": [
       "True"
      ]
     },
     "execution_count": 2,
     "metadata": {},
     "output_type": "execute_result"
    },
    {
     "data": {
      "text/plain": [
       "True"
      ]
     },
     "execution_count": 2,
     "metadata": {},
     "output_type": "execute_result"
    },
    {
     "data": {
      "text/plain": [
       "True"
      ]
     },
     "execution_count": 2,
     "metadata": {},
     "output_type": "execute_result"
    },
    {
     "data": {
      "text/plain": [
       "True"
      ]
     },
     "execution_count": 2,
     "metadata": {},
     "output_type": "execute_result"
    },
    {
     "data": {
      "text/plain": [
       "True"
      ]
     },
     "execution_count": 2,
     "metadata": {},
     "output_type": "execute_result"
    },
    {
     "data": {
      "text/plain": [
       "True"
      ]
     },
     "execution_count": 2,
     "metadata": {},
     "output_type": "execute_result"
    },
    {
     "data": {
      "text/plain": [
       "True"
      ]
     },
     "execution_count": 2,
     "metadata": {},
     "output_type": "execute_result"
    },
    {
     "data": {
      "text/plain": [
       "True"
      ]
     },
     "execution_count": 2,
     "metadata": {},
     "output_type": "execute_result"
    },
    {
     "data": {
      "text/plain": [
       "True"
      ]
     },
     "execution_count": 2,
     "metadata": {},
     "output_type": "execute_result"
    },
    {
     "data": {
      "text/plain": [
       "True"
      ]
     },
     "execution_count": 2,
     "metadata": {},
     "output_type": "execute_result"
    },
    {
     "data": {
      "text/plain": [
       "True"
      ]
     },
     "execution_count": 2,
     "metadata": {},
     "output_type": "execute_result"
    },
    {
     "data": {
      "text/plain": [
       "True"
      ]
     },
     "execution_count": 2,
     "metadata": {},
     "output_type": "execute_result"
    },
    {
     "data": {
      "text/plain": [
       "True"
      ]
     },
     "execution_count": 2,
     "metadata": {},
     "output_type": "execute_result"
    },
    {
     "data": {
      "text/plain": [
       "True"
      ]
     },
     "execution_count": 2,
     "metadata": {},
     "output_type": "execute_result"
    },
    {
     "data": {
      "text/plain": [
       "True"
      ]
     },
     "execution_count": 2,
     "metadata": {},
     "output_type": "execute_result"
    },
    {
     "data": {
      "text/plain": [
       "True"
      ]
     },
     "execution_count": 2,
     "metadata": {},
     "output_type": "execute_result"
    },
    {
     "data": {
      "text/plain": [
       "True"
      ]
     },
     "execution_count": 2,
     "metadata": {},
     "output_type": "execute_result"
    },
    {
     "data": {
      "text/plain": [
       "True"
      ]
     },
     "execution_count": 2,
     "metadata": {},
     "output_type": "execute_result"
    },
    {
     "data": {
      "text/plain": [
       "True"
      ]
     },
     "execution_count": 2,
     "metadata": {},
     "output_type": "execute_result"
    },
    {
     "data": {
      "text/plain": [
       "True"
      ]
     },
     "execution_count": 2,
     "metadata": {},
     "output_type": "execute_result"
    },
    {
     "data": {
      "text/plain": [
       "True"
      ]
     },
     "execution_count": 2,
     "metadata": {},
     "output_type": "execute_result"
    },
    {
     "data": {
      "text/plain": [
       "True"
      ]
     },
     "execution_count": 2,
     "metadata": {},
     "output_type": "execute_result"
    },
    {
     "data": {
      "text/plain": [
       "True"
      ]
     },
     "execution_count": 2,
     "metadata": {},
     "output_type": "execute_result"
    },
    {
     "data": {
      "text/plain": [
       "True"
      ]
     },
     "execution_count": 2,
     "metadata": {},
     "output_type": "execute_result"
    },
    {
     "data": {
      "text/plain": [
       "True"
      ]
     },
     "execution_count": 2,
     "metadata": {},
     "output_type": "execute_result"
    },
    {
     "data": {
      "text/plain": [
       "True"
      ]
     },
     "execution_count": 2,
     "metadata": {},
     "output_type": "execute_result"
    },
    {
     "data": {
      "text/plain": [
       "True"
      ]
     },
     "execution_count": 2,
     "metadata": {},
     "output_type": "execute_result"
    },
    {
     "data": {
      "text/plain": [
       "True"
      ]
     },
     "execution_count": 2,
     "metadata": {},
     "output_type": "execute_result"
    },
    {
     "data": {
      "text/plain": [
       "True"
      ]
     },
     "execution_count": 2,
     "metadata": {},
     "output_type": "execute_result"
    },
    {
     "data": {
      "text/plain": [
       "True"
      ]
     },
     "execution_count": 2,
     "metadata": {},
     "output_type": "execute_result"
    },
    {
     "data": {
      "text/plain": [
       "True"
      ]
     },
     "execution_count": 2,
     "metadata": {},
     "output_type": "execute_result"
    },
    {
     "data": {
      "text/plain": [
       "True"
      ]
     },
     "execution_count": 2,
     "metadata": {},
     "output_type": "execute_result"
    },
    {
     "data": {
      "text/plain": [
       "True"
      ]
     },
     "execution_count": 2,
     "metadata": {},
     "output_type": "execute_result"
    },
    {
     "data": {
      "text/plain": [
       "True"
      ]
     },
     "execution_count": 2,
     "metadata": {},
     "output_type": "execute_result"
    },
    {
     "data": {
      "text/plain": [
       "True"
      ]
     },
     "execution_count": 2,
     "metadata": {},
     "output_type": "execute_result"
    },
    {
     "data": {
      "text/plain": [
       "True"
      ]
     },
     "execution_count": 2,
     "metadata": {},
     "output_type": "execute_result"
    },
    {
     "data": {
      "text/plain": [
       "True"
      ]
     },
     "execution_count": 2,
     "metadata": {},
     "output_type": "execute_result"
    },
    {
     "data": {
      "text/plain": [
       "True"
      ]
     },
     "execution_count": 2,
     "metadata": {},
     "output_type": "execute_result"
    },
    {
     "data": {
      "text/plain": [
       "True"
      ]
     },
     "execution_count": 2,
     "metadata": {},
     "output_type": "execute_result"
    },
    {
     "data": {
      "text/plain": [
       "True"
      ]
     },
     "execution_count": 2,
     "metadata": {},
     "output_type": "execute_result"
    },
    {
     "data": {
      "text/plain": [
       "True"
      ]
     },
     "execution_count": 2,
     "metadata": {},
     "output_type": "execute_result"
    },
    {
     "name": "stdout",
     "output_type": "stream",
     "text": [
      "Done\n"
     ]
    },
    {
     "data": {
      "text/plain": [
       "True"
      ]
     },
     "execution_count": 2,
     "metadata": {},
     "output_type": "execute_result"
    },
    {
     "data": {
      "text/plain": [
       "True"
      ]
     },
     "execution_count": 2,
     "metadata": {},
     "output_type": "execute_result"
    },
    {
     "data": {
      "text/plain": [
       "True"
      ]
     },
     "execution_count": 2,
     "metadata": {},
     "output_type": "execute_result"
    },
    {
     "data": {
      "text/plain": [
       "True"
      ]
     },
     "execution_count": 2,
     "metadata": {},
     "output_type": "execute_result"
    },
    {
     "data": {
      "text/plain": [
       "True"
      ]
     },
     "execution_count": 2,
     "metadata": {},
     "output_type": "execute_result"
    },
    {
     "data": {
      "text/plain": [
       "True"
      ]
     },
     "execution_count": 2,
     "metadata": {},
     "output_type": "execute_result"
    },
    {
     "data": {
      "text/plain": [
       "True"
      ]
     },
     "execution_count": 2,
     "metadata": {},
     "output_type": "execute_result"
    },
    {
     "data": {
      "text/plain": [
       "True"
      ]
     },
     "execution_count": 2,
     "metadata": {},
     "output_type": "execute_result"
    },
    {
     "data": {
      "text/plain": [
       "True"
      ]
     },
     "execution_count": 2,
     "metadata": {},
     "output_type": "execute_result"
    },
    {
     "data": {
      "text/plain": [
       "True"
      ]
     },
     "execution_count": 2,
     "metadata": {},
     "output_type": "execute_result"
    },
    {
     "data": {
      "text/plain": [
       "True"
      ]
     },
     "execution_count": 2,
     "metadata": {},
     "output_type": "execute_result"
    },
    {
     "data": {
      "text/plain": [
       "True"
      ]
     },
     "execution_count": 2,
     "metadata": {},
     "output_type": "execute_result"
    },
    {
     "data": {
      "text/plain": [
       "True"
      ]
     },
     "execution_count": 2,
     "metadata": {},
     "output_type": "execute_result"
    },
    {
     "data": {
      "text/plain": [
       "True"
      ]
     },
     "execution_count": 2,
     "metadata": {},
     "output_type": "execute_result"
    },
    {
     "data": {
      "text/plain": [
       "True"
      ]
     },
     "execution_count": 2,
     "metadata": {},
     "output_type": "execute_result"
    },
    {
     "data": {
      "text/plain": [
       "True"
      ]
     },
     "execution_count": 2,
     "metadata": {},
     "output_type": "execute_result"
    },
    {
     "data": {
      "text/plain": [
       "True"
      ]
     },
     "execution_count": 2,
     "metadata": {},
     "output_type": "execute_result"
    },
    {
     "data": {
      "text/plain": [
       "True"
      ]
     },
     "execution_count": 2,
     "metadata": {},
     "output_type": "execute_result"
    },
    {
     "data": {
      "text/plain": [
       "True"
      ]
     },
     "execution_count": 2,
     "metadata": {},
     "output_type": "execute_result"
    },
    {
     "data": {
      "text/plain": [
       "True"
      ]
     },
     "execution_count": 2,
     "metadata": {},
     "output_type": "execute_result"
    },
    {
     "data": {
      "text/plain": [
       "True"
      ]
     },
     "execution_count": 2,
     "metadata": {},
     "output_type": "execute_result"
    },
    {
     "data": {
      "text/plain": [
       "True"
      ]
     },
     "execution_count": 2,
     "metadata": {},
     "output_type": "execute_result"
    },
    {
     "data": {
      "text/plain": [
       "True"
      ]
     },
     "execution_count": 2,
     "metadata": {},
     "output_type": "execute_result"
    },
    {
     "data": {
      "text/plain": [
       "True"
      ]
     },
     "execution_count": 2,
     "metadata": {},
     "output_type": "execute_result"
    },
    {
     "data": {
      "text/plain": [
       "True"
      ]
     },
     "execution_count": 2,
     "metadata": {},
     "output_type": "execute_result"
    },
    {
     "data": {
      "text/plain": [
       "True"
      ]
     },
     "execution_count": 2,
     "metadata": {},
     "output_type": "execute_result"
    },
    {
     "data": {
      "text/plain": [
       "True"
      ]
     },
     "execution_count": 2,
     "metadata": {},
     "output_type": "execute_result"
    },
    {
     "data": {
      "text/plain": [
       "True"
      ]
     },
     "execution_count": 2,
     "metadata": {},
     "output_type": "execute_result"
    },
    {
     "data": {
      "text/plain": [
       "True"
      ]
     },
     "execution_count": 2,
     "metadata": {},
     "output_type": "execute_result"
    },
    {
     "data": {
      "text/plain": [
       "True"
      ]
     },
     "execution_count": 2,
     "metadata": {},
     "output_type": "execute_result"
    },
    {
     "data": {
      "text/plain": [
       "True"
      ]
     },
     "execution_count": 2,
     "metadata": {},
     "output_type": "execute_result"
    },
    {
     "data": {
      "text/plain": [
       "True"
      ]
     },
     "execution_count": 2,
     "metadata": {},
     "output_type": "execute_result"
    },
    {
     "data": {
      "text/plain": [
       "True"
      ]
     },
     "execution_count": 2,
     "metadata": {},
     "output_type": "execute_result"
    },
    {
     "name": "stdout",
     "output_type": "stream",
     "text": [
      "Done\n"
     ]
    },
    {
     "data": {
      "text/plain": [
       "True"
      ]
     },
     "execution_count": 2,
     "metadata": {},
     "output_type": "execute_result"
    },
    {
     "data": {
      "text/plain": [
       "True"
      ]
     },
     "execution_count": 2,
     "metadata": {},
     "output_type": "execute_result"
    },
    {
     "data": {
      "text/plain": [
       "True"
      ]
     },
     "execution_count": 2,
     "metadata": {},
     "output_type": "execute_result"
    },
    {
     "data": {
      "text/plain": [
       "True"
      ]
     },
     "execution_count": 2,
     "metadata": {},
     "output_type": "execute_result"
    },
    {
     "data": {
      "text/plain": [
       "True"
      ]
     },
     "execution_count": 2,
     "metadata": {},
     "output_type": "execute_result"
    },
    {
     "data": {
      "text/plain": [
       "True"
      ]
     },
     "execution_count": 2,
     "metadata": {},
     "output_type": "execute_result"
    },
    {
     "data": {
      "text/plain": [
       "True"
      ]
     },
     "execution_count": 2,
     "metadata": {},
     "output_type": "execute_result"
    },
    {
     "data": {
      "text/plain": [
       "True"
      ]
     },
     "execution_count": 2,
     "metadata": {},
     "output_type": "execute_result"
    },
    {
     "data": {
      "text/plain": [
       "True"
      ]
     },
     "execution_count": 2,
     "metadata": {},
     "output_type": "execute_result"
    },
    {
     "data": {
      "text/plain": [
       "True"
      ]
     },
     "execution_count": 2,
     "metadata": {},
     "output_type": "execute_result"
    },
    {
     "data": {
      "text/plain": [
       "True"
      ]
     },
     "execution_count": 2,
     "metadata": {},
     "output_type": "execute_result"
    },
    {
     "data": {
      "text/plain": [
       "True"
      ]
     },
     "execution_count": 2,
     "metadata": {},
     "output_type": "execute_result"
    },
    {
     "data": {
      "text/plain": [
       "True"
      ]
     },
     "execution_count": 2,
     "metadata": {},
     "output_type": "execute_result"
    },
    {
     "data": {
      "text/plain": [
       "True"
      ]
     },
     "execution_count": 2,
     "metadata": {},
     "output_type": "execute_result"
    },
    {
     "data": {
      "text/plain": [
       "True"
      ]
     },
     "execution_count": 2,
     "metadata": {},
     "output_type": "execute_result"
    },
    {
     "data": {
      "text/plain": [
       "True"
      ]
     },
     "execution_count": 2,
     "metadata": {},
     "output_type": "execute_result"
    },
    {
     "data": {
      "text/plain": [
       "True"
      ]
     },
     "execution_count": 2,
     "metadata": {},
     "output_type": "execute_result"
    },
    {
     "data": {
      "text/plain": [
       "True"
      ]
     },
     "execution_count": 2,
     "metadata": {},
     "output_type": "execute_result"
    },
    {
     "data": {
      "text/plain": [
       "True"
      ]
     },
     "execution_count": 2,
     "metadata": {},
     "output_type": "execute_result"
    },
    {
     "data": {
      "text/plain": [
       "True"
      ]
     },
     "execution_count": 2,
     "metadata": {},
     "output_type": "execute_result"
    },
    {
     "data": {
      "text/plain": [
       "True"
      ]
     },
     "execution_count": 2,
     "metadata": {},
     "output_type": "execute_result"
    },
    {
     "data": {
      "text/plain": [
       "True"
      ]
     },
     "execution_count": 2,
     "metadata": {},
     "output_type": "execute_result"
    },
    {
     "data": {
      "text/plain": [
       "True"
      ]
     },
     "execution_count": 2,
     "metadata": {},
     "output_type": "execute_result"
    },
    {
     "data": {
      "text/plain": [
       "True"
      ]
     },
     "execution_count": 2,
     "metadata": {},
     "output_type": "execute_result"
    },
    {
     "data": {
      "text/plain": [
       "True"
      ]
     },
     "execution_count": 2,
     "metadata": {},
     "output_type": "execute_result"
    },
    {
     "data": {
      "text/plain": [
       "True"
      ]
     },
     "execution_count": 2,
     "metadata": {},
     "output_type": "execute_result"
    },
    {
     "data": {
      "text/plain": [
       "True"
      ]
     },
     "execution_count": 2,
     "metadata": {},
     "output_type": "execute_result"
    },
    {
     "data": {
      "text/plain": [
       "True"
      ]
     },
     "execution_count": 2,
     "metadata": {},
     "output_type": "execute_result"
    },
    {
     "data": {
      "text/plain": [
       "True"
      ]
     },
     "execution_count": 2,
     "metadata": {},
     "output_type": "execute_result"
    },
    {
     "data": {
      "text/plain": [
       "True"
      ]
     },
     "execution_count": 2,
     "metadata": {},
     "output_type": "execute_result"
    },
    {
     "data": {
      "text/plain": [
       "True"
      ]
     },
     "execution_count": 2,
     "metadata": {},
     "output_type": "execute_result"
    },
    {
     "data": {
      "text/plain": [
       "True"
      ]
     },
     "execution_count": 2,
     "metadata": {},
     "output_type": "execute_result"
    },
    {
     "data": {
      "text/plain": [
       "True"
      ]
     },
     "execution_count": 2,
     "metadata": {},
     "output_type": "execute_result"
    },
    {
     "data": {
      "text/plain": [
       "True"
      ]
     },
     "execution_count": 2,
     "metadata": {},
     "output_type": "execute_result"
    },
    {
     "data": {
      "text/plain": [
       "True"
      ]
     },
     "execution_count": 2,
     "metadata": {},
     "output_type": "execute_result"
    },
    {
     "data": {
      "text/plain": [
       "True"
      ]
     },
     "execution_count": 2,
     "metadata": {},
     "output_type": "execute_result"
    },
    {
     "data": {
      "text/plain": [
       "True"
      ]
     },
     "execution_count": 2,
     "metadata": {},
     "output_type": "execute_result"
    },
    {
     "data": {
      "text/plain": [
       "True"
      ]
     },
     "execution_count": 2,
     "metadata": {},
     "output_type": "execute_result"
    },
    {
     "name": "stdout",
     "output_type": "stream",
     "text": [
      "Done\n"
     ]
    },
    {
     "data": {
      "text/plain": [
       "True"
      ]
     },
     "execution_count": 2,
     "metadata": {},
     "output_type": "execute_result"
    },
    {
     "data": {
      "text/plain": [
       "True"
      ]
     },
     "execution_count": 2,
     "metadata": {},
     "output_type": "execute_result"
    },
    {
     "data": {
      "text/plain": [
       "True"
      ]
     },
     "execution_count": 2,
     "metadata": {},
     "output_type": "execute_result"
    },
    {
     "data": {
      "text/plain": [
       "True"
      ]
     },
     "execution_count": 2,
     "metadata": {},
     "output_type": "execute_result"
    },
    {
     "data": {
      "text/plain": [
       "True"
      ]
     },
     "execution_count": 2,
     "metadata": {},
     "output_type": "execute_result"
    },
    {
     "data": {
      "text/plain": [
       "True"
      ]
     },
     "execution_count": 2,
     "metadata": {},
     "output_type": "execute_result"
    },
    {
     "data": {
      "text/plain": [
       "True"
      ]
     },
     "execution_count": 2,
     "metadata": {},
     "output_type": "execute_result"
    },
    {
     "data": {
      "text/plain": [
       "True"
      ]
     },
     "execution_count": 2,
     "metadata": {},
     "output_type": "execute_result"
    },
    {
     "data": {
      "text/plain": [
       "True"
      ]
     },
     "execution_count": 2,
     "metadata": {},
     "output_type": "execute_result"
    },
    {
     "data": {
      "text/plain": [
       "True"
      ]
     },
     "execution_count": 2,
     "metadata": {},
     "output_type": "execute_result"
    },
    {
     "data": {
      "text/plain": [
       "True"
      ]
     },
     "execution_count": 2,
     "metadata": {},
     "output_type": "execute_result"
    },
    {
     "data": {
      "text/plain": [
       "True"
      ]
     },
     "execution_count": 2,
     "metadata": {},
     "output_type": "execute_result"
    },
    {
     "data": {
      "text/plain": [
       "True"
      ]
     },
     "execution_count": 2,
     "metadata": {},
     "output_type": "execute_result"
    },
    {
     "data": {
      "text/plain": [
       "True"
      ]
     },
     "execution_count": 2,
     "metadata": {},
     "output_type": "execute_result"
    },
    {
     "data": {
      "text/plain": [
       "True"
      ]
     },
     "execution_count": 2,
     "metadata": {},
     "output_type": "execute_result"
    },
    {
     "data": {
      "text/plain": [
       "True"
      ]
     },
     "execution_count": 2,
     "metadata": {},
     "output_type": "execute_result"
    },
    {
     "data": {
      "text/plain": [
       "True"
      ]
     },
     "execution_count": 2,
     "metadata": {},
     "output_type": "execute_result"
    },
    {
     "data": {
      "text/plain": [
       "True"
      ]
     },
     "execution_count": 2,
     "metadata": {},
     "output_type": "execute_result"
    },
    {
     "data": {
      "text/plain": [
       "True"
      ]
     },
     "execution_count": 2,
     "metadata": {},
     "output_type": "execute_result"
    },
    {
     "data": {
      "text/plain": [
       "True"
      ]
     },
     "execution_count": 2,
     "metadata": {},
     "output_type": "execute_result"
    },
    {
     "data": {
      "text/plain": [
       "True"
      ]
     },
     "execution_count": 2,
     "metadata": {},
     "output_type": "execute_result"
    },
    {
     "data": {
      "text/plain": [
       "True"
      ]
     },
     "execution_count": 2,
     "metadata": {},
     "output_type": "execute_result"
    },
    {
     "name": "stdout",
     "output_type": "stream",
     "text": [
      "Done\n"
     ]
    },
    {
     "data": {
      "text/plain": [
       "True"
      ]
     },
     "execution_count": 2,
     "metadata": {},
     "output_type": "execute_result"
    },
    {
     "data": {
      "text/plain": [
       "True"
      ]
     },
     "execution_count": 2,
     "metadata": {},
     "output_type": "execute_result"
    },
    {
     "data": {
      "text/plain": [
       "True"
      ]
     },
     "execution_count": 2,
     "metadata": {},
     "output_type": "execute_result"
    },
    {
     "data": {
      "text/plain": [
       "True"
      ]
     },
     "execution_count": 2,
     "metadata": {},
     "output_type": "execute_result"
    },
    {
     "data": {
      "text/plain": [
       "True"
      ]
     },
     "execution_count": 2,
     "metadata": {},
     "output_type": "execute_result"
    },
    {
     "data": {
      "text/plain": [
       "True"
      ]
     },
     "execution_count": 2,
     "metadata": {},
     "output_type": "execute_result"
    },
    {
     "data": {
      "text/plain": [
       "True"
      ]
     },
     "execution_count": 2,
     "metadata": {},
     "output_type": "execute_result"
    },
    {
     "data": {
      "text/plain": [
       "True"
      ]
     },
     "execution_count": 2,
     "metadata": {},
     "output_type": "execute_result"
    },
    {
     "data": {
      "text/plain": [
       "True"
      ]
     },
     "execution_count": 2,
     "metadata": {},
     "output_type": "execute_result"
    },
    {
     "data": {
      "text/plain": [
       "True"
      ]
     },
     "execution_count": 2,
     "metadata": {},
     "output_type": "execute_result"
    },
    {
     "data": {
      "text/plain": [
       "True"
      ]
     },
     "execution_count": 2,
     "metadata": {},
     "output_type": "execute_result"
    },
    {
     "data": {
      "text/plain": [
       "True"
      ]
     },
     "execution_count": 2,
     "metadata": {},
     "output_type": "execute_result"
    },
    {
     "data": {
      "text/plain": [
       "True"
      ]
     },
     "execution_count": 2,
     "metadata": {},
     "output_type": "execute_result"
    },
    {
     "data": {
      "text/plain": [
       "True"
      ]
     },
     "execution_count": 2,
     "metadata": {},
     "output_type": "execute_result"
    },
    {
     "data": {
      "text/plain": [
       "True"
      ]
     },
     "execution_count": 2,
     "metadata": {},
     "output_type": "execute_result"
    },
    {
     "data": {
      "text/plain": [
       "True"
      ]
     },
     "execution_count": 2,
     "metadata": {},
     "output_type": "execute_result"
    },
    {
     "data": {
      "text/plain": [
       "True"
      ]
     },
     "execution_count": 2,
     "metadata": {},
     "output_type": "execute_result"
    },
    {
     "data": {
      "text/plain": [
       "True"
      ]
     },
     "execution_count": 2,
     "metadata": {},
     "output_type": "execute_result"
    },
    {
     "data": {
      "text/plain": [
       "True"
      ]
     },
     "execution_count": 2,
     "metadata": {},
     "output_type": "execute_result"
    },
    {
     "data": {
      "text/plain": [
       "True"
      ]
     },
     "execution_count": 2,
     "metadata": {},
     "output_type": "execute_result"
    },
    {
     "data": {
      "text/plain": [
       "True"
      ]
     },
     "execution_count": 2,
     "metadata": {},
     "output_type": "execute_result"
    },
    {
     "data": {
      "text/plain": [
       "True"
      ]
     },
     "execution_count": 2,
     "metadata": {},
     "output_type": "execute_result"
    },
    {
     "data": {
      "text/plain": [
       "True"
      ]
     },
     "execution_count": 2,
     "metadata": {},
     "output_type": "execute_result"
    },
    {
     "data": {
      "text/plain": [
       "True"
      ]
     },
     "execution_count": 2,
     "metadata": {},
     "output_type": "execute_result"
    },
    {
     "data": {
      "text/plain": [
       "True"
      ]
     },
     "execution_count": 2,
     "metadata": {},
     "output_type": "execute_result"
    },
    {
     "name": "stdout",
     "output_type": "stream",
     "text": [
      "Done\n"
     ]
    },
    {
     "data": {
      "text/plain": [
       "True"
      ]
     },
     "execution_count": 2,
     "metadata": {},
     "output_type": "execute_result"
    },
    {
     "data": {
      "text/plain": [
       "True"
      ]
     },
     "execution_count": 2,
     "metadata": {},
     "output_type": "execute_result"
    },
    {
     "data": {
      "text/plain": [
       "True"
      ]
     },
     "execution_count": 2,
     "metadata": {},
     "output_type": "execute_result"
    },
    {
     "data": {
      "text/plain": [
       "True"
      ]
     },
     "execution_count": 2,
     "metadata": {},
     "output_type": "execute_result"
    },
    {
     "data": {
      "text/plain": [
       "True"
      ]
     },
     "execution_count": 2,
     "metadata": {},
     "output_type": "execute_result"
    },
    {
     "data": {
      "text/plain": [
       "True"
      ]
     },
     "execution_count": 2,
     "metadata": {},
     "output_type": "execute_result"
    },
    {
     "data": {
      "text/plain": [
       "True"
      ]
     },
     "execution_count": 2,
     "metadata": {},
     "output_type": "execute_result"
    },
    {
     "data": {
      "text/plain": [
       "True"
      ]
     },
     "execution_count": 2,
     "metadata": {},
     "output_type": "execute_result"
    },
    {
     "data": {
      "text/plain": [
       "True"
      ]
     },
     "execution_count": 2,
     "metadata": {},
     "output_type": "execute_result"
    },
    {
     "data": {
      "text/plain": [
       "True"
      ]
     },
     "execution_count": 2,
     "metadata": {},
     "output_type": "execute_result"
    },
    {
     "data": {
      "text/plain": [
       "True"
      ]
     },
     "execution_count": 2,
     "metadata": {},
     "output_type": "execute_result"
    },
    {
     "data": {
      "text/plain": [
       "True"
      ]
     },
     "execution_count": 2,
     "metadata": {},
     "output_type": "execute_result"
    },
    {
     "data": {
      "text/plain": [
       "True"
      ]
     },
     "execution_count": 2,
     "metadata": {},
     "output_type": "execute_result"
    },
    {
     "data": {
      "text/plain": [
       "True"
      ]
     },
     "execution_count": 2,
     "metadata": {},
     "output_type": "execute_result"
    },
    {
     "data": {
      "text/plain": [
       "True"
      ]
     },
     "execution_count": 2,
     "metadata": {},
     "output_type": "execute_result"
    },
    {
     "data": {
      "text/plain": [
       "True"
      ]
     },
     "execution_count": 2,
     "metadata": {},
     "output_type": "execute_result"
    },
    {
     "data": {
      "text/plain": [
       "True"
      ]
     },
     "execution_count": 2,
     "metadata": {},
     "output_type": "execute_result"
    },
    {
     "data": {
      "text/plain": [
       "True"
      ]
     },
     "execution_count": 2,
     "metadata": {},
     "output_type": "execute_result"
    },
    {
     "data": {
      "text/plain": [
       "True"
      ]
     },
     "execution_count": 2,
     "metadata": {},
     "output_type": "execute_result"
    },
    {
     "data": {
      "text/plain": [
       "True"
      ]
     },
     "execution_count": 2,
     "metadata": {},
     "output_type": "execute_result"
    },
    {
     "data": {
      "text/plain": [
       "True"
      ]
     },
     "execution_count": 2,
     "metadata": {},
     "output_type": "execute_result"
    },
    {
     "data": {
      "text/plain": [
       "True"
      ]
     },
     "execution_count": 2,
     "metadata": {},
     "output_type": "execute_result"
    },
    {
     "data": {
      "text/plain": [
       "True"
      ]
     },
     "execution_count": 2,
     "metadata": {},
     "output_type": "execute_result"
    },
    {
     "data": {
      "text/plain": [
       "True"
      ]
     },
     "execution_count": 2,
     "metadata": {},
     "output_type": "execute_result"
    },
    {
     "data": {
      "text/plain": [
       "True"
      ]
     },
     "execution_count": 2,
     "metadata": {},
     "output_type": "execute_result"
    },
    {
     "data": {
      "text/plain": [
       "True"
      ]
     },
     "execution_count": 2,
     "metadata": {},
     "output_type": "execute_result"
    },
    {
     "data": {
      "text/plain": [
       "True"
      ]
     },
     "execution_count": 2,
     "metadata": {},
     "output_type": "execute_result"
    },
    {
     "data": {
      "text/plain": [
       "True"
      ]
     },
     "execution_count": 2,
     "metadata": {},
     "output_type": "execute_result"
    },
    {
     "data": {
      "text/plain": [
       "True"
      ]
     },
     "execution_count": 2,
     "metadata": {},
     "output_type": "execute_result"
    },
    {
     "data": {
      "text/plain": [
       "True"
      ]
     },
     "execution_count": 2,
     "metadata": {},
     "output_type": "execute_result"
    },
    {
     "data": {
      "text/plain": [
       "True"
      ]
     },
     "execution_count": 2,
     "metadata": {},
     "output_type": "execute_result"
    },
    {
     "name": "stdout",
     "output_type": "stream",
     "text": [
      "Done\n"
     ]
    },
    {
     "data": {
      "text/plain": [
       "True"
      ]
     },
     "execution_count": 2,
     "metadata": {},
     "output_type": "execute_result"
    },
    {
     "data": {
      "text/plain": [
       "True"
      ]
     },
     "execution_count": 2,
     "metadata": {},
     "output_type": "execute_result"
    },
    {
     "data": {
      "text/plain": [
       "True"
      ]
     },
     "execution_count": 2,
     "metadata": {},
     "output_type": "execute_result"
    },
    {
     "data": {
      "text/plain": [
       "True"
      ]
     },
     "execution_count": 2,
     "metadata": {},
     "output_type": "execute_result"
    },
    {
     "data": {
      "text/plain": [
       "True"
      ]
     },
     "execution_count": 2,
     "metadata": {},
     "output_type": "execute_result"
    },
    {
     "data": {
      "text/plain": [
       "True"
      ]
     },
     "execution_count": 2,
     "metadata": {},
     "output_type": "execute_result"
    },
    {
     "data": {
      "text/plain": [
       "True"
      ]
     },
     "execution_count": 2,
     "metadata": {},
     "output_type": "execute_result"
    },
    {
     "data": {
      "text/plain": [
       "True"
      ]
     },
     "execution_count": 2,
     "metadata": {},
     "output_type": "execute_result"
    },
    {
     "data": {
      "text/plain": [
       "True"
      ]
     },
     "execution_count": 2,
     "metadata": {},
     "output_type": "execute_result"
    },
    {
     "data": {
      "text/plain": [
       "True"
      ]
     },
     "execution_count": 2,
     "metadata": {},
     "output_type": "execute_result"
    },
    {
     "name": "stdout",
     "output_type": "stream",
     "text": [
      "Done\n"
     ]
    },
    {
     "data": {
      "text/plain": [
       "True"
      ]
     },
     "execution_count": 2,
     "metadata": {},
     "output_type": "execute_result"
    },
    {
     "data": {
      "text/plain": [
       "True"
      ]
     },
     "execution_count": 2,
     "metadata": {},
     "output_type": "execute_result"
    },
    {
     "data": {
      "text/plain": [
       "True"
      ]
     },
     "execution_count": 2,
     "metadata": {},
     "output_type": "execute_result"
    },
    {
     "data": {
      "text/plain": [
       "True"
      ]
     },
     "execution_count": 2,
     "metadata": {},
     "output_type": "execute_result"
    },
    {
     "data": {
      "text/plain": [
       "True"
      ]
     },
     "execution_count": 2,
     "metadata": {},
     "output_type": "execute_result"
    },
    {
     "data": {
      "text/plain": [
       "True"
      ]
     },
     "execution_count": 2,
     "metadata": {},
     "output_type": "execute_result"
    },
    {
     "data": {
      "text/plain": [
       "True"
      ]
     },
     "execution_count": 2,
     "metadata": {},
     "output_type": "execute_result"
    },
    {
     "data": {
      "text/plain": [
       "True"
      ]
     },
     "execution_count": 2,
     "metadata": {},
     "output_type": "execute_result"
    },
    {
     "data": {
      "text/plain": [
       "True"
      ]
     },
     "execution_count": 2,
     "metadata": {},
     "output_type": "execute_result"
    },
    {
     "data": {
      "text/plain": [
       "True"
      ]
     },
     "execution_count": 2,
     "metadata": {},
     "output_type": "execute_result"
    },
    {
     "data": {
      "text/plain": [
       "True"
      ]
     },
     "execution_count": 2,
     "metadata": {},
     "output_type": "execute_result"
    },
    {
     "data": {
      "text/plain": [
       "True"
      ]
     },
     "execution_count": 2,
     "metadata": {},
     "output_type": "execute_result"
    },
    {
     "data": {
      "text/plain": [
       "True"
      ]
     },
     "execution_count": 2,
     "metadata": {},
     "output_type": "execute_result"
    },
    {
     "data": {
      "text/plain": [
       "True"
      ]
     },
     "execution_count": 2,
     "metadata": {},
     "output_type": "execute_result"
    },
    {
     "data": {
      "text/plain": [
       "True"
      ]
     },
     "execution_count": 2,
     "metadata": {},
     "output_type": "execute_result"
    },
    {
     "data": {
      "text/plain": [
       "True"
      ]
     },
     "execution_count": 2,
     "metadata": {},
     "output_type": "execute_result"
    },
    {
     "data": {
      "text/plain": [
       "True"
      ]
     },
     "execution_count": 2,
     "metadata": {},
     "output_type": "execute_result"
    },
    {
     "data": {
      "text/plain": [
       "True"
      ]
     },
     "execution_count": 2,
     "metadata": {},
     "output_type": "execute_result"
    },
    {
     "data": {
      "text/plain": [
       "True"
      ]
     },
     "execution_count": 2,
     "metadata": {},
     "output_type": "execute_result"
    },
    {
     "data": {
      "text/plain": [
       "True"
      ]
     },
     "execution_count": 2,
     "metadata": {},
     "output_type": "execute_result"
    },
    {
     "data": {
      "text/plain": [
       "True"
      ]
     },
     "execution_count": 2,
     "metadata": {},
     "output_type": "execute_result"
    },
    {
     "data": {
      "text/plain": [
       "True"
      ]
     },
     "execution_count": 2,
     "metadata": {},
     "output_type": "execute_result"
    },
    {
     "name": "stdout",
     "output_type": "stream",
     "text": [
      "Done\n"
     ]
    },
    {
     "data": {
      "text/plain": [
       "True"
      ]
     },
     "execution_count": 2,
     "metadata": {},
     "output_type": "execute_result"
    },
    {
     "data": {
      "text/plain": [
       "True"
      ]
     },
     "execution_count": 2,
     "metadata": {},
     "output_type": "execute_result"
    },
    {
     "data": {
      "text/plain": [
       "True"
      ]
     },
     "execution_count": 2,
     "metadata": {},
     "output_type": "execute_result"
    },
    {
     "data": {
      "text/plain": [
       "True"
      ]
     },
     "execution_count": 2,
     "metadata": {},
     "output_type": "execute_result"
    },
    {
     "data": {
      "text/plain": [
       "True"
      ]
     },
     "execution_count": 2,
     "metadata": {},
     "output_type": "execute_result"
    },
    {
     "data": {
      "text/plain": [
       "True"
      ]
     },
     "execution_count": 2,
     "metadata": {},
     "output_type": "execute_result"
    },
    {
     "data": {
      "text/plain": [
       "True"
      ]
     },
     "execution_count": 2,
     "metadata": {},
     "output_type": "execute_result"
    },
    {
     "data": {
      "text/plain": [
       "True"
      ]
     },
     "execution_count": 2,
     "metadata": {},
     "output_type": "execute_result"
    },
    {
     "data": {
      "text/plain": [
       "True"
      ]
     },
     "execution_count": 2,
     "metadata": {},
     "output_type": "execute_result"
    },
    {
     "data": {
      "text/plain": [
       "True"
      ]
     },
     "execution_count": 2,
     "metadata": {},
     "output_type": "execute_result"
    },
    {
     "data": {
      "text/plain": [
       "True"
      ]
     },
     "execution_count": 2,
     "metadata": {},
     "output_type": "execute_result"
    },
    {
     "data": {
      "text/plain": [
       "True"
      ]
     },
     "execution_count": 2,
     "metadata": {},
     "output_type": "execute_result"
    },
    {
     "data": {
      "text/plain": [
       "True"
      ]
     },
     "execution_count": 2,
     "metadata": {},
     "output_type": "execute_result"
    },
    {
     "data": {
      "text/plain": [
       "True"
      ]
     },
     "execution_count": 2,
     "metadata": {},
     "output_type": "execute_result"
    },
    {
     "data": {
      "text/plain": [
       "True"
      ]
     },
     "execution_count": 2,
     "metadata": {},
     "output_type": "execute_result"
    },
    {
     "data": {
      "text/plain": [
       "True"
      ]
     },
     "execution_count": 2,
     "metadata": {},
     "output_type": "execute_result"
    },
    {
     "data": {
      "text/plain": [
       "True"
      ]
     },
     "execution_count": 2,
     "metadata": {},
     "output_type": "execute_result"
    },
    {
     "data": {
      "text/plain": [
       "True"
      ]
     },
     "execution_count": 2,
     "metadata": {},
     "output_type": "execute_result"
    },
    {
     "data": {
      "text/plain": [
       "True"
      ]
     },
     "execution_count": 2,
     "metadata": {},
     "output_type": "execute_result"
    },
    {
     "name": "stdout",
     "output_type": "stream",
     "text": [
      "Done\n"
     ]
    },
    {
     "data": {
      "text/plain": [
       "True"
      ]
     },
     "execution_count": 2,
     "metadata": {},
     "output_type": "execute_result"
    },
    {
     "data": {
      "text/plain": [
       "True"
      ]
     },
     "execution_count": 2,
     "metadata": {},
     "output_type": "execute_result"
    },
    {
     "data": {
      "text/plain": [
       "True"
      ]
     },
     "execution_count": 2,
     "metadata": {},
     "output_type": "execute_result"
    },
    {
     "data": {
      "text/plain": [
       "True"
      ]
     },
     "execution_count": 2,
     "metadata": {},
     "output_type": "execute_result"
    },
    {
     "data": {
      "text/plain": [
       "True"
      ]
     },
     "execution_count": 2,
     "metadata": {},
     "output_type": "execute_result"
    },
    {
     "data": {
      "text/plain": [
       "True"
      ]
     },
     "execution_count": 2,
     "metadata": {},
     "output_type": "execute_result"
    },
    {
     "data": {
      "text/plain": [
       "True"
      ]
     },
     "execution_count": 2,
     "metadata": {},
     "output_type": "execute_result"
    },
    {
     "data": {
      "text/plain": [
       "True"
      ]
     },
     "execution_count": 2,
     "metadata": {},
     "output_type": "execute_result"
    },
    {
     "data": {
      "text/plain": [
       "True"
      ]
     },
     "execution_count": 2,
     "metadata": {},
     "output_type": "execute_result"
    },
    {
     "data": {
      "text/plain": [
       "True"
      ]
     },
     "execution_count": 2,
     "metadata": {},
     "output_type": "execute_result"
    },
    {
     "data": {
      "text/plain": [
       "True"
      ]
     },
     "execution_count": 2,
     "metadata": {},
     "output_type": "execute_result"
    },
    {
     "data": {
      "text/plain": [
       "True"
      ]
     },
     "execution_count": 2,
     "metadata": {},
     "output_type": "execute_result"
    },
    {
     "data": {
      "text/plain": [
       "True"
      ]
     },
     "execution_count": 2,
     "metadata": {},
     "output_type": "execute_result"
    },
    {
     "data": {
      "text/plain": [
       "True"
      ]
     },
     "execution_count": 2,
     "metadata": {},
     "output_type": "execute_result"
    },
    {
     "data": {
      "text/plain": [
       "True"
      ]
     },
     "execution_count": 2,
     "metadata": {},
     "output_type": "execute_result"
    },
    {
     "data": {
      "text/plain": [
       "True"
      ]
     },
     "execution_count": 2,
     "metadata": {},
     "output_type": "execute_result"
    },
    {
     "data": {
      "text/plain": [
       "True"
      ]
     },
     "execution_count": 2,
     "metadata": {},
     "output_type": "execute_result"
    },
    {
     "data": {
      "text/plain": [
       "True"
      ]
     },
     "execution_count": 2,
     "metadata": {},
     "output_type": "execute_result"
    },
    {
     "data": {
      "text/plain": [
       "True"
      ]
     },
     "execution_count": 2,
     "metadata": {},
     "output_type": "execute_result"
    },
    {
     "data": {
      "text/plain": [
       "True"
      ]
     },
     "execution_count": 2,
     "metadata": {},
     "output_type": "execute_result"
    },
    {
     "data": {
      "text/plain": [
       "True"
      ]
     },
     "execution_count": 2,
     "metadata": {},
     "output_type": "execute_result"
    },
    {
     "data": {
      "text/plain": [
       "True"
      ]
     },
     "execution_count": 2,
     "metadata": {},
     "output_type": "execute_result"
    },
    {
     "name": "stdout",
     "output_type": "stream",
     "text": [
      "Done\n"
     ]
    },
    {
     "data": {
      "text/plain": [
       "True"
      ]
     },
     "execution_count": 2,
     "metadata": {},
     "output_type": "execute_result"
    },
    {
     "data": {
      "text/plain": [
       "True"
      ]
     },
     "execution_count": 2,
     "metadata": {},
     "output_type": "execute_result"
    },
    {
     "data": {
      "text/plain": [
       "True"
      ]
     },
     "execution_count": 2,
     "metadata": {},
     "output_type": "execute_result"
    },
    {
     "data": {
      "text/plain": [
       "True"
      ]
     },
     "execution_count": 2,
     "metadata": {},
     "output_type": "execute_result"
    },
    {
     "data": {
      "text/plain": [
       "True"
      ]
     },
     "execution_count": 2,
     "metadata": {},
     "output_type": "execute_result"
    },
    {
     "data": {
      "text/plain": [
       "True"
      ]
     },
     "execution_count": 2,
     "metadata": {},
     "output_type": "execute_result"
    },
    {
     "data": {
      "text/plain": [
       "True"
      ]
     },
     "execution_count": 2,
     "metadata": {},
     "output_type": "execute_result"
    },
    {
     "data": {
      "text/plain": [
       "True"
      ]
     },
     "execution_count": 2,
     "metadata": {},
     "output_type": "execute_result"
    },
    {
     "data": {
      "text/plain": [
       "True"
      ]
     },
     "execution_count": 2,
     "metadata": {},
     "output_type": "execute_result"
    },
    {
     "data": {
      "text/plain": [
       "True"
      ]
     },
     "execution_count": 2,
     "metadata": {},
     "output_type": "execute_result"
    },
    {
     "data": {
      "text/plain": [
       "True"
      ]
     },
     "execution_count": 2,
     "metadata": {},
     "output_type": "execute_result"
    },
    {
     "data": {
      "text/plain": [
       "True"
      ]
     },
     "execution_count": 2,
     "metadata": {},
     "output_type": "execute_result"
    },
    {
     "data": {
      "text/plain": [
       "True"
      ]
     },
     "execution_count": 2,
     "metadata": {},
     "output_type": "execute_result"
    },
    {
     "data": {
      "text/plain": [
       "True"
      ]
     },
     "execution_count": 2,
     "metadata": {},
     "output_type": "execute_result"
    },
    {
     "data": {
      "text/plain": [
       "True"
      ]
     },
     "execution_count": 2,
     "metadata": {},
     "output_type": "execute_result"
    },
    {
     "data": {
      "text/plain": [
       "True"
      ]
     },
     "execution_count": 2,
     "metadata": {},
     "output_type": "execute_result"
    },
    {
     "data": {
      "text/plain": [
       "True"
      ]
     },
     "execution_count": 2,
     "metadata": {},
     "output_type": "execute_result"
    },
    {
     "data": {
      "text/plain": [
       "True"
      ]
     },
     "execution_count": 2,
     "metadata": {},
     "output_type": "execute_result"
    },
    {
     "data": {
      "text/plain": [
       "True"
      ]
     },
     "execution_count": 2,
     "metadata": {},
     "output_type": "execute_result"
    },
    {
     "data": {
      "text/plain": [
       "True"
      ]
     },
     "execution_count": 2,
     "metadata": {},
     "output_type": "execute_result"
    },
    {
     "data": {
      "text/plain": [
       "True"
      ]
     },
     "execution_count": 2,
     "metadata": {},
     "output_type": "execute_result"
    },
    {
     "name": "stdout",
     "output_type": "stream",
     "text": [
      "Done\n"
     ]
    },
    {
     "data": {
      "text/plain": [
       "True"
      ]
     },
     "execution_count": 2,
     "metadata": {},
     "output_type": "execute_result"
    },
    {
     "data": {
      "text/plain": [
       "True"
      ]
     },
     "execution_count": 2,
     "metadata": {},
     "output_type": "execute_result"
    },
    {
     "data": {
      "text/plain": [
       "True"
      ]
     },
     "execution_count": 2,
     "metadata": {},
     "output_type": "execute_result"
    },
    {
     "data": {
      "text/plain": [
       "True"
      ]
     },
     "execution_count": 2,
     "metadata": {},
     "output_type": "execute_result"
    },
    {
     "data": {
      "text/plain": [
       "True"
      ]
     },
     "execution_count": 2,
     "metadata": {},
     "output_type": "execute_result"
    },
    {
     "data": {
      "text/plain": [
       "True"
      ]
     },
     "execution_count": 2,
     "metadata": {},
     "output_type": "execute_result"
    },
    {
     "data": {
      "text/plain": [
       "True"
      ]
     },
     "execution_count": 2,
     "metadata": {},
     "output_type": "execute_result"
    },
    {
     "data": {
      "text/plain": [
       "True"
      ]
     },
     "execution_count": 2,
     "metadata": {},
     "output_type": "execute_result"
    },
    {
     "data": {
      "text/plain": [
       "True"
      ]
     },
     "execution_count": 2,
     "metadata": {},
     "output_type": "execute_result"
    },
    {
     "data": {
      "text/plain": [
       "True"
      ]
     },
     "execution_count": 2,
     "metadata": {},
     "output_type": "execute_result"
    },
    {
     "data": {
      "text/plain": [
       "True"
      ]
     },
     "execution_count": 2,
     "metadata": {},
     "output_type": "execute_result"
    },
    {
     "data": {
      "text/plain": [
       "True"
      ]
     },
     "execution_count": 2,
     "metadata": {},
     "output_type": "execute_result"
    },
    {
     "name": "stdout",
     "output_type": "stream",
     "text": [
      "Done\n"
     ]
    },
    {
     "data": {
      "text/plain": [
       "True"
      ]
     },
     "execution_count": 2,
     "metadata": {},
     "output_type": "execute_result"
    },
    {
     "data": {
      "text/plain": [
       "True"
      ]
     },
     "execution_count": 2,
     "metadata": {},
     "output_type": "execute_result"
    },
    {
     "data": {
      "text/plain": [
       "True"
      ]
     },
     "execution_count": 2,
     "metadata": {},
     "output_type": "execute_result"
    },
    {
     "data": {
      "text/plain": [
       "True"
      ]
     },
     "execution_count": 2,
     "metadata": {},
     "output_type": "execute_result"
    },
    {
     "data": {
      "text/plain": [
       "True"
      ]
     },
     "execution_count": 2,
     "metadata": {},
     "output_type": "execute_result"
    },
    {
     "data": {
      "text/plain": [
       "True"
      ]
     },
     "execution_count": 2,
     "metadata": {},
     "output_type": "execute_result"
    },
    {
     "data": {
      "text/plain": [
       "True"
      ]
     },
     "execution_count": 2,
     "metadata": {},
     "output_type": "execute_result"
    },
    {
     "data": {
      "text/plain": [
       "True"
      ]
     },
     "execution_count": 2,
     "metadata": {},
     "output_type": "execute_result"
    },
    {
     "data": {
      "text/plain": [
       "True"
      ]
     },
     "execution_count": 2,
     "metadata": {},
     "output_type": "execute_result"
    },
    {
     "data": {
      "text/plain": [
       "True"
      ]
     },
     "execution_count": 2,
     "metadata": {},
     "output_type": "execute_result"
    },
    {
     "data": {
      "text/plain": [
       "True"
      ]
     },
     "execution_count": 2,
     "metadata": {},
     "output_type": "execute_result"
    },
    {
     "data": {
      "text/plain": [
       "True"
      ]
     },
     "execution_count": 2,
     "metadata": {},
     "output_type": "execute_result"
    },
    {
     "data": {
      "text/plain": [
       "True"
      ]
     },
     "execution_count": 2,
     "metadata": {},
     "output_type": "execute_result"
    },
    {
     "data": {
      "text/plain": [
       "True"
      ]
     },
     "execution_count": 2,
     "metadata": {},
     "output_type": "execute_result"
    },
    {
     "data": {
      "text/plain": [
       "True"
      ]
     },
     "execution_count": 2,
     "metadata": {},
     "output_type": "execute_result"
    },
    {
     "data": {
      "text/plain": [
       "True"
      ]
     },
     "execution_count": 2,
     "metadata": {},
     "output_type": "execute_result"
    },
    {
     "data": {
      "text/plain": [
       "True"
      ]
     },
     "execution_count": 2,
     "metadata": {},
     "output_type": "execute_result"
    },
    {
     "data": {
      "text/plain": [
       "True"
      ]
     },
     "execution_count": 2,
     "metadata": {},
     "output_type": "execute_result"
    },
    {
     "data": {
      "text/plain": [
       "True"
      ]
     },
     "execution_count": 2,
     "metadata": {},
     "output_type": "execute_result"
    },
    {
     "data": {
      "text/plain": [
       "True"
      ]
     },
     "execution_count": 2,
     "metadata": {},
     "output_type": "execute_result"
    },
    {
     "data": {
      "text/plain": [
       "True"
      ]
     },
     "execution_count": 2,
     "metadata": {},
     "output_type": "execute_result"
    },
    {
     "data": {
      "text/plain": [
       "True"
      ]
     },
     "execution_count": 2,
     "metadata": {},
     "output_type": "execute_result"
    },
    {
     "data": {
      "text/plain": [
       "True"
      ]
     },
     "execution_count": 2,
     "metadata": {},
     "output_type": "execute_result"
    },
    {
     "name": "stdout",
     "output_type": "stream",
     "text": [
      "Done\n"
     ]
    },
    {
     "data": {
      "text/plain": [
       "True"
      ]
     },
     "execution_count": 2,
     "metadata": {},
     "output_type": "execute_result"
    },
    {
     "data": {
      "text/plain": [
       "True"
      ]
     },
     "execution_count": 2,
     "metadata": {},
     "output_type": "execute_result"
    },
    {
     "data": {
      "text/plain": [
       "True"
      ]
     },
     "execution_count": 2,
     "metadata": {},
     "output_type": "execute_result"
    },
    {
     "data": {
      "text/plain": [
       "True"
      ]
     },
     "execution_count": 2,
     "metadata": {},
     "output_type": "execute_result"
    },
    {
     "data": {
      "text/plain": [
       "True"
      ]
     },
     "execution_count": 2,
     "metadata": {},
     "output_type": "execute_result"
    },
    {
     "data": {
      "text/plain": [
       "True"
      ]
     },
     "execution_count": 2,
     "metadata": {},
     "output_type": "execute_result"
    },
    {
     "data": {
      "text/plain": [
       "True"
      ]
     },
     "execution_count": 2,
     "metadata": {},
     "output_type": "execute_result"
    },
    {
     "data": {
      "text/plain": [
       "True"
      ]
     },
     "execution_count": 2,
     "metadata": {},
     "output_type": "execute_result"
    },
    {
     "data": {
      "text/plain": [
       "True"
      ]
     },
     "execution_count": 2,
     "metadata": {},
     "output_type": "execute_result"
    },
    {
     "data": {
      "text/plain": [
       "True"
      ]
     },
     "execution_count": 2,
     "metadata": {},
     "output_type": "execute_result"
    },
    {
     "data": {
      "text/plain": [
       "True"
      ]
     },
     "execution_count": 2,
     "metadata": {},
     "output_type": "execute_result"
    },
    {
     "data": {
      "text/plain": [
       "True"
      ]
     },
     "execution_count": 2,
     "metadata": {},
     "output_type": "execute_result"
    },
    {
     "data": {
      "text/plain": [
       "True"
      ]
     },
     "execution_count": 2,
     "metadata": {},
     "output_type": "execute_result"
    },
    {
     "data": {
      "text/plain": [
       "True"
      ]
     },
     "execution_count": 2,
     "metadata": {},
     "output_type": "execute_result"
    },
    {
     "data": {
      "text/plain": [
       "True"
      ]
     },
     "execution_count": 2,
     "metadata": {},
     "output_type": "execute_result"
    },
    {
     "data": {
      "text/plain": [
       "True"
      ]
     },
     "execution_count": 2,
     "metadata": {},
     "output_type": "execute_result"
    },
    {
     "data": {
      "text/plain": [
       "True"
      ]
     },
     "execution_count": 2,
     "metadata": {},
     "output_type": "execute_result"
    },
    {
     "data": {
      "text/plain": [
       "True"
      ]
     },
     "execution_count": 2,
     "metadata": {},
     "output_type": "execute_result"
    },
    {
     "data": {
      "text/plain": [
       "True"
      ]
     },
     "execution_count": 2,
     "metadata": {},
     "output_type": "execute_result"
    },
    {
     "data": {
      "text/plain": [
       "True"
      ]
     },
     "execution_count": 2,
     "metadata": {},
     "output_type": "execute_result"
    },
    {
     "data": {
      "text/plain": [
       "True"
      ]
     },
     "execution_count": 2,
     "metadata": {},
     "output_type": "execute_result"
    },
    {
     "data": {
      "text/plain": [
       "True"
      ]
     },
     "execution_count": 2,
     "metadata": {},
     "output_type": "execute_result"
    },
    {
     "data": {
      "text/plain": [
       "True"
      ]
     },
     "execution_count": 2,
     "metadata": {},
     "output_type": "execute_result"
    },
    {
     "data": {
      "text/plain": [
       "True"
      ]
     },
     "execution_count": 2,
     "metadata": {},
     "output_type": "execute_result"
    },
    {
     "data": {
      "text/plain": [
       "True"
      ]
     },
     "execution_count": 2,
     "metadata": {},
     "output_type": "execute_result"
    },
    {
     "data": {
      "text/plain": [
       "True"
      ]
     },
     "execution_count": 2,
     "metadata": {},
     "output_type": "execute_result"
    },
    {
     "data": {
      "text/plain": [
       "True"
      ]
     },
     "execution_count": 2,
     "metadata": {},
     "output_type": "execute_result"
    },
    {
     "name": "stdout",
     "output_type": "stream",
     "text": [
      "Done\n"
     ]
    },
    {
     "data": {
      "text/plain": [
       "True"
      ]
     },
     "execution_count": 2,
     "metadata": {},
     "output_type": "execute_result"
    },
    {
     "data": {
      "text/plain": [
       "True"
      ]
     },
     "execution_count": 2,
     "metadata": {},
     "output_type": "execute_result"
    },
    {
     "data": {
      "text/plain": [
       "True"
      ]
     },
     "execution_count": 2,
     "metadata": {},
     "output_type": "execute_result"
    },
    {
     "data": {
      "text/plain": [
       "True"
      ]
     },
     "execution_count": 2,
     "metadata": {},
     "output_type": "execute_result"
    },
    {
     "data": {
      "text/plain": [
       "True"
      ]
     },
     "execution_count": 2,
     "metadata": {},
     "output_type": "execute_result"
    },
    {
     "data": {
      "text/plain": [
       "True"
      ]
     },
     "execution_count": 2,
     "metadata": {},
     "output_type": "execute_result"
    },
    {
     "data": {
      "text/plain": [
       "True"
      ]
     },
     "execution_count": 2,
     "metadata": {},
     "output_type": "execute_result"
    },
    {
     "data": {
      "text/plain": [
       "True"
      ]
     },
     "execution_count": 2,
     "metadata": {},
     "output_type": "execute_result"
    },
    {
     "data": {
      "text/plain": [
       "True"
      ]
     },
     "execution_count": 2,
     "metadata": {},
     "output_type": "execute_result"
    },
    {
     "data": {
      "text/plain": [
       "True"
      ]
     },
     "execution_count": 2,
     "metadata": {},
     "output_type": "execute_result"
    },
    {
     "data": {
      "text/plain": [
       "True"
      ]
     },
     "execution_count": 2,
     "metadata": {},
     "output_type": "execute_result"
    },
    {
     "data": {
      "text/plain": [
       "True"
      ]
     },
     "execution_count": 2,
     "metadata": {},
     "output_type": "execute_result"
    },
    {
     "data": {
      "text/plain": [
       "True"
      ]
     },
     "execution_count": 2,
     "metadata": {},
     "output_type": "execute_result"
    },
    {
     "data": {
      "text/plain": [
       "True"
      ]
     },
     "execution_count": 2,
     "metadata": {},
     "output_type": "execute_result"
    },
    {
     "data": {
      "text/plain": [
       "True"
      ]
     },
     "execution_count": 2,
     "metadata": {},
     "output_type": "execute_result"
    },
    {
     "data": {
      "text/plain": [
       "True"
      ]
     },
     "execution_count": 2,
     "metadata": {},
     "output_type": "execute_result"
    },
    {
     "data": {
      "text/plain": [
       "True"
      ]
     },
     "execution_count": 2,
     "metadata": {},
     "output_type": "execute_result"
    },
    {
     "data": {
      "text/plain": [
       "True"
      ]
     },
     "execution_count": 2,
     "metadata": {},
     "output_type": "execute_result"
    },
    {
     "data": {
      "text/plain": [
       "True"
      ]
     },
     "execution_count": 2,
     "metadata": {},
     "output_type": "execute_result"
    },
    {
     "name": "stdout",
     "output_type": "stream",
     "text": [
      "Done\n"
     ]
    },
    {
     "data": {
      "text/plain": [
       "True"
      ]
     },
     "execution_count": 2,
     "metadata": {},
     "output_type": "execute_result"
    },
    {
     "data": {
      "text/plain": [
       "True"
      ]
     },
     "execution_count": 2,
     "metadata": {},
     "output_type": "execute_result"
    },
    {
     "data": {
      "text/plain": [
       "True"
      ]
     },
     "execution_count": 2,
     "metadata": {},
     "output_type": "execute_result"
    },
    {
     "data": {
      "text/plain": [
       "True"
      ]
     },
     "execution_count": 2,
     "metadata": {},
     "output_type": "execute_result"
    },
    {
     "data": {
      "text/plain": [
       "True"
      ]
     },
     "execution_count": 2,
     "metadata": {},
     "output_type": "execute_result"
    },
    {
     "data": {
      "text/plain": [
       "True"
      ]
     },
     "execution_count": 2,
     "metadata": {},
     "output_type": "execute_result"
    },
    {
     "data": {
      "text/plain": [
       "True"
      ]
     },
     "execution_count": 2,
     "metadata": {},
     "output_type": "execute_result"
    },
    {
     "data": {
      "text/plain": [
       "True"
      ]
     },
     "execution_count": 2,
     "metadata": {},
     "output_type": "execute_result"
    },
    {
     "data": {
      "text/plain": [
       "True"
      ]
     },
     "execution_count": 2,
     "metadata": {},
     "output_type": "execute_result"
    },
    {
     "data": {
      "text/plain": [
       "True"
      ]
     },
     "execution_count": 2,
     "metadata": {},
     "output_type": "execute_result"
    },
    {
     "data": {
      "text/plain": [
       "True"
      ]
     },
     "execution_count": 2,
     "metadata": {},
     "output_type": "execute_result"
    },
    {
     "data": {
      "text/plain": [
       "True"
      ]
     },
     "execution_count": 2,
     "metadata": {},
     "output_type": "execute_result"
    },
    {
     "data": {
      "text/plain": [
       "True"
      ]
     },
     "execution_count": 2,
     "metadata": {},
     "output_type": "execute_result"
    },
    {
     "data": {
      "text/plain": [
       "True"
      ]
     },
     "execution_count": 2,
     "metadata": {},
     "output_type": "execute_result"
    },
    {
     "data": {
      "text/plain": [
       "True"
      ]
     },
     "execution_count": 2,
     "metadata": {},
     "output_type": "execute_result"
    },
    {
     "data": {
      "text/plain": [
       "True"
      ]
     },
     "execution_count": 2,
     "metadata": {},
     "output_type": "execute_result"
    },
    {
     "data": {
      "text/plain": [
       "True"
      ]
     },
     "execution_count": 2,
     "metadata": {},
     "output_type": "execute_result"
    },
    {
     "data": {
      "text/plain": [
       "True"
      ]
     },
     "execution_count": 2,
     "metadata": {},
     "output_type": "execute_result"
    },
    {
     "data": {
      "text/plain": [
       "True"
      ]
     },
     "execution_count": 2,
     "metadata": {},
     "output_type": "execute_result"
    },
    {
     "data": {
      "text/plain": [
       "True"
      ]
     },
     "execution_count": 2,
     "metadata": {},
     "output_type": "execute_result"
    },
    {
     "data": {
      "text/plain": [
       "True"
      ]
     },
     "execution_count": 2,
     "metadata": {},
     "output_type": "execute_result"
    },
    {
     "data": {
      "text/plain": [
       "True"
      ]
     },
     "execution_count": 2,
     "metadata": {},
     "output_type": "execute_result"
    },
    {
     "data": {
      "text/plain": [
       "True"
      ]
     },
     "execution_count": 2,
     "metadata": {},
     "output_type": "execute_result"
    },
    {
     "data": {
      "text/plain": [
       "True"
      ]
     },
     "execution_count": 2,
     "metadata": {},
     "output_type": "execute_result"
    },
    {
     "data": {
      "text/plain": [
       "True"
      ]
     },
     "execution_count": 2,
     "metadata": {},
     "output_type": "execute_result"
    },
    {
     "data": {
      "text/plain": [
       "True"
      ]
     },
     "execution_count": 2,
     "metadata": {},
     "output_type": "execute_result"
    },
    {
     "data": {
      "text/plain": [
       "True"
      ]
     },
     "execution_count": 2,
     "metadata": {},
     "output_type": "execute_result"
    },
    {
     "data": {
      "text/plain": [
       "True"
      ]
     },
     "execution_count": 2,
     "metadata": {},
     "output_type": "execute_result"
    },
    {
     "data": {
      "text/plain": [
       "True"
      ]
     },
     "execution_count": 2,
     "metadata": {},
     "output_type": "execute_result"
    },
    {
     "data": {
      "text/plain": [
       "True"
      ]
     },
     "execution_count": 2,
     "metadata": {},
     "output_type": "execute_result"
    },
    {
     "data": {
      "text/plain": [
       "True"
      ]
     },
     "execution_count": 2,
     "metadata": {},
     "output_type": "execute_result"
    },
    {
     "data": {
      "text/plain": [
       "True"
      ]
     },
     "execution_count": 2,
     "metadata": {},
     "output_type": "execute_result"
    },
    {
     "data": {
      "text/plain": [
       "True"
      ]
     },
     "execution_count": 2,
     "metadata": {},
     "output_type": "execute_result"
    },
    {
     "data": {
      "text/plain": [
       "True"
      ]
     },
     "execution_count": 2,
     "metadata": {},
     "output_type": "execute_result"
    },
    {
     "data": {
      "text/plain": [
       "True"
      ]
     },
     "execution_count": 2,
     "metadata": {},
     "output_type": "execute_result"
    },
    {
     "data": {
      "text/plain": [
       "True"
      ]
     },
     "execution_count": 2,
     "metadata": {},
     "output_type": "execute_result"
    },
    {
     "data": {
      "text/plain": [
       "True"
      ]
     },
     "execution_count": 2,
     "metadata": {},
     "output_type": "execute_result"
    },
    {
     "data": {
      "text/plain": [
       "True"
      ]
     },
     "execution_count": 2,
     "metadata": {},
     "output_type": "execute_result"
    },
    {
     "name": "stdout",
     "output_type": "stream",
     "text": [
      "Done\n"
     ]
    },
    {
     "data": {
      "text/plain": [
       "True"
      ]
     },
     "execution_count": 2,
     "metadata": {},
     "output_type": "execute_result"
    },
    {
     "data": {
      "text/plain": [
       "True"
      ]
     },
     "execution_count": 2,
     "metadata": {},
     "output_type": "execute_result"
    },
    {
     "data": {
      "text/plain": [
       "True"
      ]
     },
     "execution_count": 2,
     "metadata": {},
     "output_type": "execute_result"
    },
    {
     "data": {
      "text/plain": [
       "True"
      ]
     },
     "execution_count": 2,
     "metadata": {},
     "output_type": "execute_result"
    },
    {
     "data": {
      "text/plain": [
       "True"
      ]
     },
     "execution_count": 2,
     "metadata": {},
     "output_type": "execute_result"
    },
    {
     "data": {
      "text/plain": [
       "True"
      ]
     },
     "execution_count": 2,
     "metadata": {},
     "output_type": "execute_result"
    },
    {
     "data": {
      "text/plain": [
       "True"
      ]
     },
     "execution_count": 2,
     "metadata": {},
     "output_type": "execute_result"
    },
    {
     "data": {
      "text/plain": [
       "True"
      ]
     },
     "execution_count": 2,
     "metadata": {},
     "output_type": "execute_result"
    },
    {
     "data": {
      "text/plain": [
       "True"
      ]
     },
     "execution_count": 2,
     "metadata": {},
     "output_type": "execute_result"
    },
    {
     "data": {
      "text/plain": [
       "True"
      ]
     },
     "execution_count": 2,
     "metadata": {},
     "output_type": "execute_result"
    },
    {
     "data": {
      "text/plain": [
       "True"
      ]
     },
     "execution_count": 2,
     "metadata": {},
     "output_type": "execute_result"
    },
    {
     "data": {
      "text/plain": [
       "True"
      ]
     },
     "execution_count": 2,
     "metadata": {},
     "output_type": "execute_result"
    },
    {
     "data": {
      "text/plain": [
       "True"
      ]
     },
     "execution_count": 2,
     "metadata": {},
     "output_type": "execute_result"
    },
    {
     "data": {
      "text/plain": [
       "True"
      ]
     },
     "execution_count": 2,
     "metadata": {},
     "output_type": "execute_result"
    },
    {
     "data": {
      "text/plain": [
       "True"
      ]
     },
     "execution_count": 2,
     "metadata": {},
     "output_type": "execute_result"
    },
    {
     "data": {
      "text/plain": [
       "True"
      ]
     },
     "execution_count": 2,
     "metadata": {},
     "output_type": "execute_result"
    },
    {
     "data": {
      "text/plain": [
       "True"
      ]
     },
     "execution_count": 2,
     "metadata": {},
     "output_type": "execute_result"
    },
    {
     "data": {
      "text/plain": [
       "True"
      ]
     },
     "execution_count": 2,
     "metadata": {},
     "output_type": "execute_result"
    },
    {
     "data": {
      "text/plain": [
       "True"
      ]
     },
     "execution_count": 2,
     "metadata": {},
     "output_type": "execute_result"
    },
    {
     "data": {
      "text/plain": [
       "True"
      ]
     },
     "execution_count": 2,
     "metadata": {},
     "output_type": "execute_result"
    },
    {
     "data": {
      "text/plain": [
       "True"
      ]
     },
     "execution_count": 2,
     "metadata": {},
     "output_type": "execute_result"
    },
    {
     "data": {
      "text/plain": [
       "True"
      ]
     },
     "execution_count": 2,
     "metadata": {},
     "output_type": "execute_result"
    },
    {
     "data": {
      "text/plain": [
       "True"
      ]
     },
     "execution_count": 2,
     "metadata": {},
     "output_type": "execute_result"
    },
    {
     "data": {
      "text/plain": [
       "True"
      ]
     },
     "execution_count": 2,
     "metadata": {},
     "output_type": "execute_result"
    },
    {
     "data": {
      "text/plain": [
       "True"
      ]
     },
     "execution_count": 2,
     "metadata": {},
     "output_type": "execute_result"
    },
    {
     "data": {
      "text/plain": [
       "True"
      ]
     },
     "execution_count": 2,
     "metadata": {},
     "output_type": "execute_result"
    },
    {
     "data": {
      "text/plain": [
       "True"
      ]
     },
     "execution_count": 2,
     "metadata": {},
     "output_type": "execute_result"
    },
    {
     "data": {
      "text/plain": [
       "True"
      ]
     },
     "execution_count": 2,
     "metadata": {},
     "output_type": "execute_result"
    },
    {
     "data": {
      "text/plain": [
       "True"
      ]
     },
     "execution_count": 2,
     "metadata": {},
     "output_type": "execute_result"
    },
    {
     "data": {
      "text/plain": [
       "True"
      ]
     },
     "execution_count": 2,
     "metadata": {},
     "output_type": "execute_result"
    },
    {
     "data": {
      "text/plain": [
       "True"
      ]
     },
     "execution_count": 2,
     "metadata": {},
     "output_type": "execute_result"
    },
    {
     "data": {
      "text/plain": [
       "True"
      ]
     },
     "execution_count": 2,
     "metadata": {},
     "output_type": "execute_result"
    },
    {
     "data": {
      "text/plain": [
       "True"
      ]
     },
     "execution_count": 2,
     "metadata": {},
     "output_type": "execute_result"
    },
    {
     "data": {
      "text/plain": [
       "True"
      ]
     },
     "execution_count": 2,
     "metadata": {},
     "output_type": "execute_result"
    },
    {
     "data": {
      "text/plain": [
       "True"
      ]
     },
     "execution_count": 2,
     "metadata": {},
     "output_type": "execute_result"
    },
    {
     "data": {
      "text/plain": [
       "True"
      ]
     },
     "execution_count": 2,
     "metadata": {},
     "output_type": "execute_result"
    },
    {
     "data": {
      "text/plain": [
       "True"
      ]
     },
     "execution_count": 2,
     "metadata": {},
     "output_type": "execute_result"
    },
    {
     "data": {
      "text/plain": [
       "True"
      ]
     },
     "execution_count": 2,
     "metadata": {},
     "output_type": "execute_result"
    },
    {
     "data": {
      "text/plain": [
       "True"
      ]
     },
     "execution_count": 2,
     "metadata": {},
     "output_type": "execute_result"
    },
    {
     "name": "stdout",
     "output_type": "stream",
     "text": [
      "Done\n"
     ]
    },
    {
     "data": {
      "text/plain": [
       "True"
      ]
     },
     "execution_count": 2,
     "metadata": {},
     "output_type": "execute_result"
    },
    {
     "data": {
      "text/plain": [
       "True"
      ]
     },
     "execution_count": 2,
     "metadata": {},
     "output_type": "execute_result"
    },
    {
     "data": {
      "text/plain": [
       "True"
      ]
     },
     "execution_count": 2,
     "metadata": {},
     "output_type": "execute_result"
    },
    {
     "data": {
      "text/plain": [
       "True"
      ]
     },
     "execution_count": 2,
     "metadata": {},
     "output_type": "execute_result"
    },
    {
     "data": {
      "text/plain": [
       "True"
      ]
     },
     "execution_count": 2,
     "metadata": {},
     "output_type": "execute_result"
    },
    {
     "data": {
      "text/plain": [
       "True"
      ]
     },
     "execution_count": 2,
     "metadata": {},
     "output_type": "execute_result"
    },
    {
     "data": {
      "text/plain": [
       "True"
      ]
     },
     "execution_count": 2,
     "metadata": {},
     "output_type": "execute_result"
    },
    {
     "data": {
      "text/plain": [
       "True"
      ]
     },
     "execution_count": 2,
     "metadata": {},
     "output_type": "execute_result"
    },
    {
     "data": {
      "text/plain": [
       "True"
      ]
     },
     "execution_count": 2,
     "metadata": {},
     "output_type": "execute_result"
    },
    {
     "data": {
      "text/plain": [
       "True"
      ]
     },
     "execution_count": 2,
     "metadata": {},
     "output_type": "execute_result"
    },
    {
     "data": {
      "text/plain": [
       "True"
      ]
     },
     "execution_count": 2,
     "metadata": {},
     "output_type": "execute_result"
    },
    {
     "data": {
      "text/plain": [
       "True"
      ]
     },
     "execution_count": 2,
     "metadata": {},
     "output_type": "execute_result"
    },
    {
     "data": {
      "text/plain": [
       "True"
      ]
     },
     "execution_count": 2,
     "metadata": {},
     "output_type": "execute_result"
    },
    {
     "data": {
      "text/plain": [
       "True"
      ]
     },
     "execution_count": 2,
     "metadata": {},
     "output_type": "execute_result"
    },
    {
     "data": {
      "text/plain": [
       "True"
      ]
     },
     "execution_count": 2,
     "metadata": {},
     "output_type": "execute_result"
    },
    {
     "data": {
      "text/plain": [
       "True"
      ]
     },
     "execution_count": 2,
     "metadata": {},
     "output_type": "execute_result"
    },
    {
     "data": {
      "text/plain": [
       "True"
      ]
     },
     "execution_count": 2,
     "metadata": {},
     "output_type": "execute_result"
    },
    {
     "data": {
      "text/plain": [
       "True"
      ]
     },
     "execution_count": 2,
     "metadata": {},
     "output_type": "execute_result"
    },
    {
     "data": {
      "text/plain": [
       "True"
      ]
     },
     "execution_count": 2,
     "metadata": {},
     "output_type": "execute_result"
    },
    {
     "data": {
      "text/plain": [
       "True"
      ]
     },
     "execution_count": 2,
     "metadata": {},
     "output_type": "execute_result"
    },
    {
     "data": {
      "text/plain": [
       "True"
      ]
     },
     "execution_count": 2,
     "metadata": {},
     "output_type": "execute_result"
    },
    {
     "data": {
      "text/plain": [
       "True"
      ]
     },
     "execution_count": 2,
     "metadata": {},
     "output_type": "execute_result"
    },
    {
     "data": {
      "text/plain": [
       "True"
      ]
     },
     "execution_count": 2,
     "metadata": {},
     "output_type": "execute_result"
    },
    {
     "data": {
      "text/plain": [
       "True"
      ]
     },
     "execution_count": 2,
     "metadata": {},
     "output_type": "execute_result"
    },
    {
     "data": {
      "text/plain": [
       "True"
      ]
     },
     "execution_count": 2,
     "metadata": {},
     "output_type": "execute_result"
    },
    {
     "data": {
      "text/plain": [
       "True"
      ]
     },
     "execution_count": 2,
     "metadata": {},
     "output_type": "execute_result"
    },
    {
     "data": {
      "text/plain": [
       "True"
      ]
     },
     "execution_count": 2,
     "metadata": {},
     "output_type": "execute_result"
    },
    {
     "data": {
      "text/plain": [
       "True"
      ]
     },
     "execution_count": 2,
     "metadata": {},
     "output_type": "execute_result"
    },
    {
     "data": {
      "text/plain": [
       "True"
      ]
     },
     "execution_count": 2,
     "metadata": {},
     "output_type": "execute_result"
    },
    {
     "data": {
      "text/plain": [
       "True"
      ]
     },
     "execution_count": 2,
     "metadata": {},
     "output_type": "execute_result"
    },
    {
     "data": {
      "text/plain": [
       "True"
      ]
     },
     "execution_count": 2,
     "metadata": {},
     "output_type": "execute_result"
    },
    {
     "data": {
      "text/plain": [
       "True"
      ]
     },
     "execution_count": 2,
     "metadata": {},
     "output_type": "execute_result"
    },
    {
     "data": {
      "text/plain": [
       "True"
      ]
     },
     "execution_count": 2,
     "metadata": {},
     "output_type": "execute_result"
    },
    {
     "data": {
      "text/plain": [
       "True"
      ]
     },
     "execution_count": 2,
     "metadata": {},
     "output_type": "execute_result"
    },
    {
     "data": {
      "text/plain": [
       "True"
      ]
     },
     "execution_count": 2,
     "metadata": {},
     "output_type": "execute_result"
    },
    {
     "data": {
      "text/plain": [
       "True"
      ]
     },
     "execution_count": 2,
     "metadata": {},
     "output_type": "execute_result"
    },
    {
     "data": {
      "text/plain": [
       "True"
      ]
     },
     "execution_count": 2,
     "metadata": {},
     "output_type": "execute_result"
    },
    {
     "data": {
      "text/plain": [
       "True"
      ]
     },
     "execution_count": 2,
     "metadata": {},
     "output_type": "execute_result"
    },
    {
     "data": {
      "text/plain": [
       "True"
      ]
     },
     "execution_count": 2,
     "metadata": {},
     "output_type": "execute_result"
    },
    {
     "data": {
      "text/plain": [
       "True"
      ]
     },
     "execution_count": 2,
     "metadata": {},
     "output_type": "execute_result"
    },
    {
     "data": {
      "text/plain": [
       "True"
      ]
     },
     "execution_count": 2,
     "metadata": {},
     "output_type": "execute_result"
    },
    {
     "data": {
      "text/plain": [
       "True"
      ]
     },
     "execution_count": 2,
     "metadata": {},
     "output_type": "execute_result"
    },
    {
     "data": {
      "text/plain": [
       "True"
      ]
     },
     "execution_count": 2,
     "metadata": {},
     "output_type": "execute_result"
    },
    {
     "name": "stdout",
     "output_type": "stream",
     "text": [
      "Done\n"
     ]
    },
    {
     "data": {
      "text/plain": [
       "True"
      ]
     },
     "execution_count": 2,
     "metadata": {},
     "output_type": "execute_result"
    },
    {
     "data": {
      "text/plain": [
       "True"
      ]
     },
     "execution_count": 2,
     "metadata": {},
     "output_type": "execute_result"
    },
    {
     "data": {
      "text/plain": [
       "True"
      ]
     },
     "execution_count": 2,
     "metadata": {},
     "output_type": "execute_result"
    },
    {
     "data": {
      "text/plain": [
       "True"
      ]
     },
     "execution_count": 2,
     "metadata": {},
     "output_type": "execute_result"
    },
    {
     "data": {
      "text/plain": [
       "True"
      ]
     },
     "execution_count": 2,
     "metadata": {},
     "output_type": "execute_result"
    },
    {
     "data": {
      "text/plain": [
       "True"
      ]
     },
     "execution_count": 2,
     "metadata": {},
     "output_type": "execute_result"
    },
    {
     "data": {
      "text/plain": [
       "True"
      ]
     },
     "execution_count": 2,
     "metadata": {},
     "output_type": "execute_result"
    },
    {
     "data": {
      "text/plain": [
       "True"
      ]
     },
     "execution_count": 2,
     "metadata": {},
     "output_type": "execute_result"
    },
    {
     "data": {
      "text/plain": [
       "True"
      ]
     },
     "execution_count": 2,
     "metadata": {},
     "output_type": "execute_result"
    },
    {
     "data": {
      "text/plain": [
       "True"
      ]
     },
     "execution_count": 2,
     "metadata": {},
     "output_type": "execute_result"
    },
    {
     "data": {
      "text/plain": [
       "True"
      ]
     },
     "execution_count": 2,
     "metadata": {},
     "output_type": "execute_result"
    },
    {
     "data": {
      "text/plain": [
       "True"
      ]
     },
     "execution_count": 2,
     "metadata": {},
     "output_type": "execute_result"
    },
    {
     "data": {
      "text/plain": [
       "True"
      ]
     },
     "execution_count": 2,
     "metadata": {},
     "output_type": "execute_result"
    },
    {
     "data": {
      "text/plain": [
       "True"
      ]
     },
     "execution_count": 2,
     "metadata": {},
     "output_type": "execute_result"
    },
    {
     "data": {
      "text/plain": [
       "True"
      ]
     },
     "execution_count": 2,
     "metadata": {},
     "output_type": "execute_result"
    },
    {
     "data": {
      "text/plain": [
       "True"
      ]
     },
     "execution_count": 2,
     "metadata": {},
     "output_type": "execute_result"
    },
    {
     "data": {
      "text/plain": [
       "True"
      ]
     },
     "execution_count": 2,
     "metadata": {},
     "output_type": "execute_result"
    },
    {
     "data": {
      "text/plain": [
       "True"
      ]
     },
     "execution_count": 2,
     "metadata": {},
     "output_type": "execute_result"
    },
    {
     "data": {
      "text/plain": [
       "True"
      ]
     },
     "execution_count": 2,
     "metadata": {},
     "output_type": "execute_result"
    },
    {
     "data": {
      "text/plain": [
       "True"
      ]
     },
     "execution_count": 2,
     "metadata": {},
     "output_type": "execute_result"
    },
    {
     "data": {
      "text/plain": [
       "True"
      ]
     },
     "execution_count": 2,
     "metadata": {},
     "output_type": "execute_result"
    },
    {
     "data": {
      "text/plain": [
       "True"
      ]
     },
     "execution_count": 2,
     "metadata": {},
     "output_type": "execute_result"
    },
    {
     "name": "stdout",
     "output_type": "stream",
     "text": [
      "Done\n"
     ]
    },
    {
     "data": {
      "text/plain": [
       "True"
      ]
     },
     "execution_count": 2,
     "metadata": {},
     "output_type": "execute_result"
    },
    {
     "data": {
      "text/plain": [
       "True"
      ]
     },
     "execution_count": 2,
     "metadata": {},
     "output_type": "execute_result"
    },
    {
     "data": {
      "text/plain": [
       "True"
      ]
     },
     "execution_count": 2,
     "metadata": {},
     "output_type": "execute_result"
    },
    {
     "data": {
      "text/plain": [
       "True"
      ]
     },
     "execution_count": 2,
     "metadata": {},
     "output_type": "execute_result"
    },
    {
     "data": {
      "text/plain": [
       "True"
      ]
     },
     "execution_count": 2,
     "metadata": {},
     "output_type": "execute_result"
    },
    {
     "data": {
      "text/plain": [
       "True"
      ]
     },
     "execution_count": 2,
     "metadata": {},
     "output_type": "execute_result"
    },
    {
     "data": {
      "text/plain": [
       "True"
      ]
     },
     "execution_count": 2,
     "metadata": {},
     "output_type": "execute_result"
    },
    {
     "data": {
      "text/plain": [
       "True"
      ]
     },
     "execution_count": 2,
     "metadata": {},
     "output_type": "execute_result"
    },
    {
     "data": {
      "text/plain": [
       "True"
      ]
     },
     "execution_count": 2,
     "metadata": {},
     "output_type": "execute_result"
    },
    {
     "data": {
      "text/plain": [
       "True"
      ]
     },
     "execution_count": 2,
     "metadata": {},
     "output_type": "execute_result"
    },
    {
     "data": {
      "text/plain": [
       "True"
      ]
     },
     "execution_count": 2,
     "metadata": {},
     "output_type": "execute_result"
    },
    {
     "data": {
      "text/plain": [
       "True"
      ]
     },
     "execution_count": 2,
     "metadata": {},
     "output_type": "execute_result"
    },
    {
     "data": {
      "text/plain": [
       "True"
      ]
     },
     "execution_count": 2,
     "metadata": {},
     "output_type": "execute_result"
    },
    {
     "data": {
      "text/plain": [
       "True"
      ]
     },
     "execution_count": 2,
     "metadata": {},
     "output_type": "execute_result"
    },
    {
     "data": {
      "text/plain": [
       "True"
      ]
     },
     "execution_count": 2,
     "metadata": {},
     "output_type": "execute_result"
    },
    {
     "data": {
      "text/plain": [
       "True"
      ]
     },
     "execution_count": 2,
     "metadata": {},
     "output_type": "execute_result"
    },
    {
     "name": "stdout",
     "output_type": "stream",
     "text": [
      "Done\n"
     ]
    },
    {
     "data": {
      "text/plain": [
       "True"
      ]
     },
     "execution_count": 2,
     "metadata": {},
     "output_type": "execute_result"
    },
    {
     "data": {
      "text/plain": [
       "True"
      ]
     },
     "execution_count": 2,
     "metadata": {},
     "output_type": "execute_result"
    },
    {
     "data": {
      "text/plain": [
       "True"
      ]
     },
     "execution_count": 2,
     "metadata": {},
     "output_type": "execute_result"
    },
    {
     "data": {
      "text/plain": [
       "True"
      ]
     },
     "execution_count": 2,
     "metadata": {},
     "output_type": "execute_result"
    },
    {
     "data": {
      "text/plain": [
       "True"
      ]
     },
     "execution_count": 2,
     "metadata": {},
     "output_type": "execute_result"
    },
    {
     "data": {
      "text/plain": [
       "True"
      ]
     },
     "execution_count": 2,
     "metadata": {},
     "output_type": "execute_result"
    },
    {
     "data": {
      "text/plain": [
       "True"
      ]
     },
     "execution_count": 2,
     "metadata": {},
     "output_type": "execute_result"
    },
    {
     "data": {
      "text/plain": [
       "True"
      ]
     },
     "execution_count": 2,
     "metadata": {},
     "output_type": "execute_result"
    },
    {
     "data": {
      "text/plain": [
       "True"
      ]
     },
     "execution_count": 2,
     "metadata": {},
     "output_type": "execute_result"
    },
    {
     "data": {
      "text/plain": [
       "True"
      ]
     },
     "execution_count": 2,
     "metadata": {},
     "output_type": "execute_result"
    },
    {
     "data": {
      "text/plain": [
       "True"
      ]
     },
     "execution_count": 2,
     "metadata": {},
     "output_type": "execute_result"
    },
    {
     "data": {
      "text/plain": [
       "True"
      ]
     },
     "execution_count": 2,
     "metadata": {},
     "output_type": "execute_result"
    },
    {
     "data": {
      "text/plain": [
       "True"
      ]
     },
     "execution_count": 2,
     "metadata": {},
     "output_type": "execute_result"
    },
    {
     "data": {
      "text/plain": [
       "True"
      ]
     },
     "execution_count": 2,
     "metadata": {},
     "output_type": "execute_result"
    },
    {
     "data": {
      "text/plain": [
       "True"
      ]
     },
     "execution_count": 2,
     "metadata": {},
     "output_type": "execute_result"
    },
    {
     "data": {
      "text/plain": [
       "True"
      ]
     },
     "execution_count": 2,
     "metadata": {},
     "output_type": "execute_result"
    },
    {
     "data": {
      "text/plain": [
       "True"
      ]
     },
     "execution_count": 2,
     "metadata": {},
     "output_type": "execute_result"
    },
    {
     "data": {
      "text/plain": [
       "True"
      ]
     },
     "execution_count": 2,
     "metadata": {},
     "output_type": "execute_result"
    },
    {
     "data": {
      "text/plain": [
       "True"
      ]
     },
     "execution_count": 2,
     "metadata": {},
     "output_type": "execute_result"
    },
    {
     "data": {
      "text/plain": [
       "True"
      ]
     },
     "execution_count": 2,
     "metadata": {},
     "output_type": "execute_result"
    },
    {
     "data": {
      "text/plain": [
       "True"
      ]
     },
     "execution_count": 2,
     "metadata": {},
     "output_type": "execute_result"
    },
    {
     "name": "stdout",
     "output_type": "stream",
     "text": [
      "Done\n"
     ]
    },
    {
     "data": {
      "text/plain": [
       "True"
      ]
     },
     "execution_count": 2,
     "metadata": {},
     "output_type": "execute_result"
    },
    {
     "data": {
      "text/plain": [
       "True"
      ]
     },
     "execution_count": 2,
     "metadata": {},
     "output_type": "execute_result"
    },
    {
     "data": {
      "text/plain": [
       "True"
      ]
     },
     "execution_count": 2,
     "metadata": {},
     "output_type": "execute_result"
    },
    {
     "data": {
      "text/plain": [
       "True"
      ]
     },
     "execution_count": 2,
     "metadata": {},
     "output_type": "execute_result"
    },
    {
     "data": {
      "text/plain": [
       "True"
      ]
     },
     "execution_count": 2,
     "metadata": {},
     "output_type": "execute_result"
    },
    {
     "data": {
      "text/plain": [
       "True"
      ]
     },
     "execution_count": 2,
     "metadata": {},
     "output_type": "execute_result"
    },
    {
     "data": {
      "text/plain": [
       "True"
      ]
     },
     "execution_count": 2,
     "metadata": {},
     "output_type": "execute_result"
    },
    {
     "data": {
      "text/plain": [
       "True"
      ]
     },
     "execution_count": 2,
     "metadata": {},
     "output_type": "execute_result"
    },
    {
     "data": {
      "text/plain": [
       "True"
      ]
     },
     "execution_count": 2,
     "metadata": {},
     "output_type": "execute_result"
    },
    {
     "data": {
      "text/plain": [
       "True"
      ]
     },
     "execution_count": 2,
     "metadata": {},
     "output_type": "execute_result"
    },
    {
     "data": {
      "text/plain": [
       "True"
      ]
     },
     "execution_count": 2,
     "metadata": {},
     "output_type": "execute_result"
    },
    {
     "data": {
      "text/plain": [
       "True"
      ]
     },
     "execution_count": 2,
     "metadata": {},
     "output_type": "execute_result"
    },
    {
     "data": {
      "text/plain": [
       "True"
      ]
     },
     "execution_count": 2,
     "metadata": {},
     "output_type": "execute_result"
    },
    {
     "name": "stdout",
     "output_type": "stream",
     "text": [
      "Done\n"
     ]
    },
    {
     "data": {
      "text/plain": [
       "True"
      ]
     },
     "execution_count": 2,
     "metadata": {},
     "output_type": "execute_result"
    },
    {
     "data": {
      "text/plain": [
       "True"
      ]
     },
     "execution_count": 2,
     "metadata": {},
     "output_type": "execute_result"
    },
    {
     "data": {
      "text/plain": [
       "True"
      ]
     },
     "execution_count": 2,
     "metadata": {},
     "output_type": "execute_result"
    },
    {
     "data": {
      "text/plain": [
       "True"
      ]
     },
     "execution_count": 2,
     "metadata": {},
     "output_type": "execute_result"
    },
    {
     "data": {
      "text/plain": [
       "True"
      ]
     },
     "execution_count": 2,
     "metadata": {},
     "output_type": "execute_result"
    },
    {
     "data": {
      "text/plain": [
       "True"
      ]
     },
     "execution_count": 2,
     "metadata": {},
     "output_type": "execute_result"
    },
    {
     "data": {
      "text/plain": [
       "True"
      ]
     },
     "execution_count": 2,
     "metadata": {},
     "output_type": "execute_result"
    },
    {
     "data": {
      "text/plain": [
       "True"
      ]
     },
     "execution_count": 2,
     "metadata": {},
     "output_type": "execute_result"
    },
    {
     "data": {
      "text/plain": [
       "True"
      ]
     },
     "execution_count": 2,
     "metadata": {},
     "output_type": "execute_result"
    },
    {
     "data": {
      "text/plain": [
       "True"
      ]
     },
     "execution_count": 2,
     "metadata": {},
     "output_type": "execute_result"
    },
    {
     "data": {
      "text/plain": [
       "True"
      ]
     },
     "execution_count": 2,
     "metadata": {},
     "output_type": "execute_result"
    },
    {
     "data": {
      "text/plain": [
       "True"
      ]
     },
     "execution_count": 2,
     "metadata": {},
     "output_type": "execute_result"
    },
    {
     "data": {
      "text/plain": [
       "True"
      ]
     },
     "execution_count": 2,
     "metadata": {},
     "output_type": "execute_result"
    },
    {
     "name": "stdout",
     "output_type": "stream",
     "text": [
      "Done\n"
     ]
    },
    {
     "data": {
      "text/plain": [
       "True"
      ]
     },
     "execution_count": 2,
     "metadata": {},
     "output_type": "execute_result"
    },
    {
     "data": {
      "text/plain": [
       "True"
      ]
     },
     "execution_count": 2,
     "metadata": {},
     "output_type": "execute_result"
    },
    {
     "data": {
      "text/plain": [
       "True"
      ]
     },
     "execution_count": 2,
     "metadata": {},
     "output_type": "execute_result"
    },
    {
     "data": {
      "text/plain": [
       "True"
      ]
     },
     "execution_count": 2,
     "metadata": {},
     "output_type": "execute_result"
    },
    {
     "data": {
      "text/plain": [
       "True"
      ]
     },
     "execution_count": 2,
     "metadata": {},
     "output_type": "execute_result"
    },
    {
     "data": {
      "text/plain": [
       "True"
      ]
     },
     "execution_count": 2,
     "metadata": {},
     "output_type": "execute_result"
    },
    {
     "data": {
      "text/plain": [
       "True"
      ]
     },
     "execution_count": 2,
     "metadata": {},
     "output_type": "execute_result"
    },
    {
     "data": {
      "text/plain": [
       "True"
      ]
     },
     "execution_count": 2,
     "metadata": {},
     "output_type": "execute_result"
    },
    {
     "data": {
      "text/plain": [
       "True"
      ]
     },
     "execution_count": 2,
     "metadata": {},
     "output_type": "execute_result"
    },
    {
     "data": {
      "text/plain": [
       "True"
      ]
     },
     "execution_count": 2,
     "metadata": {},
     "output_type": "execute_result"
    },
    {
     "name": "stdout",
     "output_type": "stream",
     "text": [
      "Done\n"
     ]
    },
    {
     "data": {
      "text/plain": [
       "True"
      ]
     },
     "execution_count": 2,
     "metadata": {},
     "output_type": "execute_result"
    },
    {
     "data": {
      "text/plain": [
       "True"
      ]
     },
     "execution_count": 2,
     "metadata": {},
     "output_type": "execute_result"
    },
    {
     "data": {
      "text/plain": [
       "True"
      ]
     },
     "execution_count": 2,
     "metadata": {},
     "output_type": "execute_result"
    },
    {
     "data": {
      "text/plain": [
       "True"
      ]
     },
     "execution_count": 2,
     "metadata": {},
     "output_type": "execute_result"
    },
    {
     "data": {
      "text/plain": [
       "True"
      ]
     },
     "execution_count": 2,
     "metadata": {},
     "output_type": "execute_result"
    },
    {
     "data": {
      "text/plain": [
       "True"
      ]
     },
     "execution_count": 2,
     "metadata": {},
     "output_type": "execute_result"
    },
    {
     "data": {
      "text/plain": [
       "True"
      ]
     },
     "execution_count": 2,
     "metadata": {},
     "output_type": "execute_result"
    },
    {
     "data": {
      "text/plain": [
       "True"
      ]
     },
     "execution_count": 2,
     "metadata": {},
     "output_type": "execute_result"
    },
    {
     "data": {
      "text/plain": [
       "True"
      ]
     },
     "execution_count": 2,
     "metadata": {},
     "output_type": "execute_result"
    },
    {
     "data": {
      "text/plain": [
       "True"
      ]
     },
     "execution_count": 2,
     "metadata": {},
     "output_type": "execute_result"
    },
    {
     "data": {
      "text/plain": [
       "True"
      ]
     },
     "execution_count": 2,
     "metadata": {},
     "output_type": "execute_result"
    },
    {
     "data": {
      "text/plain": [
       "True"
      ]
     },
     "execution_count": 2,
     "metadata": {},
     "output_type": "execute_result"
    },
    {
     "data": {
      "text/plain": [
       "True"
      ]
     },
     "execution_count": 2,
     "metadata": {},
     "output_type": "execute_result"
    },
    {
     "data": {
      "text/plain": [
       "True"
      ]
     },
     "execution_count": 2,
     "metadata": {},
     "output_type": "execute_result"
    },
    {
     "data": {
      "text/plain": [
       "True"
      ]
     },
     "execution_count": 2,
     "metadata": {},
     "output_type": "execute_result"
    },
    {
     "data": {
      "text/plain": [
       "True"
      ]
     },
     "execution_count": 2,
     "metadata": {},
     "output_type": "execute_result"
    },
    {
     "data": {
      "text/plain": [
       "True"
      ]
     },
     "execution_count": 2,
     "metadata": {},
     "output_type": "execute_result"
    },
    {
     "data": {
      "text/plain": [
       "True"
      ]
     },
     "execution_count": 2,
     "metadata": {},
     "output_type": "execute_result"
    },
    {
     "data": {
      "text/plain": [
       "True"
      ]
     },
     "execution_count": 2,
     "metadata": {},
     "output_type": "execute_result"
    },
    {
     "data": {
      "text/plain": [
       "True"
      ]
     },
     "execution_count": 2,
     "metadata": {},
     "output_type": "execute_result"
    },
    {
     "data": {
      "text/plain": [
       "True"
      ]
     },
     "execution_count": 2,
     "metadata": {},
     "output_type": "execute_result"
    },
    {
     "data": {
      "text/plain": [
       "True"
      ]
     },
     "execution_count": 2,
     "metadata": {},
     "output_type": "execute_result"
    },
    {
     "data": {
      "text/plain": [
       "True"
      ]
     },
     "execution_count": 2,
     "metadata": {},
     "output_type": "execute_result"
    },
    {
     "data": {
      "text/plain": [
       "True"
      ]
     },
     "execution_count": 2,
     "metadata": {},
     "output_type": "execute_result"
    },
    {
     "data": {
      "text/plain": [
       "True"
      ]
     },
     "execution_count": 2,
     "metadata": {},
     "output_type": "execute_result"
    },
    {
     "data": {
      "text/plain": [
       "True"
      ]
     },
     "execution_count": 2,
     "metadata": {},
     "output_type": "execute_result"
    },
    {
     "data": {
      "text/plain": [
       "True"
      ]
     },
     "execution_count": 2,
     "metadata": {},
     "output_type": "execute_result"
    },
    {
     "data": {
      "text/plain": [
       "True"
      ]
     },
     "execution_count": 2,
     "metadata": {},
     "output_type": "execute_result"
    },
    {
     "data": {
      "text/plain": [
       "True"
      ]
     },
     "execution_count": 2,
     "metadata": {},
     "output_type": "execute_result"
    },
    {
     "data": {
      "text/plain": [
       "True"
      ]
     },
     "execution_count": 2,
     "metadata": {},
     "output_type": "execute_result"
    },
    {
     "data": {
      "text/plain": [
       "True"
      ]
     },
     "execution_count": 2,
     "metadata": {},
     "output_type": "execute_result"
    },
    {
     "data": {
      "text/plain": [
       "True"
      ]
     },
     "execution_count": 2,
     "metadata": {},
     "output_type": "execute_result"
    },
    {
     "data": {
      "text/plain": [
       "True"
      ]
     },
     "execution_count": 2,
     "metadata": {},
     "output_type": "execute_result"
    },
    {
     "data": {
      "text/plain": [
       "True"
      ]
     },
     "execution_count": 2,
     "metadata": {},
     "output_type": "execute_result"
    },
    {
     "data": {
      "text/plain": [
       "True"
      ]
     },
     "execution_count": 2,
     "metadata": {},
     "output_type": "execute_result"
    },
    {
     "data": {
      "text/plain": [
       "True"
      ]
     },
     "execution_count": 2,
     "metadata": {},
     "output_type": "execute_result"
    },
    {
     "data": {
      "text/plain": [
       "True"
      ]
     },
     "execution_count": 2,
     "metadata": {},
     "output_type": "execute_result"
    },
    {
     "data": {
      "text/plain": [
       "True"
      ]
     },
     "execution_count": 2,
     "metadata": {},
     "output_type": "execute_result"
    },
    {
     "data": {
      "text/plain": [
       "True"
      ]
     },
     "execution_count": 2,
     "metadata": {},
     "output_type": "execute_result"
    },
    {
     "data": {
      "text/plain": [
       "True"
      ]
     },
     "execution_count": 2,
     "metadata": {},
     "output_type": "execute_result"
    },
    {
     "data": {
      "text/plain": [
       "True"
      ]
     },
     "execution_count": 2,
     "metadata": {},
     "output_type": "execute_result"
    },
    {
     "data": {
      "text/plain": [
       "True"
      ]
     },
     "execution_count": 2,
     "metadata": {},
     "output_type": "execute_result"
    },
    {
     "data": {
      "text/plain": [
       "True"
      ]
     },
     "execution_count": 2,
     "metadata": {},
     "output_type": "execute_result"
    },
    {
     "data": {
      "text/plain": [
       "True"
      ]
     },
     "execution_count": 2,
     "metadata": {},
     "output_type": "execute_result"
    },
    {
     "data": {
      "text/plain": [
       "True"
      ]
     },
     "execution_count": 2,
     "metadata": {},
     "output_type": "execute_result"
    },
    {
     "data": {
      "text/plain": [
       "True"
      ]
     },
     "execution_count": 2,
     "metadata": {},
     "output_type": "execute_result"
    },
    {
     "name": "stdout",
     "output_type": "stream",
     "text": [
      "Done\n"
     ]
    },
    {
     "data": {
      "text/plain": [
       "True"
      ]
     },
     "execution_count": 2,
     "metadata": {},
     "output_type": "execute_result"
    },
    {
     "data": {
      "text/plain": [
       "True"
      ]
     },
     "execution_count": 2,
     "metadata": {},
     "output_type": "execute_result"
    },
    {
     "data": {
      "text/plain": [
       "True"
      ]
     },
     "execution_count": 2,
     "metadata": {},
     "output_type": "execute_result"
    },
    {
     "data": {
      "text/plain": [
       "True"
      ]
     },
     "execution_count": 2,
     "metadata": {},
     "output_type": "execute_result"
    },
    {
     "data": {
      "text/plain": [
       "True"
      ]
     },
     "execution_count": 2,
     "metadata": {},
     "output_type": "execute_result"
    },
    {
     "data": {
      "text/plain": [
       "True"
      ]
     },
     "execution_count": 2,
     "metadata": {},
     "output_type": "execute_result"
    },
    {
     "data": {
      "text/plain": [
       "True"
      ]
     },
     "execution_count": 2,
     "metadata": {},
     "output_type": "execute_result"
    },
    {
     "data": {
      "text/plain": [
       "True"
      ]
     },
     "execution_count": 2,
     "metadata": {},
     "output_type": "execute_result"
    },
    {
     "data": {
      "text/plain": [
       "True"
      ]
     },
     "execution_count": 2,
     "metadata": {},
     "output_type": "execute_result"
    },
    {
     "data": {
      "text/plain": [
       "True"
      ]
     },
     "execution_count": 2,
     "metadata": {},
     "output_type": "execute_result"
    },
    {
     "data": {
      "text/plain": [
       "True"
      ]
     },
     "execution_count": 2,
     "metadata": {},
     "output_type": "execute_result"
    },
    {
     "data": {
      "text/plain": [
       "True"
      ]
     },
     "execution_count": 2,
     "metadata": {},
     "output_type": "execute_result"
    },
    {
     "data": {
      "text/plain": [
       "True"
      ]
     },
     "execution_count": 2,
     "metadata": {},
     "output_type": "execute_result"
    },
    {
     "data": {
      "text/plain": [
       "True"
      ]
     },
     "execution_count": 2,
     "metadata": {},
     "output_type": "execute_result"
    },
    {
     "data": {
      "text/plain": [
       "True"
      ]
     },
     "execution_count": 2,
     "metadata": {},
     "output_type": "execute_result"
    },
    {
     "data": {
      "text/plain": [
       "True"
      ]
     },
     "execution_count": 2,
     "metadata": {},
     "output_type": "execute_result"
    },
    {
     "data": {
      "text/plain": [
       "True"
      ]
     },
     "execution_count": 2,
     "metadata": {},
     "output_type": "execute_result"
    },
    {
     "data": {
      "text/plain": [
       "True"
      ]
     },
     "execution_count": 2,
     "metadata": {},
     "output_type": "execute_result"
    },
    {
     "name": "stdout",
     "output_type": "stream",
     "text": [
      "Done\n"
     ]
    },
    {
     "data": {
      "text/plain": [
       "True"
      ]
     },
     "execution_count": 2,
     "metadata": {},
     "output_type": "execute_result"
    },
    {
     "data": {
      "text/plain": [
       "True"
      ]
     },
     "execution_count": 2,
     "metadata": {},
     "output_type": "execute_result"
    },
    {
     "data": {
      "text/plain": [
       "True"
      ]
     },
     "execution_count": 2,
     "metadata": {},
     "output_type": "execute_result"
    },
    {
     "data": {
      "text/plain": [
       "True"
      ]
     },
     "execution_count": 2,
     "metadata": {},
     "output_type": "execute_result"
    },
    {
     "data": {
      "text/plain": [
       "True"
      ]
     },
     "execution_count": 2,
     "metadata": {},
     "output_type": "execute_result"
    },
    {
     "data": {
      "text/plain": [
       "True"
      ]
     },
     "execution_count": 2,
     "metadata": {},
     "output_type": "execute_result"
    },
    {
     "data": {
      "text/plain": [
       "True"
      ]
     },
     "execution_count": 2,
     "metadata": {},
     "output_type": "execute_result"
    },
    {
     "data": {
      "text/plain": [
       "True"
      ]
     },
     "execution_count": 2,
     "metadata": {},
     "output_type": "execute_result"
    },
    {
     "data": {
      "text/plain": [
       "True"
      ]
     },
     "execution_count": 2,
     "metadata": {},
     "output_type": "execute_result"
    },
    {
     "data": {
      "text/plain": [
       "True"
      ]
     },
     "execution_count": 2,
     "metadata": {},
     "output_type": "execute_result"
    },
    {
     "data": {
      "text/plain": [
       "True"
      ]
     },
     "execution_count": 2,
     "metadata": {},
     "output_type": "execute_result"
    },
    {
     "data": {
      "text/plain": [
       "True"
      ]
     },
     "execution_count": 2,
     "metadata": {},
     "output_type": "execute_result"
    },
    {
     "data": {
      "text/plain": [
       "True"
      ]
     },
     "execution_count": 2,
     "metadata": {},
     "output_type": "execute_result"
    },
    {
     "data": {
      "text/plain": [
       "True"
      ]
     },
     "execution_count": 2,
     "metadata": {},
     "output_type": "execute_result"
    },
    {
     "name": "stdout",
     "output_type": "stream",
     "text": [
      "Done\n"
     ]
    },
    {
     "data": {
      "text/plain": [
       "True"
      ]
     },
     "execution_count": 2,
     "metadata": {},
     "output_type": "execute_result"
    },
    {
     "data": {
      "text/plain": [
       "True"
      ]
     },
     "execution_count": 2,
     "metadata": {},
     "output_type": "execute_result"
    },
    {
     "data": {
      "text/plain": [
       "True"
      ]
     },
     "execution_count": 2,
     "metadata": {},
     "output_type": "execute_result"
    },
    {
     "data": {
      "text/plain": [
       "True"
      ]
     },
     "execution_count": 2,
     "metadata": {},
     "output_type": "execute_result"
    },
    {
     "data": {
      "text/plain": [
       "True"
      ]
     },
     "execution_count": 2,
     "metadata": {},
     "output_type": "execute_result"
    },
    {
     "data": {
      "text/plain": [
       "True"
      ]
     },
     "execution_count": 2,
     "metadata": {},
     "output_type": "execute_result"
    },
    {
     "data": {
      "text/plain": [
       "True"
      ]
     },
     "execution_count": 2,
     "metadata": {},
     "output_type": "execute_result"
    },
    {
     "data": {
      "text/plain": [
       "True"
      ]
     },
     "execution_count": 2,
     "metadata": {},
     "output_type": "execute_result"
    },
    {
     "data": {
      "text/plain": [
       "True"
      ]
     },
     "execution_count": 2,
     "metadata": {},
     "output_type": "execute_result"
    },
    {
     "data": {
      "text/plain": [
       "True"
      ]
     },
     "execution_count": 2,
     "metadata": {},
     "output_type": "execute_result"
    },
    {
     "data": {
      "text/plain": [
       "True"
      ]
     },
     "execution_count": 2,
     "metadata": {},
     "output_type": "execute_result"
    },
    {
     "data": {
      "text/plain": [
       "True"
      ]
     },
     "execution_count": 2,
     "metadata": {},
     "output_type": "execute_result"
    },
    {
     "data": {
      "text/plain": [
       "True"
      ]
     },
     "execution_count": 2,
     "metadata": {},
     "output_type": "execute_result"
    },
    {
     "name": "stdout",
     "output_type": "stream",
     "text": [
      "Done\n"
     ]
    },
    {
     "data": {
      "text/plain": [
       "True"
      ]
     },
     "execution_count": 2,
     "metadata": {},
     "output_type": "execute_result"
    },
    {
     "data": {
      "text/plain": [
       "True"
      ]
     },
     "execution_count": 2,
     "metadata": {},
     "output_type": "execute_result"
    },
    {
     "data": {
      "text/plain": [
       "True"
      ]
     },
     "execution_count": 2,
     "metadata": {},
     "output_type": "execute_result"
    },
    {
     "data": {
      "text/plain": [
       "True"
      ]
     },
     "execution_count": 2,
     "metadata": {},
     "output_type": "execute_result"
    },
    {
     "data": {
      "text/plain": [
       "True"
      ]
     },
     "execution_count": 2,
     "metadata": {},
     "output_type": "execute_result"
    },
    {
     "data": {
      "text/plain": [
       "True"
      ]
     },
     "execution_count": 2,
     "metadata": {},
     "output_type": "execute_result"
    },
    {
     "data": {
      "text/plain": [
       "True"
      ]
     },
     "execution_count": 2,
     "metadata": {},
     "output_type": "execute_result"
    },
    {
     "data": {
      "text/plain": [
       "True"
      ]
     },
     "execution_count": 2,
     "metadata": {},
     "output_type": "execute_result"
    },
    {
     "data": {
      "text/plain": [
       "True"
      ]
     },
     "execution_count": 2,
     "metadata": {},
     "output_type": "execute_result"
    },
    {
     "data": {
      "text/plain": [
       "True"
      ]
     },
     "execution_count": 2,
     "metadata": {},
     "output_type": "execute_result"
    },
    {
     "data": {
      "text/plain": [
       "True"
      ]
     },
     "execution_count": 2,
     "metadata": {},
     "output_type": "execute_result"
    },
    {
     "data": {
      "text/plain": [
       "True"
      ]
     },
     "execution_count": 2,
     "metadata": {},
     "output_type": "execute_result"
    },
    {
     "data": {
      "text/plain": [
       "True"
      ]
     },
     "execution_count": 2,
     "metadata": {},
     "output_type": "execute_result"
    },
    {
     "data": {
      "text/plain": [
       "True"
      ]
     },
     "execution_count": 2,
     "metadata": {},
     "output_type": "execute_result"
    },
    {
     "data": {
      "text/plain": [
       "True"
      ]
     },
     "execution_count": 2,
     "metadata": {},
     "output_type": "execute_result"
    },
    {
     "data": {
      "text/plain": [
       "True"
      ]
     },
     "execution_count": 2,
     "metadata": {},
     "output_type": "execute_result"
    },
    {
     "data": {
      "text/plain": [
       "True"
      ]
     },
     "execution_count": 2,
     "metadata": {},
     "output_type": "execute_result"
    },
    {
     "data": {
      "text/plain": [
       "True"
      ]
     },
     "execution_count": 2,
     "metadata": {},
     "output_type": "execute_result"
    },
    {
     "data": {
      "text/plain": [
       "True"
      ]
     },
     "execution_count": 2,
     "metadata": {},
     "output_type": "execute_result"
    },
    {
     "data": {
      "text/plain": [
       "True"
      ]
     },
     "execution_count": 2,
     "metadata": {},
     "output_type": "execute_result"
    },
    {
     "name": "stdout",
     "output_type": "stream",
     "text": [
      "Done\n"
     ]
    },
    {
     "data": {
      "text/plain": [
       "True"
      ]
     },
     "execution_count": 2,
     "metadata": {},
     "output_type": "execute_result"
    },
    {
     "data": {
      "text/plain": [
       "True"
      ]
     },
     "execution_count": 2,
     "metadata": {},
     "output_type": "execute_result"
    },
    {
     "data": {
      "text/plain": [
       "True"
      ]
     },
     "execution_count": 2,
     "metadata": {},
     "output_type": "execute_result"
    },
    {
     "data": {
      "text/plain": [
       "True"
      ]
     },
     "execution_count": 2,
     "metadata": {},
     "output_type": "execute_result"
    },
    {
     "data": {
      "text/plain": [
       "True"
      ]
     },
     "execution_count": 2,
     "metadata": {},
     "output_type": "execute_result"
    },
    {
     "data": {
      "text/plain": [
       "True"
      ]
     },
     "execution_count": 2,
     "metadata": {},
     "output_type": "execute_result"
    },
    {
     "data": {
      "text/plain": [
       "True"
      ]
     },
     "execution_count": 2,
     "metadata": {},
     "output_type": "execute_result"
    },
    {
     "data": {
      "text/plain": [
       "True"
      ]
     },
     "execution_count": 2,
     "metadata": {},
     "output_type": "execute_result"
    },
    {
     "data": {
      "text/plain": [
       "True"
      ]
     },
     "execution_count": 2,
     "metadata": {},
     "output_type": "execute_result"
    },
    {
     "data": {
      "text/plain": [
       "True"
      ]
     },
     "execution_count": 2,
     "metadata": {},
     "output_type": "execute_result"
    },
    {
     "data": {
      "text/plain": [
       "True"
      ]
     },
     "execution_count": 2,
     "metadata": {},
     "output_type": "execute_result"
    },
    {
     "data": {
      "text/plain": [
       "True"
      ]
     },
     "execution_count": 2,
     "metadata": {},
     "output_type": "execute_result"
    },
    {
     "data": {
      "text/plain": [
       "True"
      ]
     },
     "execution_count": 2,
     "metadata": {},
     "output_type": "execute_result"
    },
    {
     "name": "stdout",
     "output_type": "stream",
     "text": [
      "Done\n"
     ]
    },
    {
     "data": {
      "text/plain": [
       "True"
      ]
     },
     "execution_count": 2,
     "metadata": {},
     "output_type": "execute_result"
    },
    {
     "data": {
      "text/plain": [
       "True"
      ]
     },
     "execution_count": 2,
     "metadata": {},
     "output_type": "execute_result"
    },
    {
     "data": {
      "text/plain": [
       "True"
      ]
     },
     "execution_count": 2,
     "metadata": {},
     "output_type": "execute_result"
    },
    {
     "data": {
      "text/plain": [
       "True"
      ]
     },
     "execution_count": 2,
     "metadata": {},
     "output_type": "execute_result"
    },
    {
     "data": {
      "text/plain": [
       "True"
      ]
     },
     "execution_count": 2,
     "metadata": {},
     "output_type": "execute_result"
    },
    {
     "data": {
      "text/plain": [
       "True"
      ]
     },
     "execution_count": 2,
     "metadata": {},
     "output_type": "execute_result"
    },
    {
     "data": {
      "text/plain": [
       "True"
      ]
     },
     "execution_count": 2,
     "metadata": {},
     "output_type": "execute_result"
    },
    {
     "data": {
      "text/plain": [
       "True"
      ]
     },
     "execution_count": 2,
     "metadata": {},
     "output_type": "execute_result"
    },
    {
     "data": {
      "text/plain": [
       "True"
      ]
     },
     "execution_count": 2,
     "metadata": {},
     "output_type": "execute_result"
    },
    {
     "data": {
      "text/plain": [
       "True"
      ]
     },
     "execution_count": 2,
     "metadata": {},
     "output_type": "execute_result"
    },
    {
     "data": {
      "text/plain": [
       "True"
      ]
     },
     "execution_count": 2,
     "metadata": {},
     "output_type": "execute_result"
    },
    {
     "data": {
      "text/plain": [
       "True"
      ]
     },
     "execution_count": 2,
     "metadata": {},
     "output_type": "execute_result"
    },
    {
     "name": "stdout",
     "output_type": "stream",
     "text": [
      "Done\n"
     ]
    },
    {
     "data": {
      "text/plain": [
       "True"
      ]
     },
     "execution_count": 2,
     "metadata": {},
     "output_type": "execute_result"
    },
    {
     "data": {
      "text/plain": [
       "True"
      ]
     },
     "execution_count": 2,
     "metadata": {},
     "output_type": "execute_result"
    },
    {
     "data": {
      "text/plain": [
       "True"
      ]
     },
     "execution_count": 2,
     "metadata": {},
     "output_type": "execute_result"
    },
    {
     "data": {
      "text/plain": [
       "True"
      ]
     },
     "execution_count": 2,
     "metadata": {},
     "output_type": "execute_result"
    },
    {
     "data": {
      "text/plain": [
       "True"
      ]
     },
     "execution_count": 2,
     "metadata": {},
     "output_type": "execute_result"
    },
    {
     "data": {
      "text/plain": [
       "True"
      ]
     },
     "execution_count": 2,
     "metadata": {},
     "output_type": "execute_result"
    },
    {
     "data": {
      "text/plain": [
       "True"
      ]
     },
     "execution_count": 2,
     "metadata": {},
     "output_type": "execute_result"
    },
    {
     "data": {
      "text/plain": [
       "True"
      ]
     },
     "execution_count": 2,
     "metadata": {},
     "output_type": "execute_result"
    },
    {
     "data": {
      "text/plain": [
       "True"
      ]
     },
     "execution_count": 2,
     "metadata": {},
     "output_type": "execute_result"
    },
    {
     "data": {
      "text/plain": [
       "True"
      ]
     },
     "execution_count": 2,
     "metadata": {},
     "output_type": "execute_result"
    },
    {
     "data": {
      "text/plain": [
       "True"
      ]
     },
     "execution_count": 2,
     "metadata": {},
     "output_type": "execute_result"
    },
    {
     "data": {
      "text/plain": [
       "True"
      ]
     },
     "execution_count": 2,
     "metadata": {},
     "output_type": "execute_result"
    },
    {
     "data": {
      "text/plain": [
       "True"
      ]
     },
     "execution_count": 2,
     "metadata": {},
     "output_type": "execute_result"
    },
    {
     "data": {
      "text/plain": [
       "True"
      ]
     },
     "execution_count": 2,
     "metadata": {},
     "output_type": "execute_result"
    },
    {
     "data": {
      "text/plain": [
       "True"
      ]
     },
     "execution_count": 2,
     "metadata": {},
     "output_type": "execute_result"
    },
    {
     "data": {
      "text/plain": [
       "True"
      ]
     },
     "execution_count": 2,
     "metadata": {},
     "output_type": "execute_result"
    },
    {
     "data": {
      "text/plain": [
       "True"
      ]
     },
     "execution_count": 2,
     "metadata": {},
     "output_type": "execute_result"
    },
    {
     "data": {
      "text/plain": [
       "True"
      ]
     },
     "execution_count": 2,
     "metadata": {},
     "output_type": "execute_result"
    },
    {
     "data": {
      "text/plain": [
       "True"
      ]
     },
     "execution_count": 2,
     "metadata": {},
     "output_type": "execute_result"
    },
    {
     "data": {
      "text/plain": [
       "True"
      ]
     },
     "execution_count": 2,
     "metadata": {},
     "output_type": "execute_result"
    },
    {
     "name": "stdout",
     "output_type": "stream",
     "text": [
      "Done\n"
     ]
    },
    {
     "data": {
      "text/plain": [
       "True"
      ]
     },
     "execution_count": 2,
     "metadata": {},
     "output_type": "execute_result"
    },
    {
     "data": {
      "text/plain": [
       "True"
      ]
     },
     "execution_count": 2,
     "metadata": {},
     "output_type": "execute_result"
    },
    {
     "data": {
      "text/plain": [
       "True"
      ]
     },
     "execution_count": 2,
     "metadata": {},
     "output_type": "execute_result"
    },
    {
     "data": {
      "text/plain": [
       "True"
      ]
     },
     "execution_count": 2,
     "metadata": {},
     "output_type": "execute_result"
    },
    {
     "data": {
      "text/plain": [
       "True"
      ]
     },
     "execution_count": 2,
     "metadata": {},
     "output_type": "execute_result"
    },
    {
     "data": {
      "text/plain": [
       "True"
      ]
     },
     "execution_count": 2,
     "metadata": {},
     "output_type": "execute_result"
    },
    {
     "data": {
      "text/plain": [
       "True"
      ]
     },
     "execution_count": 2,
     "metadata": {},
     "output_type": "execute_result"
    },
    {
     "data": {
      "text/plain": [
       "True"
      ]
     },
     "execution_count": 2,
     "metadata": {},
     "output_type": "execute_result"
    },
    {
     "data": {
      "text/plain": [
       "True"
      ]
     },
     "execution_count": 2,
     "metadata": {},
     "output_type": "execute_result"
    },
    {
     "data": {
      "text/plain": [
       "True"
      ]
     },
     "execution_count": 2,
     "metadata": {},
     "output_type": "execute_result"
    },
    {
     "name": "stdout",
     "output_type": "stream",
     "text": [
      "Done\n"
     ]
    },
    {
     "data": {
      "text/plain": [
       "True"
      ]
     },
     "execution_count": 2,
     "metadata": {},
     "output_type": "execute_result"
    },
    {
     "data": {
      "text/plain": [
       "True"
      ]
     },
     "execution_count": 2,
     "metadata": {},
     "output_type": "execute_result"
    },
    {
     "data": {
      "text/plain": [
       "True"
      ]
     },
     "execution_count": 2,
     "metadata": {},
     "output_type": "execute_result"
    },
    {
     "data": {
      "text/plain": [
       "True"
      ]
     },
     "execution_count": 2,
     "metadata": {},
     "output_type": "execute_result"
    },
    {
     "data": {
      "text/plain": [
       "True"
      ]
     },
     "execution_count": 2,
     "metadata": {},
     "output_type": "execute_result"
    },
    {
     "data": {
      "text/plain": [
       "True"
      ]
     },
     "execution_count": 2,
     "metadata": {},
     "output_type": "execute_result"
    },
    {
     "data": {
      "text/plain": [
       "True"
      ]
     },
     "execution_count": 2,
     "metadata": {},
     "output_type": "execute_result"
    },
    {
     "data": {
      "text/plain": [
       "True"
      ]
     },
     "execution_count": 2,
     "metadata": {},
     "output_type": "execute_result"
    },
    {
     "data": {
      "text/plain": [
       "True"
      ]
     },
     "execution_count": 2,
     "metadata": {},
     "output_type": "execute_result"
    },
    {
     "data": {
      "text/plain": [
       "True"
      ]
     },
     "execution_count": 2,
     "metadata": {},
     "output_type": "execute_result"
    },
    {
     "data": {
      "text/plain": [
       "True"
      ]
     },
     "execution_count": 2,
     "metadata": {},
     "output_type": "execute_result"
    },
    {
     "data": {
      "text/plain": [
       "True"
      ]
     },
     "execution_count": 2,
     "metadata": {},
     "output_type": "execute_result"
    },
    {
     "data": {
      "text/plain": [
       "True"
      ]
     },
     "execution_count": 2,
     "metadata": {},
     "output_type": "execute_result"
    },
    {
     "data": {
      "text/plain": [
       "True"
      ]
     },
     "execution_count": 2,
     "metadata": {},
     "output_type": "execute_result"
    },
    {
     "data": {
      "text/plain": [
       "True"
      ]
     },
     "execution_count": 2,
     "metadata": {},
     "output_type": "execute_result"
    },
    {
     "name": "stdout",
     "output_type": "stream",
     "text": [
      "Done\n"
     ]
    },
    {
     "data": {
      "text/plain": [
       "True"
      ]
     },
     "execution_count": 2,
     "metadata": {},
     "output_type": "execute_result"
    },
    {
     "data": {
      "text/plain": [
       "True"
      ]
     },
     "execution_count": 2,
     "metadata": {},
     "output_type": "execute_result"
    },
    {
     "data": {
      "text/plain": [
       "True"
      ]
     },
     "execution_count": 2,
     "metadata": {},
     "output_type": "execute_result"
    },
    {
     "data": {
      "text/plain": [
       "True"
      ]
     },
     "execution_count": 2,
     "metadata": {},
     "output_type": "execute_result"
    },
    {
     "data": {
      "text/plain": [
       "True"
      ]
     },
     "execution_count": 2,
     "metadata": {},
     "output_type": "execute_result"
    },
    {
     "data": {
      "text/plain": [
       "True"
      ]
     },
     "execution_count": 2,
     "metadata": {},
     "output_type": "execute_result"
    },
    {
     "data": {
      "text/plain": [
       "True"
      ]
     },
     "execution_count": 2,
     "metadata": {},
     "output_type": "execute_result"
    },
    {
     "data": {
      "text/plain": [
       "True"
      ]
     },
     "execution_count": 2,
     "metadata": {},
     "output_type": "execute_result"
    },
    {
     "data": {
      "text/plain": [
       "True"
      ]
     },
     "execution_count": 2,
     "metadata": {},
     "output_type": "execute_result"
    },
    {
     "data": {
      "text/plain": [
       "True"
      ]
     },
     "execution_count": 2,
     "metadata": {},
     "output_type": "execute_result"
    },
    {
     "data": {
      "text/plain": [
       "True"
      ]
     },
     "execution_count": 2,
     "metadata": {},
     "output_type": "execute_result"
    },
    {
     "data": {
      "text/plain": [
       "True"
      ]
     },
     "execution_count": 2,
     "metadata": {},
     "output_type": "execute_result"
    },
    {
     "data": {
      "text/plain": [
       "True"
      ]
     },
     "execution_count": 2,
     "metadata": {},
     "output_type": "execute_result"
    },
    {
     "data": {
      "text/plain": [
       "True"
      ]
     },
     "execution_count": 2,
     "metadata": {},
     "output_type": "execute_result"
    },
    {
     "data": {
      "text/plain": [
       "True"
      ]
     },
     "execution_count": 2,
     "metadata": {},
     "output_type": "execute_result"
    },
    {
     "data": {
      "text/plain": [
       "True"
      ]
     },
     "execution_count": 2,
     "metadata": {},
     "output_type": "execute_result"
    },
    {
     "data": {
      "text/plain": [
       "True"
      ]
     },
     "execution_count": 2,
     "metadata": {},
     "output_type": "execute_result"
    },
    {
     "data": {
      "text/plain": [
       "True"
      ]
     },
     "execution_count": 2,
     "metadata": {},
     "output_type": "execute_result"
    },
    {
     "data": {
      "text/plain": [
       "True"
      ]
     },
     "execution_count": 2,
     "metadata": {},
     "output_type": "execute_result"
    },
    {
     "data": {
      "text/plain": [
       "True"
      ]
     },
     "execution_count": 2,
     "metadata": {},
     "output_type": "execute_result"
    },
    {
     "data": {
      "text/plain": [
       "True"
      ]
     },
     "execution_count": 2,
     "metadata": {},
     "output_type": "execute_result"
    },
    {
     "data": {
      "text/plain": [
       "True"
      ]
     },
     "execution_count": 2,
     "metadata": {},
     "output_type": "execute_result"
    },
    {
     "data": {
      "text/plain": [
       "True"
      ]
     },
     "execution_count": 2,
     "metadata": {},
     "output_type": "execute_result"
    },
    {
     "data": {
      "text/plain": [
       "True"
      ]
     },
     "execution_count": 2,
     "metadata": {},
     "output_type": "execute_result"
    },
    {
     "data": {
      "text/plain": [
       "True"
      ]
     },
     "execution_count": 2,
     "metadata": {},
     "output_type": "execute_result"
    },
    {
     "data": {
      "text/plain": [
       "True"
      ]
     },
     "execution_count": 2,
     "metadata": {},
     "output_type": "execute_result"
    },
    {
     "data": {
      "text/plain": [
       "True"
      ]
     },
     "execution_count": 2,
     "metadata": {},
     "output_type": "execute_result"
    },
    {
     "data": {
      "text/plain": [
       "True"
      ]
     },
     "execution_count": 2,
     "metadata": {},
     "output_type": "execute_result"
    },
    {
     "data": {
      "text/plain": [
       "True"
      ]
     },
     "execution_count": 2,
     "metadata": {},
     "output_type": "execute_result"
    },
    {
     "data": {
      "text/plain": [
       "True"
      ]
     },
     "execution_count": 2,
     "metadata": {},
     "output_type": "execute_result"
    },
    {
     "data": {
      "text/plain": [
       "True"
      ]
     },
     "execution_count": 2,
     "metadata": {},
     "output_type": "execute_result"
    },
    {
     "data": {
      "text/plain": [
       "True"
      ]
     },
     "execution_count": 2,
     "metadata": {},
     "output_type": "execute_result"
    },
    {
     "data": {
      "text/plain": [
       "True"
      ]
     },
     "execution_count": 2,
     "metadata": {},
     "output_type": "execute_result"
    },
    {
     "data": {
      "text/plain": [
       "True"
      ]
     },
     "execution_count": 2,
     "metadata": {},
     "output_type": "execute_result"
    },
    {
     "data": {
      "text/plain": [
       "True"
      ]
     },
     "execution_count": 2,
     "metadata": {},
     "output_type": "execute_result"
    },
    {
     "data": {
      "text/plain": [
       "True"
      ]
     },
     "execution_count": 2,
     "metadata": {},
     "output_type": "execute_result"
    },
    {
     "data": {
      "text/plain": [
       "True"
      ]
     },
     "execution_count": 2,
     "metadata": {},
     "output_type": "execute_result"
    },
    {
     "data": {
      "text/plain": [
       "True"
      ]
     },
     "execution_count": 2,
     "metadata": {},
     "output_type": "execute_result"
    },
    {
     "data": {
      "text/plain": [
       "True"
      ]
     },
     "execution_count": 2,
     "metadata": {},
     "output_type": "execute_result"
    },
    {
     "data": {
      "text/plain": [
       "True"
      ]
     },
     "execution_count": 2,
     "metadata": {},
     "output_type": "execute_result"
    },
    {
     "data": {
      "text/plain": [
       "True"
      ]
     },
     "execution_count": 2,
     "metadata": {},
     "output_type": "execute_result"
    },
    {
     "data": {
      "text/plain": [
       "True"
      ]
     },
     "execution_count": 2,
     "metadata": {},
     "output_type": "execute_result"
    },
    {
     "data": {
      "text/plain": [
       "True"
      ]
     },
     "execution_count": 2,
     "metadata": {},
     "output_type": "execute_result"
    },
    {
     "data": {
      "text/plain": [
       "True"
      ]
     },
     "execution_count": 2,
     "metadata": {},
     "output_type": "execute_result"
    },
    {
     "data": {
      "text/plain": [
       "True"
      ]
     },
     "execution_count": 2,
     "metadata": {},
     "output_type": "execute_result"
    },
    {
     "data": {
      "text/plain": [
       "True"
      ]
     },
     "execution_count": 2,
     "metadata": {},
     "output_type": "execute_result"
    },
    {
     "data": {
      "text/plain": [
       "True"
      ]
     },
     "execution_count": 2,
     "metadata": {},
     "output_type": "execute_result"
    },
    {
     "data": {
      "text/plain": [
       "True"
      ]
     },
     "execution_count": 2,
     "metadata": {},
     "output_type": "execute_result"
    },
    {
     "data": {
      "text/plain": [
       "True"
      ]
     },
     "execution_count": 2,
     "metadata": {},
     "output_type": "execute_result"
    },
    {
     "data": {
      "text/plain": [
       "True"
      ]
     },
     "execution_count": 2,
     "metadata": {},
     "output_type": "execute_result"
    },
    {
     "name": "stdout",
     "output_type": "stream",
     "text": [
      "Done\n"
     ]
    },
    {
     "data": {
      "text/plain": [
       "True"
      ]
     },
     "execution_count": 2,
     "metadata": {},
     "output_type": "execute_result"
    },
    {
     "data": {
      "text/plain": [
       "True"
      ]
     },
     "execution_count": 2,
     "metadata": {},
     "output_type": "execute_result"
    },
    {
     "data": {
      "text/plain": [
       "True"
      ]
     },
     "execution_count": 2,
     "metadata": {},
     "output_type": "execute_result"
    },
    {
     "data": {
      "text/plain": [
       "True"
      ]
     },
     "execution_count": 2,
     "metadata": {},
     "output_type": "execute_result"
    },
    {
     "data": {
      "text/plain": [
       "True"
      ]
     },
     "execution_count": 2,
     "metadata": {},
     "output_type": "execute_result"
    },
    {
     "data": {
      "text/plain": [
       "True"
      ]
     },
     "execution_count": 2,
     "metadata": {},
     "output_type": "execute_result"
    },
    {
     "data": {
      "text/plain": [
       "True"
      ]
     },
     "execution_count": 2,
     "metadata": {},
     "output_type": "execute_result"
    },
    {
     "data": {
      "text/plain": [
       "True"
      ]
     },
     "execution_count": 2,
     "metadata": {},
     "output_type": "execute_result"
    },
    {
     "data": {
      "text/plain": [
       "True"
      ]
     },
     "execution_count": 2,
     "metadata": {},
     "output_type": "execute_result"
    },
    {
     "data": {
      "text/plain": [
       "True"
      ]
     },
     "execution_count": 2,
     "metadata": {},
     "output_type": "execute_result"
    },
    {
     "data": {
      "text/plain": [
       "True"
      ]
     },
     "execution_count": 2,
     "metadata": {},
     "output_type": "execute_result"
    },
    {
     "data": {
      "text/plain": [
       "True"
      ]
     },
     "execution_count": 2,
     "metadata": {},
     "output_type": "execute_result"
    },
    {
     "data": {
      "text/plain": [
       "True"
      ]
     },
     "execution_count": 2,
     "metadata": {},
     "output_type": "execute_result"
    },
    {
     "data": {
      "text/plain": [
       "True"
      ]
     },
     "execution_count": 2,
     "metadata": {},
     "output_type": "execute_result"
    },
    {
     "data": {
      "text/plain": [
       "True"
      ]
     },
     "execution_count": 2,
     "metadata": {},
     "output_type": "execute_result"
    },
    {
     "data": {
      "text/plain": [
       "True"
      ]
     },
     "execution_count": 2,
     "metadata": {},
     "output_type": "execute_result"
    },
    {
     "data": {
      "text/plain": [
       "True"
      ]
     },
     "execution_count": 2,
     "metadata": {},
     "output_type": "execute_result"
    },
    {
     "data": {
      "text/plain": [
       "True"
      ]
     },
     "execution_count": 2,
     "metadata": {},
     "output_type": "execute_result"
    },
    {
     "data": {
      "text/plain": [
       "True"
      ]
     },
     "execution_count": 2,
     "metadata": {},
     "output_type": "execute_result"
    },
    {
     "data": {
      "text/plain": [
       "True"
      ]
     },
     "execution_count": 2,
     "metadata": {},
     "output_type": "execute_result"
    },
    {
     "data": {
      "text/plain": [
       "True"
      ]
     },
     "execution_count": 2,
     "metadata": {},
     "output_type": "execute_result"
    },
    {
     "data": {
      "text/plain": [
       "True"
      ]
     },
     "execution_count": 2,
     "metadata": {},
     "output_type": "execute_result"
    },
    {
     "data": {
      "text/plain": [
       "True"
      ]
     },
     "execution_count": 2,
     "metadata": {},
     "output_type": "execute_result"
    },
    {
     "name": "stdout",
     "output_type": "stream",
     "text": [
      "Done\n"
     ]
    },
    {
     "data": {
      "text/plain": [
       "True"
      ]
     },
     "execution_count": 2,
     "metadata": {},
     "output_type": "execute_result"
    },
    {
     "data": {
      "text/plain": [
       "True"
      ]
     },
     "execution_count": 2,
     "metadata": {},
     "output_type": "execute_result"
    },
    {
     "data": {
      "text/plain": [
       "True"
      ]
     },
     "execution_count": 2,
     "metadata": {},
     "output_type": "execute_result"
    },
    {
     "data": {
      "text/plain": [
       "True"
      ]
     },
     "execution_count": 2,
     "metadata": {},
     "output_type": "execute_result"
    },
    {
     "data": {
      "text/plain": [
       "True"
      ]
     },
     "execution_count": 2,
     "metadata": {},
     "output_type": "execute_result"
    },
    {
     "data": {
      "text/plain": [
       "True"
      ]
     },
     "execution_count": 2,
     "metadata": {},
     "output_type": "execute_result"
    },
    {
     "data": {
      "text/plain": [
       "True"
      ]
     },
     "execution_count": 2,
     "metadata": {},
     "output_type": "execute_result"
    },
    {
     "data": {
      "text/plain": [
       "True"
      ]
     },
     "execution_count": 2,
     "metadata": {},
     "output_type": "execute_result"
    },
    {
     "data": {
      "text/plain": [
       "True"
      ]
     },
     "execution_count": 2,
     "metadata": {},
     "output_type": "execute_result"
    },
    {
     "data": {
      "text/plain": [
       "True"
      ]
     },
     "execution_count": 2,
     "metadata": {},
     "output_type": "execute_result"
    },
    {
     "data": {
      "text/plain": [
       "True"
      ]
     },
     "execution_count": 2,
     "metadata": {},
     "output_type": "execute_result"
    },
    {
     "data": {
      "text/plain": [
       "True"
      ]
     },
     "execution_count": 2,
     "metadata": {},
     "output_type": "execute_result"
    },
    {
     "data": {
      "text/plain": [
       "True"
      ]
     },
     "execution_count": 2,
     "metadata": {},
     "output_type": "execute_result"
    },
    {
     "data": {
      "text/plain": [
       "True"
      ]
     },
     "execution_count": 2,
     "metadata": {},
     "output_type": "execute_result"
    },
    {
     "name": "stdout",
     "output_type": "stream",
     "text": [
      "Done\n"
     ]
    },
    {
     "data": {
      "text/plain": [
       "True"
      ]
     },
     "execution_count": 2,
     "metadata": {},
     "output_type": "execute_result"
    },
    {
     "data": {
      "text/plain": [
       "True"
      ]
     },
     "execution_count": 2,
     "metadata": {},
     "output_type": "execute_result"
    },
    {
     "data": {
      "text/plain": [
       "True"
      ]
     },
     "execution_count": 2,
     "metadata": {},
     "output_type": "execute_result"
    },
    {
     "data": {
      "text/plain": [
       "True"
      ]
     },
     "execution_count": 2,
     "metadata": {},
     "output_type": "execute_result"
    },
    {
     "data": {
      "text/plain": [
       "True"
      ]
     },
     "execution_count": 2,
     "metadata": {},
     "output_type": "execute_result"
    },
    {
     "data": {
      "text/plain": [
       "True"
      ]
     },
     "execution_count": 2,
     "metadata": {},
     "output_type": "execute_result"
    },
    {
     "data": {
      "text/plain": [
       "True"
      ]
     },
     "execution_count": 2,
     "metadata": {},
     "output_type": "execute_result"
    },
    {
     "data": {
      "text/plain": [
       "True"
      ]
     },
     "execution_count": 2,
     "metadata": {},
     "output_type": "execute_result"
    },
    {
     "data": {
      "text/plain": [
       "True"
      ]
     },
     "execution_count": 2,
     "metadata": {},
     "output_type": "execute_result"
    },
    {
     "data": {
      "text/plain": [
       "True"
      ]
     },
     "execution_count": 2,
     "metadata": {},
     "output_type": "execute_result"
    },
    {
     "data": {
      "text/plain": [
       "True"
      ]
     },
     "execution_count": 2,
     "metadata": {},
     "output_type": "execute_result"
    },
    {
     "data": {
      "text/plain": [
       "True"
      ]
     },
     "execution_count": 2,
     "metadata": {},
     "output_type": "execute_result"
    },
    {
     "data": {
      "text/plain": [
       "True"
      ]
     },
     "execution_count": 2,
     "metadata": {},
     "output_type": "execute_result"
    },
    {
     "data": {
      "text/plain": [
       "True"
      ]
     },
     "execution_count": 2,
     "metadata": {},
     "output_type": "execute_result"
    },
    {
     "data": {
      "text/plain": [
       "True"
      ]
     },
     "execution_count": 2,
     "metadata": {},
     "output_type": "execute_result"
    },
    {
     "data": {
      "text/plain": [
       "True"
      ]
     },
     "execution_count": 2,
     "metadata": {},
     "output_type": "execute_result"
    },
    {
     "name": "stdout",
     "output_type": "stream",
     "text": [
      "Done\n"
     ]
    },
    {
     "data": {
      "text/plain": [
       "True"
      ]
     },
     "execution_count": 2,
     "metadata": {},
     "output_type": "execute_result"
    },
    {
     "data": {
      "text/plain": [
       "True"
      ]
     },
     "execution_count": 2,
     "metadata": {},
     "output_type": "execute_result"
    },
    {
     "data": {
      "text/plain": [
       "True"
      ]
     },
     "execution_count": 2,
     "metadata": {},
     "output_type": "execute_result"
    },
    {
     "data": {
      "text/plain": [
       "True"
      ]
     },
     "execution_count": 2,
     "metadata": {},
     "output_type": "execute_result"
    },
    {
     "data": {
      "text/plain": [
       "True"
      ]
     },
     "execution_count": 2,
     "metadata": {},
     "output_type": "execute_result"
    },
    {
     "data": {
      "text/plain": [
       "True"
      ]
     },
     "execution_count": 2,
     "metadata": {},
     "output_type": "execute_result"
    },
    {
     "data": {
      "text/plain": [
       "True"
      ]
     },
     "execution_count": 2,
     "metadata": {},
     "output_type": "execute_result"
    },
    {
     "data": {
      "text/plain": [
       "True"
      ]
     },
     "execution_count": 2,
     "metadata": {},
     "output_type": "execute_result"
    },
    {
     "data": {
      "text/plain": [
       "True"
      ]
     },
     "execution_count": 2,
     "metadata": {},
     "output_type": "execute_result"
    },
    {
     "data": {
      "text/plain": [
       "True"
      ]
     },
     "execution_count": 2,
     "metadata": {},
     "output_type": "execute_result"
    },
    {
     "data": {
      "text/plain": [
       "True"
      ]
     },
     "execution_count": 2,
     "metadata": {},
     "output_type": "execute_result"
    },
    {
     "data": {
      "text/plain": [
       "True"
      ]
     },
     "execution_count": 2,
     "metadata": {},
     "output_type": "execute_result"
    },
    {
     "data": {
      "text/plain": [
       "True"
      ]
     },
     "execution_count": 2,
     "metadata": {},
     "output_type": "execute_result"
    },
    {
     "data": {
      "text/plain": [
       "True"
      ]
     },
     "execution_count": 2,
     "metadata": {},
     "output_type": "execute_result"
    },
    {
     "data": {
      "text/plain": [
       "True"
      ]
     },
     "execution_count": 2,
     "metadata": {},
     "output_type": "execute_result"
    },
    {
     "data": {
      "text/plain": [
       "True"
      ]
     },
     "execution_count": 2,
     "metadata": {},
     "output_type": "execute_result"
    },
    {
     "data": {
      "text/plain": [
       "True"
      ]
     },
     "execution_count": 2,
     "metadata": {},
     "output_type": "execute_result"
    },
    {
     "data": {
      "text/plain": [
       "True"
      ]
     },
     "execution_count": 2,
     "metadata": {},
     "output_type": "execute_result"
    },
    {
     "data": {
      "text/plain": [
       "True"
      ]
     },
     "execution_count": 2,
     "metadata": {},
     "output_type": "execute_result"
    },
    {
     "data": {
      "text/plain": [
       "True"
      ]
     },
     "execution_count": 2,
     "metadata": {},
     "output_type": "execute_result"
    },
    {
     "data": {
      "text/plain": [
       "True"
      ]
     },
     "execution_count": 2,
     "metadata": {},
     "output_type": "execute_result"
    },
    {
     "name": "stdout",
     "output_type": "stream",
     "text": [
      "Done\n"
     ]
    },
    {
     "data": {
      "text/plain": [
       "True"
      ]
     },
     "execution_count": 2,
     "metadata": {},
     "output_type": "execute_result"
    },
    {
     "data": {
      "text/plain": [
       "True"
      ]
     },
     "execution_count": 2,
     "metadata": {},
     "output_type": "execute_result"
    },
    {
     "data": {
      "text/plain": [
       "True"
      ]
     },
     "execution_count": 2,
     "metadata": {},
     "output_type": "execute_result"
    },
    {
     "data": {
      "text/plain": [
       "True"
      ]
     },
     "execution_count": 2,
     "metadata": {},
     "output_type": "execute_result"
    },
    {
     "data": {
      "text/plain": [
       "True"
      ]
     },
     "execution_count": 2,
     "metadata": {},
     "output_type": "execute_result"
    },
    {
     "data": {
      "text/plain": [
       "True"
      ]
     },
     "execution_count": 2,
     "metadata": {},
     "output_type": "execute_result"
    },
    {
     "data": {
      "text/plain": [
       "True"
      ]
     },
     "execution_count": 2,
     "metadata": {},
     "output_type": "execute_result"
    },
    {
     "data": {
      "text/plain": [
       "True"
      ]
     },
     "execution_count": 2,
     "metadata": {},
     "output_type": "execute_result"
    },
    {
     "data": {
      "text/plain": [
       "True"
      ]
     },
     "execution_count": 2,
     "metadata": {},
     "output_type": "execute_result"
    },
    {
     "data": {
      "text/plain": [
       "True"
      ]
     },
     "execution_count": 2,
     "metadata": {},
     "output_type": "execute_result"
    },
    {
     "data": {
      "text/plain": [
       "True"
      ]
     },
     "execution_count": 2,
     "metadata": {},
     "output_type": "execute_result"
    },
    {
     "data": {
      "text/plain": [
       "True"
      ]
     },
     "execution_count": 2,
     "metadata": {},
     "output_type": "execute_result"
    },
    {
     "data": {
      "text/plain": [
       "True"
      ]
     },
     "execution_count": 2,
     "metadata": {},
     "output_type": "execute_result"
    },
    {
     "data": {
      "text/plain": [
       "True"
      ]
     },
     "execution_count": 2,
     "metadata": {},
     "output_type": "execute_result"
    },
    {
     "data": {
      "text/plain": [
       "True"
      ]
     },
     "execution_count": 2,
     "metadata": {},
     "output_type": "execute_result"
    },
    {
     "data": {
      "text/plain": [
       "True"
      ]
     },
     "execution_count": 2,
     "metadata": {},
     "output_type": "execute_result"
    },
    {
     "data": {
      "text/plain": [
       "True"
      ]
     },
     "execution_count": 2,
     "metadata": {},
     "output_type": "execute_result"
    },
    {
     "data": {
      "text/plain": [
       "True"
      ]
     },
     "execution_count": 2,
     "metadata": {},
     "output_type": "execute_result"
    },
    {
     "data": {
      "text/plain": [
       "True"
      ]
     },
     "execution_count": 2,
     "metadata": {},
     "output_type": "execute_result"
    },
    {
     "data": {
      "text/plain": [
       "True"
      ]
     },
     "execution_count": 2,
     "metadata": {},
     "output_type": "execute_result"
    },
    {
     "data": {
      "text/plain": [
       "True"
      ]
     },
     "execution_count": 2,
     "metadata": {},
     "output_type": "execute_result"
    },
    {
     "data": {
      "text/plain": [
       "True"
      ]
     },
     "execution_count": 2,
     "metadata": {},
     "output_type": "execute_result"
    },
    {
     "data": {
      "text/plain": [
       "True"
      ]
     },
     "execution_count": 2,
     "metadata": {},
     "output_type": "execute_result"
    },
    {
     "data": {
      "text/plain": [
       "True"
      ]
     },
     "execution_count": 2,
     "metadata": {},
     "output_type": "execute_result"
    },
    {
     "name": "stdout",
     "output_type": "stream",
     "text": [
      "Done\n"
     ]
    },
    {
     "data": {
      "text/plain": [
       "True"
      ]
     },
     "execution_count": 2,
     "metadata": {},
     "output_type": "execute_result"
    },
    {
     "data": {
      "text/plain": [
       "True"
      ]
     },
     "execution_count": 2,
     "metadata": {},
     "output_type": "execute_result"
    },
    {
     "data": {
      "text/plain": [
       "True"
      ]
     },
     "execution_count": 2,
     "metadata": {},
     "output_type": "execute_result"
    },
    {
     "data": {
      "text/plain": [
       "True"
      ]
     },
     "execution_count": 2,
     "metadata": {},
     "output_type": "execute_result"
    },
    {
     "data": {
      "text/plain": [
       "True"
      ]
     },
     "execution_count": 2,
     "metadata": {},
     "output_type": "execute_result"
    },
    {
     "data": {
      "text/plain": [
       "True"
      ]
     },
     "execution_count": 2,
     "metadata": {},
     "output_type": "execute_result"
    },
    {
     "data": {
      "text/plain": [
       "True"
      ]
     },
     "execution_count": 2,
     "metadata": {},
     "output_type": "execute_result"
    },
    {
     "data": {
      "text/plain": [
       "True"
      ]
     },
     "execution_count": 2,
     "metadata": {},
     "output_type": "execute_result"
    },
    {
     "data": {
      "text/plain": [
       "True"
      ]
     },
     "execution_count": 2,
     "metadata": {},
     "output_type": "execute_result"
    },
    {
     "data": {
      "text/plain": [
       "True"
      ]
     },
     "execution_count": 2,
     "metadata": {},
     "output_type": "execute_result"
    },
    {
     "data": {
      "text/plain": [
       "True"
      ]
     },
     "execution_count": 2,
     "metadata": {},
     "output_type": "execute_result"
    },
    {
     "data": {
      "text/plain": [
       "True"
      ]
     },
     "execution_count": 2,
     "metadata": {},
     "output_type": "execute_result"
    },
    {
     "data": {
      "text/plain": [
       "True"
      ]
     },
     "execution_count": 2,
     "metadata": {},
     "output_type": "execute_result"
    },
    {
     "data": {
      "text/plain": [
       "True"
      ]
     },
     "execution_count": 2,
     "metadata": {},
     "output_type": "execute_result"
    },
    {
     "data": {
      "text/plain": [
       "True"
      ]
     },
     "execution_count": 2,
     "metadata": {},
     "output_type": "execute_result"
    },
    {
     "data": {
      "text/plain": [
       "True"
      ]
     },
     "execution_count": 2,
     "metadata": {},
     "output_type": "execute_result"
    },
    {
     "data": {
      "text/plain": [
       "True"
      ]
     },
     "execution_count": 2,
     "metadata": {},
     "output_type": "execute_result"
    },
    {
     "name": "stdout",
     "output_type": "stream",
     "text": [
      "Done\n"
     ]
    },
    {
     "data": {
      "text/plain": [
       "True"
      ]
     },
     "execution_count": 2,
     "metadata": {},
     "output_type": "execute_result"
    },
    {
     "data": {
      "text/plain": [
       "True"
      ]
     },
     "execution_count": 2,
     "metadata": {},
     "output_type": "execute_result"
    },
    {
     "data": {
      "text/plain": [
       "True"
      ]
     },
     "execution_count": 2,
     "metadata": {},
     "output_type": "execute_result"
    },
    {
     "data": {
      "text/plain": [
       "True"
      ]
     },
     "execution_count": 2,
     "metadata": {},
     "output_type": "execute_result"
    },
    {
     "data": {
      "text/plain": [
       "True"
      ]
     },
     "execution_count": 2,
     "metadata": {},
     "output_type": "execute_result"
    },
    {
     "data": {
      "text/plain": [
       "True"
      ]
     },
     "execution_count": 2,
     "metadata": {},
     "output_type": "execute_result"
    },
    {
     "data": {
      "text/plain": [
       "True"
      ]
     },
     "execution_count": 2,
     "metadata": {},
     "output_type": "execute_result"
    },
    {
     "data": {
      "text/plain": [
       "True"
      ]
     },
     "execution_count": 2,
     "metadata": {},
     "output_type": "execute_result"
    },
    {
     "data": {
      "text/plain": [
       "True"
      ]
     },
     "execution_count": 2,
     "metadata": {},
     "output_type": "execute_result"
    },
    {
     "data": {
      "text/plain": [
       "True"
      ]
     },
     "execution_count": 2,
     "metadata": {},
     "output_type": "execute_result"
    },
    {
     "data": {
      "text/plain": [
       "True"
      ]
     },
     "execution_count": 2,
     "metadata": {},
     "output_type": "execute_result"
    },
    {
     "data": {
      "text/plain": [
       "True"
      ]
     },
     "execution_count": 2,
     "metadata": {},
     "output_type": "execute_result"
    },
    {
     "data": {
      "text/plain": [
       "True"
      ]
     },
     "execution_count": 2,
     "metadata": {},
     "output_type": "execute_result"
    },
    {
     "data": {
      "text/plain": [
       "True"
      ]
     },
     "execution_count": 2,
     "metadata": {},
     "output_type": "execute_result"
    },
    {
     "data": {
      "text/plain": [
       "True"
      ]
     },
     "execution_count": 2,
     "metadata": {},
     "output_type": "execute_result"
    },
    {
     "data": {
      "text/plain": [
       "True"
      ]
     },
     "execution_count": 2,
     "metadata": {},
     "output_type": "execute_result"
    },
    {
     "data": {
      "text/plain": [
       "True"
      ]
     },
     "execution_count": 2,
     "metadata": {},
     "output_type": "execute_result"
    },
    {
     "data": {
      "text/plain": [
       "True"
      ]
     },
     "execution_count": 2,
     "metadata": {},
     "output_type": "execute_result"
    },
    {
     "data": {
      "text/plain": [
       "True"
      ]
     },
     "execution_count": 2,
     "metadata": {},
     "output_type": "execute_result"
    },
    {
     "data": {
      "text/plain": [
       "True"
      ]
     },
     "execution_count": 2,
     "metadata": {},
     "output_type": "execute_result"
    },
    {
     "data": {
      "text/plain": [
       "True"
      ]
     },
     "execution_count": 2,
     "metadata": {},
     "output_type": "execute_result"
    },
    {
     "data": {
      "text/plain": [
       "True"
      ]
     },
     "execution_count": 2,
     "metadata": {},
     "output_type": "execute_result"
    },
    {
     "name": "stdout",
     "output_type": "stream",
     "text": [
      "Done\n"
     ]
    },
    {
     "data": {
      "text/plain": [
       "True"
      ]
     },
     "execution_count": 2,
     "metadata": {},
     "output_type": "execute_result"
    },
    {
     "data": {
      "text/plain": [
       "True"
      ]
     },
     "execution_count": 2,
     "metadata": {},
     "output_type": "execute_result"
    },
    {
     "data": {
      "text/plain": [
       "True"
      ]
     },
     "execution_count": 2,
     "metadata": {},
     "output_type": "execute_result"
    },
    {
     "data": {
      "text/plain": [
       "True"
      ]
     },
     "execution_count": 2,
     "metadata": {},
     "output_type": "execute_result"
    },
    {
     "data": {
      "text/plain": [
       "True"
      ]
     },
     "execution_count": 2,
     "metadata": {},
     "output_type": "execute_result"
    },
    {
     "data": {
      "text/plain": [
       "True"
      ]
     },
     "execution_count": 2,
     "metadata": {},
     "output_type": "execute_result"
    },
    {
     "data": {
      "text/plain": [
       "True"
      ]
     },
     "execution_count": 2,
     "metadata": {},
     "output_type": "execute_result"
    },
    {
     "data": {
      "text/plain": [
       "True"
      ]
     },
     "execution_count": 2,
     "metadata": {},
     "output_type": "execute_result"
    },
    {
     "data": {
      "text/plain": [
       "True"
      ]
     },
     "execution_count": 2,
     "metadata": {},
     "output_type": "execute_result"
    },
    {
     "data": {
      "text/plain": [
       "True"
      ]
     },
     "execution_count": 2,
     "metadata": {},
     "output_type": "execute_result"
    },
    {
     "data": {
      "text/plain": [
       "True"
      ]
     },
     "execution_count": 2,
     "metadata": {},
     "output_type": "execute_result"
    },
    {
     "data": {
      "text/plain": [
       "True"
      ]
     },
     "execution_count": 2,
     "metadata": {},
     "output_type": "execute_result"
    },
    {
     "data": {
      "text/plain": [
       "True"
      ]
     },
     "execution_count": 2,
     "metadata": {},
     "output_type": "execute_result"
    },
    {
     "data": {
      "text/plain": [
       "True"
      ]
     },
     "execution_count": 2,
     "metadata": {},
     "output_type": "execute_result"
    },
    {
     "data": {
      "text/plain": [
       "True"
      ]
     },
     "execution_count": 2,
     "metadata": {},
     "output_type": "execute_result"
    },
    {
     "data": {
      "text/plain": [
       "True"
      ]
     },
     "execution_count": 2,
     "metadata": {},
     "output_type": "execute_result"
    },
    {
     "data": {
      "text/plain": [
       "True"
      ]
     },
     "execution_count": 2,
     "metadata": {},
     "output_type": "execute_result"
    },
    {
     "data": {
      "text/plain": [
       "True"
      ]
     },
     "execution_count": 2,
     "metadata": {},
     "output_type": "execute_result"
    },
    {
     "data": {
      "text/plain": [
       "True"
      ]
     },
     "execution_count": 2,
     "metadata": {},
     "output_type": "execute_result"
    },
    {
     "data": {
      "text/plain": [
       "True"
      ]
     },
     "execution_count": 2,
     "metadata": {},
     "output_type": "execute_result"
    },
    {
     "data": {
      "text/plain": [
       "True"
      ]
     },
     "execution_count": 2,
     "metadata": {},
     "output_type": "execute_result"
    },
    {
     "data": {
      "text/plain": [
       "True"
      ]
     },
     "execution_count": 2,
     "metadata": {},
     "output_type": "execute_result"
    },
    {
     "data": {
      "text/plain": [
       "True"
      ]
     },
     "execution_count": 2,
     "metadata": {},
     "output_type": "execute_result"
    },
    {
     "data": {
      "text/plain": [
       "True"
      ]
     },
     "execution_count": 2,
     "metadata": {},
     "output_type": "execute_result"
    },
    {
     "data": {
      "text/plain": [
       "True"
      ]
     },
     "execution_count": 2,
     "metadata": {},
     "output_type": "execute_result"
    },
    {
     "data": {
      "text/plain": [
       "True"
      ]
     },
     "execution_count": 2,
     "metadata": {},
     "output_type": "execute_result"
    },
    {
     "data": {
      "text/plain": [
       "True"
      ]
     },
     "execution_count": 2,
     "metadata": {},
     "output_type": "execute_result"
    },
    {
     "data": {
      "text/plain": [
       "True"
      ]
     },
     "execution_count": 2,
     "metadata": {},
     "output_type": "execute_result"
    },
    {
     "data": {
      "text/plain": [
       "True"
      ]
     },
     "execution_count": 2,
     "metadata": {},
     "output_type": "execute_result"
    },
    {
     "data": {
      "text/plain": [
       "True"
      ]
     },
     "execution_count": 2,
     "metadata": {},
     "output_type": "execute_result"
    },
    {
     "data": {
      "text/plain": [
       "True"
      ]
     },
     "execution_count": 2,
     "metadata": {},
     "output_type": "execute_result"
    },
    {
     "data": {
      "text/plain": [
       "True"
      ]
     },
     "execution_count": 2,
     "metadata": {},
     "output_type": "execute_result"
    },
    {
     "data": {
      "text/plain": [
       "True"
      ]
     },
     "execution_count": 2,
     "metadata": {},
     "output_type": "execute_result"
    },
    {
     "data": {
      "text/plain": [
       "True"
      ]
     },
     "execution_count": 2,
     "metadata": {},
     "output_type": "execute_result"
    },
    {
     "data": {
      "text/plain": [
       "True"
      ]
     },
     "execution_count": 2,
     "metadata": {},
     "output_type": "execute_result"
    },
    {
     "data": {
      "text/plain": [
       "True"
      ]
     },
     "execution_count": 2,
     "metadata": {},
     "output_type": "execute_result"
    },
    {
     "data": {
      "text/plain": [
       "True"
      ]
     },
     "execution_count": 2,
     "metadata": {},
     "output_type": "execute_result"
    },
    {
     "data": {
      "text/plain": [
       "True"
      ]
     },
     "execution_count": 2,
     "metadata": {},
     "output_type": "execute_result"
    },
    {
     "data": {
      "text/plain": [
       "True"
      ]
     },
     "execution_count": 2,
     "metadata": {},
     "output_type": "execute_result"
    },
    {
     "name": "stdout",
     "output_type": "stream",
     "text": [
      "Done\n"
     ]
    }
   ],
   "source": [
    "max_steps = 10000\n",
    "episodes = 100\n",
    "env = gym.make('CartPole-v0')\n",
    "\n",
    "for episode in range(episodes):\n",
    "    state = env.reset()\n",
    "    for steps in range(max_steps):\n",
    "        env.render()\n",
    "        action = env.action_space.sample()\n",
    "        #action, log_prob = net.get_action(state)\n",
    "        new_state, reward, done, _ = env.step(action)\n",
    "        #log_probs.append(log_prob)\n",
    "        #rewards.append(reward)\n",
    "        if done:\n",
    "            print('Done')\n",
    "            break\n",
    "        \n",
    "env.close()\n"
   ]
  },
  {
   "cell_type": "code",
   "execution_count": 11,
   "metadata": {
    "ExecuteTime": {
     "end_time": "2019-09-28T09:24:39.045972Z",
     "start_time": "2019-09-28T09:24:39.038614Z"
    }
   },
   "outputs": [],
   "source": [
    "env.close()"
   ]
  },
  {
   "cell_type": "code",
   "execution_count": 6,
   "metadata": {
    "ExecuteTime": {
     "end_time": "2019-09-28T17:08:20.729806Z",
     "start_time": "2019-09-28T17:08:20.726965Z"
    }
   },
   "outputs": [],
   "source": [
    "import numpy as np"
   ]
  },
  {
   "cell_type": "code",
   "execution_count": 7,
   "metadata": {
    "ExecuteTime": {
     "end_time": "2019-09-28T17:08:21.142310Z",
     "start_time": "2019-09-28T17:08:21.137882Z"
    }
   },
   "outputs": [],
   "source": [
    "gamma = .9\n",
    "\n",
    "def discount_rewards(rewards):\n",
    "    discounted_rewards = np.zeros_like(rewards)\n",
    "    running_add = 0\n",
    "    for t in reversed(range(0, len(rewards))):\n",
    "        if rewards[t] != 0:\n",
    "            running_add = 0\n",
    "        running_add = running_add * gamma + rewards[t]\n",
    "        discounted_rewards[t] = running_add\n",
    "    return discounted_rewards"
   ]
  },
  {
   "cell_type": "code",
   "execution_count": 10,
   "metadata": {
    "ExecuteTime": {
     "end_time": "2019-09-28T17:23:30.005476Z",
     "start_time": "2019-09-28T17:23:29.994498Z"
    }
   },
   "outputs": [
    {
     "data": {
      "text/plain": [
       "array([[ 10],\n",
       "       [  1],\n",
       "       [  1],\n",
       "       [ 10],\n",
       "       [ 10],\n",
       "       [  1],\n",
       "       [ 10],\n",
       "       [100]])"
      ]
     },
     "execution_count": 10,
     "metadata": {},
     "output_type": "execute_result"
    }
   ],
   "source": [
    "rewards = [10, 1, 1, 10, 10, 1, 10, 100]\n",
    "discount_rewards(np.vstack(rewards))\n"
   ]
  },
  {
   "cell_type": "code",
   "execution_count": 11,
   "metadata": {
    "ExecuteTime": {
     "end_time": "2019-09-28T17:36:02.942707Z",
     "start_time": "2019-09-28T17:36:02.932757Z"
    }
   },
   "outputs": [
    {
     "data": {
      "text/plain": [
       "array([ 10,   1,   1,  10,  10,   1,  10, 100])"
      ]
     },
     "execution_count": 11,
     "metadata": {},
     "output_type": "execute_result"
    }
   ],
   "source": [
    "np.squeeze(np.vstack(rewards))\n"
   ]
  },
  {
   "cell_type": "code",
   "execution_count": 13,
   "metadata": {
    "ExecuteTime": {
     "end_time": "2019-09-28T18:39:27.119629Z",
     "start_time": "2019-09-28T18:39:27.104547Z"
    }
   },
   "outputs": [
    {
     "name": "stdout",
     "output_type": "stream",
     "text": [
      "\u001b[5m\u001b[7m\u001b[31mHello, World!\u001b[0m\n",
      "\u001b[41m\u001b[32mHello, World!\u001b[0m\n",
      "\u001b[46m\u001b[31mHello, World!\u001b[0m\n",
      "\u001b[46m\u001b[31mHello, Universe!\u001b[0m\n",
      "\u001b[35m0\u001b[0m \u001b[35m1\u001b[0m \u001b[35m2\u001b[0m \u001b[35m3\u001b[0m \u001b[35m4\u001b[0m \u001b[35m5\u001b[0m \u001b[35m6\u001b[0m \u001b[35m7\u001b[0m \u001b[35m8\u001b[0m \u001b[35m9\u001b[0m "
     ]
    },
    {
     "name": "stderr",
     "output_type": "stream",
     "text": [
      "\u001b[1m\u001b[31mAttention!\u001b[0m\n"
     ]
    }
   ],
   "source": [
    "import sys\n",
    "from termcolor import colored, cprint\n",
    "\n",
    "text = colored('Hello, World!', 'red', attrs=['reverse', 'blink'])\n",
    "print(text)\n",
    "cprint('Hello, World!', 'green', 'on_red')\n",
    "\n",
    "print_red_on_cyan = lambda x: cprint(x, 'red', 'on_cyan')\n",
    "print_red_on_cyan('Hello, World!')\n",
    "print_red_on_cyan('Hello, Universe!')\n",
    "\n",
    "for i in range(10):\n",
    "    cprint(i, 'magenta', end=' ')\n",
    "\n",
    "cprint(\"Attention!\", 'red', attrs=['bold'], file=sys.stderr)"
   ]
  },
  {
   "cell_type": "code",
   "execution_count": 28,
   "metadata": {
    "ExecuteTime": {
     "end_time": "2019-09-28T22:23:31.475844Z",
     "start_time": "2019-09-28T22:23:31.471053Z"
    }
   },
   "outputs": [
    {
     "name": "stdout",
     "output_type": "stream",
     "text": [
      "\u001b[1m\u001b[7m\u001b[41m\u001b[34mSamy va a lecole\u001b[0m\n"
     ]
    }
   ],
   "source": [
    "text = colored('Samy va a lecole', 'blue', 'on_red', attrs=['reverse', 'bold'])\n",
    "print(text)"
   ]
  },
  {
   "cell_type": "code",
   "execution_count": 31,
   "metadata": {
    "ExecuteTime": {
     "end_time": "2019-09-28T22:24:00.643274Z",
     "start_time": "2019-09-28T22:24:00.639777Z"
    }
   },
   "outputs": [
    {
     "name": "stderr",
     "output_type": "stream",
     "text": [
      "\u001b[1m\u001b[34mSamy va a lecole\u001b[0m\n"
     ]
    }
   ],
   "source": [
    "cprint('Samy va a lecole', 'blue', attrs=[ 'bold'], file=sys.stderr)"
   ]
  },
  {
   "cell_type": "code",
   "execution_count": 26,
   "metadata": {
    "ExecuteTime": {
     "end_time": "2019-09-28T20:47:33.159145Z",
     "start_time": "2019-09-28T20:47:33.148228Z"
    }
   },
   "outputs": [
    {
     "name": "stdout",
     "output_type": "stream",
     "text": [
      "\u001b[1m\u001b[36mForward\u001b[0m > \u001b[1m\u001b[35mLeft\u001b[0m > \u001b[1m\u001b[35mLeft\u001b[0m > \u001b[1m\u001b[33mRight\u001b[0m > \u001b[1m\u001b[36mForward\u001b[0m > \u001b[1m\u001b[36mForward\u001b[0m > \u001b[1m\u001b[33mRight\u001b[0m\n"
     ]
    }
   ],
   "source": [
    "actions = ['Forward', 'Left', 'Left', 'Right', 'Forward', 'Forward', 'Right']\n",
    "\n",
    "text = ' > '.join([colored(act, 'cyan', attrs=['bold']) if act == 'Forward' else colored(act, 'magenta', attrs=['bold']) if act == 'Left' else colored(act, 'yellow', attrs=['bold']) for act in actions])\n",
    "print(text)\n",
    "\n"
   ]
  },
  {
   "cell_type": "code",
   "execution_count": 32,
   "metadata": {
    "ExecuteTime": {
     "end_time": "2019-09-28T22:30:48.993939Z",
     "start_time": "2019-09-28T22:30:48.977681Z"
    }
   },
   "outputs": [
    {
     "data": {
      "text/plain": [
       "'Left Align      Centered     Right Align'"
      ]
     },
     "execution_count": 32,
     "metadata": {},
     "output_type": "execute_result"
    }
   ],
   "source": [
    "left_aligned = \"Left Align\"\n",
    "center = \"Centered\"\n",
    "right_aligned = \"Right Align\"\n",
    "\"{left_aligned:<15}{center:^10}{right_aligned:>15}\".format(left_aligned=left_aligned, center=center, right_aligned=right_aligned)\n"
   ]
  },
  {
   "cell_type": "code",
   "execution_count": 38,
   "metadata": {
    "ExecuteTime": {
     "end_time": "2019-09-28T22:34:29.753470Z",
     "start_time": "2019-09-28T22:34:29.743132Z"
    }
   },
   "outputs": [
    {
     "data": {
      "text/plain": [
       "'Left            Centered    Right'"
      ]
     },
     "execution_count": 38,
     "metadata": {},
     "output_type": "execute_result"
    }
   ],
   "source": [
    "left_aligned = \"Left\"\n",
    "center = \"Centered\"\n",
    "right_aligned = \"Right\"\n",
    "\"{left_aligned:<15}{center:^10}{right_aligned:>8}\".format(left_aligned=left_aligned, center=center, right_aligned=right_aligned)\n",
    "\n"
   ]
  },
  {
   "cell_type": "code",
   "execution_count": 37,
   "metadata": {
    "ExecuteTime": {
     "end_time": "2019-09-28T22:33:33.112283Z",
     "start_time": "2019-09-28T22:33:33.108284Z"
    }
   },
   "outputs": [
    {
     "data": {
      "text/plain": [
       "40"
      ]
     },
     "execution_count": 37,
     "metadata": {},
     "output_type": "execute_result"
    }
   ],
   "source": [
    "'Left            Centered    Right'\n",
    "len('Left            Centered           Right')"
   ]
  },
  {
   "cell_type": "code",
   "execution_count": 72,
   "metadata": {
    "ExecuteTime": {
     "end_time": "2019-09-28T22:52:42.661860Z",
     "start_time": "2019-09-28T22:52:42.656111Z"
    }
   },
   "outputs": [
    {
     "name": "stdout",
     "output_type": "stream",
     "text": [
      "\u001b[1m\u001b[7m\u001b[32mActions    :\u001b[0m Left > Right > Right > Forward > Left > Left > Forward > Right > Right\n",
      "             > Left > Left > Right > Forward > Right > Right > Forward > Left >\n",
      "             Left\n"
     ]
    }
   ],
   "source": [
    "actions = ['Left', 'Right', 'Right', 'Forward', 'Left', 'Left', 'Forward', 'Right', 'Right', 'Left', 'Left', 'Right', 'Forward', 'Right', 'Right', 'Forward', 'Left', 'Left']\n",
    "linked_actions = ' > '.join(actions)\n",
    "linked_actions = textwrap.wrap(linked_actions)\n",
    "linked_actions = [(13* ' ') + line if ix > 0 else line for ix,line in enumerate(linked_actions)]\n",
    "text = colored('Actions    :', 'green', attrs=['reverse','bold']) + ' ' + '\\n'.join(linked_actions)\n",
    "print(text)\n",
    "\n",
    "\n",
    "\n"
   ]
  },
  {
   "cell_type": "code",
   "execution_count": 45,
   "metadata": {
    "ExecuteTime": {
     "end_time": "2019-09-28T22:39:54.679222Z",
     "start_time": "2019-09-28T22:39:54.669421Z"
    }
   },
   "outputs": [
    {
     "data": {
      "text/plain": [
       "'Left > Right > Right > Forward > Left > Left > Forward > Right > Right > Left > Left > Right > Forward > Right > Right > Forward > Left > Left'"
      ]
     },
     "execution_count": 45,
     "metadata": {},
     "output_type": "execute_result"
    }
   ],
   "source": [
    "linked_actions"
   ]
  },
  {
   "cell_type": "code",
   "execution_count": 46,
   "metadata": {
    "ExecuteTime": {
     "end_time": "2019-09-28T22:41:12.590966Z",
     "start_time": "2019-09-28T22:41:12.578104Z"
    }
   },
   "outputs": [
    {
     "name": "stdout",
     "output_type": "stream",
     "text": [
      "       Come and see the violence inherent in the system. Help! Help! I'm        \n",
      "       being repressed! Listen, strange women lyin' in ponds distributin'       \n",
      "     swords is no basis for a system of government. Supreme executive power     \n",
      "     derives from a mandate from the masses, not from some farcical aquatic     \n",
      "     ceremony. The Lady of the Lake, her arm clad in the purest shimmering      \n",
      "     samite held aloft Excalibur from the bosom of the water, signifying by     \n",
      "     divine providence that I, Arthur, was to carry Excalibur. THAT is why      \n",
      "                                I am your king.                                 \n"
     ]
    }
   ],
   "source": [
    "import textwrap\n",
    "\n",
    "text = \"Come and see the violence inherent in the system. Help! Help! I'm being repressed! Listen, strange women lyin' in ponds distributin' swords is no basis for a system of government. Supreme executive power derives from a mandate from the masses, not from some farcical aquatic ceremony. The Lady of the Lake, her arm clad in the purest shimmering samite held aloft Excalibur from the bosom of the water, signifying by divine providence that I, Arthur, was to carry Excalibur. THAT is why I am your king.\"    \n",
    "\n",
    "wrapped_text = textwrap.wrap(text)\n",
    "for line in wrapped_text:\n",
    "    print(line.center(80))"
   ]
  },
  {
   "cell_type": "code",
   "execution_count": 70,
   "metadata": {
    "ExecuteTime": {
     "end_time": "2019-09-28T22:51:36.633226Z",
     "start_time": "2019-09-28T22:51:36.627686Z"
    }
   },
   "outputs": [
    {
     "name": "stdout",
     "output_type": "stream",
     "text": [
      "Left > Right > Right > Forward > Left > Left > Forward > Right > Right\n",
      "          > Left > Left > Right > Forward > Right > Right > Forward > Left >\n",
      "          Left\n"
     ]
    }
   ],
   "source": [
    "t = textwrap.wrap(linked_actions)\n",
    "t = [(10* ' ') + line if ix > 0 else line for ix,line in enumerate(t)]\n",
    "print('\\n'.join(t))"
   ]
  },
  {
   "cell_type": "code",
   "execution_count": 53,
   "metadata": {
    "ExecuteTime": {
     "end_time": "2019-09-28T22:45:30.828768Z",
     "start_time": "2019-09-28T22:45:30.824849Z"
    }
   },
   "outputs": [],
   "source": [
    "import string\n",
    "def reindent(s, numSpaces):\n",
    "    s = str.split(s, '\\n')\n",
    "    s = [(numSpaces * ' ') + str.lstrip(line) for line in s]\n",
    "    s = '\\n'.join(s)\n",
    "    return s"
   ]
  },
  {
   "cell_type": "code",
   "execution_count": 54,
   "metadata": {
    "ExecuteTime": {
     "end_time": "2019-09-28T22:45:31.374738Z",
     "start_time": "2019-09-28T22:45:31.370432Z"
    }
   },
   "outputs": [
    {
     "data": {
      "text/plain": [
       "'        Left > Right > Right > Forward > Left > Left > Forward > Right > Right > Left > Left > Right > Forward > Right > Right > Forward > Left > Left'"
      ]
     },
     "execution_count": 54,
     "metadata": {},
     "output_type": "execute_result"
    }
   ],
   "source": [
    "reindent(linked_actions, 8)"
   ]
  },
  {
   "cell_type": "code",
   "execution_count": null,
   "metadata": {},
   "outputs": [],
   "source": []
  },
  {
   "cell_type": "code",
   "execution_count": null,
   "metadata": {},
   "outputs": [],
   "source": []
  }
 ],
 "metadata": {
  "kernelspec": {
   "display_name": "Python 3",
   "language": "python",
   "name": "python3"
  },
  "language_info": {
   "codemirror_mode": {
    "name": "ipython",
    "version": 3
   },
   "file_extension": ".py",
   "mimetype": "text/x-python",
   "name": "python",
   "nbconvert_exporter": "python",
   "pygments_lexer": "ipython3",
   "version": "3.7.3"
  },
  "latex_envs": {
   "LaTeX_envs_menu_present": true,
   "autoclose": false,
   "autocomplete": true,
   "bibliofile": "biblio.bib",
   "cite_by": "apalike",
   "current_citInitial": 1,
   "eqLabelWithNumbers": true,
   "eqNumInitial": 1,
   "hotkeys": {
    "equation": "Ctrl-E",
    "itemize": "Ctrl-I"
   },
   "labels_anchors": false,
   "latex_user_defs": false,
   "report_style_numbering": false,
   "user_envs_cfg": false
  }
 },
 "nbformat": 4,
 "nbformat_minor": 2
}
